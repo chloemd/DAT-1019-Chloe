{
 "cells": [
  {
   "cell_type": "markdown",
   "metadata": {},
   "source": [
    "### Web Scraping Lab\n",
    "\n",
    "Welcome!  In today's lab we're going to build a web scraper that's going to build a dataset from restaurant listings on a yelp page.  \n",
    "\n",
    "You can find the web page here: https://www.yelp.com/search?find_desc=Restaurants&find_loc=London%2C%20United%20Kingdom&ns=1\n",
    "\n",
    "The lab questions listed herein will naturally build from the material discussed in class."
   ]
  },
  {
   "cell_type": "markdown",
   "metadata": {},
   "source": [
    "#### Step 1:  Scrape the number of reviews for each restaurant\n",
    "\n",
    "Using a similar methodology we used to find the title of the restaurant find the number of reviews for the 30 restaurants listed on this web page.\n",
    "\n",
    "**Hint:** the `isdigit()` string method will be helpful to detect if a string contains a number."
   ]
  },
  {
   "cell_type": "code",
   "execution_count": null,
   "metadata": {},
   "outputs": [],
   "source": [
    "# your code here"
   ]
  },
  {
   "cell_type": "markdown",
   "metadata": {},
   "source": [
    "#### Step 2:  Find the price range for each restaurant\n",
    "\n",
    "Let's create data for the price range of each restaurant as well, as denoted by the $ \\unicode{x00A3} $ symbol listed on each website.\n",
    "\n",
    "**Hint 1:** The information that you need for this was selected using the same criteria to find the number of reviews.\n",
    "\n",
    "**Hint 2:** You type the $ \\unicode{x00A3} $ symbol in python with the expression `\\xA3`"
   ]
  },
  {
   "cell_type": "code",
   "execution_count": null,
   "metadata": {},
   "outputs": [],
   "source": [
    "# your code here"
   ]
  },
  {
   "cell_type": "markdown",
   "metadata": {},
   "source": [
    "#### Step 3:  Build a Dataframe For the Title, # of Ratings and Price Range of Each Restaurant\n",
    "\n",
    "You will need to create a dictionary structured in the following way:\n",
    "\n",
    "` {\n",
    "    'Title': [list with the titles of each restaurant],\n",
    "    'NumRatings': [list with the number of ratings of each restaurant],\n",
    "    'Price Range': [list with the price range of each restaurant]\n",
    "}`"
   ]
  },
  {
   "cell_type": "code",
   "execution_count": null,
   "metadata": {},
   "outputs": [],
   "source": [
    "# your code here"
   ]
  }
 ],
 "metadata": {
  "kernelspec": {
   "display_name": "Python 3",
   "language": "python",
   "name": "python3"
  },
  "language_info": {
   "codemirror_mode": {
    "name": "ipython",
    "version": 3
   },
   "file_extension": ".py",
   "mimetype": "text/x-python",
   "name": "python",
   "nbconvert_exporter": "python",
   "pygments_lexer": "ipython3",
   "version": "3.7.3"
  }
 },
 "nbformat": 4,
 "nbformat_minor": 4
}
