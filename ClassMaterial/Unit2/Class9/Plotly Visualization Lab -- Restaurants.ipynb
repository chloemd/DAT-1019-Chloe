{
 "cells": [
  {
   "cell_type": "markdown",
   "metadata": {},
   "source": [
    "### Visualization Lab\n",
    "\n",
    "Welcome to today's lab!  The primary gist of today's lab will be to visually explore our dataset using the plot.ly visualization library.  You can find its documentation here:  https://plotly.com/python/\n",
    "\n",
    "This lab will be longer form, and is designed to walk you through the fundamentals of using plot.lys `express` and `graph_object` libraries to further enhance your visualizations.\n",
    "\n",
    "However, it is **not** meant to be an exhaustive introduction to everything plot.ly can offer -- that would take too much time.  However, we should have a solid understanding of how to use it to visually capture information within our data."
   ]
  },
  {
   "cell_type": "markdown",
   "metadata": {},
   "source": [
    "### Section 1:  Working With Time\n",
    "\n",
    "To begin, we'll start using line charts with time, and different ways to visualize their dynamics.\n",
    "\n",
    "The simplest possible way to do this is with `px.line` charts, as we'll see below."
   ]
  },
  {
   "cell_type": "code",
   "execution_count": null,
   "metadata": {},
   "outputs": [],
   "source": [
    "import pandas as pd\n",
    "import numpy as np\n",
    "import plotly.express as px\n",
    "\n",
    "# replace this file path with your own!\n",
    "df = pd.read_csv('../data/restaurant data/master.csv', parse_dates=['visit_date'])"
   ]
  },
  {
   "cell_type": "code",
   "execution_count": null,
   "metadata": {},
   "outputs": [],
   "source": [
    "# the basic syntax for a line chart\n",
    "# you pass in your dataframe as the first argument\n",
    "# define the x & y - axis\n",
    "# notice we do the grouping -- this is used to create a clean, one-dimensional line chart\n",
    "data = df.groupby('visit_date')['visitors'].sum().reset_index()\n",
    "px.line(data, x='visit_date', y='visitors', title='Daily Visitors Over Time')"
   ]
  },
  {
   "cell_type": "markdown",
   "metadata": {},
   "source": [
    "**Your Turn**: See if you can create a line chart showing reservations over time"
   ]
  },
  {
   "cell_type": "code",
   "execution_count": null,
   "metadata": {},
   "outputs": [],
   "source": [
    "# your answer here"
   ]
  },
  {
   "cell_type": "markdown",
   "metadata": {},
   "source": [
    "#### Stratified Line Charts\n",
    "\n",
    "Lots of times we would want to see an overall trend for individual units -- like restaurants.  \n",
    "\n",
    "This is easy enough to do using the `color` argument."
   ]
  },
  {
   "cell_type": "code",
   "execution_count": null,
   "metadata": {},
   "outputs": [],
   "source": [
    "# notice we are not doing a grouping -- this would remove the data at the restaurant level\n",
    "px.line(df, x='visit_date', y='visitors', color='id', title='Daily Visitors For Individual Restaurants')"
   ]
  },
  {
   "cell_type": "markdown",
   "metadata": {},
   "source": [
    "This is okay -- but maybe still a bit crowded.  Let's see if we can stratify a bit more using the `facet_row` and `facet_col` arguments, which allow you to further break down a chart into small subcomponents based on categorical values from another column.\n",
    "\n",
    "In this example, we'll break everything down by `genre`"
   ]
  },
  {
   "cell_type": "code",
   "execution_count": null,
   "metadata": {},
   "outputs": [],
   "source": [
    "# this will get attendance, broken down by genre -- makes the graphs present easier\n",
    "data = df.groupby(['visit_date', 'genre'])['visitors'].sum().reset_index()\n",
    "# and then we go ahead and create a line chart out of it\n",
    "px.line(data, x='visit_date', y='visitors', facet_row='genre',\n",
    "        title='Restaurant Attendance Broken Down by Genre',\n",
    "        height=2000)"
   ]
  },
  {
   "cell_type": "markdown",
   "metadata": {},
   "source": [
    "One issue that frequently comes up with subplots that have large numbers items is that it can be difficult to get the spacing correct.  The above chart is a little messy to my eye.  One issue to have more control over this is the `make_subplots` function, which returns a `graph.figure` that will give you more control over appearance.\n",
    "\n",
    "Importantly here -- this function is not compatible with `plotly.express` so we have to use the more powerful but more verbose `graph_object` to configure the plot.\n",
    "\n",
    "Let's see how it works."
   ]
  },
  {
   "cell_type": "code",
   "execution_count": null,
   "metadata": {},
   "outputs": [],
   "source": [
    "# notice we create a graph_object -- NOT a plotly.express line chart\n",
    "from plotly.subplots import make_subplots\n",
    "import plotly.graph_objects as go\n",
    "\n",
    "# number of columns is number of unique values of genre\n",
    "fig = make_subplots(cols=1, rows=data.genre.nunique(),\n",
    "                    # this controls how much space shows up between each subplot -- useful for controlling layout\n",
    "                    # the smaller this is, the less space appears between figures -- you can also use horizontal spacing\n",
    "                    vertical_spacing =.02,\n",
    "                    # this will cause the title of each subplot to show up on top\n",
    "                    subplot_titles = data.genre.unique().tolist())\n",
    "\n",
    "# we'll loop through each unique value of a genre and add it as a trace\n",
    "for idx, genre in enumerate(data.genre.unique(), start=1):\n",
    "    # go.scatter is plotly's low level version of a line chart\n",
    "    fig.add_trace(go.Scatter(x=data[data.genre == genre]['visit_date'], y=data[data.genre == genre]['visitors']), col=1, row=idx)\n",
    "\n",
    "# the update_layout() function is very useful for controlling small visual details of what shows up in your chart\n",
    "# in this case, we are making the legend disappear and adding the title and height\n",
    "fig.update_layout(showlegend=False, title='Attendance By Genre', height=2800)"
   ]
  },
  {
   "cell_type": "markdown",
   "metadata": {},
   "source": [
    "The above chart looks better to my eye -- it's laid out appropriately, and it's easier to compare values along different axes.  It's also a good example of how you might need to skip `plotly.express` from time to time to get the appropriate results."
   ]
  },
  {
   "cell_type": "markdown",
   "metadata": {},
   "source": [
    "**Your Turn:** Using what was covered in the previous cells, see if you can create your own line chart, using some combination of `facet_col`, `facet_row`, `color`, and `make_subplots`.  Take about 10-15 minutes."
   ]
  },
  {
   "cell_type": "code",
   "execution_count": null,
   "metadata": {},
   "outputs": [],
   "source": [
    "# your answer here"
   ]
  },
  {
   "cell_type": "markdown",
   "metadata": {},
   "source": [
    "### Scatter Plots\n",
    "\n",
    "The syntax for most `plot.ly express` charts is very much the same across charts, we won't need to repeat ourselves very much to go from one visual to the next.  \n",
    "\n",
    "Instead, it might be easiest to run a few cells and see how everything works."
   ]
  },
  {
   "cell_type": "code",
   "execution_count": null,
   "metadata": {},
   "outputs": [],
   "source": [
    "# create a grouping for the chart\n",
    "data = df.groupby('visit_date')[['visitors', 'reserve_visitors']].sum().reset_index()\n",
    "# create a column for day of the week to use for later charts\n",
    "data['day'] = data.visit_date.dt.day_name()\n",
    "\n",
    "# simple scatter chart\n",
    "px.scatter(data, x='visitors', y='reserve_visitors')"
   ]
  },
  {
   "cell_type": "code",
   "execution_count": null,
   "metadata": {},
   "outputs": [],
   "source": [
    "# scatter chart with colors\n",
    "px.scatter(data, x='visitors', y='reserve_visitors', color='day', title='Visits vs. Reservations, by Date')"
   ]
  },
  {
   "cell_type": "code",
   "execution_count": null,
   "metadata": {
    "scrolled": true
   },
   "outputs": [],
   "source": [
    "# scatter plot with day, using a col wrap\n",
    "px.scatter(data, x='visitors', y='reserve_visitors', facet_col='day', height=350)"
   ]
  },
  {
   "cell_type": "code",
   "execution_count": null,
   "metadata": {},
   "outputs": [],
   "source": [
    "# scatter chart w/ trendline + colors\n",
    "# there is a trendline for each unique day -- if you removed the color, there would just be one unique trend\n",
    "px.scatter(data, x='visitors', y='reserve_visitors', color='day', trendline='ols', title='Visits vs. Reservations, by Date')"
   ]
  },
  {
   "cell_type": "code",
   "execution_count": null,
   "metadata": {},
   "outputs": [],
   "source": [
    "# all of the above, but the points are also scaled for size\n",
    "px.scatter(data, x='visitors', y='reserve_visitors',\n",
    "           color='day', \n",
    "           size='visitors', \n",
    "           title='Visits vs. Reservations, by Date, Scaled By Visits')"
   ]
  },
  {
   "cell_type": "markdown",
   "metadata": {},
   "source": [
    "**Your Turn:** In a similar vein to what was done above, try re-creating a scatter plot to capture some aspect of the data set that piques your interest."
   ]
  },
  {
   "cell_type": "code",
   "execution_count": null,
   "metadata": {},
   "outputs": [],
   "source": [
    "# your answer here"
   ]
  },
  {
   "cell_type": "markdown",
   "metadata": {},
   "source": [
    "### Bar Charts\n",
    "\n",
    "We know them, we love them -- they're old fashioned, but that's only because they've been proven to work.  Bar charts are the quintessential way of visualizing all sorts of data -- so let's see how they work inside plot.ly"
   ]
  },
  {
   "cell_type": "code",
   "execution_count": null,
   "metadata": {},
   "outputs": [],
   "source": [
    "# simple bar chart -- we're going to use the same grouping from the previous cells -- recreate it if you need to\n",
    "px.bar(data, x='day', y='visitors', barmode='group')"
   ]
  },
  {
   "cell_type": "code",
   "execution_count": null,
   "metadata": {},
   "outputs": [],
   "source": [
    "# different barmode group -- gives you a slightly different appearance\n",
    "px.bar(data, x='day', y='visitors', barmode='overlay')"
   ]
  },
  {
   "cell_type": "code",
   "execution_count": null,
   "metadata": {},
   "outputs": [],
   "source": [
    "# we'll add color -- in a similar way that we did before\n",
    "data['year'] = data.visit_date.dt.year\n",
    "# and use this as a color overlay\n",
    "px.bar(data, x='day', y='visitors', barmode='group', color='year')"
   ]
  },
  {
   "cell_type": "markdown",
   "metadata": {},
   "source": [
    "Notice this is a continuous color palette, since the year column is technically an integer.  If we wanted a discrete color palette -- probably more appropriate in this instance, we could just change it to a string."
   ]
  },
  {
   "cell_type": "code",
   "execution_count": null,
   "metadata": {},
   "outputs": [],
   "source": [
    "# we'll add color -- in a similar way that we did before\n",
    "data['year'] = data.visit_date.dt.year.astype(str)\n",
    "# and use this as a color overlay\n",
    "px.bar(data, x='day', y='visitors', barmode='group', color='year', title='Visitors by Day, Year Over Year')"
   ]
  },
  {
   "cell_type": "markdown",
   "metadata": {},
   "source": [
    "For the next chart we'll try and do something a little fancier -- facet_columns + rows, with error bars added in."
   ]
  },
  {
   "cell_type": "code",
   "execution_count": null,
   "metadata": {},
   "outputs": [],
   "source": [
    "# create a new grouping -- this time using holidays as part of our grouping\n",
    "data = df.groupby(['visit_date', 'holiday'])[['visitors']].mean().reset_index()\n",
    "# extract the time parts\n",
    "data['day'] = data.visit_date.dt.day_name()\n",
    "data['year'] = data.visit_date.dt.year.astype(str)\n",
    "\n",
    "# and create a new bar chart with some additional options\n",
    "px.bar(data, x='day', y='visitors', facet_col='holiday', facet_row='year', height=800, color='day')"
   ]
  },
  {
   "cell_type": "markdown",
   "metadata": {},
   "source": [
    "**Your Turn:** Try your hand at creating one of these, using data categories that you wish."
   ]
  },
  {
   "cell_type": "code",
   "execution_count": null,
   "metadata": {},
   "outputs": [],
   "source": [
    "# your answer here"
   ]
  },
  {
   "cell_type": "markdown",
   "metadata": {},
   "source": [
    "### Spatial Maps\n",
    "\n",
    "A big benefit of Plotly compared to other graphing libraries such as seaborn or matplotlib is that it has wider out of the box support for a fairly large amount of charts that are very contemporary.  \n",
    "\n",
    "Particularly, it provides comprehensive support for spatial data, which is otherwise difficult to find in the python ecosystem.  \n",
    "\n",
    "The dataset we have been using has latitude and longitude columns, but so far these have not been used for anything.  Let's see how we can use these to visualize our data spatially.\n",
    "\n",
    "There are 4-5 different spatial charts you can render, but if you just have latitude and longitude columns and nothing else then the `scatter_mapbox` is the easiest to work with."
   ]
  },
  {
   "cell_type": "code",
   "execution_count": null,
   "metadata": {},
   "outputs": [],
   "source": [
    "px.scatter_mapbox(df, lat=\"latitude\", lon=\"longitude\", color=\"reserve_visitors\", size=\"visitors\",\n",
    "                  color_continuous_scale=px.colors.cyclical.IceFire, size_max=15, zoom=10,\n",
    "                  mapbox_style=\"carto-positron\")"
   ]
  },
  {
   "cell_type": "markdown",
   "metadata": {},
   "source": [
    "What's useful here is that spatial charts work exactly the same as others -- you just need to provide the latitude and longitude values instead of X & y."
   ]
  },
  {
   "cell_type": "markdown",
   "metadata": {},
   "source": [
    "**Your Turn:** Create a similar map, except only include restaurants that are located in `'Fukuoka-ken'` by extracting that information from the `area` column."
   ]
  },
  {
   "cell_type": "code",
   "execution_count": null,
   "metadata": {},
   "outputs": [],
   "source": [
    "# your answer here"
   ]
  },
  {
   "cell_type": "markdown",
   "metadata": {},
   "source": [
    "#### Distribution Charts\n",
    "\n",
    "The final major category of charts we're going to look at are distribution charts -- charts that you give you some idea of the numeric shape of your data.  \n",
    "\n",
    "These would be histograms, boxplots, and the like.  \n",
    "\n",
    "The syntax for these works in a manner analogous to others, so let's just make note of how these charts render and some of their more interesting options."
   ]
  },
  {
   "cell_type": "markdown",
   "metadata": {},
   "source": [
    "**Boxplots**"
   ]
  },
  {
   "cell_type": "code",
   "execution_count": null,
   "metadata": {},
   "outputs": [],
   "source": [
    "# visitors by day, broken down by holiday\n",
    "px.box(data, x=\"day\", y=\"visitors\", color=\"holiday\")"
   ]
  },
  {
   "cell_type": "markdown",
   "metadata": {},
   "source": [
    "Here's a violin plot, which demonstrates something similar, except areas bulge where there are more samples."
   ]
  },
  {
   "cell_type": "code",
   "execution_count": null,
   "metadata": {},
   "outputs": [],
   "source": [
    "# visitors by day, broken down by holiday \n",
    "px.violin(data, x=\"day\", y=\"visitors\", color=\"holiday\")"
   ]
  },
  {
   "cell_type": "markdown",
   "metadata": {},
   "source": [
    "And here's our trusted friend -- the histogram"
   ]
  },
  {
   "cell_type": "code",
   "execution_count": null,
   "metadata": {},
   "outputs": [],
   "source": [
    "# standard\n",
    "px.histogram(data, x='visitors')"
   ]
  },
  {
   "cell_type": "code",
   "execution_count": null,
   "metadata": {},
   "outputs": [],
   "source": [
    "# if you want overlays, just add in something for the 'color' argument\n",
    "px.histogram(data, x='visitors', color='holiday')"
   ]
  },
  {
   "cell_type": "code",
   "execution_count": null,
   "metadata": {},
   "outputs": [],
   "source": [
    "# or of course, if we wanted to break this down into smaller components we could\n",
    "# notice facet_col_wrap -- allows you to stack subplots across multiple rows + columns\n",
    "px.histogram(data, x='visitors', color='holiday', facet_col='day', height=1200, facet_col_wrap=2)"
   ]
  },
  {
   "cell_type": "markdown",
   "metadata": {},
   "source": [
    "**Your Turn:** Take 10-15 minutes to try and re-create some distribution plots of your own."
   ]
  },
  {
   "cell_type": "code",
   "execution_count": null,
   "metadata": {},
   "outputs": [],
   "source": [
    "# your answer here"
   ]
  },
  {
   "cell_type": "markdown",
   "metadata": {},
   "source": [
    "### Animation Frames\n",
    "\n",
    "Another really nice feature of plotly compared to its peers it allows you to make charts that have interactivity built into them.  Similar to quick filters in Tableau or other BI tools.  The `animation_frame` argument makes it easy to see how charts might change when you use different values for another column.\n",
    "\n",
    "As an example, here's the scatter plot that demonstrates `visitors` vs `reserve_visitors`:"
   ]
  },
  {
   "cell_type": "code",
   "execution_count": null,
   "metadata": {},
   "outputs": [],
   "source": [
    "# create a grouping for the chart\n",
    "data = df.groupby('visit_date')[['visitors', 'reserve_visitors']].sum().reset_index()\n",
    "# create a column for day of the week to use for later charts\n",
    "data['day'] = data.visit_date.dt.day_name()\n",
    "\n",
    "# simple scatter chart\n",
    "px.scatter(data, x='visitors', y='reserve_visitors')"
   ]
  },
  {
   "cell_type": "markdown",
   "metadata": {},
   "source": [
    "Before, we use the `day of the week` to break things down by color.  However, that didn't necessarily provide a lot of insight with respect to how the relationship between the two actually changed from day to day -- even though the chart was prettier.  An animation frame makes it a lot easier to isolate the same version of that chart, but for different days of the week."
   ]
  },
  {
   "cell_type": "code",
   "execution_count": null,
   "metadata": {},
   "outputs": [],
   "source": [
    "# scatter chart with an animation frame\n",
    "a = px.scatter(data, x='visitors', y='reserve_visitors', animation_frame='day',\n",
    "           title='Visits vs. Reservations, By Day',\n",
    "           height=500)"
   ]
  },
  {
   "cell_type": "markdown",
   "metadata": {},
   "source": [
    "As you can see -- this is a very intuitive way to analyze data that's much more dynamic than just a regular chart.  They are also useful for creating timelines.  It also allows you to mimic more expensive BI tools that have costly licenses.  "
   ]
  },
  {
   "cell_type": "markdown",
   "metadata": {},
   "source": [
    "**Your Turn:** Take 10-15 minutes, and try and re-do some of your previous charts using animation frames to make them more interactive."
   ]
  },
  {
   "cell_type": "code",
   "execution_count": null,
   "metadata": {},
   "outputs": [],
   "source": [
    "# your answer here"
   ]
  },
  {
   "cell_type": "markdown",
   "metadata": {},
   "source": [
    "### Using Plotly as a Backend for Pandas\n",
    "\n",
    "If you want to use plotly directly within pandas via the `plot` function you can, easily enough.  \n",
    "\n",
    "Just use the following code:  "
   ]
  },
  {
   "cell_type": "code",
   "execution_count": null,
   "metadata": {},
   "outputs": [],
   "source": [
    "# run this to set plotly as the default back end\n",
    "pd.options.plotting.backend = \"plotly\""
   ]
  },
  {
   "cell_type": "code",
   "execution_count": null,
   "metadata": {},
   "outputs": [],
   "source": [
    "# and now we get our plotly charts automatically\n",
    "df.groupby(['visit_date'])['visitors'].sum().plot()"
   ]
  },
  {
   "cell_type": "code",
   "execution_count": null,
   "metadata": {},
   "outputs": [],
   "source": [
    "# we can do other fun things with it as well\n",
    "df.groupby(['visit_date', 'genre'])['visitors'].sum().reset_index().plot(x='visit_date', y='visitors', animation_frame='genre')"
   ]
  }
 ],
 "metadata": {
  "kernelspec": {
   "display_name": "Python 3",
   "language": "python",
   "name": "python3"
  },
  "language_info": {
   "codemirror_mode": {
    "name": "ipython",
    "version": 3
   },
   "file_extension": ".py",
   "mimetype": "text/x-python",
   "name": "python",
   "nbconvert_exporter": "python",
   "pygments_lexer": "ipython3",
   "version": "3.7.3"
  }
 },
 "nbformat": 4,
 "nbformat_minor": 4
}
