{
 "cells": [
  {
   "cell_type": "markdown",
   "metadata": {},
   "source": [
    "### Pandas Lab -- Grouping & Merging\n",
    "\n",
    "Welcome to today's lab!  It will come in two different parts:  \n",
    "\n",
    "One section will be devoted to using the `groupby` method in order to answer different questions about our data.  \n",
    "\n",
    "The second portion will be devoted towards combining grouping & merging to create summary statistics -- one of the more important features you can add to a dataset for statistical modeling.  "
   ]
  },
  {
   "cell_type": "markdown",
   "metadata": {},
   "source": [
    "### Section I - Grouping"
   ]
  },
  {
   "cell_type": "markdown",
   "metadata": {},
   "source": [
    "**Question 1:** What restaurant had the highest total amount of visitors throughout the dataset?"
   ]
  },
  {
   "cell_type": "code",
   "execution_count": 8,
   "metadata": {},
   "outputs": [],
   "source": [
    "# your answer here\n",
    "import pandas as pd\n",
    "import numpy as np\n",
    "df = pd.read_csv(r\"C:\\Users\\chloe\\Data Science\\DAT-10-19\\ClassMaterial\\Unit2\\data\\restaurants.csv\", parse_dates=['visit_date'])"
   ]
  },
  {
   "cell_type": "code",
   "execution_count": 9,
   "metadata": {},
   "outputs": [
    {
     "data": {
      "text/plain": [
       "'air_399904bdb7685ca0'"
      ]
     },
     "execution_count": 9,
     "metadata": {},
     "output_type": "execute_result"
    }
   ],
   "source": [
    "# the restaurant \n",
    "df.groupby('id')['visitors'].sum().idxmax()"
   ]
  },
  {
   "cell_type": "code",
   "execution_count": 10,
   "metadata": {},
   "outputs": [
    {
     "data": {
      "text/html": [
       "<div>\n",
       "<style scoped>\n",
       "    .dataframe tbody tr th:only-of-type {\n",
       "        vertical-align: middle;\n",
       "    }\n",
       "\n",
       "    .dataframe tbody tr th {\n",
       "        vertical-align: top;\n",
       "    }\n",
       "\n",
       "    .dataframe thead th {\n",
       "        text-align: right;\n",
       "    }\n",
       "</style>\n",
       "<table border=\"1\" class=\"dataframe\">\n",
       "  <thead>\n",
       "    <tr style=\"text-align: right;\">\n",
       "      <th></th>\n",
       "      <th>visitors</th>\n",
       "    </tr>\n",
       "    <tr>\n",
       "      <th>id</th>\n",
       "      <th></th>\n",
       "    </tr>\n",
       "  </thead>\n",
       "  <tbody>\n",
       "    <tr>\n",
       "      <th>air_399904bdb7685ca0</th>\n",
       "      <td>18717</td>\n",
       "    </tr>\n",
       "  </tbody>\n",
       "</table>\n",
       "</div>"
      ],
      "text/plain": [
       "                      visitors\n",
       "id                            \n",
       "air_399904bdb7685ca0     18717"
      ]
     },
     "execution_count": 10,
     "metadata": {},
     "output_type": "execute_result"
    }
   ],
   "source": [
    "# restaurant with the amount attached\n",
    "visits = df.groupby('id')[['visitors']].sum()\n",
    "idx    = visits.idxmax()\n",
    "visits.loc[idx, :]"
   ]
  },
  {
   "cell_type": "markdown",
   "metadata": {},
   "source": [
    "**Question 2:** What was the average difference in attendance between holidays & non-holidays for each restaurant?"
   ]
  },
  {
   "cell_type": "code",
   "execution_count": null,
   "metadata": {},
   "outputs": [],
   "source": [
    "df.columns"
   ]
  },
  {
   "cell_type": "code",
   "execution_count": null,
   "metadata": {},
   "outputs": [],
   "source": [
    "# your answer here\n",
    "df.groupby('holiday')['visitors'].mean()"
   ]
  },
  {
   "cell_type": "code",
   "execution_count": null,
   "metadata": {},
   "outputs": [],
   "source": [
    "# if you wanted to get the difference between them\n",
    "df.groupby('holiday')['visitors'].mean().diff()"
   ]
  },
  {
   "cell_type": "markdown",
   "metadata": {},
   "source": [
    "**Question 3:** Can you grab the first 15 rows of dates for each restaurant?  The last 15 rows?"
   ]
  },
  {
   "cell_type": "code",
   "execution_count": null,
   "metadata": {},
   "outputs": [],
   "source": [
    "# your answer here -- first 15 rows\n",
    "df.groupby('id').apply(lambda x: x.iloc[:15])"
   ]
  },
  {
   "cell_type": "code",
   "execution_count": null,
   "metadata": {},
   "outputs": [],
   "source": [
    "# the last 15 rows\n",
    "df.groupby('id').apply(lambda x: x.iloc[-15:])"
   ]
  },
  {
   "cell_type": "markdown",
   "metadata": {},
   "source": [
    "**Question 4:** Grab the quarterley sales for each individual restaurant within our dataset"
   ]
  },
  {
   "cell_type": "code",
   "execution_count": null,
   "metadata": {},
   "outputs": [],
   "source": [
    "# your answer here -- notice the use of the date parts within the groupby -- without necessarily creating them\n",
    "df.groupby(['id', df.visit_date.dt.year, df.visit_date.dt.quarter])['visitors'].sum()"
   ]
  },
  {
   "cell_type": "markdown",
   "metadata": {},
   "source": [
    "**Question 6:** What restaurant had the highest amount of reservations?"
   ]
  },
  {
   "cell_type": "code",
   "execution_count": null,
   "metadata": {},
   "outputs": [],
   "source": [
    "# your answer here -- to get both answers, see the previous solution\n",
    "df.groupby('id')['reserve_visitors'].sum().idxmax()"
   ]
  },
  {
   "cell_type": "markdown",
   "metadata": {},
   "source": [
    "**Question 7:** What is the total number of missing entries for each restaurant?  "
   ]
  },
  {
   "cell_type": "code",
   "execution_count": null,
   "metadata": {},
   "outputs": [],
   "source": [
    "# your answer here\n",
    "df.groupby('id').apply(lambda x: x.isnull().sum().sum())"
   ]
  },
  {
   "cell_type": "markdown",
   "metadata": {},
   "source": [
    "**Question 8:**  Create two variables, `train` and `test`.  Make `train` a dataset that contains all but the **last 15 rows** for each restaurant.  Make `test` the last 15 rows for each restaurant."
   ]
  },
  {
   "cell_type": "code",
   "execution_count": null,
   "metadata": {},
   "outputs": [],
   "source": [
    "# we'll make sure our dataset is sorted properly first\n",
    "df = df.sort_values(by=['id', 'visit_date'], ascending=[True, True])\n",
    "# and then apply our lambda functions\n",
    "train = df.groupby('id').apply(lambda x: x.iloc[:-15])\n",
    "test  = df.groupby('id').apply(lambda x: x.iloc[:-15])"
   ]
  },
  {
   "cell_type": "markdown",
   "metadata": {},
   "source": [
    "### Grouping & Merging\n",
    "\n",
    "In this section of the lab, we are going to create different types of summary statistics -- where the rows for an individual sample can be compared with a larger group statistic.\n",
    "\n",
    "**Bonus:** If you want to make this a little bit more effective, instead of using the entire `df`, try using a grouping from the `train` variable you just created, and use the grouping's values to populate both the training and test sets."
   ]
  },
  {
   "cell_type": "markdown",
   "metadata": {},
   "source": [
    "Use the technique discussed in class to create columns for the following stats:"
   ]
  },
  {
   "cell_type": "markdown",
   "metadata": {},
   "source": [
    "**Question 1:** Create columns that list the average, median and standard deviation of visitors for each restaurant"
   ]
  },
  {
   "cell_type": "code",
   "execution_count": 12,
   "metadata": {},
   "outputs": [],
   "source": [
    "# your answer here\n",
    "id_vals = df.groupby('id')['visitors'].agg(['mean', 'median', 'std']).rename({'mean': 'id-mean', 'median': 'id-median', 'std': 'id-std'}, axis=1)\n",
    "df = df.merge(id_vals, left_on=['id'], right_index=True, how='left')"
   ]
  },
  {
   "cell_type": "markdown",
   "metadata": {},
   "source": [
    "**Question 2:** Create a column that lists the average and median sales amount for each restaurant on a particular day of the week."
   ]
  },
  {
   "cell_type": "code",
   "execution_count": 15,
   "metadata": {},
   "outputs": [],
   "source": [
    "# your answer here\n",
    "id_day_vals = df.groupby(['id', 'day_of_week'])['visitors'].agg(['mean', 'median', 'std']).rename({'mean': 'id-day-mean', 'median': 'id-day-median', 'std': 'id-day-std'}, axis=1)\n",
    "df = df.merge(id_day_vals, left_on=['id', 'day_of_week'], right_index=True, how='left')"
   ]
  },
  {
   "cell_type": "code",
   "execution_count": 16,
   "metadata": {},
   "outputs": [
    {
     "data": {
      "text/html": [
       "<div>\n",
       "<style scoped>\n",
       "    .dataframe tbody tr th:only-of-type {\n",
       "        vertical-align: middle;\n",
       "    }\n",
       "\n",
       "    .dataframe tbody tr th {\n",
       "        vertical-align: top;\n",
       "    }\n",
       "\n",
       "    .dataframe thead th {\n",
       "        text-align: right;\n",
       "    }\n",
       "</style>\n",
       "<table border=\"1\" class=\"dataframe\">\n",
       "  <thead>\n",
       "    <tr style=\"text-align: right;\">\n",
       "      <th></th>\n",
       "      <th>id</th>\n",
       "      <th>visit_date</th>\n",
       "      <th>visitors</th>\n",
       "      <th>calendar_date</th>\n",
       "      <th>day_of_week</th>\n",
       "      <th>holiday</th>\n",
       "      <th>genre</th>\n",
       "      <th>area</th>\n",
       "      <th>latitude</th>\n",
       "      <th>longitude</th>\n",
       "      <th>...</th>\n",
       "      <th>city</th>\n",
       "      <th>city-day-mean_x</th>\n",
       "      <th>city-day-median_x</th>\n",
       "      <th>city-day-std_x</th>\n",
       "      <th>city-day-mean_y</th>\n",
       "      <th>city-day-median_y</th>\n",
       "      <th>city-day-std_y</th>\n",
       "      <th>id-day-mean</th>\n",
       "      <th>id-day-median</th>\n",
       "      <th>id-day-std</th>\n",
       "    </tr>\n",
       "  </thead>\n",
       "  <tbody>\n",
       "    <tr>\n",
       "      <th>0</th>\n",
       "      <td>air_ba937bf13d40fb24</td>\n",
       "      <td>2016-01-13</td>\n",
       "      <td>25</td>\n",
       "      <td>2016-01-13</td>\n",
       "      <td>Wednesday</td>\n",
       "      <td>0</td>\n",
       "      <td>Dining bar</td>\n",
       "      <td>Tōkyō-to Minato-ku Shibakōen</td>\n",
       "      <td>35.658068</td>\n",
       "      <td>139.751599</td>\n",
       "      <td>...</td>\n",
       "      <td>Tōkyō-to</td>\n",
       "      <td>17.279815</td>\n",
       "      <td>14.0</td>\n",
       "      <td>14.095815</td>\n",
       "      <td>17.279815</td>\n",
       "      <td>14.0</td>\n",
       "      <td>14.095815</td>\n",
       "      <td>23.843750</td>\n",
       "      <td>25.0</td>\n",
       "      <td>9.294509</td>\n",
       "    </tr>\n",
       "    <tr>\n",
       "      <th>1</th>\n",
       "      <td>air_ba937bf13d40fb24</td>\n",
       "      <td>2016-01-14</td>\n",
       "      <td>32</td>\n",
       "      <td>2016-01-14</td>\n",
       "      <td>Thursday</td>\n",
       "      <td>0</td>\n",
       "      <td>Dining bar</td>\n",
       "      <td>Tōkyō-to Minato-ku Shibakōen</td>\n",
       "      <td>35.658068</td>\n",
       "      <td>139.751599</td>\n",
       "      <td>...</td>\n",
       "      <td>Tōkyō-to</td>\n",
       "      <td>17.216386</td>\n",
       "      <td>14.0</td>\n",
       "      <td>13.499177</td>\n",
       "      <td>17.216386</td>\n",
       "      <td>14.0</td>\n",
       "      <td>13.499177</td>\n",
       "      <td>20.292308</td>\n",
       "      <td>21.0</td>\n",
       "      <td>9.584693</td>\n",
       "    </tr>\n",
       "    <tr>\n",
       "      <th>2</th>\n",
       "      <td>air_ba937bf13d40fb24</td>\n",
       "      <td>2016-01-15</td>\n",
       "      <td>29</td>\n",
       "      <td>2016-01-15</td>\n",
       "      <td>Friday</td>\n",
       "      <td>0</td>\n",
       "      <td>Dining bar</td>\n",
       "      <td>Tōkyō-to Minato-ku Shibakōen</td>\n",
       "      <td>35.658068</td>\n",
       "      <td>139.751599</td>\n",
       "      <td>...</td>\n",
       "      <td>Tōkyō-to</td>\n",
       "      <td>21.139069</td>\n",
       "      <td>18.0</td>\n",
       "      <td>15.878096</td>\n",
       "      <td>21.139069</td>\n",
       "      <td>18.0</td>\n",
       "      <td>15.878096</td>\n",
       "      <td>34.738462</td>\n",
       "      <td>35.0</td>\n",
       "      <td>10.868931</td>\n",
       "    </tr>\n",
       "    <tr>\n",
       "      <th>3</th>\n",
       "      <td>air_ba937bf13d40fb24</td>\n",
       "      <td>2016-01-16</td>\n",
       "      <td>22</td>\n",
       "      <td>2016-01-16</td>\n",
       "      <td>Saturday</td>\n",
       "      <td>0</td>\n",
       "      <td>Dining bar</td>\n",
       "      <td>Tōkyō-to Minato-ku Shibakōen</td>\n",
       "      <td>35.658068</td>\n",
       "      <td>139.751599</td>\n",
       "      <td>...</td>\n",
       "      <td>Tōkyō-to</td>\n",
       "      <td>21.605400</td>\n",
       "      <td>18.0</td>\n",
       "      <td>15.962822</td>\n",
       "      <td>21.605400</td>\n",
       "      <td>18.0</td>\n",
       "      <td>15.962822</td>\n",
       "      <td>27.651515</td>\n",
       "      <td>27.0</td>\n",
       "      <td>10.936871</td>\n",
       "    </tr>\n",
       "    <tr>\n",
       "      <th>4</th>\n",
       "      <td>air_ba937bf13d40fb24</td>\n",
       "      <td>2016-01-18</td>\n",
       "      <td>6</td>\n",
       "      <td>2016-01-18</td>\n",
       "      <td>Monday</td>\n",
       "      <td>0</td>\n",
       "      <td>Dining bar</td>\n",
       "      <td>Tōkyō-to Minato-ku Shibakōen</td>\n",
       "      <td>35.658068</td>\n",
       "      <td>139.751599</td>\n",
       "      <td>...</td>\n",
       "      <td>Tōkyō-to</td>\n",
       "      <td>14.001575</td>\n",
       "      <td>10.0</td>\n",
       "      <td>13.510167</td>\n",
       "      <td>14.001575</td>\n",
       "      <td>10.0</td>\n",
       "      <td>13.510167</td>\n",
       "      <td>13.754386</td>\n",
       "      <td>12.0</td>\n",
       "      <td>7.349151</td>\n",
       "    </tr>\n",
       "  </tbody>\n",
       "</table>\n",
       "<p>5 rows × 27 columns</p>\n",
       "</div>"
      ],
      "text/plain": [
       "                     id visit_date  visitors calendar_date day_of_week  \\\n",
       "0  air_ba937bf13d40fb24 2016-01-13        25    2016-01-13   Wednesday   \n",
       "1  air_ba937bf13d40fb24 2016-01-14        32    2016-01-14    Thursday   \n",
       "2  air_ba937bf13d40fb24 2016-01-15        29    2016-01-15      Friday   \n",
       "3  air_ba937bf13d40fb24 2016-01-16        22    2016-01-16    Saturday   \n",
       "4  air_ba937bf13d40fb24 2016-01-18         6    2016-01-18      Monday   \n",
       "\n",
       "   holiday       genre                          area   latitude   longitude  \\\n",
       "0        0  Dining bar  Tōkyō-to Minato-ku Shibakōen  35.658068  139.751599   \n",
       "1        0  Dining bar  Tōkyō-to Minato-ku Shibakōen  35.658068  139.751599   \n",
       "2        0  Dining bar  Tōkyō-to Minato-ku Shibakōen  35.658068  139.751599   \n",
       "3        0  Dining bar  Tōkyō-to Minato-ku Shibakōen  35.658068  139.751599   \n",
       "4        0  Dining bar  Tōkyō-to Minato-ku Shibakōen  35.658068  139.751599   \n",
       "\n",
       "   ...      city  city-day-mean_x  city-day-median_x  city-day-std_x  \\\n",
       "0  ...  Tōkyō-to        17.279815               14.0       14.095815   \n",
       "1  ...  Tōkyō-to        17.216386               14.0       13.499177   \n",
       "2  ...  Tōkyō-to        21.139069               18.0       15.878096   \n",
       "3  ...  Tōkyō-to        21.605400               18.0       15.962822   \n",
       "4  ...  Tōkyō-to        14.001575               10.0       13.510167   \n",
       "\n",
       "   city-day-mean_y  city-day-median_y  city-day-std_y id-day-mean  \\\n",
       "0        17.279815               14.0       14.095815   23.843750   \n",
       "1        17.216386               14.0       13.499177   20.292308   \n",
       "2        21.139069               18.0       15.878096   34.738462   \n",
       "3        21.605400               18.0       15.962822   27.651515   \n",
       "4        14.001575               10.0       13.510167   13.754386   \n",
       "\n",
       "   id-day-median  id-day-std  \n",
       "0           25.0    9.294509  \n",
       "1           21.0    9.584693  \n",
       "2           35.0   10.868931  \n",
       "3           27.0   10.936871  \n",
       "4           12.0    7.349151  \n",
       "\n",
       "[5 rows x 27 columns]"
      ]
     },
     "execution_count": 16,
     "metadata": {},
     "output_type": "execute_result"
    }
   ],
   "source": [
    "df.head()"
   ]
  },
  {
   "cell_type": "markdown",
   "metadata": {},
   "source": [
    "**Question 3:** Create columns that display the average and median sales amount for each genre in each city on each day of the week.  Create a column called `city` that captures the first value of `area` in order to this.  Values should be `Tokyo`, `Hiroshima`, etc.  **Hint:** You should use the `str` attribute combined with `split` in order to do this."
   ]
  },
  {
   "cell_type": "code",
   "execution_count": 14,
   "metadata": {},
   "outputs": [],
   "source": [
    "# your answer here\n",
    "df['city'] = df['area'].str.split().str[0]\n",
    "day_city_vals = df.groupby(['genre', 'city', 'day_of_week'])['visitors'].agg(['mean', 'median', 'std']).rename({'mean': 'city-day-mean', 'median': 'city-day-median', 'std': 'city-day-std'}, axis=1)\n",
    "df = df.merge(day_city_vals, left_on=['genre', 'city', 'day_of_week'], right_index=True, how='left')"
   ]
  },
  {
   "cell_type": "code",
   "execution_count": null,
   "metadata": {},
   "outputs": [],
   "source": []
  },
  {
   "cell_type": "code",
   "execution_count": null,
   "metadata": {},
   "outputs": [],
   "source": []
  }
 ],
 "metadata": {
  "kernelspec": {
   "display_name": "Python 3",
   "language": "python",
   "name": "python3"
  },
  "language_info": {
   "codemirror_mode": {
    "name": "ipython",
    "version": 3
   },
   "file_extension": ".py",
   "mimetype": "text/x-python",
   "name": "python",
   "nbconvert_exporter": "python",
   "pygments_lexer": "ipython3",
   "version": "3.8.3"
  }
 },
 "nbformat": 4,
 "nbformat_minor": 4
}
