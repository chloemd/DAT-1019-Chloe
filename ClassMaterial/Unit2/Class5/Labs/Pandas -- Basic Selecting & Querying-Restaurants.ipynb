{
 "cells": [
  {
   "cell_type": "markdown",
   "metadata": {},
   "source": [
    "### Pandas Lab -- Basic Selecting & Querying\n",
    "\n",
    "This lab walks you through various sections of Pandas syntax for grabbing & selecting data.\n",
    "\n",
    "The lab is broken down into three parts, and will be completed throughout class.\n",
    "\n",
    " - 1. Basic selectors with Pandas\n",
    " - 2. Selecting based on conditions & boolean indexes\n",
    " - 3. Special commands for selecting certain types of rows"
   ]
  },
  {
   "cell_type": "code",
   "execution_count": 11,
   "metadata": {},
   "outputs": [],
   "source": [
    "import pandas as pd\n",
    "import numpy as np"
   ]
  },
  {
   "cell_type": "code",
   "execution_count": 10,
   "metadata": {},
   "outputs": [
    {
     "ename": "NameError",
     "evalue": "name 'pd' is not defined",
     "output_type": "error",
     "traceback": [
      "\u001b[1;31m---------------------------------------------------------------------------\u001b[0m",
      "\u001b[1;31mNameError\u001b[0m                                 Traceback (most recent call last)",
      "\u001b[1;32m<ipython-input-10-78812f2e745a>\u001b[0m in \u001b[0;36m<module>\u001b[1;34m\u001b[0m\n\u001b[1;32m----> 1\u001b[1;33m \u001b[0mrestaurants\u001b[0m \u001b[1;33m=\u001b[0m \u001b[0mpd\u001b[0m\u001b[1;33m.\u001b[0m\u001b[0mread_csv\u001b[0m\u001b[1;33m(\u001b[0m\u001b[1;34mr\"C:\\Users\\chloe\\Data Science\\DAT-1019-Chloe\\ClassMaterial\\Unit2\\data\\restaurants.csv\"\u001b[0m\u001b[1;33m)\u001b[0m\u001b[1;33m\u001b[0m\u001b[1;33m\u001b[0m\u001b[0m\n\u001b[0m",
      "\u001b[1;31mNameError\u001b[0m: name 'pd' is not defined"
     ]
    }
   ],
   "source": [
    "restaurants = pd.read_csv(r\"C:\\Users\\chloe\\Data Science\\DAT-1019-Chloe\\ClassMaterial\\Unit2\\data\\restaurants.csv\")"
   ]
  },
  {
   "cell_type": "code",
   "execution_count": 3,
   "metadata": {},
   "outputs": [
    {
     "data": {
      "text/html": [
       "<div>\n",
       "<style scoped>\n",
       "    .dataframe tbody tr th:only-of-type {\n",
       "        vertical-align: middle;\n",
       "    }\n",
       "\n",
       "    .dataframe tbody tr th {\n",
       "        vertical-align: top;\n",
       "    }\n",
       "\n",
       "    .dataframe thead th {\n",
       "        text-align: right;\n",
       "    }\n",
       "</style>\n",
       "<table border=\"1\" class=\"dataframe\">\n",
       "  <thead>\n",
       "    <tr style=\"text-align: right;\">\n",
       "      <th></th>\n",
       "      <th>id</th>\n",
       "      <th>visit_date</th>\n",
       "      <th>visitors</th>\n",
       "      <th>calendar_date</th>\n",
       "      <th>day_of_week</th>\n",
       "      <th>holiday</th>\n",
       "      <th>genre</th>\n",
       "      <th>area</th>\n",
       "      <th>latitude</th>\n",
       "      <th>longitude</th>\n",
       "      <th>reserve_visitors</th>\n",
       "    </tr>\n",
       "  </thead>\n",
       "  <tbody>\n",
       "    <tr>\n",
       "      <th>0</th>\n",
       "      <td>air_ba937bf13d40fb24</td>\n",
       "      <td>2016-01-13</td>\n",
       "      <td>25</td>\n",
       "      <td>2016-01-13</td>\n",
       "      <td>Wednesday</td>\n",
       "      <td>0</td>\n",
       "      <td>Dining bar</td>\n",
       "      <td>Tōkyō-to Minato-ku Shibakōen</td>\n",
       "      <td>35.658068</td>\n",
       "      <td>139.751599</td>\n",
       "      <td>NaN</td>\n",
       "    </tr>\n",
       "    <tr>\n",
       "      <th>1</th>\n",
       "      <td>air_ba937bf13d40fb24</td>\n",
       "      <td>2016-01-14</td>\n",
       "      <td>32</td>\n",
       "      <td>2016-01-14</td>\n",
       "      <td>Thursday</td>\n",
       "      <td>0</td>\n",
       "      <td>Dining bar</td>\n",
       "      <td>Tōkyō-to Minato-ku Shibakōen</td>\n",
       "      <td>35.658068</td>\n",
       "      <td>139.751599</td>\n",
       "      <td>NaN</td>\n",
       "    </tr>\n",
       "    <tr>\n",
       "      <th>2</th>\n",
       "      <td>air_ba937bf13d40fb24</td>\n",
       "      <td>2016-01-15</td>\n",
       "      <td>29</td>\n",
       "      <td>2016-01-15</td>\n",
       "      <td>Friday</td>\n",
       "      <td>0</td>\n",
       "      <td>Dining bar</td>\n",
       "      <td>Tōkyō-to Minato-ku Shibakōen</td>\n",
       "      <td>35.658068</td>\n",
       "      <td>139.751599</td>\n",
       "      <td>NaN</td>\n",
       "    </tr>\n",
       "    <tr>\n",
       "      <th>3</th>\n",
       "      <td>air_ba937bf13d40fb24</td>\n",
       "      <td>2016-01-16</td>\n",
       "      <td>22</td>\n",
       "      <td>2016-01-16</td>\n",
       "      <td>Saturday</td>\n",
       "      <td>0</td>\n",
       "      <td>Dining bar</td>\n",
       "      <td>Tōkyō-to Minato-ku Shibakōen</td>\n",
       "      <td>35.658068</td>\n",
       "      <td>139.751599</td>\n",
       "      <td>NaN</td>\n",
       "    </tr>\n",
       "    <tr>\n",
       "      <th>4</th>\n",
       "      <td>air_ba937bf13d40fb24</td>\n",
       "      <td>2016-01-18</td>\n",
       "      <td>6</td>\n",
       "      <td>2016-01-18</td>\n",
       "      <td>Monday</td>\n",
       "      <td>0</td>\n",
       "      <td>Dining bar</td>\n",
       "      <td>Tōkyō-to Minato-ku Shibakōen</td>\n",
       "      <td>35.658068</td>\n",
       "      <td>139.751599</td>\n",
       "      <td>NaN</td>\n",
       "    </tr>\n",
       "  </tbody>\n",
       "</table>\n",
       "</div>"
      ],
      "text/plain": [
       "                     id  visit_date  visitors calendar_date day_of_week  \\\n",
       "0  air_ba937bf13d40fb24  2016-01-13        25    2016-01-13   Wednesday   \n",
       "1  air_ba937bf13d40fb24  2016-01-14        32    2016-01-14    Thursday   \n",
       "2  air_ba937bf13d40fb24  2016-01-15        29    2016-01-15      Friday   \n",
       "3  air_ba937bf13d40fb24  2016-01-16        22    2016-01-16    Saturday   \n",
       "4  air_ba937bf13d40fb24  2016-01-18         6    2016-01-18      Monday   \n",
       "\n",
       "   holiday       genre                          area   latitude   longitude  \\\n",
       "0        0  Dining bar  Tōkyō-to Minato-ku Shibakōen  35.658068  139.751599   \n",
       "1        0  Dining bar  Tōkyō-to Minato-ku Shibakōen  35.658068  139.751599   \n",
       "2        0  Dining bar  Tōkyō-to Minato-ku Shibakōen  35.658068  139.751599   \n",
       "3        0  Dining bar  Tōkyō-to Minato-ku Shibakōen  35.658068  139.751599   \n",
       "4        0  Dining bar  Tōkyō-to Minato-ku Shibakōen  35.658068  139.751599   \n",
       "\n",
       "   reserve_visitors  \n",
       "0               NaN  \n",
       "1               NaN  \n",
       "2               NaN  \n",
       "3               NaN  \n",
       "4               NaN  "
      ]
     },
     "execution_count": 3,
     "metadata": {},
     "output_type": "execute_result"
    }
   ],
   "source": [
    "restaurants.head()"
   ]
  },
  {
   "cell_type": "markdown",
   "metadata": {},
   "source": [
    "### Section 1:  Selecting Data With Pandas"
   ]
  },
  {
   "cell_type": "markdown",
   "metadata": {},
   "source": [
    "**1). What is the average number of visitors througout the entire dataset?**"
   ]
  },
  {
   "cell_type": "code",
   "execution_count": 4,
   "metadata": {},
   "outputs": [
    {
     "data": {
      "text/plain": [
       "20.973761245180636"
      ]
     },
     "execution_count": 4,
     "metadata": {},
     "output_type": "execute_result"
    }
   ],
   "source": [
    "restaurants['visitors'].mean()"
   ]
  },
  {
   "cell_type": "markdown",
   "metadata": {},
   "source": [
    "**2). What are the median values of the visitors and holiday columns?**"
   ]
  },
  {
   "cell_type": "code",
   "execution_count": 12,
   "metadata": {},
   "outputs": [
    {
     "data": {
      "text/plain": [
       "visitors    17.0\n",
       "holiday      0.0\n",
       "dtype: float64"
      ]
     },
     "execution_count": 12,
     "metadata": {},
     "output_type": "execute_result"
    }
   ],
   "source": [
    "# your answer here\n",
    "restaurants[['visitors','holiday']].median()"
   ]
  },
  {
   "cell_type": "markdown",
   "metadata": {},
   "source": [
    "**3). What was the lowest number of visitors among the first 5000 rows in the dataset?**"
   ]
  },
  {
   "cell_type": "code",
   "execution_count": 14,
   "metadata": {},
   "outputs": [
    {
     "data": {
      "text/plain": [
       "1"
      ]
     },
     "execution_count": 14,
     "metadata": {},
     "output_type": "execute_result"
    }
   ],
   "source": [
    "restaurants['visitors'][:5000].min()"
   ]
  },
  {
   "cell_type": "markdown",
   "metadata": {},
   "source": [
    "**4). What is the modal value of the last 4 columns in the dataset?**"
   ]
  },
  {
   "cell_type": "code",
   "execution_count": 10,
   "metadata": {},
   "outputs": [
    {
     "data": {
      "text/html": [
       "<div>\n",
       "<style scoped>\n",
       "    .dataframe tbody tr th:only-of-type {\n",
       "        vertical-align: middle;\n",
       "    }\n",
       "\n",
       "    .dataframe tbody tr th {\n",
       "        vertical-align: top;\n",
       "    }\n",
       "\n",
       "    .dataframe thead th {\n",
       "        text-align: right;\n",
       "    }\n",
       "</style>\n",
       "<table border=\"1\" class=\"dataframe\">\n",
       "  <thead>\n",
       "    <tr style=\"text-align: right;\">\n",
       "      <th></th>\n",
       "      <th>id</th>\n",
       "      <th>visit_date</th>\n",
       "      <th>visitors</th>\n",
       "      <th>calendar_date</th>\n",
       "    </tr>\n",
       "  </thead>\n",
       "  <tbody>\n",
       "    <tr>\n",
       "      <th>0</th>\n",
       "      <td>air_5c817ef28f236bdf</td>\n",
       "      <td>2017-03-17</td>\n",
       "      <td>8</td>\n",
       "      <td>2017-03-17</td>\n",
       "    </tr>\n",
       "  </tbody>\n",
       "</table>\n",
       "</div>"
      ],
      "text/plain": [
       "                     id  visit_date  visitors calendar_date\n",
       "0  air_5c817ef28f236bdf  2017-03-17         8    2017-03-17"
      ]
     },
     "execution_count": 10,
     "metadata": {},
     "output_type": "execute_result"
    }
   ],
   "source": [
    "# your answer here\n",
    "restaurants.iloc[:,:4].mode()"
   ]
  },
  {
   "cell_type": "markdown",
   "metadata": {},
   "source": [
    "**5). What is the mean value of the first 250 rows of the first 3 columns in the dataset?**"
   ]
  },
  {
   "cell_type": "code",
   "execution_count": 9,
   "metadata": {},
   "outputs": [
    {
     "data": {
      "text/plain": [
       "visitors    24.912\n",
       "dtype: float64"
      ]
     },
     "execution_count": 9,
     "metadata": {},
     "output_type": "execute_result"
    }
   ],
   "source": [
    "# your answer here\n",
    "restaurants.iloc[:250, :3].mean()"
   ]
  },
  {
   "cell_type": "markdown",
   "metadata": {},
   "source": [
    "### Section II: Selecting Based on Conditions"
   ]
  },
  {
   "cell_type": "markdown",
   "metadata": {},
   "source": [
    "**1). What was the average attendance on Monday?  On the weekend (Saturday & Sunday)?**"
   ]
  },
  {
   "cell_type": "code",
   "execution_count": 22,
   "metadata": {},
   "outputs": [
    {
     "name": "stdout",
     "output_type": "stream",
     "text": [
      "Monday Mean: 17.177009027207877\n",
      "Weekend Mean: 25.256869738495084\n"
     ]
    }
   ],
   "source": [
    "df = restaurants\n",
    "print(f\"Monday Mean: {df[df['day_of_week'] == 'Monday']['visitors'].mean()}\")\n",
    "print(f\"Weekend Mean: {df[(df['day_of_week'] == 'Saturday') | (df['day_of_week'] == 'Sunday')]['visitors'].mean()}\")"
   ]
  },
  {
   "cell_type": "markdown",
   "metadata": {},
   "source": [
    "**2). Is attendance higher on average for holidays or non-holidays?**"
   ]
  },
  {
   "cell_type": "code",
   "execution_count": 28,
   "metadata": {},
   "outputs": [
    {
     "name": "stdout",
     "output_type": "stream",
     "text": [
      "Mean Holiday Attendance: 23.703326810176126\n",
      "Mean Non-holiday Attendance: 20.828063827386945\n"
     ]
    }
   ],
   "source": [
    "# your answer here\n",
    "print(f\"Mean Holiday Attendance: {df[df['holiday'] != 0]['visitors'].mean()}\")\n",
    "print(f\"Mean Non-holiday Attendance: {df[df['holiday'] == 0]['visitors'].mean()}\")"
   ]
  },
  {
   "cell_type": "markdown",
   "metadata": {},
   "source": [
    "**3). What was the highest day of attendance for Dining Bars?**"
   ]
  },
  {
   "cell_type": "code",
   "execution_count": 35,
   "metadata": {},
   "outputs": [
    {
     "data": {
      "text/plain": [
       "245791    2017-01-23\n",
       "Name: calendar_date, dtype: object"
      ]
     },
     "execution_count": 35,
     "metadata": {},
     "output_type": "execute_result"
    }
   ],
   "source": [
    "# your answer here -- notice the different way of selecting\n",
    "\n",
    "df[df['visitors'] == (df[df['genre'] == 'Dining bar']['visitors'].max())]['calendar_date']"
   ]
  },
  {
   "cell_type": "markdown",
   "metadata": {},
   "source": [
    "**4). What was the date that had the highest number of reservations that was a holiday?  Hint:  use the `idxmax()` function**"
   ]
  },
  {
   "cell_type": "code",
   "execution_count": 49,
   "metadata": {},
   "outputs": [
    {
     "data": {
      "text/html": [
       "<div>\n",
       "<style scoped>\n",
       "    .dataframe tbody tr th:only-of-type {\n",
       "        vertical-align: middle;\n",
       "    }\n",
       "\n",
       "    .dataframe tbody tr th {\n",
       "        vertical-align: top;\n",
       "    }\n",
       "\n",
       "    .dataframe thead th {\n",
       "        text-align: right;\n",
       "    }\n",
       "</style>\n",
       "<table border=\"1\" class=\"dataframe\">\n",
       "  <thead>\n",
       "    <tr style=\"text-align: right;\">\n",
       "      <th></th>\n",
       "      <th>id</th>\n",
       "      <th>visit_date</th>\n",
       "      <th>visitors</th>\n",
       "      <th>calendar_date</th>\n",
       "      <th>day_of_week</th>\n",
       "      <th>holiday</th>\n",
       "      <th>genre</th>\n",
       "      <th>area</th>\n",
       "      <th>latitude</th>\n",
       "      <th>longitude</th>\n",
       "      <th>reserve_visitors</th>\n",
       "    </tr>\n",
       "  </thead>\n",
       "  <tbody>\n",
       "    <tr>\n",
       "      <th>1503</th>\n",
       "      <td>air_64d4491ad8cdb1c6</td>\n",
       "      <td>2016-12-30</td>\n",
       "      <td>23</td>\n",
       "      <td>2016-12-30</td>\n",
       "      <td>Friday</td>\n",
       "      <td>1</td>\n",
       "      <td>Dining bar</td>\n",
       "      <td>Tōkyō-to Minato-ku Shibakōen</td>\n",
       "      <td>35.658068</td>\n",
       "      <td>139.751599</td>\n",
       "      <td>58.0</td>\n",
       "    </tr>\n",
       "    <tr>\n",
       "      <th>1880</th>\n",
       "      <td>air_ee3a01f0c71a769f</td>\n",
       "      <td>2016-12-30</td>\n",
       "      <td>53</td>\n",
       "      <td>2016-12-30</td>\n",
       "      <td>Friday</td>\n",
       "      <td>1</td>\n",
       "      <td>Cafe/Sweets</td>\n",
       "      <td>Shizuoka-ken Hamamatsu-shi Motoshirochō</td>\n",
       "      <td>34.710895</td>\n",
       "      <td>137.725940</td>\n",
       "      <td>58.0</td>\n",
       "    </tr>\n",
       "    <tr>\n",
       "      <th>2337</th>\n",
       "      <td>air_9438d67241c81314</td>\n",
       "      <td>2016-12-30</td>\n",
       "      <td>28</td>\n",
       "      <td>2016-12-30</td>\n",
       "      <td>Friday</td>\n",
       "      <td>1</td>\n",
       "      <td>Italian/French</td>\n",
       "      <td>Fukuoka-ken Fukuoka-shi Daimyō</td>\n",
       "      <td>33.589216</td>\n",
       "      <td>130.392813</td>\n",
       "      <td>58.0</td>\n",
       "    </tr>\n",
       "    <tr>\n",
       "      <th>2805</th>\n",
       "      <td>air_d0e8a085d8dc83aa</td>\n",
       "      <td>2016-12-30</td>\n",
       "      <td>12</td>\n",
       "      <td>2016-12-30</td>\n",
       "      <td>Friday</td>\n",
       "      <td>1</td>\n",
       "      <td>Cafe/Sweets</td>\n",
       "      <td>Hyōgo-ken Kōbe-shi Sumiyoshi Higashimachi</td>\n",
       "      <td>34.720228</td>\n",
       "      <td>135.265455</td>\n",
       "      <td>58.0</td>\n",
       "    </tr>\n",
       "    <tr>\n",
       "      <th>3246</th>\n",
       "      <td>air_5c65468938c07fa5</td>\n",
       "      <td>2016-12-30</td>\n",
       "      <td>7</td>\n",
       "      <td>2016-12-30</td>\n",
       "      <td>Friday</td>\n",
       "      <td>1</td>\n",
       "      <td>Other</td>\n",
       "      <td>Tōkyō-to Shibuya-ku Shibuya</td>\n",
       "      <td>35.661777</td>\n",
       "      <td>139.704051</td>\n",
       "      <td>58.0</td>\n",
       "    </tr>\n",
       "    <tr>\n",
       "      <th>...</th>\n",
       "      <td>...</td>\n",
       "      <td>...</td>\n",
       "      <td>...</td>\n",
       "      <td>...</td>\n",
       "      <td>...</td>\n",
       "      <td>...</td>\n",
       "      <td>...</td>\n",
       "      <td>...</td>\n",
       "      <td>...</td>\n",
       "      <td>...</td>\n",
       "      <td>...</td>\n",
       "    </tr>\n",
       "    <tr>\n",
       "      <th>250875</th>\n",
       "      <td>air_0164b9927d20bcc3</td>\n",
       "      <td>2016-12-30</td>\n",
       "      <td>21</td>\n",
       "      <td>2016-12-30</td>\n",
       "      <td>Friday</td>\n",
       "      <td>1</td>\n",
       "      <td>Italian/French</td>\n",
       "      <td>Tōkyō-to Minato-ku Shibakōen</td>\n",
       "      <td>35.658068</td>\n",
       "      <td>139.751599</td>\n",
       "      <td>58.0</td>\n",
       "    </tr>\n",
       "    <tr>\n",
       "      <th>250992</th>\n",
       "      <td>air_965b2e0cf4119003</td>\n",
       "      <td>2016-12-30</td>\n",
       "      <td>26</td>\n",
       "      <td>2016-12-30</td>\n",
       "      <td>Friday</td>\n",
       "      <td>1</td>\n",
       "      <td>Izakaya</td>\n",
       "      <td>Tōkyō-to Meguro-ku Kamimeguro</td>\n",
       "      <td>35.641463</td>\n",
       "      <td>139.698171</td>\n",
       "      <td>58.0</td>\n",
       "    </tr>\n",
       "    <tr>\n",
       "      <th>251149</th>\n",
       "      <td>air_a257c9749d8d0ff6</td>\n",
       "      <td>2016-12-30</td>\n",
       "      <td>42</td>\n",
       "      <td>2016-12-30</td>\n",
       "      <td>Friday</td>\n",
       "      <td>1</td>\n",
       "      <td>Izakaya</td>\n",
       "      <td>Hokkaidō Asahikawa-shi 6 Jōdōri</td>\n",
       "      <td>43.770635</td>\n",
       "      <td>142.364819</td>\n",
       "      <td>58.0</td>\n",
       "    </tr>\n",
       "    <tr>\n",
       "      <th>251295</th>\n",
       "      <td>air_e00fe7853c0100d6</td>\n",
       "      <td>2016-12-30</td>\n",
       "      <td>28</td>\n",
       "      <td>2016-12-30</td>\n",
       "      <td>Friday</td>\n",
       "      <td>1</td>\n",
       "      <td>Izakaya</td>\n",
       "      <td>Hyōgo-ken Kakogawa-shi Kakogawachō Kitazaike</td>\n",
       "      <td>34.756950</td>\n",
       "      <td>134.841177</td>\n",
       "      <td>58.0</td>\n",
       "    </tr>\n",
       "    <tr>\n",
       "      <th>251410</th>\n",
       "      <td>air_31c753b48a657b6c</td>\n",
       "      <td>2016-12-30</td>\n",
       "      <td>18</td>\n",
       "      <td>2016-12-30</td>\n",
       "      <td>Friday</td>\n",
       "      <td>1</td>\n",
       "      <td>Italian/French</td>\n",
       "      <td>Tōkyō-to Meguro-ku Kamimeguro</td>\n",
       "      <td>35.641463</td>\n",
       "      <td>139.698171</td>\n",
       "      <td>58.0</td>\n",
       "    </tr>\n",
       "  </tbody>\n",
       "</table>\n",
       "<p>574 rows × 11 columns</p>\n",
       "</div>"
      ],
      "text/plain": [
       "                          id  visit_date  visitors calendar_date day_of_week  \\\n",
       "1503    air_64d4491ad8cdb1c6  2016-12-30        23    2016-12-30      Friday   \n",
       "1880    air_ee3a01f0c71a769f  2016-12-30        53    2016-12-30      Friday   \n",
       "2337    air_9438d67241c81314  2016-12-30        28    2016-12-30      Friday   \n",
       "2805    air_d0e8a085d8dc83aa  2016-12-30        12    2016-12-30      Friday   \n",
       "3246    air_5c65468938c07fa5  2016-12-30         7    2016-12-30      Friday   \n",
       "...                      ...         ...       ...           ...         ...   \n",
       "250875  air_0164b9927d20bcc3  2016-12-30        21    2016-12-30      Friday   \n",
       "250992  air_965b2e0cf4119003  2016-12-30        26    2016-12-30      Friday   \n",
       "251149  air_a257c9749d8d0ff6  2016-12-30        42    2016-12-30      Friday   \n",
       "251295  air_e00fe7853c0100d6  2016-12-30        28    2016-12-30      Friday   \n",
       "251410  air_31c753b48a657b6c  2016-12-30        18    2016-12-30      Friday   \n",
       "\n",
       "        holiday           genre                                          area  \\\n",
       "1503          1      Dining bar                  Tōkyō-to Minato-ku Shibakōen   \n",
       "1880          1     Cafe/Sweets       Shizuoka-ken Hamamatsu-shi Motoshirochō   \n",
       "2337          1  Italian/French                Fukuoka-ken Fukuoka-shi Daimyō   \n",
       "2805          1     Cafe/Sweets     Hyōgo-ken Kōbe-shi Sumiyoshi Higashimachi   \n",
       "3246          1           Other                   Tōkyō-to Shibuya-ku Shibuya   \n",
       "...         ...             ...                                           ...   \n",
       "250875        1  Italian/French                  Tōkyō-to Minato-ku Shibakōen   \n",
       "250992        1         Izakaya                 Tōkyō-to Meguro-ku Kamimeguro   \n",
       "251149        1         Izakaya               Hokkaidō Asahikawa-shi 6 Jōdōri   \n",
       "251295        1         Izakaya  Hyōgo-ken Kakogawa-shi Kakogawachō Kitazaike   \n",
       "251410        1  Italian/French                 Tōkyō-to Meguro-ku Kamimeguro   \n",
       "\n",
       "         latitude   longitude  reserve_visitors  \n",
       "1503    35.658068  139.751599              58.0  \n",
       "1880    34.710895  137.725940              58.0  \n",
       "2337    33.589216  130.392813              58.0  \n",
       "2805    34.720228  135.265455              58.0  \n",
       "3246    35.661777  139.704051              58.0  \n",
       "...           ...         ...               ...  \n",
       "250875  35.658068  139.751599              58.0  \n",
       "250992  35.641463  139.698171              58.0  \n",
       "251149  43.770635  142.364819              58.0  \n",
       "251295  34.756950  134.841177              58.0  \n",
       "251410  35.641463  139.698171              58.0  \n",
       "\n",
       "[574 rows x 11 columns]"
      ]
     },
     "execution_count": 49,
     "metadata": {},
     "output_type": "execute_result"
    }
   ],
   "source": [
    "# your answer here\n",
    "df[df['reserve_visitors'] == df[df['holiday'] != 0]['reserve_visitors'].max()]"
   ]
  },
  {
   "cell_type": "code",
   "execution_count": 61,
   "metadata": {},
   "outputs": [
    {
     "data": {
      "text/plain": [
       "id                                     air_df554c4527a1cfe6\n",
       "visit_date                                       2016-12-30\n",
       "visitors                                                205\n",
       "calendar_date                                    2016-12-30\n",
       "day_of_week                                          Friday\n",
       "holiday                                                   1\n",
       "genre                                               Izakaya\n",
       "area                Shizuoka-ken Hamamatsu-shi Motoshirochō\n",
       "latitude                                            34.7109\n",
       "longitude                                           137.726\n",
       "reserve_visitors                                         58\n",
       "Name: 122871, dtype: object"
      ]
     },
     "execution_count": 61,
     "metadata": {},
     "output_type": "execute_result"
    }
   ],
   "source": [
    "df.iloc[df[df.holiday == 1]['visitors'].idxmax()]"
   ]
  },
  {
   "cell_type": "code",
   "execution_count": null,
   "metadata": {},
   "outputs": [],
   "source": []
  },
  {
   "cell_type": "markdown",
   "metadata": {},
   "source": [
    "**Section III: Special Types of Selectors**"
   ]
  },
  {
   "cell_type": "markdown",
   "metadata": {},
   "source": [
    "To get some additional practice using common Pandas methods, we'll go over some common scenarios you typically have to select data for. \n",
    "\n",
    "*The methods used in this section have not been covered in class.*  Each question will come with the recommended method to use.  It's best to use the `?` before the method to read how it works and figure out how to use it.  \n",
    "\n",
    "It's designed to be a little bit of a treasure hunt to familiarize yourself with a lot of the bread & butter pandas methods."
   ]
  },
  {
   "cell_type": "markdown",
   "metadata": {},
   "source": [
    "**1). Can you return the amount of null values for each column?**\n",
    "\n",
    "To use: `df.isnull()`.  **Hint:** `True` sums to 1, `False` to 0."
   ]
  },
  {
   "cell_type": "code",
   "execution_count": 12,
   "metadata": {},
   "outputs": [],
   "source": [
    "# your answer here\n",
    "import pandas as pd\n",
    "df = pd.read_csv(r\"C:\\Users\\chloe\\Data Science\\DAT-1019-Chloe\\ClassMaterial\\Unit2\\data\\restaurants.csv\")"
   ]
  },
  {
   "cell_type": "code",
   "execution_count": 38,
   "metadata": {},
   "outputs": [
    {
     "data": {
      "text/html": [
       "<div>\n",
       "<style scoped>\n",
       "    .dataframe tbody tr th:only-of-type {\n",
       "        vertical-align: middle;\n",
       "    }\n",
       "\n",
       "    .dataframe tbody tr th {\n",
       "        vertical-align: top;\n",
       "    }\n",
       "\n",
       "    .dataframe thead th {\n",
       "        text-align: right;\n",
       "    }\n",
       "</style>\n",
       "<table border=\"1\" class=\"dataframe\">\n",
       "  <thead>\n",
       "    <tr style=\"text-align: right;\">\n",
       "      <th></th>\n",
       "      <th>id</th>\n",
       "      <th>visit_date</th>\n",
       "      <th>visitors</th>\n",
       "      <th>calendar_date</th>\n",
       "      <th>day_of_week</th>\n",
       "      <th>holiday</th>\n",
       "      <th>genre</th>\n",
       "      <th>area</th>\n",
       "      <th>latitude</th>\n",
       "      <th>longitude</th>\n",
       "      <th>reserve_visitors</th>\n",
       "    </tr>\n",
       "  </thead>\n",
       "  <tbody>\n",
       "    <tr>\n",
       "      <th>0</th>\n",
       "      <td>air_ba937bf13d40fb24</td>\n",
       "      <td>2016-01-13</td>\n",
       "      <td>25</td>\n",
       "      <td>2016-01-13</td>\n",
       "      <td>Wednesday</td>\n",
       "      <td>0</td>\n",
       "      <td>Dining bar</td>\n",
       "      <td>Tōkyō-to Minato-ku Shibakōen</td>\n",
       "      <td>35.658068</td>\n",
       "      <td>139.751599</td>\n",
       "      <td>NaN</td>\n",
       "    </tr>\n",
       "    <tr>\n",
       "      <th>1</th>\n",
       "      <td>air_ba937bf13d40fb24</td>\n",
       "      <td>2016-01-14</td>\n",
       "      <td>32</td>\n",
       "      <td>2016-01-14</td>\n",
       "      <td>Thursday</td>\n",
       "      <td>0</td>\n",
       "      <td>Dining bar</td>\n",
       "      <td>Tōkyō-to Minato-ku Shibakōen</td>\n",
       "      <td>35.658068</td>\n",
       "      <td>139.751599</td>\n",
       "      <td>NaN</td>\n",
       "    </tr>\n",
       "    <tr>\n",
       "      <th>2</th>\n",
       "      <td>air_ba937bf13d40fb24</td>\n",
       "      <td>2016-01-15</td>\n",
       "      <td>29</td>\n",
       "      <td>2016-01-15</td>\n",
       "      <td>Friday</td>\n",
       "      <td>0</td>\n",
       "      <td>Dining bar</td>\n",
       "      <td>Tōkyō-to Minato-ku Shibakōen</td>\n",
       "      <td>35.658068</td>\n",
       "      <td>139.751599</td>\n",
       "      <td>NaN</td>\n",
       "    </tr>\n",
       "    <tr>\n",
       "      <th>3</th>\n",
       "      <td>air_ba937bf13d40fb24</td>\n",
       "      <td>2016-01-16</td>\n",
       "      <td>22</td>\n",
       "      <td>2016-01-16</td>\n",
       "      <td>Saturday</td>\n",
       "      <td>0</td>\n",
       "      <td>Dining bar</td>\n",
       "      <td>Tōkyō-to Minato-ku Shibakōen</td>\n",
       "      <td>35.658068</td>\n",
       "      <td>139.751599</td>\n",
       "      <td>NaN</td>\n",
       "    </tr>\n",
       "    <tr>\n",
       "      <th>4</th>\n",
       "      <td>air_ba937bf13d40fb24</td>\n",
       "      <td>2016-01-18</td>\n",
       "      <td>6</td>\n",
       "      <td>2016-01-18</td>\n",
       "      <td>Monday</td>\n",
       "      <td>0</td>\n",
       "      <td>Dining bar</td>\n",
       "      <td>Tōkyō-to Minato-ku Shibakōen</td>\n",
       "      <td>35.658068</td>\n",
       "      <td>139.751599</td>\n",
       "      <td>NaN</td>\n",
       "    </tr>\n",
       "    <tr>\n",
       "      <th>...</th>\n",
       "      <td>...</td>\n",
       "      <td>...</td>\n",
       "      <td>...</td>\n",
       "      <td>...</td>\n",
       "      <td>...</td>\n",
       "      <td>...</td>\n",
       "      <td>...</td>\n",
       "      <td>...</td>\n",
       "      <td>...</td>\n",
       "      <td>...</td>\n",
       "      <td>...</td>\n",
       "    </tr>\n",
       "    <tr>\n",
       "      <th>252087</th>\n",
       "      <td>air_a17f0778617c76e2</td>\n",
       "      <td>2017-04-04</td>\n",
       "      <td>10</td>\n",
       "      <td>2017-04-04</td>\n",
       "      <td>Tuesday</td>\n",
       "      <td>0</td>\n",
       "      <td>Italian/French</td>\n",
       "      <td>Hyōgo-ken Kōbe-shi Kumoidōri</td>\n",
       "      <td>34.695124</td>\n",
       "      <td>135.197852</td>\n",
       "      <td>NaN</td>\n",
       "    </tr>\n",
       "    <tr>\n",
       "      <th>252092</th>\n",
       "      <td>air_a17f0778617c76e2</td>\n",
       "      <td>2017-04-10</td>\n",
       "      <td>28</td>\n",
       "      <td>2017-04-10</td>\n",
       "      <td>Monday</td>\n",
       "      <td>0</td>\n",
       "      <td>Italian/French</td>\n",
       "      <td>Hyōgo-ken Kōbe-shi Kumoidōri</td>\n",
       "      <td>34.695124</td>\n",
       "      <td>135.197852</td>\n",
       "      <td>NaN</td>\n",
       "    </tr>\n",
       "    <tr>\n",
       "      <th>252099</th>\n",
       "      <td>air_a17f0778617c76e2</td>\n",
       "      <td>2017-04-17</td>\n",
       "      <td>19</td>\n",
       "      <td>2017-04-17</td>\n",
       "      <td>Monday</td>\n",
       "      <td>0</td>\n",
       "      <td>Italian/French</td>\n",
       "      <td>Hyōgo-ken Kōbe-shi Kumoidōri</td>\n",
       "      <td>34.695124</td>\n",
       "      <td>135.197852</td>\n",
       "      <td>NaN</td>\n",
       "    </tr>\n",
       "    <tr>\n",
       "      <th>252100</th>\n",
       "      <td>air_a17f0778617c76e2</td>\n",
       "      <td>2017-04-18</td>\n",
       "      <td>11</td>\n",
       "      <td>2017-04-18</td>\n",
       "      <td>Tuesday</td>\n",
       "      <td>0</td>\n",
       "      <td>Italian/French</td>\n",
       "      <td>Hyōgo-ken Kōbe-shi Kumoidōri</td>\n",
       "      <td>34.695124</td>\n",
       "      <td>135.197852</td>\n",
       "      <td>NaN</td>\n",
       "    </tr>\n",
       "    <tr>\n",
       "      <th>252101</th>\n",
       "      <td>air_a17f0778617c76e2</td>\n",
       "      <td>2017-04-19</td>\n",
       "      <td>25</td>\n",
       "      <td>2017-04-19</td>\n",
       "      <td>Wednesday</td>\n",
       "      <td>0</td>\n",
       "      <td>Italian/French</td>\n",
       "      <td>Hyōgo-ken Kōbe-shi Kumoidōri</td>\n",
       "      <td>34.695124</td>\n",
       "      <td>135.197852</td>\n",
       "      <td>NaN</td>\n",
       "    </tr>\n",
       "  </tbody>\n",
       "</table>\n",
       "<p>143714 rows × 11 columns</p>\n",
       "</div>"
      ],
      "text/plain": [
       "                          id  visit_date  visitors calendar_date day_of_week  \\\n",
       "0       air_ba937bf13d40fb24  2016-01-13        25    2016-01-13   Wednesday   \n",
       "1       air_ba937bf13d40fb24  2016-01-14        32    2016-01-14    Thursday   \n",
       "2       air_ba937bf13d40fb24  2016-01-15        29    2016-01-15      Friday   \n",
       "3       air_ba937bf13d40fb24  2016-01-16        22    2016-01-16    Saturday   \n",
       "4       air_ba937bf13d40fb24  2016-01-18         6    2016-01-18      Monday   \n",
       "...                      ...         ...       ...           ...         ...   \n",
       "252087  air_a17f0778617c76e2  2017-04-04        10    2017-04-04     Tuesday   \n",
       "252092  air_a17f0778617c76e2  2017-04-10        28    2017-04-10      Monday   \n",
       "252099  air_a17f0778617c76e2  2017-04-17        19    2017-04-17      Monday   \n",
       "252100  air_a17f0778617c76e2  2017-04-18        11    2017-04-18     Tuesday   \n",
       "252101  air_a17f0778617c76e2  2017-04-19        25    2017-04-19   Wednesday   \n",
       "\n",
       "        holiday           genre                          area   latitude  \\\n",
       "0             0      Dining bar  Tōkyō-to Minato-ku Shibakōen  35.658068   \n",
       "1             0      Dining bar  Tōkyō-to Minato-ku Shibakōen  35.658068   \n",
       "2             0      Dining bar  Tōkyō-to Minato-ku Shibakōen  35.658068   \n",
       "3             0      Dining bar  Tōkyō-to Minato-ku Shibakōen  35.658068   \n",
       "4             0      Dining bar  Tōkyō-to Minato-ku Shibakōen  35.658068   \n",
       "...         ...             ...                           ...        ...   \n",
       "252087        0  Italian/French  Hyōgo-ken Kōbe-shi Kumoidōri  34.695124   \n",
       "252092        0  Italian/French  Hyōgo-ken Kōbe-shi Kumoidōri  34.695124   \n",
       "252099        0  Italian/French  Hyōgo-ken Kōbe-shi Kumoidōri  34.695124   \n",
       "252100        0  Italian/French  Hyōgo-ken Kōbe-shi Kumoidōri  34.695124   \n",
       "252101        0  Italian/French  Hyōgo-ken Kōbe-shi Kumoidōri  34.695124   \n",
       "\n",
       "         longitude  reserve_visitors  \n",
       "0       139.751599               NaN  \n",
       "1       139.751599               NaN  \n",
       "2       139.751599               NaN  \n",
       "3       139.751599               NaN  \n",
       "4       139.751599               NaN  \n",
       "...            ...               ...  \n",
       "252087  135.197852               NaN  \n",
       "252092  135.197852               NaN  \n",
       "252099  135.197852               NaN  \n",
       "252100  135.197852               NaN  \n",
       "252101  135.197852               NaN  \n",
       "\n",
       "[143714 rows x 11 columns]"
      ]
     },
     "execution_count": 38,
     "metadata": {},
     "output_type": "execute_result"
    }
   ],
   "source": [
    "df[df.isnull().any(axis=1)]"
   ]
  },
  {
   "cell_type": "code",
   "execution_count": 39,
   "metadata": {},
   "outputs": [
    {
     "data": {
      "text/plain": [
       "Izakaya                         62052\n",
       "Cafe/Sweets                     52764\n",
       "Dining bar                      34192\n",
       "Italian/French                  30011\n",
       "Bar/Cocktail                    25135\n",
       "Japanese food                   18789\n",
       "Other                            8246\n",
       "Yakiniku/Korean food             7025\n",
       "Western food                     4897\n",
       "Creative cuisine                 3868\n",
       "Okonomiyaki/Monja/Teppanyaki     3706\n",
       "Asian                             535\n",
       "Karaoke/Party                     516\n",
       "International cuisine             372\n",
       "Name: genre, dtype: int64"
      ]
     },
     "execution_count": 39,
     "metadata": {},
     "output_type": "execute_result"
    }
   ],
   "source": [
    "df['genre'].value_counts()"
   ]
  },
  {
   "cell_type": "code",
   "execution_count": 40,
   "metadata": {},
   "outputs": [],
   "source": [
    "?df.genre.value_counts"
   ]
  },
  {
   "cell_type": "markdown",
   "metadata": {},
   "source": [
    "**2). Can you find the count values for every single unique value within a column?**\n",
    "\n",
    "To use: `pd.Series.value_counts()`.  **Hint:** This is a *Series* method, not a *Dataframe* method.  "
   ]
  },
  {
   "cell_type": "code",
   "execution_count": null,
   "metadata": {},
   "outputs": [],
   "source": [
    "# your answer here"
   ]
  },
  {
   "cell_type": "markdown",
   "metadata": {},
   "source": [
    "**3). Can you find the column with the highest number of unique values?  Can you sort columns their number of unique values?**\n",
    "\n",
    "To use: `df.nunique`, and `df.sort_values()` if you want to sort it."
   ]
  },
  {
   "cell_type": "code",
   "execution_count": null,
   "metadata": {},
   "outputs": [],
   "source": [
    "# your answer here"
   ]
  },
  {
   "cell_type": "markdown",
   "metadata": {},
   "source": [
    "**4). Can you query your dataframe so that it only returns columns that have empty values?**\n",
    "\n",
    "To use: `df.isnull()`, `df.loc`"
   ]
  },
  {
   "cell_type": "code",
   "execution_count": null,
   "metadata": {},
   "outputs": [],
   "source": [
    "# your answer here"
   ]
  },
  {
   "cell_type": "markdown",
   "metadata": {},
   "source": [
    "**5).  Can you query the dataframe such that it only returns rows that have *no* missing values, in any of their columns?**\n",
    "\n",
    "To use: `df.isnull()`, `df.any()`, or, conversely, `df.notnull()`, and `df.all()`\n",
    "\n",
    "**Hint:** The `~` operator, if put in front of a query, selects for values that are **not** True."
   ]
  },
  {
   "cell_type": "code",
   "execution_count": null,
   "metadata": {},
   "outputs": [],
   "source": [
    "# your answer here"
   ]
  },
  {
   "cell_type": "markdown",
   "metadata": {},
   "source": [
    "**6).  Can you find rows that contain duplicate values?**\n",
    "\n",
    "To use:  `df.duplicated()`"
   ]
  },
  {
   "cell_type": "code",
   "execution_count": null,
   "metadata": {},
   "outputs": [],
   "source": [
    "# your answer here"
   ]
  },
  {
   "cell_type": "markdown",
   "metadata": {},
   "source": [
    "**7). Can you find rows that contain duplicated values for the visitors and date columns?**  \n",
    "\n",
    "To use: `df.duplicated()`"
   ]
  },
  {
   "cell_type": "code",
   "execution_count": null,
   "metadata": {
    "scrolled": true
   },
   "outputs": [],
   "source": [
    "# your answer here"
   ]
  },
  {
   "cell_type": "markdown",
   "metadata": {},
   "source": [
    "**8).  Can you only select columns that are text based?**\n",
    "\n",
    "To use: `df.select_dtypes()`, and (optionally) the `columns` attribute.  **Note:** `columns` is NOT a method!"
   ]
  },
  {
   "cell_type": "code",
   "execution_count": null,
   "metadata": {},
   "outputs": [],
   "source": [
    "# your answer here"
   ]
  },
  {
   "cell_type": "markdown",
   "metadata": {},
   "source": [
    "**9).  Can you only select columns that are numeric?**\n",
    "\n",
    "To use: `df.select_dtypes()`.  This question is very similar to the one above it, just for a different data type."
   ]
  },
  {
   "cell_type": "code",
   "execution_count": null,
   "metadata": {},
   "outputs": [],
   "source": [
    "# your answer here"
   ]
  },
  {
   "cell_type": "markdown",
   "metadata": {},
   "source": [
    "**10). Can you fill in the missing values of your numeric columns with their average value?**\n",
    "\n",
    "To use: `df.fillna()`, to be used in conjunction with the suggested methods from question 11."
   ]
  },
  {
   "cell_type": "code",
   "execution_count": null,
   "metadata": {},
   "outputs": [],
   "source": [
    "# your answer here"
   ]
  },
  {
   "cell_type": "markdown",
   "metadata": {},
   "source": [
    "**11). Can you select all the rows between Jan. 1 2016 & June 30, 2016?**"
   ]
  },
  {
   "cell_type": "code",
   "execution_count": null,
   "metadata": {},
   "outputs": [],
   "source": [
    "# your answer here"
   ]
  },
  {
   "cell_type": "markdown",
   "metadata": {},
   "source": [
    "**12).  Can you determine the quarter of the year for each reservation?  The month?**"
   ]
  },
  {
   "cell_type": "code",
   "execution_count": null,
   "metadata": {},
   "outputs": [],
   "source": [
    "# we can get the quarters using the dt attribute"
   ]
  }
 ],
 "metadata": {
  "kernelspec": {
   "display_name": "Python 3",
   "language": "python",
   "name": "python3"
  },
  "language_info": {
   "codemirror_mode": {
    "name": "ipython",
    "version": 3
   },
   "file_extension": ".py",
   "mimetype": "text/x-python",
   "name": "python",
   "nbconvert_exporter": "python",
   "pygments_lexer": "ipython3",
   "version": "3.8.3"
  }
 },
 "nbformat": 4,
 "nbformat_minor": 2
}
