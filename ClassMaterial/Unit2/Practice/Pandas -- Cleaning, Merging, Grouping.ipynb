{
 "cells": [
  {
   "cell_type": "markdown",
   "metadata": {},
   "source": [
    "### Pandas Lab -- Cleaning, Merging, & Grouping\n",
    "\n",
    "This lab is designed to introduce students to common use cases for Pandas when working with data:\n",
    "\n",
    " - Creating new information out of your existing data set\n",
    " - Merging, concatenating, and joining different data sources\n",
    " - Grouping -- With both time & non-time based data"
   ]
  },
  {
   "cell_type": "markdown",
   "metadata": {},
   "source": [
    "### Section I: Creating Data Out of Your Existing Columns\n",
    "\n",
    "Go ahead and create the following columns in your dataset."
   ]
  },
  {
   "cell_type": "markdown",
   "metadata": {},
   "source": [
    "**Column 1:**\n",
    "\n",
    "  - **Column Name:** Profitable\n",
    "  - **Values:** `True` if `Profit` > 0, `False` if not."
   ]
  },
  {
   "cell_type": "code",
   "execution_count": null,
   "metadata": {},
   "outputs": [],
   "source": [
    "# your answer here"
   ]
  },
  {
   "cell_type": "markdown",
   "metadata": {},
   "source": [
    "**Column 2:**\n",
    "\n",
    " - **Column Name:** Expected Ship Time\n",
    " - **Values:**\n",
    "   - `0` if `Ship Mode` == `Same Day`\n",
    "   - `2` if `Ship Mode` == `First Class`\n",
    "   - `3` if `Ship Mode` == `Second Class`\n",
    "   - `6` if `Ship Mode` == `Standard Class`\n",
    "   - `-1` if none of the above."
   ]
  },
  {
   "cell_type": "code",
   "execution_count": null,
   "metadata": {},
   "outputs": [],
   "source": [
    "# your answer here"
   ]
  },
  {
   "cell_type": "markdown",
   "metadata": {},
   "source": [
    "**Column 3:**\n",
    "\n",
    " - **Column Name:** Actual Ship Time\n",
    " - **Values:**\n",
    "   - `Ship Date` - `Order Date`\n",
    " - **Note:** When you subtract these columns, your column will be a **time delta**.  See if you can use the `dt` attribute to convert these values into an integer.  Ie, if your value reads `3 days`, you want that to be 3 instead.  You can read more about different time periods in pandas here:  https://pandas.pydata.org/pandas-docs/stable/user_guide/timeseries.html#time-date-components"
   ]
  },
  {
   "cell_type": "code",
   "execution_count": 32,
   "metadata": {},
   "outputs": [],
   "source": [
    "# your answer here"
   ]
  },
  {
   "cell_type": "markdown",
   "metadata": {},
   "source": [
    "**Column 4:**\n",
    "\n",
    " - **Column Name:** Late\n",
    " - **Values:** `True` if `Actual Ship Time` > `Expected Ship Time`, `False` otherwise"
   ]
  },
  {
   "cell_type": "code",
   "execution_count": null,
   "metadata": {},
   "outputs": [],
   "source": [
    "# your answer here"
   ]
  },
  {
   "cell_type": "markdown",
   "metadata": {},
   "source": [
    "### Section II: Merging Dataframes"
   ]
  },
  {
   "cell_type": "markdown",
   "metadata": {},
   "source": [
    "This excel spreadsheet has 3 separate sheets.  Look up the documentation on the `pd.read_excel` method on how to load in the other two.  \n",
    "\n",
    "After that, merge the other two dataframes into your original one, and make sure your original dataset now has the following columns:\n",
    "\n",
    " - **Salesperson:** This is the Salesperson in charge of each region.\n",
    " - **Returned:** This details whether or not the order was returned.  Fill in null values with the value `no`.\n",
    " \n",
    "Use the `drop()` method if you need to get rid of redundant columns.\n",
    "\n",
    "**Important:** We want to keep all of the rows in the dataset we first loaded in.  After each merge, it's a good idea to make sure your dataset hasn't shrunk, which will happen if you don't choose the right merge type.  Make sure you have 9,994 rows when you're finished!"
   ]
  },
  {
   "cell_type": "code",
   "execution_count": null,
   "metadata": {},
   "outputs": [],
   "source": [
    "# your work here"
   ]
  },
  {
   "cell_type": "markdown",
   "metadata": {},
   "source": [
    "### Section III: Grouping\n",
    "\n",
    "Use the `groupby` or `resample` method to answer the following questions."
   ]
  },
  {
   "cell_type": "markdown",
   "metadata": {},
   "source": [
    "**Question 1:** What salesperson had the highest average sales amount? "
   ]
  },
  {
   "cell_type": "code",
   "execution_count": null,
   "metadata": {},
   "outputs": [],
   "source": [
    "# your answer here"
   ]
  },
  {
   "cell_type": "markdown",
   "metadata": {},
   "source": [
    "**Question 2:** Within each ship mode, compare how likely late orders were to be profitable or not"
   ]
  },
  {
   "cell_type": "code",
   "execution_count": null,
   "metadata": {},
   "outputs": [],
   "source": [
    "# your answer here"
   ]
  },
  {
   "cell_type": "markdown",
   "metadata": {},
   "source": [
    "**Question 3:** What ship mode had the most consistently on time orders?"
   ]
  },
  {
   "cell_type": "code",
   "execution_count": null,
   "metadata": {},
   "outputs": [],
   "source": [
    "# your answer here"
   ]
  },
  {
   "cell_type": "markdown",
   "metadata": {},
   "source": [
    "**Question 4:** For each sales person, get their average, median, max, and count of their sales."
   ]
  },
  {
   "cell_type": "code",
   "execution_count": null,
   "metadata": {},
   "outputs": [],
   "source": [
    "# your answer here"
   ]
  },
  {
   "cell_type": "markdown",
   "metadata": {},
   "source": [
    "**Question 5:** Group your dataset according to  `Region`, and `Category`, and then call the `describe()` method to get the summary statistics for each subgroup."
   ]
  },
  {
   "cell_type": "code",
   "execution_count": null,
   "metadata": {},
   "outputs": [],
   "source": [
    "# your answer here"
   ]
  },
  {
   "cell_type": "markdown",
   "metadata": {},
   "source": [
    "**Question 6:** Use the `Resample()` method to get the sum of sales for each quarter."
   ]
  },
  {
   "cell_type": "code",
   "execution_count": null,
   "metadata": {},
   "outputs": [],
   "source": [
    "# your answer here"
   ]
  },
  {
   "cell_type": "markdown",
   "metadata": {},
   "source": [
    "**Question 7:** What quarter had the highest total sales amount?"
   ]
  },
  {
   "cell_type": "code",
   "execution_count": null,
   "metadata": {},
   "outputs": [],
   "source": [
    "# your answer here"
   ]
  },
  {
   "cell_type": "markdown",
   "metadata": {},
   "source": [
    "**Question 8:** See if you can use the `groupby` method to get a list of yearly sales for each region inside the dataset.\n",
    "\n",
    "**Hint:** Try using the `dt` attribute of the `Order Date` column."
   ]
  },
  {
   "cell_type": "code",
   "execution_count": null,
   "metadata": {},
   "outputs": [],
   "source": [
    "# your answer here"
   ]
  },
  {
   "cell_type": "markdown",
   "metadata": {},
   "source": [
    "**Bonus:** Creating summary statistics with a `groupby` statement.  \n",
    "\n",
    "Lots of times it's very useful to be able to create a summary statistic for a particular category to compare with individual samples.\n",
    "\n",
    "For example, if you were doing fraud detection, and someone were making a purchase at a 7-11, a transaction amount of $175 would be unusually large for someone making a purchase at a convenience store, essentially setting off a red flag that the transaction might be suspicious.\n",
    "\n",
    "Creating such comparisons is easily done using the `groupby` method and then merging it back into the original dataframe.  \n",
    "\n",
    "For example, if you wanted to compare every single purchase amount with the average amount for that category, you could do it in the following way:"
   ]
  },
  {
   "cell_type": "code",
   "execution_count": 2,
   "metadata": {},
   "outputs": [],
   "source": [
    "import pandas as pd\n",
    "df = pd.read_excel('../data/superstore.xls')\n",
    "# create the grouping\n",
    "cat_grouping = df.groupby('Category')[['Sales']].mean()\n",
    "# this step is mostly just to make the merged dataframe more tidy\n",
    "cat_grouping.rename({'Sales': 'Cat_Average'}, axis=1, inplace=True)"
   ]
  },
  {
   "cell_type": "code",
   "execution_count": 3,
   "metadata": {},
   "outputs": [],
   "source": [
    "# join them\n",
    "df = df.merge(cat_grouping, left_on='Category', right_index=True)"
   ]
  },
  {
   "cell_type": "code",
   "execution_count": 4,
   "metadata": {},
   "outputs": [
    {
     "data": {
      "text/html": [
       "<div>\n",
       "<style scoped>\n",
       "    .dataframe tbody tr th:only-of-type {\n",
       "        vertical-align: middle;\n",
       "    }\n",
       "\n",
       "    .dataframe tbody tr th {\n",
       "        vertical-align: top;\n",
       "    }\n",
       "\n",
       "    .dataframe thead th {\n",
       "        text-align: right;\n",
       "    }\n",
       "</style>\n",
       "<table border=\"1\" class=\"dataframe\">\n",
       "  <thead>\n",
       "    <tr style=\"text-align: right;\">\n",
       "      <th></th>\n",
       "      <th>Row ID</th>\n",
       "      <th>Order ID</th>\n",
       "      <th>Order Date</th>\n",
       "      <th>Ship Date</th>\n",
       "      <th>Ship Mode</th>\n",
       "      <th>Customer ID</th>\n",
       "      <th>Customer Name</th>\n",
       "      <th>Segment</th>\n",
       "      <th>Country</th>\n",
       "      <th>City</th>\n",
       "      <th>...</th>\n",
       "      <th>Region</th>\n",
       "      <th>Product ID</th>\n",
       "      <th>Category</th>\n",
       "      <th>Sub-Category</th>\n",
       "      <th>Product Name</th>\n",
       "      <th>Sales</th>\n",
       "      <th>Quantity</th>\n",
       "      <th>Discount</th>\n",
       "      <th>Profit</th>\n",
       "      <th>Cat_Average</th>\n",
       "    </tr>\n",
       "  </thead>\n",
       "  <tbody>\n",
       "    <tr>\n",
       "      <th>0</th>\n",
       "      <td>1</td>\n",
       "      <td>CA-2016-152156</td>\n",
       "      <td>2016-11-08</td>\n",
       "      <td>2016-11-11</td>\n",
       "      <td>Second Class</td>\n",
       "      <td>CG-12520</td>\n",
       "      <td>Claire Gute</td>\n",
       "      <td>Consumer</td>\n",
       "      <td>United States</td>\n",
       "      <td>Henderson</td>\n",
       "      <td>...</td>\n",
       "      <td>South</td>\n",
       "      <td>FUR-BO-10001798</td>\n",
       "      <td>Furniture</td>\n",
       "      <td>Bookcases</td>\n",
       "      <td>Bush Somerset Collection Bookcase</td>\n",
       "      <td>261.9600</td>\n",
       "      <td>2</td>\n",
       "      <td>0.00</td>\n",
       "      <td>41.9136</td>\n",
       "      <td>349.834887</td>\n",
       "    </tr>\n",
       "    <tr>\n",
       "      <th>1</th>\n",
       "      <td>2</td>\n",
       "      <td>CA-2016-152156</td>\n",
       "      <td>2016-11-08</td>\n",
       "      <td>2016-11-11</td>\n",
       "      <td>Second Class</td>\n",
       "      <td>CG-12520</td>\n",
       "      <td>Claire Gute</td>\n",
       "      <td>Consumer</td>\n",
       "      <td>United States</td>\n",
       "      <td>Henderson</td>\n",
       "      <td>...</td>\n",
       "      <td>South</td>\n",
       "      <td>FUR-CH-10000454</td>\n",
       "      <td>Furniture</td>\n",
       "      <td>Chairs</td>\n",
       "      <td>Hon Deluxe Fabric Upholstered Stacking Chairs,...</td>\n",
       "      <td>731.9400</td>\n",
       "      <td>3</td>\n",
       "      <td>0.00</td>\n",
       "      <td>219.5820</td>\n",
       "      <td>349.834887</td>\n",
       "    </tr>\n",
       "    <tr>\n",
       "      <th>3</th>\n",
       "      <td>4</td>\n",
       "      <td>US-2015-108966</td>\n",
       "      <td>2015-10-11</td>\n",
       "      <td>2015-10-18</td>\n",
       "      <td>Standard Class</td>\n",
       "      <td>SO-20335</td>\n",
       "      <td>Sean O'Donnell</td>\n",
       "      <td>Consumer</td>\n",
       "      <td>United States</td>\n",
       "      <td>Fort Lauderdale</td>\n",
       "      <td>...</td>\n",
       "      <td>South</td>\n",
       "      <td>FUR-TA-10000577</td>\n",
       "      <td>Furniture</td>\n",
       "      <td>Tables</td>\n",
       "      <td>Bretford CR4500 Series Slim Rectangular Table</td>\n",
       "      <td>957.5775</td>\n",
       "      <td>5</td>\n",
       "      <td>0.45</td>\n",
       "      <td>-383.0310</td>\n",
       "      <td>349.834887</td>\n",
       "    </tr>\n",
       "    <tr>\n",
       "      <th>5</th>\n",
       "      <td>6</td>\n",
       "      <td>CA-2014-115812</td>\n",
       "      <td>2014-06-09</td>\n",
       "      <td>2014-06-14</td>\n",
       "      <td>Standard Class</td>\n",
       "      <td>BH-11710</td>\n",
       "      <td>Brosina Hoffman</td>\n",
       "      <td>Consumer</td>\n",
       "      <td>United States</td>\n",
       "      <td>Los Angeles</td>\n",
       "      <td>...</td>\n",
       "      <td>West</td>\n",
       "      <td>FUR-FU-10001487</td>\n",
       "      <td>Furniture</td>\n",
       "      <td>Furnishings</td>\n",
       "      <td>Eldon Expressions Wood and Plastic Desk Access...</td>\n",
       "      <td>48.8600</td>\n",
       "      <td>7</td>\n",
       "      <td>0.00</td>\n",
       "      <td>14.1694</td>\n",
       "      <td>349.834887</td>\n",
       "    </tr>\n",
       "    <tr>\n",
       "      <th>10</th>\n",
       "      <td>11</td>\n",
       "      <td>CA-2014-115812</td>\n",
       "      <td>2014-06-09</td>\n",
       "      <td>2014-06-14</td>\n",
       "      <td>Standard Class</td>\n",
       "      <td>BH-11710</td>\n",
       "      <td>Brosina Hoffman</td>\n",
       "      <td>Consumer</td>\n",
       "      <td>United States</td>\n",
       "      <td>Los Angeles</td>\n",
       "      <td>...</td>\n",
       "      <td>West</td>\n",
       "      <td>FUR-TA-10001539</td>\n",
       "      <td>Furniture</td>\n",
       "      <td>Tables</td>\n",
       "      <td>Chromcraft Rectangular Conference Tables</td>\n",
       "      <td>1706.1840</td>\n",
       "      <td>9</td>\n",
       "      <td>0.20</td>\n",
       "      <td>85.3092</td>\n",
       "      <td>349.834887</td>\n",
       "    </tr>\n",
       "  </tbody>\n",
       "</table>\n",
       "<p>5 rows × 22 columns</p>\n",
       "</div>"
      ],
      "text/plain": [
       "    Row ID        Order ID Order Date  Ship Date       Ship Mode Customer ID  \\\n",
       "0        1  CA-2016-152156 2016-11-08 2016-11-11    Second Class    CG-12520   \n",
       "1        2  CA-2016-152156 2016-11-08 2016-11-11    Second Class    CG-12520   \n",
       "3        4  US-2015-108966 2015-10-11 2015-10-18  Standard Class    SO-20335   \n",
       "5        6  CA-2014-115812 2014-06-09 2014-06-14  Standard Class    BH-11710   \n",
       "10      11  CA-2014-115812 2014-06-09 2014-06-14  Standard Class    BH-11710   \n",
       "\n",
       "      Customer Name   Segment        Country             City     ...       \\\n",
       "0       Claire Gute  Consumer  United States        Henderson     ...        \n",
       "1       Claire Gute  Consumer  United States        Henderson     ...        \n",
       "3    Sean O'Donnell  Consumer  United States  Fort Lauderdale     ...        \n",
       "5   Brosina Hoffman  Consumer  United States      Los Angeles     ...        \n",
       "10  Brosina Hoffman  Consumer  United States      Los Angeles     ...        \n",
       "\n",
       "   Region       Product ID   Category Sub-Category  \\\n",
       "0   South  FUR-BO-10001798  Furniture    Bookcases   \n",
       "1   South  FUR-CH-10000454  Furniture       Chairs   \n",
       "3   South  FUR-TA-10000577  Furniture       Tables   \n",
       "5    West  FUR-FU-10001487  Furniture  Furnishings   \n",
       "10   West  FUR-TA-10001539  Furniture       Tables   \n",
       "\n",
       "                                         Product Name      Sales Quantity  \\\n",
       "0                   Bush Somerset Collection Bookcase   261.9600        2   \n",
       "1   Hon Deluxe Fabric Upholstered Stacking Chairs,...   731.9400        3   \n",
       "3       Bretford CR4500 Series Slim Rectangular Table   957.5775        5   \n",
       "5   Eldon Expressions Wood and Plastic Desk Access...    48.8600        7   \n",
       "10           Chromcraft Rectangular Conference Tables  1706.1840        9   \n",
       "\n",
       "    Discount    Profit  Cat_Average  \n",
       "0       0.00   41.9136   349.834887  \n",
       "1       0.00  219.5820   349.834887  \n",
       "3       0.45 -383.0310   349.834887  \n",
       "5       0.00   14.1694   349.834887  \n",
       "10      0.20   85.3092   349.834887  \n",
       "\n",
       "[5 rows x 22 columns]"
      ]
     },
     "execution_count": 4,
     "metadata": {},
     "output_type": "execute_result"
    }
   ],
   "source": [
    "# and now we can see each purchase amount compared to the average amt\n",
    "# for that category\n",
    "df.head()"
   ]
  },
  {
   "cell_type": "markdown",
   "metadata": {},
   "source": [
    "So for instance, if wanted to ask ourselves, \"which customers consistently punch above their weight when it comes to the actual items that they buy?\"\n",
    "\n",
    "We could easily do the following:"
   ]
  },
  {
   "cell_type": "code",
   "execution_count": 5,
   "metadata": {},
   "outputs": [],
   "source": [
    "# turn the difference between the two columns into a percent\n",
    "df['Cat Difference'] = ((df['Sales'] / df['Cat_Average']) - 1) * 100"
   ]
  },
  {
   "cell_type": "code",
   "execution_count": 6,
   "metadata": {},
   "outputs": [
    {
     "data": {
      "text/plain": [
       "Customer Name\n",
       "Mitch Willingham        845.569285\n",
       "Christopher Martinez    636.313301\n",
       "Andy Reiter             449.654450\n",
       "Adrian Barton           418.548520\n",
       "Sanjit Chand            386.906876\n",
       "Amy Cox                 363.031889\n",
       "Yoseph Carroll          344.794116\n",
       "Yana Sorensen           317.572571\n",
       "Sean Miller             308.018602\n",
       "Tamara Chand            304.928500\n",
       "Alex Avila              296.561353\n",
       "Greg Maxwell            292.917810\n",
       "Grant Thornton          291.980410\n",
       "Jane Waco               272.432920\n",
       "Tom Ashbrook            270.172385\n",
       "Paul Knutson            244.824972\n",
       "Robert Dilbeck          239.904239\n",
       "Gary Hwang              231.081468\n",
       "Ken Lonsdale            216.273514\n",
       "Dennis Pardue           213.919098\n",
       "Justin Hirsh            205.806859\n",
       "Stefanie Holloman       199.625920\n",
       "Cathy Prescott          194.089483\n",
       "Bill Shonely            194.068945\n",
       "Erica Smith             193.504802\n",
       "Neil Ducich             174.357173\n",
       "Adam Bellavance         174.177216\n",
       "Hunter Lopez            170.364451\n",
       "Karen Ferguson          167.056592\n",
       "Joseph Holt             161.192437\n",
       "                           ...    \n",
       "MaryBeth Skach          -78.548915\n",
       "Roland Murray           -78.659791\n",
       "Khloe Miller            -79.436773\n",
       "Robert Barroso          -80.299122\n",
       "Andy Yotov              -80.305228\n",
       "Allen Goldenen          -80.313608\n",
       "Dorothy Dickinson       -80.385819\n",
       "Joy Daniels             -80.663448\n",
       "Vivian Mathis           -80.829326\n",
       "Andrew Roberts          -81.087952\n",
       "Stuart Calhoun          -81.124445\n",
       "Sonia Sunley            -82.311845\n",
       "Paul Lucas              -82.962814\n",
       "Clay Cheatham           -83.552902\n",
       "Karen Seio              -84.052304\n",
       "Pete Takahito           -84.241958\n",
       "Adrian Shami            -84.337966\n",
       "Muhammed Lee            -85.941572\n",
       "Carl Jackson            -86.155353\n",
       "Larry Blacks            -86.345848\n",
       "Dianna Arnett           -86.422383\n",
       "Michael Oakman          -86.512827\n",
       "Erin Mull               -87.263207\n",
       "Fred Wasserman          -90.104054\n",
       "Jasper Cacioppo         -91.687617\n",
       "Susan Gilcrest          -91.963736\n",
       "Roy Skaria              -93.762646\n",
       "Lela Donovan            -95.554963\n",
       "Mitch Gastineau         -96.387490\n",
       "Thais Sissman           -97.974843\n",
       "Name: Cat Difference, Length: 793, dtype: float64"
      ]
     },
     "execution_count": 6,
     "metadata": {},
     "output_type": "execute_result"
    }
   ],
   "source": [
    "# now group and sort the values\n",
    "df.groupby('Customer Name')['Cat Difference'].mean().sort_values(ascending=False)"
   ]
  },
  {
   "cell_type": "markdown",
   "metadata": {},
   "source": [
    "**Your Turn:** Using a similar methodology as above, figure out the 10 customers who are the most profitable on average, when compared to the subcategory that they purchased from.\n",
    "\n",
    "If you wanted, you could also limit this to customers who only made a minimum number of purchases as well."
   ]
  },
  {
   "cell_type": "code",
   "execution_count": null,
   "metadata": {},
   "outputs": [],
   "source": [
    "# your answer here"
   ]
  }
 ],
 "metadata": {
  "kernelspec": {
   "display_name": "Python 3",
   "language": "python",
   "name": "python3"
  },
  "language_info": {
   "codemirror_mode": {
    "name": "ipython",
    "version": 3
   },
   "file_extension": ".py",
   "mimetype": "text/x-python",
   "name": "python",
   "nbconvert_exporter": "python",
   "pygments_lexer": "ipython3",
   "version": "3.7.3"
  }
 },
 "nbformat": 4,
 "nbformat_minor": 2
}
