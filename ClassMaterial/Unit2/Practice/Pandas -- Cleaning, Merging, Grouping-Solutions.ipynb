{
 "cells": [
  {
   "cell_type": "markdown",
   "metadata": {},
   "source": [
    "### Pandas Lab -- Cleaning, Merging, & Grouping\n",
    "\n",
    "This lab is designed to introduce students to common use cases for Pandas when working with data:\n",
    "\n",
    " - Creating new information out of your existing data set\n",
    " - Merging, concatenating, and joining different data sources\n",
    " - Grouping -- With both time & non-time based data"
   ]
  },
  {
   "cell_type": "markdown",
   "metadata": {},
   "source": [
    "### Section I: Creating Data Out of Your Existing Columns\n",
    "\n",
    "Go ahead and create the following columns in your dataset."
   ]
  },
  {
   "cell_type": "code",
   "execution_count": 151,
   "metadata": {},
   "outputs": [],
   "source": [
    "import pandas as pd\n",
    "import numpy as np\n",
    "# read in the file\n",
    "df = pd.read_excel('../data/superstore.xls', index_col='Row ID')"
   ]
  },
  {
   "cell_type": "markdown",
   "metadata": {},
   "source": [
    "**Column 1:**\n",
    "\n",
    "  - **Column Name:** Profitable\n",
    "  - **Values:** `True` if `Profit` > 0, `False` if not."
   ]
  },
  {
   "cell_type": "code",
   "execution_count": 71,
   "metadata": {},
   "outputs": [],
   "source": [
    "# your answer here\n",
    "df['Profitable'] = np.where(df['Profit'] > 0, True, False)"
   ]
  },
  {
   "cell_type": "markdown",
   "metadata": {},
   "source": [
    "**Column 2:**\n",
    "\n",
    " - **Column Name:** Expected Ship Time\n",
    " - **Values:**\n",
    "   - `0` if `Ship Mode` == `Same Day`\n",
    "   - `2` if `Ship Mode` == `First Class`\n",
    "   - `3` if `Ship Mode` == `Second Class`\n",
    "   - `6` if `Ship Mode` == `Standard Class`\n",
    "   - `-1` if none of the above."
   ]
  },
  {
   "cell_type": "code",
   "execution_count": 72,
   "metadata": {},
   "outputs": [],
   "source": [
    "# your answer here\n",
    "conditions = [\n",
    "    df['Ship Mode'] == 'Same Day',\n",
    "    df['Ship Mode'] == 'First Class',\n",
    "    df['Ship Mode'] == 'Second Class',\n",
    "    df['Ship Mode'] == 'Standard Class'\n",
    "]\n",
    "\n",
    "results = [0, 2, 3, 6]\n",
    "\n",
    "df['Expected Ship Time'] = np.select(conditions, results, -1)"
   ]
  },
  {
   "cell_type": "markdown",
   "metadata": {},
   "source": [
    "**Column 3:**\n",
    "\n",
    " - **Column Name:** Actual Ship Time\n",
    " - **Values:**\n",
    "   - `Ship Date` - `Order Date`\n",
    " - **Note:** When you subtract these columns, your column will be a **time delta**.  See if you can use the `dt` attribute to convert these values into an integer.  Ie, if your value reads `3 days`, you want that to be 3 instead.  You can read more about different time periods in pandas here:  https://pandas.pydata.org/pandas-docs/stable/user_guide/timeseries.html#time-date-components"
   ]
  },
  {
   "cell_type": "code",
   "execution_count": 73,
   "metadata": {},
   "outputs": [],
   "source": [
    "# your answer here\n",
    "df['Actual Ship Time'] = (df['Ship Date'] - df['Order Date']).dt.days"
   ]
  },
  {
   "cell_type": "markdown",
   "metadata": {},
   "source": [
    "**Column 4:**\n",
    "\n",
    " - **Column Name:** Late\n",
    " - **Values:** `True` if `Actual Ship Time` > `Expected Ship Time`, `False` otherwise"
   ]
  },
  {
   "cell_type": "code",
   "execution_count": 74,
   "metadata": {},
   "outputs": [],
   "source": [
    "# your answer here\n",
    "df['Late'] = df['Actual Ship Time'] > df['Expected Ship Time']"
   ]
  },
  {
   "cell_type": "markdown",
   "metadata": {},
   "source": [
    "### Section II: Merging Dataframes"
   ]
  },
  {
   "cell_type": "markdown",
   "metadata": {},
   "source": [
    "This excel spreadsheet has 3 separate sheets.  Look up the documentation on the `pd.read_excel` method on how to load in the other two.  \n",
    "\n",
    "After that, merge the other two dataframes into your original one, and make sure your original dataset now has the following columns:\n",
    "\n",
    " - **Salesperson:** This is the Salesperson in charge of each region.\n",
    " - **Returned:** This details whether or not the order was returned.  Fill in null values with the value `no`.\n",
    " \n",
    "Use the `rename()` method to create the Salesperson column label.\n",
    "\n",
    "**Important:** We want to keep all of the rows in the dataset we first loaded in.  After each merge, it's a good idea to make sure your dataset hasn't shrunk, which will happen if you don't choose the right merge type.  Make sure you have 9,994 rows when you're finished!"
   ]
  },
  {
   "cell_type": "code",
   "execution_count": 75,
   "metadata": {},
   "outputs": [],
   "source": [
    "# first, we'll import the other two sheets as different dataframes\n",
    "df2 = pd.read_excel('../data/superstore.xls', sheet_name=1)\n",
    "df3 = pd.read_excel('../data/superstore.xls', sheet_name=2)"
   ]
  },
  {
   "cell_type": "code",
   "execution_count": 76,
   "metadata": {},
   "outputs": [],
   "source": [
    "#we're going to do a LEFT join, to keep all the values in the original dataframe\n",
    "df = df.merge(df2, on='Order ID', how='left')"
   ]
  },
  {
   "cell_type": "code",
   "execution_count": 77,
   "metadata": {},
   "outputs": [
    {
     "data": {
      "text/plain": [
       "NaN    9194\n",
       "Yes     800\n",
       "Name: Returned, dtype: int64"
      ]
     },
     "execution_count": 77,
     "metadata": {},
     "output_type": "execute_result"
    }
   ],
   "source": [
    "# notice we have lots of empty values when we do the merge\n",
    "df['Returned'].value_counts(dropna=False)"
   ]
  },
  {
   "cell_type": "code",
   "execution_count": 78,
   "metadata": {},
   "outputs": [],
   "source": [
    "# so we'll fill these in\n",
    "df['Returned'].fillna('No', inplace=True)"
   ]
  },
  {
   "cell_type": "code",
   "execution_count": 79,
   "metadata": {},
   "outputs": [],
   "source": [
    "# and we'll merge the other one in\n",
    "# you could do a left or inner merge and still get the same results\n",
    "df = df.merge(df3, on='Region', how='inner')"
   ]
  },
  {
   "cell_type": "code",
   "execution_count": 80,
   "metadata": {},
   "outputs": [],
   "source": [
    "# takes a dictionary as an argument\n",
    "# 'old label': 'new label' -- can be used to rename rows or columns\n",
    "df.rename({'Person': 'Salesperson'}, axis=1, inplace=True)"
   ]
  },
  {
   "cell_type": "markdown",
   "metadata": {},
   "source": [
    "### Section III: Grouping\n",
    "\n",
    "Use the `groupby` or `resample` method to answer the following questions."
   ]
  },
  {
   "cell_type": "markdown",
   "metadata": {},
   "source": [
    "**Question 1:** What salesperson had the highest average sales amount? "
   ]
  },
  {
   "cell_type": "code",
   "execution_count": 111,
   "metadata": {},
   "outputs": [
    {
     "data": {
      "text/plain": [
       "Salesperson\n",
       "Anna Andreadi        226.493233\n",
       "Cassandra Brandow    241.803645\n",
       "Chuck Magee          238.336110\n",
       "Kelly Williams       215.772661\n",
       "Name: Sales, dtype: float64"
      ]
     },
     "execution_count": 111,
     "metadata": {},
     "output_type": "execute_result"
    }
   ],
   "source": [
    "# It was Cassandra\n",
    "df.groupby('Salesperson')['Sales'].mean()"
   ]
  },
  {
   "cell_type": "markdown",
   "metadata": {},
   "source": [
    "**Question 2:** Within each ship mode, compare how likely late orders were to be profitable or not"
   ]
  },
  {
   "cell_type": "code",
   "execution_count": 86,
   "metadata": {},
   "outputs": [
    {
     "data": {
      "text/plain": [
       "Ship Mode       Late \n",
       "First Class     False    0.795405\n",
       "                True     0.814103\n",
       "Same Day        False    0.813102\n",
       "                True     0.916667\n",
       "Second Class    False    0.845415\n",
       "                True     0.827500\n",
       "Standard Class  False    0.794651\n",
       "                True     0.805153\n",
       "Name: Profitable, dtype: float64"
      ]
     },
     "execution_count": 86,
     "metadata": {},
     "output_type": "execute_result"
    }
   ],
   "source": [
    "# The answer, for the most part -- looks like no difference, except for Same Day\n",
    "df.groupby(['Ship Mode', 'Late'])['Profitable'].mean()"
   ]
  },
  {
   "cell_type": "markdown",
   "metadata": {},
   "source": [
    "**Question 3:** What ship mode had the most consistently on time orders?"
   ]
  },
  {
   "cell_type": "code",
   "execution_count": 83,
   "metadata": {},
   "outputs": [
    {
     "data": {
      "text/plain": [
       "Ship Mode\n",
       "First Class       0.405722\n",
       "Same Day          0.044199\n",
       "Second Class      0.411311\n",
       "Standard Class    0.104055\n",
       "Name: Late, dtype: float64"
      ]
     },
     "execution_count": 83,
     "metadata": {},
     "output_type": "execute_result"
    }
   ],
   "source": [
    "# Same Day\n",
    "df.groupby('Ship Mode')['Late'].mean()"
   ]
  },
  {
   "cell_type": "markdown",
   "metadata": {},
   "source": [
    "**Question 4:** For each sales person, get their average, median, max, and count of their sales."
   ]
  },
  {
   "cell_type": "code",
   "execution_count": 87,
   "metadata": {},
   "outputs": [
    {
     "data": {
      "text/html": [
       "<div>\n",
       "<style scoped>\n",
       "    .dataframe tbody tr th:only-of-type {\n",
       "        vertical-align: middle;\n",
       "    }\n",
       "\n",
       "    .dataframe tbody tr th {\n",
       "        vertical-align: top;\n",
       "    }\n",
       "\n",
       "    .dataframe thead th {\n",
       "        text-align: right;\n",
       "    }\n",
       "</style>\n",
       "<table border=\"1\" class=\"dataframe\">\n",
       "  <thead>\n",
       "    <tr style=\"text-align: right;\">\n",
       "      <th></th>\n",
       "      <th>mean</th>\n",
       "      <th>median</th>\n",
       "      <th>max</th>\n",
       "      <th>count</th>\n",
       "    </tr>\n",
       "    <tr>\n",
       "      <th>Salesperson</th>\n",
       "      <th></th>\n",
       "      <th></th>\n",
       "      <th></th>\n",
       "      <th></th>\n",
       "    </tr>\n",
       "  </thead>\n",
       "  <tbody>\n",
       "    <tr>\n",
       "      <th>Anna Andreadi</th>\n",
       "      <td>226.493233</td>\n",
       "      <td>60.840</td>\n",
       "      <td>13999.960</td>\n",
       "      <td>3203</td>\n",
       "    </tr>\n",
       "    <tr>\n",
       "      <th>Cassandra Brandow</th>\n",
       "      <td>241.803645</td>\n",
       "      <td>54.594</td>\n",
       "      <td>22638.480</td>\n",
       "      <td>1620</td>\n",
       "    </tr>\n",
       "    <tr>\n",
       "      <th>Chuck Magee</th>\n",
       "      <td>238.336110</td>\n",
       "      <td>54.900</td>\n",
       "      <td>11199.968</td>\n",
       "      <td>2848</td>\n",
       "    </tr>\n",
       "    <tr>\n",
       "      <th>Kelly Williams</th>\n",
       "      <td>215.772661</td>\n",
       "      <td>45.980</td>\n",
       "      <td>17499.950</td>\n",
       "      <td>2323</td>\n",
       "    </tr>\n",
       "  </tbody>\n",
       "</table>\n",
       "</div>"
      ],
      "text/plain": [
       "                         mean  median        max  count\n",
       "Salesperson                                            \n",
       "Anna Andreadi      226.493233  60.840  13999.960   3203\n",
       "Cassandra Brandow  241.803645  54.594  22638.480   1620\n",
       "Chuck Magee        238.336110  54.900  11199.968   2848\n",
       "Kelly Williams     215.772661  45.980  17499.950   2323"
      ]
     },
     "execution_count": 87,
     "metadata": {},
     "output_type": "execute_result"
    }
   ],
   "source": [
    "# your answer here\n",
    "df.groupby('Salesperson')['Sales'].agg(['mean', 'median', 'max', 'count'])"
   ]
  },
  {
   "cell_type": "markdown",
   "metadata": {},
   "source": [
    "**Question 5:** Group your dataset according to  `Region`, and `Category`, and then call the `describe()` method to get the summary statistics for each subgroup."
   ]
  },
  {
   "cell_type": "code",
   "execution_count": 113,
   "metadata": {},
   "outputs": [
    {
     "data": {
      "text/html": [
       "<div>\n",
       "<style scoped>\n",
       "    .dataframe tbody tr th:only-of-type {\n",
       "        vertical-align: middle;\n",
       "    }\n",
       "\n",
       "    .dataframe tbody tr th {\n",
       "        vertical-align: top;\n",
       "    }\n",
       "\n",
       "    .dataframe thead tr th {\n",
       "        text-align: left;\n",
       "    }\n",
       "\n",
       "    .dataframe thead tr:last-of-type th {\n",
       "        text-align: right;\n",
       "    }\n",
       "</style>\n",
       "<table border=\"1\" class=\"dataframe\">\n",
       "  <thead>\n",
       "    <tr>\n",
       "      <th></th>\n",
       "      <th></th>\n",
       "      <th colspan=\"8\" halign=\"left\">Actual Ship Time</th>\n",
       "      <th colspan=\"2\" halign=\"left\">Discount</th>\n",
       "      <th>...</th>\n",
       "      <th colspan=\"2\" halign=\"left\">Quantity</th>\n",
       "      <th colspan=\"8\" halign=\"left\">Sales</th>\n",
       "    </tr>\n",
       "    <tr>\n",
       "      <th></th>\n",
       "      <th></th>\n",
       "      <th>count</th>\n",
       "      <th>mean</th>\n",
       "      <th>std</th>\n",
       "      <th>min</th>\n",
       "      <th>25%</th>\n",
       "      <th>50%</th>\n",
       "      <th>75%</th>\n",
       "      <th>max</th>\n",
       "      <th>count</th>\n",
       "      <th>mean</th>\n",
       "      <th>...</th>\n",
       "      <th>75%</th>\n",
       "      <th>max</th>\n",
       "      <th>count</th>\n",
       "      <th>mean</th>\n",
       "      <th>std</th>\n",
       "      <th>min</th>\n",
       "      <th>25%</th>\n",
       "      <th>50%</th>\n",
       "      <th>75%</th>\n",
       "      <th>max</th>\n",
       "    </tr>\n",
       "    <tr>\n",
       "      <th>Region</th>\n",
       "      <th>Category</th>\n",
       "      <th></th>\n",
       "      <th></th>\n",
       "      <th></th>\n",
       "      <th></th>\n",
       "      <th></th>\n",
       "      <th></th>\n",
       "      <th></th>\n",
       "      <th></th>\n",
       "      <th></th>\n",
       "      <th></th>\n",
       "      <th></th>\n",
       "      <th></th>\n",
       "      <th></th>\n",
       "      <th></th>\n",
       "      <th></th>\n",
       "      <th></th>\n",
       "      <th></th>\n",
       "      <th></th>\n",
       "      <th></th>\n",
       "      <th></th>\n",
       "      <th></th>\n",
       "    </tr>\n",
       "  </thead>\n",
       "  <tbody>\n",
       "    <tr>\n",
       "      <th rowspan=\"3\" valign=\"top\">Central</th>\n",
       "      <th>Furniture</th>\n",
       "      <td>481.0</td>\n",
       "      <td>3.979210</td>\n",
       "      <td>1.713787</td>\n",
       "      <td>0.0</td>\n",
       "      <td>3.0</td>\n",
       "      <td>4.0</td>\n",
       "      <td>5.0</td>\n",
       "      <td>7.0</td>\n",
       "      <td>481.0</td>\n",
       "      <td>0.297380</td>\n",
       "      <td>...</td>\n",
       "      <td>5.0</td>\n",
       "      <td>14.0</td>\n",
       "      <td>481.0</td>\n",
       "      <td>340.534644</td>\n",
       "      <td>463.964050</td>\n",
       "      <td>1.892</td>\n",
       "      <td>34.50400</td>\n",
       "      <td>191.058</td>\n",
       "      <td>459.9200</td>\n",
       "      <td>3504.900</td>\n",
       "    </tr>\n",
       "    <tr>\n",
       "      <th>Office Supplies</th>\n",
       "      <td>1422.0</td>\n",
       "      <td>4.120253</td>\n",
       "      <td>1.707383</td>\n",
       "      <td>0.0</td>\n",
       "      <td>3.0</td>\n",
       "      <td>4.0</td>\n",
       "      <td>5.0</td>\n",
       "      <td>7.0</td>\n",
       "      <td>1422.0</td>\n",
       "      <td>0.252743</td>\n",
       "      <td>...</td>\n",
       "      <td>5.0</td>\n",
       "      <td>14.0</td>\n",
       "      <td>1422.0</td>\n",
       "      <td>117.458801</td>\n",
       "      <td>474.295578</td>\n",
       "      <td>0.444</td>\n",
       "      <td>10.36800</td>\n",
       "      <td>24.046</td>\n",
       "      <td>69.5640</td>\n",
       "      <td>9892.740</td>\n",
       "    </tr>\n",
       "    <tr>\n",
       "      <th>Technology</th>\n",
       "      <td>420.0</td>\n",
       "      <td>3.938095</td>\n",
       "      <td>1.586331</td>\n",
       "      <td>0.0</td>\n",
       "      <td>3.0</td>\n",
       "      <td>4.0</td>\n",
       "      <td>5.0</td>\n",
       "      <td>7.0</td>\n",
       "      <td>420.0</td>\n",
       "      <td>0.133095</td>\n",
       "      <td>...</td>\n",
       "      <td>5.0</td>\n",
       "      <td>12.0</td>\n",
       "      <td>420.0</td>\n",
       "      <td>405.753124</td>\n",
       "      <td>1059.529951</td>\n",
       "      <td>1.980</td>\n",
       "      <td>62.37750</td>\n",
       "      <td>158.376</td>\n",
       "      <td>401.1975</td>\n",
       "      <td>17499.950</td>\n",
       "    </tr>\n",
       "    <tr>\n",
       "      <th rowspan=\"3\" valign=\"top\">East</th>\n",
       "      <th>Furniture</th>\n",
       "      <td>601.0</td>\n",
       "      <td>3.850250</td>\n",
       "      <td>1.747628</td>\n",
       "      <td>0.0</td>\n",
       "      <td>3.0</td>\n",
       "      <td>4.0</td>\n",
       "      <td>5.0</td>\n",
       "      <td>7.0</td>\n",
       "      <td>601.0</td>\n",
       "      <td>0.154077</td>\n",
       "      <td>...</td>\n",
       "      <td>5.0</td>\n",
       "      <td>14.0</td>\n",
       "      <td>601.0</td>\n",
       "      <td>346.574383</td>\n",
       "      <td>547.628260</td>\n",
       "      <td>2.960</td>\n",
       "      <td>51.96800</td>\n",
       "      <td>172.110</td>\n",
       "      <td>396.8020</td>\n",
       "      <td>4416.174</td>\n",
       "    </tr>\n",
       "    <tr>\n",
       "      <th>Office Supplies</th>\n",
       "      <td>1712.0</td>\n",
       "      <td>3.937500</td>\n",
       "      <td>1.724834</td>\n",
       "      <td>0.0</td>\n",
       "      <td>3.0</td>\n",
       "      <td>4.0</td>\n",
       "      <td>5.0</td>\n",
       "      <td>7.0</td>\n",
       "      <td>1712.0</td>\n",
       "      <td>0.142932</td>\n",
       "      <td>...</td>\n",
       "      <td>5.0</td>\n",
       "      <td>14.0</td>\n",
       "      <td>1712.0</td>\n",
       "      <td>120.044425</td>\n",
       "      <td>330.587488</td>\n",
       "      <td>0.852</td>\n",
       "      <td>11.67225</td>\n",
       "      <td>27.108</td>\n",
       "      <td>78.8640</td>\n",
       "      <td>4663.736</td>\n",
       "    </tr>\n",
       "    <tr>\n",
       "      <th>Technology</th>\n",
       "      <td>535.0</td>\n",
       "      <td>3.882243</td>\n",
       "      <td>1.720977</td>\n",
       "      <td>0.0</td>\n",
       "      <td>3.0</td>\n",
       "      <td>4.0</td>\n",
       "      <td>5.0</td>\n",
       "      <td>7.0</td>\n",
       "      <td>535.0</td>\n",
       "      <td>0.143364</td>\n",
       "      <td>...</td>\n",
       "      <td>5.0</td>\n",
       "      <td>14.0</td>\n",
       "      <td>535.0</td>\n",
       "      <td>495.278469</td>\n",
       "      <td>1114.810815</td>\n",
       "      <td>2.970</td>\n",
       "      <td>63.90000</td>\n",
       "      <td>158.376</td>\n",
       "      <td>479.9510</td>\n",
       "      <td>11199.968</td>\n",
       "    </tr>\n",
       "    <tr>\n",
       "      <th rowspan=\"3\" valign=\"top\">South</th>\n",
       "      <th>Furniture</th>\n",
       "      <td>332.0</td>\n",
       "      <td>4.024096</td>\n",
       "      <td>1.690392</td>\n",
       "      <td>0.0</td>\n",
       "      <td>3.0</td>\n",
       "      <td>4.0</td>\n",
       "      <td>5.0</td>\n",
       "      <td>7.0</td>\n",
       "      <td>332.0</td>\n",
       "      <td>0.121536</td>\n",
       "      <td>...</td>\n",
       "      <td>5.0</td>\n",
       "      <td>14.0</td>\n",
       "      <td>332.0</td>\n",
       "      <td>353.309289</td>\n",
       "      <td>513.186098</td>\n",
       "      <td>2.784</td>\n",
       "      <td>44.60200</td>\n",
       "      <td>184.125</td>\n",
       "      <td>400.7880</td>\n",
       "      <td>4297.644</td>\n",
       "    </tr>\n",
       "    <tr>\n",
       "      <th>Office Supplies</th>\n",
       "      <td>995.0</td>\n",
       "      <td>3.955779</td>\n",
       "      <td>1.723916</td>\n",
       "      <td>0.0</td>\n",
       "      <td>3.0</td>\n",
       "      <td>4.0</td>\n",
       "      <td>5.0</td>\n",
       "      <td>7.0</td>\n",
       "      <td>995.0</td>\n",
       "      <td>0.167437</td>\n",
       "      <td>...</td>\n",
       "      <td>5.0</td>\n",
       "      <td>14.0</td>\n",
       "      <td>995.0</td>\n",
       "      <td>126.282727</td>\n",
       "      <td>357.811953</td>\n",
       "      <td>1.167</td>\n",
       "      <td>11.91600</td>\n",
       "      <td>28.840</td>\n",
       "      <td>88.7680</td>\n",
       "      <td>6354.950</td>\n",
       "    </tr>\n",
       "    <tr>\n",
       "      <th>Technology</th>\n",
       "      <td>293.0</td>\n",
       "      <td>3.890785</td>\n",
       "      <td>1.836190</td>\n",
       "      <td>0.0</td>\n",
       "      <td>3.0</td>\n",
       "      <td>4.0</td>\n",
       "      <td>5.0</td>\n",
       "      <td>7.0</td>\n",
       "      <td>293.0</td>\n",
       "      <td>0.107850</td>\n",
       "      <td>...</td>\n",
       "      <td>5.0</td>\n",
       "      <td>14.0</td>\n",
       "      <td>293.0</td>\n",
       "      <td>507.753952</td>\n",
       "      <td>1569.548933</td>\n",
       "      <td>1.584</td>\n",
       "      <td>63.93600</td>\n",
       "      <td>173.940</td>\n",
       "      <td>479.9840</td>\n",
       "      <td>22638.480</td>\n",
       "    </tr>\n",
       "    <tr>\n",
       "      <th rowspan=\"3\" valign=\"top\">West</th>\n",
       "      <th>Furniture</th>\n",
       "      <td>707.0</td>\n",
       "      <td>3.881188</td>\n",
       "      <td>1.818235</td>\n",
       "      <td>0.0</td>\n",
       "      <td>2.0</td>\n",
       "      <td>4.0</td>\n",
       "      <td>5.0</td>\n",
       "      <td>7.0</td>\n",
       "      <td>707.0</td>\n",
       "      <td>0.131400</td>\n",
       "      <td>...</td>\n",
       "      <td>5.0</td>\n",
       "      <td>14.0</td>\n",
       "      <td>707.0</td>\n",
       "      <td>357.302325</td>\n",
       "      <td>485.240433</td>\n",
       "      <td>3.480</td>\n",
       "      <td>51.85900</td>\n",
       "      <td>191.968</td>\n",
       "      <td>465.8090</td>\n",
       "      <td>3610.848</td>\n",
       "    </tr>\n",
       "    <tr>\n",
       "      <th>Office Supplies</th>\n",
       "      <td>1897.0</td>\n",
       "      <td>3.936742</td>\n",
       "      <td>1.804590</td>\n",
       "      <td>0.0</td>\n",
       "      <td>3.0</td>\n",
       "      <td>4.0</td>\n",
       "      <td>5.0</td>\n",
       "      <td>7.0</td>\n",
       "      <td>1897.0</td>\n",
       "      <td>0.093358</td>\n",
       "      <td>...</td>\n",
       "      <td>5.0</td>\n",
       "      <td>14.0</td>\n",
       "      <td>1897.0</td>\n",
       "      <td>116.422377</td>\n",
       "      <td>360.236892</td>\n",
       "      <td>1.080</td>\n",
       "      <td>12.96000</td>\n",
       "      <td>30.560</td>\n",
       "      <td>83.9200</td>\n",
       "      <td>8187.650</td>\n",
       "    </tr>\n",
       "    <tr>\n",
       "      <th>Technology</th>\n",
       "      <td>599.0</td>\n",
       "      <td>3.964942</td>\n",
       "      <td>1.809610</td>\n",
       "      <td>0.0</td>\n",
       "      <td>3.0</td>\n",
       "      <td>4.0</td>\n",
       "      <td>5.0</td>\n",
       "      <td>7.0</td>\n",
       "      <td>599.0</td>\n",
       "      <td>0.133890</td>\n",
       "      <td>...</td>\n",
       "      <td>5.0</td>\n",
       "      <td>14.0</td>\n",
       "      <td>599.0</td>\n",
       "      <td>420.687533</td>\n",
       "      <td>830.228235</td>\n",
       "      <td>0.990</td>\n",
       "      <td>79.94000</td>\n",
       "      <td>185.528</td>\n",
       "      <td>445.9600</td>\n",
       "      <td>13999.960</td>\n",
       "    </tr>\n",
       "  </tbody>\n",
       "</table>\n",
       "<p>12 rows × 56 columns</p>\n",
       "</div>"
      ],
      "text/plain": [
       "                        Actual Ship Time                                     \\\n",
       "                                   count      mean       std  min  25%  50%   \n",
       "Region  Category                                                              \n",
       "Central Furniture                  481.0  3.979210  1.713787  0.0  3.0  4.0   \n",
       "        Office Supplies           1422.0  4.120253  1.707383  0.0  3.0  4.0   \n",
       "        Technology                 420.0  3.938095  1.586331  0.0  3.0  4.0   \n",
       "East    Furniture                  601.0  3.850250  1.747628  0.0  3.0  4.0   \n",
       "        Office Supplies           1712.0  3.937500  1.724834  0.0  3.0  4.0   \n",
       "        Technology                 535.0  3.882243  1.720977  0.0  3.0  4.0   \n",
       "South   Furniture                  332.0  4.024096  1.690392  0.0  3.0  4.0   \n",
       "        Office Supplies            995.0  3.955779  1.723916  0.0  3.0  4.0   \n",
       "        Technology                 293.0  3.890785  1.836190  0.0  3.0  4.0   \n",
       "West    Furniture                  707.0  3.881188  1.818235  0.0  2.0  4.0   \n",
       "        Office Supplies           1897.0  3.936742  1.804590  0.0  3.0  4.0   \n",
       "        Technology                 599.0  3.964942  1.809610  0.0  3.0  4.0   \n",
       "\n",
       "                                  Discount              ...     Quantity  \\\n",
       "                         75%  max    count      mean    ...          75%   \n",
       "Region  Category                                        ...                \n",
       "Central Furniture        5.0  7.0    481.0  0.297380    ...          5.0   \n",
       "        Office Supplies  5.0  7.0   1422.0  0.252743    ...          5.0   \n",
       "        Technology       5.0  7.0    420.0  0.133095    ...          5.0   \n",
       "East    Furniture        5.0  7.0    601.0  0.154077    ...          5.0   \n",
       "        Office Supplies  5.0  7.0   1712.0  0.142932    ...          5.0   \n",
       "        Technology       5.0  7.0    535.0  0.143364    ...          5.0   \n",
       "South   Furniture        5.0  7.0    332.0  0.121536    ...          5.0   \n",
       "        Office Supplies  5.0  7.0    995.0  0.167437    ...          5.0   \n",
       "        Technology       5.0  7.0    293.0  0.107850    ...          5.0   \n",
       "West    Furniture        5.0  7.0    707.0  0.131400    ...          5.0   \n",
       "        Office Supplies  5.0  7.0   1897.0  0.093358    ...          5.0   \n",
       "        Technology       5.0  7.0    599.0  0.133890    ...          5.0   \n",
       "\n",
       "                                Sales                                  \\\n",
       "                          max   count        mean          std    min   \n",
       "Region  Category                                                        \n",
       "Central Furniture        14.0   481.0  340.534644   463.964050  1.892   \n",
       "        Office Supplies  14.0  1422.0  117.458801   474.295578  0.444   \n",
       "        Technology       12.0   420.0  405.753124  1059.529951  1.980   \n",
       "East    Furniture        14.0   601.0  346.574383   547.628260  2.960   \n",
       "        Office Supplies  14.0  1712.0  120.044425   330.587488  0.852   \n",
       "        Technology       14.0   535.0  495.278469  1114.810815  2.970   \n",
       "South   Furniture        14.0   332.0  353.309289   513.186098  2.784   \n",
       "        Office Supplies  14.0   995.0  126.282727   357.811953  1.167   \n",
       "        Technology       14.0   293.0  507.753952  1569.548933  1.584   \n",
       "West    Furniture        14.0   707.0  357.302325   485.240433  3.480   \n",
       "        Office Supplies  14.0  1897.0  116.422377   360.236892  1.080   \n",
       "        Technology       14.0   599.0  420.687533   830.228235  0.990   \n",
       "\n",
       "                                                                 \n",
       "                              25%      50%       75%        max  \n",
       "Region  Category                                                 \n",
       "Central Furniture        34.50400  191.058  459.9200   3504.900  \n",
       "        Office Supplies  10.36800   24.046   69.5640   9892.740  \n",
       "        Technology       62.37750  158.376  401.1975  17499.950  \n",
       "East    Furniture        51.96800  172.110  396.8020   4416.174  \n",
       "        Office Supplies  11.67225   27.108   78.8640   4663.736  \n",
       "        Technology       63.90000  158.376  479.9510  11199.968  \n",
       "South   Furniture        44.60200  184.125  400.7880   4297.644  \n",
       "        Office Supplies  11.91600   28.840   88.7680   6354.950  \n",
       "        Technology       63.93600  173.940  479.9840  22638.480  \n",
       "West    Furniture        51.85900  191.968  465.8090   3610.848  \n",
       "        Office Supplies  12.96000   30.560   83.9200   8187.650  \n",
       "        Technology       79.94000  185.528  445.9600  13999.960  \n",
       "\n",
       "[12 rows x 56 columns]"
      ]
     },
     "execution_count": 113,
     "metadata": {},
     "output_type": "execute_result"
    }
   ],
   "source": [
    "# your answer here\n",
    "df.groupby(['Region', 'Category']).describe()"
   ]
  },
  {
   "cell_type": "markdown",
   "metadata": {},
   "source": [
    "**Question 6:** Use the `Resample()` method to get the sum of quarterly sales."
   ]
  },
  {
   "cell_type": "code",
   "execution_count": 37,
   "metadata": {},
   "outputs": [
    {
     "data": {
      "text/plain": [
       "Order Date\n",
       "2014-03-31     74447.7960\n",
       "2014-06-30     86538.7596\n",
       "2014-09-30    143633.2123\n",
       "2014-12-31    179627.7302\n",
       "2015-03-31     68851.7386\n",
       "2015-06-30     89124.1870\n",
       "2015-09-30    130259.5752\n",
       "2015-12-31    182297.0082\n",
       "2016-03-31     93237.1810\n",
       "2016-06-30    136082.3010\n",
       "2016-09-30    143787.3622\n",
       "2016-12-31    236098.7538\n",
       "2017-03-31    123144.8602\n",
       "2017-06-30    133764.3720\n",
       "2017-09-30    196251.9560\n",
       "2017-12-31    280054.0670\n",
       "Freq: Q-DEC, Name: Sales, dtype: float64"
      ]
     },
     "execution_count": 37,
     "metadata": {},
     "output_type": "execute_result"
    }
   ],
   "source": [
    "# your answer here\n",
    "df.resample('Q', on='Order Date')['Sales'].sum()"
   ]
  },
  {
   "cell_type": "markdown",
   "metadata": {},
   "source": [
    "**Question 7:** What quarter had the highest total sales amount?"
   ]
  },
  {
   "cell_type": "code",
   "execution_count": 44,
   "metadata": {},
   "outputs": [
    {
     "data": {
      "text/plain": [
       "280054.067"
      ]
     },
     "execution_count": 44,
     "metadata": {},
     "output_type": "execute_result"
    }
   ],
   "source": [
    "# this would give you the maximum value\n",
    "df.resample('Q', on='Order Date')['Sales'].sum().max()"
   ]
  },
  {
   "cell_type": "code",
   "execution_count": 45,
   "metadata": {},
   "outputs": [
    {
     "data": {
      "text/plain": [
       "Timestamp('2017-12-31 00:00:00', freq='Q-DEC')"
      ]
     },
     "execution_count": 45,
     "metadata": {},
     "output_type": "execute_result"
    }
   ],
   "source": [
    "# if you wanted to get the actual Quarter that his happened in , do this\n",
    "df.resample('Q', on='Order Date')['Sales'].sum().idxmax()"
   ]
  },
  {
   "cell_type": "code",
   "execution_count": 61,
   "metadata": {},
   "outputs": [
    {
     "data": {
      "text/plain": [
       "Order Date    2017-12-31 00:00:00\n",
       "Sales                      280054\n",
       "Name: 15, dtype: object"
      ]
     },
     "execution_count": 61,
     "metadata": {},
     "output_type": "execute_result"
    }
   ],
   "source": [
    "# and if you wanted both......\n",
    "grouping = df.resample('Q', on='Order Date')['Sales'].sum().reset_index()\n",
    "max_idx  = grouping['Sales'].idxmax()\n",
    "grouping.iloc[max_idx]"
   ]
  },
  {
   "cell_type": "markdown",
   "metadata": {},
   "source": [
    "**Question 8:** See if you can use the `groupby` method to get a list of yearly sales for each region inside the dataset.\n",
    "\n",
    "**Hint:** Try using the `dt` attribute of the `Order Date` column"
   ]
  },
  {
   "cell_type": "code",
   "execution_count": 105,
   "metadata": {},
   "outputs": [
    {
     "data": {
      "text/plain": [
       "Region   Order Date\n",
       "Central  2014          103838.1646\n",
       "         2015          102874.2220\n",
       "         2016          147429.3760\n",
       "         2017          147098.1282\n",
       "East     2014          128680.4570\n",
       "         2015          156332.0570\n",
       "         2016          180685.8220\n",
       "         2017          213082.9040\n",
       "South    2014          103845.8435\n",
       "         2015           71359.9805\n",
       "         2016           93610.2235\n",
       "         2017          122905.8575\n",
       "West     2014          147883.0330\n",
       "         2015          139966.2495\n",
       "         2016          187480.1765\n",
       "         2017          250128.3655\n",
       "Name: Sales, dtype: float64"
      ]
     },
     "execution_count": 105,
     "metadata": {},
     "output_type": "execute_result"
    }
   ],
   "source": [
    "df.groupby(['Region', df['Order Date'].dt.year])['Sales'].sum()"
   ]
  },
  {
   "cell_type": "markdown",
   "metadata": {},
   "source": [
    "**Bonus:** Creating summary statistics with a `groupby` statement.  \n",
    "\n",
    "Lots of times it's very useful to be able to create a summary statistic for a particular category to compare with individual samples.\n",
    "\n",
    "For example, if you were doing fraud detection, and someone were making a purchase at a 7-11, a transaction amount of $175 would be unusually large for someone making a purchase at a convenience store, essentially setting off a red flag that the transaction might be suspicious.\n",
    "\n",
    "Creating such comparisons is easily done using the `groupby` method and then merging it back into the original dataframe.  \n",
    "\n",
    "For example, if you wanted to compare every single purchase amount with the average amount for that category, you could do it in the following way:"
   ]
  },
  {
   "cell_type": "code",
   "execution_count": 152,
   "metadata": {},
   "outputs": [],
   "source": [
    "# create the grouping\n",
    "cat_grouping = df.groupby('Category')[['Sales']].mean()\n",
    "# this step is mostly just to make the merged dataframe more tidy\n",
    "cat_grouping.rename({'Sales': 'Cat_Average'}, axis=1, inplace=True)"
   ]
  },
  {
   "cell_type": "code",
   "execution_count": 153,
   "metadata": {},
   "outputs": [],
   "source": [
    "# join them\n",
    "df = df.merge(cat_grouping, left_on='Category', right_index=True)"
   ]
  },
  {
   "cell_type": "code",
   "execution_count": 154,
   "metadata": {},
   "outputs": [
    {
     "data": {
      "text/html": [
       "<div>\n",
       "<style scoped>\n",
       "    .dataframe tbody tr th:only-of-type {\n",
       "        vertical-align: middle;\n",
       "    }\n",
       "\n",
       "    .dataframe tbody tr th {\n",
       "        vertical-align: top;\n",
       "    }\n",
       "\n",
       "    .dataframe thead th {\n",
       "        text-align: right;\n",
       "    }\n",
       "</style>\n",
       "<table border=\"1\" class=\"dataframe\">\n",
       "  <thead>\n",
       "    <tr style=\"text-align: right;\">\n",
       "      <th></th>\n",
       "      <th>Order ID</th>\n",
       "      <th>Order Date</th>\n",
       "      <th>Ship Date</th>\n",
       "      <th>Ship Mode</th>\n",
       "      <th>Customer ID</th>\n",
       "      <th>Customer Name</th>\n",
       "      <th>Segment</th>\n",
       "      <th>Country</th>\n",
       "      <th>City</th>\n",
       "      <th>State</th>\n",
       "      <th>...</th>\n",
       "      <th>Region</th>\n",
       "      <th>Product ID</th>\n",
       "      <th>Category</th>\n",
       "      <th>Sub-Category</th>\n",
       "      <th>Product Name</th>\n",
       "      <th>Sales</th>\n",
       "      <th>Quantity</th>\n",
       "      <th>Discount</th>\n",
       "      <th>Profit</th>\n",
       "      <th>Cat_Average</th>\n",
       "    </tr>\n",
       "    <tr>\n",
       "      <th>Row ID</th>\n",
       "      <th></th>\n",
       "      <th></th>\n",
       "      <th></th>\n",
       "      <th></th>\n",
       "      <th></th>\n",
       "      <th></th>\n",
       "      <th></th>\n",
       "      <th></th>\n",
       "      <th></th>\n",
       "      <th></th>\n",
       "      <th></th>\n",
       "      <th></th>\n",
       "      <th></th>\n",
       "      <th></th>\n",
       "      <th></th>\n",
       "      <th></th>\n",
       "      <th></th>\n",
       "      <th></th>\n",
       "      <th></th>\n",
       "      <th></th>\n",
       "      <th></th>\n",
       "    </tr>\n",
       "  </thead>\n",
       "  <tbody>\n",
       "    <tr>\n",
       "      <th>1</th>\n",
       "      <td>CA-2016-152156</td>\n",
       "      <td>2016-11-08</td>\n",
       "      <td>2016-11-11</td>\n",
       "      <td>Second Class</td>\n",
       "      <td>CG-12520</td>\n",
       "      <td>Claire Gute</td>\n",
       "      <td>Consumer</td>\n",
       "      <td>United States</td>\n",
       "      <td>Henderson</td>\n",
       "      <td>Kentucky</td>\n",
       "      <td>...</td>\n",
       "      <td>South</td>\n",
       "      <td>FUR-BO-10001798</td>\n",
       "      <td>Furniture</td>\n",
       "      <td>Bookcases</td>\n",
       "      <td>Bush Somerset Collection Bookcase</td>\n",
       "      <td>261.9600</td>\n",
       "      <td>2</td>\n",
       "      <td>0.00</td>\n",
       "      <td>41.9136</td>\n",
       "      <td>349.834887</td>\n",
       "    </tr>\n",
       "    <tr>\n",
       "      <th>2</th>\n",
       "      <td>CA-2016-152156</td>\n",
       "      <td>2016-11-08</td>\n",
       "      <td>2016-11-11</td>\n",
       "      <td>Second Class</td>\n",
       "      <td>CG-12520</td>\n",
       "      <td>Claire Gute</td>\n",
       "      <td>Consumer</td>\n",
       "      <td>United States</td>\n",
       "      <td>Henderson</td>\n",
       "      <td>Kentucky</td>\n",
       "      <td>...</td>\n",
       "      <td>South</td>\n",
       "      <td>FUR-CH-10000454</td>\n",
       "      <td>Furniture</td>\n",
       "      <td>Chairs</td>\n",
       "      <td>Hon Deluxe Fabric Upholstered Stacking Chairs,...</td>\n",
       "      <td>731.9400</td>\n",
       "      <td>3</td>\n",
       "      <td>0.00</td>\n",
       "      <td>219.5820</td>\n",
       "      <td>349.834887</td>\n",
       "    </tr>\n",
       "    <tr>\n",
       "      <th>4</th>\n",
       "      <td>US-2015-108966</td>\n",
       "      <td>2015-10-11</td>\n",
       "      <td>2015-10-18</td>\n",
       "      <td>Standard Class</td>\n",
       "      <td>SO-20335</td>\n",
       "      <td>Sean O'Donnell</td>\n",
       "      <td>Consumer</td>\n",
       "      <td>United States</td>\n",
       "      <td>Fort Lauderdale</td>\n",
       "      <td>Florida</td>\n",
       "      <td>...</td>\n",
       "      <td>South</td>\n",
       "      <td>FUR-TA-10000577</td>\n",
       "      <td>Furniture</td>\n",
       "      <td>Tables</td>\n",
       "      <td>Bretford CR4500 Series Slim Rectangular Table</td>\n",
       "      <td>957.5775</td>\n",
       "      <td>5</td>\n",
       "      <td>0.45</td>\n",
       "      <td>-383.0310</td>\n",
       "      <td>349.834887</td>\n",
       "    </tr>\n",
       "    <tr>\n",
       "      <th>6</th>\n",
       "      <td>CA-2014-115812</td>\n",
       "      <td>2014-06-09</td>\n",
       "      <td>2014-06-14</td>\n",
       "      <td>Standard Class</td>\n",
       "      <td>BH-11710</td>\n",
       "      <td>Brosina Hoffman</td>\n",
       "      <td>Consumer</td>\n",
       "      <td>United States</td>\n",
       "      <td>Los Angeles</td>\n",
       "      <td>California</td>\n",
       "      <td>...</td>\n",
       "      <td>West</td>\n",
       "      <td>FUR-FU-10001487</td>\n",
       "      <td>Furniture</td>\n",
       "      <td>Furnishings</td>\n",
       "      <td>Eldon Expressions Wood and Plastic Desk Access...</td>\n",
       "      <td>48.8600</td>\n",
       "      <td>7</td>\n",
       "      <td>0.00</td>\n",
       "      <td>14.1694</td>\n",
       "      <td>349.834887</td>\n",
       "    </tr>\n",
       "    <tr>\n",
       "      <th>11</th>\n",
       "      <td>CA-2014-115812</td>\n",
       "      <td>2014-06-09</td>\n",
       "      <td>2014-06-14</td>\n",
       "      <td>Standard Class</td>\n",
       "      <td>BH-11710</td>\n",
       "      <td>Brosina Hoffman</td>\n",
       "      <td>Consumer</td>\n",
       "      <td>United States</td>\n",
       "      <td>Los Angeles</td>\n",
       "      <td>California</td>\n",
       "      <td>...</td>\n",
       "      <td>West</td>\n",
       "      <td>FUR-TA-10001539</td>\n",
       "      <td>Furniture</td>\n",
       "      <td>Tables</td>\n",
       "      <td>Chromcraft Rectangular Conference Tables</td>\n",
       "      <td>1706.1840</td>\n",
       "      <td>9</td>\n",
       "      <td>0.20</td>\n",
       "      <td>85.3092</td>\n",
       "      <td>349.834887</td>\n",
       "    </tr>\n",
       "  </tbody>\n",
       "</table>\n",
       "<p>5 rows × 21 columns</p>\n",
       "</div>"
      ],
      "text/plain": [
       "              Order ID Order Date  Ship Date       Ship Mode Customer ID  \\\n",
       "Row ID                                                                     \n",
       "1       CA-2016-152156 2016-11-08 2016-11-11    Second Class    CG-12520   \n",
       "2       CA-2016-152156 2016-11-08 2016-11-11    Second Class    CG-12520   \n",
       "4       US-2015-108966 2015-10-11 2015-10-18  Standard Class    SO-20335   \n",
       "6       CA-2014-115812 2014-06-09 2014-06-14  Standard Class    BH-11710   \n",
       "11      CA-2014-115812 2014-06-09 2014-06-14  Standard Class    BH-11710   \n",
       "\n",
       "          Customer Name   Segment        Country             City       State  \\\n",
       "Row ID                                                                          \n",
       "1           Claire Gute  Consumer  United States        Henderson    Kentucky   \n",
       "2           Claire Gute  Consumer  United States        Henderson    Kentucky   \n",
       "4        Sean O'Donnell  Consumer  United States  Fort Lauderdale     Florida   \n",
       "6       Brosina Hoffman  Consumer  United States      Los Angeles  California   \n",
       "11      Brosina Hoffman  Consumer  United States      Los Angeles  California   \n",
       "\n",
       "           ...       Region       Product ID   Category Sub-Category  \\\n",
       "Row ID     ...                                                         \n",
       "1          ...        South  FUR-BO-10001798  Furniture    Bookcases   \n",
       "2          ...        South  FUR-CH-10000454  Furniture       Chairs   \n",
       "4          ...        South  FUR-TA-10000577  Furniture       Tables   \n",
       "6          ...         West  FUR-FU-10001487  Furniture  Furnishings   \n",
       "11         ...         West  FUR-TA-10001539  Furniture       Tables   \n",
       "\n",
       "                                             Product Name      Sales  \\\n",
       "Row ID                                                                 \n",
       "1                       Bush Somerset Collection Bookcase   261.9600   \n",
       "2       Hon Deluxe Fabric Upholstered Stacking Chairs,...   731.9400   \n",
       "4           Bretford CR4500 Series Slim Rectangular Table   957.5775   \n",
       "6       Eldon Expressions Wood and Plastic Desk Access...    48.8600   \n",
       "11               Chromcraft Rectangular Conference Tables  1706.1840   \n",
       "\n",
       "        Quantity  Discount    Profit  Cat_Average  \n",
       "Row ID                                             \n",
       "1              2      0.00   41.9136   349.834887  \n",
       "2              3      0.00  219.5820   349.834887  \n",
       "4              5      0.45 -383.0310   349.834887  \n",
       "6              7      0.00   14.1694   349.834887  \n",
       "11             9      0.20   85.3092   349.834887  \n",
       "\n",
       "[5 rows x 21 columns]"
      ]
     },
     "execution_count": 154,
     "metadata": {},
     "output_type": "execute_result"
    }
   ],
   "source": [
    "# and now we can see each purchase amount compared to the average amt\n",
    "# for that category\n",
    "df.head()"
   ]
  },
  {
   "cell_type": "markdown",
   "metadata": {},
   "source": [
    "So for instance, if wanted to ask ourselves, \"which customers consistently punch above their weight when it comes to the actual items that they buy?\"\n",
    "\n",
    "We could easily do the following:"
   ]
  },
  {
   "cell_type": "code",
   "execution_count": 155,
   "metadata": {},
   "outputs": [],
   "source": [
    "# turn the difference between the two values into a percent\n",
    "df['Cat Difference'] = ((df['Sales'] / df['Cat_Average']) - 1) * 100"
   ]
  },
  {
   "cell_type": "code",
   "execution_count": 157,
   "metadata": {},
   "outputs": [
    {
     "data": {
      "text/plain": [
       "Customer Name\n",
       "Mitch Willingham        845.569285\n",
       "Christopher Martinez    636.313301\n",
       "Andy Reiter             449.654450\n",
       "Adrian Barton           418.548520\n",
       "Sanjit Chand            386.906876\n",
       "Amy Cox                 363.031889\n",
       "Yoseph Carroll          344.794116\n",
       "Yana Sorensen           317.572571\n",
       "Sean Miller             308.018602\n",
       "Tamara Chand            304.928500\n",
       "Alex Avila              296.561353\n",
       "Greg Maxwell            292.917810\n",
       "Grant Thornton          291.980410\n",
       "Jane Waco               272.432920\n",
       "Tom Ashbrook            270.172385\n",
       "Paul Knutson            244.824972\n",
       "Robert Dilbeck          239.904239\n",
       "Gary Hwang              231.081468\n",
       "Ken Lonsdale            216.273514\n",
       "Dennis Pardue           213.919098\n",
       "Justin Hirsh            205.806859\n",
       "Stefanie Holloman       199.625920\n",
       "Cathy Prescott          194.089483\n",
       "Bill Shonely            194.068945\n",
       "Erica Smith             193.504802\n",
       "Neil Ducich             174.357173\n",
       "Adam Bellavance         174.177216\n",
       "Hunter Lopez            170.364451\n",
       "Karen Ferguson          167.056592\n",
       "Joseph Holt             161.192437\n",
       "                           ...    \n",
       "MaryBeth Skach          -78.548915\n",
       "Roland Murray           -78.659791\n",
       "Khloe Miller            -79.436773\n",
       "Robert Barroso          -80.299122\n",
       "Andy Yotov              -80.305228\n",
       "Allen Goldenen          -80.313608\n",
       "Dorothy Dickinson       -80.385819\n",
       "Joy Daniels             -80.663448\n",
       "Vivian Mathis           -80.829326\n",
       "Andrew Roberts          -81.087952\n",
       "Stuart Calhoun          -81.124445\n",
       "Sonia Sunley            -82.311845\n",
       "Paul Lucas              -82.962814\n",
       "Clay Cheatham           -83.552902\n",
       "Karen Seio              -84.052304\n",
       "Pete Takahito           -84.241958\n",
       "Adrian Shami            -84.337966\n",
       "Muhammed Lee            -85.941572\n",
       "Carl Jackson            -86.155353\n",
       "Larry Blacks            -86.345848\n",
       "Dianna Arnett           -86.422383\n",
       "Michael Oakman          -86.512827\n",
       "Erin Mull               -87.263207\n",
       "Fred Wasserman          -90.104054\n",
       "Jasper Cacioppo         -91.687617\n",
       "Susan Gilcrest          -91.963736\n",
       "Roy Skaria              -93.762646\n",
       "Lela Donovan            -95.554963\n",
       "Mitch Gastineau         -96.387490\n",
       "Thais Sissman           -97.974843\n",
       "Name: Cat Difference, Length: 793, dtype: float64"
      ]
     },
     "execution_count": 157,
     "metadata": {},
     "output_type": "execute_result"
    }
   ],
   "source": [
    "# now group and sort the values\n",
    "df.groupby('Customer Name')['Cat Difference'].mean().sort_values(ascending=False)"
   ]
  },
  {
   "cell_type": "markdown",
   "metadata": {},
   "source": [
    "Clearly, not all customers are created equal."
   ]
  },
  {
   "cell_type": "markdown",
   "metadata": {},
   "source": [
    "**Your Turn:** Using a similar methodology as above, figure out the 10 customers who are the most profitable on average, when compared to the subcategory that they purchased from.\n",
    "\n",
    "If you wanted, you could also limit this to customers who only made a minimum number of purchases as well."
   ]
  },
  {
   "cell_type": "code",
   "execution_count": 159,
   "metadata": {},
   "outputs": [],
   "source": [
    "# create the grouping\n",
    "subcat_grouping = df.groupby('Sub-Category')[['Profit']].mean()\n",
    "# do some renaming to make things tidier\n",
    "subcat_grouping.rename({'Profit': 'Subcat Avg'}, axis=1, inplace=True)\n",
    "# merge\n",
    "df = df.merge(subcat_grouping, left_on='Sub-Category', right_index=True)"
   ]
  },
  {
   "cell_type": "code",
   "execution_count": 160,
   "metadata": {},
   "outputs": [],
   "source": [
    "# compare differences between the two columns, as a percentage\n",
    "df['Subcat Diff'] = ((df['Profit']/df['Subcat Avg']) - 1) *100"
   ]
  },
  {
   "cell_type": "code",
   "execution_count": 162,
   "metadata": {},
   "outputs": [
    {
     "data": {
      "text/plain": [
       "Customer Name\n",
       "Mitch Willingham        2404.056459\n",
       "Christopher Martinez    1862.436871\n",
       "Jim Radford             1628.279903\n",
       "Andy Reiter             1373.983641\n",
       "Adrian Barton           1337.826612\n",
       "Sanjit Chand            1236.837470\n",
       "Alex Avila              1202.507813\n",
       "Bill Shonely             880.808891\n",
       "Sanjit Engle             750.951436\n",
       "Jenna Caffey             728.799638\n",
       "Name: Subcat Diff, dtype: float64"
      ]
     },
     "execution_count": 162,
     "metadata": {},
     "output_type": "execute_result"
    }
   ],
   "source": [
    "# now group customers according to the column you just made\n",
    "top_custs = df.groupby('Customer Name')['Subcat Diff'].mean()\n",
    "# and sort the values + show the top 10 -- Mitch is a high roller.....\n",
    "top_custs.sort_values(ascending=False).head(10)"
   ]
  }
 ],
 "metadata": {
  "kernelspec": {
   "display_name": "Python 3",
   "language": "python",
   "name": "python3"
  },
  "language_info": {
   "codemirror_mode": {
    "name": "ipython",
    "version": 3
   },
   "file_extension": ".py",
   "mimetype": "text/x-python",
   "name": "python",
   "nbconvert_exporter": "python",
   "pygments_lexer": "ipython3",
   "version": "3.7.3"
  }
 },
 "nbformat": 4,
 "nbformat_minor": 2
}
