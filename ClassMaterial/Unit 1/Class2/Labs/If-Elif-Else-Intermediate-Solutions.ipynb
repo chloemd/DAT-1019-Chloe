{
 "cells": [
  {
   "cell_type": "markdown",
   "metadata": {},
   "source": [
    "### If/Else Solutions"
   ]
  },
  {
   "cell_type": "markdown",
   "metadata": {},
   "source": [
    "**Example 1:**"
   ]
  },
  {
   "cell_type": "code",
   "execution_count": null,
   "metadata": {},
   "outputs": [],
   "source": [
    "temperature = float(input('What is the temperature? '))\n",
    "weather = input('What is the weather (rain or shine)? ')"
   ]
  },
  {
   "cell_type": "code",
   "execution_count": null,
   "metadata": {},
   "outputs": [],
   "source": [
    "# A:\n",
    "if temperature > 60 and weather == 'rain':\n",
    "    print('Bring an umbrella')\n",
    "elif temperature < 60 and weather == 'rain':\n",
    "    print('Bring umbrella and jacket')\n",
    "elif temperature > 60 and weather == 'shine':\n",
    "    print('T - shirt')\n",
    "else:\n",
    "    print('jacket')"
   ]
  },
  {
   "cell_type": "markdown",
   "metadata": {},
   "source": [
    "**Example 2:**"
   ]
  },
  {
   "cell_type": "code",
   "execution_count": null,
   "metadata": {},
   "outputs": [],
   "source": [
    "num = int(input(\"Please enter a number: \"))"
   ]
  },
  {
   "cell_type": "code",
   "execution_count": null,
   "metadata": {},
   "outputs": [],
   "source": [
    "if num % 15 == 0:\n",
    "    print('fizzbuzz')\n",
    "elif num % 5 == 0:\n",
    "    print('buzz')\n",
    "elif num % 3 == 0:\n",
    "    print('fizz')\n",
    "else:\n",
    "    print(num)"
   ]
  },
  {
   "cell_type": "markdown",
   "metadata": {},
   "source": [
    "**Example 3:**"
   ]
  },
  {
   "cell_type": "code",
   "execution_count": null,
   "metadata": {},
   "outputs": [],
   "source": [
    "password = input(\"Please enter a password: \")"
   ]
  },
  {
   "cell_type": "code",
   "execution_count": null,
   "metadata": {},
   "outputs": [],
   "source": [
    "if not password.isalnum():\n",
    "    print(\"Please don't include special characters.\")\n",
    "elif password.isalpha():\n",
    "    print(\"Please make sure you include some numbers.\")\n",
    "elif password.isdigit():\n",
    "    print(\"Please make sure you include some letters.\")\n",
    "else:\n",
    "    print(\"Good job!  Password successful.\")"
   ]
  },
  {
   "cell_type": "code",
   "execution_count": null,
   "metadata": {},
   "outputs": [],
   "source": []
  }
 ],
 "metadata": {
  "kernelspec": {
   "display_name": "Python 3",
   "language": "python",
   "name": "python3"
  },
  "language_info": {
   "codemirror_mode": {
    "name": "ipython",
    "version": 3
   },
   "file_extension": ".py",
   "mimetype": "text/x-python",
   "name": "python",
   "nbconvert_exporter": "python",
   "pygments_lexer": "ipython3",
   "version": "3.7.3"
  }
 },
 "nbformat": 4,
 "nbformat_minor": 2
}
