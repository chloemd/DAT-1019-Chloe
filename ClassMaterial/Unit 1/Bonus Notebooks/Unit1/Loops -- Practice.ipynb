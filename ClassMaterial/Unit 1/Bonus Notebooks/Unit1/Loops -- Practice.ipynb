{
 "cells": [
  {
   "cell_type": "markdown",
   "metadata": {},
   "source": [
    "### Loops & List Comprehensions:  Practice Notebook"
   ]
  },
  {
   "cell_type": "markdown",
   "metadata": {},
   "source": [
    "This notebook is designed to give newcomers additional practice to work on writing for-loops and list comprehensions.  \n",
    "\n",
    "The examples will begin slowly and gradually get a little more complicated.  Most questions can be concisely answered with a list-comprehensions, but if not then it will be noted.  "
   ]
  },
  {
   "cell_type": "markdown",
   "metadata": {},
   "source": [
    "#### Movies List"
   ]
  },
  {
   "cell_type": "markdown",
   "metadata": {},
   "source": [
    "Similar to class 3, the following questions will ask you to write loops through the list of dictionaries that contain information about various types of movies."
   ]
  },
  {
   "cell_type": "code",
   "execution_count": 73,
   "metadata": {},
   "outputs": [],
   "source": [
    "# List of movies dictionaries:\n",
    "\n",
    "movies = [\n",
    "{\n",
    "\"name\": \"Usual Suspects\", \n",
    "\"imdb\": 7.0,\n",
    "\"category\": \"Thriller\"\n",
    "},\n",
    "{\n",
    "\"name\": \"Hitman\",\n",
    "\"imdb\": 6.3,\n",
    "\"category\": \"Action\"\n",
    "},\n",
    "{\n",
    "\"name\": \"Dark Knight\",\n",
    "\"imdb\": 9.0,\n",
    "\"category\": \"Adventure\"\n",
    "},\n",
    "{\n",
    "\"name\": \"The Help\",\n",
    "\"imdb\": 8.0,\n",
    "\"category\": \"Drama\"\n",
    "},\n",
    "{\n",
    "\"name\": \"The Choice\",\n",
    "\"imdb\": 6.2,\n",
    "\"category\": \"Romance\"\n",
    "},\n",
    "{\n",
    "\"name\": \"Colonia\",\n",
    "\"imdb\": 7.4,\n",
    "\"category\": \"Romance\"\n",
    "},\n",
    "{\n",
    "\"name\": \"Love\",\n",
    "\"imdb\": 6.0,\n",
    "\"category\": \"Romance\"\n",
    "},\n",
    "{\n",
    "\"name\": \"Bride Wars\",\n",
    "\"imdb\": 5.4,\n",
    "\"category\": \"Romance\"\n",
    "},\n",
    "{\n",
    "\"name\": \"AlphaJet\",\n",
    "\"imdb\": 3.2,\n",
    "\"category\": \"War\"\n",
    "},\n",
    "{\n",
    "\"name\": \"Ringing Crime\",\n",
    "\"imdb\": 4.0,\n",
    "\"category\": \"Crime\"\n",
    "},\n",
    "{\n",
    "\"name\": \"Joking muck\",\n",
    "\"imdb\": 7.2,\n",
    "\"category\": \"Comedy\"\n",
    "},\n",
    "{\n",
    "\"name\": \"What is the name\",\n",
    "\"imdb\": 9.2,\n",
    "\"category\": \"Suspense\"\n",
    "},\n",
    "{\n",
    "\"name\": \"Detective\",\n",
    "\"imdb\": 7.0,\n",
    "\"category\": \"Suspense\"\n",
    "},\n",
    "{\n",
    "\"name\": \"Exam\",\n",
    "\"imdb\": 4.2,\n",
    "\"category\": \"Thriller\"\n",
    "},\n",
    "{\n",
    "\"name\": \"We Two\",\n",
    "\"imdb\": 7.2,\n",
    "\"category\": \"Romance\"\n",
    "}\n",
    "]"
   ]
  },
  {
   "cell_type": "markdown",
   "metadata": {},
   "source": [
    "**Question 1:** What is the highest rated movie?  What is the lowest rated movie?  \n",
    "\n",
    "**Hint:** The `max()` function can help you out here, although it's not necessary."
   ]
  },
  {
   "cell_type": "code",
   "execution_count": 8,
   "metadata": {},
   "outputs": [
    {
     "name": "stdout",
     "output_type": "stream",
     "text": [
      "Highest rated movie: What is the name: 9.2\n",
      "Lowest rated movie: AlphaJet: 3.2\n"
     ]
    }
   ],
   "source": [
    "# your answer here\n",
    "def minmax(movie_set):\n",
    "    max_rating = movie_set[0]\n",
    "    min_rating = movie_set[0]\n",
    "    for movie in movie_set:\n",
    "        if movie['imdb'] > max_rating['imdb']:\n",
    "            max_rating = movie\n",
    "        elif movie['imdb'] < min_rating['imdb']:\n",
    "            min_rating = movie\n",
    "    print(f\"Highest rated movie: {max_rating['name']}: {(max_rating['imdb'])}\")\n",
    "    print(f\"Lowest rated movie: {min_rating['name']}: {(min_rating['imdb'])}\")\n",
    "\n",
    "minmax(movies)"
   ]
  },
  {
   "cell_type": "markdown",
   "metadata": {},
   "source": [
    "**Question 2:**  How many thriller movies are there? "
   ]
  },
  {
   "cell_type": "code",
   "execution_count": 13,
   "metadata": {},
   "outputs": [
    {
     "name": "stdout",
     "output_type": "stream",
     "text": [
      "Romance movies: 5\n",
      "Thriller movies: 2\n",
      "Suspense movies: 2\n"
     ]
    }
   ],
   "source": [
    "# your answer here\n",
    "\n",
    "def genre_count(movie_set, genre):\n",
    "    genre = genre.lower()\n",
    "    genre_movies = [movie for movie in movie_set if movie['category'].lower() == genre]\n",
    "    print(f\"{genre.title()} movies: {len(genre_movies)}\")\n",
    "\n",
    "genre_count(movies, 'romance')\n",
    "genre_count(movies, 'thriller')\n",
    "genre_count(movies, 'suspense')"
   ]
  },
  {
   "cell_type": "markdown",
   "metadata": {},
   "source": [
    "**Question 3:**  What is the average rating of all movies?"
   ]
  },
  {
   "cell_type": "code",
   "execution_count": 50,
   "metadata": {},
   "outputs": [
    {
     "name": "stdout",
     "output_type": "stream",
     "text": [
      "6.5\n"
     ]
    }
   ],
   "source": [
    "# your answer here\n",
    "from statistics import *\n",
    "def avg_rating(movie_set):\n",
    "    ratings = [movie['imdb'] for movie in movie_set]\n",
    "    return round(mean(ratings),1)\n",
    "\n",
    "avg = avg_rating(movies)\n",
    "print(avg)"
   ]
  },
  {
   "cell_type": "markdown",
   "metadata": {},
   "source": [
    "**Question 4:** How many movies have an above average rating?"
   ]
  },
  {
   "cell_type": "code",
   "execution_count": 51,
   "metadata": {},
   "outputs": [
    {
     "name": "stdout",
     "output_type": "stream",
     "text": [
      "8\n"
     ]
    }
   ],
   "source": [
    "# your answer here\n",
    "above_avg = [movie for movie in movies if movie['imdb'] > avg]\n",
    "print(len(above_avg))\n",
    "\n"
   ]
  },
  {
   "cell_type": "markdown",
   "metadata": {},
   "source": [
    "**Question 5:** Create a list of all movies that have an above average rating."
   ]
  },
  {
   "cell_type": "code",
   "execution_count": 52,
   "metadata": {},
   "outputs": [
    {
     "data": {
      "text/plain": [
       "[{'name': 'Usual Suspects', 'imdb': 7.0, 'category': 'Thriller'},\n",
       " {'name': 'Dark Knight', 'imdb': 9.0, 'category': 'Adventure'},\n",
       " {'name': 'The Help', 'imdb': 8.0, 'category': 'Drama'},\n",
       " {'name': 'Colonia', 'imdb': 7.4, 'category': 'Romance'},\n",
       " {'name': 'Joking muck', 'imdb': 7.2, 'category': 'Comedy'},\n",
       " {'name': 'What is the name', 'imdb': 9.2, 'category': 'Suspense'},\n",
       " {'name': 'Detective', 'imdb': 7.0, 'category': 'Suspense'},\n",
       " {'name': 'We Two', 'imdb': 7.2, 'category': 'Romance'}]"
      ]
     },
     "execution_count": 52,
     "metadata": {},
     "output_type": "execute_result"
    }
   ],
   "source": [
    "# your answer here\n",
    "above_avg"
   ]
  },
  {
   "cell_type": "markdown",
   "metadata": {},
   "source": [
    "**Question 6:** Create a loop that *stops* as soon as it finds a movie that has a below average rating.\n",
    "\n",
    "**Hint:** the `break` operator is going to be your best bet."
   ]
  },
  {
   "cell_type": "code",
   "execution_count": 53,
   "metadata": {},
   "outputs": [
    {
     "name": "stdout",
     "output_type": "stream",
     "text": [
      "Usual Suspects is good...\n",
      "Hitman is a bad movie!\n"
     ]
    }
   ],
   "source": [
    "# your answer here\n",
    "for movie in movies:\n",
    "    if movie['imdb'] >= avg:\n",
    "        print(f\"{movie['name']} is good...\")\n",
    "    else:\n",
    "        print(f\"{movie['name']} is a bad movie!\")\n",
    "        break\n"
   ]
  },
  {
   "cell_type": "markdown",
   "metadata": {},
   "source": [
    "**Question 7:** Write a loop that prints off the name of every movie title, as well as how many words are in its title.  "
   ]
  },
  {
   "cell_type": "code",
   "execution_count": 54,
   "metadata": {},
   "outputs": [
    {
     "name": "stdout",
     "output_type": "stream",
     "text": [
      "Usual Suspects: 2 word(s)\n",
      "Hitman: 1 word(s)\n",
      "Dark Knight: 2 word(s)\n",
      "The Help: 2 word(s)\n",
      "The Choice: 2 word(s)\n",
      "Colonia: 1 word(s)\n",
      "Love: 1 word(s)\n",
      "Bride Wars: 2 word(s)\n",
      "AlphaJet: 1 word(s)\n",
      "Ringing Crime: 2 word(s)\n",
      "Joking muck: 2 word(s)\n",
      "What is the name: 4 word(s)\n",
      "Detective: 1 word(s)\n",
      "Exam: 1 word(s)\n",
      "We Two: 2 word(s)\n"
     ]
    }
   ],
   "source": [
    "# your answer here\n",
    "\n",
    "for movie in movies:\n",
    "    print(f\"{movie['name']}: {len(movie['name'].split(' '))} word(s)\")"
   ]
  },
  {
   "cell_type": "markdown",
   "metadata": {},
   "source": [
    "**Question 8:** Write a code block that will print off the name of the movie with the highest rating, as well as its title."
   ]
  },
  {
   "cell_type": "code",
   "execution_count": 38,
   "metadata": {},
   "outputs": [
    {
     "name": "stdout",
     "output_type": "stream",
     "text": [
      "Highest rated movie: What is the name: 9.2\n",
      "Lowest rated movie: AlphaJet: 3.2\n"
     ]
    }
   ],
   "source": [
    "# your answer here\n",
    "minmax(movies)"
   ]
  },
  {
   "cell_type": "markdown",
   "metadata": {},
   "source": [
    "**Question 9:**  How many movies begin with the word \"The?\"  Make the results case-insensitive."
   ]
  },
  {
   "cell_type": "code",
   "execution_count": 44,
   "metadata": {},
   "outputs": [
    {
     "name": "stdout",
     "output_type": "stream",
     "text": [
      "2 movies begin with the word 'The': ['The Help', 'The Choice']\n"
     ]
    }
   ],
   "source": [
    "# your answer here\n",
    "the_movies = [movie['name'] for movie in movies if movie['name'].lower()[:3] == 'the']\n",
    "print(f\"{len(the_movies)} movies begin with the word 'The': {the_movies}\")\n"
   ]
  },
  {
   "cell_type": "markdown",
   "metadata": {},
   "source": [
    "**Question 10:** Create a list that contains movies that have the word 'the' in their title.  Make the results case-insensitive."
   ]
  },
  {
   "cell_type": "code",
   "execution_count": 45,
   "metadata": {},
   "outputs": [
    {
     "name": "stdout",
     "output_type": "stream",
     "text": [
      "['The Help', 'The Choice']\n"
     ]
    }
   ],
   "source": [
    "# your answer here\n",
    "print(the_movies)"
   ]
  },
  {
   "cell_type": "markdown",
   "metadata": {},
   "source": [
    "**Question 11:** Create a list that contains the name and rating of a movie if the word 'the' is contained within its title.  These results should be stored inside a tuple.  Make the results case-insensitive."
   ]
  },
  {
   "cell_type": "code",
   "execution_count": 56,
   "metadata": {},
   "outputs": [
    {
     "name": "stdout",
     "output_type": "stream",
     "text": [
      "[('The Help', 8.0), ('The Choice', 6.2), ('What is the name', 9.2)]\n"
     ]
    }
   ],
   "source": [
    "# your answer here\n",
    "the_movies2 = [(movie['name'], movie['imdb']) for movie in movies if 'the' in movie['name'].lower().split(' ')]\n",
    "print(the_movies2)"
   ]
  },
  {
   "cell_type": "markdown",
   "metadata": {},
   "source": [
    "**Question 12:** Write a code block that checks to see if the average rating for movies with the word 'the' in its title are higher than the average rating overall.  If they are higher, print a message saying as much.  If not, then print something else."
   ]
  },
  {
   "cell_type": "code",
   "execution_count": 55,
   "metadata": {},
   "outputs": [
    {
     "name": "stdout",
     "output_type": "stream",
     "text": [
      "The Help (8.0) is better than average (6.5)!\n",
      "The Choice (6.2) is WORSE than average (6.5)!\n",
      "What is the name (9.2) is better than average (6.5)!\n"
     ]
    }
   ],
   "source": [
    "# your answer here\n",
    "\n",
    "for movie in the_movies2:\n",
    "    if movie[1] > avg:\n",
    "        print(f\"{movie[0]} ({movie[1]}) is better than average ({avg})!\")\n",
    "    else:\n",
    "        print(f\"{movie[0]} ({movie[1]}) is WORSE than average ({avg})!\")"
   ]
  },
  {
   "cell_type": "markdown",
   "metadata": {},
   "source": [
    "**Question 13:** Create a list that contains the *index positions* of every movie that has an above average rating in our original list."
   ]
  },
  {
   "cell_type": "code",
   "execution_count": 61,
   "metadata": {},
   "outputs": [
    {
     "name": "stdout",
     "output_type": "stream",
     "text": [
      "[('Usual Suspects', 0), ('Dark Knight', 2), ('The Help', 3), ('Colonia', 5), ('Joking muck', 10), ('What is the name', 11), ('Detective', 12), ('We Two', 14)]\n"
     ]
    }
   ],
   "source": [
    "# your answer here\n",
    "movie_indices = [(movie['name'], index) for index, movie in enumerate(movies) if movie in above_avg]\n",
    "print(movie_indices)\n"
   ]
  },
  {
   "cell_type": "markdown",
   "metadata": {},
   "source": [
    "**Question 14 (More Complicated):** What movie *genre* occurs most frequently?  (You will need to do this in a few steps most likely). "
   ]
  },
  {
   "cell_type": "code",
   "execution_count": 83,
   "metadata": {},
   "outputs": [
    {
     "name": "stdout",
     "output_type": "stream",
     "text": [
      "Romance: 5\n",
      "Thriller: 2\n",
      "Suspense: 2\n",
      "Action: 1\n",
      "Adventure: 1\n",
      "Drama: 1\n",
      "War: 1\n",
      "Crime: 1\n",
      "Comedy: 1\n"
     ]
    }
   ],
   "source": [
    "# your answer here\n",
    "\n",
    "genre_freq = dict()\n",
    "\n",
    "for movie in movies:\n",
    "    cat = movie['category']\n",
    "    if cat in genre_freq:\n",
    "        genre_freq[cat] += 1\n",
    "    else:\n",
    "        genre_freq[cat] = 1\n",
    "    \n",
    "\n",
    "sorted_genre = sorted(genre_freq.items(), key=lambda genre: genre[1], reverse=True)\n",
    "\n",
    "for genre in sorted_genre:\n",
    "    print(f\"{genre[0]}: {genre[1]}\")\n",
    "    "
   ]
  },
  {
   "cell_type": "markdown",
   "metadata": {},
   "source": [
    "**Question 15 (More Complicated):** What is the average rating for every movie genre?  Return the answer in a dictionary, where each key is a genre and the value is its average rating."
   ]
  },
  {
   "cell_type": "code",
   "execution_count": 116,
   "metadata": {},
   "outputs": [
    {
     "name": "stdout",
     "output_type": "stream",
     "text": [
      "Adventure: 9.0\n",
      "Suspense: 8.1\n",
      "Drama: 8.0\n",
      "Comedy: 7.2\n",
      "Romance: 6.44\n",
      "Action: 6.3\n",
      "Thriller: 5.6\n",
      "Crime: 4.0\n",
      "War: 3.2\n"
     ]
    }
   ],
   "source": [
    "# your answer here\n",
    "\n",
    "def avg_genre_rating(data_set):\n",
    "    rating_dict = dict()\n",
    "    for movie in data_set:\n",
    "        cat = movie['category']\n",
    "        rating = movie['imdb']\n",
    "        if cat in rating_dict:\n",
    "            rating_dict[cat].append(rating)\n",
    "        else:\n",
    "            rating_dict[cat] = [rating]\n",
    "    \n",
    "    for key in rating_dict.keys():\n",
    "        rating_dict[key] = mean(rating_dict[key])\n",
    "    return rating_dict\n",
    "\n",
    "\n",
    "x = avg_genre_rating(movies)\n",
    "\n",
    "sorted_genre_ratings = sorted(x.items(), key=lambda i: i[1], reverse=True)\n",
    "\n",
    "for item in sorted_genre_ratings:\n",
    "    print(f\"{item[0]}: {item[1]}\")\n",
    "    \n",
    "\n",
    "\n",
    "\n"
   ]
  }
 ],
 "metadata": {
  "kernelspec": {
   "display_name": "Python 3",
   "language": "python",
   "name": "python3"
  },
  "language_info": {
   "codemirror_mode": {
    "name": "ipython",
    "version": 3
   },
   "file_extension": ".py",
   "mimetype": "text/x-python",
   "name": "python",
   "nbconvert_exporter": "python",
   "pygments_lexer": "ipython3",
   "version": "3.8.3"
  }
 },
 "nbformat": 4,
 "nbformat_minor": 2
}
