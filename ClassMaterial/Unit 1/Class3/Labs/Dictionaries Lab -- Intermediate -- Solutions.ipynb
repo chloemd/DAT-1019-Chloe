{
 "cells": [
  {
   "cell_type": "markdown",
   "metadata": {},
   "source": [
    "## Intermediate Lab:  Creating A Dataset Using the GitHub API\n",
    "\n",
    "In this lab you'll create a dataset containing all the meta information about your classmates github repos, using only the csv file with everyone's url.  \n",
    "\n",
    "The process will be done in these 4 general steps:\n",
    "\n",
    " - load in the csv file\n",
    " - clean the individual lines of each file to get them ready to use\n",
    " - connect to the GitHub api to obtain information about everyone's repos\n",
    " - re-structure this information to turn it into a dataframe.\n",
    " \n",
    "It'll be a great way to work through the first step of many data science problems: creating a workable dataset out of unorganized, messy data.  Let's get started!"
   ]
  },
  {
   "cell_type": "markdown",
   "metadata": {},
   "source": [
    "### Step 1:  Load in the csv file with everyone's github repo"
   ]
  },
  {
   "cell_type": "code",
   "execution_count": 1,
   "metadata": {},
   "outputs": [],
   "source": [
    "import requests\n",
    "import pandas as pd"
   ]
  },
  {
   "cell_type": "code",
   "execution_count": 2,
   "metadata": {},
   "outputs": [
    {
     "ename": "FileNotFoundError",
     "evalue": "[Errno 2] No such file or directory: 'repos.csv'",
     "output_type": "error",
     "traceback": [
      "\u001b[1;31m---------------------------------------------------------------------------\u001b[0m",
      "\u001b[1;31mFileNotFoundError\u001b[0m                         Traceback (most recent call last)",
      "\u001b[1;32m<ipython-input-2-9c8be27fddd6>\u001b[0m in \u001b[0;36m<module>\u001b[1;34m\u001b[0m\n\u001b[1;32m----> 1\u001b[1;33m \u001b[1;32mwith\u001b[0m \u001b[0mopen\u001b[0m\u001b[1;33m(\u001b[0m\u001b[1;34m'repos.csv'\u001b[0m\u001b[1;33m)\u001b[0m \u001b[1;32mas\u001b[0m \u001b[0mf\u001b[0m\u001b[1;33m:\u001b[0m\u001b[1;33m\u001b[0m\u001b[1;33m\u001b[0m\u001b[0m\n\u001b[0m\u001b[0;32m      2\u001b[0m     \u001b[0mdata\u001b[0m \u001b[1;33m=\u001b[0m \u001b[0mf\u001b[0m\u001b[1;33m.\u001b[0m\u001b[0mreadlines\u001b[0m\u001b[1;33m(\u001b[0m\u001b[1;33m)\u001b[0m\u001b[1;33m\u001b[0m\u001b[1;33m\u001b[0m\u001b[0m\n",
      "\u001b[1;31mFileNotFoundError\u001b[0m: [Errno 2] No such file or directory: 'repos.csv'"
     ]
    }
   ],
   "source": [
    "with open('repos.csv') as f:\n",
    "    data = f.readlines()"
   ]
  },
  {
   "cell_type": "code",
   "execution_count": 4,
   "metadata": {},
   "outputs": [
    {
     "data": {
      "text/plain": [
       "['Name,Repo\\n',\n",
       " 'Jonathan Bechtel,https://github.com/JonathanBechtel\\n',\n",
       " 'Aoife Duna,https://github.com/aoifeduna\\n',\n",
       " 'Erik Lindernoren,https://github.com/eriklindernoren']"
      ]
     },
     "execution_count": 4,
     "metadata": {},
     "output_type": "execute_result"
    }
   ],
   "source": [
    "# notice that data is a list filled with strings that contain info about each line\n",
    "data"
   ]
  },
  {
   "cell_type": "markdown",
   "metadata": {},
   "source": [
    "### Step 2: Remove the `\\n` from each item in the list, as well as the item that contains the header info."
   ]
  },
  {
   "cell_type": "code",
   "execution_count": 5,
   "metadata": {},
   "outputs": [],
   "source": [
    "# this loops through each item in the list, starting at position 1, and replace the \\n character with nothing\n",
    "cleaned_data = [repo.replace('\\n', \"\") for repo in data[1:]]"
   ]
  },
  {
   "cell_type": "code",
   "execution_count": 6,
   "metadata": {},
   "outputs": [
    {
     "data": {
      "text/plain": [
       "['Jonathan Bechtel,https://github.com/JonathanBechtel',\n",
       " 'Aoife Duna,https://github.com/aoifeduna',\n",
       " 'Erik Lindernoren,https://github.com/eriklindernoren']"
      ]
     },
     "execution_count": 6,
     "metadata": {},
     "output_type": "execute_result"
    }
   ],
   "source": [
    "# we can confirm now that these marks are no longer there\n",
    "cleaned_data"
   ]
  },
  {
   "cell_type": "markdown",
   "metadata": {},
   "source": [
    "### Step 3:  Separate the username in each string from everything else"
   ]
  },
  {
   "cell_type": "code",
   "execution_count": 10,
   "metadata": {},
   "outputs": [],
   "source": [
    "# we do the same thing, except we take the LAST item from the list returned by split()\n",
    "usernames = [url.split('/')[-1] for url in repo_urls]"
   ]
  },
  {
   "cell_type": "markdown",
   "metadata": {},
   "source": [
    "### Step 4: Obtain the repo data for every single github username"
   ]
  },
  {
   "cell_type": "code",
   "execution_count": 11,
   "metadata": {},
   "outputs": [],
   "source": [
    "# this part of the url will never change\n",
    "base_url = 'https://api.github.com'"
   ]
  },
  {
   "cell_type": "code",
   "execution_count": 12,
   "metadata": {},
   "outputs": [],
   "source": [
    "# this goes through every username, and inserts it into the api url, and then passes that into requests.get().json()\n",
    "# to obtain a list of repos for every single user\n",
    "repo_lists = [requests.get(f\"{base_url}/users/{username}/repos\").json() for username in usernames]"
   ]
  },
  {
   "cell_type": "markdown",
   "metadata": {},
   "source": [
    "### Step 5: Create a 'flat' list that contains every unique repo for every single user"
   ]
  },
  {
   "cell_type": "markdown",
   "metadata": {},
   "source": [
    "Answer with list comprehension:"
   ]
  },
  {
   "cell_type": "code",
   "execution_count": 13,
   "metadata": {},
   "outputs": [],
   "source": [
    "# this is a nested for-loop using a list comprehension that returns each item inside the inner list\n",
    "repos = [repo for user in repo_lists for repo in user]"
   ]
  },
  {
   "cell_type": "markdown",
   "metadata": {},
   "source": [
    "Nested loops with comprehensions can be difficult to interpret sometimes, so if a regular for-loop is easier to digest, this is a different way of writing the same thing:"
   ]
  },
  {
   "cell_type": "code",
   "execution_count": 14,
   "metadata": {},
   "outputs": [],
   "source": [
    "repos = []\n",
    "\n",
    "for user in repo_lists:\n",
    "    for repo in user:\n",
    "        repos.append(repo)"
   ]
  },
  {
   "cell_type": "markdown",
   "metadata": {},
   "source": [
    "### Step 6:  Get information about the name, owner, url, and date of every single repo."
   ]
  },
  {
   "cell_type": "code",
   "execution_count": 16,
   "metadata": {},
   "outputs": [],
   "source": [
    "# this creates a list of all the values for the name key\n",
    "repo_names = [repo['name'] for repo in repos]\n",
    "# ditto for the login key -- notice it's accessed inside the owner key\n",
    "owners     = [repo['owner']['login'] for repo in repos]\n",
    "# next two work the same way\n",
    "urls       = [repo['html_url'] for repo in repos]\n",
    "dates      = [repo['created_at'] for repo in repos]"
   ]
  },
  {
   "cell_type": "markdown",
   "metadata": {},
   "source": [
    "### Step 7:  Create a dictionary with the data created from step 7"
   ]
  },
  {
   "cell_type": "code",
   "execution_count": 17,
   "metadata": {},
   "outputs": [],
   "source": [
    "data_dict = {\n",
    "    'Owner': owners,\n",
    "    'Name': repo_names,\n",
    "    'URL': urls,\n",
    "    'Date': dates\n",
    "}"
   ]
  },
  {
   "cell_type": "markdown",
   "metadata": {},
   "source": [
    "### Step 8:  Pass your dictionary into the `pd.dataframe()` method to get your final dataset  "
   ]
  },
  {
   "cell_type": "code",
   "execution_count": 18,
   "metadata": {},
   "outputs": [],
   "source": [
    "import pandas as pd\n",
    "\n",
    "# this will take your dictionary and turn it into a dataframe\n",
    "df = pd.DataFrame(data_dict)"
   ]
  },
  {
   "cell_type": "code",
   "execution_count": 19,
   "metadata": {},
   "outputs": [
    {
     "data": {
      "text/html": [
       "<div>\n",
       "<style scoped>\n",
       "    .dataframe tbody tr th:only-of-type {\n",
       "        vertical-align: middle;\n",
       "    }\n",
       "\n",
       "    .dataframe tbody tr th {\n",
       "        vertical-align: top;\n",
       "    }\n",
       "\n",
       "    .dataframe thead th {\n",
       "        text-align: right;\n",
       "    }\n",
       "</style>\n",
       "<table border=\"1\" class=\"dataframe\">\n",
       "  <thead>\n",
       "    <tr style=\"text-align: right;\">\n",
       "      <th></th>\n",
       "      <th>Owner</th>\n",
       "      <th>Name</th>\n",
       "      <th>URL</th>\n",
       "      <th>Date</th>\n",
       "    </tr>\n",
       "  </thead>\n",
       "  <tbody>\n",
       "    <tr>\n",
       "      <th>0</th>\n",
       "      <td>JonathanBechtel</td>\n",
       "      <td>cdc-dashboard</td>\n",
       "      <td>https://github.com/JonathanBechtel/cdc-dashboard</td>\n",
       "      <td>2016-11-02T14:39:37Z</td>\n",
       "    </tr>\n",
       "    <tr>\n",
       "      <th>1</th>\n",
       "      <td>JonathanBechtel</td>\n",
       "      <td>DAT-01-21</td>\n",
       "      <td>https://github.com/JonathanBechtel/DAT-01-21</td>\n",
       "      <td>2020-01-21T12:57:43Z</td>\n",
       "    </tr>\n",
       "    <tr>\n",
       "      <th>2</th>\n",
       "      <td>JonathanBechtel</td>\n",
       "      <td>DAT-06-24</td>\n",
       "      <td>https://github.com/JonathanBechtel/DAT-06-24</td>\n",
       "      <td>2019-06-26T15:12:49Z</td>\n",
       "    </tr>\n",
       "    <tr>\n",
       "      <th>3</th>\n",
       "      <td>JonathanBechtel</td>\n",
       "      <td>DAT-10-14</td>\n",
       "      <td>https://github.com/JonathanBechtel/DAT-10-14</td>\n",
       "      <td>2019-10-14T16:13:47Z</td>\n",
       "    </tr>\n",
       "    <tr>\n",
       "      <th>4</th>\n",
       "      <td>JonathanBechtel</td>\n",
       "      <td>data</td>\n",
       "      <td>https://github.com/JonathanBechtel/data</td>\n",
       "      <td>2019-01-14T22:09:06Z</td>\n",
       "    </tr>\n",
       "  </tbody>\n",
       "</table>\n",
       "</div>"
      ],
      "text/plain": [
       "             Owner           Name  \\\n",
       "0  JonathanBechtel  cdc-dashboard   \n",
       "1  JonathanBechtel      DAT-01-21   \n",
       "2  JonathanBechtel      DAT-06-24   \n",
       "3  JonathanBechtel      DAT-10-14   \n",
       "4  JonathanBechtel           data   \n",
       "\n",
       "                                                URL                  Date  \n",
       "0  https://github.com/JonathanBechtel/cdc-dashboard  2016-11-02T14:39:37Z  \n",
       "1      https://github.com/JonathanBechtel/DAT-01-21  2020-01-21T12:57:43Z  \n",
       "2      https://github.com/JonathanBechtel/DAT-06-24  2019-06-26T15:12:49Z  \n",
       "3      https://github.com/JonathanBechtel/DAT-10-14  2019-10-14T16:13:47Z  \n",
       "4           https://github.com/JonathanBechtel/data  2019-01-14T22:09:06Z  "
      ]
     },
     "execution_count": 19,
     "metadata": {},
     "output_type": "execute_result"
    }
   ],
   "source": [
    "# look how pretty it is :)\n",
    "df.head()"
   ]
  }
 ],
 "metadata": {
  "kernelspec": {
   "display_name": "Python 3",
   "language": "python",
   "name": "python3"
  },
  "language_info": {
   "codemirror_mode": {
    "name": "ipython",
    "version": 3
   },
   "file_extension": ".py",
   "mimetype": "text/x-python",
   "name": "python",
   "nbconvert_exporter": "python",
   "pygments_lexer": "ipython3",
   "version": "3.7.3"
  }
 },
 "nbformat": 4,
 "nbformat_minor": 2
}
