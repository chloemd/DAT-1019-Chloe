{
 "cells": [
  {
   "cell_type": "markdown",
   "metadata": {},
   "source": [
    "### Functions Review\n",
    "\n",
    "**Who this notebook is for:** people who want additional practice writing functions because they feel shaky with the practice of doing it.\n",
    "\n",
    "**How it's designed to work:** The exercises are designed to start simply, and gradually add complexity, and test different aspects of functions and how they work.  Specifically:\n",
    "\n",
    " - Creating functions that take different data types as arguments\n",
    " - Setting up functions that have optional arguments to modify how they behave\n",
    " - looping and conditional logic"
   ]
  },
  {
   "cell_type": "markdown",
   "metadata": {},
   "source": [
    "#### Part 1:  Functions That Take Different Arguments"
   ]
  },
  {
   "cell_type": "markdown",
   "metadata": {},
   "source": [
    "**1: Write a function that accepts a list as an argument, and returns its length**"
   ]
  },
  {
   "cell_type": "code",
   "execution_count": 1,
   "metadata": {},
   "outputs": [],
   "source": [
    "# your answer here\n",
    "def checks_length(the_list):\n",
    "    return len(the_list)"
   ]
  },
  {
   "cell_type": "code",
   "execution_count": 2,
   "metadata": {},
   "outputs": [
    {
     "data": {
      "text/plain": [
       "4"
      ]
     },
     "execution_count": 2,
     "metadata": {},
     "output_type": "execute_result"
    }
   ],
   "source": [
    "# some checks\n",
    "checks_length([1, 2, 3, 4])"
   ]
  },
  {
   "cell_type": "code",
   "execution_count": 4,
   "metadata": {},
   "outputs": [
    {
     "data": {
      "text/plain": [
       "6"
      ]
     },
     "execution_count": 4,
     "metadata": {},
     "output_type": "execute_result"
    }
   ],
   "source": [
    "checks_length([True, False, True, True, True, False])"
   ]
  },
  {
   "cell_type": "markdown",
   "metadata": {},
   "source": [
    "**2: Write a function that accepts a list as an arugment, and returns True/False depending on whether or not it has more than 5 items.**"
   ]
  },
  {
   "cell_type": "code",
   "execution_count": 6,
   "metadata": {},
   "outputs": [],
   "source": [
    "# your answer here\n",
    "def longer_than_five(the_list):\n",
    "    # if the list has longer than 5 items\n",
    "    if len(the_list) > 5:\n",
    "        # do this\n",
    "        return True\n",
    "    # if not return False\n",
    "    return False"
   ]
  },
  {
   "cell_type": "code",
   "execution_count": 7,
   "metadata": {},
   "outputs": [
    {
     "name": "stdout",
     "output_type": "stream",
     "text": [
      "False\n",
      "False\n",
      "True\n"
     ]
    }
   ],
   "source": [
    "# checks\n",
    "print(longer_than_five([1, 2]))\n",
    "print(longer_than_five([[True, False], [True, False], ['Hi!']]))\n",
    "print(longer_than_five([6, 5, 3, 2, 3, 4, 7]))"
   ]
  },
  {
   "cell_type": "markdown",
   "metadata": {},
   "source": [
    "**3: Write a function that accepts a list as an argument, and returns `True` if it contains a string, and `False` if it does not.**"
   ]
  },
  {
   "cell_type": "code",
   "execution_count": 11,
   "metadata": {},
   "outputs": [],
   "source": [
    "# your answer here\n",
    "def check_for_string(the_list):\n",
    "    return any(type(item) == str for item in the_list)"
   ]
  },
  {
   "cell_type": "code",
   "execution_count": 9,
   "metadata": {},
   "outputs": [],
   "source": [
    "# answer with no comprehension\n",
    "def check_for_string_no_comp(the_list):\n",
    "    for item in the_list:\n",
    "        if type(item) == str:\n",
    "            return True\n",
    "    return False"
   ]
  },
  {
   "cell_type": "code",
   "execution_count": 12,
   "metadata": {},
   "outputs": [
    {
     "name": "stdout",
     "output_type": "stream",
     "text": [
      "True\n",
      "False\n"
     ]
    }
   ],
   "source": [
    "# some checks\n",
    "print(check_for_string(['Hi', 1, 2, 3]))\n",
    "print(check_for_string([1, 2, 3, 4, 5]))"
   ]
  },
  {
   "cell_type": "code",
   "execution_count": 13,
   "metadata": {},
   "outputs": [
    {
     "name": "stdout",
     "output_type": "stream",
     "text": [
      "True\n",
      "False\n"
     ]
    }
   ],
   "source": [
    "# checks for other option\n",
    "print(check_for_string_no_comp(['Hi', 1, 2, 3]))\n",
    "print(check_for_string_no_comp([1, 2, 3, 4, 5]))"
   ]
  },
  {
   "cell_type": "markdown",
   "metadata": {},
   "source": [
    "**4: Write a function that accepts a number as an argument, and prints a statement telling you if the number is even or odd.**"
   ]
  },
  {
   "cell_type": "code",
   "execution_count": 16,
   "metadata": {},
   "outputs": [],
   "source": [
    "# your answer here\n",
    "def checks_for_even(number):\n",
    "    if number % 2 == 0:\n",
    "        print(\"Number is even\")\n",
    "    else:\n",
    "        print(\"Number is odd\")"
   ]
  },
  {
   "cell_type": "code",
   "execution_count": 18,
   "metadata": {},
   "outputs": [
    {
     "name": "stdout",
     "output_type": "stream",
     "text": [
      "Number is even\n",
      "Number is odd\n"
     ]
    }
   ],
   "source": [
    "# some checks\n",
    "checks_for_even(24)\n",
    "checks_for_even(23)"
   ]
  },
  {
   "cell_type": "markdown",
   "metadata": {},
   "source": [
    "**5: Write a function that accepts a number as an argument, and prints a message telling you if it's an integer or a floating point number.  If it's neither, print what data type it is.**"
   ]
  },
  {
   "cell_type": "code",
   "execution_count": 19,
   "metadata": {},
   "outputs": [],
   "source": [
    "# your answer here\n",
    "def check_num_type(number):\n",
    "    if type(number) == int:\n",
    "        print(number, \" is an integer.\")\n",
    "    elif type(number) == float:\n",
    "        print(number, \" is a float\")\n",
    "    else:\n",
    "        print(number, \" is a \", type(number))"
   ]
  },
  {
   "cell_type": "code",
   "execution_count": 20,
   "metadata": {},
   "outputs": [
    {
     "name": "stdout",
     "output_type": "stream",
     "text": [
      "23  is an integer.\n",
      "23.0  is a float\n",
      "[]  is a  <class 'list'>\n"
     ]
    }
   ],
   "source": [
    "# some checks\n",
    "check_num_type(23)\n",
    "check_num_type(23.0)\n",
    "check_num_type([])"
   ]
  },
  {
   "cell_type": "markdown",
   "metadata": {},
   "source": [
    "**6: Write a function that checks to see if a number is a prime number or not.  This means it can only be divided by 1 and itself, and nothing else.  If prime, return `True`.  Return `False` if it's not.**"
   ]
  },
  {
   "cell_type": "code",
   "execution_count": 27,
   "metadata": {},
   "outputs": [],
   "source": [
    "# your answer here\n",
    "def is_prime(number):\n",
    "    return not any(number % i == 0 for i in range(2, number))"
   ]
  },
  {
   "cell_type": "code",
   "execution_count": 22,
   "metadata": {},
   "outputs": [],
   "source": [
    "# without a comprehension\n",
    "def is_prime_no_comp(number):\n",
    "    for i in range(2, number):\n",
    "        if number % i == 0:\n",
    "            return False\n",
    "    return True"
   ]
  },
  {
   "cell_type": "code",
   "execution_count": 31,
   "metadata": {},
   "outputs": [
    {
     "name": "stdout",
     "output_type": "stream",
     "text": [
      "True\n",
      "False\n",
      "True\n"
     ]
    }
   ],
   "source": [
    "# some checks\n",
    "print(is_prime(2))\n",
    "print(is_prime(6))\n",
    "print(is_prime(11))"
   ]
  },
  {
   "cell_type": "code",
   "execution_count": 32,
   "metadata": {},
   "outputs": [
    {
     "name": "stdout",
     "output_type": "stream",
     "text": [
      "True\n",
      "False\n",
      "True\n"
     ]
    }
   ],
   "source": [
    "# for the non-comprehension\n",
    "print(is_prime_no_comp(2))\n",
    "print(is_prime_no_comp(6))\n",
    "print(is_prime_no_comp(11))"
   ]
  },
  {
   "cell_type": "markdown",
   "metadata": {},
   "source": [
    "**7: Write a function that accepts a string as an argument, and checks to see if it contains the letter `a`.  Return `True` if it does, `False` if it does not.**"
   ]
  },
  {
   "cell_type": "code",
   "execution_count": 34,
   "metadata": {},
   "outputs": [],
   "source": [
    "# your answer here\n",
    "def checks_for_a(string):\n",
    "    if 'a' in string: \n",
    "        return True\n",
    "    return False"
   ]
  },
  {
   "cell_type": "code",
   "execution_count": 35,
   "metadata": {},
   "outputs": [
    {
     "name": "stdout",
     "output_type": "stream",
     "text": [
      "True\n",
      "True\n",
      "False\n"
     ]
    }
   ],
   "source": [
    "# some checks\n",
    "print(checks_for_a('apple'))\n",
    "print(checks_for_a('the grapes of wrath'))\n",
    "print(checks_for_a('hello there'))"
   ]
  },
  {
   "cell_type": "markdown",
   "metadata": {},
   "source": [
    "**8: Write a function that accepts a string as an argument, and returns how many vowels the string contains.**"
   ]
  },
  {
   "cell_type": "code",
   "execution_count": 38,
   "metadata": {},
   "outputs": [],
   "source": [
    "# your answer here\n",
    "def checks_for_vowels(string):\n",
    "    return sum(1 for letter in string if letter.lower() in 'aeiou')"
   ]
  },
  {
   "cell_type": "code",
   "execution_count": 40,
   "metadata": {},
   "outputs": [],
   "source": [
    "# without comprehension\n",
    "def checks_for_vowels_no_comp(string):\n",
    "    num_vowels = 0\n",
    "    for letter in string:\n",
    "        if letter.lower() in 'aeiou':\n",
    "            num_vowels += 1\n",
    "    return num_vowels"
   ]
  },
  {
   "cell_type": "code",
   "execution_count": 41,
   "metadata": {},
   "outputs": [
    {
     "name": "stdout",
     "output_type": "stream",
     "text": [
      "2\n",
      "5\n",
      "0\n"
     ]
    }
   ],
   "source": [
    "print(checks_for_vowels('apple'))\n",
    "print(checks_for_vowels('my name is jonas'))\n",
    "print(checks_for_vowels('rhythm'))"
   ]
  },
  {
   "cell_type": "code",
   "execution_count": 42,
   "metadata": {},
   "outputs": [
    {
     "name": "stdout",
     "output_type": "stream",
     "text": [
      "2\n",
      "5\n",
      "0\n"
     ]
    }
   ],
   "source": [
    "print(checks_for_vowels_no_comp('apple'))\n",
    "print(checks_for_vowels_no_comp('my name is jonas'))\n",
    "print(checks_for_vowels_no_comp('rhythm'))"
   ]
  },
  {
   "cell_type": "markdown",
   "metadata": {},
   "source": [
    "**9:  Re-write the above function to return a dictionary, where each key is each vowel contained within the string, and its corresponding value is how many times it occurred.**"
   ]
  },
  {
   "cell_type": "code",
   "execution_count": 51,
   "metadata": {},
   "outputs": [],
   "source": [
    "# your answer here\n",
    "def get_vowels_with_dict(string):\n",
    "    # create an empty dictionary\n",
    "    vowel_dict = {}\n",
    "    # for each letter in the string\n",
    "    for letter in string:\n",
    "        # if it's a vowel\n",
    "        if letter.lower() in 'aeiou':\n",
    "            # check to see if it exists in our dictionary\n",
    "            if letter.lower() in vowel_dict:\n",
    "                # if it does, increase the counter by 1\n",
    "                vowel_dict[letter.lower()] += 1\n",
    "                # if not, then start the counter\n",
    "            else:\n",
    "                vowel_dict[letter.lower()] = 1\n",
    "    # and finally return the dictionary\n",
    "    return vowel_dict"
   ]
  },
  {
   "cell_type": "code",
   "execution_count": 44,
   "metadata": {},
   "outputs": [
    {
     "data": {
      "text/plain": [
       "{'a': 1, 'e': 1}"
      ]
     },
     "execution_count": 44,
     "metadata": {},
     "output_type": "execute_result"
    }
   ],
   "source": [
    "# some checks\n",
    "get_vowels_with_dict('apple')"
   ]
  },
  {
   "cell_type": "code",
   "execution_count": 52,
   "metadata": {},
   "outputs": [
    {
     "data": {
      "text/plain": [
       "{'i': 3, 'e': 2, 'a': 5, 'o': 2}"
      ]
     },
     "execution_count": 52,
     "metadata": {},
     "output_type": "execute_result"
    }
   ],
   "source": [
    "get_vowels_with_dict(\"I've always admired Tolstoy's sagacity\")"
   ]
  },
  {
   "cell_type": "markdown",
   "metadata": {},
   "source": [
    "**10: Write a function that accepts a string as an argument, and returns how many words the string has.**"
   ]
  },
  {
   "cell_type": "code",
   "execution_count": 53,
   "metadata": {},
   "outputs": [],
   "source": [
    "# your answer here\n",
    "def num_words(string):\n",
    "    return len(string.split())"
   ]
  },
  {
   "cell_type": "code",
   "execution_count": 54,
   "metadata": {},
   "outputs": [
    {
     "name": "stdout",
     "output_type": "stream",
     "text": [
      "5\n",
      "8\n"
     ]
    }
   ],
   "source": [
    "# some checks\n",
    "print(num_words(\"Old macdonald had a farm\"))\n",
    "print(num_words(\"I wish I was a little bit taller\"))"
   ]
  },
  {
   "cell_type": "markdown",
   "metadata": {},
   "source": [
    "**11:  Write a function that accepts two arguments, and checks to see if they're the same data type.  If they are the same data type, print off what it is.  If they're not the same data type, print off the data type of each argument inside of a string.**"
   ]
  },
  {
   "cell_type": "code",
   "execution_count": 55,
   "metadata": {},
   "outputs": [],
   "source": [
    "# your answer here\n",
    "def check_data_type(arg1, arg2):\n",
    "    if type(arg1) == type(arg2):\n",
    "        print(f\"Both arguments are of type: {type(arg1)}\")\n",
    "    else:\n",
    "        print(f\"Data type 1: {type(arg1)}, Data type 2: {type(arg2)}\")"
   ]
  },
  {
   "cell_type": "code",
   "execution_count": 56,
   "metadata": {},
   "outputs": [
    {
     "name": "stdout",
     "output_type": "stream",
     "text": [
      "Data type 1: <class 'str'>, Data type 2: <class 'int'>\n",
      "Data type 1: <class 'int'>, Data type 2: <class 'dict'>\n",
      "Both arguments are of type: <class 'str'>\n"
     ]
    }
   ],
   "source": [
    "#some checks\n",
    "check_data_type('hello', 23)\n",
    "check_data_type(45, {})\n",
    "check_data_type('string', 'list')"
   ]
  },
  {
   "cell_type": "markdown",
   "metadata": {},
   "source": [
    "**12: Write a function that takes two arguments, and checks for two things:**\n",
    "\n",
    " - If they are both strings\n",
    "  - If they're not, then print a message saying as much\n",
    "  - If they are, check to see if they're the same length\n",
    "   - If they are, print the length of each one\n",
    "   - If not, print a message saying as much"
   ]
  },
  {
   "cell_type": "code",
   "execution_count": 57,
   "metadata": {},
   "outputs": [],
   "source": [
    "# your answer here\n",
    "def check_string_length(string1, string2):\n",
    "    if type(string1) == type(string2):\n",
    "        if len(string1) == len(string2):\n",
    "            print(f\"Length of string1: {len(string1)}, length of string2: {len(string2)}\")\n",
    "        else:\n",
    "            print(\"They're both string, but are different lengths.\")\n",
    "    else:\n",
    "        print(\"Please make sure you enter strings and nothing else.\")"
   ]
  },
  {
   "cell_type": "code",
   "execution_count": 58,
   "metadata": {},
   "outputs": [
    {
     "name": "stdout",
     "output_type": "stream",
     "text": [
      "They're both string, but are different lengths.\n",
      "Length of string1: 5, length of string2: 5\n",
      "Please make sure you enter strings and nothing else.\n"
     ]
    }
   ],
   "source": [
    "# some checks\n",
    "check_string_length('hi', 'bye')\n",
    "check_string_length('hello', 'pizza')\n",
    "check_string_length(23, 'just stopping by')"
   ]
  },
  {
   "cell_type": "markdown",
   "metadata": {},
   "source": [
    "**13: Write a function that accepts a list as an argument, and returns a list that contains all the strings inside the original one.**"
   ]
  },
  {
   "cell_type": "code",
   "execution_count": 59,
   "metadata": {},
   "outputs": [],
   "source": [
    "# your answer here\n",
    "def filters_strings(the_list):\n",
    "    return [item for item in the_list if type(item) == str]"
   ]
  },
  {
   "cell_type": "code",
   "execution_count": 60,
   "metadata": {},
   "outputs": [],
   "source": [
    "# without comprehensions\n",
    "def filters_strings_no_comp(the_list):\n",
    "    string_list = []\n",
    "    for item in the_list:\n",
    "        if type(item) == str:\n",
    "            string_list.append(item)\n",
    "    return string_list"
   ]
  },
  {
   "cell_type": "code",
   "execution_count": 61,
   "metadata": {},
   "outputs": [
    {
     "name": "stdout",
     "output_type": "stream",
     "text": [
      "['hi', 'bye']\n",
      "['hi', 'bye']\n"
     ]
    }
   ],
   "source": [
    "# some checks\n",
    "print(filters_strings(['hi', 12, 'bye', 45, True, [1, 2, 3]]))\n",
    "print(filters_strings_no_comp(['hi', 12, 'bye', 45, True, [1, 2, 3]]))"
   ]
  },
  {
   "cell_type": "markdown",
   "metadata": {},
   "source": [
    "**14:  Write a function that takes a list as an argument, and returns the list in reverse order.**"
   ]
  },
  {
   "cell_type": "code",
   "execution_count": 64,
   "metadata": {},
   "outputs": [],
   "source": [
    "# your answer here\n",
    "def reverse_list(the_list):\n",
    "    the_list.reverse()\n",
    "    return the_list"
   ]
  },
  {
   "cell_type": "code",
   "execution_count": 65,
   "metadata": {},
   "outputs": [
    {
     "data": {
      "text/plain": [
       "[4, 3, 2, 1]"
      ]
     },
     "execution_count": 65,
     "metadata": {},
     "output_type": "execute_result"
    }
   ],
   "source": [
    "# some checks\n",
    "reverse_list([1, 2, 3, 4])"
   ]
  },
  {
   "cell_type": "markdown",
   "metadata": {},
   "source": [
    "**15: Write a function that takes a string as an argument, and returns the string in reverse order**"
   ]
  },
  {
   "cell_type": "code",
   "execution_count": 66,
   "metadata": {},
   "outputs": [],
   "source": [
    "# your answer here\n",
    "def reverses_string(the_string):\n",
    "    return the_string[::-1]"
   ]
  },
  {
   "cell_type": "code",
   "execution_count": 67,
   "metadata": {},
   "outputs": [
    {
     "data": {
      "text/plain": [
       "'mah dna sgge neerg ekil I'"
      ]
     },
     "execution_count": 67,
     "metadata": {},
     "output_type": "execute_result"
    }
   ],
   "source": [
    "# some checks\n",
    "reverses_string(\"I like green eggs and ham\")"
   ]
  },
  {
   "cell_type": "markdown",
   "metadata": {},
   "source": [
    "**16: Write a function that takes a number as an argument, and returns the number in reverse order.  Return the value *as a number*.**"
   ]
  },
  {
   "cell_type": "code",
   "execution_count": 68,
   "metadata": {},
   "outputs": [],
   "source": [
    "# your answer here\n",
    "def reverses_number(number):\n",
    "    return int(str(number)[::-1])"
   ]
  },
  {
   "cell_type": "code",
   "execution_count": 69,
   "metadata": {},
   "outputs": [
    {
     "name": "stdout",
     "output_type": "stream",
     "text": [
      "114\n",
      "4832\n"
     ]
    }
   ],
   "source": [
    "# some checks\n",
    "print(reverses_number(411))\n",
    "print(reverses_number(2384))"
   ]
  },
  {
   "cell_type": "code",
   "execution_count": 70,
   "metadata": {},
   "outputs": [
    {
     "data": {
      "text/plain": [
       "108"
      ]
     },
     "execution_count": 70,
     "metadata": {},
     "output_type": "execute_result"
    }
   ],
   "source": [
    "# and just to double check, you can see the values are returned as numbers\n",
    "reverses_number(21)*reverses_number(90)"
   ]
  },
  {
   "cell_type": "markdown",
   "metadata": {},
   "source": [
    "**17: Write a function that takes two lists as an argument, and returns a list that contains items that are inside both lists.**"
   ]
  },
  {
   "cell_type": "code",
   "execution_count": 71,
   "metadata": {},
   "outputs": [],
   "source": [
    "# your answer here\n",
    "def joint_items(list1, list2):\n",
    "    return [item for item in list1 if item in list2]"
   ]
  },
  {
   "cell_type": "code",
   "execution_count": 72,
   "metadata": {},
   "outputs": [],
   "source": [
    "# without a comprehension\n",
    "def joint_items_no_comp(list1, list2):\n",
    "    joint_items = []\n",
    "    for item in list1:\n",
    "        if item in list2:\n",
    "            joint_items.append(item)\n",
    "    return joint_items"
   ]
  },
  {
   "cell_type": "code",
   "execution_count": 74,
   "metadata": {},
   "outputs": [
    {
     "name": "stdout",
     "output_type": "stream",
     "text": [
      "[3, 4, 5]\n",
      "[3, 4, 5]\n"
     ]
    }
   ],
   "source": [
    "# some checks\n",
    "print(joint_items([1, 2, 3, 4, 5], [3, 4, 5, 6]))\n",
    "print(joint_items_no_comp([1, 2, 3, 4, 5], [3, 4, 5, 6]))"
   ]
  },
  {
   "cell_type": "markdown",
   "metadata": {},
   "source": [
    "**18:  Write a function that checks if a url is an http or https web address**"
   ]
  },
  {
   "cell_type": "code",
   "execution_count": 75,
   "metadata": {},
   "outputs": [],
   "source": [
    "# your answer here\n",
    "def is_http(url):\n",
    "    root = url.split(':')[0]\n",
    "    if root == 'http':\n",
    "        return True\n",
    "    return False"
   ]
  },
  {
   "cell_type": "code",
   "execution_count": 77,
   "metadata": {},
   "outputs": [
    {
     "name": "stdout",
     "output_type": "stream",
     "text": [
      "False\n",
      "True\n"
     ]
    }
   ],
   "source": [
    "# some checks\n",
    "print(is_http('https://www.nba.com/'))\n",
    "print(is_http('http://www.nba.com/'))"
   ]
  },
  {
   "cell_type": "markdown",
   "metadata": {},
   "source": [
    "**19: Write a function that takes two strings as arguments, and returns words both strings have in common as a list.**"
   ]
  },
  {
   "cell_type": "code",
   "execution_count": 85,
   "metadata": {},
   "outputs": [],
   "source": [
    "# your answer here\n",
    "def words_in_common(string1, string2):\n",
    "    return [item for item in string1.split() if item in string2.split()]"
   ]
  },
  {
   "cell_type": "code",
   "execution_count": 88,
   "metadata": {},
   "outputs": [],
   "source": [
    "# without a comprehension\n",
    "def words_in_common_no_comp(string1, string2):\n",
    "    joint_words = []\n",
    "    for word in string1.split():\n",
    "        if word in string2.split():\n",
    "            joint_words.append(word)\n",
    "    return joint_words"
   ]
  },
  {
   "cell_type": "code",
   "execution_count": 103,
   "metadata": {},
   "outputs": [
    {
     "name": "stdout",
     "output_type": "stream",
     "text": [
      "['i', 'seems', 'the']\n",
      "['i', 'seems', 'the']\n"
     ]
    }
   ],
   "source": [
    "# some checks\n",
    "phrase1 = \"I always wanted to be an astronout.  Seems so like a blast. The best profession.\"\n",
    "phrase2 = \"I believe the fun life is worth living, even if it seems superficial.\"\n",
    "\n",
    "print(words_in_common(phrase1, phrase2))\n",
    "print(words_in_common_no_comp(phrase1, phrase2))"
   ]
  },
  {
   "cell_type": "markdown",
   "metadata": {},
   "source": [
    "**20: Write a function that accepts a dictionary as an argument, and returns all of its keys in a list**"
   ]
  },
  {
   "cell_type": "code",
   "execution_count": 92,
   "metadata": {},
   "outputs": [],
   "source": [
    "# your answer here\n",
    "def get_keys(the_dict):\n",
    "    return list(the_dict.keys())"
   ]
  },
  {
   "cell_type": "code",
   "execution_count": 93,
   "metadata": {},
   "outputs": [
    {
     "data": {
      "text/plain": [
       "['key1', 'key2', 'key3']"
      ]
     },
     "execution_count": 93,
     "metadata": {},
     "output_type": "execute_result"
    }
   ],
   "source": [
    "# some checks\n",
    "get_keys({'key1': 1, 'key2': 2, 'key3': 3})"
   ]
  },
  {
   "cell_type": "markdown",
   "metadata": {},
   "source": [
    "**21: Write a function that accepts a dictionary as an argument, and returns all of its values in a list.**"
   ]
  },
  {
   "cell_type": "code",
   "execution_count": 94,
   "metadata": {},
   "outputs": [],
   "source": [
    "# your answer here\n",
    "def get_values(the_dict):\n",
    "    return list(the_dict.values())"
   ]
  },
  {
   "cell_type": "code",
   "execution_count": 95,
   "metadata": {},
   "outputs": [
    {
     "data": {
      "text/plain": [
       "[1, 2, 3]"
      ]
     },
     "execution_count": 95,
     "metadata": {},
     "output_type": "execute_result"
    }
   ],
   "source": [
    "# some checks\n",
    "get_values({'key1': 1, 'key2': 2, 'key3': 3})"
   ]
  },
  {
   "cell_type": "markdown",
   "metadata": {},
   "source": [
    "**22:  Write a function that takes a list as an argument, and returns a dictionary that contains each unique element inside it, and how often it occurs.** "
   ]
  },
  {
   "cell_type": "code",
   "execution_count": 98,
   "metadata": {},
   "outputs": [],
   "source": [
    "# your answer here\n",
    "def get_uniques(the_list):\n",
    "    return {item: the_list.count(item) for item in set(the_list)}"
   ]
  },
  {
   "cell_type": "code",
   "execution_count": 101,
   "metadata": {},
   "outputs": [],
   "source": [
    "# without comprehensions\n",
    "def get_uniques_no_comp(the_list):\n",
    "    unique_vals = set(the_list)\n",
    "    count_dict = {}\n",
    "    for val in unique_vals:\n",
    "        count_dict[val] = the_list.count(val)\n",
    "            \n",
    "    return count_dict"
   ]
  },
  {
   "cell_type": "code",
   "execution_count": 99,
   "metadata": {},
   "outputs": [
    {
     "data": {
      "text/plain": [
       "{1: 3, 2: 3, 3: 2, 'the': 2, 48: 1}"
      ]
     },
     "execution_count": 99,
     "metadata": {},
     "output_type": "execute_result"
    }
   ],
   "source": [
    "# some checks\n",
    "get_uniques([1, 2, 3, 1, 1, 'the', 'the', 48, 2, 3, 2])"
   ]
  },
  {
   "cell_type": "code",
   "execution_count": 102,
   "metadata": {},
   "outputs": [
    {
     "data": {
      "text/plain": [
       "{1: 3, 2: 3, 3: 2, 'the': 2, 48: 1}"
      ]
     },
     "execution_count": 102,
     "metadata": {},
     "output_type": "execute_result"
    }
   ],
   "source": [
    "get_uniques_no_comp([1, 2, 3, 1, 1, 'the', 'the', 48, 2, 3, 2])"
   ]
  },
  {
   "cell_type": "markdown",
   "metadata": {},
   "source": [
    "**Part II: Functions that contain optional arguments.**\n",
    "\n",
    "Lots of functions are made more useful by containing additional parameters which determine how they should behave.  Try constructing the functions described, with the arguments mentioned."
   ]
  },
  {
   "cell_type": "markdown",
   "metadata": {},
   "source": [
    "**23: Write function 19 again, except *this time*, add an argument called `case_sensitive`.  It should be a boolean value.  If `True`, the results are not sensitive to whether or not the values are upper case or lower cased.  If `False`, then they're not.**"
   ]
  },
  {
   "cell_type": "code",
   "execution_count": 104,
   "metadata": {},
   "outputs": [],
   "source": [
    "# your answer here\n",
    "def words_in_common(string1, string2, case_sensitive=True):\n",
    "    if case_sensitive:\n",
    "        return [item for item in string1.lower().split() if item in string2.lower().split()]\n",
    "    return [item for item in string1.split() if item in string2.split()]"
   ]
  },
  {
   "cell_type": "code",
   "execution_count": 105,
   "metadata": {},
   "outputs": [
    {
     "name": "stdout",
     "output_type": "stream",
     "text": [
      "['the', 'sun', 'never', 'shines', 'on', 'closed', 'doors.']\n",
      "['never', 'shines', 'on', 'closed', 'doors.']\n"
     ]
    }
   ],
   "source": [
    "# some checks\n",
    "phrase1 = 'The sun never shines on closed doors.'\n",
    "phrase2 = 'the Sun never shines on closed doors.'\n",
    "print(words_in_common(phrase1, phrase2))\n",
    "print(words_in_common(phrase1, phrase2, case_sensitive=False))"
   ]
  },
  {
   "cell_type": "markdown",
   "metadata": {},
   "source": [
    "**24: Write a function that returns all the files of a particular type in a directory.  The default directory should be the current one.  There should be an additional argument called `filetype` that specifies what file type to check for.  The default value should be `csv`, but users should be able to specify to look for either `html` and `pdf` files as well.**\n",
    "\n",
    "Results should be returned in a list."
   ]
  },
  {
   "cell_type": "code",
   "execution_count": 115,
   "metadata": {},
   "outputs": [],
   "source": [
    "# your answer here\n",
    "def find_files(filepath=None, filetype='csv'):\n",
    "    import os\n",
    "    if filepath == None:\n",
    "        if filetype == 'csv':\n",
    "            return [file for file in os.listdir() if file[-3:] == 'csv']\n",
    "        elif filetype == 'html':\n",
    "            return [file for file in os.listdir() if file[-4:] == 'html']\n",
    "        elif filetype == 'pdf':\n",
    "            return [file for file in os.listdir() if file[-3:] == 'pdf']\n",
    "    else:\n",
    "        if filetype == 'csv':\n",
    "            return [file for file in os.listdir() if file[-3:] == 'csv']\n",
    "        elif filetype == 'html':\n",
    "            return [file for file in os.listdir() if file[-4:] == 'html']\n",
    "        elif filetype == 'pdf':\n",
    "            return [file for file in os.listdir() if file[-3:] == 'pdf']"
   ]
  },
  {
   "cell_type": "code",
   "execution_count": 116,
   "metadata": {},
   "outputs": [
    {
     "data": {
      "text/plain": [
       "['1500340.csv',\n",
       " '1500343.csv',\n",
       " '1500345.csv',\n",
       " 'AAPL (1).csv',\n",
       " 'AAPL.csv',\n",
       " 'AirPassengers.csv',\n",
       " 'amis (1).csv',\n",
       " 'amis.csv',\n",
       " 'AMZN.csv',\n",
       " 'bike_requests.csv',\n",
       " 'births.csv',\n",
       " 'callers.csv',\n",
       " 'data (1).csv',\n",
       " 'data (2).csv',\n",
       " 'data (3).csv',\n",
       " 'data (4).csv',\n",
       " 'data (5).csv',\n",
       " 'data.csv',\n",
       " 'expanding_mapping_capabilities_custom_geocoding_csv',\n",
       " 'FB.csv',\n",
       " 'file_upload_csv_template_08122008.csv',\n",
       " 'GitHub Repos - Sheet1 (1).csv',\n",
       " 'GitHub Repos - Sheet1.csv',\n",
       " 'GOOGL.csv',\n",
       " 'grocery_sales.csv',\n",
       " 'IEF.csv',\n",
       " 'IMDB Dataset.csv',\n",
       " 'initial_submit (1).csv',\n",
       " 'initial_submit (2).csv',\n",
       " 'initial_submit.csv',\n",
       " 'iowa_housing.csv',\n",
       " 'lreg_answers.csv',\n",
       " 'mixture.csv',\n",
       " 'MSFT (1).csv',\n",
       " 'MSFT.csv',\n",
       " 'Output.csv',\n",
       " 'Owners.csv',\n",
       " 'pctgrowth.csv',\n",
       " 'Pets.csv',\n",
       " 'potions.csv',\n",
       " 'predictions_for_movies_zeroed.csv',\n",
       " 'ProceduresDetails.csv',\n",
       " 'ProceduresHistory-1.csv',\n",
       " 'repos.csv',\n",
       " 'sheetal.csv',\n",
       " 'StackingSubmission.csv',\n",
       " 'submission (1).csv',\n",
       " 'submission (2).csv',\n",
       " 'submission.csv',\n",
       " 'test (1).csv',\n",
       " 'test.csv',\n",
       " 'titanic.csv',\n",
       " 'titanic_submissions.csv',\n",
       " 'titanic_test.csv',\n",
       " 'tmdb_movies_data.csv',\n",
       " 'train.csv',\n",
       " '^GSPC.csv',\n",
       " '_244865a4d5a9a1dfcba2c8b19040de4f_callers.csv',\n",
       " '_a0f69303566ab5afce696cd01f5f9a90_daily-total-female-births-in-cal (1).csv']"
      ]
     },
     "execution_count": 116,
     "metadata": {},
     "output_type": "execute_result"
    }
   ],
   "source": [
    "# some checks\n",
    "find_files()"
   ]
  },
  {
   "cell_type": "code",
   "execution_count": 118,
   "metadata": {},
   "outputs": [
    {
     "data": {
      "text/plain": [
       "['1500340.csv',\n",
       " '1500343.csv',\n",
       " '1500345.csv',\n",
       " 'AAPL (1).csv',\n",
       " 'AAPL.csv',\n",
       " 'AirPassengers.csv',\n",
       " 'amis (1).csv',\n",
       " 'amis.csv',\n",
       " 'AMZN.csv',\n",
       " 'bike_requests.csv',\n",
       " 'births.csv',\n",
       " 'callers.csv',\n",
       " 'data (1).csv',\n",
       " 'data (2).csv',\n",
       " 'data (3).csv',\n",
       " 'data (4).csv',\n",
       " 'data (5).csv',\n",
       " 'data.csv',\n",
       " 'expanding_mapping_capabilities_custom_geocoding_csv',\n",
       " 'FB.csv',\n",
       " 'file_upload_csv_template_08122008.csv',\n",
       " 'GitHub Repos - Sheet1 (1).csv',\n",
       " 'GitHub Repos - Sheet1.csv',\n",
       " 'GOOGL.csv',\n",
       " 'grocery_sales.csv',\n",
       " 'IEF.csv',\n",
       " 'IMDB Dataset.csv',\n",
       " 'initial_submit (1).csv',\n",
       " 'initial_submit (2).csv',\n",
       " 'initial_submit.csv',\n",
       " 'iowa_housing.csv',\n",
       " 'lreg_answers.csv',\n",
       " 'mixture.csv',\n",
       " 'MSFT (1).csv',\n",
       " 'MSFT.csv',\n",
       " 'Output.csv',\n",
       " 'Owners.csv',\n",
       " 'pctgrowth.csv',\n",
       " 'Pets.csv',\n",
       " 'potions.csv',\n",
       " 'predictions_for_movies_zeroed.csv',\n",
       " 'ProceduresDetails.csv',\n",
       " 'ProceduresHistory-1.csv',\n",
       " 'repos.csv',\n",
       " 'sheetal.csv',\n",
       " 'StackingSubmission.csv',\n",
       " 'submission (1).csv',\n",
       " 'submission (2).csv',\n",
       " 'submission.csv',\n",
       " 'test (1).csv',\n",
       " 'test.csv',\n",
       " 'titanic.csv',\n",
       " 'titanic_submissions.csv',\n",
       " 'titanic_test.csv',\n",
       " 'tmdb_movies_data.csv',\n",
       " 'train.csv',\n",
       " '^GSPC.csv',\n",
       " '_244865a4d5a9a1dfcba2c8b19040de4f_callers.csv',\n",
       " '_a0f69303566ab5afce696cd01f5f9a90_daily-total-female-births-in-cal (1).csv']"
      ]
     },
     "execution_count": 118,
     "metadata": {},
     "output_type": "execute_result"
    }
   ],
   "source": [
    "# pass in a file path\n",
    "find_files(r'C:\\Users\\Jonat\\OneDrive\\Documents')"
   ]
  },
  {
   "cell_type": "code",
   "execution_count": 119,
   "metadata": {},
   "outputs": [
    {
     "data": {
      "text/plain": [
       "['07847800019478.pdf',\n",
       " '07988600007331.pdf',\n",
       " '10153300001642.pdf',\n",
       " '2.0 Survey.pdf',\n",
       " '2002-Brockwell-IntroductionTimeSeriesandForecasting.pdf',\n",
       " '2013_TaxReturn.pdf.pdf',\n",
       " '2016_TaxReturn.pdf.pdf',\n",
       " '2017-1099K (1).pdf',\n",
       " '2017-1099K.pdf',\n",
       " '2017_TaxReturn.pdf (1).pdf',\n",
       " '2017_TaxReturn.pdf.pdf',\n",
       " '20180813-statements-x2105-.pdf',\n",
       " '2018_TaxReturn.pdf (1).pdf',\n",
       " '2018_TaxReturn.pdf.pdf',\n",
       " '2fa_backup_code_USCIS_myAccount.pdf',\n",
       " '3715.pdf',\n",
       " '7M67149621.pdf',\n",
       " 'Agenda.pdf',\n",
       " 'attention.pdf',\n",
       " 'bank_statement.pdf',\n",
       " 'Bechtel, Jonathan - Mgmt Checklist.pdf',\n",
       " 'Bechtel, Jonathan - Permit Application.pdf',\n",
       " 'Bechtel, Jonathan - Resume.pdf',\n",
       " 'BERT.pdf',\n",
       " 'BPSS_receipt.pdf',\n",
       " 'brochure-sp-global-bmi.pdf',\n",
       " 'bus_ticket.pdf',\n",
       " 'Classification_and_Regression_by_RandomForest.pdf',\n",
       " 'Comparison Of Different Versions of Tableau.pdf',\n",
       " 'equifax_data_breach.pdf',\n",
       " 'forex_receipt.pdf',\n",
       " 'FRRO form details.pdf',\n",
       " 'Health Kismet EIN.pdf',\n",
       " 'I-129.pdf',\n",
       " 'i-129f (1).pdf',\n",
       " 'i-129f (2).pdf',\n",
       " 'i-129f (3).pdf',\n",
       " 'i-129f (4).pdf',\n",
       " 'i-129f.pdf',\n",
       " 'i-129finstr.pdf',\n",
       " 'i-134.pdf',\n",
       " 'i-485.pdf',\n",
       " 'i-864.pdf',\n",
       " 'images (1).pdf',\n",
       " 'images.pdf',\n",
       " 'Intro to Python - Online.pdf',\n",
       " 'jags_user_manual.pdf',\n",
       " 'leo_breiman_conversation.pdf',\n",
       " 'MOHELA_tax_info.pdf',\n",
       " 'passport.pdf',\n",
       " 'petition.pdf',\n",
       " 'Resume - Tech Instructor.pdf',\n",
       " 'saugerties_bus.pdf',\n",
       " 'stmt.pdf',\n",
       " 'unit_01_12spring.pdf',\n",
       " 'unit_07_12spring.pdf',\n",
       " 'v33i01.pdf',\n",
       " 'Visa form with Hindi Details (1).pdf',\n",
       " 'Visa form with Hindi Details (2).pdf',\n",
       " 'Visa form with Hindi Details.pdf',\n",
       " 'workshopbook2019.pdf',\n",
       " 'YEAR_TO_DATE.pdf']"
      ]
     },
     "execution_count": 119,
     "metadata": {},
     "output_type": "execute_result"
    }
   ],
   "source": [
    "# pass in a file path, and an argument\n",
    "find_files(r'C:\\Users\\Jonat\\OneDrive\\Documents', filetype='pdf')"
   ]
  },
  {
   "cell_type": "markdown",
   "metadata": {},
   "source": [
    "**25: Write a function that accepts a dictionary as an argument, and returns a list of all of its key/value pairs.  Include an additional argument called `to_include`.  The `to_include` argument should specify whether or not you should return the keys, values, or both inside of a list.  The default setting should be to return key/value pairs.**"
   ]
  },
  {
   "cell_type": "code",
   "execution_count": 120,
   "metadata": {},
   "outputs": [],
   "source": [
    "# your answer here\n",
    "def get_dict_vals(the_dict, to_include='all'):\n",
    "    if to_include == 'all':\n",
    "        return list(the_dict.items())\n",
    "    elif to_include == 'keys':\n",
    "        return list(the_dict.keys())\n",
    "    elif to_include == 'values':\n",
    "        return list(the_dict.values())"
   ]
  },
  {
   "cell_type": "code",
   "execution_count": 121,
   "metadata": {},
   "outputs": [
    {
     "data": {
      "text/plain": [
       "[('key1', 23), ('key2', 12), ('key3', 49)]"
      ]
     },
     "execution_count": 121,
     "metadata": {},
     "output_type": "execute_result"
    }
   ],
   "source": [
    "# some checks\n",
    "get_dict_vals({'key1': 23, 'key2': 12, 'key3': 49})"
   ]
  },
  {
   "cell_type": "code",
   "execution_count": 122,
   "metadata": {},
   "outputs": [
    {
     "data": {
      "text/plain": [
       "[23, 12, 49]"
      ]
     },
     "execution_count": 122,
     "metadata": {},
     "output_type": "execute_result"
    }
   ],
   "source": [
    "# and some arguments\n",
    "get_dict_vals({'key1': 23, 'key2': 12, 'key3': 49}, to_include='values')"
   ]
  },
  {
   "cell_type": "code",
   "execution_count": 123,
   "metadata": {},
   "outputs": [
    {
     "data": {
      "text/plain": [
       "['key1', 'key2', 'key3']"
      ]
     },
     "execution_count": 123,
     "metadata": {},
     "output_type": "execute_result"
    }
   ],
   "source": [
    "# and the other\n",
    "get_dict_vals({'key1': 23, 'key2': 12, 'key3': 49}, to_include='keys')"
   ]
  }
 ],
 "metadata": {
  "kernelspec": {
   "display_name": "Python 3",
   "language": "python",
   "name": "python3"
  },
  "language_info": {
   "codemirror_mode": {
    "name": "ipython",
    "version": 3
   },
   "file_extension": ".py",
   "mimetype": "text/x-python",
   "name": "python",
   "nbconvert_exporter": "python",
   "pygments_lexer": "ipython3",
   "version": "3.7.1"
  }
 },
 "nbformat": 4,
 "nbformat_minor": 2
}
