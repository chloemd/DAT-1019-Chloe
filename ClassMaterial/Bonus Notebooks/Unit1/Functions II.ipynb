{
 "cells": [
  {
   "cell_type": "markdown",
   "metadata": {},
   "source": [
    "### Functions Review\n",
    "\n",
    "**Who this notebook is for:** people who want additional practice writing functions because they feel shaky with the practice of doing it.\n",
    "\n",
    "**How it's designed to work:** The exercises are designed to start simply, and gradually add complexity, and test different aspects of functions and how they work.  Specifically:\n",
    "\n",
    " - Creating functions that take different data types as arguments\n",
    " - Setting up functions that have optional arguments to modify how they behave\n",
    " - looping and conditional logic"
   ]
  },
  {
   "cell_type": "markdown",
   "metadata": {},
   "source": [
    "#### Part 1:  Functions That Take Different Arguments"
   ]
  },
  {
   "cell_type": "markdown",
   "metadata": {},
   "source": [
    "**1: Write a function that accepts a list as an argument, and returns its length**"
   ]
  },
  {
   "cell_type": "code",
   "execution_count": 12,
   "metadata": {},
   "outputs": [
    {
     "data": {
      "text/plain": [
       "True"
      ]
     },
     "execution_count": 12,
     "metadata": {},
     "output_type": "execute_result"
    }
   ],
   "source": [
    "# your answer here\n",
    "\n",
    "def listlen(alist):\n",
    "    return len(alist)\n",
    "\n",
    "x = [1,2,34,5,6,7]\n",
    "y = [\"dog\", \"cat\", \"birb\"]\n",
    "\n",
    "listlen(x)\n"
   ]
  },
  {
   "cell_type": "markdown",
   "metadata": {},
   "source": [
    "**2: Write a function that accepts a list as an arugment, and returns True/False depending on whether or not it has more than 5 items.**"
   ]
  },
  {
   "cell_type": "code",
   "execution_count": 7,
   "metadata": {},
   "outputs": [
    {
     "name": "stdout",
     "output_type": "stream",
     "text": [
      "True\n",
      "False\n"
     ]
    }
   ],
   "source": [
    "# your answer here\n",
    "def has_over_5(alist):\n",
    "    if listlen(alist) > 5:\n",
    "        return True\n",
    "    else:\n",
    "        return False\n",
    "\n",
    "print(has_over_5(x))\n",
    "print(has_over_5(y))"
   ]
  },
  {
   "cell_type": "markdown",
   "metadata": {},
   "source": [
    "**3: Write a function that accepts a list as an argument, and returns `True` if it contains a string, and `False` if it does not.**"
   ]
  },
  {
   "cell_type": "code",
   "execution_count": 14,
   "metadata": {},
   "outputs": [
    {
     "name": "stdout",
     "output_type": "stream",
     "text": [
      "False\n",
      "True\n"
     ]
    }
   ],
   "source": [
    "def has_string(alist):\n",
    "    for item in alist:\n",
    "        if type(item) == str:\n",
    "            return True\n",
    "    return False\n",
    "\n",
    "print(has_string(x))\n",
    "print(has_string(y))"
   ]
  },
  {
   "cell_type": "markdown",
   "metadata": {},
   "source": [
    "**4: Write a function that accepts a number as an argument, and prints a statement telling you if the number is even or odd.**"
   ]
  },
  {
   "cell_type": "code",
   "execution_count": 21,
   "metadata": {},
   "outputs": [
    {
     "name": "stdout",
     "output_type": "stream",
     "text": [
      "True\n",
      "False\n",
      "True\n",
      "True\n"
     ]
    }
   ],
   "source": [
    "def parity(num):\n",
    "    return not bool(num % 2)\n",
    "\n",
    "print(parity(0))\n",
    "print(parity(1))\n",
    "print(parity(44))\n",
    "print(parity(-2))\n"
   ]
  },
  {
   "cell_type": "markdown",
   "metadata": {},
   "source": [
    "**5: Write a function that accepts a number as an argument, and prints a message telling you if it's an integer or a floating point number.  If it's neither, print what data type it is.**"
   ]
  },
  {
   "cell_type": "code",
   "execution_count": 68,
   "metadata": {},
   "outputs": [
    {
     "name": "stdout",
     "output_type": "stream",
     "text": [
      "Float\n",
      "Integer\n",
      "(<class 'str'>, '🤷')\n"
     ]
    }
   ],
   "source": [
    "def num_type(num):\n",
    "    if type(num) == int:\n",
    "        return 'Integer'\n",
    "    elif type(num) == float:\n",
    "        return 'Float'\n",
    "    else:\n",
    "        return type(num),'\\U0001F937'\n",
    "\n",
    "print(num_type(12.1))\n",
    "print(num_type(12))\n",
    "print(num_type('twelve'))"
   ]
  },
  {
   "cell_type": "markdown",
   "metadata": {},
   "source": [
    "**6: Write a function that checks to see if a number is a prime number or not.  This means it can only be divided by 1 and itself, and nothing else.  If prime, return `True`.  Return `False` if it's not.**"
   ]
  },
  {
   "cell_type": "code",
   "execution_count": 58,
   "metadata": {},
   "outputs": [
    {
     "data": {
      "text/plain": [
       "False"
      ]
     },
     "execution_count": 58,
     "metadata": {},
     "output_type": "execute_result"
    }
   ],
   "source": [
    "def is_prime(num):\n",
    "    if num < 0:\n",
    "        return False\n",
    "    if type(num) is not int:\n",
    "        return False\n",
    "    for i in range(2, int(num**.5)+1):\n",
    "        if num % i == 0:\n",
    "            return False\n",
    "    return True\n",
    "\n"
   ]
  },
  {
   "cell_type": "markdown",
   "metadata": {},
   "source": [
    "**7: Write a function that accepts a string as an argument, and checks to see if it contains the letter `a`.  Return `True` if it does, `False` if it does not.**"
   ]
  },
  {
   "cell_type": "code",
   "execution_count": 66,
   "metadata": {},
   "outputs": [
    {
     "name": "stdout",
     "output_type": "stream",
     "text": [
      "False\n",
      "True\n"
     ]
    }
   ],
   "source": [
    "def contains(letter, string):\n",
    "    return letter.lower() in string.lower()\n",
    "\n",
    "string1 = 'chloe'\n",
    "string2 = 'dames'\n",
    "string3 = 'thisstringcontainsmanymorevowels'\n",
    "\n",
    "print(contains('a', string1))\n",
    "print(contains('a', string2))"
   ]
  },
  {
   "cell_type": "markdown",
   "metadata": {},
   "source": [
    "**8: Write a function that accepts a string as an argument, and returns how many vowels the string contains.**"
   ]
  },
  {
   "cell_type": "code",
   "execution_count": 71,
   "metadata": {},
   "outputs": [
    {
     "name": "stdout",
     "output_type": "stream",
     "text": [
      "2\n",
      "2\n",
      "10\n"
     ]
    }
   ],
   "source": [
    "vowels = 'aeiou'\n",
    "\n",
    "def count_vowels(string):\n",
    "    return sum(1 for letter in string if letter.lower() in vowels)\n",
    "\n",
    "print(count_vowels(string1))\n",
    "print(count_vowels(string2))\n",
    "print(count_vowels(string3))"
   ]
  },
  {
   "cell_type": "markdown",
   "metadata": {},
   "source": [
    "**9:  Re-write the above function to return a dictionary, where each key is each vowel contained within the string, and its corresponding value is how many times it occurred.**"
   ]
  },
  {
   "cell_type": "code",
   "execution_count": 73,
   "metadata": {},
   "outputs": [
    {
     "data": {
      "text/plain": [
       "{'i': 4, 'a': 2, 'e': 5, 'o': 3}"
      ]
     },
     "execution_count": 73,
     "metadata": {},
     "output_type": "execute_result"
    }
   ],
   "source": [
    "def vowel_freq(string):\n",
    "    freq_dict = dict()\n",
    "    for letter in string:\n",
    "        letter = letter.lower()\n",
    "        if letter in vowels:\n",
    "            if letter in freq_dict:\n",
    "                freq_dict[letter] += 1\n",
    "            else:\n",
    "                freq_dict[letter] = 1\n",
    "    return freq_dict\n",
    "\n",
    "vowel_freq('it was the best of times, it was the worst of times...')"
   ]
  },
  {
   "cell_type": "markdown",
   "metadata": {},
   "source": [
    "**10: Write a function that accepts a string as an argument, and returns how many words the string has.**"
   ]
  },
  {
   "cell_type": "code",
   "execution_count": 77,
   "metadata": {},
   "outputs": [
    {
     "data": {
      "text/plain": [
       "23"
      ]
     },
     "execution_count": 77,
     "metadata": {},
     "output_type": "execute_result"
    }
   ],
   "source": [
    "def count_words(string):\n",
    "    return len(string.split())\n",
    "\n",
    "count_words('It is a truth universally acknowledged, that a single man in possession of a good fortune, must be in want of a wife')"
   ]
  },
  {
   "cell_type": "markdown",
   "metadata": {},
   "source": [
    "**11:  Write a function that accepts two arguments, and checks to see if they're the same data type.  If they are the same data type, print off what it is.  If they're not the same data type, print off the data type of each argument inside of a string.**"
   ]
  },
  {
   "cell_type": "code",
   "execution_count": 80,
   "metadata": {},
   "outputs": [
    {
     "name": "stdout",
     "output_type": "stream",
     "text": [
      "5 is <class 'int'>. 4.1 is <class 'float'>\n",
      "Both are type <class 'int'>\n",
      "5 is <class 'int'>. four is <class 'str'>\n"
     ]
    }
   ],
   "source": [
    "def compare_types(x,y):\n",
    "    if type(x) == type(y):\n",
    "        print(f\"Both are type {type(x)}\")\n",
    "    else:\n",
    "        print(f\"{x} is {type(x)}. {y} is {type(y)}\")\n",
    "        \n",
    "compare_types(5, 4.1)\n",
    "compare_types(5, 4)\n",
    "compare_types(5, 'four')"
   ]
  },
  {
   "cell_type": "markdown",
   "metadata": {},
   "source": [
    "**12: Write a function that takes two arguments, and checks for two things:**\n",
    "\n",
    " - If they are both strings\n",
    "  - If they're not, then print a message saying as much\n",
    "  - If they are, check to see if they're the same length\n",
    "   - If they are same length, print the length of each one\n",
    "   - If not same length, print a message saying as much"
   ]
  },
  {
   "cell_type": "code",
   "execution_count": 85,
   "metadata": {},
   "outputs": [
    {
     "name": "stdout",
     "output_type": "stream",
     "text": [
      "chloe is length 5. thisstringcontainsmanymorevowels is length 32.\n",
      "Both are length 5\n",
      "At least one argument is not a string!\n"
     ]
    }
   ],
   "source": [
    "def compare_strings(str1, str2):\n",
    "    if type(str1) is str and type(str2) is str:\n",
    "        if len(str1) == len(str2):\n",
    "            print(f\"Both are length {len(str1)}\")\n",
    "        else:\n",
    "            print(f\"{str1} is length {len(str1)}. {str2} is length {len(str2)}.\")\n",
    "    else:\n",
    "        print(\"At least one argument is not a string!\")\n",
    "        \n",
    "compare_strings(string1, string3)\n",
    "compare_strings(string1, string1)\n",
    "compare_strings(string3, 5)"
   ]
  },
  {
   "cell_type": "markdown",
   "metadata": {},
   "source": [
    "**13: Write a function that accepts a list as an argument, and returns a list that contains all the strings inside the original one.**"
   ]
  },
  {
   "cell_type": "code",
   "execution_count": 86,
   "metadata": {},
   "outputs": [
    {
     "name": "stdout",
     "output_type": "stream",
     "text": [
      "['hey', '1.2', 'bye']\n"
     ]
    }
   ],
   "source": [
    "def extract_strings(alist):\n",
    "    string_list = []\n",
    "    for item in alist:\n",
    "        if type(item) is str:\n",
    "            string_list.append(item)\n",
    "    return string_list\n",
    "\n",
    "lst1 = ['hey', {}, 5, 1.2, '1.2', [1,2,'strings'], 'bye']\n",
    "\n",
    "print(extract_strings(lst1))"
   ]
  },
  {
   "cell_type": "markdown",
   "metadata": {},
   "source": [
    "**14:  Write a function that takes a list as an argument, and returns the list in reverse order.**"
   ]
  },
  {
   "cell_type": "code",
   "execution_count": 101,
   "metadata": {},
   "outputs": [
    {
     "name": "stdout",
     "output_type": "stream",
     "text": [
      "['bye', [1, 2, 'strings'], '1.2', 1.2, 5, {}, 'hey']\n"
     ]
    }
   ],
   "source": [
    "def rev_list(alist):\n",
    "    alist.reverse()\n",
    "    return alist\n",
    "\n",
    "print(rev_list(lst1))\n"
   ]
  },
  {
   "cell_type": "markdown",
   "metadata": {},
   "source": [
    "**15: Write a function that takes a string as an argument, and returns the string in reverse order**"
   ]
  },
  {
   "cell_type": "code",
   "execution_count": 103,
   "metadata": {},
   "outputs": [
    {
     "name": "stdout",
     "output_type": "stream",
     "text": [
      "eolhc\n"
     ]
    }
   ],
   "source": [
    "def rev_string(string):\n",
    "    return string[::-1]\n",
    "\n",
    "new_str = rev_string(string1)\n",
    "print(new_str)"
   ]
  },
  {
   "cell_type": "markdown",
   "metadata": {},
   "source": [
    "**16: Write a function that takes a number as an argument, and returns the number in reverse order.  Return the value *as a number***"
   ]
  },
  {
   "cell_type": "code",
   "execution_count": 104,
   "metadata": {},
   "outputs": [
    {
     "data": {
      "text/plain": [
       "4321"
      ]
     },
     "execution_count": 104,
     "metadata": {},
     "output_type": "execute_result"
    }
   ],
   "source": [
    "def rev_num(num):\n",
    "    return int(str(num)[::-1])\n",
    "\n",
    "rev_num(1234)"
   ]
  },
  {
   "cell_type": "markdown",
   "metadata": {},
   "source": [
    "**17: Write a function that takes two lists as an argument, and returns a list that contains items that are inside both lists.**"
   ]
  },
  {
   "cell_type": "code",
   "execution_count": 108,
   "metadata": {},
   "outputs": [
    {
     "name": "stdout",
     "output_type": "stream",
     "text": [
      "[2, 4, 8]\n",
      "[2, 4, 8]\n"
     ]
    }
   ],
   "source": [
    "def union_lists(list1, list2):\n",
    "    return [item for item in list1 if item in list2]\n",
    "\n",
    "l1 = [1,2,3,4,5,6,7,8]\n",
    "l2 = [0,2,4,8,16,32,64]\n",
    "\n",
    "print(union_lists(l1, l2))\n",
    "print(union_lists(l2,l1))"
   ]
  },
  {
   "cell_type": "markdown",
   "metadata": {},
   "source": [
    "**18:  Write a function that checks if a url is an http or https web address**"
   ]
  },
  {
   "cell_type": "code",
   "execution_count": 110,
   "metadata": {},
   "outputs": [
    {
     "name": "stdout",
     "output_type": "stream",
     "text": [
      "something else\n",
      "http\n",
      "https\n"
     ]
    }
   ],
   "source": [
    "def check_url(url):\n",
    "    if url[:5].lower() == 'https':\n",
    "        return 'https'\n",
    "    elif url[:4].lower() == 'http':\n",
    "        return 'http'\n",
    "    else:\n",
    "        return 'something else'\n",
    "    \n",
    "print(check_url('google.com'))\n",
    "print(check_url('http://www.google.com'))\n",
    "print(check_url('https://www.google.com'))"
   ]
  },
  {
   "cell_type": "markdown",
   "metadata": {},
   "source": [
    "**19: Write a function that takes two strings as arguments, and returns words both strings have in common, as a list.**"
   ]
  },
  {
   "cell_type": "code",
   "execution_count": 121,
   "metadata": {},
   "outputs": [
    {
     "name": "stdout",
     "output_type": "stream",
     "text": [
      "{'of', 'it', 'that', 'a'}\n",
      "{'die', 'the', 'to', 'of', 'a', 'death'}\n"
     ]
    }
   ],
   "source": [
    "def common_words(str1, str2):\n",
    "    return {word.lower() for word in str1.lower().split() if word in str2.lower().split()}\n",
    "\n",
    "jane = 'It is a truth universally acknowledged, that a single man in possession of a good fortune, must be in want of a wife.'\n",
    "bill = \"Cowards die many times before their deaths. The valiant never taste of death but once. Of all the wonders that I yet have heard, It seems to me most strange that men should fear. Seeing that death, a necessary end, Will come when it will come.\"\n",
    "mark = \"The fear of death follows from the fear of life. A man who lives fully is prepared to die at any time.\"\n",
    "\n",
    "print(common_words(jane, bill))\n",
    "print(common_words(bill, mark))\n",
    "\n"
   ]
  },
  {
   "cell_type": "markdown",
   "metadata": {},
   "source": [
    "**20: Write a function that accepts a dictionary as an argument, and returns all of its keys in a list**"
   ]
  },
  {
   "cell_type": "code",
   "execution_count": 125,
   "metadata": {},
   "outputs": [
    {
     "data": {
      "text/plain": [
       "['i', 'a', 'e', 'o']"
      ]
     },
     "execution_count": 125,
     "metadata": {},
     "output_type": "execute_result"
    }
   ],
   "source": [
    "def list_keys(dictionary):\n",
    "    return [key for key in dictionary.keys()]\n",
    "\n",
    "list_keys(vowel_freq('it was the best of times, it was the worst of times...'))"
   ]
  },
  {
   "cell_type": "markdown",
   "metadata": {},
   "source": [
    "**21: Write a function that accepts a dictionary as an argument, and returns all of its values in a list.**"
   ]
  },
  {
   "cell_type": "code",
   "execution_count": 128,
   "metadata": {},
   "outputs": [
    {
     "data": {
      "text/plain": [
       "[4, 2, 5, 3]"
      ]
     },
     "execution_count": 128,
     "metadata": {},
     "output_type": "execute_result"
    }
   ],
   "source": [
    "def list_values(dictionary):\n",
    "    return [item[1] for item in dictionary.items()]\n",
    "\n",
    "list_values(vowel_freq('it was the best of times, it was the worst of times...'))"
   ]
  },
  {
   "cell_type": "markdown",
   "metadata": {},
   "source": [
    "**22:  Write a function that takes a list as an argument, and returns a dictionary that contains each unique element inside it, and how often it occurs.** "
   ]
  },
  {
   "cell_type": "code",
   "execution_count": 133,
   "metadata": {},
   "outputs": [
    {
     "name": "stdout",
     "output_type": "stream",
     "text": [
      "{'m': 1, 'g': 1, 'r': 2, 'a': 3, 't': 1, 'i': 1}\n"
     ]
    }
   ],
   "source": [
    "def count_uniques(alist):\n",
    "    return {item: alist.count(item) for item in set(alist)}\n",
    "\n",
    "\n",
    "print(count_uniques('margarita'))"
   ]
  },
  {
   "cell_type": "markdown",
   "metadata": {},
   "source": [
    "**Part II: Functions that contain optional arguments.**\n",
    "\n",
    "Lots of functions are made more useful by containing additional parameters which determine how they should behave.  Try constructing the functions described, with the arguments mentioned."
   ]
  },
  {
   "cell_type": "markdown",
   "metadata": {},
   "source": [
    "**23: Rewrite function 19, except *this time*, add an argument called `case_sensitive`.  It should be a boolean value.  If `True`, the results are sensitive to whether or not the word are upper case or lower cased.  If `False`, then they're not.**"
   ]
  },
  {
   "cell_type": "code",
   "execution_count": 147,
   "metadata": {},
   "outputs": [
    {
     "name": "stdout",
     "output_type": "stream",
     "text": [
      "{'is', 'man', 'in', 'wife.', 'fortune,', 'of', 'good', 'truth', 'it', 'single', 'a', 'acknowledged,', 'universally', 'want', 'possession', 'must', 'be', 'that'}\n",
      "set()\n"
     ]
    }
   ],
   "source": [
    "def count_uniques2(str1, str2, case_sensitive=True):\n",
    "    if not case_sensitive:\n",
    "        return {word.lower() for word in str1.lower().split() if word in str2.lower().split()}\n",
    "    else:\n",
    "        return {word for word in str1.split() if word in str2.split()}\n",
    "print(count_uniques2(jane, jane.upper(), False))\n",
    "print(count_uniques2(jane, jane.upper()))"
   ]
  },
  {
   "cell_type": "markdown",
   "metadata": {},
   "source": [
    "**24: Write a function that returns all the files of a particular type in a directory.  The default directory should be the current one.  There should be an additional argument called `type` that specifies what file type to check for.  The default value should be `csv`, but users should be able to specify to look for either `html` and `pdf` files as well.**\n",
    "\n",
    "Results should be returned in a list."
   ]
  },
  {
   "cell_type": "code",
   "execution_count": 166,
   "metadata": {},
   "outputs": [
    {
     "name": "stdout",
     "output_type": "stream",
     "text": [
      "['AppleStore.csv', 'fake.csv', 'googleplaystore.csv']\n",
      "['herbed mac and cheese.pdf', 'Kronos Part 1 » Manager Training.pdf', 'Reviewing and Correcting Timecards » Manager Training.pdf']\n",
      "['fake.html']\n"
     ]
    }
   ],
   "source": [
    "import os\n",
    "\n",
    "def return_files(directory='.', file_type='.csv'):\n",
    "    files = os.listdir(directory)\n",
    "    file_list = []\n",
    "    for file in files:\n",
    "        if file[-len(file_type):] == file_type:\n",
    "            file_list.append(file)\n",
    "    return file_list\n",
    "\n",
    "print(return_files(\"C:/Users/Chloe/Downloads\"))\n",
    "print(return_files(\"C:/Users/Chloe/Documents\",\".pdf\"))\n",
    "print(return_files(\"C:/Users/Chloe/Downloads\",\".html\")) \n",
    "    "
   ]
  },
  {
   "cell_type": "markdown",
   "metadata": {},
   "source": [
    "**25: Write a function that accepts a dictionary as an argument, and returns a list containing each key/value pair inside a tuple.  Include an additional argument called `to_include`.  The `to_include` argument should specify whether or not you should return the keys, values, or both inside of a list.  The default setting should be to return key/value pairs.**"
   ]
  },
  {
   "cell_type": "code",
   "execution_count": 181,
   "metadata": {},
   "outputs": [
    {
     "name": "stdout",
     "output_type": "stream",
     "text": [
      "[('m', 1), ('g', 1), ('r', 2), ('a', 3), ('t', 1), ('i', 1)]\n",
      "['m', 'g', 'r', 'a', 't', 'i']\n",
      "[1, 1, 2, 3, 1, 1]\n"
     ]
    }
   ],
   "source": [
    "def print_dict(dictionary, to_include='both'):\n",
    "    if to_include == 'both':\n",
    "        return [(key, dictionary[key]) for key in dictionary]\n",
    "    elif to_include == 'values':\n",
    "        return [dictionary[key] for key in dictionary]\n",
    "    elif to_include == 'keys':\n",
    "        return [key for key in dictionary]\n",
    "    \n",
    "test_dict = count_uniques('margarita')\n",
    "\n",
    "print(print_dict(test_dict))\n",
    "print(print_dict(test_dict, 'keys'))\n",
    "print(print_dict(test_dict, 'values'))"
   ]
  }
 ],
 "metadata": {
  "kernelspec": {
   "display_name": "Python 3",
   "language": "python",
   "name": "python3"
  },
  "language_info": {
   "codemirror_mode": {
    "name": "ipython",
    "version": 3
   },
   "file_extension": ".py",
   "mimetype": "text/x-python",
   "name": "python",
   "nbconvert_exporter": "python",
   "pygments_lexer": "ipython3",
   "version": "3.8.3"
  }
 },
 "nbformat": 4,
 "nbformat_minor": 2
}
