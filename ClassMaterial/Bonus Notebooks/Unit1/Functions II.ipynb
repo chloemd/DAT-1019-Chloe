{
 "cells": [
  {
   "cell_type": "markdown",
   "metadata": {},
   "source": [
    "### Functions Review\n",
    "\n",
    "**Who this notebook is for:** people who want additional practice writing functions because they feel shaky with the practice of doing it.\n",
    "\n",
    "**How it's designed to work:** The exercises are designed to start simply, and gradually add complexity, and test different aspects of functions and how they work.  Specifically:\n",
    "\n",
    " - Creating functions that take different data types as arguments\n",
    " - Setting up functions that have optional arguments to modify how they behave\n",
    " - looping and conditional logic"
   ]
  },
  {
   "cell_type": "markdown",
   "metadata": {},
   "source": [
    "#### Part 1:  Functions That Take Different Arguments"
   ]
  },
  {
   "cell_type": "markdown",
   "metadata": {},
   "source": [
    "**1: Write a function that accepts a list as an argument, and returns its length**"
   ]
  },
  {
   "cell_type": "code",
   "execution_count": null,
   "metadata": {},
   "outputs": [],
   "source": [
    "# your answer here"
   ]
  },
  {
   "cell_type": "markdown",
   "metadata": {},
   "source": [
    "**2: Write a function that accepts a list as an arugment, and returns True/False depending on whether or not it has more than 5 items.**"
   ]
  },
  {
   "cell_type": "code",
   "execution_count": null,
   "metadata": {},
   "outputs": [],
   "source": [
    "# your answer here"
   ]
  },
  {
   "cell_type": "markdown",
   "metadata": {},
   "source": [
    "**3: Write a function that accepts a list as an argument, and returns `True` if it contains a string, and `False` if it does not.**"
   ]
  },
  {
   "cell_type": "code",
   "execution_count": null,
   "metadata": {},
   "outputs": [],
   "source": []
  },
  {
   "cell_type": "markdown",
   "metadata": {},
   "source": [
    "**4: Write a function that accepts a number as an argument, and prints a statement telling you if the number is even or odd.**"
   ]
  },
  {
   "cell_type": "code",
   "execution_count": null,
   "metadata": {},
   "outputs": [],
   "source": []
  },
  {
   "cell_type": "markdown",
   "metadata": {},
   "source": [
    "**5: Write a function that accepts a number as an argument, and prints a message telling you if it's an integer or a floating point number.  If it's neither, print what data type it is.**"
   ]
  },
  {
   "cell_type": "code",
   "execution_count": null,
   "metadata": {},
   "outputs": [],
   "source": []
  },
  {
   "cell_type": "markdown",
   "metadata": {},
   "source": [
    "**6: Write a function that checks to see if a number is a prime number or not.  This means it can only be divided by 1 and itself, and nothing else.  If prime, return `True`.  Return `False` if it's not.**"
   ]
  },
  {
   "cell_type": "code",
   "execution_count": null,
   "metadata": {},
   "outputs": [],
   "source": []
  },
  {
   "cell_type": "markdown",
   "metadata": {},
   "source": [
    "**7: Write a function that accepts a string as an argument, and checks to see if it contains the letter `a`.  Return `True` if it does, `False` if it does not.**"
   ]
  },
  {
   "cell_type": "code",
   "execution_count": null,
   "metadata": {},
   "outputs": [],
   "source": []
  },
  {
   "cell_type": "markdown",
   "metadata": {},
   "source": [
    "**8: Write a function that accepts a string as an argument, and returns how many vowels the string contains.**"
   ]
  },
  {
   "cell_type": "code",
   "execution_count": null,
   "metadata": {},
   "outputs": [],
   "source": []
  },
  {
   "cell_type": "markdown",
   "metadata": {},
   "source": [
    "**9:  Re-write the above function to return a dictionary, where each key is each vowel contained within the string, and its corresponding value is how many times it occurred.**"
   ]
  },
  {
   "cell_type": "code",
   "execution_count": null,
   "metadata": {},
   "outputs": [],
   "source": []
  },
  {
   "cell_type": "markdown",
   "metadata": {},
   "source": [
    "**10: Write a function that accepts a string as an argument, and returns how many words the string has.**"
   ]
  },
  {
   "cell_type": "code",
   "execution_count": null,
   "metadata": {},
   "outputs": [],
   "source": []
  },
  {
   "cell_type": "markdown",
   "metadata": {},
   "source": [
    "**11:  Write a function that accepts two arguments, and checks to see if they're the same data type.  If they are the same data type, print off what it is.  If they're not the same data type, print off the data type of each argument inside of a string.**"
   ]
  },
  {
   "cell_type": "code",
   "execution_count": null,
   "metadata": {},
   "outputs": [],
   "source": []
  },
  {
   "cell_type": "markdown",
   "metadata": {},
   "source": [
    "**12: Write a function that takes two arguments, and checks for two things:**\n",
    "\n",
    " - If they are both strings\n",
    "  - If they're not, then print a message saying as much\n",
    "  - If they are, check to see if they're the same length\n",
    "   - If they are same length, print the length of each one\n",
    "   - If not same length, print a message saying as much"
   ]
  },
  {
   "cell_type": "code",
   "execution_count": null,
   "metadata": {},
   "outputs": [],
   "source": []
  },
  {
   "cell_type": "markdown",
   "metadata": {},
   "source": [
    "**13: Write a function that accepts a list as an argument, and returns a list that contains all the strings inside the original one.**"
   ]
  },
  {
   "cell_type": "code",
   "execution_count": null,
   "metadata": {},
   "outputs": [],
   "source": []
  },
  {
   "cell_type": "markdown",
   "metadata": {},
   "source": [
    "**14:  Write a function that takes a list as an argument, and returns the list in reverse order.**"
   ]
  },
  {
   "cell_type": "code",
   "execution_count": null,
   "metadata": {},
   "outputs": [],
   "source": []
  },
  {
   "cell_type": "markdown",
   "metadata": {},
   "source": [
    "**15: Write a function that takes a string as an argument, and returns the string in reverse order**"
   ]
  },
  {
   "cell_type": "code",
   "execution_count": null,
   "metadata": {},
   "outputs": [],
   "source": []
  },
  {
   "cell_type": "markdown",
   "metadata": {},
   "source": [
    "**16: Write a function that takes a number as an argument, and returns the number in reverse order.  Return the value *as a number***"
   ]
  },
  {
   "cell_type": "code",
   "execution_count": null,
   "metadata": {},
   "outputs": [],
   "source": []
  },
  {
   "cell_type": "markdown",
   "metadata": {},
   "source": [
    "**17: Write a function that takes two lists as an argument, and returns a list that contains items that are inside both lists.**"
   ]
  },
  {
   "cell_type": "code",
   "execution_count": null,
   "metadata": {},
   "outputs": [],
   "source": []
  },
  {
   "cell_type": "markdown",
   "metadata": {},
   "source": [
    "**18:  Write a function that checks if a url is an http or https web address**"
   ]
  },
  {
   "cell_type": "code",
   "execution_count": null,
   "metadata": {},
   "outputs": [],
   "source": []
  },
  {
   "cell_type": "markdown",
   "metadata": {},
   "source": [
    "**19: Write a function that takes two strings as arguments, and returns words both strings have in common, as a list.**"
   ]
  },
  {
   "cell_type": "code",
   "execution_count": null,
   "metadata": {},
   "outputs": [],
   "source": []
  },
  {
   "cell_type": "markdown",
   "metadata": {},
   "source": [
    "**20: Write a function that accepts a dictionary as an argument, and returns all of its keys in a list**"
   ]
  },
  {
   "cell_type": "code",
   "execution_count": null,
   "metadata": {},
   "outputs": [],
   "source": []
  },
  {
   "cell_type": "markdown",
   "metadata": {},
   "source": [
    "**21: Write a function that accepts a dictionary as an argument, and returns all of its values in a list.**"
   ]
  },
  {
   "cell_type": "code",
   "execution_count": null,
   "metadata": {},
   "outputs": [],
   "source": []
  },
  {
   "cell_type": "markdown",
   "metadata": {},
   "source": [
    "**22:  Write a function that takes a list as an argument, and returns a dictionary that contains each unique element inside it, and how often it occurs.** "
   ]
  },
  {
   "cell_type": "code",
   "execution_count": null,
   "metadata": {},
   "outputs": [],
   "source": []
  },
  {
   "cell_type": "markdown",
   "metadata": {},
   "source": [
    "**Part II: Functions that contain optional arguments.**\n",
    "\n",
    "Lots of functions are made more useful by containing additional parameters which determine how they should behave.  Try constructing the functions described, with the arguments mentioned."
   ]
  },
  {
   "cell_type": "markdown",
   "metadata": {},
   "source": [
    "**23: Rewrite function 19, except *this time*, add an argument called `case_sensitive`.  It should be a boolean value.  If `True`, the results are sensitive to whether or not the word are upper case or lower cased.  If `False`, then they're not.**"
   ]
  },
  {
   "cell_type": "code",
   "execution_count": null,
   "metadata": {},
   "outputs": [],
   "source": []
  },
  {
   "cell_type": "markdown",
   "metadata": {},
   "source": [
    "**24: Write a function that returns all the files of a particular type in a directory.  The default directory should be the current one.  There should be an additional argument called `type` that specifies what file type to check for.  The default value should be `csv`, but users should be able to specify to look for either `html` and `pdf` files as well.**\n",
    "\n",
    "Results should be returned in a list."
   ]
  },
  {
   "cell_type": "code",
   "execution_count": null,
   "metadata": {},
   "outputs": [],
   "source": []
  },
  {
   "cell_type": "markdown",
   "metadata": {},
   "source": [
    "**25: Write a function that accepts a dictionary as an argument, and returns a list containing each key/value pair inside a tuple.  Include an additional argument called `to_include`.  The `to_include` argument should specify whether or not you should return the keys, values, or both inside of a list.  The default setting should be to return key/value pairs.**"
   ]
  },
  {
   "cell_type": "code",
   "execution_count": null,
   "metadata": {},
   "outputs": [],
   "source": []
  }
 ],
 "metadata": {
  "kernelspec": {
   "display_name": "Python 3",
   "language": "python",
   "name": "python3"
  },
  "language_info": {
   "codemirror_mode": {
    "name": "ipython",
    "version": 3
   },
   "file_extension": ".py",
   "mimetype": "text/x-python",
   "name": "python",
   "nbconvert_exporter": "python",
   "pygments_lexer": "ipython3",
   "version": "3.7.1"
  }
 },
 "nbformat": 4,
 "nbformat_minor": 2
}
