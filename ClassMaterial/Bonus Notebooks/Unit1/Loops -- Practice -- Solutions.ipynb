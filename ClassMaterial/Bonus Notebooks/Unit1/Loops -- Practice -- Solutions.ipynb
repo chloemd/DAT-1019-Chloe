{
 "cells": [
  {
   "cell_type": "markdown",
   "metadata": {},
   "source": [
    "### Loops & List Comprehensions:  Practice Notebook"
   ]
  },
  {
   "cell_type": "markdown",
   "metadata": {},
   "source": [
    "This notebook is designed to give newcomers additional practice to work on writing for-loops and list comprehensions.  \n",
    "\n",
    "The examples will begin slowly and gradually get a little more complicated.  Most questions can be concisely answered with a list-comprehension, but not always, so be prepared to think about when they would and would not be appropriate."
   ]
  },
  {
   "cell_type": "markdown",
   "metadata": {},
   "source": [
    "#### Movies List"
   ]
  },
  {
   "cell_type": "markdown",
   "metadata": {},
   "source": [
    "Similar to class 3, the following questions will ask you to write loops through the list of dictionaries that contain information about various types of movies."
   ]
  },
  {
   "cell_type": "code",
   "execution_count": 1,
   "metadata": {},
   "outputs": [],
   "source": [
    "# List of movies dictionaries:\n",
    "\n",
    "movies = [\n",
    "{\n",
    "\"name\": \"Usual Suspects\", \n",
    "\"imdb\": 7.0,\n",
    "\"category\": \"Thriller\"\n",
    "},\n",
    "{\n",
    "\"name\": \"Hitman\",\n",
    "\"imdb\": 6.3,\n",
    "\"category\": \"Action\"\n",
    "},\n",
    "{\n",
    "\"name\": \"Dark Knight\",\n",
    "\"imdb\": 9.0,\n",
    "\"category\": \"Adventure\"\n",
    "},\n",
    "{\n",
    "\"name\": \"The Help\",\n",
    "\"imdb\": 8.0,\n",
    "\"category\": \"Drama\"\n",
    "},\n",
    "{\n",
    "\"name\": \"The Choice\",\n",
    "\"imdb\": 6.2,\n",
    "\"category\": \"Romance\"\n",
    "},\n",
    "{\n",
    "\"name\": \"Colonia\",\n",
    "\"imdb\": 7.4,\n",
    "\"category\": \"Romance\"\n",
    "},\n",
    "{\n",
    "\"name\": \"Love\",\n",
    "\"imdb\": 6.0,\n",
    "\"category\": \"Romance\"\n",
    "},\n",
    "{\n",
    "\"name\": \"Bride Wars\",\n",
    "\"imdb\": 5.4,\n",
    "\"category\": \"Romance\"\n",
    "},\n",
    "{\n",
    "\"name\": \"AlphaJet\",\n",
    "\"imdb\": 3.2,\n",
    "\"category\": \"War\"\n",
    "},\n",
    "{\n",
    "\"name\": \"Ringing Crime\",\n",
    "\"imdb\": 4.0,\n",
    "\"category\": \"Crime\"\n",
    "},\n",
    "{\n",
    "\"name\": \"Joking muck\",\n",
    "\"imdb\": 7.2,\n",
    "\"category\": \"Comedy\"\n",
    "},\n",
    "{\n",
    "\"name\": \"What is the name\",\n",
    "\"imdb\": 9.2,\n",
    "\"category\": \"Suspense\"\n",
    "},\n",
    "{\n",
    "\"name\": \"Detective\",\n",
    "\"imdb\": 7.0,\n",
    "\"category\": \"Suspense\"\n",
    "},\n",
    "{\n",
    "\"name\": \"Exam\",\n",
    "\"imdb\": 4.2,\n",
    "\"category\": \"Thriller\"\n",
    "},\n",
    "{\n",
    "\"name\": \"We Two\",\n",
    "\"imdb\": 7.2,\n",
    "\"category\": \"Romance\"\n",
    "}\n",
    "]"
   ]
  },
  {
   "cell_type": "markdown",
   "metadata": {},
   "source": [
    "**Question 1:** What is the highest rated movie?  What is the lowest rated movie?  "
   ]
  },
  {
   "cell_type": "code",
   "execution_count": 2,
   "metadata": {},
   "outputs": [],
   "source": [
    "# using a list comprehension\n",
    "# find the highest rating in the dataset\n",
    "highest_rating = max(movie['imdb'] for movie in movies)\n",
    "\n",
    "# return the name of the movie if its rating is equal to highest_rating -- the [0] removes it from th\n",
    "movie_name = [movie['name'] for movie in movies if movie['imdb'] == highest_rating][0]"
   ]
  },
  {
   "cell_type": "code",
   "execution_count": 3,
   "metadata": {},
   "outputs": [
    {
     "name": "stdout",
     "output_type": "stream",
     "text": [
      "9.2 What is the name\n"
     ]
    }
   ],
   "source": [
    "print(highest_rating, movie_name)"
   ]
  },
  {
   "cell_type": "markdown",
   "metadata": {},
   "source": [
    "Similar results could be found using the `min()` function.  \n",
    "\n",
    "However, this is an example when comprehensions are not the best idea.  Your are looping through the list twice when you don't need to.  A regular for-loop would be better here."
   ]
  },
  {
   "cell_type": "code",
   "execution_count": 4,
   "metadata": {},
   "outputs": [
    {
     "name": "stdout",
     "output_type": "stream",
     "text": [
      "9.2 What is the name\n"
     ]
    }
   ],
   "source": [
    "highest_rating = 0\n",
    "movie_name = None\n",
    "\n",
    "for movie in movies:\n",
    "    if movie['imdb'] > highest_rating:\n",
    "        highest_rating = movie['imdb']\n",
    "        movie_name = movie['name']\n",
    "        \n",
    "print(highest_rating, movie_name)"
   ]
  },
  {
   "cell_type": "markdown",
   "metadata": {},
   "source": [
    "**Question 2:**  How many thriller movies are there? "
   ]
  },
  {
   "cell_type": "code",
   "execution_count": 5,
   "metadata": {},
   "outputs": [
    {
     "name": "stdout",
     "output_type": "stream",
     "text": [
      "The number of thrillers:  2\n"
     ]
    }
   ],
   "source": [
    "# comprehension\n",
    "num_thrillers = sum(1 for movie in movies if movie['category'] == 'Thriller')\n",
    "print(\"The number of thrillers: \", num_thrillers)"
   ]
  },
  {
   "cell_type": "code",
   "execution_count": 6,
   "metadata": {},
   "outputs": [
    {
     "name": "stdout",
     "output_type": "stream",
     "text": [
      "The number of thrillers:  2\n"
     ]
    }
   ],
   "source": [
    "# no comprehension\n",
    "num_thrillers = 0\n",
    "\n",
    "for movie in movies:\n",
    "    if movie['category'] == 'Thriller':\n",
    "        num_thrillers += 1\n",
    "        \n",
    "print(\"The number of thrillers: \", num_thrillers)"
   ]
  },
  {
   "cell_type": "markdown",
   "metadata": {},
   "source": [
    "**Question 3:**  What is the average rating of all movies?"
   ]
  },
  {
   "cell_type": "code",
   "execution_count": 7,
   "metadata": {},
   "outputs": [
    {
     "name": "stdout",
     "output_type": "stream",
     "text": [
      "Average movie rating is:  6.486666666666667\n"
     ]
    }
   ],
   "source": [
    "# with a comprehension\n",
    "avg_ratings = sum(movie['imdb'] for movie in movies) / len(movies)\n",
    "print(\"Average movie rating is: \", avg_ratings)"
   ]
  },
  {
   "cell_type": "code",
   "execution_count": 8,
   "metadata": {},
   "outputs": [
    {
     "name": "stdout",
     "output_type": "stream",
     "text": [
      "Average movie rating is:  6.486666666666667\n"
     ]
    }
   ],
   "source": [
    "# without\n",
    "total_ratings = 0\n",
    "num_movies = len(movies)\n",
    "\n",
    "for movie in movies:\n",
    "    total_ratings += movie['imdb']\n",
    "    \n",
    "print(\"Average movie rating is: \", total_ratings/num_movies)"
   ]
  },
  {
   "cell_type": "markdown",
   "metadata": {},
   "source": [
    "**Question 4:** How many movies have an above average rating?"
   ]
  },
  {
   "cell_type": "code",
   "execution_count": 9,
   "metadata": {},
   "outputs": [
    {
     "name": "stdout",
     "output_type": "stream",
     "text": [
      "Number of above average movies:  8\n"
     ]
    }
   ],
   "source": [
    "# with comprehension\n",
    "good_movies = sum(1 for movie in movies if movie['imdb'] > avg_ratings)\n",
    "print(\"Number of above average movies: \", good_movies)"
   ]
  },
  {
   "cell_type": "code",
   "execution_count": 10,
   "metadata": {},
   "outputs": [
    {
     "name": "stdout",
     "output_type": "stream",
     "text": [
      "Number of above average movies:  8\n"
     ]
    }
   ],
   "source": [
    "# without comprehension\n",
    "good_movies = 0\n",
    "\n",
    "for movie in movies:\n",
    "    if movie['imdb'] > avg_ratings:\n",
    "        good_movies += 1\n",
    "        \n",
    "print(\"Number of above average movies: \", good_movies)"
   ]
  },
  {
   "cell_type": "markdown",
   "metadata": {},
   "source": [
    "**Question 5:** Create a list of all movies that have an above average rating.  Create a list of all movies that have a below average rating."
   ]
  },
  {
   "cell_type": "code",
   "execution_count": 11,
   "metadata": {},
   "outputs": [],
   "source": [
    "# with comprehension\n",
    "good_movies = [movie['name'] for movie in movies if movie['imdb'] > avg_ratings]\n",
    "bad_movies = [movie['name'] for movie in movies if movie['imdb'] < avg_ratings]"
   ]
  },
  {
   "cell_type": "code",
   "execution_count": 12,
   "metadata": {},
   "outputs": [],
   "source": [
    "# without comprehension\n",
    "good_movie_list = []\n",
    "\n",
    "for movie in movies:\n",
    "    if movie['imdb'] > avg_ratings:\n",
    "        good_movie_list.append(movie['name'])\n",
    "        \n",
    "# similar logic applies for movies that are below average"
   ]
  },
  {
   "cell_type": "code",
   "execution_count": 13,
   "metadata": {},
   "outputs": [
    {
     "data": {
      "text/plain": [
       "['Usual Suspects',\n",
       " 'Dark Knight',\n",
       " 'The Help',\n",
       " 'Colonia',\n",
       " 'Joking muck',\n",
       " 'What is the name',\n",
       " 'Detective',\n",
       " 'We Two']"
      ]
     },
     "execution_count": 13,
     "metadata": {},
     "output_type": "execute_result"
    }
   ],
   "source": [
    "good_movie_list"
   ]
  },
  {
   "cell_type": "markdown",
   "metadata": {},
   "source": [
    "**Question 6:** Create a loop that prints the name and rating of each movie in the list, and *stops* as soon as it finds a movie that has a below average rating.\n",
    "\n",
    "**Hint:** the `break` operator is going to be your best bet."
   ]
  },
  {
   "cell_type": "code",
   "execution_count": 14,
   "metadata": {},
   "outputs": [
    {
     "name": "stdout",
     "output_type": "stream",
     "text": [
      "Usual Suspects 7.0\n"
     ]
    }
   ],
   "source": [
    "# your answer here\n",
    "for movie in movies:\n",
    "    if movie['imdb'] < avg_ratings:\n",
    "        break\n",
    "    print(movie['name'], movie['imdb'])"
   ]
  },
  {
   "cell_type": "markdown",
   "metadata": {},
   "source": [
    "**Question 7:** Write a loop that prints off the name of every movie title, as well as how many words are in its title.  "
   ]
  },
  {
   "cell_type": "code",
   "execution_count": 15,
   "metadata": {},
   "outputs": [
    {
     "name": "stdout",
     "output_type": "stream",
     "text": [
      "Usual Suspects 2\n",
      "Hitman 1\n",
      "Dark Knight 2\n",
      "The Help 2\n",
      "The Choice 2\n",
      "Colonia 1\n",
      "Love 1\n",
      "Bride Wars 2\n",
      "AlphaJet 1\n",
      "Ringing Crime 2\n",
      "Joking muck 2\n",
      "What is the name 4\n",
      "Detective 1\n",
      "Exam 1\n",
      "We Two 2\n"
     ]
    }
   ],
   "source": [
    "# your answer here \n",
    "for movie in movies:\n",
    "    print(movie['name'], len(movie['name'].split()))"
   ]
  },
  {
   "cell_type": "markdown",
   "metadata": {},
   "source": [
    "**Question 8:** Write a code block that will print off the name of the movie with the highest rating, as well as its title."
   ]
  },
  {
   "cell_type": "code",
   "execution_count": 16,
   "metadata": {},
   "outputs": [
    {
     "name": "stdout",
     "output_type": "stream",
     "text": [
      "What is the name 9.2\n"
     ]
    }
   ],
   "source": [
    "# your answer here\n",
    "for movie in movies:\n",
    "    if movie['imdb'] == highest_rating:\n",
    "        print(movie['name'], movie['imdb'])"
   ]
  },
  {
   "cell_type": "markdown",
   "metadata": {},
   "source": [
    "**Question 9:**  How many movies begin with the word \"the?\"  Make the results case insensitive."
   ]
  },
  {
   "cell_type": "code",
   "execution_count": 17,
   "metadata": {},
   "outputs": [
    {
     "name": "stdout",
     "output_type": "stream",
     "text": [
      "Movies that begin with the:  2\n"
     ]
    }
   ],
   "source": [
    "# with comprehension\n",
    "begins_with_the = sum(1 for movie in movies if movie['name'].lower().split()[0] == 'the')\n",
    "print(\"Movies that begin with the: \", begins_with_the)"
   ]
  },
  {
   "cell_type": "code",
   "execution_count": 18,
   "metadata": {},
   "outputs": [
    {
     "name": "stdout",
     "output_type": "stream",
     "text": [
      "Number of movies that begin with 'the':  2\n"
     ]
    }
   ],
   "source": [
    "# without comprehension\n",
    "begins_with_the = 0\n",
    "\n",
    "for movie in movies:\n",
    "    # pay attention to this line -- do you understand what it does?\n",
    "    if movie['name'].lower().split()[0] == 'the':\n",
    "        begins_with_the += 1\n",
    "        \n",
    "print(\"Number of movies that begin with 'the': \", begins_with_the)"
   ]
  },
  {
   "cell_type": "markdown",
   "metadata": {},
   "source": [
    "**Question 10:** Create a list that contains movie titles that have the word 'the' in their title.  Make the results case-insensitive."
   ]
  },
  {
   "cell_type": "code",
   "execution_count": 19,
   "metadata": {},
   "outputs": [],
   "source": [
    "# with comprehension\n",
    "movies_with_the = [movie['name'] for movie in movies if 'the' in movie['name'].lower().split()]"
   ]
  },
  {
   "cell_type": "code",
   "execution_count": 20,
   "metadata": {},
   "outputs": [],
   "source": [
    "# without comprehensions\n",
    "movies_with_the = []\n",
    "\n",
    "for movie in movies:\n",
    "    if 'the' in movie['name'].lower().split():\n",
    "        movies_with_the.append(movie['name'])"
   ]
  },
  {
   "cell_type": "code",
   "execution_count": 21,
   "metadata": {},
   "outputs": [
    {
     "data": {
      "text/plain": [
       "['The Help', 'The Choice', 'What is the name']"
      ]
     },
     "execution_count": 21,
     "metadata": {},
     "output_type": "execute_result"
    }
   ],
   "source": [
    "movies_with_the"
   ]
  },
  {
   "cell_type": "markdown",
   "metadata": {},
   "source": [
    "**Question 11:** Create a list that contains the name and rating of a movie if the word 'the' is contained within its title.  These results should be stored inside a tuple.  Make the results case-insensitive."
   ]
  },
  {
   "cell_type": "code",
   "execution_count": 22,
   "metadata": {},
   "outputs": [],
   "source": [
    "# with comprehension\n",
    "movie_tuples = [(movie['name'], movie['imdb']) for movie in movies\n",
    "                if 'the' in movie['name'].lower().split()]"
   ]
  },
  {
   "cell_type": "code",
   "execution_count": 23,
   "metadata": {},
   "outputs": [],
   "source": [
    "# without comprehension\n",
    "movie_tuples = []\n",
    "\n",
    "for movie in movies:\n",
    "    if 'the' in movie['name'].lower().split():\n",
    "        movie_tuples.append((movie['name'], movie['imdb']))"
   ]
  },
  {
   "cell_type": "code",
   "execution_count": 24,
   "metadata": {},
   "outputs": [
    {
     "data": {
      "text/plain": [
       "[('The Help', 8.0), ('The Choice', 6.2), ('What is the name', 9.2)]"
      ]
     },
     "execution_count": 24,
     "metadata": {},
     "output_type": "execute_result"
    }
   ],
   "source": [
    "movie_tuples"
   ]
  },
  {
   "cell_type": "markdown",
   "metadata": {},
   "source": [
    "**Question 12:** Write a code block that checks to see if the average rating for movies with the word 'the' are higher than the average rating overall.  If they are higher, print a message saying as much.  If not, then print something else."
   ]
  },
  {
   "cell_type": "code",
   "execution_count": 25,
   "metadata": {},
   "outputs": [
    {
     "name": "stdout",
     "output_type": "stream",
     "text": [
      "Movies with 'the' are just better.\n"
     ]
    }
   ],
   "source": [
    "# with comprehension\n",
    "avg_the_ratings = sum(movie[1] for movie in movie_tuples) / len(movie_tuples)\n",
    "\n",
    "if avg_the_ratings > avg_ratings:\n",
    "    print(\"Movies with 'the' are just better.\")\n",
    "else:\n",
    "    print(\"No 'the' means better movies.\")"
   ]
  },
  {
   "cell_type": "code",
   "execution_count": 26,
   "metadata": {},
   "outputs": [
    {
     "name": "stdout",
     "output_type": "stream",
     "text": [
      "Movies with 'the' are just better.\n"
     ]
    }
   ],
   "source": [
    "# without comprehension\n",
    "sum_the_ratings = 0\n",
    "num_the_ratings = len(movie_tuples)\n",
    "\n",
    "for movie in movie_tuples:\n",
    "    sum_the_ratings += movie[1]\n",
    "  \n",
    "avg_the_ratings = sum_the_ratings / num_the_ratings\n",
    "\n",
    "if avg_the_ratings > avg_ratings:\n",
    "    print(\"Movies with 'the' are just better.\")\n",
    "else:\n",
    "    print(\"No 'the' means better movies.\")"
   ]
  },
  {
   "cell_type": "markdown",
   "metadata": {},
   "source": [
    "**Question 13:** Create a list that contains the *index positions* of every movie that has an above average rating in our original list."
   ]
  },
  {
   "cell_type": "code",
   "execution_count": 27,
   "metadata": {},
   "outputs": [],
   "source": [
    "# with comprehension\n",
    "idx_vals = [idx for idx, val in enumerate(movies) if val['imdb'] > avg_ratings]"
   ]
  },
  {
   "cell_type": "code",
   "execution_count": 28,
   "metadata": {},
   "outputs": [],
   "source": [
    "# without comprehensions\n",
    "idx_vals = []\n",
    "\n",
    "for idx, val in enumerate(movies):\n",
    "    if val['imdb'] > avg_ratings:\n",
    "        idx_vals.append(idx)"
   ]
  },
  {
   "cell_type": "code",
   "execution_count": 29,
   "metadata": {},
   "outputs": [
    {
     "data": {
      "text/plain": [
       "[0, 2, 3, 5, 10, 11, 12, 14]"
      ]
     },
     "execution_count": 29,
     "metadata": {},
     "output_type": "execute_result"
    }
   ],
   "source": [
    "idx_vals"
   ]
  },
  {
   "cell_type": "markdown",
   "metadata": {},
   "source": [
    "**Question 14 (More Complicated):** What movie *genre* occurs most frequently?  (You will need to do this in a few steps most likely). "
   ]
  },
  {
   "cell_type": "code",
   "execution_count": 30,
   "metadata": {},
   "outputs": [
    {
     "name": "stdout",
     "output_type": "stream",
     "text": [
      "Most frequently occuring genre is: Romance, occured 5 times\n"
     ]
    }
   ],
   "source": [
    "# first, we'll create a dictionary -- notice it's empty\n",
    "count_dict = {}\n",
    "\n",
    "for movie in movies:\n",
    "    # if the category is already a key in the dictionary\n",
    "    if movie['category'] in count_dict:\n",
    "        # increase its corresponding value by 1\n",
    "        count_dict[movie['category']] += 1\n",
    "    else:\n",
    "        # if not, start the counter at 1\n",
    "        count_dict[movie['category']] = 1\n",
    "\n",
    "# now we'll loop through it using the items() method, and grab the key with the highest value\n",
    "max_count = 0\n",
    "most_freq_genre = None\n",
    "\n",
    "# for every single key, value pair in the dictionary\n",
    "for key, value in count_dict.items():\n",
    "    # if its value is higher than current max_count\n",
    "    if value > max_count:\n",
    "        # reassign max_count to that value\n",
    "        max_count = value\n",
    "        # and reassign its key to the corresponding genre\n",
    "        most_freq_genre = key\n",
    "        \n",
    "print(f\"Most frequently occuring genre is: {most_freq_genre}, occured {max_count} times\")"
   ]
  },
  {
   "cell_type": "markdown",
   "metadata": {},
   "source": [
    "**Question 15 (More Complicated):** What is the average rating for every movie genre?  Return the answer in a dictionary, where each key is a genre and the value is its average rating."
   ]
  },
  {
   "cell_type": "code",
   "execution_count": 31,
   "metadata": {},
   "outputs": [],
   "source": [
    "# we'll create a dictionary for the total sum of ratings in each movie\n",
    "total_ratings_dict = {}\n",
    "\n",
    "# populate the dictionary with the total amount of ratings for every single genre\n",
    "for movie in movies:\n",
    "    if movie['category'] in total_ratings_dict:\n",
    "        total_ratings_dict[movie['category']] += movie['imdb']\n",
    "    else:\n",
    "        total_ratings_dict[movie['category']] = movie['imdb']\n",
    "        \n",
    "# and now we'll do something a little different -- a dictionary comprehension\n",
    "# this creates a dictionary where the keys are the unique genres, and the values are the\n",
    "# total_ratings_dict / count_dict values divided by one another\n",
    "# this one might be a little sneaky  --- make sure to look at its individual components to \n",
    "# make sure you understand it\n",
    "avg_ratings = {key: total_ratings_dict[key] / count_dict[key] \n",
    "               for key in sorted(total_ratings_dict)}"
   ]
  },
  {
   "cell_type": "code",
   "execution_count": 32,
   "metadata": {},
   "outputs": [
    {
     "data": {
      "text/plain": [
       "{'Action': 6.3,\n",
       " 'Adventure': 9.0,\n",
       " 'Comedy': 7.2,\n",
       " 'Crime': 4.0,\n",
       " 'Drama': 8.0,\n",
       " 'Romance': 6.44,\n",
       " 'Suspense': 8.1,\n",
       " 'Thriller': 5.6,\n",
       " 'War': 3.2}"
      ]
     },
     "execution_count": 32,
     "metadata": {},
     "output_type": "execute_result"
    }
   ],
   "source": [
    "avg_ratings"
   ]
  }
 ],
 "metadata": {
  "kernelspec": {
   "display_name": "Python 3",
   "language": "python",
   "name": "python3"
  },
  "language_info": {
   "codemirror_mode": {
    "name": "ipython",
    "version": 3
   },
   "file_extension": ".py",
   "mimetype": "text/x-python",
   "name": "python",
   "nbconvert_exporter": "python",
   "pygments_lexer": "ipython3",
   "version": "3.7.3"
  }
 },
 "nbformat": 4,
 "nbformat_minor": 2
}
