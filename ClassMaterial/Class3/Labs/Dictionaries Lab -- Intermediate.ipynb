{
 "cells": [
  {
   "cell_type": "markdown",
   "metadata": {},
   "source": [
    "## Intermediate Lab:  Creating A Dataset Using the GitHub API\n",
    "\n",
    "In this lab you'll create a dataset containing all the meta information about your classmates github repos, using only the csv file with everyone's url.  \n",
    "\n",
    "The process will be done in these 4 general steps:\n",
    "\n",
    " - load in the csv file\n",
    " - clean the individual lines of each file to get them ready to use\n",
    " - connect to the GitHub api to obtain information about everyone's repos\n",
    " - re-structure this information to turn it into a dataframe.\n",
    " \n",
    "It'll be a great way to work through the first step of many data science problems: creating a workable dataset out of unorganized, messy data.  Let's get started!"
   ]
  },
  {
   "cell_type": "markdown",
   "metadata": {},
   "source": [
    "### Step 1:  Load in the csv file with everyone's github repo\n",
    "\n",
    "**Note:** There are a number of ways to do this, but the easiest way is usually this:\n",
    "\n",
    "    `with open('file.csv') as f:\n",
    "\n",
    "        data = f.readlines()`"
   ]
  },
  {
   "cell_type": "code",
   "execution_count": null,
   "metadata": {},
   "outputs": [],
   "source": [
    "# your code here\n"
   ]
  },
  {
   "cell_type": "markdown",
   "metadata": {},
   "source": [
    "What you should have now is a list, and each item is a string that contains the comma separated values of each cell in the row of that csv file.  \n",
    "\n",
    "It should generically look like this:\n",
    "\n",
    "    `['Name,Repo\\n',\n",
    "      'Person 1,https://github.com/username1\\n',\n",
    "      'Person 2,https://github.com/username2\\n',\n",
    "       ......\n",
    "       ]`\n",
    "\n",
    "Double check this is the case."
   ]
  },
  {
   "cell_type": "code",
   "execution_count": 75,
   "metadata": {},
   "outputs": [],
   "source": [
    "# your code here\n"
   ]
  },
  {
   "cell_type": "markdown",
   "metadata": {},
   "source": [
    "The only thing we need out of each item is the persons username, that part contained in the string at: `https://github.com/username_here`.  Everything else is junk.  \n",
    "\n",
    "We'll need to go through a few steps to get our info down to a usable format.  "
   ]
  },
  {
   "cell_type": "markdown",
   "metadata": {},
   "source": [
    "### Step 2: Remove the `\\n` from each item in the list, as well as the item that contains the header info.\n",
    "\n",
    "When you're done you should have a list that looks like this:\n",
    "\n",
    "      `[\n",
    "      'Person 1,https://github.com/username1',\n",
    "      'Person 2,https://github.com/username2',\n",
    "       ......\n",
    "       ]`\n",
    "\n",
    "**hint:** The `replace()` method for strings is probably one of the more useful options that you have.  If you want to replace something with nothing, you can simply specify `\"\"` for that part."
   ]
  },
  {
   "cell_type": "code",
   "execution_count": null,
   "metadata": {},
   "outputs": [],
   "source": [
    "# your code here\n"
   ]
  },
  {
   "cell_type": "markdown",
   "metadata": {},
   "source": [
    "### Step 3:  Separate the username in each string from everything else\n",
    "\n",
    "When you're done you should have a new list that looks like this:\n",
    "\n",
    "    `[\n",
    "       'username1',\n",
    "       'username2',\n",
    "       ...\n",
    "     ]`"
   ]
  },
  {
   "cell_type": "markdown",
   "metadata": {},
   "source": [
    "**hint:** `split()` is a helpful method for this.  Since the parts of the string are separated by a `/` you could use that to split the string."
   ]
  },
  {
   "cell_type": "code",
   "execution_count": null,
   "metadata": {},
   "outputs": [],
   "source": [
    "# your code here\n"
   ]
  },
  {
   "cell_type": "markdown",
   "metadata": {},
   "source": [
    "### Step 4: Obtain the repo data for every single github username\n",
    "\n",
    "The repository info for every single public account is available via the following url: `https://api.github.com/users/:the_username/repos`\n",
    "\n",
    "So basically, `requests.get('https://api.github.com/users/:the_username/repos').json()` will return a list filled with every single repo that user has.  \n",
    "\n",
    "When you're done, you should have a *list of lists*, with each list containing each users individual repos.  It'll look like this:\n",
    "\n",
    "`[[{user1, repo1}, {user1, repo2}], [{user2, repo1}], [{user3, repo1}, {user3, repo2}, {user3, rep3}], .....]`\n",
    "\n",
    "**Warning:** We're using the free, unauthenticated version of the API here.  That means we can only make 60 API calls per hour before getting throttled.  If we've used up our bandwidth the response you'll get is a dictionary telling you we've exceeded our rate limit or something similar.\n",
    "\n",
    "If that's the case, try using your phone (or your neighbors) as a hotspot and connect from there to get a new IP address."
   ]
  },
  {
   "cell_type": "code",
   "execution_count": null,
   "metadata": {},
   "outputs": [],
   "source": [
    "# your code here\n"
   ]
  },
  {
   "cell_type": "markdown",
   "metadata": {},
   "source": [
    "### Step 5: Create a 'flat' list that contains every unique repo for every single user\n",
    "\n",
    "When you're done you should have a list that looks like this: `[{user1 repo1}, {user1 repo2}, ....{user n, repo m}]`\n",
    "\n",
    "Ie, instead of having a list filled with other lists with dictionaries inside of them, make it a list with just dictionaries on the inside.\n",
    "\n",
    "Ie, no nested levels like you had before.\n",
    "\n",
    "So, go from this:\n",
    "\n",
    "`[[{user1, repo1}, {user1, repo2}, {user1, repo3}], [{user2, repo1}, {user2, repo2}]]`\n",
    "    \n",
    "To this:\n",
    "\n",
    "`[{user1, repo1}, {user1, repo2}, {user1, repo3}, {user2, repo1}, {user2, repo2}]`\n",
    "    \n",
    "If you have questions about what this entails, then please contact me ASAP."
   ]
  },
  {
   "cell_type": "code",
   "execution_count": null,
   "metadata": {},
   "outputs": [],
   "source": [
    "# your code here\n"
   ]
  },
  {
   "cell_type": "markdown",
   "metadata": {},
   "source": [
    "### Step 6:  Get information about the name, owner, url, and date of every single repo.\n",
    "\n",
    "We are **almost** there to getting a true dataset out of our API calls.  The problem we have now is that our dictionary is nested.  Ie, some of the values are other dictionaries or lists.  \n",
    "\n",
    "To make these values accessible to pandas we need to have them all on an equal footing.\n",
    "\n",
    "In the dictionary for each repo there are keys called `name`, `login`, `html_url`, and `created_at`.  These are going to populate the values for our different columns.\n",
    "\n",
    "If you look, you'll see that the `login` key is nested inside another dictionary.\n",
    "\n",
    "What we want to do is have the values for each of these keys inside their own separate lists, so their values can be re-used more easily.\n",
    "\n",
    "So what you need to do is use for loops to create a list that contains all the individual values for each of these dictionary keys.  \n",
    "\n",
    "You should results that look like this:\n",
    "\n",
    "`names  = [list filled with all of the values of the name key]`\n",
    "\n",
    "`logins = [list filled with all of the values of the login key]`\n",
    "\n",
    "`urls   = [list filled with all of the values of the html_url key]`\n",
    "\n",
    "`dates  = [list filled with all of the values of the created_at key]`\n",
    "\n",
    "**hint:** Notice that the `login` key is nested inside a dictionary that's the value to the `owner` key at the outer level."
   ]
  },
  {
   "cell_type": "code",
   "execution_count": null,
   "metadata": {},
   "outputs": [],
   "source": [
    "# your key here\n"
   ]
  },
  {
   "cell_type": "markdown",
   "metadata": {},
   "source": [
    "### Step 7:  Create a dictionary with the data created from step 7\n",
    "\n",
    "Your final output should look like this:\n",
    "\n",
    "    `{\n",
    "       'Owner': [list with the `login` values for each user],\n",
    "       'Name' : [list with the `name` values for each user],\n",
    "       'URL'  : [list with the `html_url` values for each user],\n",
    "       'Date' : [list with the `created_at` values for each user]\n",
    "     }`"
   ]
  },
  {
   "cell_type": "code",
   "execution_count": null,
   "metadata": {},
   "outputs": [],
   "source": [
    "# your answer here\n"
   ]
  },
  {
   "cell_type": "markdown",
   "metadata": {},
   "source": [
    "### Step 8:  Pass your dictionary into the `pd.dataframe()` method to get your final dataset  \n",
    "\n",
    "Use the `df.head()` method to confirm that you have something that's formatted appropriately."
   ]
  },
  {
   "cell_type": "code",
   "execution_count": null,
   "metadata": {},
   "outputs": [],
   "source": [
    "# your answer here\n"
   ]
  }
 ],
 "metadata": {
  "kernelspec": {
   "display_name": "Python 3",
   "language": "python",
   "name": "python3"
  },
  "language_info": {
   "codemirror_mode": {
    "name": "ipython",
    "version": 3
   },
   "file_extension": ".py",
   "mimetype": "text/x-python",
   "name": "python",
   "nbconvert_exporter": "python",
   "pygments_lexer": "ipython3",
   "version": "3.7.3"
  }
 },
 "nbformat": 4,
 "nbformat_minor": 2
}
