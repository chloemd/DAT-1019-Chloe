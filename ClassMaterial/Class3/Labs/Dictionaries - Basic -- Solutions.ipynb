{
 "cells": [
  {
   "cell_type": "markdown",
   "metadata": {},
   "source": [
    "## Dictionaries Lab Solutions - Basic"
   ]
  },
  {
   "cell_type": "code",
   "execution_count": 4,
   "metadata": {},
   "outputs": [],
   "source": [
    "# dictionary with information about General Assembly as a company\n",
    "company_info = {\n",
    "    'Name': 'General Assembly',\n",
    "    'Categories': ['Education', 'Product Design', 'UX Design', 'Web Design', 'Web Development'],\n",
    "    'Founded': 'Jan. 3, 2011',\n",
    "    'Founders': ['Adam Pritzker', 'Brad Hargreaves', 'Jake Schwartz', 'Matthew Brimer'],\n",
    "    'Operating Status': 'Active',\n",
    "    'Funding Status': 'M&A',\n",
    "    'Last Funding Type': 'Corporate Round',\n",
    "    'Number of Employees': '501-1000',\n",
    "    'Legal Name': 'General Assembly Space, Inc.',\n",
    "    'Child Hubs': 'General Assembly Alumni Founded Companies',\n",
    "    'Hub Tags': ['Pledge 1%'],\n",
    "    'Funding Events': [{'Round': 'Series A', 'Date': 'Jan. 12, 2011', 'Amount': 1250000}, {'Round': 'Series B', 'Date': 'Feb. 11, 2012', 'Amount': 3750000}, {'Round': 'Series C', 'Date': 'Mar. 24, 2014', 'Amount': 12500000}]\n",
    "}"
   ]
  },
  {
   "cell_type": "markdown",
   "metadata": {},
   "source": [
    "**Grab the First Founder Listed for General Assembly**"
   ]
  },
  {
   "cell_type": "code",
   "execution_count": 5,
   "metadata": {},
   "outputs": [
    {
     "data": {
      "text/plain": [
       "'Adam Pritzker'"
      ]
     },
     "execution_count": 5,
     "metadata": {},
     "output_type": "execute_result"
    }
   ],
   "source": [
    "company_info['Founders'][0]"
   ]
  },
  {
   "cell_type": "markdown",
   "metadata": {},
   "source": [
    "**Grab the amount raised for the first funding event General Assembly had.**"
   ]
  },
  {
   "cell_type": "code",
   "execution_count": 6,
   "metadata": {},
   "outputs": [
    {
     "data": {
      "text/plain": [
       "1250000"
      ]
     },
     "execution_count": 6,
     "metadata": {},
     "output_type": "execute_result"
    }
   ],
   "source": [
    "company_info['Funding Events'][0]['Amount']"
   ]
  },
  {
   "cell_type": "markdown",
   "metadata": {},
   "source": [
    "**Create a loop that prints off every value inside the 'funding events' key**"
   ]
  },
  {
   "cell_type": "code",
   "execution_count": 7,
   "metadata": {},
   "outputs": [
    {
     "name": "stdout",
     "output_type": "stream",
     "text": [
      "{'Round': 'Series A', 'Date': 'Jan. 12, 2011', 'Amount': 1250000}\n",
      "{'Round': 'Series B', 'Date': 'Feb. 11, 2012', 'Amount': 3750000}\n",
      "{'Round': 'Series C', 'Date': 'Mar. 24, 2014', 'Amount': 12500000}\n"
     ]
    }
   ],
   "source": [
    "for item in company_info['Funding Events']:\n",
    "    print(item)"
   ]
  },
  {
   "cell_type": "markdown",
   "metadata": {},
   "source": [
    "**Create a loop that prints off just the name of every single funding event, as well as the amount raised.**"
   ]
  },
  {
   "cell_type": "code",
   "execution_count": 8,
   "metadata": {},
   "outputs": [
    {
     "name": "stdout",
     "output_type": "stream",
     "text": [
      "Series A 1250000\n",
      "Series B 3750000\n",
      "Series C 12500000\n"
     ]
    }
   ],
   "source": [
    "for item in company_info['Funding Events']:\n",
    "    print(item['Round'], item['Amount'])"
   ]
  },
  {
   "cell_type": "markdown",
   "metadata": {},
   "source": [
    "**Take a look at the following dictionary method:  company_info.items()**\n",
    "\n",
    "**Now write a loop that prints the name of every key inside your dictionary**"
   ]
  },
  {
   "cell_type": "code",
   "execution_count": 9,
   "metadata": {},
   "outputs": [
    {
     "name": "stdout",
     "output_type": "stream",
     "text": [
      "Name\n",
      "Categories\n",
      "Founded\n",
      "Founders\n",
      "Operating Status\n",
      "Funding Status\n",
      "Last Funding Type\n",
      "Number of Employees\n",
      "Legal Name\n",
      "Child Hubs\n",
      "Hub Tags\n",
      "Funding Events\n"
     ]
    }
   ],
   "source": [
    "for key, value in company_info.items():\n",
    "    print(key)"
   ]
  },
  {
   "cell_type": "markdown",
   "metadata": {},
   "source": [
    "Take a look at the following list of movies, each of which has information about it delivered as a dictionary."
   ]
  },
  {
   "cell_type": "code",
   "execution_count": 10,
   "metadata": {},
   "outputs": [],
   "source": [
    "# List of movies dictionaries:\n",
    "\n",
    "movies = [\n",
    "{\n",
    "\"name\": \"Usual Suspects\", \n",
    "\"imdb\": 7.0,\n",
    "\"category\": \"Thriller\"\n",
    "},\n",
    "{\n",
    "\"name\": \"Hitman\",\n",
    "\"imdb\": 6.3,\n",
    "\"category\": \"Action\"\n",
    "},\n",
    "{\n",
    "\"name\": \"Dark Knight\",\n",
    "\"imdb\": 9.0,\n",
    "\"category\": \"Adventure\"\n",
    "},\n",
    "{\n",
    "\"name\": \"The Help\",\n",
    "\"imdb\": 8.0,\n",
    "\"category\": \"Drama\"\n",
    "},\n",
    "{\n",
    "\"name\": \"The Choice\",\n",
    "\"imdb\": 6.2,\n",
    "\"category\": \"Romance\"\n",
    "},\n",
    "{\n",
    "\"name\": \"Colonia\",\n",
    "\"imdb\": 7.4,\n",
    "\"category\": \"Romance\"\n",
    "},\n",
    "{\n",
    "\"name\": \"Love\",\n",
    "\"imdb\": 6.0,\n",
    "\"category\": \"Romance\"\n",
    "},\n",
    "{\n",
    "\"name\": \"Bride Wars\",\n",
    "\"imdb\": 5.4,\n",
    "\"category\": \"Romance\"\n",
    "},\n",
    "{\n",
    "\"name\": \"AlphaJet\",\n",
    "\"imdb\": 3.2,\n",
    "\"category\": \"War\"\n",
    "},\n",
    "{\n",
    "\"name\": \"Ringing Crime\",\n",
    "\"imdb\": 4.0,\n",
    "\"category\": \"Crime\"\n",
    "},\n",
    "{\n",
    "\"name\": \"Joking muck\",\n",
    "\"imdb\": 7.2,\n",
    "\"category\": \"Comedy\"\n",
    "},\n",
    "{\n",
    "\"name\": \"What is the name\",\n",
    "\"imdb\": 9.2,\n",
    "\"category\": \"Suspense\"\n",
    "},\n",
    "{\n",
    "\"name\": \"Detective\",\n",
    "\"imdb\": 7.0,\n",
    "\"category\": \"Suspense\"\n",
    "},\n",
    "{\n",
    "\"name\": \"Exam\",\n",
    "\"imdb\": 4.2,\n",
    "\"category\": \"Thriller\"\n",
    "},\n",
    "{\n",
    "\"name\": \"We Two\",\n",
    "\"imdb\": 7.2,\n",
    "\"category\": \"Romance\"\n",
    "}\n",
    "]"
   ]
  },
  {
   "cell_type": "markdown",
   "metadata": {},
   "source": [
    "**What is the average imdb rating of all the movies?**"
   ]
  },
  {
   "cell_type": "code",
   "execution_count": 11,
   "metadata": {},
   "outputs": [
    {
     "data": {
      "text/plain": [
       "6.486666666666667"
      ]
     },
     "execution_count": 11,
     "metadata": {},
     "output_type": "execute_result"
    }
   ],
   "source": [
    "# option 1\n",
    "sum(movie['imdb'] for movie in movies)/len(movies)"
   ]
  },
  {
   "cell_type": "code",
   "execution_count": 12,
   "metadata": {},
   "outputs": [
    {
     "data": {
      "text/plain": [
       "6.486666666666667"
      ]
     },
     "execution_count": 12,
     "metadata": {},
     "output_type": "execute_result"
    }
   ],
   "source": [
    "# option 2 -- a little longer, no comprehensions\n",
    "movie_rating = 0\n",
    "\n",
    "for movie in movies:\n",
    "    movie_rating += movie['imdb']\n",
    "    \n",
    "movie_rating/len(movies)"
   ]
  },
  {
   "cell_type": "markdown",
   "metadata": {},
   "source": [
    "**What is the average imdb score of Romance movies?**"
   ]
  },
  {
   "cell_type": "code",
   "execution_count": 14,
   "metadata": {},
   "outputs": [
    {
     "data": {
      "text/plain": [
       "6.44"
      ]
     },
     "execution_count": 14,
     "metadata": {},
     "output_type": "execute_result"
    }
   ],
   "source": [
    "# option 1\n",
    "sum(movie['imdb'] for movie in movies if movie['category'] == 'Romance') / sum(1 for movie in movies if movie['category'] == 'Romance')"
   ]
  },
  {
   "cell_type": "code",
   "execution_count": 15,
   "metadata": {},
   "outputs": [
    {
     "data": {
      "text/plain": [
       "6.44"
      ]
     },
     "execution_count": 15,
     "metadata": {},
     "output_type": "execute_result"
    }
   ],
   "source": [
    "# option 2 -- no comprehensions\n",
    "\n",
    "rom_rating = 0\n",
    "rom_movies = 0\n",
    "\n",
    "for movie in movies:\n",
    "    if movie['category'] == 'Romance':\n",
    "        rom_rating += movie['imdb']\n",
    "        rom_movies += 1\n",
    "        \n",
    "rom_rating / rom_movies"
   ]
  }
 ],
 "metadata": {
  "kernelspec": {
   "display_name": "Python 3",
   "language": "python",
   "name": "python3"
  },
  "language_info": {
   "codemirror_mode": {
    "name": "ipython",
    "version": 3
   },
   "file_extension": ".py",
   "mimetype": "text/x-python",
   "name": "python",
   "nbconvert_exporter": "python",
   "pygments_lexer": "ipython3",
   "version": "3.7.1"
  }
 },
 "nbformat": 4,
 "nbformat_minor": 2
}
