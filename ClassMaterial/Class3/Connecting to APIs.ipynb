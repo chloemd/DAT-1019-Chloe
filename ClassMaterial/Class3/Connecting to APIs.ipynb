{
 "cells": [
  {
   "cell_type": "code",
   "execution_count": 2,
   "metadata": {},
   "outputs": [],
   "source": [
    "myself = {\n",
    "        'name': 'Chloe',\n",
    "        'age':35,\n",
    "        'sign': 'Taurus',\n",
    "        'interests': ['python','bass guitar', 'steve']}"
   ]
  },
  {
   "cell_type": "code",
   "execution_count": 5,
   "metadata": {},
   "outputs": [
    {
     "data": {
      "text/plain": [
       "'Chloe'"
      ]
     },
     "execution_count": 5,
     "metadata": {},
     "output_type": "execute_result"
    }
   ],
   "source": [
    "myself['name']"
   ]
  },
  {
   "cell_type": "code",
   "execution_count": 7,
   "metadata": {},
   "outputs": [
    {
     "data": {
      "text/plain": [
       "['python', 'bass guitar', 'steve']"
      ]
     },
     "execution_count": 7,
     "metadata": {},
     "output_type": "execute_result"
    }
   ],
   "source": [
    "myself['interests']"
   ]
  },
  {
   "cell_type": "code",
   "execution_count": 9,
   "metadata": {},
   "outputs": [],
   "source": [
    "import requests"
   ]
  },
  {
   "cell_type": "code",
   "execution_count": 10,
   "metadata": {},
   "outputs": [],
   "source": [
    "url = 'https://api.census.gov/data.json'"
   ]
  },
  {
   "cell_type": "code",
   "execution_count": 13,
   "metadata": {},
   "outputs": [],
   "source": [
    "req = requests.get(url)"
   ]
  },
  {
   "cell_type": "code",
   "execution_count": 18,
   "metadata": {},
   "outputs": [
    {
     "data": {
      "text/plain": [
       "dict"
      ]
     },
     "execution_count": 18,
     "metadata": {},
     "output_type": "execute_result"
    }
   ],
   "source": [
    "type(req.json())"
   ]
  },
  {
   "cell_type": "code",
   "execution_count": 21,
   "metadata": {},
   "outputs": [],
   "source": [
    "web_data = req.json()"
   ]
  },
  {
   "cell_type": "code",
   "execution_count": 28,
   "metadata": {},
   "outputs": [
    {
     "data": {
      "text/plain": [
       "{'c_vintage': 1988,\n",
       " 'c_dataset': ['cbp'],\n",
       " 'c_geographyLink': 'https://api.census.gov/data/1988/cbp/geography.json',\n",
       " 'c_variablesLink': 'https://api.census.gov/data/1988/cbp/variables.json',\n",
       " 'c_tagsLink': 'https://api.census.gov/data/1988/cbp/tags.json',\n",
       " 'c_examplesLink': 'https://api.census.gov/data/1988/cbp/examples.json',\n",
       " 'c_groupsLink': 'https://api.census.gov/data/1988/cbp/groups.json',\n",
       " 'c_valuesLink': 'https://api.census.gov/data/1988/cbp/values.json',\n",
       " 'c_documentationLink': 'http://www.census.gov/developer/',\n",
       " 'c_isAggregate': True,\n",
       " 'c_isAvailable': True,\n",
       " '@type': 'dcat:Dataset',\n",
       " 'title': '1988 County Business Patterns: Business Patterns',\n",
       " 'accessLevel': 'public',\n",
       " 'bureauCode': ['006:07'],\n",
       " 'description': 'County Business Patterns (CBP) is an annual series that provides economic data by industry at the U.S., State, County and Metropolitan Area levels. This series includes the number of establishments, employment during the week of March 12, first quarter payroll, and annual payroll. CBP provides statistics for businesses with paid employees for the U.S., Puerto Rico, and the Island Areas. Census Bureau staff identified a processing error that affects selected data from the 2014 County Business Patterns (CBP). As a result, we suppressed 2014 employment and payroll totals in the Health Care and Social Assistance sector (Sector 62) for the following geographies: U.S.; Michigan; Battle Creek, MI metro area; Calhoun County, MI; and the 3rd congressional district of Michigan. This processing error did not affect other sectors. While suppressed values can be derived by subtraction, we do not recommend using the derived values in any analyses.  The Census Bureau plans to release revised statistics at a later date.',\n",
       " 'distribution': [{'@type': 'dcat:Distribution',\n",
       "   'accessURL': 'https://api.census.gov/data/1988/cbp',\n",
       "   'description': 'API endpoint',\n",
       "   'format': 'API',\n",
       "   'mediaType': 'application/json',\n",
       "   'title': 'API endpoint'}],\n",
       " 'contactPoint': {'fn': 'CBP Staff',\n",
       "  'hasEmail': 'ewd.county.business.patterns@census.gov'},\n",
       " 'identifier': 'http://api.census.gov/data/id/CBP1988',\n",
       " 'keyword': [],\n",
       " 'license': 'http://creativecommons.org/publicdomain/zero/1.0/Public Domain',\n",
       " 'modified': '2019-02-13',\n",
       " 'programCode': ['006:007'],\n",
       " 'references': ['http://www.census.gov/developers/'],\n",
       " 'spatial': 'United States',\n",
       " 'temporal': '1988/1988',\n",
       " 'publisher': {'@type': 'org:Organization',\n",
       "  'name': 'U.S. Census Bureau',\n",
       "  'subOrganizationOf': {'@type': 'org:Organization',\n",
       "   'name': 'U.S. Department Of Commerce',\n",
       "   'subOrganizationOf': {'@type': 'org:Organization',\n",
       "    'name': 'U.S. Government'}}}}"
      ]
     },
     "execution_count": 28,
     "metadata": {},
     "output_type": "execute_result"
    }
   ],
   "source": [
    "web_data['dataset'][4]"
   ]
  },
  {
   "cell_type": "code",
   "execution_count": 29,
   "metadata": {},
   "outputs": [],
   "source": [
    "import pandas as pd"
   ]
  },
  {
   "cell_type": "code",
   "execution_count": 46,
   "metadata": {},
   "outputs": [],
   "source": [
    "df = pd.DataFrame(web_data['dataset'])"
   ]
  },
  {
   "cell_type": "code",
   "execution_count": 35,
   "metadata": {},
   "outputs": [],
   "source": [
    "programCodes = []\n",
    "\n",
    "for item in web_data['dataset']:\n",
    "    programCodes.append(item['programCode'][0])"
   ]
  },
  {
   "cell_type": "code",
   "execution_count": 44,
   "metadata": {},
   "outputs": [
    {
     "data": {
      "text/html": [
       "<div>\n",
       "<style scoped>\n",
       "    .dataframe tbody tr th:only-of-type {\n",
       "        vertical-align: middle;\n",
       "    }\n",
       "\n",
       "    .dataframe tbody tr th {\n",
       "        vertical-align: top;\n",
       "    }\n",
       "\n",
       "    .dataframe thead th {\n",
       "        text-align: right;\n",
       "    }\n",
       "</style>\n",
       "<table border=\"1\" class=\"dataframe\">\n",
       "  <thead>\n",
       "    <tr style=\"text-align: right;\">\n",
       "      <th></th>\n",
       "      <th>0</th>\n",
       "    </tr>\n",
       "  </thead>\n",
       "  <tbody>\n",
       "    <tr>\n",
       "      <th>0</th>\n",
       "      <td>006:007</td>\n",
       "    </tr>\n",
       "    <tr>\n",
       "      <th>1</th>\n",
       "      <td>006:007</td>\n",
       "    </tr>\n",
       "    <tr>\n",
       "      <th>2</th>\n",
       "      <td>006:007</td>\n",
       "    </tr>\n",
       "    <tr>\n",
       "      <th>3</th>\n",
       "      <td>006:007</td>\n",
       "    </tr>\n",
       "    <tr>\n",
       "      <th>4</th>\n",
       "      <td>006:007</td>\n",
       "    </tr>\n",
       "    <tr>\n",
       "      <th>...</th>\n",
       "      <td>...</td>\n",
       "    </tr>\n",
       "    <tr>\n",
       "      <th>496</th>\n",
       "      <td>006:007</td>\n",
       "    </tr>\n",
       "    <tr>\n",
       "      <th>497</th>\n",
       "      <td>006:004</td>\n",
       "    </tr>\n",
       "    <tr>\n",
       "      <th>498</th>\n",
       "      <td>006:004</td>\n",
       "    </tr>\n",
       "    <tr>\n",
       "      <th>499</th>\n",
       "      <td>006-004</td>\n",
       "    </tr>\n",
       "    <tr>\n",
       "      <th>500</th>\n",
       "      <td>006-004</td>\n",
       "    </tr>\n",
       "  </tbody>\n",
       "</table>\n",
       "<p>501 rows × 1 columns</p>\n",
       "</div>"
      ],
      "text/plain": [
       "           0\n",
       "0    006:007\n",
       "1    006:007\n",
       "2    006:007\n",
       "3    006:007\n",
       "4    006:007\n",
       "..       ...\n",
       "496  006:007\n",
       "497  006:004\n",
       "498  006:004\n",
       "499  006-004\n",
       "500  006-004\n",
       "\n",
       "[501 rows x 1 columns]"
      ]
     },
     "execution_count": 44,
     "metadata": {},
     "output_type": "execute_result"
    }
   ],
   "source": [
    "pd.DataFrame(programCodes)"
   ]
  },
  {
   "cell_type": "code",
   "execution_count": 48,
   "metadata": {},
   "outputs": [
    {
     "data": {
      "text/html": [
       "<div>\n",
       "<style scoped>\n",
       "    .dataframe tbody tr th:only-of-type {\n",
       "        vertical-align: middle;\n",
       "    }\n",
       "\n",
       "    .dataframe tbody tr th {\n",
       "        vertical-align: top;\n",
       "    }\n",
       "\n",
       "    .dataframe thead th {\n",
       "        text-align: right;\n",
       "    }\n",
       "</style>\n",
       "<table border=\"1\" class=\"dataframe\">\n",
       "  <thead>\n",
       "    <tr style=\"text-align: right;\">\n",
       "      <th></th>\n",
       "      <th>c_vintage</th>\n",
       "      <th>c_dataset</th>\n",
       "      <th>c_geographyLink</th>\n",
       "      <th>c_variablesLink</th>\n",
       "      <th>c_tagsLink</th>\n",
       "      <th>c_examplesLink</th>\n",
       "      <th>c_groupsLink</th>\n",
       "      <th>c_valuesLink</th>\n",
       "      <th>c_documentationLink</th>\n",
       "      <th>c_isAggregate</th>\n",
       "      <th>...</th>\n",
       "      <th>license</th>\n",
       "      <th>modified</th>\n",
       "      <th>programCode</th>\n",
       "      <th>references</th>\n",
       "      <th>spatial</th>\n",
       "      <th>temporal</th>\n",
       "      <th>publisher</th>\n",
       "      <th>c_isCube</th>\n",
       "      <th>c_isTimeseries</th>\n",
       "      <th>programCodes</th>\n",
       "    </tr>\n",
       "  </thead>\n",
       "  <tbody>\n",
       "    <tr>\n",
       "      <th>0</th>\n",
       "      <td>1986.0</td>\n",
       "      <td>[cbp]</td>\n",
       "      <td>https://api.census.gov/data/1986/cbp/geography...</td>\n",
       "      <td>https://api.census.gov/data/1986/cbp/variables...</td>\n",
       "      <td>https://api.census.gov/data/1986/cbp/tags.json</td>\n",
       "      <td>https://api.census.gov/data/1986/cbp/examples....</td>\n",
       "      <td>https://api.census.gov/data/1986/cbp/groups.json</td>\n",
       "      <td>https://api.census.gov/data/1986/cbp/values.json</td>\n",
       "      <td>http://www.census.gov/developer/</td>\n",
       "      <td>True</td>\n",
       "      <td>...</td>\n",
       "      <td>http://creativecommons.org/publicdomain/zero/1...</td>\n",
       "      <td>2019-02-13</td>\n",
       "      <td>[006:007]</td>\n",
       "      <td>[http://www.census.gov/developers/]</td>\n",
       "      <td>United States</td>\n",
       "      <td>1986/1986</td>\n",
       "      <td>{'@type': 'org:Organization', 'name': 'U.S. Ce...</td>\n",
       "      <td>NaN</td>\n",
       "      <td>NaN</td>\n",
       "      <td>006:007</td>\n",
       "    </tr>\n",
       "    <tr>\n",
       "      <th>1</th>\n",
       "      <td>1994.0</td>\n",
       "      <td>[zbp]</td>\n",
       "      <td>https://api.census.gov/data/1994/zbp/geography...</td>\n",
       "      <td>https://api.census.gov/data/1994/zbp/variables...</td>\n",
       "      <td>https://api.census.gov/data/1994/zbp/tags.json</td>\n",
       "      <td>https://api.census.gov/data/1994/zbp/examples....</td>\n",
       "      <td>https://api.census.gov/data/1994/zbp/groups.json</td>\n",
       "      <td>https://api.census.gov/data/1994/zbp/values.json</td>\n",
       "      <td>http://www.census.gov/developer/</td>\n",
       "      <td>True</td>\n",
       "      <td>...</td>\n",
       "      <td>http://creativecommons.org/publicdomain/zero/1...</td>\n",
       "      <td>2018-01-25</td>\n",
       "      <td>[006:007]</td>\n",
       "      <td>[http://www.census.gov/developers/]</td>\n",
       "      <td>United States</td>\n",
       "      <td>1994/1994</td>\n",
       "      <td>{'@type': 'org:Organization', 'name': 'U.S. Ce...</td>\n",
       "      <td>NaN</td>\n",
       "      <td>NaN</td>\n",
       "      <td>006:007</td>\n",
       "    </tr>\n",
       "    <tr>\n",
       "      <th>2</th>\n",
       "      <td>1987.0</td>\n",
       "      <td>[cbp]</td>\n",
       "      <td>https://api.census.gov/data/1987/cbp/geography...</td>\n",
       "      <td>https://api.census.gov/data/1987/cbp/variables...</td>\n",
       "      <td>https://api.census.gov/data/1987/cbp/tags.json</td>\n",
       "      <td>https://api.census.gov/data/1987/cbp/examples....</td>\n",
       "      <td>https://api.census.gov/data/1987/cbp/groups.json</td>\n",
       "      <td>https://api.census.gov/data/1987/cbp/values.json</td>\n",
       "      <td>http://www.census.gov/developer/</td>\n",
       "      <td>True</td>\n",
       "      <td>...</td>\n",
       "      <td>http://creativecommons.org/publicdomain/zero/1...</td>\n",
       "      <td>2019-02-13</td>\n",
       "      <td>[006:007]</td>\n",
       "      <td>[http://www.census.gov/developers/]</td>\n",
       "      <td>United States</td>\n",
       "      <td>1987/1987</td>\n",
       "      <td>{'@type': 'org:Organization', 'name': 'U.S. Ce...</td>\n",
       "      <td>NaN</td>\n",
       "      <td>NaN</td>\n",
       "      <td>006:007</td>\n",
       "    </tr>\n",
       "    <tr>\n",
       "      <th>3</th>\n",
       "      <td>1995.0</td>\n",
       "      <td>[cbp]</td>\n",
       "      <td>https://api.census.gov/data/1995/cbp/geography...</td>\n",
       "      <td>https://api.census.gov/data/1995/cbp/variables...</td>\n",
       "      <td>https://api.census.gov/data/1995/cbp/tags.json</td>\n",
       "      <td>https://api.census.gov/data/1995/cbp/examples....</td>\n",
       "      <td>https://api.census.gov/data/1995/cbp/groups.json</td>\n",
       "      <td>https://api.census.gov/data/1995/cbp/values.json</td>\n",
       "      <td>http://www.census.gov/developer/</td>\n",
       "      <td>True</td>\n",
       "      <td>...</td>\n",
       "      <td>http://creativecommons.org/publicdomain/zero/1...</td>\n",
       "      <td>2019-02-13</td>\n",
       "      <td>[006:007]</td>\n",
       "      <td>[http://www.census.gov/developers/]</td>\n",
       "      <td>United States</td>\n",
       "      <td>1995/1995</td>\n",
       "      <td>{'@type': 'org:Organization', 'name': 'U.S. Ce...</td>\n",
       "      <td>NaN</td>\n",
       "      <td>NaN</td>\n",
       "      <td>006:007</td>\n",
       "    </tr>\n",
       "    <tr>\n",
       "      <th>4</th>\n",
       "      <td>1988.0</td>\n",
       "      <td>[cbp]</td>\n",
       "      <td>https://api.census.gov/data/1988/cbp/geography...</td>\n",
       "      <td>https://api.census.gov/data/1988/cbp/variables...</td>\n",
       "      <td>https://api.census.gov/data/1988/cbp/tags.json</td>\n",
       "      <td>https://api.census.gov/data/1988/cbp/examples....</td>\n",
       "      <td>https://api.census.gov/data/1988/cbp/groups.json</td>\n",
       "      <td>https://api.census.gov/data/1988/cbp/values.json</td>\n",
       "      <td>http://www.census.gov/developer/</td>\n",
       "      <td>True</td>\n",
       "      <td>...</td>\n",
       "      <td>http://creativecommons.org/publicdomain/zero/1...</td>\n",
       "      <td>2019-02-13</td>\n",
       "      <td>[006:007]</td>\n",
       "      <td>[http://www.census.gov/developers/]</td>\n",
       "      <td>United States</td>\n",
       "      <td>1988/1988</td>\n",
       "      <td>{'@type': 'org:Organization', 'name': 'U.S. Ce...</td>\n",
       "      <td>NaN</td>\n",
       "      <td>NaN</td>\n",
       "      <td>006:007</td>\n",
       "    </tr>\n",
       "  </tbody>\n",
       "</table>\n",
       "<p>5 rows × 30 columns</p>\n",
       "</div>"
      ],
      "text/plain": [
       "   c_vintage c_dataset                                    c_geographyLink  \\\n",
       "0     1986.0     [cbp]  https://api.census.gov/data/1986/cbp/geography...   \n",
       "1     1994.0     [zbp]  https://api.census.gov/data/1994/zbp/geography...   \n",
       "2     1987.0     [cbp]  https://api.census.gov/data/1987/cbp/geography...   \n",
       "3     1995.0     [cbp]  https://api.census.gov/data/1995/cbp/geography...   \n",
       "4     1988.0     [cbp]  https://api.census.gov/data/1988/cbp/geography...   \n",
       "\n",
       "                                     c_variablesLink  \\\n",
       "0  https://api.census.gov/data/1986/cbp/variables...   \n",
       "1  https://api.census.gov/data/1994/zbp/variables...   \n",
       "2  https://api.census.gov/data/1987/cbp/variables...   \n",
       "3  https://api.census.gov/data/1995/cbp/variables...   \n",
       "4  https://api.census.gov/data/1988/cbp/variables...   \n",
       "\n",
       "                                       c_tagsLink  \\\n",
       "0  https://api.census.gov/data/1986/cbp/tags.json   \n",
       "1  https://api.census.gov/data/1994/zbp/tags.json   \n",
       "2  https://api.census.gov/data/1987/cbp/tags.json   \n",
       "3  https://api.census.gov/data/1995/cbp/tags.json   \n",
       "4  https://api.census.gov/data/1988/cbp/tags.json   \n",
       "\n",
       "                                      c_examplesLink  \\\n",
       "0  https://api.census.gov/data/1986/cbp/examples....   \n",
       "1  https://api.census.gov/data/1994/zbp/examples....   \n",
       "2  https://api.census.gov/data/1987/cbp/examples....   \n",
       "3  https://api.census.gov/data/1995/cbp/examples....   \n",
       "4  https://api.census.gov/data/1988/cbp/examples....   \n",
       "\n",
       "                                       c_groupsLink  \\\n",
       "0  https://api.census.gov/data/1986/cbp/groups.json   \n",
       "1  https://api.census.gov/data/1994/zbp/groups.json   \n",
       "2  https://api.census.gov/data/1987/cbp/groups.json   \n",
       "3  https://api.census.gov/data/1995/cbp/groups.json   \n",
       "4  https://api.census.gov/data/1988/cbp/groups.json   \n",
       "\n",
       "                                       c_valuesLink  \\\n",
       "0  https://api.census.gov/data/1986/cbp/values.json   \n",
       "1  https://api.census.gov/data/1994/zbp/values.json   \n",
       "2  https://api.census.gov/data/1987/cbp/values.json   \n",
       "3  https://api.census.gov/data/1995/cbp/values.json   \n",
       "4  https://api.census.gov/data/1988/cbp/values.json   \n",
       "\n",
       "                c_documentationLink c_isAggregate  ...  \\\n",
       "0  http://www.census.gov/developer/          True  ...   \n",
       "1  http://www.census.gov/developer/          True  ...   \n",
       "2  http://www.census.gov/developer/          True  ...   \n",
       "3  http://www.census.gov/developer/          True  ...   \n",
       "4  http://www.census.gov/developer/          True  ...   \n",
       "\n",
       "                                             license    modified programCode  \\\n",
       "0  http://creativecommons.org/publicdomain/zero/1...  2019-02-13   [006:007]   \n",
       "1  http://creativecommons.org/publicdomain/zero/1...  2018-01-25   [006:007]   \n",
       "2  http://creativecommons.org/publicdomain/zero/1...  2019-02-13   [006:007]   \n",
       "3  http://creativecommons.org/publicdomain/zero/1...  2019-02-13   [006:007]   \n",
       "4  http://creativecommons.org/publicdomain/zero/1...  2019-02-13   [006:007]   \n",
       "\n",
       "                            references        spatial   temporal  \\\n",
       "0  [http://www.census.gov/developers/]  United States  1986/1986   \n",
       "1  [http://www.census.gov/developers/]  United States  1994/1994   \n",
       "2  [http://www.census.gov/developers/]  United States  1987/1987   \n",
       "3  [http://www.census.gov/developers/]  United States  1995/1995   \n",
       "4  [http://www.census.gov/developers/]  United States  1988/1988   \n",
       "\n",
       "                                           publisher c_isCube c_isTimeseries  \\\n",
       "0  {'@type': 'org:Organization', 'name': 'U.S. Ce...      NaN            NaN   \n",
       "1  {'@type': 'org:Organization', 'name': 'U.S. Ce...      NaN            NaN   \n",
       "2  {'@type': 'org:Organization', 'name': 'U.S. Ce...      NaN            NaN   \n",
       "3  {'@type': 'org:Organization', 'name': 'U.S. Ce...      NaN            NaN   \n",
       "4  {'@type': 'org:Organization', 'name': 'U.S. Ce...      NaN            NaN   \n",
       "\n",
       "  programCodes  \n",
       "0      006:007  \n",
       "1      006:007  \n",
       "2      006:007  \n",
       "3      006:007  \n",
       "4      006:007  \n",
       "\n",
       "[5 rows x 30 columns]"
      ]
     },
     "execution_count": 48,
     "metadata": {},
     "output_type": "execute_result"
    }
   ],
   "source": [
    "df['programCodes'] = programCodes\n",
    "df.head()"
   ]
  },
  {
   "cell_type": "code",
   "execution_count": 50,
   "metadata": {},
   "outputs": [],
   "source": [
    "user_url = 'https://api.github.com/users/USERNAME/repos'"
   ]
  },
  {
   "cell_type": "code",
   "execution_count": 53,
   "metadata": {},
   "outputs": [],
   "source": [
    "file = r\"C:\\Users\\chloe\\Downloads\\Github Repos DAT-10-19 - Sheet1.csv\""
   ]
  },
  {
   "cell_type": "code",
   "execution_count": 55,
   "metadata": {},
   "outputs": [],
   "source": [
    "with open(file) as f:\n",
    "    repos = f.readlines()"
   ]
  },
  {
   "cell_type": "code",
   "execution_count": 56,
   "metadata": {},
   "outputs": [
    {
     "data": {
      "text/plain": [
       "['Name,Github URL\\n',\n",
       " 'Chloe,https://github.com/chloemd\\n',\n",
       " 'Gary,https://github.com/Gmarin10\\n',\n",
       " 'Cameron ,https://github.com/clefevre01\\n',\n",
       " 'Oore,https://github.com/ladipoore\\n',\n",
       " 'Jaryd Thornton,https://github.com/jcolethornton\\n',\n",
       " 'Peter,https://github.com/Lothdyn/my-1019-repo\\n',\n",
       " 'Alvaro ,https://github.com/alvarog01/mydat1019\\n',\n",
       " 'Amanda Chernishkin,https://github.com/amandachernishkin\\n',\n",
       " 'John Mayer,https://github.com/mayerjp01\\n',\n",
       " 'Nidhi Mahambre,https://github.com/nidhim03\\n']"
      ]
     },
     "execution_count": 56,
     "metadata": {},
     "output_type": "execute_result"
    }
   ],
   "source": [
    "repos"
   ]
  },
  {
   "cell_type": "code",
   "execution_count": 67,
   "metadata": {},
   "outputs": [
    {
     "name": "stdout",
     "output_type": "stream",
     "text": [
      "alvarog01\n",
      "ladipoore\n"
     ]
    }
   ],
   "source": [
    "s = \"\"\"https://github.com/alvarog01/mydat1019\\n'\"\"\"\n",
    "s = s.strip(\"\\n'\")\n",
    "s = s.split('/')\n",
    "\n",
    "t = \"\"\"https://github.com/ladipoore\\n'\"\"\"\n",
    "t = t.strip(\"\\n'\")\n",
    "t = t.split('/')\n",
    "print(s[3])\n",
    "print(t[3])"
   ]
  }
 ],
 "metadata": {
  "kernelspec": {
   "display_name": "Python 3",
   "language": "python",
   "name": "python3"
  },
  "language_info": {
   "codemirror_mode": {
    "name": "ipython",
    "version": 3
   },
   "file_extension": ".py",
   "mimetype": "text/x-python",
   "name": "python",
   "nbconvert_exporter": "python",
   "pygments_lexer": "ipython3",
   "version": "3.8.3"
  }
 },
 "nbformat": 4,
 "nbformat_minor": 4
}
