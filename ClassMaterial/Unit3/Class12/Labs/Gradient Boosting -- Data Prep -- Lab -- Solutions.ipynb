{
 "cells": [
  {
   "cell_type": "markdown",
   "metadata": {},
   "source": [
    "### Lab -- Data Prep & Gradient Boosting\n",
    "\n",
    "Welcome to today's lab!  Today we're going to shift our attention to a more demanding dataset -- the restaurants data.  A quarter million rows, dates, and categorical data make this a more interesting, realistic use case of boosting.  \n",
    "\n",
    "The point of today's lab will be to experiment with different encoding methods and model parameters."
   ]
  },
  {
   "cell_type": "markdown",
   "metadata": {},
   "source": [
    "**Step 1:**  Load in your dataset"
   ]
  },
  {
   "cell_type": "code",
   "execution_count": 25,
   "metadata": {},
   "outputs": [],
   "source": [
    "# your code here\n",
    "import pandas as pd\n",
    "import numpy as np\n",
    "from sklearn.ensemble import GradientBoostingRegressor\n",
    "import category_encoders as ce\n",
    "\n",
    "df = pd.read_csv('../data/restaurant data/master.csv', parse_dates=['visit_date'])"
   ]
  },
  {
   "cell_type": "markdown",
   "metadata": {},
   "source": [
    "**Step 2:** Create a training and test set.\n",
    "\n",
    "Make the test set the **last 15 observations for each restaurant**.\n",
    "\n",
    "Turn each of these variables into `X_train, y_train`, and `X_test, y_test`, respectively.\n",
    "\n",
    "**Hint:**  This harkens back to our grouping lab -- check this if you forget how to do it."
   ]
  },
  {
   "cell_type": "code",
   "execution_count": 41,
   "metadata": {},
   "outputs": [],
   "source": [
    "# your code here\n",
    "# we'll sort the values\n",
    "df.sort_values(by=['id', 'visit_date'], ascending=True, inplace=True)\n",
    "\n",
    "# split into training & test\n",
    "train = df.groupby('id').apply(lambda x: x.iloc[:-15])\n",
    "test  = df.groupby('id').apply(lambda x: x.iloc[-15:])\n",
    "\n",
    "# drop the date column -- no need for it\n",
    "train.drop('visit_date', axis=1, inplace=True)\n",
    "test.drop('visit_date', axis=1, inplace=True)\n",
    "\n",
    "# and turn it into X & y\n",
    "X_train, y_train = train.drop('visitors', axis=1), train['visitors']\n",
    "X_test, y_test   = test.drop('visitors', axis=1), test['visitors']"
   ]
  },
  {
   "cell_type": "markdown",
   "metadata": {},
   "source": [
    "**Step 3:** Experiment with different encoding methods\n",
    "\n",
    "Let's do a quick check to see how different encoding methods work out of the box on our dataset.\n",
    "\n",
    "You're going to repeat the same process for each of `OrdinalEncoder`, `TargetEncoder`, and `OneHotEncoder` and see which one gives you the best results on our data."
   ]
  },
  {
   "cell_type": "markdown",
   "metadata": {},
   "source": [
    "**3a:** Use an `OrdinalEncoder` to transform your training set with the `fit_transform` method.  Then use the `transform` method to transform your test set.  \n",
    "\n",
    "**Important:** An important detail here is that the test set is being transformed according to the values in your training set.  \n",
    "\n",
    "If you are confused about how the transformation is happening, try using the `mapping()` method on your category encoder to get a hang of what's going on."
   ]
  },
  {
   "cell_type": "code",
   "execution_count": 42,
   "metadata": {},
   "outputs": [],
   "source": [
    "# your code here\n",
    "ore     = ce.OrdinalEncoder()\n",
    "X_train1 = ore.fit_transform(X_train)\n",
    "X_test1  = ore.transform(X_test)"
   ]
  },
  {
   "cell_type": "markdown",
   "metadata": {},
   "source": [
    "**3b:** Initialize a `GradientBoostingRegressor` with the default parameters, fit it on your training set, and score it on your test set."
   ]
  },
  {
   "cell_type": "code",
   "execution_count": 43,
   "metadata": {},
   "outputs": [
    {
     "data": {
      "text/plain": [
       "(0.17514150687855723, 0.1649668894761399)"
      ]
     },
     "execution_count": 43,
     "metadata": {},
     "output_type": "execute_result"
    }
   ],
   "source": [
    "# your code here\n",
    "gbm = GradientBoostingRegressor()\n",
    "gbm.fit(X_train1, y_train)\n",
    "gbm.score(X_train1, y_train), gbm.score(X_test1, y_test)"
   ]
  },
  {
   "cell_type": "markdown",
   "metadata": {},
   "source": [
    "**3c:** Repeat these same steps for the `TargetEncoder` and the `OneHotEncoder`\n",
    "\n",
    "**Important:** The `OneHotEncoder` can take awhile to fit.  If nothing happens in around 4 minutes, just cancel the process and try it again later on when you have more time."
   ]
  },
  {
   "cell_type": "code",
   "execution_count": 44,
   "metadata": {},
   "outputs": [],
   "source": [
    "# for the target encoder\n",
    "te = ce.TargetEncoder()\n",
    "# do your transformations\n",
    "X_train2 = te.fit_transform(X_train, y_train)\n",
    "X_test2  = te.transform(X_test, y_test)"
   ]
  },
  {
   "cell_type": "code",
   "execution_count": 45,
   "metadata": {},
   "outputs": [
    {
     "data": {
      "text/plain": [
       "(0.4727733082768645, 0.473120450920434)"
      ]
     },
     "execution_count": 45,
     "metadata": {},
     "output_type": "execute_result"
    }
   ],
   "source": [
    "# and model fitting\n",
    "gbm = GradientBoostingRegressor()\n",
    "gbm.fit(X_train2, y_train)\n",
    "gbm.score(X_train2, y_train), gbm.score(X_test2, y_test)"
   ]
  },
  {
   "cell_type": "code",
   "execution_count": 46,
   "metadata": {},
   "outputs": [],
   "source": [
    "# and for onehot encoding\n",
    "ohe      = ce.OneHotEncoder()\n",
    "X_train3 = ohe.fit_transform(X_train)\n",
    "X_test3  = ohe.transform(X_test)"
   ]
  },
  {
   "cell_type": "code",
   "execution_count": 48,
   "metadata": {},
   "outputs": [
    {
     "data": {
      "text/plain": [
       "(0.1661804718545994, 0.17244409457023446)"
      ]
     },
     "execution_count": 48,
     "metadata": {},
     "output_type": "execute_result"
    }
   ],
   "source": [
    "# and look at the model score\n",
    "gbm = GradientBoostingRegressor()\n",
    "\n",
    "gbm.fit(X_train3, y_train)\n",
    "gbm.score(X_train3, y_train), gbm.score(X_test3, y_test)"
   ]
  },
  {
   "cell_type": "markdown",
   "metadata": {},
   "source": [
    "**Step 4:** Look at your most important features\n",
    "\n",
    "Similar to the previous lab, take your model's most important features and load them into a dataframe to see what's driving your results.  Use the version of your model that gave you the best results."
   ]
  },
  {
   "cell_type": "code",
   "execution_count": 49,
   "metadata": {},
   "outputs": [],
   "source": [
    "# for the target encoder\n",
    "te = ce.TargetEncoder()\n",
    "# do your transformations\n",
    "X_train = te.fit_transform(X_train, y_train)\n",
    "X_test  = te.transform(X_test, y_test)"
   ]
  },
  {
   "cell_type": "code",
   "execution_count": 50,
   "metadata": {},
   "outputs": [
    {
     "data": {
      "text/plain": [
       "(0.4727733082768645, 0.47312045092043387)"
      ]
     },
     "execution_count": 50,
     "metadata": {},
     "output_type": "execute_result"
    }
   ],
   "source": [
    "# and model fitting\n",
    "gbm = GradientBoostingRegressor()\n",
    "gbm.fit(X_train2, y_train)"
   ]
  },
  {
   "cell_type": "code",
   "execution_count": 52,
   "metadata": {},
   "outputs": [],
   "source": [
    "# let's look at feature scores\n",
    "feats = pd.DataFrame({\n",
    "    'Feature': X_train.columns,\n",
    "    'Importance': gbm.feature_importances_\n",
    "}).sort_values(by='Importance', ascending=False)"
   ]
  },
  {
   "cell_type": "code",
   "execution_count": 56,
   "metadata": {},
   "outputs": [
    {
     "data": {
      "text/html": [
       "<div>\n",
       "<style scoped>\n",
       "    .dataframe tbody tr th:only-of-type {\n",
       "        vertical-align: middle;\n",
       "    }\n",
       "\n",
       "    .dataframe tbody tr th {\n",
       "        vertical-align: top;\n",
       "    }\n",
       "\n",
       "    .dataframe thead th {\n",
       "        text-align: right;\n",
       "    }\n",
       "</style>\n",
       "<table border=\"1\" class=\"dataframe\">\n",
       "  <thead>\n",
       "    <tr style=\"text-align: right;\">\n",
       "      <th></th>\n",
       "      <th>Feature</th>\n",
       "      <th>Importance</th>\n",
       "    </tr>\n",
       "  </thead>\n",
       "  <tbody>\n",
       "    <tr>\n",
       "      <th>0</th>\n",
       "      <td>id</td>\n",
       "      <td>0.872465</td>\n",
       "    </tr>\n",
       "    <tr>\n",
       "      <th>1</th>\n",
       "      <td>day_of_week</td>\n",
       "      <td>0.104502</td>\n",
       "    </tr>\n",
       "    <tr>\n",
       "      <th>6</th>\n",
       "      <td>longitude</td>\n",
       "      <td>0.008760</td>\n",
       "    </tr>\n",
       "    <tr>\n",
       "      <th>2</th>\n",
       "      <td>holiday</td>\n",
       "      <td>0.007499</td>\n",
       "    </tr>\n",
       "    <tr>\n",
       "      <th>5</th>\n",
       "      <td>latitude</td>\n",
       "      <td>0.004987</td>\n",
       "    </tr>\n",
       "    <tr>\n",
       "      <th>4</th>\n",
       "      <td>area</td>\n",
       "      <td>0.001253</td>\n",
       "    </tr>\n",
       "    <tr>\n",
       "      <th>3</th>\n",
       "      <td>genre</td>\n",
       "      <td>0.000535</td>\n",
       "    </tr>\n",
       "  </tbody>\n",
       "</table>\n",
       "</div>"
      ],
      "text/plain": [
       "       Feature  Importance\n",
       "0           id    0.872465\n",
       "1  day_of_week    0.104502\n",
       "6    longitude    0.008760\n",
       "2      holiday    0.007499\n",
       "5     latitude    0.004987\n",
       "4         area    0.001253\n",
       "3        genre    0.000535"
      ]
     },
     "execution_count": 56,
     "metadata": {},
     "output_type": "execute_result"
    }
   ],
   "source": [
    "# and let's take a look -- two features dominate\n",
    "feats"
   ]
  },
  {
   "cell_type": "markdown",
   "metadata": {},
   "source": [
    "**Step 5:** Can model parameters improve your score?  \n",
    "\n",
    "Take the **best** version of your encoding method and try changing some parameters with your model to see if it improves your score.  \n",
    "\n",
    "You won't have a ton of time to do this, but try some of the following:\n",
    "\n",
    " - Try increasing the number of trees your model uses -- 250, 500, or perhaps more trees if time permits\n",
    " - Try experimenting with differing values for tree depth -- the default is 3, but perhaps 4, 5 or 6 works better\n",
    " - Try improving fitting time by introducing some **randomness** into your data with the following two model parameters:\n",
    "   - `subsample`: this dictates what proportion of your data will be used for each tree.  A value of `0.7` means 70% of your data will be used for a particular tree, chosen at random\n",
    "   - `max_features`: this is the portion of columns that are used at each individual split.  If you enter an integer the model will randomly select that number of columns, if you enter a decimal it will randomly select that portion of columns.\n",
    "   - It can be very useful to find the most sparse model that will still give you comparable results.  Ie, if you find a gbm with 500 trees and a max_depth of 4 gives you the best results, it can be very beneficial if you can get those same results with a `subsample` value of 0.6 and a `max_features` score of 0.7, because your model will fit ~50% faster.\n",
    "   \n",
    "This step is open ended, so we will likely have to end class in the middle of it."
   ]
  },
  {
   "cell_type": "code",
   "execution_count": 58,
   "metadata": {},
   "outputs": [
    {
     "name": "stdout",
     "output_type": "stream",
     "text": [
      "Fitting model for 250 estimators\n",
      "Out of sample score:  0.48679411193461486\n",
      "Fitting model for 500 estimators\n",
      "Out of sample score:  0.4966239643461326\n"
     ]
    }
   ],
   "source": [
    "# let's look at number of trees first\n",
    "num_trees = [250, 500]\n",
    "\n",
    "for tree in num_trees:\n",
    "    print(f\"Fitting model for {tree} estimators\")\n",
    "    gbm = GradientBoostingRegressor(n_estimators=tree)\n",
    "    gbm.fit(X_train, y_train)\n",
    "    print(f\"Out of sample score:  {gbm.score(X_test, y_test)}\")"
   ]
  },
  {
   "cell_type": "code",
   "execution_count": 62,
   "metadata": {},
   "outputs": [
    {
     "name": "stdout",
     "output_type": "stream",
     "text": [
      "Fitting model for max_depth of 4\n",
      "Out of sample score:  0.48342570597765466\n",
      "Fitting model for max_depth of 5\n",
      "Out of sample score:  0.5011383293655858\n",
      "Fitting model for max_depth of 6\n",
      "Out of sample score:  0.5185895368692561\n",
      "Fitting model for max_depth of 7\n",
      "Out of sample score:  0.5283296066861807\n"
     ]
    }
   ],
   "source": [
    "# and let's look at tree depth\n",
    "tree_depth = [4, 5, 6]\n",
    "# since there was not a huge difference in scores -- let's stick with 100 boosting rounds for now to keep fitting times down\n",
    "for depth in tree_depth:\n",
    "    print(f\"Fitting model for max_depth of {depth}\")\n",
    "    gbm = GradientBoostingRegressor(max_depth=depth)\n",
    "    gbm.fit(X_train, y_train)\n",
    "    print(f\"Out of sample score:  {gbm.score(X_test, y_test)}\")"
   ]
  },
  {
   "cell_type": "markdown",
   "metadata": {},
   "source": [
    "In each of these cases, we saw modest increases for increasing the value of both parameters.  \n",
    "\n",
    "It would be interesting to see when out of sample scores begin to decrease -- sometimes you can keep increasing these values and keep seeing these piecemeal improvements until your scores get quite a bit higher.  In fact, lots of high performing models are taking existing architectures and just applying a **lot** of horsepower.\n",
    "\n",
    "For now, let's look at the juxtaposition of 500 estimators + `max_depth` of 7."
   ]
  },
  {
   "cell_type": "code",
   "execution_count": 63,
   "metadata": {},
   "outputs": [
    {
     "data": {
      "text/plain": [
       "0.5477027021768637"
      ]
     },
     "execution_count": 63,
     "metadata": {},
     "output_type": "execute_result"
    }
   ],
   "source": [
    "gbm = GradientBoostingRegressor(max_depth=6, n_estimators=500)\n",
    "gbm.fit(X_train, y_train)\n",
    "gbm.score(X_test, y_test)"
   ]
  },
  {
   "cell_type": "markdown",
   "metadata": {},
   "source": [
    "This score isn't dramatically different, but we were able to improve our model performance about 15% without a lot of additional effort.\n",
    "\n",
    "Now, let's see if we can recreate similar results by improving fitting times."
   ]
  },
  {
   "cell_type": "code",
   "execution_count": 67,
   "metadata": {
    "scrolled": true
   },
   "outputs": [
    {
     "name": "stdout",
     "output_type": "stream",
     "text": [
      "Fitting model with colsample value of 0.3\n",
      "Out of sample score: 0.528605809826528\n",
      "Fitting model with colsample value of 0.4\n",
      "Out of sample score: 0.5302797658909744\n",
      "Fitting model with colsample value of 0.5\n",
      "Out of sample score: 0.5323490887224003\n"
     ]
    }
   ],
   "source": [
    "# first, let's check some different values of colsample -- we'll start with 0.3 -- and go up from there\n",
    "subsample_vals = [0.3, 0.4, 0.5]\n",
    "\n",
    "for num_vals in colsample_vals:\n",
    "    print(f\"Fitting model with colsample value of {num_vals}\")\n",
    "    gbm = GradientBoostingRegressor(subsample=num_vals, n_estimators=500, max_depth=6)\n",
    "    gbm.fit(X_train, y_train)\n",
    "    print(f\"Out of sample score: {gbm.score(X_test, y_test)}\")"
   ]
  },
  {
   "cell_type": "markdown",
   "metadata": {},
   "source": [
    "The scores don't quite get the same values as with all the data -- but they're quite close, and being able to do this with 1/3 of our data is pretty impressive."
   ]
  },
  {
   "cell_type": "code",
   "execution_count": 71,
   "metadata": {},
   "outputs": [
    {
     "name": "stdout",
     "output_type": "stream",
     "text": [
      "Fitting model with value of 0.3 for max_depth\n",
      "Out of sample score: 0.5238945885838411\n",
      "Fitting model with value of 0.4 for max_depth\n",
      "Out of sample score: 0.5252188806230249\n",
      "Fitting model with value of 0.5 for max_depth\n",
      "Out of sample score: 0.5244760833770172\n",
      "Fitting model with value of 0.6 for max_depth\n",
      "Out of sample score: 0.5245990381591232\n"
     ]
    }
   ],
   "source": [
    "# and let's try some different values for max_features\n",
    "num_cols = [0.3, 0.4, 0.5, 0.6]\n",
    "\n",
    "for num_col in num_cols:\n",
    "    print(f\"Fitting model with value of {num_col} for max_depth\")\n",
    "    gbm = GradientBoostingRegressor(subsample=0.3, n_estimators=500, max_depth=6, max_features=num_col)\n",
    "    gbm.fit(X_train, y_train)\n",
    "    print(f\"Out of sample score: {gbm.score(X_test, y_test)}\")"
   ]
  },
  {
   "cell_type": "markdown",
   "metadata": {},
   "source": [
    "In a similar vein -- we find that reducing the number of columns at a particular split doesn't affect our final results too much.  This is useful because it means we go with a version of our model that uses < 1/6 of the memory of our original, but get very similar results.\n",
    "\n",
    "This can be very useful for using rapid prototypes, where long fitting times can be a drag.  \n",
    "\n",
    "Going with some version of these parameters can be helpful for trying out different versions of our data to see if we can improve our score."
   ]
  }
 ],
 "metadata": {
  "kernelspec": {
   "display_name": "Python 3",
   "language": "python",
   "name": "python3"
  },
  "language_info": {
   "codemirror_mode": {
    "name": "ipython",
    "version": 3
   },
   "file_extension": ".py",
   "mimetype": "text/x-python",
   "name": "python",
   "nbconvert_exporter": "python",
   "pygments_lexer": "ipython3",
   "version": "3.8.3"
  }
 },
 "nbformat": 4,
 "nbformat_minor": 4
}
