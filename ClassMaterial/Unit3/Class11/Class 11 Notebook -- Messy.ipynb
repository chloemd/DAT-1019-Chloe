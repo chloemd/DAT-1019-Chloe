{
 "cells": [
  {
   "cell_type": "code",
   "execution_count": 9,
   "metadata": {},
   "outputs": [],
   "source": [
    "import pandas as pd\n",
    "from sklearn.tree import DecisionTreeRegressor\n",
    "import numpy as np"
   ]
  },
  {
   "cell_type": "code",
   "execution_count": 2,
   "metadata": {},
   "outputs": [],
   "source": [
    "df = pd.read_csv('../data/housing.csv')"
   ]
  },
  {
   "cell_type": "code",
   "execution_count": 3,
   "metadata": {},
   "outputs": [
    {
     "data": {
      "text/html": [
       "<div>\n",
       "<style scoped>\n",
       "    .dataframe tbody tr th:only-of-type {\n",
       "        vertical-align: middle;\n",
       "    }\n",
       "\n",
       "    .dataframe tbody tr th {\n",
       "        vertical-align: top;\n",
       "    }\n",
       "\n",
       "    .dataframe thead th {\n",
       "        text-align: right;\n",
       "    }\n",
       "</style>\n",
       "<table border=\"1\" class=\"dataframe\">\n",
       "  <thead>\n",
       "    <tr style=\"text-align: right;\">\n",
       "      <th></th>\n",
       "      <th>CRIM</th>\n",
       "      <th>ZN</th>\n",
       "      <th>INDUS</th>\n",
       "      <th>CHAS</th>\n",
       "      <th>NOX</th>\n",
       "      <th>RM</th>\n",
       "      <th>AGE</th>\n",
       "      <th>DIS</th>\n",
       "      <th>RAD</th>\n",
       "      <th>TAX</th>\n",
       "      <th>PTRATIO</th>\n",
       "      <th>B</th>\n",
       "      <th>LSTAT</th>\n",
       "      <th>PRICE</th>\n",
       "    </tr>\n",
       "  </thead>\n",
       "  <tbody>\n",
       "    <tr>\n",
       "      <th>0</th>\n",
       "      <td>0.00632</td>\n",
       "      <td>18.0</td>\n",
       "      <td>2.31</td>\n",
       "      <td>0</td>\n",
       "      <td>0.538</td>\n",
       "      <td>6.575</td>\n",
       "      <td>65.2</td>\n",
       "      <td>4.0900</td>\n",
       "      <td>1</td>\n",
       "      <td>296</td>\n",
       "      <td>15.3</td>\n",
       "      <td>396.90</td>\n",
       "      <td>4.98</td>\n",
       "      <td>24.0</td>\n",
       "    </tr>\n",
       "    <tr>\n",
       "      <th>1</th>\n",
       "      <td>0.02731</td>\n",
       "      <td>0.0</td>\n",
       "      <td>7.07</td>\n",
       "      <td>0</td>\n",
       "      <td>0.469</td>\n",
       "      <td>6.421</td>\n",
       "      <td>78.9</td>\n",
       "      <td>4.9671</td>\n",
       "      <td>2</td>\n",
       "      <td>242</td>\n",
       "      <td>17.8</td>\n",
       "      <td>396.90</td>\n",
       "      <td>9.14</td>\n",
       "      <td>21.6</td>\n",
       "    </tr>\n",
       "    <tr>\n",
       "      <th>2</th>\n",
       "      <td>0.02729</td>\n",
       "      <td>0.0</td>\n",
       "      <td>7.07</td>\n",
       "      <td>0</td>\n",
       "      <td>0.469</td>\n",
       "      <td>7.185</td>\n",
       "      <td>61.1</td>\n",
       "      <td>4.9671</td>\n",
       "      <td>2</td>\n",
       "      <td>242</td>\n",
       "      <td>17.8</td>\n",
       "      <td>392.83</td>\n",
       "      <td>4.03</td>\n",
       "      <td>34.7</td>\n",
       "    </tr>\n",
       "    <tr>\n",
       "      <th>3</th>\n",
       "      <td>0.03237</td>\n",
       "      <td>0.0</td>\n",
       "      <td>2.18</td>\n",
       "      <td>0</td>\n",
       "      <td>0.458</td>\n",
       "      <td>6.998</td>\n",
       "      <td>45.8</td>\n",
       "      <td>6.0622</td>\n",
       "      <td>3</td>\n",
       "      <td>222</td>\n",
       "      <td>18.7</td>\n",
       "      <td>394.63</td>\n",
       "      <td>2.94</td>\n",
       "      <td>33.4</td>\n",
       "    </tr>\n",
       "    <tr>\n",
       "      <th>4</th>\n",
       "      <td>0.06905</td>\n",
       "      <td>0.0</td>\n",
       "      <td>2.18</td>\n",
       "      <td>0</td>\n",
       "      <td>0.458</td>\n",
       "      <td>7.147</td>\n",
       "      <td>54.2</td>\n",
       "      <td>6.0622</td>\n",
       "      <td>3</td>\n",
       "      <td>222</td>\n",
       "      <td>18.7</td>\n",
       "      <td>396.90</td>\n",
       "      <td>5.33</td>\n",
       "      <td>36.2</td>\n",
       "    </tr>\n",
       "    <tr>\n",
       "      <th>...</th>\n",
       "      <td>...</td>\n",
       "      <td>...</td>\n",
       "      <td>...</td>\n",
       "      <td>...</td>\n",
       "      <td>...</td>\n",
       "      <td>...</td>\n",
       "      <td>...</td>\n",
       "      <td>...</td>\n",
       "      <td>...</td>\n",
       "      <td>...</td>\n",
       "      <td>...</td>\n",
       "      <td>...</td>\n",
       "      <td>...</td>\n",
       "      <td>...</td>\n",
       "    </tr>\n",
       "    <tr>\n",
       "      <th>501</th>\n",
       "      <td>0.06263</td>\n",
       "      <td>0.0</td>\n",
       "      <td>11.93</td>\n",
       "      <td>0</td>\n",
       "      <td>0.573</td>\n",
       "      <td>6.593</td>\n",
       "      <td>69.1</td>\n",
       "      <td>2.4786</td>\n",
       "      <td>1</td>\n",
       "      <td>273</td>\n",
       "      <td>21.0</td>\n",
       "      <td>391.99</td>\n",
       "      <td>9.67</td>\n",
       "      <td>22.4</td>\n",
       "    </tr>\n",
       "    <tr>\n",
       "      <th>502</th>\n",
       "      <td>0.04527</td>\n",
       "      <td>0.0</td>\n",
       "      <td>11.93</td>\n",
       "      <td>0</td>\n",
       "      <td>0.573</td>\n",
       "      <td>6.120</td>\n",
       "      <td>76.7</td>\n",
       "      <td>2.2875</td>\n",
       "      <td>1</td>\n",
       "      <td>273</td>\n",
       "      <td>21.0</td>\n",
       "      <td>396.90</td>\n",
       "      <td>9.08</td>\n",
       "      <td>20.6</td>\n",
       "    </tr>\n",
       "    <tr>\n",
       "      <th>503</th>\n",
       "      <td>0.06076</td>\n",
       "      <td>0.0</td>\n",
       "      <td>11.93</td>\n",
       "      <td>0</td>\n",
       "      <td>0.573</td>\n",
       "      <td>6.976</td>\n",
       "      <td>91.0</td>\n",
       "      <td>2.1675</td>\n",
       "      <td>1</td>\n",
       "      <td>273</td>\n",
       "      <td>21.0</td>\n",
       "      <td>396.90</td>\n",
       "      <td>5.64</td>\n",
       "      <td>23.9</td>\n",
       "    </tr>\n",
       "    <tr>\n",
       "      <th>504</th>\n",
       "      <td>0.10959</td>\n",
       "      <td>0.0</td>\n",
       "      <td>11.93</td>\n",
       "      <td>0</td>\n",
       "      <td>0.573</td>\n",
       "      <td>6.794</td>\n",
       "      <td>89.3</td>\n",
       "      <td>2.3889</td>\n",
       "      <td>1</td>\n",
       "      <td>273</td>\n",
       "      <td>21.0</td>\n",
       "      <td>393.45</td>\n",
       "      <td>6.48</td>\n",
       "      <td>22.0</td>\n",
       "    </tr>\n",
       "    <tr>\n",
       "      <th>505</th>\n",
       "      <td>0.04741</td>\n",
       "      <td>0.0</td>\n",
       "      <td>11.93</td>\n",
       "      <td>0</td>\n",
       "      <td>0.573</td>\n",
       "      <td>6.030</td>\n",
       "      <td>80.8</td>\n",
       "      <td>2.5050</td>\n",
       "      <td>1</td>\n",
       "      <td>273</td>\n",
       "      <td>21.0</td>\n",
       "      <td>396.90</td>\n",
       "      <td>7.88</td>\n",
       "      <td>11.9</td>\n",
       "    </tr>\n",
       "  </tbody>\n",
       "</table>\n",
       "<p>506 rows × 14 columns</p>\n",
       "</div>"
      ],
      "text/plain": [
       "        CRIM    ZN  INDUS  CHAS    NOX     RM   AGE     DIS  RAD  TAX  \\\n",
       "0    0.00632  18.0   2.31     0  0.538  6.575  65.2  4.0900    1  296   \n",
       "1    0.02731   0.0   7.07     0  0.469  6.421  78.9  4.9671    2  242   \n",
       "2    0.02729   0.0   7.07     0  0.469  7.185  61.1  4.9671    2  242   \n",
       "3    0.03237   0.0   2.18     0  0.458  6.998  45.8  6.0622    3  222   \n",
       "4    0.06905   0.0   2.18     0  0.458  7.147  54.2  6.0622    3  222   \n",
       "..       ...   ...    ...   ...    ...    ...   ...     ...  ...  ...   \n",
       "501  0.06263   0.0  11.93     0  0.573  6.593  69.1  2.4786    1  273   \n",
       "502  0.04527   0.0  11.93     0  0.573  6.120  76.7  2.2875    1  273   \n",
       "503  0.06076   0.0  11.93     0  0.573  6.976  91.0  2.1675    1  273   \n",
       "504  0.10959   0.0  11.93     0  0.573  6.794  89.3  2.3889    1  273   \n",
       "505  0.04741   0.0  11.93     0  0.573  6.030  80.8  2.5050    1  273   \n",
       "\n",
       "     PTRATIO       B  LSTAT  PRICE  \n",
       "0       15.3  396.90   4.98   24.0  \n",
       "1       17.8  396.90   9.14   21.6  \n",
       "2       17.8  392.83   4.03   34.7  \n",
       "3       18.7  394.63   2.94   33.4  \n",
       "4       18.7  396.90   5.33   36.2  \n",
       "..       ...     ...    ...    ...  \n",
       "501     21.0  391.99   9.67   22.4  \n",
       "502     21.0  396.90   9.08   20.6  \n",
       "503     21.0  396.90   5.64   23.9  \n",
       "504     21.0  393.45   6.48   22.0  \n",
       "505     21.0  396.90   7.88   11.9  \n",
       "\n",
       "[506 rows x 14 columns]"
      ]
     },
     "execution_count": 3,
     "metadata": {},
     "output_type": "execute_result"
    }
   ],
   "source": [
    "df"
   ]
  },
  {
   "cell_type": "code",
   "execution_count": 4,
   "metadata": {},
   "outputs": [],
   "source": [
    "tree = DecisionTreeRegressor()"
   ]
  },
  {
   "cell_type": "code",
   "execution_count": 24,
   "metadata": {},
   "outputs": [],
   "source": [
    "left  = df[df.LSTAT < 9.67]\n",
    "right = df[df.LSTAT >= 9.67]"
   ]
  },
  {
   "cell_type": "code",
   "execution_count": 25,
   "metadata": {},
   "outputs": [],
   "source": [
    "root_error = np.mean((df['PRICE'] - df['PRICE'].mean())**2)"
   ]
  },
  {
   "cell_type": "code",
   "execution_count": 26,
   "metadata": {},
   "outputs": [],
   "source": [
    "right_error = np.mean((right['PRICE'] - right['PRICE'].mean())**2)\n",
    "left_error  = np.mean((left['PRICE'] - left['PRICE'].mean())**2)"
   ]
  },
  {
   "cell_type": "code",
   "execution_count": 27,
   "metadata": {},
   "outputs": [
    {
     "data": {
      "text/plain": [
       "24.32308736092969"
      ]
     },
     "execution_count": 27,
     "metadata": {},
     "output_type": "execute_result"
    }
   ],
   "source": [
    "right_error"
   ]
  },
  {
   "cell_type": "code",
   "execution_count": 28,
   "metadata": {},
   "outputs": [
    {
     "data": {
      "text/plain": [
       "79.95297868897926"
      ]
     },
     "execution_count": 28,
     "metadata": {},
     "output_type": "execute_result"
    }
   ],
   "source": [
    "left_error"
   ]
  },
  {
   "cell_type": "code",
   "execution_count": 29,
   "metadata": {},
   "outputs": [],
   "source": [
    "num_samples = df.shape[0]\n",
    "right_samples = right.shape[0]\n",
    "left_samples = left.shape[0]"
   ]
  },
  {
   "cell_type": "code",
   "execution_count": 30,
   "metadata": {},
   "outputs": [
    {
     "data": {
      "text/plain": [
       "506"
      ]
     },
     "execution_count": 30,
     "metadata": {},
     "output_type": "execute_result"
    }
   ],
   "source": [
    "num_samples"
   ]
  },
  {
   "cell_type": "code",
   "execution_count": 31,
   "metadata": {},
   "outputs": [
    {
     "data": {
      "text/plain": [
       "298"
      ]
     },
     "execution_count": 31,
     "metadata": {},
     "output_type": "execute_result"
    }
   ],
   "source": [
    "right_samples"
   ]
  },
  {
   "cell_type": "code",
   "execution_count": 32,
   "metadata": {},
   "outputs": [
    {
     "data": {
      "text/plain": [
       "208"
      ]
     },
     "execution_count": 32,
     "metadata": {},
     "output_type": "execute_result"
    }
   ],
   "source": [
    "left_samples"
   ]
  },
  {
   "cell_type": "code",
   "execution_count": 33,
   "metadata": {},
   "outputs": [
    {
     "data": {
      "text/plain": [
       "14.32466409793883"
      ]
     },
     "execution_count": 33,
     "metadata": {},
     "output_type": "execute_result"
    }
   ],
   "source": [
    "right_samples / num_samples * right_error"
   ]
  },
  {
   "cell_type": "code",
   "execution_count": 34,
   "metadata": {},
   "outputs": [
    {
     "data": {
      "text/plain": [
       "32.86604657570689"
      ]
     },
     "execution_count": 34,
     "metadata": {},
     "output_type": "execute_result"
    }
   ],
   "source": [
    "left_samples / num_samples * left_error"
   ]
  },
  {
   "cell_type": "code",
   "execution_count": 35,
   "metadata": {},
   "outputs": [
    {
     "data": {
      "text/plain": [
       "37.22884548251987"
      ]
     },
     "execution_count": 35,
     "metadata": {},
     "output_type": "execute_result"
    }
   ],
   "source": [
    "root_error - (right_samples / num_samples * right_error) - (left_samples / num_samples * left_error)"
   ]
  },
  {
   "cell_type": "code",
   "execution_count": null,
   "metadata": {},
   "outputs": [],
   "source": [
    "left  = left[left.Tax < 273]\n",
    "right = left[left.Tax >= 273]"
   ]
  },
  {
   "cell_type": "code",
   "execution_count": 59,
   "metadata": {},
   "outputs": [],
   "source": [
    "# initialize your algorithm\n",
    "tree = DecisionTreeRegressor(max_depth=3)"
   ]
  },
  {
   "cell_type": "code",
   "execution_count": 60,
   "metadata": {},
   "outputs": [
    {
     "data": {
      "text/plain": [
       "DecisionTreeRegressor(ccp_alpha=0.0, criterion='mse', max_depth=3,\n",
       "                      max_features=None, max_leaf_nodes=None,\n",
       "                      min_impurity_decrease=0.0, min_impurity_split=None,\n",
       "                      min_samples_leaf=1, min_samples_split=2,\n",
       "                      min_weight_fraction_leaf=0.0, presort='deprecated',\n",
       "                      random_state=None, splitter='best')"
      ]
     },
     "execution_count": 60,
     "metadata": {},
     "output_type": "execute_result"
    }
   ],
   "source": [
    "# declare X & y\n",
    "X = df.drop(['PRICE', 'Prediction'], axis=1)\n",
    "y = df['PRICE']\n",
    "\n",
    "tree.fit(X, y)"
   ]
  },
  {
   "cell_type": "code",
   "execution_count": 61,
   "metadata": {},
   "outputs": [
    {
     "data": {
      "image/svg+xml": [
       "<?xml version=\"1.0\" encoding=\"UTF-8\" standalone=\"no\"?>\r\n",
       "<!DOCTYPE svg PUBLIC \"-//W3C//DTD SVG 1.1//EN\"\r\n",
       " \"http://www.w3.org/Graphics/SVG/1.1/DTD/svg11.dtd\">\r\n",
       "<!-- Generated by graphviz version 2.38.0 (20140413.2041)\r\n",
       " -->\r\n",
       "<!-- Title: Tree Pages: 1 -->\r\n",
       "<svg width=\"720pt\" height=\"434pt\"\r\n",
       " viewBox=\"0.00 0.00 720.00 434.49\" xmlns=\"http://www.w3.org/2000/svg\" xmlns:xlink=\"http://www.w3.org/1999/xlink\">\r\n",
       "<g id=\"graph0\" class=\"graph\" transform=\"scale(0.778659 0.778659) rotate(0) translate(4 554)\">\r\n",
       "<title>Tree</title>\r\n",
       "<polygon fill=\"white\" stroke=\"none\" points=\"-4,4 -4,-554 920.667,-554 920.667,4 -4,4\"/>\r\n",
       "<!-- 0 -->\r\n",
       "<g id=\"node1\" class=\"node\"><title>0</title>\r\n",
       "<polygon fill=\"#f7d8c1\" stroke=\"black\" points=\"138.667,-308.5 40.6667,-308.5 40.6667,-240.5 138.667,-240.5 138.667,-308.5\"/>\r\n",
       "<text text-anchor=\"start\" x=\"62.1667\" y=\"-293.3\" font-family=\"Times New Roman,serif\" font-size=\"14.00\">RM ≤ 7.0</text>\r\n",
       "<text text-anchor=\"start\" x=\"58.1667\" y=\"-278.3\" font-family=\"Times New Roman,serif\" font-size=\"14.00\">mse = 84.0</text>\r\n",
       "<text text-anchor=\"start\" x=\"48.6667\" y=\"-263.3\" font-family=\"Times New Roman,serif\" font-size=\"14.00\">samples = 506</text>\r\n",
       "<text text-anchor=\"start\" x=\"55.1667\" y=\"-248.3\" font-family=\"Times New Roman,serif\" font-size=\"14.00\">value = 23.0</text>\r\n",
       "</g>\r\n",
       "<!-- 1 -->\r\n",
       "<g id=\"node2\" class=\"node\"><title>1</title>\r\n",
       "<polygon fill=\"#f9e1d1\" stroke=\"black\" points=\"385.667,-361.5 285.667,-361.5 285.667,-293.5 385.667,-293.5 385.667,-361.5\"/>\r\n",
       "<text text-anchor=\"start\" x=\"293.667\" y=\"-346.3\" font-family=\"Times New Roman,serif\" font-size=\"14.00\">LSTAT ≤ 14.0</text>\r\n",
       "<text text-anchor=\"start\" x=\"304.167\" y=\"-331.3\" font-family=\"Times New Roman,serif\" font-size=\"14.00\">mse = 40.0</text>\r\n",
       "<text text-anchor=\"start\" x=\"294.667\" y=\"-316.3\" font-family=\"Times New Roman,serif\" font-size=\"14.00\">samples = 430</text>\r\n",
       "<text text-anchor=\"start\" x=\"301.167\" y=\"-301.3\" font-family=\"Times New Roman,serif\" font-size=\"14.00\">value = 20.0</text>\r\n",
       "</g>\r\n",
       "<!-- 0&#45;&gt;1 -->\r\n",
       "<g id=\"edge1\" class=\"edge\"><title>0&#45;&gt;1</title>\r\n",
       "<path fill=\"none\" stroke=\"black\" d=\"M138.873,-284.971C178.089,-293.489 233.6,-305.547 275.505,-314.649\"/>\r\n",
       "<polygon fill=\"black\" stroke=\"black\" points=\"274.791,-318.076 285.306,-316.778 276.277,-311.235 274.791,-318.076\"/>\r\n",
       "<text text-anchor=\"middle\" x=\"264.279\" y=\"-326.601\" font-family=\"Times New Roman,serif\" font-size=\"14.00\">True</text>\r\n",
       "</g>\r\n",
       "<!-- 8 -->\r\n",
       "<g id=\"node9\" class=\"node\"><title>8</title>\r\n",
       "<polygon fill=\"#eca16c\" stroke=\"black\" points=\"381.167,-255.5 290.167,-255.5 290.167,-187.5 381.167,-187.5 381.167,-255.5\"/>\r\n",
       "<text text-anchor=\"start\" x=\"308.167\" y=\"-240.3\" font-family=\"Times New Roman,serif\" font-size=\"14.00\">RM ≤ 7.0</text>\r\n",
       "<text text-anchor=\"start\" x=\"304.167\" y=\"-225.3\" font-family=\"Times New Roman,serif\" font-size=\"14.00\">mse = 80.0</text>\r\n",
       "<text text-anchor=\"start\" x=\"298.167\" y=\"-210.3\" font-family=\"Times New Roman,serif\" font-size=\"14.00\">samples = 76</text>\r\n",
       "<text text-anchor=\"start\" x=\"301.167\" y=\"-195.3\" font-family=\"Times New Roman,serif\" font-size=\"14.00\">value = 37.0</text>\r\n",
       "</g>\r\n",
       "<!-- 0&#45;&gt;8 -->\r\n",
       "<g id=\"edge8\" class=\"edge\"><title>0&#45;&gt;8</title>\r\n",
       "<path fill=\"none\" stroke=\"black\" d=\"M138.873,-264.029C179.504,-255.203 237.625,-242.579 279.984,-233.378\"/>\r\n",
       "<polygon fill=\"black\" stroke=\"black\" points=\"280.822,-236.777 289.851,-231.235 279.336,-229.937 280.822,-236.777\"/>\r\n",
       "<text text-anchor=\"middle\" x=\"268.824\" y=\"-214.012\" font-family=\"Times New Roman,serif\" font-size=\"14.00\">False</text>\r\n",
       "</g>\r\n",
       "<!-- 2 -->\r\n",
       "<g id=\"node3\" class=\"node\"><title>2</title>\r\n",
       "<polygon fill=\"#f6d5bd\" stroke=\"black\" points=\"631.667,-486.5 533.667,-486.5 533.667,-418.5 631.667,-418.5 631.667,-486.5\"/>\r\n",
       "<text text-anchor=\"start\" x=\"555.167\" y=\"-471.3\" font-family=\"Times New Roman,serif\" font-size=\"14.00\">DIS ≤ 1.0</text>\r\n",
       "<text text-anchor=\"start\" x=\"551.167\" y=\"-456.3\" font-family=\"Times New Roman,serif\" font-size=\"14.00\">mse = 26.0</text>\r\n",
       "<text text-anchor=\"start\" x=\"541.667\" y=\"-441.3\" font-family=\"Times New Roman,serif\" font-size=\"14.00\">samples = 255</text>\r\n",
       "<text text-anchor=\"start\" x=\"548.167\" y=\"-426.3\" font-family=\"Times New Roman,serif\" font-size=\"14.00\">value = 23.0</text>\r\n",
       "</g>\r\n",
       "<!-- 1&#45;&gt;2 -->\r\n",
       "<g id=\"edge2\" class=\"edge\"><title>1&#45;&gt;2</title>\r\n",
       "<path fill=\"none\" stroke=\"black\" d=\"M385.951,-352.645C425.917,-373.036 482.306,-401.806 524.298,-423.23\"/>\r\n",
       "<polygon fill=\"black\" stroke=\"black\" points=\"522.798,-426.394 533.296,-427.821 525.979,-420.159 522.798,-426.394\"/>\r\n",
       "</g>\r\n",
       "<!-- 5 -->\r\n",
       "<g id=\"node6\" class=\"node\"><title>5</title>\r\n",
       "<polygon fill=\"#fdf4ee\" stroke=\"black\" points=\"631.667,-361.5 533.667,-361.5 533.667,-293.5 631.667,-293.5 631.667,-361.5\"/>\r\n",
       "<text text-anchor=\"start\" x=\"548.167\" y=\"-346.3\" font-family=\"Times New Roman,serif\" font-size=\"14.00\">CRIM ≤ 7.0</text>\r\n",
       "<text text-anchor=\"start\" x=\"551.167\" y=\"-331.3\" font-family=\"Times New Roman,serif\" font-size=\"14.00\">mse = 19.0</text>\r\n",
       "<text text-anchor=\"start\" x=\"541.667\" y=\"-316.3\" font-family=\"Times New Roman,serif\" font-size=\"14.00\">samples = 175</text>\r\n",
       "<text text-anchor=\"start\" x=\"548.167\" y=\"-301.3\" font-family=\"Times New Roman,serif\" font-size=\"14.00\">value = 15.0</text>\r\n",
       "</g>\r\n",
       "<!-- 1&#45;&gt;5 -->\r\n",
       "<g id=\"edge5\" class=\"edge\"><title>1&#45;&gt;5</title>\r\n",
       "<path fill=\"none\" stroke=\"black\" d=\"M385.951,-327.5C425.582,-327.5 481.361,-327.5 523.238,-327.5\"/>\r\n",
       "<polygon fill=\"black\" stroke=\"black\" points=\"523.296,-331 533.296,-327.5 523.296,-324 523.296,-331\"/>\r\n",
       "</g>\r\n",
       "<!-- 3 -->\r\n",
       "<g id=\"node4\" class=\"node\"><title>3</title>\r\n",
       "<polygon fill=\"#e5823b\" stroke=\"black\" points=\"870.167,-550 785.167,-550 785.167,-497 870.167,-497 870.167,-550\"/>\r\n",
       "<text text-anchor=\"start\" x=\"796.167\" y=\"-534.8\" font-family=\"Times New Roman,serif\" font-size=\"14.00\">mse = 78.0</text>\r\n",
       "<text text-anchor=\"start\" x=\"793.667\" y=\"-519.8\" font-family=\"Times New Roman,serif\" font-size=\"14.00\">samples = 5</text>\r\n",
       "<text text-anchor=\"start\" x=\"793.167\" y=\"-504.8\" font-family=\"Times New Roman,serif\" font-size=\"14.00\">value = 46.0</text>\r\n",
       "</g>\r\n",
       "<!-- 2&#45;&gt;3 -->\r\n",
       "<g id=\"edge3\" class=\"edge\"><title>2&#45;&gt;3</title>\r\n",
       "<path fill=\"none\" stroke=\"black\" d=\"M631.676,-466.527C673.036,-478.612 732.596,-496.014 774.989,-508.401\"/>\r\n",
       "<polygon fill=\"black\" stroke=\"black\" points=\"774.255,-511.833 784.835,-511.278 776.218,-505.113 774.255,-511.833\"/>\r\n",
       "</g>\r\n",
       "<!-- 4 -->\r\n",
       "<g id=\"node5\" class=\"node\"><title>4</title>\r\n",
       "<polygon fill=\"#f7d6bf\" stroke=\"black\" points=\"876.667,-479 778.667,-479 778.667,-426 876.667,-426 876.667,-479\"/>\r\n",
       "<text text-anchor=\"start\" x=\"796.167\" y=\"-463.8\" font-family=\"Times New Roman,serif\" font-size=\"14.00\">mse = 15.0</text>\r\n",
       "<text text-anchor=\"start\" x=\"786.667\" y=\"-448.8\" font-family=\"Times New Roman,serif\" font-size=\"14.00\">samples = 250</text>\r\n",
       "<text text-anchor=\"start\" x=\"793.167\" y=\"-433.8\" font-family=\"Times New Roman,serif\" font-size=\"14.00\">value = 23.0</text>\r\n",
       "</g>\r\n",
       "<!-- 2&#45;&gt;4 -->\r\n",
       "<g id=\"edge4\" class=\"edge\"><title>2&#45;&gt;4</title>\r\n",
       "<path fill=\"none\" stroke=\"black\" d=\"M631.676,-452.5C670.904,-452.5 726.504,-452.5 768.302,-452.5\"/>\r\n",
       "<polygon fill=\"black\" stroke=\"black\" points=\"768.342,-456 778.342,-452.5 768.342,-449 768.342,-456\"/>\r\n",
       "</g>\r\n",
       "<!-- 6 -->\r\n",
       "<g id=\"node7\" class=\"node\"><title>6</title>\r\n",
       "<polygon fill=\"#fbece1\" stroke=\"black\" points=\"876.667,-408 778.667,-408 778.667,-355 876.667,-355 876.667,-408\"/>\r\n",
       "<text text-anchor=\"start\" x=\"796.167\" y=\"-392.8\" font-family=\"Times New Roman,serif\" font-size=\"14.00\">mse = 11.0</text>\r\n",
       "<text text-anchor=\"start\" x=\"786.667\" y=\"-377.8\" font-family=\"Times New Roman,serif\" font-size=\"14.00\">samples = 101</text>\r\n",
       "<text text-anchor=\"start\" x=\"793.167\" y=\"-362.8\" font-family=\"Times New Roman,serif\" font-size=\"14.00\">value = 17.0</text>\r\n",
       "</g>\r\n",
       "<!-- 5&#45;&gt;6 -->\r\n",
       "<g id=\"edge6\" class=\"edge\"><title>5&#45;&gt;6</title>\r\n",
       "<path fill=\"none\" stroke=\"black\" d=\"M631.676,-338.169C670.987,-346.905 726.74,-359.294 768.567,-368.589\"/>\r\n",
       "<polygon fill=\"black\" stroke=\"black\" points=\"767.821,-372.008 778.342,-370.761 769.34,-365.175 767.821,-372.008\"/>\r\n",
       "</g>\r\n",
       "<!-- 7 -->\r\n",
       "<g id=\"node8\" class=\"node\"><title>7</title>\r\n",
       "<polygon fill=\"#ffffff\" stroke=\"black\" points=\"873.167,-337 782.167,-337 782.167,-284 873.167,-284 873.167,-337\"/>\r\n",
       "<text text-anchor=\"start\" x=\"796.167\" y=\"-321.8\" font-family=\"Times New Roman,serif\" font-size=\"14.00\">mse = 15.0</text>\r\n",
       "<text text-anchor=\"start\" x=\"790.167\" y=\"-306.8\" font-family=\"Times New Roman,serif\" font-size=\"14.00\">samples = 74</text>\r\n",
       "<text text-anchor=\"start\" x=\"793.167\" y=\"-291.8\" font-family=\"Times New Roman,serif\" font-size=\"14.00\">value = 12.0</text>\r\n",
       "</g>\r\n",
       "<!-- 5&#45;&gt;7 -->\r\n",
       "<g id=\"edge7\" class=\"edge\"><title>5&#45;&gt;7</title>\r\n",
       "<path fill=\"none\" stroke=\"black\" d=\"M631.676,-324.141C672.054,-321.317 729.779,-317.278 771.941,-314.329\"/>\r\n",
       "<polygon fill=\"black\" stroke=\"black\" points=\"772.304,-317.812 782.035,-313.622 771.815,-310.829 772.304,-317.812\"/>\r\n",
       "</g>\r\n",
       "<!-- 9 -->\r\n",
       "<g id=\"node10\" class=\"node\"><title>9</title>\r\n",
       "<polygon fill=\"#f0b489\" stroke=\"black\" points=\"628.167,-255.5 537.167,-255.5 537.167,-187.5 628.167,-187.5 628.167,-255.5\"/>\r\n",
       "<text text-anchor=\"start\" x=\"548.167\" y=\"-240.3\" font-family=\"Times New Roman,serif\" font-size=\"14.00\">CRIM ≤ 7.0</text>\r\n",
       "<text text-anchor=\"start\" x=\"551.167\" y=\"-225.3\" font-family=\"Times New Roman,serif\" font-size=\"14.00\">mse = 41.0</text>\r\n",
       "<text text-anchor=\"start\" x=\"545.167\" y=\"-210.3\" font-family=\"Times New Roman,serif\" font-size=\"14.00\">samples = 46</text>\r\n",
       "<text text-anchor=\"start\" x=\"548.167\" y=\"-195.3\" font-family=\"Times New Roman,serif\" font-size=\"14.00\">value = 32.0</text>\r\n",
       "</g>\r\n",
       "<!-- 8&#45;&gt;9 -->\r\n",
       "<g id=\"edge9\" class=\"edge\"><title>8&#45;&gt;9</title>\r\n",
       "<path fill=\"none\" stroke=\"black\" d=\"M381.319,-221.5C422.207,-221.5 482.854,-221.5 526.704,-221.5\"/>\r\n",
       "<polygon fill=\"black\" stroke=\"black\" points=\"526.908,-225 536.908,-221.5 526.908,-218 526.908,-225\"/>\r\n",
       "</g>\r\n",
       "<!-- 12 -->\r\n",
       "<g id=\"node13\" class=\"node\"><title>12</title>\r\n",
       "<polygon fill=\"#e6843e\" stroke=\"black\" points=\"628.167,-131.5 537.167,-131.5 537.167,-63.5 628.167,-63.5 628.167,-131.5\"/>\r\n",
       "<text text-anchor=\"start\" x=\"551.167\" y=\"-116.3\" font-family=\"Times New Roman,serif\" font-size=\"14.00\">NOX ≤ 1.0</text>\r\n",
       "<text text-anchor=\"start\" x=\"551.167\" y=\"-101.3\" font-family=\"Times New Roman,serif\" font-size=\"14.00\">mse = 37.0</text>\r\n",
       "<text text-anchor=\"start\" x=\"545.167\" y=\"-86.3\" font-family=\"Times New Roman,serif\" font-size=\"14.00\">samples = 30</text>\r\n",
       "<text text-anchor=\"start\" x=\"548.167\" y=\"-71.3\" font-family=\"Times New Roman,serif\" font-size=\"14.00\">value = 45.0</text>\r\n",
       "</g>\r\n",
       "<!-- 8&#45;&gt;12 -->\r\n",
       "<g id=\"edge12\" class=\"edge\"><title>8&#45;&gt;12</title>\r\n",
       "<path fill=\"none\" stroke=\"black\" d=\"M381.319,-198.901C422.552,-178.031 483.879,-146.993 527.811,-124.758\"/>\r\n",
       "<polygon fill=\"black\" stroke=\"black\" points=\"529.566,-127.792 536.908,-120.153 526.405,-121.546 529.566,-127.792\"/>\r\n",
       "</g>\r\n",
       "<!-- 10 -->\r\n",
       "<g id=\"node11\" class=\"node\"><title>10</title>\r\n",
       "<polygon fill=\"#efb082\" stroke=\"black\" points=\"873.167,-266 782.167,-266 782.167,-213 873.167,-213 873.167,-266\"/>\r\n",
       "<text text-anchor=\"start\" x=\"796.167\" y=\"-250.8\" font-family=\"Times New Roman,serif\" font-size=\"14.00\">mse = 20.0</text>\r\n",
       "<text text-anchor=\"start\" x=\"790.167\" y=\"-235.8\" font-family=\"Times New Roman,serif\" font-size=\"14.00\">samples = 43</text>\r\n",
       "<text text-anchor=\"start\" x=\"793.167\" y=\"-220.8\" font-family=\"Times New Roman,serif\" font-size=\"14.00\">value = 33.0</text>\r\n",
       "</g>\r\n",
       "<!-- 9&#45;&gt;10 -->\r\n",
       "<g id=\"edge10\" class=\"edge\"><title>9&#45;&gt;10</title>\r\n",
       "<path fill=\"none\" stroke=\"black\" d=\"M628.237,-224.801C668.701,-227.799 728.503,-232.229 771.873,-235.441\"/>\r\n",
       "<polygon fill=\"black\" stroke=\"black\" points=\"771.737,-238.941 781.968,-236.189 772.254,-231.96 771.737,-238.941\"/>\r\n",
       "</g>\r\n",
       "<!-- 11 -->\r\n",
       "<g id=\"node12\" class=\"node\"><title>11</title>\r\n",
       "<polygon fill=\"#fdf6f1\" stroke=\"black\" points=\"870.167,-195 785.167,-195 785.167,-142 870.167,-142 870.167,-195\"/>\r\n",
       "<text text-anchor=\"start\" x=\"799.667\" y=\"-179.8\" font-family=\"Times New Roman,serif\" font-size=\"14.00\">mse = 9.0</text>\r\n",
       "<text text-anchor=\"start\" x=\"793.667\" y=\"-164.8\" font-family=\"Times New Roman,serif\" font-size=\"14.00\">samples = 3</text>\r\n",
       "<text text-anchor=\"start\" x=\"793.167\" y=\"-149.8\" font-family=\"Times New Roman,serif\" font-size=\"14.00\">value = 14.0</text>\r\n",
       "</g>\r\n",
       "<!-- 9&#45;&gt;11 -->\r\n",
       "<g id=\"edge11\" class=\"edge\"><title>9&#45;&gt;11</title>\r\n",
       "<path fill=\"none\" stroke=\"black\" d=\"M628.237,-211.779C669.676,-202.741 731.397,-189.279 774.98,-179.773\"/>\r\n",
       "<polygon fill=\"black\" stroke=\"black\" points=\"775.791,-183.179 784.816,-177.628 774.3,-176.339 775.791,-183.179\"/>\r\n",
       "</g>\r\n",
       "<!-- 13 -->\r\n",
       "<g id=\"node14\" class=\"node\"><title>13</title>\r\n",
       "<polygon fill=\"#e58139\" stroke=\"black\" points=\"873.167,-124 782.167,-124 782.167,-71 873.167,-71 873.167,-124\"/>\r\n",
       "<text text-anchor=\"start\" x=\"796.167\" y=\"-108.8\" font-family=\"Times New Roman,serif\" font-size=\"14.00\">mse = 19.0</text>\r\n",
       "<text text-anchor=\"start\" x=\"790.167\" y=\"-93.8\" font-family=\"Times New Roman,serif\" font-size=\"14.00\">samples = 29</text>\r\n",
       "<text text-anchor=\"start\" x=\"793.167\" y=\"-78.8\" font-family=\"Times New Roman,serif\" font-size=\"14.00\">value = 46.0</text>\r\n",
       "</g>\r\n",
       "<!-- 12&#45;&gt;13 -->\r\n",
       "<g id=\"edge13\" class=\"edge\"><title>12&#45;&gt;13</title>\r\n",
       "<path fill=\"none\" stroke=\"black\" d=\"M628.237,-97.5C668.701,-97.5 728.503,-97.5 771.873,-97.5\"/>\r\n",
       "<polygon fill=\"black\" stroke=\"black\" points=\"771.969,-101 781.968,-97.5 771.968,-94.0001 771.969,-101\"/>\r\n",
       "</g>\r\n",
       "<!-- 14 -->\r\n",
       "<g id=\"node15\" class=\"node\"><title>14</title>\r\n",
       "<polygon fill=\"#f7dac5\" stroke=\"black\" points=\"870.167,-53 785.167,-53 785.167,-0 870.167,-0 870.167,-53\"/>\r\n",
       "<text text-anchor=\"start\" x=\"797.167\" y=\"-37.8\" font-family=\"Times New Roman,serif\" font-size=\"14.00\">mse = &#45;0.0</text>\r\n",
       "<text text-anchor=\"start\" x=\"793.667\" y=\"-22.8\" font-family=\"Times New Roman,serif\" font-size=\"14.00\">samples = 1</text>\r\n",
       "<text text-anchor=\"start\" x=\"793.167\" y=\"-7.8\" font-family=\"Times New Roman,serif\" font-size=\"14.00\">value = 22.0</text>\r\n",
       "</g>\r\n",
       "<!-- 12&#45;&gt;14 -->\r\n",
       "<g id=\"edge14\" class=\"edge\"><title>12&#45;&gt;14</title>\r\n",
       "<path fill=\"none\" stroke=\"black\" d=\"M628.237,-84.4775C669.676,-72.3697 731.397,-54.3359 774.98,-41.602\"/>\r\n",
       "<polygon fill=\"black\" stroke=\"black\" points=\"776.199,-44.8922 784.816,-38.7281 774.235,-38.1731 776.199,-44.8922\"/>\r\n",
       "</g>\r\n",
       "</g>\r\n",
       "</svg>\r\n"
      ],
      "text/plain": [
       "<graphviz.files.Source at 0x191c5377550>"
      ]
     },
     "metadata": {},
     "output_type": "display_data"
    }
   ],
   "source": [
    "from prep import draw_tree\n",
    "\n",
    "draw_tree(tree, X)"
   ]
  },
  {
   "cell_type": "code",
   "execution_count": 41,
   "metadata": {},
   "outputs": [],
   "source": [
    "# this will go ahead and make predictions from your data\n",
    "df['Prediction'] = tree.predict(X)"
   ]
  },
  {
   "cell_type": "code",
   "execution_count": 42,
   "metadata": {},
   "outputs": [
    {
     "data": {
      "text/html": [
       "<div>\n",
       "<style scoped>\n",
       "    .dataframe tbody tr th:only-of-type {\n",
       "        vertical-align: middle;\n",
       "    }\n",
       "\n",
       "    .dataframe tbody tr th {\n",
       "        vertical-align: top;\n",
       "    }\n",
       "\n",
       "    .dataframe thead th {\n",
       "        text-align: right;\n",
       "    }\n",
       "</style>\n",
       "<table border=\"1\" class=\"dataframe\">\n",
       "  <thead>\n",
       "    <tr style=\"text-align: right;\">\n",
       "      <th></th>\n",
       "      <th>CRIM</th>\n",
       "      <th>ZN</th>\n",
       "      <th>INDUS</th>\n",
       "      <th>CHAS</th>\n",
       "      <th>NOX</th>\n",
       "      <th>RM</th>\n",
       "      <th>AGE</th>\n",
       "      <th>DIS</th>\n",
       "      <th>RAD</th>\n",
       "      <th>TAX</th>\n",
       "      <th>PTRATIO</th>\n",
       "      <th>B</th>\n",
       "      <th>LSTAT</th>\n",
       "      <th>PRICE</th>\n",
       "      <th>Prediction</th>\n",
       "    </tr>\n",
       "  </thead>\n",
       "  <tbody>\n",
       "    <tr>\n",
       "      <th>0</th>\n",
       "      <td>0.00632</td>\n",
       "      <td>18.0</td>\n",
       "      <td>2.31</td>\n",
       "      <td>0</td>\n",
       "      <td>0.538</td>\n",
       "      <td>6.575</td>\n",
       "      <td>65.2</td>\n",
       "      <td>4.0900</td>\n",
       "      <td>1</td>\n",
       "      <td>296</td>\n",
       "      <td>15.3</td>\n",
       "      <td>396.90</td>\n",
       "      <td>4.98</td>\n",
       "      <td>24.0</td>\n",
       "      <td>27.427273</td>\n",
       "    </tr>\n",
       "    <tr>\n",
       "      <th>1</th>\n",
       "      <td>0.02731</td>\n",
       "      <td>0.0</td>\n",
       "      <td>7.07</td>\n",
       "      <td>0</td>\n",
       "      <td>0.469</td>\n",
       "      <td>6.421</td>\n",
       "      <td>78.9</td>\n",
       "      <td>4.9671</td>\n",
       "      <td>2</td>\n",
       "      <td>242</td>\n",
       "      <td>17.8</td>\n",
       "      <td>396.90</td>\n",
       "      <td>9.14</td>\n",
       "      <td>21.6</td>\n",
       "      <td>21.629744</td>\n",
       "    </tr>\n",
       "    <tr>\n",
       "      <th>2</th>\n",
       "      <td>0.02729</td>\n",
       "      <td>0.0</td>\n",
       "      <td>7.07</td>\n",
       "      <td>0</td>\n",
       "      <td>0.469</td>\n",
       "      <td>7.185</td>\n",
       "      <td>61.1</td>\n",
       "      <td>4.9671</td>\n",
       "      <td>2</td>\n",
       "      <td>242</td>\n",
       "      <td>17.8</td>\n",
       "      <td>392.83</td>\n",
       "      <td>4.03</td>\n",
       "      <td>34.7</td>\n",
       "      <td>32.748780</td>\n",
       "    </tr>\n",
       "    <tr>\n",
       "      <th>3</th>\n",
       "      <td>0.03237</td>\n",
       "      <td>0.0</td>\n",
       "      <td>2.18</td>\n",
       "      <td>0</td>\n",
       "      <td>0.458</td>\n",
       "      <td>6.998</td>\n",
       "      <td>45.8</td>\n",
       "      <td>6.0622</td>\n",
       "      <td>3</td>\n",
       "      <td>222</td>\n",
       "      <td>18.7</td>\n",
       "      <td>394.63</td>\n",
       "      <td>2.94</td>\n",
       "      <td>33.4</td>\n",
       "      <td>32.748780</td>\n",
       "    </tr>\n",
       "    <tr>\n",
       "      <th>4</th>\n",
       "      <td>0.06905</td>\n",
       "      <td>0.0</td>\n",
       "      <td>2.18</td>\n",
       "      <td>0</td>\n",
       "      <td>0.458</td>\n",
       "      <td>7.147</td>\n",
       "      <td>54.2</td>\n",
       "      <td>6.0622</td>\n",
       "      <td>3</td>\n",
       "      <td>222</td>\n",
       "      <td>18.7</td>\n",
       "      <td>396.90</td>\n",
       "      <td>5.33</td>\n",
       "      <td>36.2</td>\n",
       "      <td>32.748780</td>\n",
       "    </tr>\n",
       "  </tbody>\n",
       "</table>\n",
       "</div>"
      ],
      "text/plain": [
       "      CRIM    ZN  INDUS  CHAS    NOX     RM   AGE     DIS  RAD  TAX  PTRATIO  \\\n",
       "0  0.00632  18.0   2.31     0  0.538  6.575  65.2  4.0900    1  296     15.3   \n",
       "1  0.02731   0.0   7.07     0  0.469  6.421  78.9  4.9671    2  242     17.8   \n",
       "2  0.02729   0.0   7.07     0  0.469  7.185  61.1  4.9671    2  242     17.8   \n",
       "3  0.03237   0.0   2.18     0  0.458  6.998  45.8  6.0622    3  222     18.7   \n",
       "4  0.06905   0.0   2.18     0  0.458  7.147  54.2  6.0622    3  222     18.7   \n",
       "\n",
       "        B  LSTAT  PRICE  Prediction  \n",
       "0  396.90   4.98   24.0   27.427273  \n",
       "1  396.90   9.14   21.6   21.629744  \n",
       "2  392.83   4.03   34.7   32.748780  \n",
       "3  394.63   2.94   33.4   32.748780  \n",
       "4  396.90   5.33   36.2   32.748780  "
      ]
     },
     "execution_count": 42,
     "metadata": {},
     "output_type": "execute_result"
    }
   ],
   "source": [
    "df.head()"
   ]
  },
  {
   "cell_type": "code",
   "execution_count": 43,
   "metadata": {},
   "outputs": [
    {
     "data": {
      "text/plain": [
       "array([6.575, 6.421, 7.185, 6.998, 7.147, 6.43 , 6.012, 6.172, 5.631,\n",
       "       6.004, 6.377, 6.009, 5.889, 5.949, 6.096, 5.834, 5.935, 5.99 ,\n",
       "       5.456, 5.727, 5.57 , 5.965, 6.142, 5.813, 5.924, 5.599, 6.047,\n",
       "       6.495, 6.674, 5.713, 6.072, 5.95 , 5.701, 5.933, 5.841, 5.85 ,\n",
       "       5.966, 6.595, 7.024, 6.77 , 6.169, 6.211, 6.069, 5.682, 5.786,\n",
       "       6.03 , 5.399, 5.602, 5.963, 6.115, 6.511, 5.998, 5.888, 7.249,\n",
       "       6.383, 6.816, 6.145, 5.927, 5.741, 6.456, 6.762, 7.104, 6.29 ,\n",
       "       5.787, 5.878, 5.594, 5.885, 6.417, 5.961, 6.065, 6.245, 6.273,\n",
       "       6.286, 6.279, 6.14 , 6.232, 5.874, 6.727, 6.619, 6.302, 6.167,\n",
       "       6.389, 6.63 , 6.015, 6.121, 7.007, 7.079, 6.405, 6.442, 6.249,\n",
       "       6.625, 6.163, 8.069, 7.82 , 7.416, 6.781, 6.137, 5.851, 5.836,\n",
       "       6.127, 6.474, 6.229, 6.195, 6.715, 5.913, 6.092, 6.254, 5.928,\n",
       "       6.176, 6.021, 5.872, 5.731, 5.87 , 5.856, 5.879, 5.986, 5.613,\n",
       "       5.693, 6.431, 5.637, 6.458, 6.326, 6.372, 5.822, 5.757, 6.335,\n",
       "       5.942, 6.454, 5.857, 6.151, 6.174, 5.019, 5.403, 5.468, 4.903,\n",
       "       6.13 , 5.628, 4.926, 5.186, 5.597, 6.122, 5.404, 5.012, 5.709,\n",
       "       6.129, 6.152, 5.272, 6.943, 6.066, 6.51 , 6.25 , 7.489, 7.802,\n",
       "       8.375, 5.854, 6.101, 7.929, 5.877, 6.319, 6.402, 5.875, 5.88 ,\n",
       "       5.572, 6.416, 5.859, 6.546, 6.02 , 6.315, 6.86 , 6.98 , 7.765,\n",
       "       6.144, 7.155, 6.563, 5.604, 6.153, 7.831, 6.782, 6.556, 6.951,\n",
       "       6.739, 7.178, 6.8  , 6.604, 7.875, 7.287, 7.107, 7.274, 6.975,\n",
       "       7.135, 6.162, 7.61 , 7.853, 8.034, 5.891, 5.783, 6.064, 5.344,\n",
       "       5.96 , 5.807, 6.375, 5.412, 6.182, 6.642, 5.951, 6.373, 6.164,\n",
       "       6.879, 6.618, 8.266, 8.725, 8.04 , 7.163, 7.686, 6.552, 5.981,\n",
       "       7.412, 8.337, 8.247, 6.726, 6.086, 6.631, 7.358, 6.481, 6.606,\n",
       "       6.897, 6.095, 6.358, 6.393, 5.593, 5.605, 6.108, 6.226, 6.433,\n",
       "       6.718, 6.487, 6.438, 6.957, 8.259, 5.876, 7.454, 8.704, 7.333,\n",
       "       6.842, 7.203, 7.52 , 8.398, 7.327, 7.206, 5.56 , 7.014, 8.297,\n",
       "       7.47 , 5.92 , 6.24 , 6.538, 7.691, 6.758, 6.854, 7.267, 6.826,\n",
       "       6.482, 6.812, 6.968, 7.645, 7.923, 7.088, 6.453, 6.23 , 6.209,\n",
       "       6.565, 6.861, 7.148, 6.678, 6.549, 5.79 , 6.345, 7.041, 6.871,\n",
       "       6.59 , 6.982, 7.236, 6.616, 7.42 , 6.849, 6.635, 5.972, 4.973,\n",
       "       6.023, 6.266, 6.567, 5.705, 5.914, 5.782, 6.382, 6.113, 6.426,\n",
       "       6.376, 6.041, 5.708, 6.415, 6.312, 6.083, 5.868, 6.333, 5.706,\n",
       "       6.031, 6.316, 6.31 , 6.037, 5.869, 5.895, 6.059, 5.985, 5.968,\n",
       "       7.241, 6.54 , 6.696, 6.874, 6.014, 5.898, 6.516, 6.939, 6.49 ,\n",
       "       6.579, 5.884, 6.728, 5.663, 5.936, 6.212, 6.395, 6.112, 6.398,\n",
       "       6.251, 5.362, 5.803, 8.78 , 3.561, 4.963, 3.863, 4.97 , 6.683,\n",
       "       7.016, 6.216, 4.906, 4.138, 7.313, 6.649, 6.794, 6.38 , 6.223,\n",
       "       6.545, 5.536, 5.52 , 4.368, 5.277, 4.652, 5.   , 4.88 , 5.39 ,\n",
       "       6.051, 5.036, 6.193, 5.887, 6.471, 5.747, 5.453, 5.852, 5.987,\n",
       "       6.343, 6.404, 5.349, 5.531, 5.683, 5.608, 5.617, 6.852, 6.657,\n",
       "       4.628, 5.155, 4.519, 6.434, 5.304, 5.957, 6.824, 6.411, 6.006,\n",
       "       5.648, 6.103, 5.565, 5.896, 5.837, 6.202, 6.348, 6.833, 6.425,\n",
       "       6.436, 6.208, 6.629, 6.461, 5.627, 5.818, 6.406, 6.219, 6.485,\n",
       "       6.459, 6.341, 6.185, 6.749, 6.655, 6.297, 7.393, 6.525, 5.976,\n",
       "       6.301, 6.081, 6.701, 6.317, 6.513, 5.759, 5.952, 6.003, 5.926,\n",
       "       6.437, 5.427, 6.484, 6.242, 6.75 , 7.061, 5.762, 5.871, 6.114,\n",
       "       5.905, 5.454, 5.414, 5.093, 5.983, 5.707, 5.67 , 5.794, 6.019,\n",
       "       5.569, 6.027, 6.593, 6.12 , 6.976])"
      ]
     },
     "execution_count": 43,
     "metadata": {},
     "output_type": "execute_result"
    }
   ],
   "source": [
    "df['RM'].unique()"
   ]
  },
  {
   "cell_type": "code",
   "execution_count": 55,
   "metadata": {},
   "outputs": [],
   "source": [
    "max_gain = 0\n",
    "col_split = None\n",
    "\n",
    "for col in df.columns:\n",
    "    for value in df[col].unique():\n",
    "        left = df[df[col] < value]\n",
    "        right = df[df[col] >= value]\n",
    "        root_error = np.mean(df['PRICE'] - df['PRICE'].mean()**2)\n",
    "        \n",
    "        left_error = np.mean(left['PRICE'] - left['PRICE'].mean()**2)\n",
    "        right_error = np.mean(right['PRICE'] - right['PRICE'].mean()**2)\n",
    "        \n",
    "        info_gain = root_error - (right.shape[0]/df.shape[0]) * right_error - (left.shape[0] / df.shape[0])*left_error\n",
    "        if info_gain > max_gain:\n",
    "            max_gain = info_gain\n",
    "            col_split = col"
   ]
  },
  {
   "cell_type": "code",
   "execution_count": 56,
   "metadata": {},
   "outputs": [
    {
     "data": {
      "text/plain": [
       "53.41490142053823"
      ]
     },
     "execution_count": 56,
     "metadata": {},
     "output_type": "execute_result"
    }
   ],
   "source": [
    "max_gain"
   ]
  },
  {
   "cell_type": "code",
   "execution_count": 57,
   "metadata": {},
   "outputs": [
    {
     "data": {
      "text/plain": [
       "'PRICE'"
      ]
     },
     "execution_count": 57,
     "metadata": {},
     "output_type": "execute_result"
    }
   ],
   "source": [
    "col_split"
   ]
  },
  {
   "cell_type": "code",
   "execution_count": 58,
   "metadata": {},
   "outputs": [
    {
     "data": {
      "text/plain": [
       "{'ccp_alpha': 0.0,\n",
       " 'criterion': 'mse',\n",
       " 'max_depth': 4,\n",
       " 'max_features': None,\n",
       " 'max_leaf_nodes': None,\n",
       " 'min_impurity_decrease': 0.0,\n",
       " 'min_impurity_split': None,\n",
       " 'min_samples_leaf': 1,\n",
       " 'min_samples_split': 2,\n",
       " 'min_weight_fraction_leaf': 0.0,\n",
       " 'presort': 'deprecated',\n",
       " 'random_state': None,\n",
       " 'splitter': 'best'}"
      ]
     },
     "execution_count": 58,
     "metadata": {},
     "output_type": "execute_result"
    }
   ],
   "source": [
    "tree.get_params()"
   ]
  },
  {
   "cell_type": "code",
   "execution_count": 62,
   "metadata": {},
   "outputs": [
    {
     "data": {
      "text/plain": [
       "0.8177924678036445"
      ]
     },
     "execution_count": 62,
     "metadata": {},
     "output_type": "execute_result"
    }
   ],
   "source": [
    "# score provides the R2 value\n",
    "tree.score(X, y)"
   ]
  },
  {
   "cell_type": "code",
   "execution_count": 63,
   "metadata": {},
   "outputs": [],
   "source": [
    "# boosting starts with a NAIVE prediction\n",
    "naive_guess = y.mean()"
   ]
  },
  {
   "cell_type": "code",
   "execution_count": 65,
   "metadata": {},
   "outputs": [],
   "source": [
    "# get the error column\n",
    "gradient = y - y.mean()"
   ]
  },
  {
   "cell_type": "code",
   "execution_count": 66,
   "metadata": {},
   "outputs": [],
   "source": [
    "# initialize a decision tree -- it will usually be shallow\n",
    "tree = DecisionTreeRegressor(max_depth=4)"
   ]
  },
  {
   "cell_type": "code",
   "execution_count": 67,
   "metadata": {},
   "outputs": [
    {
     "data": {
      "text/plain": [
       "DecisionTreeRegressor(ccp_alpha=0.0, criterion='mse', max_depth=4,\n",
       "                      max_features=None, max_leaf_nodes=None,\n",
       "                      min_impurity_decrease=0.0, min_impurity_split=None,\n",
       "                      min_samples_leaf=1, min_samples_split=2,\n",
       "                      min_weight_fraction_leaf=0.0, presort='deprecated',\n",
       "                      random_state=None, splitter='best')"
      ]
     },
     "execution_count": 67,
     "metadata": {},
     "output_type": "execute_result"
    }
   ],
   "source": [
    "# fit a tree on X & the gradient\n",
    "tree.fit(X, gradient)"
   ]
  },
  {
   "cell_type": "code",
   "execution_count": 69,
   "metadata": {},
   "outputs": [],
   "source": [
    "naive_guess += tree.predict(X)"
   ]
  },
  {
   "cell_type": "code",
   "execution_count": 72,
   "metadata": {},
   "outputs": [],
   "source": [
    "gradient = y - naive_guess"
   ]
  },
  {
   "cell_type": "code",
   "execution_count": 73,
   "metadata": {},
   "outputs": [
    {
     "data": {
      "text/plain": [
       "0     -3.427273\n",
       "1     -0.029744\n",
       "2      1.951220\n",
       "3      0.651220\n",
       "4      3.451220\n",
       "         ...   \n",
       "501   -5.027273\n",
       "502   -1.029744\n",
       "503   -8.848780\n",
       "504   -5.427273\n",
       "505   -9.729744\n",
       "Name: PRICE, Length: 506, dtype: float64"
      ]
     },
     "execution_count": 73,
     "metadata": {},
     "output_type": "execute_result"
    }
   ],
   "source": [
    "gradient"
   ]
  },
  {
   "cell_type": "code",
   "execution_count": 74,
   "metadata": {},
   "outputs": [
    {
     "data": {
      "text/plain": [
       "DecisionTreeRegressor(ccp_alpha=0.0, criterion='mse', max_depth=4,\n",
       "                      max_features=None, max_leaf_nodes=None,\n",
       "                      min_impurity_decrease=0.0, min_impurity_split=None,\n",
       "                      min_samples_leaf=1, min_samples_split=2,\n",
       "                      min_weight_fraction_leaf=0.0, presort='deprecated',\n",
       "                      random_state=None, splitter='best')"
      ]
     },
     "execution_count": 74,
     "metadata": {},
     "output_type": "execute_result"
    }
   ],
   "source": [
    "tree.fit(X, gradient)"
   ]
  },
  {
   "cell_type": "code",
   "execution_count": 76,
   "metadata": {},
   "outputs": [
    {
     "data": {
      "text/plain": [
       "array([27.42727273, 21.62974359, 32.74878049, 32.74878049, 32.74878049,\n",
       "       21.62974359, 21.62974359, 20.02083333, 20.02083333, 20.02083333,\n",
       "       20.02083333, 21.62974359, 20.02083333, 21.62974359, 21.62974359,\n",
       "       21.62974359, 21.62974359, 16.23896104, 21.62974359, 21.62974359,\n",
       "       16.23896104, 21.62974359, 16.23896104, 16.23896104, 16.23896104,\n",
       "       16.23896104, 16.23896104, 16.23896104, 21.62974359, 27.42727273,\n",
       "       16.23896104, 21.62974359, 16.23896104, 16.23896104, 16.23896104,\n",
       "       21.62974359, 21.62974359, 21.62974359, 21.62974359, 27.42727273,\n",
       "       32.74878049, 27.42727273, 21.62974359, 21.62974359, 21.62974359,\n",
       "       21.62974359, 21.62974359, 20.02083333, 20.02083333, 20.02083333,\n",
       "       21.62974359, 21.62974359, 21.62974359, 21.62974359, 20.02083333,\n",
       "       32.74878049, 21.62974359, 27.42727273, 21.62974359, 21.62974359,\n",
       "       21.62974359, 20.02083333, 21.62974359, 27.42727273, 32.74878049,\n",
       "       21.62974359, 21.62974359, 21.62974359, 21.62974359, 21.62974359,\n",
       "       21.62974359, 21.62974359, 21.62974359, 21.62974359, 21.62974359,\n",
       "       21.62974359, 21.62974359, 21.62974359, 21.62974359, 21.62974359,\n",
       "       27.42727273, 27.42727273, 21.62974359, 21.62974359, 21.62974359,\n",
       "       27.42727273, 21.62974359, 21.62974359, 32.74878049, 32.74878049,\n",
       "       21.62974359, 21.62974359, 21.62974359, 21.62974359, 21.62974359,\n",
       "       27.42727273, 21.62974359, 43.65333333, 43.65333333, 32.74878049,\n",
       "       27.42727273, 27.42727273, 21.62974359, 21.62974359, 21.62974359,\n",
       "       20.02083333, 20.02083333, 21.62974359, 21.62974359, 20.02083333,\n",
       "       21.62974359, 27.42727273, 16.23896104, 16.23896104, 21.62974359,\n",
       "       16.23896104, 21.62974359, 21.62974359, 16.23896104, 21.62974359,\n",
       "       21.62974359, 21.62974359, 16.23896104, 16.23896104, 16.23896104,\n",
       "       16.23896104, 16.23896104, 16.23896104, 16.23896104, 16.23896104,\n",
       "       21.62974359, 21.62974359, 21.62974359, 16.23896104, 16.23896104,\n",
       "       16.23896104, 16.23896104, 16.23896104, 16.23896104, 16.23896104,\n",
       "       16.23896104, 16.23896104, 16.23896104, 16.23896104, 16.23896104,\n",
       "       16.23896104, 16.23896104, 16.23896104, 16.23896104, 16.23896104,\n",
       "       21.62974359, 21.62974359, 21.62974359, 16.23896104, 16.23896104,\n",
       "       16.23896104, 16.23896104, 45.65      , 21.62974359, 21.62974359,\n",
       "       21.62974359, 48.3       , 48.3       , 48.3       , 21.62974359,\n",
       "       21.62974359, 48.3       , 21.62974359, 21.62974359, 21.62974359,\n",
       "       16.23896104, 21.62974359, 20.02083333, 21.62974359, 21.62974359,\n",
       "       27.42727273, 21.62974359, 21.62974359, 27.42727273, 32.74878049,\n",
       "       43.65333333, 21.62974359, 32.74878049, 27.42727273, 21.62974359,\n",
       "       21.62974359, 43.65333333, 27.42727273, 27.42727273, 32.74878049,\n",
       "       32.74878049, 27.42727273, 32.74878049, 27.42727273, 27.42727273,\n",
       "       48.3       , 32.74878049, 32.74878049, 32.74878049, 32.74878049,\n",
       "       32.74878049, 21.62974359, 48.3       , 48.3       , 48.3       ,\n",
       "       21.62974359, 21.62974359, 20.02083333, 20.02083333, 20.02083333,\n",
       "       20.02083333, 20.02083333, 20.02083333, 21.62974359, 20.02083333,\n",
       "       21.62974359, 21.62974359, 27.42727273, 16.23896104, 21.62974359,\n",
       "       32.74878049, 20.02083333, 27.42727273, 27.42727273, 43.65333333,\n",
       "       43.65333333, 43.65333333, 32.74878049, 43.65333333, 27.42727273,\n",
       "       21.62974359, 32.74878049, 43.65333333, 43.65333333, 27.42727273,\n",
       "       21.62974359, 27.42727273, 32.74878049, 21.62974359, 27.42727273,\n",
       "       27.42727273, 21.62974359, 21.62974359, 21.62974359, 21.62974359,\n",
       "       20.02083333, 21.62974359, 21.62974359, 21.62974359, 27.42727273,\n",
       "       21.62974359, 21.62974359, 32.74878049, 43.65333333, 21.62974359,\n",
       "       21.62974359, 43.65333333, 48.3       , 32.74878049, 27.42727273,\n",
       "       32.74878049, 48.3       , 48.3       , 32.74878049, 32.74878049,\n",
       "       21.62974359, 32.74878049, 48.3       , 48.3       , 21.62974359,\n",
       "       21.62974359, 21.62974359, 21.62974359, 43.65333333, 27.42727273,\n",
       "       27.42727273, 32.74878049, 27.42727273, 21.62974359, 27.42727273,\n",
       "       43.65333333, 32.74878049, 43.65333333, 48.3       , 32.74878049,\n",
       "       21.62974359, 21.62974359, 21.62974359, 21.62974359, 27.42727273,\n",
       "       27.42727273, 32.74878049, 27.42727273, 21.62974359, 21.62974359,\n",
       "       27.42727273, 27.42727273, 20.02083333, 21.62974359, 32.74878049,\n",
       "       27.42727273, 27.42727273, 21.62974359, 32.74878049, 32.74878049,\n",
       "       27.42727273, 32.74878049, 27.42727273, 27.42727273, 21.62974359,\n",
       "       21.62974359, 21.62974359, 21.62974359, 21.62974359, 27.42727273,\n",
       "       21.62974359, 16.23896104, 16.23896104, 21.62974359, 21.62974359,\n",
       "       21.62974359, 21.62974359, 21.62974359, 21.62974359, 21.62974359,\n",
       "       21.62974359, 21.62974359, 21.62974359, 21.62974359, 21.62974359,\n",
       "       21.62974359, 21.62974359, 21.62974359, 21.62974359, 21.62974359,\n",
       "       21.62974359, 21.62974359, 21.62974359, 21.62974359, 21.62974359,\n",
       "       21.62974359, 32.74878049, 21.62974359, 27.42727273, 27.42727273,\n",
       "       21.62974359, 21.62974359, 21.62974359, 27.42727273, 27.42727273,\n",
       "       21.62974359, 27.42727273, 21.62974359, 27.42727273, 21.62974359,\n",
       "       21.62974359, 11.07741935, 21.62974359, 21.62974359, 21.62974359,\n",
       "       21.62974359, 21.62974359, 21.62974359, 16.23896104, 21.9       ,\n",
       "       21.62974359, 21.62974359, 21.62974359, 50.        , 50.        ,\n",
       "       45.65      , 50.        , 50.        , 11.07741935, 11.07741935,\n",
       "       16.4       , 11.07741935, 11.07741935, 11.07741935, 11.07741935,\n",
       "       10.4       , 11.07741935, 11.07741935, 11.07741935, 11.07741935,\n",
       "       11.07741935, 11.07741935, 11.07741935, 11.07741935, 11.07741935,\n",
       "       16.23896104, 16.23896104, 11.07741935, 11.07741935, 11.07741935,\n",
       "       11.07741935, 16.23896104, 11.07741935, 11.07741935, 11.07741935,\n",
       "       11.07741935, 11.07741935, 11.07741935, 11.07741935, 11.07741935,\n",
       "       11.07741935, 11.07741935, 27.9       , 16.63333333, 16.63333333,\n",
       "       21.62974359, 16.63333333, 16.63333333, 16.63333333, 11.07741935,\n",
       "       11.07741935, 11.07741935, 11.07741935, 11.07741935, 11.07741935,\n",
       "       11.07741935, 11.07741935, 21.62974359, 11.07741935, 16.63333333,\n",
       "       11.07741935, 16.63333333, 11.07741935, 11.07741935, 11.07741935,\n",
       "       16.63333333, 16.63333333, 21.62974359, 16.23896104, 11.07741935,\n",
       "       11.07741935, 11.07741935, 11.07741935, 11.07741935, 11.07741935,\n",
       "       11.07741935, 11.07741935, 16.23896104, 11.07741935, 11.07741935,\n",
       "       11.07741935, 16.23896104, 11.07741935, 11.07741935, 11.07741935,\n",
       "       16.23896104, 16.23896104, 16.23896104, 16.4       , 11.07741935,\n",
       "       16.23896104, 16.23896104, 11.07741935, 11.07741935, 16.23896104,\n",
       "       16.23896104, 16.23896104, 21.62974359, 21.62974359, 21.62974359,\n",
       "       21.62974359, 16.23896104, 16.23896104, 16.63333333, 16.63333333,\n",
       "       16.23896104, 21.62974359, 21.62974359, 32.74878049, 16.63333333,\n",
       "       16.23896104, 16.23896104, 11.07741935, 11.07741935, 21.62974359,\n",
       "       21.62974359, 27.42727273, 32.74878049, 21.62974359, 21.62974359,\n",
       "       21.62974359, 16.23896104, 21.62974359, 16.23896104, 16.23896104,\n",
       "       16.23896104, 16.23896104, 21.62974359, 21.62974359, 21.62974359,\n",
       "       16.23896104, 16.23896104, 21.62974359, 21.62974359, 16.23896104,\n",
       "       21.62974359, 27.42727273, 21.62974359, 32.74878049, 27.42727273,\n",
       "       21.62974359])"
      ]
     },
     "execution_count": 76,
     "metadata": {},
     "output_type": "execute_result"
    }
   ],
   "source": [
    "naive_guess"
   ]
  },
  {
   "cell_type": "code",
   "execution_count": 77,
   "metadata": {},
   "outputs": [],
   "source": [
    "naive_guess += tree.predict(X)"
   ]
  },
  {
   "cell_type": "code",
   "execution_count": 80,
   "metadata": {},
   "outputs": [],
   "source": [
    "gradient = y - naive_guess"
   ]
  },
  {
   "cell_type": "code",
   "execution_count": 82,
   "metadata": {},
   "outputs": [
    {
     "data": {
      "text/plain": [
       "DecisionTreeRegressor(ccp_alpha=0.0, criterion='mse', max_depth=4,\n",
       "                      max_features=None, max_leaf_nodes=None,\n",
       "                      min_impurity_decrease=0.0, min_impurity_split=None,\n",
       "                      min_samples_leaf=1, min_samples_split=2,\n",
       "                      min_weight_fraction_leaf=0.0, presort='deprecated',\n",
       "                      random_state=None, splitter='best')"
      ]
     },
     "execution_count": 82,
     "metadata": {},
     "output_type": "execute_result"
    }
   ],
   "source": [
    "tree.fit(X, gradient)"
   ]
  },
  {
   "cell_type": "code",
   "execution_count": 84,
   "metadata": {},
   "outputs": [],
   "source": [
    "naive_guess += tree.predict(X)"
   ]
  },
  {
   "cell_type": "code",
   "execution_count": 86,
   "metadata": {},
   "outputs": [
    {
     "data": {
      "text/plain": [
       "array([26.59189641, 22.15935565, 31.91340417, 34.14436374, 34.14436374])"
      ]
     },
     "execution_count": 86,
     "metadata": {},
     "output_type": "execute_result"
    }
   ],
   "source": [
    "naive_guess[:5]"
   ]
  },
  {
   "cell_type": "code",
   "execution_count": 87,
   "metadata": {},
   "outputs": [
    {
     "data": {
      "text/plain": [
       "0    24.0\n",
       "1    21.6\n",
       "2    34.7\n",
       "3    33.4\n",
       "4    36.2\n",
       "Name: PRICE, dtype: float64"
      ]
     },
     "execution_count": 87,
     "metadata": {},
     "output_type": "execute_result"
    }
   ],
   "source": [
    "y[:5]"
   ]
  },
  {
   "cell_type": "code",
   "execution_count": 93,
   "metadata": {},
   "outputs": [],
   "source": [
    "gradient = y - naive_guess"
   ]
  },
  {
   "cell_type": "code",
   "execution_count": 94,
   "metadata": {},
   "outputs": [
    {
     "data": {
      "text/plain": [
       "DecisionTreeRegressor(ccp_alpha=0.0, criterion='mse', max_depth=4,\n",
       "                      max_features=None, max_leaf_nodes=None,\n",
       "                      min_impurity_decrease=0.0, min_impurity_split=None,\n",
       "                      min_samples_leaf=1, min_samples_split=2,\n",
       "                      min_weight_fraction_leaf=0.0, presort='deprecated',\n",
       "                      random_state=None, splitter='best')"
      ]
     },
     "execution_count": 94,
     "metadata": {},
     "output_type": "execute_result"
    }
   ],
   "source": [
    "tree.fit(X, gradient)"
   ]
  },
  {
   "cell_type": "code",
   "execution_count": 96,
   "metadata": {},
   "outputs": [],
   "source": [
    "learning_rate = .1"
   ]
  },
  {
   "cell_type": "code",
   "execution_count": 99,
   "metadata": {},
   "outputs": [],
   "source": [
    "naive_guess += tree.predict(X) * learning_rate"
   ]
  },
  {
   "cell_type": "code",
   "execution_count": 100,
   "metadata": {},
   "outputs": [
    {
     "data": {
      "text/plain": [
       "array([26.57840985, 22.14586909, 32.01678217, 34.24774175, 34.13087719,\n",
       "       26.81847574, 19.14233306, 21.87265499, 16.38973977, 18.86911896,\n",
       "       21.87265499, 19.14233306, 18.86911896, 19.26815116, 19.26815116,\n",
       "       19.26815116, 21.95395672, 15.21306475, 19.26815116, 19.26815116,\n",
       "       13.1579731 , 19.26815116, 13.1579731 , 15.21306475, 15.21306475,\n",
       "       15.21306475, 15.21306475, 15.21306475, 19.26815116, 23.01058864,\n",
       "       13.1579731 , 17.2130595 , 10.67859391, 13.1579731 , 13.1579731 ,\n",
       "       20.99622572, 20.99622572, 20.99622572, 25.62864142, 29.2195454 ,\n",
       "       34.54105316, 29.10268084, 24.67014008, 24.67014008, 22.14586909,\n",
       "       19.14233306, 19.14233306, 18.86911896, 16.38973977, 18.86911896,\n",
       "       19.14233306, 22.14586909, 24.08930952, 21.08577349, 18.99493705,\n",
       "       33.84335804, 22.14586909, 26.69527441, 21.94835216, 19.14233306,\n",
       "       19.14233306, 17.53342281, 22.14586909, 26.57840985, 34.13087719,\n",
       "       24.08930952, 21.08577349, 21.08577349, 19.14233306, 21.08577349,\n",
       "       24.67014008, 21.66660405, 24.67014008, 24.67014008, 26.77828479,\n",
       "       22.14586909, 22.14586909, 22.14586909, 22.14586909, 20.99622572,\n",
       "       26.57840985, 26.57840985, 24.67014008, 22.14586909, 22.14586909,\n",
       "       26.57840985, 20.99622572, 22.14586909, 31.89991761, 31.89991761,\n",
       "       22.14586909, 22.14586909, 22.14586909, 26.77828479, 22.14586909,\n",
       "       26.57840985, 22.14586909, 42.40616131, 42.92133502, 31.89991761,\n",
       "       26.57840985, 26.57840985, 19.89882128, 22.14586909, 22.14586909,\n",
       "       20.72301161, 20.72301161, 22.14586909, 22.14586909, 21.87265499,\n",
       "       22.14586909, 26.57840985, 16.94113932, 18.09078269, 22.14586909,\n",
       "       16.94113932, 22.14586909, 20.99622572, 16.94113932, 20.99622572,\n",
       "       25.66883237, 20.84975411, 20.27804981, 17.45436283, 20.27804981,\n",
       "       20.27804981, 15.45897156, 17.34343408, 17.34343408, 15.56758664,\n",
       "       21.39852048, 19.62267304, 21.39852048, 17.34343408, 15.56758664,\n",
       "       17.34343408, 17.34343408, 17.34343408, 13.80772871, 17.34343408,\n",
       "       14.86405489, 13.08820745, 14.46176013, 14.46176013, 14.46176013,\n",
       "       15.6114035 , 16.94113932, 14.46176013, 14.46176013, 16.94113932,\n",
       "       22.14586909, 20.99622572, 20.99622572, 16.94113932, 18.09078269,\n",
       "       15.84373488, 15.84373488, 44.80113713, 22.14586909, 22.14586909,\n",
       "       22.14586909, 47.56800169, 47.56800169, 47.68816131, 20.99622572,\n",
       "       22.14586909, 47.56800169, 20.99622572, 22.14586909, 22.14586909,\n",
       "       15.60544317, 20.99622572, 20.72301161, 22.14586909, 20.99622572,\n",
       "       31.21082555, 20.99622572, 22.14586909, 26.57840985, 37.73934246,\n",
       "       45.24968449, 37.50400621, 37.73934246, 32.4178347 , 26.83565057,\n",
       "       27.98529394, 45.36654906, 26.57840985, 31.21082555, 31.89991761,\n",
       "       34.4241886 , 29.10268084, 34.54105316, 29.10268084, 29.2195454 ,\n",
       "       50.09227268, 32.01678217, 31.89991761, 31.89991761, 33.84335804,\n",
       "       31.81926524, 22.14586909, 50.09227268, 47.56800169, 50.09227268,\n",
       "       25.62864142, 22.14586909, 20.72301161, 21.87265499, 20.72301161,\n",
       "       20.72301161, 18.24363243, 20.72301161, 26.77828479, 24.01973116,\n",
       "       22.14586909, 20.99622572, 26.57840985, 16.94113932, 22.14586909,\n",
       "       31.89991761, 21.87265499, 26.57840985, 26.57840985, 43.01616131,\n",
       "       43.45116131, 42.29616131, 31.89991761, 47.55375072, 31.32769011,\n",
       "       20.99622572, 31.89991761, 42.70616131, 43.45116131, 26.57840985,\n",
       "       22.14586909, 26.57840985, 31.89991761, 24.67014008, 26.57840985,\n",
       "       26.57840985, 22.14586909, 22.14586909, 21.94835216, 19.14233306,\n",
       "       18.86911896, 22.14586909, 22.14586909, 22.14586909, 26.38089292,\n",
       "       24.08930952, 22.06521672, 31.81926524, 44.5652577 , 21.94835216,\n",
       "       18.94481613, 42.92133502, 47.68816131, 31.89991761, 26.57840985,\n",
       "       31.89991761, 47.45113713, 47.68816131, 31.89991761, 31.89991761,\n",
       "       20.99622572, 33.23561376, 47.68816131, 47.56800169, 20.99622572,\n",
       "       20.99622572, 26.77828479, 22.14586909, 42.80447046, 31.32769011,\n",
       "       26.69527441, 31.89991761, 31.32769011, 26.77828479, 32.4178347 ,\n",
       "       45.36654906, 37.73934246, 45.36654906, 50.01321572, 31.70240068,\n",
       "       21.94835216, 21.94835216, 24.08930952, 22.14586909, 26.38089292,\n",
       "       29.2195454 , 34.54105316, 29.10268084, 24.67014008, 19.14233306,\n",
       "       29.10268084, 26.57840985, 18.86911896, 21.94835216, 31.70240068,\n",
       "       26.57840985, 26.57840985, 24.67014008, 34.4241886 , 34.13087719,\n",
       "       28.80936943, 34.13087719, 28.80936943, 26.57840985, 20.99622572,\n",
       "       20.99622572, 22.14586909, 20.99622572, 22.14586909, 26.57840985,\n",
       "       20.99622572, 16.94113932, 16.94113932, 22.14586909, 22.14586909,\n",
       "       22.14586909, 22.14586909, 19.14233306, 19.14233306, 22.14586909,\n",
       "       24.67014008, 24.67014008, 22.14586909, 21.66660405, 24.67014008,\n",
       "       24.67014008, 18.94481613, 18.94481613, 22.14586909, 22.14586909,\n",
       "       19.14233306, 19.14233306, 19.14233306, 22.14586909, 19.14233306,\n",
       "       19.14233306, 31.89991761, 20.78088072, 26.57840985, 29.10268084,\n",
       "       19.14233306, 19.14233306, 21.94835216, 26.38089292, 26.57840985,\n",
       "       22.14586909, 26.57840985, 18.94481613, 32.4178347 , 17.66529818,\n",
       "       20.58651344, 12.92924101, 22.14586909, 22.14586909, 22.14586909,\n",
       "       22.14586909, 22.14586909, 20.99622572, 16.94113932, 21.14816131,\n",
       "       21.65874105, 20.99622572, 21.21874105, 49.48334669, 49.26800169,\n",
       "       44.91800169, 50.5161255 , 49.36648213,  9.30021845,  9.7623345 ,\n",
       "       15.55113713, 11.56425263, 11.56425263, 12.92924101, 12.92924101,\n",
       "       10.88683327, 11.56425263, 11.77959764,  9.30021845,  9.30021845,\n",
       "        9.30021845,  9.30021845,  9.30021845,  9.30021845, 11.77959764,\n",
       "       16.94113932, 18.09078269,  9.30021845, 12.92924101, 11.77959764,\n",
       "       12.92924101, 18.09078269, 11.77959764,  9.30021845,  9.30021845,\n",
       "        9.30021845, 12.92924101, 12.92924101, 11.77959764,  9.30021845,\n",
       "       11.77959764, 11.80377577, 27.26648213, 14.85613243, 17.12016661,\n",
       "       14.98651344, 16.23810717, 13.75872799, 17.33551161,  8.20281401,\n",
       "        8.20281401,  8.20281401,  9.30021845, 10.6821932 , 10.6821932 ,\n",
       "       12.92924101, 11.77959764, 20.99622572, 10.6821932 , 12.05615639,\n",
       "        8.20281401, 10.18651344,  9.34649705, 10.6821932 ,  8.20281401,\n",
       "       16.23810717, 16.23810717, 15.7168705 , 15.84373488, 12.92924101,\n",
       "       11.56425263, 10.6821932 ,  8.20281401,  8.20281401, 11.77959764,\n",
       "       11.77959764, 12.92924101, 18.09078269, 12.92924101, 11.77959764,\n",
       "        8.20281401, 18.09078269, 12.92924101, 12.92924101, 12.92924101,\n",
       "       15.84373488, 16.72579431, 18.09078269, 16.88683327, 10.6821932 ,\n",
       "       15.84373488, 15.84373488, 10.6821932 , 12.92924101, 18.09078269,\n",
       "       16.72579431, 18.09078269, 22.14586909, 22.14586909, 22.14586909,\n",
       "       20.99622572, 15.84373488, 16.94113932, 17.33551161, 17.33551161,\n",
       "       18.09078269, 22.14586909, 22.14586909, 31.89991761, 17.33551161,\n",
       "       15.6114035 , 18.09078269,  9.30021845, 12.92924101, 22.14586909,\n",
       "       22.14586909, 26.57840985, 31.89991761, 20.99622572, 20.99622572,\n",
       "       22.14586909, 18.09078269, 20.99622572, 16.94113932,  7.70436283,\n",
       "        7.70436283, 16.94113932, 20.99622572, 20.99622572, 20.99622572,\n",
       "       20.23785887, 16.94113932, 20.99622572, 20.99622572, 16.94113932,\n",
       "       20.99622572, 25.06568029, 19.26815116, 23.44603189, 23.11907016,\n",
       "       12.32699499])"
      ]
     },
     "execution_count": 100,
     "metadata": {},
     "output_type": "execute_result"
    }
   ],
   "source": [
    "naive_guess"
   ]
  },
  {
   "cell_type": "code",
   "execution_count": 101,
   "metadata": {},
   "outputs": [],
   "source": [
    "from sklearn.ensemble import GradientBoostingRegressor"
   ]
  },
  {
   "cell_type": "code",
   "execution_count": 102,
   "metadata": {},
   "outputs": [],
   "source": [
    "gbm = GradientBoostingRegressor()"
   ]
  },
  {
   "cell_type": "code",
   "execution_count": 103,
   "metadata": {},
   "outputs": [
    {
     "data": {
      "text/plain": [
       "{'alpha': 0.9,\n",
       " 'ccp_alpha': 0.0,\n",
       " 'criterion': 'friedman_mse',\n",
       " 'init': None,\n",
       " 'learning_rate': 0.1,\n",
       " 'loss': 'ls',\n",
       " 'max_depth': 3,\n",
       " 'max_features': None,\n",
       " 'max_leaf_nodes': None,\n",
       " 'min_impurity_decrease': 0.0,\n",
       " 'min_impurity_split': None,\n",
       " 'min_samples_leaf': 1,\n",
       " 'min_samples_split': 2,\n",
       " 'min_weight_fraction_leaf': 0.0,\n",
       " 'n_estimators': 100,\n",
       " 'n_iter_no_change': None,\n",
       " 'presort': 'deprecated',\n",
       " 'random_state': None,\n",
       " 'subsample': 1.0,\n",
       " 'tol': 0.0001,\n",
       " 'validation_fraction': 0.1,\n",
       " 'verbose': 0,\n",
       " 'warm_start': False}"
      ]
     },
     "execution_count": 103,
     "metadata": {},
     "output_type": "execute_result"
    }
   ],
   "source": [
    "gbm.get_params()"
   ]
  },
  {
   "cell_type": "code",
   "execution_count": null,
   "metadata": {},
   "outputs": [],
   "source": [
    "tree = DecisionTreeRegressor(max_depth=)"
   ]
  },
  {
   "cell_type": "code",
   "execution_count": 104,
   "metadata": {},
   "outputs": [
    {
     "data": {
      "text/plain": [
       "GradientBoostingRegressor(alpha=0.9, ccp_alpha=0.0, criterion='friedman_mse',\n",
       "                          init=None, learning_rate=0.1, loss='ls', max_depth=3,\n",
       "                          max_features=None, max_leaf_nodes=None,\n",
       "                          min_impurity_decrease=0.0, min_impurity_split=None,\n",
       "                          min_samples_leaf=1, min_samples_split=2,\n",
       "                          min_weight_fraction_leaf=0.0, n_estimators=100,\n",
       "                          n_iter_no_change=None, presort='deprecated',\n",
       "                          random_state=None, subsample=1.0, tol=0.0001,\n",
       "                          validation_fraction=0.1, verbose=0, warm_start=False)"
      ]
     },
     "execution_count": 104,
     "metadata": {},
     "output_type": "execute_result"
    }
   ],
   "source": [
    "gbm.fit(X, y)"
   ]
  },
  {
   "cell_type": "code",
   "execution_count": 105,
   "metadata": {},
   "outputs": [
    {
     "data": {
      "text/plain": [
       "0.9761405838418584"
      ]
     },
     "execution_count": 105,
     "metadata": {},
     "output_type": "execute_result"
    }
   ],
   "source": [
    "gbm.score(X, y)"
   ]
  },
  {
   "cell_type": "code",
   "execution_count": 106,
   "metadata": {},
   "outputs": [
    {
     "data": {
      "text/plain": [
       "array([2.52321890e-02, 2.57507828e-04, 2.09203306e-03, 8.72746661e-04,\n",
       "       3.64443531e-02, 4.10968562e-01, 8.84128931e-03, 8.40286447e-02,\n",
       "       1.27962093e-03, 1.17545775e-02, 3.47428377e-02, 1.04788513e-02,\n",
       "       3.73006787e-01])"
      ]
     },
     "execution_count": 106,
     "metadata": {},
     "output_type": "execute_result"
    }
   ],
   "source": [
    "gbm.feature_importances_"
   ]
  },
  {
   "cell_type": "code",
   "execution_count": 107,
   "metadata": {},
   "outputs": [
    {
     "data": {
      "text/plain": [
       "Index(['CRIM', 'ZN', 'INDUS', 'CHAS', 'NOX', 'RM', 'AGE', 'DIS', 'RAD', 'TAX',\n",
       "       'PTRATIO', 'B', 'LSTAT'],\n",
       "      dtype='object')"
      ]
     },
     "execution_count": 107,
     "metadata": {},
     "output_type": "execute_result"
    }
   ],
   "source": [
    "X.columns"
   ]
  },
  {
   "cell_type": "code",
   "execution_count": null,
   "metadata": {},
   "outputs": [],
   "source": []
  }
 ],
 "metadata": {
  "kernelspec": {
   "display_name": "Python 3",
   "language": "python",
   "name": "python3"
  },
  "language_info": {
   "codemirror_mode": {
    "name": "ipython",
    "version": 3
   },
   "file_extension": ".py",
   "mimetype": "text/x-python",
   "name": "python",
   "nbconvert_exporter": "python",
   "pygments_lexer": "ipython3",
   "version": "3.7.3"
  }
 },
 "nbformat": 4,
 "nbformat_minor": 4
}
