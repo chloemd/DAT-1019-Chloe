{
 "cells": [
  {
   "cell_type": "markdown",
   "metadata": {},
   "source": [
    "### Comparisons & Booleans\n",
    "\n",
    "Up to this point we've assigned variables, but we haven't talked about comparisons.\n",
    "\n",
    "When we use the '=' sign, we assign a particular value to a variable.\n",
    "\n",
    "However, when we use an '==' sign, we make a comparison between values.\n",
    "\n",
    "Observe the following cell:"
   ]
  },
  {
   "cell_type": "code",
   "execution_count": 1,
   "metadata": {},
   "outputs": [
    {
     "data": {
      "text/plain": [
       "True"
      ]
     },
     "execution_count": 1,
     "metadata": {},
     "output_type": "execute_result"
    }
   ],
   "source": [
    "x = 23\n",
    "x == 23"
   ]
  },
  {
   "cell_type": "markdown",
   "metadata": {},
   "source": [
    "The last line essentially asks, 'is the value of x the same as 23?'.  And it is, so it returns True.\n",
    "\n",
    "The following line asks if they're different:"
   ]
  },
  {
   "cell_type": "code",
   "execution_count": 2,
   "metadata": {},
   "outputs": [
    {
     "data": {
      "text/plain": [
       "False"
      ]
     },
     "execution_count": 2,
     "metadata": {},
     "output_type": "execute_result"
    }
   ],
   "source": [
    "x != 23"
   ]
  },
  {
   "cell_type": "markdown",
   "metadata": {},
   "source": [
    "Here are other comparisons:"
   ]
  },
  {
   "cell_type": "code",
   "execution_count": 3,
   "metadata": {
    "scrolled": true
   },
   "outputs": [
    {
     "name": "stdout",
     "output_type": "stream",
     "text": [
      "False\n",
      "False\n",
      "True\n",
      "True\n"
     ]
    }
   ],
   "source": [
    "print(x < 23) # is x less than 23?\n",
    "print(x > 23) # is x greater than 23?\n",
    "print(x >= 23) # is x greater than or equal to 23?\n",
    "print(x <= 23) # is x less than or equal to 23?"
   ]
  },
  {
   "cell_type": "markdown",
   "metadata": {},
   "source": [
    "**Cell 1 Instructions**: Take 5-10 minutes to play around with different variables and various types of comparison operators."
   ]
  },
  {
   "cell_type": "code",
   "execution_count": null,
   "metadata": {},
   "outputs": [],
   "source": [
    "### Your Code Here ###\n"
   ]
  },
  {
   "cell_type": "markdown",
   "metadata": {},
   "source": [
    "Now, let's take a look at a few other lines, which might look a little weird."
   ]
  },
  {
   "cell_type": "code",
   "execution_count": null,
   "metadata": {},
   "outputs": [],
   "source": [
    "### Run This Line\n",
    "True"
   ]
  },
  {
   "cell_type": "code",
   "execution_count": null,
   "metadata": {},
   "outputs": [],
   "source": [
    "### And This One\n",
    "False"
   ]
  },
  {
   "cell_type": "markdown",
   "metadata": {},
   "source": [
    "**Key Insight**: *True* and *False* are distinct data types within Python known as Boolean values.  When you make a comparison such as x == 23, this statement evaluates to either one of these two values.\n",
    "\n",
    "**All comparisons eventually evaluate to either True or False**.\n",
    "\n",
    "Run the following line, and see what it outputs:"
   ]
  },
  {
   "cell_type": "code",
   "execution_count": 4,
   "metadata": {},
   "outputs": [
    {
     "data": {
      "text/plain": [
       "bool"
      ]
     },
     "execution_count": 4,
     "metadata": {},
     "output_type": "execute_result"
    }
   ],
   "source": [
    "type(True)"
   ]
  },
  {
   "cell_type": "markdown",
   "metadata": {},
   "source": [
    "Rather than being just words, True and False are unique data types which are unique unto themselves.\n",
    "\n",
    "Now, run the following lines and see how they evaluate:"
   ]
  },
  {
   "cell_type": "code",
   "execution_count": null,
   "metadata": {},
   "outputs": [],
   "source": [
    "True or False"
   ]
  },
  {
   "cell_type": "code",
   "execution_count": null,
   "metadata": {},
   "outputs": [],
   "source": [
    "False or True"
   ]
  },
  {
   "cell_type": "code",
   "execution_count": null,
   "metadata": {},
   "outputs": [],
   "source": [
    "True and False"
   ]
  },
  {
   "cell_type": "code",
   "execution_count": null,
   "metadata": {},
   "outputs": [],
   "source": [
    "False and False"
   ]
  },
  {
   "cell_type": "code",
   "execution_count": null,
   "metadata": {},
   "outputs": [],
   "source": [
    "not True"
   ]
  },
  {
   "cell_type": "code",
   "execution_count": null,
   "metadata": {},
   "outputs": [],
   "source": [
    "not False"
   ]
  },
  {
   "cell_type": "code",
   "execution_count": null,
   "metadata": {},
   "outputs": [],
   "source": [
    "True or False and False and False"
   ]
  },
  {
   "cell_type": "code",
   "execution_count": null,
   "metadata": {},
   "outputs": [],
   "source": [
    "True and False or True and False"
   ]
  },
  {
   "cell_type": "markdown",
   "metadata": {},
   "source": [
    "The above lines are meant to demonstrate how statements evaluate to True or False.  \n",
    "\n",
    "This might seem a bit dry, but it's important to have an intuition about how comparisons evaluate."
   ]
  },
  {
   "cell_type": "markdown",
   "metadata": {},
   "source": [
    "**Exercise 2**: For each of the above cells, replace the words True or False with a comparison between different variables.\n",
    "\n",
    "For example, for the following line:"
   ]
  },
  {
   "cell_type": "code",
   "execution_count": null,
   "metadata": {},
   "outputs": [],
   "source": [
    "True or False"
   ]
  },
  {
   "cell_type": "markdown",
   "metadata": {},
   "source": [
    "Replace the 'True' with a statement that evaluates to True, and 'False' with a statement that evaluates to False, like so:"
   ]
  },
  {
   "cell_type": "code",
   "execution_count": null,
   "metadata": {},
   "outputs": [],
   "source": [
    "1 == 1 or 2 > 3"
   ]
  },
  {
   "cell_type": "markdown",
   "metadata": {},
   "source": [
    "The above statement is basically equivalent to the one preceding it.  \n",
    "\n",
    "Go through the other comparisons in a similar manner, to make sure you're comfortable with typing in different types of statements.\n",
    "\n",
    "Advice:\n",
    "\n",
    " - Use lots of different variables\n",
    " - Try different data types, and see if you can surprise yourself with the results\n",
    " - Use comments to demonstrate your train of thought"
   ]
  },
  {
   "cell_type": "code",
   "execution_count": null,
   "metadata": {},
   "outputs": [],
   "source": [
    "### Your Code Here ###\n"
   ]
  },
  {
   "cell_type": "markdown",
   "metadata": {},
   "source": [
    "### If Statements"
   ]
  },
  {
   "cell_type": "markdown",
   "metadata": {},
   "source": [
    "The purpose of comparisons is to create branched logic within a script that allows you to dictate:\n",
    "\n",
    "If this variable does this, then do that as a result.  \n",
    "\n",
    "You do this with 'if' statements -- very similar to what happens in Excel, but with a more flexible syntax."
   ]
  },
  {
   "cell_type": "markdown",
   "metadata": {},
   "source": [
    "#### Example 1:"
   ]
  },
  {
   "cell_type": "code",
   "execution_count": 1,
   "metadata": {},
   "outputs": [
    {
     "name": "stdout",
     "output_type": "stream",
     "text": [
      "The value is True.\n"
     ]
    }
   ],
   "source": [
    "if 1 == 1:\n",
    "    print(\"The value is True.\")"
   ]
  },
  {
   "cell_type": "markdown",
   "metadata": {},
   "source": [
    "Important points about the if statement:\n",
    "\n",
    " - the word 'if' is **always** followed by a statement that evaluates to True or False.\n",
    " - it's **always** followed by a colon\n",
    " - the next line after the colon must start on an indent.  This code block executes if the if statement is True."
   ]
  },
  {
   "cell_type": "markdown",
   "metadata": {},
   "source": [
    "#### Your Turn:  Create an if statement that evaluates to True, to make sure it works correctly"
   ]
  },
  {
   "cell_type": "code",
   "execution_count": null,
   "metadata": {},
   "outputs": [],
   "source": [
    "### Your code here"
   ]
  },
  {
   "cell_type": "markdown",
   "metadata": {},
   "source": [
    "Now make it evaluate to False.  If a statement isn't true, then nothing should happen.  "
   ]
  },
  {
   "cell_type": "code",
   "execution_count": null,
   "metadata": {},
   "outputs": [],
   "source": [
    "### Your code here"
   ]
  },
  {
   "cell_type": "markdown",
   "metadata": {},
   "source": [
    "Now add a *second* line to your if statement, to confirm that they both print.  \n",
    "\n",
    "Ie:\n",
    "\n",
    "if some_statement_thats_true:\n",
    "    - do this\n",
    "    - do this too"
   ]
  },
  {
   "cell_type": "code",
   "execution_count": null,
   "metadata": {},
   "outputs": [],
   "source": [
    "### Your code here"
   ]
  },
  {
   "cell_type": "markdown",
   "metadata": {},
   "source": [
    "### If/Else\n",
    "\n",
    " - You can add the word 'else' to conditional logic statements\n",
    "  - means 'if something's not True, then do this'\n",
    "  - only evaluates if everything above it is NOT True.\n",
    "  \n",
    "**Example**:"
   ]
  },
  {
   "cell_type": "code",
   "execution_count": null,
   "metadata": {},
   "outputs": [],
   "source": [
    "# this is not True\n",
    "if 1 == 3:\n",
    "    print(\"The statement is True.\")\n",
    "    print(\"This statement will also print.\")\n",
    "else:\n",
    "    print(\"Nothing else was True.\")"
   ]
  },
  {
   "cell_type": "markdown",
   "metadata": {},
   "source": [
    "#### Your Turn:  \n",
    "\n",
    " - Try and create 2-3 different if/else statements, and make sure they work when statements are both True and False."
   ]
  },
  {
   "cell_type": "code",
   "execution_count": null,
   "metadata": {},
   "outputs": [],
   "source": [
    "### your code here"
   ]
  },
  {
   "cell_type": "markdown",
   "metadata": {},
   "source": [
    "### If/Elif/Else\n",
    "\n",
    " - you use the word 'elif' if you want to add a second comparison to be made\n",
    " - works the same way as 'if', but must be used inbetween 'if' and 'else'\n",
    " \n",
    "**Example:**"
   ]
  },
  {
   "cell_type": "code",
   "execution_count": 2,
   "metadata": {},
   "outputs": [
    {
     "name": "stdout",
     "output_type": "stream",
     "text": [
      "The elif statement is True.\n"
     ]
    }
   ],
   "source": [
    "# this isn't true\n",
    "if 2 == 4:\n",
    "    print(\"The if statement is True.\")\n",
    "# but this is\n",
    "elif 1 == 1:\n",
    "    print(\"The elif statement is True.\")\n",
    "else:\n",
    "    print(\"Nothing else was True.\")"
   ]
  },
  {
   "cell_type": "markdown",
   "metadata": {},
   "source": [
    "#### Your Turn:\n",
    "\n",
    " - Create a few different versions of if/elif/else to see if you can get them working.\n",
    " - *Key Questions: *\n",
    "  - What happens if multiple statements are True?\n",
    "  - What happens if you change the order of if/elif/else?\n",
    "  - Is there a way to **force** a comparison to be made no matter what?"
   ]
  },
  {
   "cell_type": "code",
   "execution_count": null,
   "metadata": {},
   "outputs": [],
   "source": [
    "# Your Code Here\n"
   ]
  },
  {
   "cell_type": "markdown",
   "metadata": {},
   "source": [
    "### Key Points to Think About Before Class:\n",
    "\n",
    " - How does indentation affect what does and does not execute?\n",
    " - How does Python evaluate data to True or False as a default?  (**Hint:** Try this:  if 1: print(\"It's True\")\n",
    " - Can you nest if statements inside one another?\n",
    " \n",
    "Feel free to practice with these paradigms before class to better prepare yourself."
   ]
  },
  {
   "cell_type": "code",
   "execution_count": null,
   "metadata": {},
   "outputs": [],
   "source": []
  }
 ],
 "metadata": {
  "kernelspec": {
   "display_name": "Python 3",
   "language": "python",
   "name": "python3"
  },
  "language_info": {
   "codemirror_mode": {
    "name": "ipython",
    "version": 3
   },
   "file_extension": ".py",
   "mimetype": "text/x-python",
   "name": "python",
   "nbconvert_exporter": "python",
   "pygments_lexer": "ipython3",
   "version": "3.7.1"
  }
 },
 "nbformat": 4,
 "nbformat_minor": 2
}
