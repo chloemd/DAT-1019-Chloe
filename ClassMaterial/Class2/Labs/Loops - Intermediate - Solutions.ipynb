{
 "cells": [
  {
   "cell_type": "markdown",
   "metadata": {},
   "source": [
    "### Scenario 1"
   ]
  },
  {
   "cell_type": "markdown",
   "metadata": {},
   "source": [
    "**First Example -- Finding csv files**"
   ]
  },
  {
   "cell_type": "code",
   "execution_count": null,
   "metadata": {},
   "outputs": [],
   "source": [
    "import os\n",
    "# you need to specify a path for your Downloads folder........yours may differ\n",
    "path = '../../../../../../Downloads'"
   ]
  },
  {
   "cell_type": "code",
   "execution_count": null,
   "metadata": {},
   "outputs": [],
   "source": [
    "csv_files = []\n",
    "for file in os.listdir(path):\n",
    "    if file[-4:] == '.csv':\n",
    "        csv_files.append(file)"
   ]
  },
  {
   "cell_type": "markdown",
   "metadata": {},
   "source": [
    "**Second Example -- Finding csv files and checking for file status**"
   ]
  },
  {
   "cell_type": "code",
   "execution_count": null,
   "metadata": {},
   "outputs": [],
   "source": [
    "csv_files = []\n",
    "for file in os.listdir(path):\n",
    "    file_path = path + '/' + file\n",
    "    if file[-4:] == '.csv' and os.path.isfile(file_path):\n",
    "            csv_files.append(file)"
   ]
  },
  {
   "cell_type": "markdown",
   "metadata": {},
   "source": [
    "**Third Example -- Finding csv files, checking for file status and file size**"
   ]
  },
  {
   "cell_type": "code",
   "execution_count": null,
   "metadata": {},
   "outputs": [],
   "source": [
    "# let's say we wanted to check that file sizes were less than 1 kb (aka 1000 bytes)\n",
    "\n",
    "csv_files = []\n",
    "for file in os.listdir(path):\n",
    "    file_path = path + '/' + file\n",
    "    file_size = os.path.getsize(file_path)\n",
    "    if file[-4:] == '.csv' and os.path.isfile(file_path) and file_size < 1000:\n",
    "        csv_files.append(file)"
   ]
  },
  {
   "cell_type": "markdown",
   "metadata": {},
   "source": [
    "### Scenario 2\n",
    "\n",
    "**Solution 1: Inner - Loop**"
   ]
  },
  {
   "cell_type": "code",
   "execution_count": null,
   "metadata": {},
   "outputs": [],
   "source": [
    "users = [\n",
    "    ('John', 34, None), ('Abby', 21, 'NY'), ('Jill', 41, 'OH'), ('Jason', 59, 'AL'), ('William', 35, None),\n",
    "    ('Wynona', 62, 'WY'), ('Barbara', 42, None), ('Harold', 52, None), ('Jose', 41, 'NH'), ('Ariel', 48, 'OR')\n",
    "]"
   ]
  },
  {
   "cell_type": "code",
   "execution_count": null,
   "metadata": {},
   "outputs": [],
   "source": [
    "dirty_data = []\n",
    "# for each tuple in the users list\n",
    "for user in users:\n",
    "    # for each item in the tuple\n",
    "    for info in user:\n",
    "        # if the value is None\n",
    "        if info == None:\n",
    "            # then append the tuple to the other list\n",
    "            dirty_data.append(user)"
   ]
  },
  {
   "cell_type": "markdown",
   "metadata": {},
   "source": [
    "**Solution 2: No Inner Loop (More Concise)**"
   ]
  },
  {
   "cell_type": "code",
   "execution_count": null,
   "metadata": {},
   "outputs": [],
   "source": [
    "dirty_data = []\n",
    "\n",
    "# for each tupe in the list\n",
    "for user in users:\n",
    "    # if any of its items are NOT true\n",
    "    if not all(user):\n",
    "        # then add it to dirty_data\n",
    "        dirty_data.append(user)"
   ]
  },
  {
   "cell_type": "markdown",
   "metadata": {},
   "source": [
    "**Solution 3: No Inner Loop**"
   ]
  },
  {
   "cell_type": "code",
   "execution_count": null,
   "metadata": {},
   "outputs": [],
   "source": [
    "for user in users:\n",
    "    if None in user:\n",
    "        dirty_data.append(user)"
   ]
  },
  {
   "cell_type": "markdown",
   "metadata": {},
   "source": [
    "### Scenario 3:  List Comprehensions"
   ]
  },
  {
   "cell_type": "code",
   "execution_count": null,
   "metadata": {},
   "outputs": [],
   "source": [
    "csv_files = [file for file in os.listdir(path) if file[-4:] == '.csv']"
   ]
  },
  {
   "cell_type": "markdown",
   "metadata": {},
   "source": [
    "### Scenario 4:  Password Verification"
   ]
  },
  {
   "cell_type": "code",
   "execution_count": null,
   "metadata": {},
   "outputs": [],
   "source": [
    "password = input(\"Please enter your password: \")"
   ]
  },
  {
   "cell_type": "code",
   "execution_count": null,
   "metadata": {},
   "outputs": [],
   "source": [
    "has_specials = any(not letter.isalnum() for letter in password)\n",
    "has_alphas   = any(letter.isalpha() for letter in password)\n",
    "has_nums     = any(letter.isdigit() for letter in password)\n",
    "\n",
    "if len(password) >= 10 and has_specials and has_alphas and has_nums:\n",
    "    print(\"Great, your password meets the criteria!\")\n",
    "else:\n",
    "    print(\"Please try again\")"
   ]
  },
  {
   "cell_type": "markdown",
   "metadata": {},
   "source": [
    "### Scenario 5:  Zipping Lists Together"
   ]
  },
  {
   "cell_type": "markdown",
   "metadata": {},
   "source": [
    "**Example 1: How many times does the value in one list equal that in another?**"
   ]
  },
  {
   "cell_type": "code",
   "execution_count": null,
   "metadata": {},
   "outputs": [],
   "source": [
    "list1 = [2, 3, 6, 8, 3, 2, 10, 14, 11, 9, 8, 4]\n",
    "list2 = [3, 5, 6, 2, 1, 2, 10, 9, 7, 9, 1, 4]"
   ]
  },
  {
   "cell_type": "code",
   "execution_count": null,
   "metadata": {},
   "outputs": [],
   "source": [
    "# straight forward solution\n",
    "num_equals = 0\n",
    "for item1, item2 in zip(list1, list2):\n",
    "    if item1 == item2:\n",
    "        num_equals += 1"
   ]
  },
  {
   "cell_type": "code",
   "execution_count": null,
   "metadata": {},
   "outputs": [],
   "source": [
    "# this is a slightly more 'clever' solution, if you are into one liners\n",
    "num_equals = sum(1 for item1, item2 in zip(list1, list2) if item1 == item2)"
   ]
  },
  {
   "cell_type": "markdown",
   "metadata": {},
   "source": [
    "**Example 2:  Calculate the Euclidean Distance**"
   ]
  },
  {
   "cell_type": "code",
   "execution_count": null,
   "metadata": {},
   "outputs": [],
   "source": [
    "val1 = [2, 4, 8, 12, 7]\n",
    "val2 = [1, 0, -1, 9, 5]"
   ]
  },
  {
   "cell_type": "code",
   "execution_count": null,
   "metadata": {},
   "outputs": [],
   "source": [
    "# straight forward solution\n",
    "from math import sqrt\n",
    "distance = 0\n",
    "for item1, item2 in zip(val1, val2):\n",
    "    distance += (item1 - item2)**2\n",
    "distance = sqrt(distance)"
   ]
  },
  {
   "cell_type": "code",
   "execution_count": null,
   "metadata": {},
   "outputs": [],
   "source": [
    "# more concise way\n",
    "distance = sqrt(sum((item1 - item2)**2 for item1, item2 in zip(val1, val2)))"
   ]
  },
  {
   "cell_type": "code",
   "execution_count": null,
   "metadata": {},
   "outputs": [],
   "source": []
  }
 ],
 "metadata": {
  "kernelspec": {
   "display_name": "Python 3",
   "language": "python",
   "name": "python3"
  },
  "language_info": {
   "codemirror_mode": {
    "name": "ipython",
    "version": 3
   },
   "file_extension": ".py",
   "mimetype": "text/x-python",
   "name": "python",
   "nbconvert_exporter": "python",
   "pygments_lexer": "ipython3",
   "version": "3.7.3"
  }
 },
 "nbformat": 4,
 "nbformat_minor": 2
}
