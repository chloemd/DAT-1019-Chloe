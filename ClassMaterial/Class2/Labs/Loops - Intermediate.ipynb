{
 "cells": [
  {
   "cell_type": "markdown",
   "metadata": {},
   "source": [
    "### Scenario 1:  Can you find all the csv files in your Downloads folder? \n",
    "\n",
    "use the `os` module to find a way to access the contents of a directory on your file system, and use a loop that returns a list of every csv file within a given directory.\n",
    "\n",
    "**Bonus:**  What if you had folders that were also named with a `.csv` notation?  (Not common, but it happens).  How could you check to see if the item in the directory is an actual file or not?\n",
    "\n",
    "**Extra Bonus:**  What if you only wanted to do this with files that were a certain size?\n",
    "\n",
    "**Hint:** the methods you'll want to take a look at are `os.listdir()`, `os.path.isfile()`, and `os.path.getsize()`"
   ]
  },
  {
   "cell_type": "code",
   "execution_count": null,
   "metadata": {},
   "outputs": [],
   "source": [
    "# your code here"
   ]
  },
  {
   "cell_type": "markdown",
   "metadata": {},
   "source": [
    "### Scenario 2:  Can you do a nested for-loop?\n",
    "\n",
    "You've been given a dataset that contains a list of information about different users, but there are some tainted values that have been removed.  \n",
    "\n",
    "What you need to do is create a separate list that contains only the entries that have 'dirty' entries with `None` values inside them.\n",
    "\n",
    "**Hint 1:**  A useful tool when looping is `continue`, which basically means.....just skip to the next item in the loop.  Useful when you come across a specific item that signals you want to go onto the next one.\n",
    "\n",
    "**Hint 2:**  You don't *actually* need to do an inner-loop to do this.  Two useful python functions are `any()` and `all()`.  Using one of these can shorten your code a little bit."
   ]
  },
  {
   "cell_type": "code",
   "execution_count": 4,
   "metadata": {},
   "outputs": [],
   "source": [
    "# sample data\n",
    "users = [\n",
    "    ('John', 34, None), ('Abby', 21, 'NY'), ('Jill', 41, 'OH'), ('Jason', 59, 'AL'), ('William', 35, None),\n",
    "    ('Wynona', 62, 'WY'), ('Barbara', 42, None), ('Harold', 52, None), ('Jose', 41, 'NH'), ('Ariel', 48, 'OR')\n",
    "]"
   ]
  },
  {
   "cell_type": "code",
   "execution_count": 10,
   "metadata": {},
   "outputs": [],
   "source": [
    "# your code here"
   ]
  },
  {
   "cell_type": "markdown",
   "metadata": {},
   "source": [
    "### Scenario 3:  List Comprehensions\n",
    "\n",
    "List comprehensions are compact ways to write for-loops.  They're also considered very pythonic, and Python was built for them from the ground up, so it's a good idea to start using them.  \n",
    "\n",
    "Here's a simple example.\n",
    "\n",
    "This for loop takes items that are longer than 4 letters and puts them into a new list."
   ]
  },
  {
   "cell_type": "code",
   "execution_count": 4,
   "metadata": {},
   "outputs": [],
   "source": [
    "items = ['cat', 'dog', 'hat', 'shirt', 'towel', 'detergent', 'water']\n",
    "longer_than_four = []\n",
    "\n",
    "for item in items:\n",
    "    if len(item) > 4:\n",
    "        longer_than_four.append(item)"
   ]
  },
  {
   "cell_type": "markdown",
   "metadata": {},
   "source": [
    "A list-comprehension would do the same task, but in a much shorter way:"
   ]
  },
  {
   "cell_type": "code",
   "execution_count": 2,
   "metadata": {},
   "outputs": [],
   "source": [
    "longer_than_four = [item for item in items if len(item) > 4]"
   ]
  },
  {
   "cell_type": "markdown",
   "metadata": {},
   "source": [
    "Look at the syntax, and make sure you can see what it does.  Play around with it a little bit to make sure you understand its ins and outs.\n",
    "\n",
    "Ask me if you have any questions about it.  "
   ]
  },
  {
   "cell_type": "markdown",
   "metadata": {},
   "source": [
    "**Step 1:**  Write a simple list comprehension from your own mind, just to make sure you understand how it works.  Test a few scenarios to make sure you understand what each portion of the statement means."
   ]
  },
  {
   "cell_type": "code",
   "execution_count": null,
   "metadata": {},
   "outputs": [],
   "source": [
    "# your answer here"
   ]
  },
  {
   "cell_type": "markdown",
   "metadata": {},
   "source": [
    "**Step 2:** Try and re-write the first prompt, but this time using a list comprehension.  Just check for .csv files, don't worry about the other two criteria.  (Usually if you have to use a lof of `if-else` checks then list comprehensions become more trouble than they're worth)."
   ]
  },
  {
   "cell_type": "code",
   "execution_count": null,
   "metadata": {},
   "outputs": [],
   "source": [
    "# your answer here"
   ]
  },
  {
   "cell_type": "markdown",
   "metadata": {},
   "source": [
    "### Scenario 4:  Password Verification - A 2nd Time.\n",
    "\n",
    "Let's try and re-do our password verification challenge, but this time with some more stringent checks, and a demand for more concise code. \n",
    "\n",
    "These are the requirements:\n",
    "\n",
    " - At least 1 special character\n",
    " - At least 1 letter\n",
    " - At least 1 number\n",
    " - At least 10 characters long\n",
    " \n",
    "Also, here's the other catch:  **only 1 if statement.**  We don't want a byzantine of `if-else` checks that will make our head spin when trying to re-read it.\n",
    "\n",
    "This time, use loops and (probably) gracious use of the `any()` function.  Extra kudos if you make copious use of comprehensions to shorten everything up.\n",
    "\n",
    "**Hint:**  Make sure you know how to loop through a string.  Strings and lists have a lot in common.  They are both **iterables**:  https://stackoverflow.com/questions/9884132/what-exactly-are-iterator-iterable-and-iteration\n",
    "\n",
    "**Second Hint:** `True` is equal to 1, and `False` is equal to 0, if you want to setup comparisons that way."
   ]
  },
  {
   "cell_type": "code",
   "execution_count": null,
   "metadata": {},
   "outputs": [],
   "source": [
    "# your answer here"
   ]
  },
  {
   "cell_type": "markdown",
   "metadata": {},
   "source": [
    "### Scenario 5). Looping Through Two Lists At the Same Time\n",
    "\n",
    "As the title suggest, this is often a useful technique to have in your tool belt.  The way python allows you to do this is with the `zip()` function, which, as you may have guessed........allows you to zip up two lists and treat them as one.  \n",
    "\n",
    "I'll first leave you to do a little research to see exactly how the method works.  This page is a good introduction:  https://blog.usejournal.com/zip-in-python-48cb4f70d013"
   ]
  },
  {
   "cell_type": "markdown",
   "metadata": {},
   "source": [
    "**Step 1:** Create two separate lists, zip them, and then loop through them, only printing the item in the zipped data.\n",
    "\n",
    "ie, `for item in zip(list a, list b):\n",
    "          print(item)`"
   ]
  },
  {
   "cell_type": "code",
   "execution_count": null,
   "metadata": {},
   "outputs": [],
   "source": [
    "# your answer here"
   ]
  },
  {
   "cell_type": "markdown",
   "metadata": {},
   "source": [
    "**Step 2:**  How many values in one list are equal to the other?  \n",
    "\n",
    "We'll keep with a simple example for now.  \n",
    "\n",
    "In the following cell, use the `zip()` function to count up how often an item in one list is equal to an item in the other list *that's in its same position*."
   ]
  },
  {
   "cell_type": "code",
   "execution_count": null,
   "metadata": {},
   "outputs": [],
   "source": [
    "list1 = [2, 3, 6, 8, 3, 2, 10, 14, 11, 9, 8, 4]\n",
    "list2 = [3, 5, 6, 2, 1, 2, 10, 9, 7, 9, 1, 4]"
   ]
  },
  {
   "cell_type": "code",
   "execution_count": null,
   "metadata": {},
   "outputs": [],
   "source": [
    "# your answer here"
   ]
  },
  {
   "cell_type": "markdown",
   "metadata": {},
   "source": [
    "### Scenario 6:  Can You Calculate the Euclidean Distance?\n",
    "\n",
    "Some statistical models make use of a metric known as the *Euclidean Distance* between two points in order to determine their similarity or proximity.  (K-Nearest Neighbors and K-Means clustering being the two primary examples).  \n",
    "\n",
    "This is a useful measure to detect how 'close' one data point is to another in order to figure out the best ways to group them.  \n",
    "The basic notation for Euclidean Distance is this:  \n",
    "\n",
    "$$ distance = \\sqrt{\\sum(a_{1} - b_{1})^2 + (a_{2} - b_{2})^2 + (a_{3} - b_{3})^2 + ..... + (a_{n} - b_{n})^2} $$\n",
    "\n",
    "In plain english, this is what the above term breaks down to:\n",
    "\n",
    " - take two lists\n",
    " - take the difference between the item at one position with the corresponding item in the other\n",
    " - square the value you get from the previous step\n",
    " - sum up the value you get from the previous step for every pair of points in your lists\n",
    " - take the square root of that summed value\n",
    " \n",
    "This sort of calculation is a natural candidate for the `zip()` function, so see if you can do it correctly on the following pairs of points.\n",
    "\n",
    "**Hint:**  If you are really clever you can do this in one line!"
   ]
  },
  {
   "cell_type": "code",
   "execution_count": null,
   "metadata": {},
   "outputs": [],
   "source": [
    "val1 = [2, 4, 8, 12, 7]\n",
    "val2 = [1, 0, -1, 9, 5]"
   ]
  },
  {
   "cell_type": "code",
   "execution_count": null,
   "metadata": {},
   "outputs": [],
   "source": [
    "# your answer here"
   ]
  }
 ],
 "metadata": {
  "kernelspec": {
   "display_name": "Python 3",
   "language": "python",
   "name": "python3"
  },
  "language_info": {
   "codemirror_mode": {
    "name": "ipython",
    "version": 3
   },
   "file_extension": ".py",
   "mimetype": "text/x-python",
   "name": "python",
   "nbconvert_exporter": "python",
   "pygments_lexer": "ipython3",
   "version": "3.7.3"
  }
 },
 "nbformat": 4,
 "nbformat_minor": 2
}
