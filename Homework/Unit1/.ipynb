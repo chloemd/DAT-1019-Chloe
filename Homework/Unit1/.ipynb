{
 "cells": [
  {
   "cell_type": "markdown",
   "metadata": {
    "heading_collapsed": true
   },
   "source": [
    "## Homework 1: Advanced Track -- Harvest the Twitter API"
   ]
  },
  {
   "cell_type": "markdown",
   "metadata": {
    "hidden": true
   },
   "source": [
    "**Objective:** Write a series of functions that allow you to dynamically harvest Twitter data.\n",
    "\n",
    "**Estimated Time to Complete:** 4-12 hours\n",
    "\n",
    "#### Sections\n",
    "\n",
    " - **Section 1:** Setting up your developer account, using OAuth1 authentication (approx 45-120 minutes)\n",
    " - **Sections 2 & 3:** Navigating the API documentation, getting your first query strings (approx 45-120 minutes)\n",
    " - **Section 3:** Writing your API calls (approx 90 - 360 minutes)\n",
    " \n",
    "#### What You'll Turn In:  \n",
    " - A `.py` (not a Notebook!) file that contains the functions that you were prompted to create.  These should contain comments demonstrating why your code does what it does, and after it's run, the instructor should be able to make the appropriate function calls in Spyder or any other IDE."
   ]
  },
  {
   "cell_type": "markdown",
   "metadata": {},
   "source": [
    "## Section 1:  Setting Up Your Developer Account"
   ]
  },
  {
   "cell_type": "markdown",
   "metadata": {},
   "source": [
    "Most API's require you to do a little pre-work in order to be able to use them, so the first part of this homework assignment will be spent setting up your developer account so you have API Access."
   ]
  },
  {
   "cell_type": "markdown",
   "metadata": {},
   "source": [
    "**Step 1:  Create a Twitter Developer Account**\n",
    "\n",
    " - Make sure you have a regular twitter account before you do this\n",
    " - You can apply for a developer account here:  https://developer.twitter.com/en/apply-for-access\n",
    "  - Choose either a student or hobbyist/personal account\n",
    "  - **note:** these typically get approved right away, but it's possible you might have to wait a little bit......if 15 minutes pass, it might be best to take a break and come back in an hour or so."
   ]
  },
  {
   "cell_type": "markdown",
   "metadata": {},
   "source": [
    "**Step 2:  Create An App**\n",
    "\n",
    "You don't have to intend to build an official software program to have an app.....this is just a way for you to get authentication keys to use with the API.\n",
    "\n",
    " - Go to the menu in the upper right hand corner and click on **Your Name** > **Apps**\n",
    " - Choose **Create An App**\n",
    " - You'll be prompted to enter some information about your app.  Don't worry too much about this, it can say almost anything.  You'll be prompted to list websites where it will be hosted...this can be anything for now.  Use https://generalassemb.ly if you're undecided about what to put."
   ]
  },
  {
   "cell_type": "markdown",
   "metadata": {},
   "source": [
    "**Step 3: Create Your API Tokens**\n",
    "\n",
    "Now that you have an app, you can use its API tokens to go ahead and make requests like we did in class 3.  Like a lot of API's, the Twitter API uses something called OAuth authentication.  \n",
    "\n",
    "If you didn't wait until the night before this assignment was due and have a spare 30 minutes, you can read a little about it here: https://oauth.net/\n",
    "\n",
    "In any event, you need API tokens in order to make requests.  Do the following:\n",
    "\n",
    " - Go to the **Apps** section of your developer portal\n",
    " - Click on the **Details** button for the app that you just created\n",
    " - Click on the **Keys & Tokens** tab:\n",
    "   - Two keys should already be given to you:  **API Key** & **API Secret Key**\n",
    "   - Two you have to generate:  **Access token** & **Access token secret**\n",
    " - Generate your Access Token and Access Token Secret keys.  You'll need to write these down when you're done -- you can only see them once.\n",
    "\n",
    "Now you're ready to make requests to the Twitter api.  Everytime you make a request, you'll need to include the 4 tokens you just created.  (You can always regenerate them for whatever reason).  "
   ]
  },
  {
   "cell_type": "markdown",
   "metadata": {},
   "source": [
    "**Step 4:  Your First Request**\n",
    "\n",
    "To make requests to the Twitter API you're going to need a module which is **not** already pre-installed in Anaconda. You'll need to install it via PIP, which is python's package manager.  It's called `requests_oauthlib`.  You can install this via Anaconda Prompt or Terminal by simply typing in the command `pip install requests_oauthlib`, and then you'll be finished.\n",
    "\n",
    "The logistics of making an OAuth1 authenticated request are very similar to what was done in class 3, but with a few additional steps.  You can see how to do it here:  https://requests.readthedocs.io/en/master/user/authentication/#oauth-1-authentication.  The only thing you'll need to change is the info for your API tokens that are passed into the `OAuth1()` function.\n",
    "\n",
    "Try making a request to the following URL to confirm that you have things set up correctly: 'https://api.twitter.com/1.1/account/verify_credentials.json'"
   ]
  },
  {
   "cell_type": "code",
   "execution_count": null,
   "metadata": {},
   "outputs": [],
   "source": [
    "# your code here\n"
   ]
  },
  {
   "cell_type": "markdown",
   "metadata": {},
   "source": [
    "If you get your json object back, then you're good to go."
   ]
  },
  {
   "cell_type": "markdown",
   "metadata": {},
   "source": [
    "## Section 2: Searching Tweets"
   ]
  },
  {
   "cell_type": "markdown",
   "metadata": {},
   "source": [
    "Most websites you access will have a long string attached to the end of them that look something like this:  `http://thewebsite.com/?year=2019&color=golden%20yellow&user_id=48549395959438`.\n",
    "\n",
    "Most people have no reason to pay attention to any of this, but all the special symbols at the end are basically encoded commands that say 'return a website that displays x,y,z characteristics.'  \n",
    "\n",
    "When accessing api data, it basically works the same way."
   ]
  },
  {
   "cell_type": "markdown",
   "metadata": {},
   "source": [
    "**Step 1:  Set Up Your First Query String**"
   ]
  },
  {
   "cell_type": "markdown",
   "metadata": {},
   "source": [
    "If you go into Twitter and search for the term `Data Science`, you should be brought to a url that looks like this:  `https://twitter.com/search?q=Data%20Science&src=typed_query`\n",
    "\n",
    "If you'd like, you can drop the `&src=typed_query` from the url and still get the same results.\n",
    "\n",
    "There are some important details to pay attention to:\n",
    "\n",
    " - Like class 3 when we worked with GitHub, there is a **base url**.  In this case it's `https://twitter.com/search`\n",
    " - Whenever you enter a search for something, the base url will be followed by something that looks like `?q=My%20Search%20Term`\n",
    "  - The `?` marks the beginning of the query string.  This basically says 'initiate a request with whatever parameters that follow'\n",
    "  - The `q` is a **parameter**, essentially some condition to pass into the query string that determines what results will be given back to you.  In this case, `q` encodes the text you typed in into something the API can understand.\n",
    "  \n",
    "**Useful Thing To Do Right Now:** Go back to the Twitter search page, and just try searching for different things, and notice what shows up after the `q=`.  Here are some questions to ask yourself:\n",
    "\n",
    " - How are white spaces encoded?  Ie, if you search for `Jonathan Bechtel` in the search box, what shows up to account for the space between the two words?\n",
    " - What about hash symbols?  If you search for `#MeToo`, `#GirlsWhoCode` or `#DataScience`, what happens with that `#` symbol?\n",
    " - Once you get the hang of this, see if you can just re-create some searches yourself by creating the url directly, and bypassing the search box altogether.  Ie, be familiar enough with how searches are formatted that you know `https://twitter.com/search?q=%23DataScience` will take you to the same page as typing in `#DataScience` into the search box.\n",
    "\n",
    "Now, let's try and make a request for a search for `Data Science`.  \n",
    "\n",
    "If you look at Twitter's docs, you'll see that the base url for the search API is `'https://api.twitter.com/1.1/search/tweets.json`\n",
    "\n",
    "This means you have to add the `?q=Whatever%20Word%20%Goes%20Here` to the end to complete the search.\n",
    "\n",
    "So go ahead, and see if you can create your API call for a search for the term `Data Science`.\n",
    "\n",
    "If you did it correctly, you should have a dictionary with a key called `statuses`, and it'll be a list with all of the tweets returned by your search.  "
   ]
  },
  {
   "cell_type": "code",
   "execution_count": 32,
   "metadata": {},
   "outputs": [],
   "source": [
    "# your answer here\n"
   ]
  },
  {
   "cell_type": "markdown",
   "metadata": {},
   "source": [
    "For good measure, try doing a search for tweets relating to `#MeToo` as well."
   ]
  },
  {
   "cell_type": "code",
   "execution_count": null,
   "metadata": {},
   "outputs": [],
   "source": [
    "# your answer here\n"
   ]
  },
  {
   "cell_type": "markdown",
   "metadata": {},
   "source": [
    "**Step 2:  Adding Parameters to Your Query String**"
   ]
  },
  {
   "cell_type": "markdown",
   "metadata": {},
   "source": [
    "Query strings basically have two parts:\n",
    "\n",
    " - The `?` initiates the beginning of the API call, and basically says 'everything that follows this will encode something about the information that's going to get returned to you'.\n",
    " - What follows that is are a bunch of symbols followed by `=` signs.  These are parameters.\n",
    " - So when you make an api call to `'https://api.twitter.com/1.1/search/tweets.json?q=My%20Search%20Term`, the `q` is a paremeter.  \n",
    " - You can add multiple paremeters to a query string. They are separated by `&`. They dictate what kinds of results are returned.  \n",
    "  - For example, a parameter you can use in Twitter's search API is `count`, which tells you how many results to return.  The default is 15, but you can return up to 100.  So if we wanted to search for tweets and return 50 results our query string would look like the following:\n",
    "    `https://api.twitter.com/1.1/search/tweets.json?q=My%20Search%20String&count=50`\n",
    "  - You can add as many of these parameters to your string as you'd like.  So for example, if we wanted to include parameters for `count` and `result_type`, we could do the following: `https://api.twitter.com/1.1/search/tweets.json?q=My%20Search%20String&count=50&result_type=mixed`\n",
    "  \n",
    "To get the hang of this, try searching for tweets that mention the hashtag `#DeepLearning`, and return 75 results."
   ]
  },
  {
   "cell_type": "code",
   "execution_count": null,
   "metadata": {},
   "outputs": [],
   "source": []
  },
  {
   "cell_type": "markdown",
   "metadata": {},
   "source": [
    "Try adding a second parameter.  You can find the list here:  https://developer.twitter.com/en/docs/tweets/search/api-reference/get-search-tweets"
   ]
  },
  {
   "cell_type": "code",
   "execution_count": null,
   "metadata": {},
   "outputs": [],
   "source": []
  },
  {
   "cell_type": "markdown",
   "metadata": {},
   "source": [
    "## Section 3: Searching Users"
   ]
  },
  {
   "cell_type": "markdown",
   "metadata": {},
   "source": [
    "The last section of the API you'll need to get the hang of before you're let loose is the users API, which allows you to search for users and get their followers, friends, etc, as opposed to tweets which fit a particular criteria.  This part is pretty similar to the advanced lab in class 3, so if you saw how that worked then you shouldn't need much instruction.  \n",
    "\n",
    "But if you're seeing this with fresh eyes, you'll want to spend 15-20 minutes to make sure you understand this part.  \n",
    "\n",
    "Official documentation can be found here:  https://developer.twitter.com/en/docs/accounts-and-users/follow-search-get-users/overview\n",
    "\n",
    "So, as an example, if you want to get a list of someone's followers, you use the base url `https://api.twitter.com/1.1/followers/list.json` and then enter your query string to get a list of that person's followers.  \n",
    "\n",
    "List of parameters to use can be found here:  https://developer.twitter.com/en/docs/accounts-and-users/follow-search-get-users/api-reference/get-followers-list\n",
    "\n",
    "One possible parameter to use is `screen_name`, so if you wanted to get a list of someone's followers based on their screen name (the handle that begins with an @), then you would set up your API call to look something like:\n",
    "\n",
    "`https://api.twitter.com/1.1/followers/list.json?screen_name=persons_screenname`\n",
    "\n",
    "Note that you exclude the `@`.\n",
    "\n",
    "**Your turn:** Pull in the list of General Assembly's followers.  General Assembly's handle is `@GA`.\n",
    "\n",
    "Note that this won't return the whole list of GA's users.  If you want to do that you have to use cursoring:  https://developer.twitter.com/en/docs/basics/cursoring.  This is the topic of your bonus assignment."
   ]
  },
  {
   "cell_type": "code",
   "execution_count": 2,
   "metadata": {},
   "outputs": [],
   "source": [
    "# your answer here\n"
   ]
  },
  {
   "cell_type": "markdown",
   "metadata": {},
   "source": [
    "## Section 4: Functions"
   ]
  },
  {
   "cell_type": "markdown",
   "metadata": {},
   "source": [
    "This section details the functions you have to write and turn in as part of your homework assignment.  \n",
    "\n",
    "Please read the requirements carefully.\n",
    "\n",
    "**What you'll turn in:** A `.py` file with all of the functions written.  We should be able to load this into an IDE, run the file, and then call your functions to verify how and if they work. This file should also be properly commented so we can follow your line of reasoning.\n",
    "\n",
    "The functions you'll be prompted to write will be defined in the following ways:\n",
    "\n",
    " - **name:** the name of the function\n",
    " - **returns:** what the function should return\n",
    " - **arguments:** arguments to include inside the function in order to specify how it should behave.\n",
    " \n",
    " **Note:** The free API has limitations built into it, so this means from time-to-time you'll only be able to return some of the results from the API.  This is fine.  It's understood and recognized that your functions won't be able to return an entire list of someone's users or other such things, so as long as your work delivers the best it can under present circumstances you'll be in good shape.\n",
    " \n",
    " **Other Note:** Every aspect of the API that you need to use can be found on either of these pages.\n",
    " \n",
    " Search API:  https://developer.twitter.com/en/docs/tweets/search/api-reference/get-search-tweets\n",
    " \n",
    " Users API: https://developer.twitter.com/en/docs/accounts-and-users/follow-search-get-users/api-reference\n",
    " \n",
    "**Remarks About Your Final Work**\n",
    "\n",
    " - It's okay if you get stuck somewhere.  If there's one item that you can't figure out and it doesn't quite work right, it's probably best to move on and try other things.  Again, try and explain what you were looking to do.  You'll pass if you give an honest effort.\n",
    " - There's potentially a lot of error handling you could do to verify user input is correct, but you can leave that alone for now.  Just make sure the core purpose of the function works the way it's supposed to.\n",
    " - While you're working on this, it's possible you may bump into your API limits.  Keep this in mind if you have a function that's working, but 45 minutes later it doesn't and you haven't changed anything.  This usually means the data you're getting back from your API calls isn't what it's supposed to be because you've exhausted your limits. We won't hold you to double checking for all of this in your functions.\n",
    " - In the file you turn in, make sure your requests are referencing your API tokens, so that way we can run your file right away.  Ie, make sure somewhere in your script you have a variable at the top that reads `tokens = OAuth1('token1', 'token2', 'token3', 'token4')` so it can be used for your requests inside the file."
   ]
  },
  {
   "cell_type": "markdown",
   "metadata": {},
   "source": [
    "##### Function 1 (Required)"
   ]
  },
  {
   "cell_type": "markdown",
   "metadata": {},
   "source": [
    "**Name:** `find_user`\n",
    "\n",
    "**Returns:** dictionary that represents user object returned by Twitter's API\n",
    "\n",
    "**Arguments:**\n",
    " - `screen_name`: str, required; Twitter handle to search for.  **Can include the @ symbol.  The function should check for this and remove it if necessary.**\n",
    " - `keys`: list, optional; list that contains keys to return about user object.  If not specified, then function should return the entire user object.  **These only need to be outer keys.** If they are keys nested within another key, you don't have to account for this.\n",
    " \n",
    "**To test:** We'll test your function in the following ways:\n",
    "\n",
    " - `find_user('@GA')`\n",
    " - `find_user('GA')`\n",
    " - `find_user('GA', keys=['name', 'screen_name', 'followers_count', 'friends_count'])`"
   ]
  },
  {
   "cell_type": "markdown",
   "metadata": {
    "heading_collapsed": true
   },
   "source": [
    "##### Function 2 (Required)"
   ]
  },
  {
   "cell_type": "markdown",
   "metadata": {
    "hidden": true
   },
   "source": [
    "**Name:** `find_hashtag`\n",
    "\n",
    "**Returns:** list of data objects that contain information about each tweet that matches the hashtag provided as input.\n",
    "\n",
    "**Arguments:**\n",
    " - `hashtag`: str, required; text to use as a hashtag search.  \n",
    " - `count`: int, optional; number of results to return\n",
    " - `search_type`: str, optional; type of results to return.  should accept 3 different values:\n",
    "   - `mixed`:   return mix of most recent and most popular results\n",
    "   - `recent`:  return most recent results\n",
    "   - `popular`: return most popular results\n",
    "   \n",
    "**Note:** User should **not** have to actually use the `#` character for the `hashtag` argument.  The function should check to see if it's there, and if not, add it in for them.\n",
    "\n",
    "**To Test:**  We'll check your function in the following ways:\n",
    " - `find_hashtag('DataScience')`\n",
    " - `find_hashtag('#DataScience')`\n",
    " - `find_hashtag('#DataScience', count=100)`, and double check the length of the `statuses` key to make sure it contains the right amount of results.  **Note:** Due to the version of the API we're using, the number of results returned will **not** necessarily match the value passed into the `count` parameter.  So if you specify 50 and it only returns 45, you are likely still doing it correctly.\n",
    " - `find_hashtag('#DataScience', search_type='recent/mixed/popular')`"
   ]
  },
  {
   "cell_type": "markdown",
   "metadata": {},
   "source": [
    "##### Function 3 (Required)"
   ]
  },
  {
   "cell_type": "markdown",
   "metadata": {},
   "source": [
    "**Name:** `get_followers`\n",
    "\n",
    "**Returns:** list of data objects for each of the users followers, returning values for the `name`, `followers_count`, `friends_count`, and `screen_name` key for each user.\n",
    "\n",
    "**Arguments:** \n",
    "\n",
    " - `screen_name`: str, required; Twitter handle to search for.  **Results should not depend on user inputting the @ symbol.**\n",
    " - `keys`: list, required;  keys to return for each user.  default value: [`name`, `followers_count`, `friends_count`, `screen_name`]; if something else is listed, values for those keys should be returned\n",
    " - `to_df`: bool, required; default value: False; if True, return results in a dataframe.  Every value provided in the `keys` argument should be its own column, with rows populated by the corresponding values for each one for every user.\n",
    " \n",
    "**To Test:** We'll test your functions in the following ways:\n",
    "\n",
    " - `get_followers('@GA')`\n",
    " - `get_followers('GA')`\n",
    " - `get_followers('GA', keys=['name', 'followers_count'])`\n",
    " - `get_followers('GA', keys=['name', 'followers_count'], to_df=True)`\n",
    " - `get_followers('GA', to_df=True)`"
   ]
  },
  {
   "cell_type": "markdown",
   "metadata": {},
   "source": [
    "##### Function 4 (Optional)"
   ]
  },
  {
   "cell_type": "markdown",
   "metadata": {},
   "source": [
    "**Name:** `friends_of_friends`\n",
    "\n",
    "**Returns:** list of data objects for each user that two Twitter users have in common\n",
    "\n",
    "**Arguments:**\n",
    "\n",
    " - `names`: list, required; list of two Twitter users to compare friends list with\n",
    " - `keys`: list, optional; list of keys to return for information about each user.  Default value should be to return the entire data object.\n",
    " - `to_df`: bool, required; default value: False; if True, returns results in a dataframe.\n",
    " \n",
    "**To Test:** We'll test your function in the following ways:\n",
    "\n",
    " - `friends_of_friends(['Beyonce', 'MariahCarey'])`\n",
    " - `friends_of_friends(['@Beyonce', '@MariahCarey'], to_df=True)`\n",
    " - `friends_of_friends(['Beyonce', 'MariahCarey'], keys=['id', 'name'])`\n",
    " - `friends_of_friends(['Beyonce', 'MariahCarey'], keys=['id', 'name'], to_df=True)`\n",
    " \n",
    "Each of these should return 3 results. (Assuming they haven't followed the same people since this was last written).  \n",
    "\n",
    "**Hint:** The `id` key is the unique identifier for someone, so if you want to check if two people are the same this is the best way to do it."
   ]
  },
  {
   "cell_type": "markdown",
   "metadata": {},
   "source": [
    " ##### Function 5 (Optional)"
   ]
  },
  {
   "cell_type": "markdown",
   "metadata": {},
   "source": [
    "Rewrite the `friends_of_friends` function, except this time include an argument called `full_search`, which accepts a boolean value.  If set to `True`, use cursoring to cycle through the complete set of users for the users provided.  \n",
    "\n",
    "The twitter API only returns a subset of users in your results to save bandwidth, so you have to cycle through multiple result sets to get all of the values.\n",
    "\n",
    "You can read more about how this works here:  https://developer.twitter.com/en/docs/basics/cursoring\n",
    "\n",
    "Basically you have to do a `while` loop to continually make a new request using the values stored in the `next_cursor` key as part of your next query string until there's nothing left to search.\n",
    "\n",
    "**Note:** We're using the free API, so we're operating under some limitations.  One of them being that you can only make 15 API calls in a 15 minute span to this portion of the API.  You can also only return up to 200 results per cursor, so this means you won't be able to completely search for everyone even if you set this up correctly.\n",
    "\n",
    "That's fine, just do what you can under the circumstances.\n",
    "\n",
    "**To Test:** To test your function, we'll run the following function calls:\n",
    "\n",
    " - `friends_of_friends(['ezraklein', 'tylercowen'])` -- should return 4 results if you do an API call that returns 200 results\n",
    " - `friends_of_friends(['ezraklein', 'tylercowen'], full_search=True)` -- should return 54 results if you do an API call that returns 200 results\n",
    " \n",
    "**Hint:** Chances are you will exhaust your API limits quite easily in this function depending on who you search for.  Depending on how you have things set up, this could cause error messages to arise when things are otherwise fine.  Remember in class 3 when we were getting those weird dictionaries back because our limits were used up?  We won't hold you accountable for handling this inside your function, although it could make some things easier for your own testing.\n",
    "       \n",
    "Good luck!"
   ]
  }
 ],
 "metadata": {
  "kernelspec": {
   "display_name": "Python 3",
   "language": "python",
   "name": "python3"
  },
  "language_info": {
   "codemirror_mode": {
    "name": "ipython",
    "version": 3
   },
   "file_extension": ".py",
   "mimetype": "text/x-python",
   "name": "python",
   "nbconvert_exporter": "python",
   "pygments_lexer": "ipython3",
   "version": "3.8.3"
  },
  "widgets": {
   "application/vnd.jupyter.widget-state+json": {
    "state": {},
    "version_major": 2,
    "version_minor": 0
   }
  }
 },
 "nbformat": 4,
 "nbformat_minor": 2
}
