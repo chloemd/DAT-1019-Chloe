{
 "cells": [
  {
   "cell_type": "markdown",
   "metadata": {},
   "source": [
    "<img src=\"http://imgur.com/1ZcRyrc.png\" style=\"float: left; margin: 20px; height: 55px\">\n",
    "\n",
    "# Project 2: Analyzing IMDb Data\n",
    "\n",
    "_Author: Kevin Markham (DC)_\n",
    "\n",
    "---"
   ]
  },
  {
   "cell_type": "markdown",
   "metadata": {},
   "source": [
    "For project two, you will complete a series of exercises exploring movie rating data from IMDb.\n",
    "\n",
    "For these exercises, you will be conducting basic exploratory data analysis on IMDB's movie data, looking to answer such questions as:\n",
    "\n",
    "What is the average rating per genre?\n",
    "How many different actors are in a movie?\n",
    "\n",
    "This process will help you practice your data analysis skills while becoming comfortable with Pandas."
   ]
  },
  {
   "cell_type": "markdown",
   "metadata": {},
   "source": [
    "## Basic level"
   ]
  },
  {
   "cell_type": "code",
   "execution_count": 220,
   "metadata": {},
   "outputs": [],
   "source": [
    "import pandas as pd\n",
    "import matplotlib.pyplot as plt\n",
    "%matplotlib inline\n",
    "import numpy as np\n",
    "import plotly.express as px\n",
    "import plotly.graph_objects as go"
   ]
  },
  {
   "cell_type": "markdown",
   "metadata": {},
   "source": [
    "#### Read in 'imdb_1000.csv' and store it in a DataFrame named movies."
   ]
  },
  {
   "cell_type": "code",
   "execution_count": 273,
   "metadata": {},
   "outputs": [
    {
     "data": {
      "text/html": [
       "<div>\n",
       "<style scoped>\n",
       "    .dataframe tbody tr th:only-of-type {\n",
       "        vertical-align: middle;\n",
       "    }\n",
       "\n",
       "    .dataframe tbody tr th {\n",
       "        vertical-align: top;\n",
       "    }\n",
       "\n",
       "    .dataframe thead th {\n",
       "        text-align: right;\n",
       "    }\n",
       "</style>\n",
       "<table border=\"1\" class=\"dataframe\">\n",
       "  <thead>\n",
       "    <tr style=\"text-align: right;\">\n",
       "      <th></th>\n",
       "      <th>star_rating</th>\n",
       "      <th>title</th>\n",
       "      <th>content_rating</th>\n",
       "      <th>genre</th>\n",
       "      <th>duration</th>\n",
       "      <th>actors_list</th>\n",
       "    </tr>\n",
       "  </thead>\n",
       "  <tbody>\n",
       "    <tr>\n",
       "      <th>0</th>\n",
       "      <td>9.3</td>\n",
       "      <td>The Shawshank Redemption</td>\n",
       "      <td>R</td>\n",
       "      <td>Crime</td>\n",
       "      <td>142</td>\n",
       "      <td>[u'Tim Robbins', u'Morgan Freeman', u'Bob Gunt...</td>\n",
       "    </tr>\n",
       "    <tr>\n",
       "      <th>1</th>\n",
       "      <td>9.2</td>\n",
       "      <td>The Godfather</td>\n",
       "      <td>R</td>\n",
       "      <td>Crime</td>\n",
       "      <td>175</td>\n",
       "      <td>[u'Marlon Brando', u'Al Pacino', u'James Caan']</td>\n",
       "    </tr>\n",
       "    <tr>\n",
       "      <th>2</th>\n",
       "      <td>9.1</td>\n",
       "      <td>The Godfather: Part II</td>\n",
       "      <td>R</td>\n",
       "      <td>Crime</td>\n",
       "      <td>200</td>\n",
       "      <td>[u'Al Pacino', u'Robert De Niro', u'Robert Duv...</td>\n",
       "    </tr>\n",
       "    <tr>\n",
       "      <th>3</th>\n",
       "      <td>9.0</td>\n",
       "      <td>The Dark Knight</td>\n",
       "      <td>PG-13</td>\n",
       "      <td>Action</td>\n",
       "      <td>152</td>\n",
       "      <td>[u'Christian Bale', u'Heath Ledger', u'Aaron E...</td>\n",
       "    </tr>\n",
       "    <tr>\n",
       "      <th>4</th>\n",
       "      <td>8.9</td>\n",
       "      <td>Pulp Fiction</td>\n",
       "      <td>R</td>\n",
       "      <td>Crime</td>\n",
       "      <td>154</td>\n",
       "      <td>[u'John Travolta', u'Uma Thurman', u'Samuel L....</td>\n",
       "    </tr>\n",
       "  </tbody>\n",
       "</table>\n",
       "</div>"
      ],
      "text/plain": [
       "   star_rating                     title content_rating   genre  duration  \\\n",
       "0          9.3  The Shawshank Redemption              R   Crime       142   \n",
       "1          9.2             The Godfather              R   Crime       175   \n",
       "2          9.1    The Godfather: Part II              R   Crime       200   \n",
       "3          9.0           The Dark Knight          PG-13  Action       152   \n",
       "4          8.9              Pulp Fiction              R   Crime       154   \n",
       "\n",
       "                                         actors_list  \n",
       "0  [u'Tim Robbins', u'Morgan Freeman', u'Bob Gunt...  \n",
       "1    [u'Marlon Brando', u'Al Pacino', u'James Caan']  \n",
       "2  [u'Al Pacino', u'Robert De Niro', u'Robert Duv...  \n",
       "3  [u'Christian Bale', u'Heath Ledger', u'Aaron E...  \n",
       "4  [u'John Travolta', u'Uma Thurman', u'Samuel L....  "
      ]
     },
     "execution_count": 273,
     "metadata": {},
     "output_type": "execute_result"
    }
   ],
   "source": [
    "movies = pd.read_csv('./data/imdb_1000.csv')\n",
    "movies.head()"
   ]
  },
  {
   "cell_type": "markdown",
   "metadata": {},
   "source": [
    "#### Check the number of rows and columns."
   ]
  },
  {
   "cell_type": "code",
   "execution_count": 9,
   "metadata": {},
   "outputs": [
    {
     "name": "stdout",
     "output_type": "stream",
     "text": [
      "979 rows. 6 columns.\n"
     ]
    }
   ],
   "source": [
    "# Answer: \n",
    "print(f\"{len(movies.index)} rows. {movies.shape[1]} columns.\")"
   ]
  },
  {
   "cell_type": "markdown",
   "metadata": {},
   "source": [
    "#### Check the data type of each column."
   ]
  },
  {
   "cell_type": "code",
   "execution_count": 11,
   "metadata": {},
   "outputs": [
    {
     "data": {
      "text/plain": [
       "star_rating       float64\n",
       "title              object\n",
       "content_rating     object\n",
       "genre              object\n",
       "duration            int64\n",
       "actors_list        object\n",
       "dtype: object"
      ]
     },
     "execution_count": 11,
     "metadata": {},
     "output_type": "execute_result"
    }
   ],
   "source": [
    "# Answer:\n",
    "movies.dtypes"
   ]
  },
  {
   "cell_type": "markdown",
   "metadata": {},
   "source": [
    "The data types are float for the star rating, integer for the movie duration in minutes, and strings for everything else."
   ]
  },
  {
   "cell_type": "markdown",
   "metadata": {},
   "source": [
    "#### Calculate the average movie duration."
   ]
  },
  {
   "cell_type": "code",
   "execution_count": 19,
   "metadata": {},
   "outputs": [
    {
     "name": "stdout",
     "output_type": "stream",
     "text": [
      " Average movie duration: 120.98 minutes.\n"
     ]
    }
   ],
   "source": [
    "# Answer:\n",
    "print(f\" Average movie duration: {round(movies['duration'].mean(),2)} minutes.\")"
   ]
  },
  {
   "cell_type": "markdown",
   "metadata": {},
   "source": [
    "#### Sort the DataFrame by duration to find the shortest and longest movies."
   ]
  },
  {
   "cell_type": "code",
   "execution_count": 39,
   "metadata": {},
   "outputs": [
    {
     "data": {
      "text/html": [
       "<style  type=\"text/css\" >\n",
       "</style><table id=\"T_05db1ac5_2cef_11eb_82a7_a4fc771b849c\" ><caption>Longest 5 Movies</caption><thead>    <tr>        <th class=\"blank level0\" ></th>        <th class=\"col_heading level0 col0\" >title</th>        <th class=\"col_heading level0 col1\" >duration</th>    </tr></thead><tbody>\n",
       "                <tr>\n",
       "                        <th id=\"T_05db1ac5_2cef_11eb_82a7_a4fc771b849clevel0_row0\" class=\"row_heading level0 row0\" >476</th>\n",
       "                        <td id=\"T_05db1ac5_2cef_11eb_82a7_a4fc771b849crow0_col0\" class=\"data row0 col0\" >Hamlet</td>\n",
       "                        <td id=\"T_05db1ac5_2cef_11eb_82a7_a4fc771b849crow0_col1\" class=\"data row0 col1\" >242</td>\n",
       "            </tr>\n",
       "            <tr>\n",
       "                        <th id=\"T_05db1ac5_2cef_11eb_82a7_a4fc771b849clevel0_row1\" class=\"row_heading level0 row1\" >157</th>\n",
       "                        <td id=\"T_05db1ac5_2cef_11eb_82a7_a4fc771b849crow1_col0\" class=\"data row1 col0\" >Gone with the Wind</td>\n",
       "                        <td id=\"T_05db1ac5_2cef_11eb_82a7_a4fc771b849crow1_col1\" class=\"data row1 col1\" >238</td>\n",
       "            </tr>\n",
       "            <tr>\n",
       "                        <th id=\"T_05db1ac5_2cef_11eb_82a7_a4fc771b849clevel0_row2\" class=\"row_heading level0 row2\" >78</th>\n",
       "                        <td id=\"T_05db1ac5_2cef_11eb_82a7_a4fc771b849crow2_col0\" class=\"data row2 col0\" >Once Upon a Time in America</td>\n",
       "                        <td id=\"T_05db1ac5_2cef_11eb_82a7_a4fc771b849crow2_col1\" class=\"data row2 col1\" >229</td>\n",
       "            </tr>\n",
       "            <tr>\n",
       "                        <th id=\"T_05db1ac5_2cef_11eb_82a7_a4fc771b849clevel0_row3\" class=\"row_heading level0 row3\" >142</th>\n",
       "                        <td id=\"T_05db1ac5_2cef_11eb_82a7_a4fc771b849crow3_col0\" class=\"data row3 col0\" >Lagaan: Once Upon a Time in India</td>\n",
       "                        <td id=\"T_05db1ac5_2cef_11eb_82a7_a4fc771b849crow3_col1\" class=\"data row3 col1\" >224</td>\n",
       "            </tr>\n",
       "            <tr>\n",
       "                        <th id=\"T_05db1ac5_2cef_11eb_82a7_a4fc771b849clevel0_row4\" class=\"row_heading level0 row4\" >445</th>\n",
       "                        <td id=\"T_05db1ac5_2cef_11eb_82a7_a4fc771b849crow4_col0\" class=\"data row4 col0\" >The Ten Commandments</td>\n",
       "                        <td id=\"T_05db1ac5_2cef_11eb_82a7_a4fc771b849crow4_col1\" class=\"data row4 col1\" >220</td>\n",
       "            </tr>\n",
       "    </tbody></table>"
      ],
      "text/plain": [
       "<pandas.io.formats.style.Styler at 0x234dcc66700>"
      ]
     },
     "execution_count": 39,
     "metadata": {},
     "output_type": "execute_result"
    }
   ],
   "source": [
    "# Answer:\n",
    "movies.sort_values(['duration'], ascending= False)[['title', 'duration']].iloc[:5].style.set_caption(\"Longest 5 Movies\")\n",
    "\n",
    "    "
   ]
  },
  {
   "cell_type": "code",
   "execution_count": 43,
   "metadata": {},
   "outputs": [
    {
     "data": {
      "text/html": [
       "<style  type=\"text/css\" >\n",
       "</style><table id=\"T_216b9b17_2cef_11eb_94b1_a4fc771b849c\" ><caption>Shortest 5 Movies</caption><thead>    <tr>        <th class=\"blank level0\" ></th>        <th class=\"col_heading level0 col0\" >title</th>        <th class=\"col_heading level0 col1\" >duration</th>    </tr></thead><tbody>\n",
       "                <tr>\n",
       "                        <th id=\"T_216b9b17_2cef_11eb_94b1_a4fc771b849clevel0_row0\" class=\"row_heading level0 row0\" >293</th>\n",
       "                        <td id=\"T_216b9b17_2cef_11eb_94b1_a4fc771b849crow0_col0\" class=\"data row0 col0\" >Duck Soup</td>\n",
       "                        <td id=\"T_216b9b17_2cef_11eb_94b1_a4fc771b849crow0_col1\" class=\"data row0 col1\" >68</td>\n",
       "            </tr>\n",
       "            <tr>\n",
       "                        <th id=\"T_216b9b17_2cef_11eb_94b1_a4fc771b849clevel0_row1\" class=\"row_heading level0 row1\" >88</th>\n",
       "                        <td id=\"T_216b9b17_2cef_11eb_94b1_a4fc771b849crow1_col0\" class=\"data row1 col0\" >The Kid</td>\n",
       "                        <td id=\"T_216b9b17_2cef_11eb_94b1_a4fc771b849crow1_col1\" class=\"data row1 col1\" >68</td>\n",
       "            </tr>\n",
       "            <tr>\n",
       "                        <th id=\"T_216b9b17_2cef_11eb_94b1_a4fc771b849clevel0_row2\" class=\"row_heading level0 row2\" >258</th>\n",
       "                        <td id=\"T_216b9b17_2cef_11eb_94b1_a4fc771b849crow2_col0\" class=\"data row2 col0\" >The Cabinet of Dr. Caligari</td>\n",
       "                        <td id=\"T_216b9b17_2cef_11eb_94b1_a4fc771b849crow2_col1\" class=\"data row2 col1\" >67</td>\n",
       "            </tr>\n",
       "            <tr>\n",
       "                        <th id=\"T_216b9b17_2cef_11eb_94b1_a4fc771b849clevel0_row3\" class=\"row_heading level0 row3\" >338</th>\n",
       "                        <td id=\"T_216b9b17_2cef_11eb_94b1_a4fc771b849crow3_col0\" class=\"data row3 col0\" >Battleship Potemkin</td>\n",
       "                        <td id=\"T_216b9b17_2cef_11eb_94b1_a4fc771b849crow3_col1\" class=\"data row3 col1\" >66</td>\n",
       "            </tr>\n",
       "            <tr>\n",
       "                        <th id=\"T_216b9b17_2cef_11eb_94b1_a4fc771b849clevel0_row4\" class=\"row_heading level0 row4\" >389</th>\n",
       "                        <td id=\"T_216b9b17_2cef_11eb_94b1_a4fc771b849crow4_col0\" class=\"data row4 col0\" >Freaks</td>\n",
       "                        <td id=\"T_216b9b17_2cef_11eb_94b1_a4fc771b849crow4_col1\" class=\"data row4 col1\" >64</td>\n",
       "            </tr>\n",
       "    </tbody></table>"
      ],
      "text/plain": [
       "<pandas.io.formats.style.Styler at 0x234dcfdf220>"
      ]
     },
     "execution_count": 43,
     "metadata": {},
     "output_type": "execute_result"
    }
   ],
   "source": [
    "movies.sort_values(['duration'], ascending= False)[['title', 'duration']].iloc[-5:].style.set_caption(\"Shortest 5 Movies\")"
   ]
  },
  {
   "cell_type": "markdown",
   "metadata": {},
   "source": [
    "#### Create a histogram of duration, choosing an \"appropriate\" number of bins."
   ]
  },
  {
   "cell_type": "markdown",
   "metadata": {},
   "source": [
    "I did a small amount of research and decided to use the Freedman-Diaconis rule for determining historgram bin size. This rule uses the **interquartile range (IQR)** and number of data points to determine a bin size. I decided to use this method rather than Sturges' rule because Sturges' can be inaccurate for large (>200) data sets.\n"
   ]
  },
  {
   "cell_type": "code",
   "execution_count": 64,
   "metadata": {},
   "outputs": [
    {
     "name": "stdout",
     "output_type": "stream",
     "text": [
      "Statistical values for Duration column: \n",
      "count    979.000000\n",
      "mean     120.979571\n",
      "std       26.218010\n",
      "min       64.000000\n",
      "25%      102.000000\n",
      "50%      117.000000\n",
      "75%      134.000000\n",
      "max      242.000000\n",
      "Name: duration, dtype: float64\n"
     ]
    }
   ],
   "source": [
    "print(f\"Statistical values for Duration column: \\n{movies['duration'].describe()}\")"
   ]
  },
  {
   "cell_type": "markdown",
   "metadata": {},
   "source": [
    "$IQR = 75^{th} percentile - 25^{th} percentile = 134 - 102 = 32$\n",
    "\n",
    "$n = 979$\n",
    "\n",
    "\n",
    "**Freedman-Diaconis rule:**\n",
    "\n",
    "Bin Size = $2 \\frac{IQR(x)}{\\sqrt[3]n}$\n",
    "\n",
    "Bin Size = $2 \\frac{32}{9.93}$ = $6.44$\n",
    "\n",
    "Rounding the bin size up to 7, I would need about 25 bins to cover the range between the min and max durations in the data set:"
   ]
  },
  {
   "cell_type": "code",
   "execution_count": 251,
   "metadata": {},
   "outputs": [
    {
     "data": {
      "application/vnd.plotly.v1+json": {
       "config": {
        "plotlyServerURL": "https://plot.ly"
       },
       "data": [
        {
         "histnorm": "",
         "marker": {
          "color": "green"
         },
         "opacity": 0.9,
         "type": "histogram",
         "x": [
          142,
          175,
          200,
          152,
          154,
          96,
          161,
          201,
          195,
          139,
          178,
          148,
          124,
          142,
          179,
          169,
          133,
          207,
          146,
          121,
          136,
          130,
          130,
          106,
          127,
          116,
          175,
          118,
          110,
          87,
          125,
          112,
          102,
          107,
          119,
          87,
          169,
          115,
          112,
          109,
          189,
          110,
          150,
          165,
          155,
          137,
          113,
          165,
          95,
          151,
          155,
          153,
          125,
          130,
          116,
          89,
          137,
          117,
          88,
          165,
          170,
          89,
          146,
          99,
          98,
          116,
          156,
          122,
          149,
          134,
          122,
          136,
          157,
          123,
          119,
          137,
          128,
          120,
          229,
          107,
          134,
          103,
          177,
          129,
          102,
          216,
          136,
          93,
          68,
          189,
          99,
          108,
          113,
          181,
          103,
          138,
          110,
          129,
          88,
          160,
          126,
          91,
          116,
          125,
          143,
          93,
          102,
          132,
          153,
          183,
          160,
          120,
          138,
          140,
          153,
          170,
          129,
          81,
          127,
          131,
          172,
          115,
          108,
          107,
          129,
          156,
          96,
          91,
          95,
          162,
          130,
          86,
          186,
          151,
          96,
          170,
          118,
          161,
          131,
          126,
          131,
          129,
          224,
          180,
          105,
          117,
          140,
          119,
          124,
          130,
          139,
          107,
          132,
          117,
          126,
          122,
          178,
          238,
          149,
          172,
          98,
          116,
          116,
          123,
          148,
          123,
          182,
          92,
          93,
          100,
          135,
          105,
          94,
          140,
          83,
          95,
          98,
          143,
          99,
          98,
          121,
          163,
          121,
          167,
          188,
          121,
          109,
          110,
          129,
          127,
          94,
          107,
          100,
          117,
          129,
          120,
          121,
          133,
          111,
          122,
          101,
          134,
          165,
          138,
          212,
          154,
          89,
          134,
          93,
          114,
          88,
          130,
          101,
          158,
          99,
          108,
          124,
          132,
          113,
          131,
          191,
          167,
          130,
          147,
          102,
          88,
          165,
          132,
          118,
          101,
          108,
          174,
          98,
          92,
          98,
          106,
          85,
          101,
          105,
          115,
          115,
          124,
          105,
          103,
          138,
          184,
          120,
          99,
          131,
          138,
          98,
          123,
          118,
          114,
          118,
          112,
          124,
          160,
          67,
          146,
          125,
          115,
          134,
          141,
          129,
          104,
          94,
          124,
          150,
          119,
          128,
          143,
          85,
          151,
          118,
          101,
          99,
          92,
          125,
          102,
          106,
          107,
          91,
          80,
          122,
          102,
          112,
          92,
          135,
          136,
          153,
          105,
          126,
          68,
          84,
          103,
          145,
          80,
          106,
          127,
          178,
          137,
          172,
          76,
          130,
          96,
          82,
          115,
          95,
          143,
          125,
          120,
          127,
          112,
          104,
          113,
          189,
          127,
          188,
          96,
          113,
          132,
          122,
          126,
          140,
          133,
          112,
          102,
          93,
          109,
          81,
          108,
          111,
          119,
          96,
          197,
          127,
          138,
          66,
          181,
          141,
          144,
          128,
          83,
          121,
          98,
          117,
          94,
          174,
          112,
          108,
          70,
          99,
          96,
          137,
          136,
          100,
          90,
          96,
          161,
          115,
          181,
          169,
          98,
          136,
          138,
          119,
          123,
          112,
          120,
          103,
          97,
          109,
          165,
          156,
          147,
          100,
          126,
          115,
          105,
          144,
          102,
          107,
          119,
          90,
          197,
          86,
          113,
          133,
          64,
          141,
          113,
          122,
          105,
          119,
          102,
          122,
          123,
          113,
          97,
          117,
          111,
          85,
          99,
          134,
          75,
          109,
          117,
          91,
          128,
          111,
          119,
          100,
          114,
          92,
          141,
          101,
          115,
          127,
          96,
          129,
          135,
          109,
          157,
          193,
          94,
          155,
          113,
          130,
          117,
          159,
          141,
          112,
          162,
          126,
          120,
          144,
          120,
          109,
          97,
          108,
          115,
          136,
          90,
          170,
          220,
          116,
          134,
          124,
          91,
          103,
          96,
          119,
          98,
          101,
          93,
          179,
          155,
          121,
          103,
          127,
          103,
          107,
          100,
          92,
          94,
          158,
          86,
          115,
          130,
          107,
          100,
          108,
          124,
          131,
          122,
          242,
          127,
          141,
          126,
          89,
          113,
          152,
          107,
          92,
          145,
          84,
          126,
          132,
          78,
          117,
          128,
          100,
          128,
          100,
          143,
          107,
          100,
          125,
          106,
          157,
          94,
          104,
          94,
          153,
          123,
          120,
          105,
          166,
          112,
          94,
          111,
          87,
          80,
          108,
          102,
          105,
          136,
          101,
          100,
          108,
          101,
          106,
          105,
          88,
          129,
          138,
          129,
          118,
          139,
          123,
          150,
          132,
          80,
          178,
          79,
          163,
          114,
          144,
          130,
          154,
          81,
          95,
          101,
          120,
          93,
          115,
          106,
          120,
          110,
          123,
          142,
          99,
          112,
          120,
          122,
          130,
          139,
          129,
          141,
          127,
          130,
          118,
          110,
          115,
          101,
          112,
          108,
          143,
          152,
          117,
          121,
          119,
          114,
          122,
          105,
          110,
          116,
          139,
          121,
          109,
          146,
          113,
          100,
          121,
          113,
          113,
          117,
          93,
          101,
          90,
          131,
          98,
          93,
          121,
          82,
          124,
          100,
          117,
          99,
          116,
          123,
          114,
          133,
          105,
          127,
          144,
          90,
          118,
          122,
          102,
          187,
          87,
          154,
          89,
          88,
          129,
          95,
          118,
          98,
          194,
          114,
          80,
          130,
          135,
          101,
          105,
          129,
          134,
          143,
          202,
          89,
          106,
          92,
          137,
          124,
          122,
          113,
          112,
          110,
          135,
          88,
          146,
          104,
          125,
          131,
          91,
          142,
          129,
          158,
          102,
          99,
          101,
          104,
          119,
          103,
          88,
          100,
          146,
          150,
          140,
          140,
          110,
          97,
          102,
          152,
          100,
          94,
          85,
          104,
          112,
          191,
          119,
          111,
          94,
          103,
          134,
          157,
          158,
          127,
          101,
          109,
          98,
          134,
          168,
          93,
          145,
          111,
          88,
          123,
          121,
          144,
          116,
          124,
          147,
          106,
          113,
          129,
          94,
          126,
          128,
          111,
          146,
          85,
          105,
          132,
          130,
          162,
          113,
          110,
          113,
          162,
          110,
          78,
          92,
          95,
          138,
          102,
          128,
          96,
          164,
          126,
          110,
          109,
          122,
          124,
          128,
          157,
          120,
          102,
          152,
          170,
          102,
          116,
          164,
          85,
          104,
          99,
          81,
          131,
          101,
          121,
          69,
          92,
          94,
          141,
          116,
          98,
          135,
          121,
          108,
          114,
          102,
          112,
          140,
          157,
          128,
          108,
          139,
          83,
          131,
          113,
          136,
          96,
          118,
          108,
          83,
          205,
          124,
          111,
          137,
          104,
          109,
          115,
          99,
          114,
          133,
          131,
          131,
          123,
          126,
          97,
          126,
          89,
          122,
          121,
          125,
          105,
          118,
          81,
          115,
          126,
          113,
          107,
          126,
          111,
          85,
          120,
          93,
          100,
          107,
          126,
          131,
          116,
          143,
          93,
          96,
          160,
          137,
          119,
          114,
          98,
          111,
          138,
          144,
          107,
          114,
          125,
          146,
          113,
          85,
          97,
          93,
          113,
          128,
          114,
          147,
          127,
          167,
          124,
          109,
          124,
          102,
          130,
          125,
          98,
          154,
          97,
          128,
          98,
          101,
          147,
          172,
          125,
          88,
          125,
          121,
          112,
          120,
          133,
          110,
          135,
          110,
          80,
          135,
          101,
          112,
          124,
          129,
          104,
          96,
          105,
          109,
          117,
          78,
          138,
          106,
          90,
          106,
          91,
          112,
          134,
          112,
          104,
          101,
          120,
          123,
          133,
          110,
          129,
          120,
          83,
          88,
          96,
          139,
          113,
          84,
          106,
          170,
          144,
          104,
          153,
          85,
          130,
          93,
          148,
          115,
          102,
          125,
          106,
          121,
          143,
          116,
          99,
          116,
          128,
          119,
          104,
          114,
          152,
          129,
          103,
          112,
          92,
          141,
          106,
          109,
          104,
          122,
          111,
          112,
          116,
          130,
          133,
          134,
          92,
          104,
          110,
          97,
          100,
          118,
          112,
          138,
          92,
          118,
          140,
          128,
          101,
          75,
          97,
          111,
          175,
          94,
          97,
          132,
          120,
          107,
          89,
          86,
          103,
          108,
          105,
          117,
          102,
          104,
          157,
          104,
          98,
          109,
          96,
          103,
          114,
          99,
          118,
          150,
          105,
          87,
          136,
          162,
          109,
          107,
          90,
          112,
          126,
          116,
          118,
          138,
          114,
          126
         ],
         "xbins": {
          "end": 250,
          "size": 7,
          "start": 50
         }
        }
       ],
       "layout": {
        "template": {
         "data": {
          "bar": [
           {
            "error_x": {
             "color": "#2a3f5f"
            },
            "error_y": {
             "color": "#2a3f5f"
            },
            "marker": {
             "line": {
              "color": "#E5ECF6",
              "width": 0.5
             }
            },
            "type": "bar"
           }
          ],
          "barpolar": [
           {
            "marker": {
             "line": {
              "color": "#E5ECF6",
              "width": 0.5
             }
            },
            "type": "barpolar"
           }
          ],
          "carpet": [
           {
            "aaxis": {
             "endlinecolor": "#2a3f5f",
             "gridcolor": "white",
             "linecolor": "white",
             "minorgridcolor": "white",
             "startlinecolor": "#2a3f5f"
            },
            "baxis": {
             "endlinecolor": "#2a3f5f",
             "gridcolor": "white",
             "linecolor": "white",
             "minorgridcolor": "white",
             "startlinecolor": "#2a3f5f"
            },
            "type": "carpet"
           }
          ],
          "choropleth": [
           {
            "colorbar": {
             "outlinewidth": 0,
             "ticks": ""
            },
            "type": "choropleth"
           }
          ],
          "contour": [
           {
            "colorbar": {
             "outlinewidth": 0,
             "ticks": ""
            },
            "colorscale": [
             [
              0,
              "#0d0887"
             ],
             [
              0.1111111111111111,
              "#46039f"
             ],
             [
              0.2222222222222222,
              "#7201a8"
             ],
             [
              0.3333333333333333,
              "#9c179e"
             ],
             [
              0.4444444444444444,
              "#bd3786"
             ],
             [
              0.5555555555555556,
              "#d8576b"
             ],
             [
              0.6666666666666666,
              "#ed7953"
             ],
             [
              0.7777777777777778,
              "#fb9f3a"
             ],
             [
              0.8888888888888888,
              "#fdca26"
             ],
             [
              1,
              "#f0f921"
             ]
            ],
            "type": "contour"
           }
          ],
          "contourcarpet": [
           {
            "colorbar": {
             "outlinewidth": 0,
             "ticks": ""
            },
            "type": "contourcarpet"
           }
          ],
          "heatmap": [
           {
            "colorbar": {
             "outlinewidth": 0,
             "ticks": ""
            },
            "colorscale": [
             [
              0,
              "#0d0887"
             ],
             [
              0.1111111111111111,
              "#46039f"
             ],
             [
              0.2222222222222222,
              "#7201a8"
             ],
             [
              0.3333333333333333,
              "#9c179e"
             ],
             [
              0.4444444444444444,
              "#bd3786"
             ],
             [
              0.5555555555555556,
              "#d8576b"
             ],
             [
              0.6666666666666666,
              "#ed7953"
             ],
             [
              0.7777777777777778,
              "#fb9f3a"
             ],
             [
              0.8888888888888888,
              "#fdca26"
             ],
             [
              1,
              "#f0f921"
             ]
            ],
            "type": "heatmap"
           }
          ],
          "heatmapgl": [
           {
            "colorbar": {
             "outlinewidth": 0,
             "ticks": ""
            },
            "colorscale": [
             [
              0,
              "#0d0887"
             ],
             [
              0.1111111111111111,
              "#46039f"
             ],
             [
              0.2222222222222222,
              "#7201a8"
             ],
             [
              0.3333333333333333,
              "#9c179e"
             ],
             [
              0.4444444444444444,
              "#bd3786"
             ],
             [
              0.5555555555555556,
              "#d8576b"
             ],
             [
              0.6666666666666666,
              "#ed7953"
             ],
             [
              0.7777777777777778,
              "#fb9f3a"
             ],
             [
              0.8888888888888888,
              "#fdca26"
             ],
             [
              1,
              "#f0f921"
             ]
            ],
            "type": "heatmapgl"
           }
          ],
          "histogram": [
           {
            "marker": {
             "colorbar": {
              "outlinewidth": 0,
              "ticks": ""
             }
            },
            "type": "histogram"
           }
          ],
          "histogram2d": [
           {
            "colorbar": {
             "outlinewidth": 0,
             "ticks": ""
            },
            "colorscale": [
             [
              0,
              "#0d0887"
             ],
             [
              0.1111111111111111,
              "#46039f"
             ],
             [
              0.2222222222222222,
              "#7201a8"
             ],
             [
              0.3333333333333333,
              "#9c179e"
             ],
             [
              0.4444444444444444,
              "#bd3786"
             ],
             [
              0.5555555555555556,
              "#d8576b"
             ],
             [
              0.6666666666666666,
              "#ed7953"
             ],
             [
              0.7777777777777778,
              "#fb9f3a"
             ],
             [
              0.8888888888888888,
              "#fdca26"
             ],
             [
              1,
              "#f0f921"
             ]
            ],
            "type": "histogram2d"
           }
          ],
          "histogram2dcontour": [
           {
            "colorbar": {
             "outlinewidth": 0,
             "ticks": ""
            },
            "colorscale": [
             [
              0,
              "#0d0887"
             ],
             [
              0.1111111111111111,
              "#46039f"
             ],
             [
              0.2222222222222222,
              "#7201a8"
             ],
             [
              0.3333333333333333,
              "#9c179e"
             ],
             [
              0.4444444444444444,
              "#bd3786"
             ],
             [
              0.5555555555555556,
              "#d8576b"
             ],
             [
              0.6666666666666666,
              "#ed7953"
             ],
             [
              0.7777777777777778,
              "#fb9f3a"
             ],
             [
              0.8888888888888888,
              "#fdca26"
             ],
             [
              1,
              "#f0f921"
             ]
            ],
            "type": "histogram2dcontour"
           }
          ],
          "mesh3d": [
           {
            "colorbar": {
             "outlinewidth": 0,
             "ticks": ""
            },
            "type": "mesh3d"
           }
          ],
          "parcoords": [
           {
            "line": {
             "colorbar": {
              "outlinewidth": 0,
              "ticks": ""
             }
            },
            "type": "parcoords"
           }
          ],
          "pie": [
           {
            "automargin": true,
            "type": "pie"
           }
          ],
          "scatter": [
           {
            "marker": {
             "colorbar": {
              "outlinewidth": 0,
              "ticks": ""
             }
            },
            "type": "scatter"
           }
          ],
          "scatter3d": [
           {
            "line": {
             "colorbar": {
              "outlinewidth": 0,
              "ticks": ""
             }
            },
            "marker": {
             "colorbar": {
              "outlinewidth": 0,
              "ticks": ""
             }
            },
            "type": "scatter3d"
           }
          ],
          "scattercarpet": [
           {
            "marker": {
             "colorbar": {
              "outlinewidth": 0,
              "ticks": ""
             }
            },
            "type": "scattercarpet"
           }
          ],
          "scattergeo": [
           {
            "marker": {
             "colorbar": {
              "outlinewidth": 0,
              "ticks": ""
             }
            },
            "type": "scattergeo"
           }
          ],
          "scattergl": [
           {
            "marker": {
             "colorbar": {
              "outlinewidth": 0,
              "ticks": ""
             }
            },
            "type": "scattergl"
           }
          ],
          "scattermapbox": [
           {
            "marker": {
             "colorbar": {
              "outlinewidth": 0,
              "ticks": ""
             }
            },
            "type": "scattermapbox"
           }
          ],
          "scatterpolar": [
           {
            "marker": {
             "colorbar": {
              "outlinewidth": 0,
              "ticks": ""
             }
            },
            "type": "scatterpolar"
           }
          ],
          "scatterpolargl": [
           {
            "marker": {
             "colorbar": {
              "outlinewidth": 0,
              "ticks": ""
             }
            },
            "type": "scatterpolargl"
           }
          ],
          "scatterternary": [
           {
            "marker": {
             "colorbar": {
              "outlinewidth": 0,
              "ticks": ""
             }
            },
            "type": "scatterternary"
           }
          ],
          "surface": [
           {
            "colorbar": {
             "outlinewidth": 0,
             "ticks": ""
            },
            "colorscale": [
             [
              0,
              "#0d0887"
             ],
             [
              0.1111111111111111,
              "#46039f"
             ],
             [
              0.2222222222222222,
              "#7201a8"
             ],
             [
              0.3333333333333333,
              "#9c179e"
             ],
             [
              0.4444444444444444,
              "#bd3786"
             ],
             [
              0.5555555555555556,
              "#d8576b"
             ],
             [
              0.6666666666666666,
              "#ed7953"
             ],
             [
              0.7777777777777778,
              "#fb9f3a"
             ],
             [
              0.8888888888888888,
              "#fdca26"
             ],
             [
              1,
              "#f0f921"
             ]
            ],
            "type": "surface"
           }
          ],
          "table": [
           {
            "cells": {
             "fill": {
              "color": "#EBF0F8"
             },
             "line": {
              "color": "white"
             }
            },
            "header": {
             "fill": {
              "color": "#C8D4E3"
             },
             "line": {
              "color": "white"
             }
            },
            "type": "table"
           }
          ]
         },
         "layout": {
          "annotationdefaults": {
           "arrowcolor": "#2a3f5f",
           "arrowhead": 0,
           "arrowwidth": 1
          },
          "coloraxis": {
           "colorbar": {
            "outlinewidth": 0,
            "ticks": ""
           }
          },
          "colorscale": {
           "diverging": [
            [
             0,
             "#8e0152"
            ],
            [
             0.1,
             "#c51b7d"
            ],
            [
             0.2,
             "#de77ae"
            ],
            [
             0.3,
             "#f1b6da"
            ],
            [
             0.4,
             "#fde0ef"
            ],
            [
             0.5,
             "#f7f7f7"
            ],
            [
             0.6,
             "#e6f5d0"
            ],
            [
             0.7,
             "#b8e186"
            ],
            [
             0.8,
             "#7fbc41"
            ],
            [
             0.9,
             "#4d9221"
            ],
            [
             1,
             "#276419"
            ]
           ],
           "sequential": [
            [
             0,
             "#0d0887"
            ],
            [
             0.1111111111111111,
             "#46039f"
            ],
            [
             0.2222222222222222,
             "#7201a8"
            ],
            [
             0.3333333333333333,
             "#9c179e"
            ],
            [
             0.4444444444444444,
             "#bd3786"
            ],
            [
             0.5555555555555556,
             "#d8576b"
            ],
            [
             0.6666666666666666,
             "#ed7953"
            ],
            [
             0.7777777777777778,
             "#fb9f3a"
            ],
            [
             0.8888888888888888,
             "#fdca26"
            ],
            [
             1,
             "#f0f921"
            ]
           ],
           "sequentialminus": [
            [
             0,
             "#0d0887"
            ],
            [
             0.1111111111111111,
             "#46039f"
            ],
            [
             0.2222222222222222,
             "#7201a8"
            ],
            [
             0.3333333333333333,
             "#9c179e"
            ],
            [
             0.4444444444444444,
             "#bd3786"
            ],
            [
             0.5555555555555556,
             "#d8576b"
            ],
            [
             0.6666666666666666,
             "#ed7953"
            ],
            [
             0.7777777777777778,
             "#fb9f3a"
            ],
            [
             0.8888888888888888,
             "#fdca26"
            ],
            [
             1,
             "#f0f921"
            ]
           ]
          },
          "colorway": [
           "#636efa",
           "#EF553B",
           "#00cc96",
           "#ab63fa",
           "#FFA15A",
           "#19d3f3",
           "#FF6692",
           "#B6E880",
           "#FF97FF",
           "#FECB52"
          ],
          "font": {
           "color": "#2a3f5f"
          },
          "geo": {
           "bgcolor": "white",
           "lakecolor": "white",
           "landcolor": "#E5ECF6",
           "showlakes": true,
           "showland": true,
           "subunitcolor": "white"
          },
          "hoverlabel": {
           "align": "left"
          },
          "hovermode": "closest",
          "mapbox": {
           "style": "light"
          },
          "paper_bgcolor": "white",
          "plot_bgcolor": "#E5ECF6",
          "polar": {
           "angularaxis": {
            "gridcolor": "white",
            "linecolor": "white",
            "ticks": ""
           },
           "bgcolor": "#E5ECF6",
           "radialaxis": {
            "gridcolor": "white",
            "linecolor": "white",
            "ticks": ""
           }
          },
          "scene": {
           "xaxis": {
            "backgroundcolor": "#E5ECF6",
            "gridcolor": "white",
            "gridwidth": 2,
            "linecolor": "white",
            "showbackground": true,
            "ticks": "",
            "zerolinecolor": "white"
           },
           "yaxis": {
            "backgroundcolor": "#E5ECF6",
            "gridcolor": "white",
            "gridwidth": 2,
            "linecolor": "white",
            "showbackground": true,
            "ticks": "",
            "zerolinecolor": "white"
           },
           "zaxis": {
            "backgroundcolor": "#E5ECF6",
            "gridcolor": "white",
            "gridwidth": 2,
            "linecolor": "white",
            "showbackground": true,
            "ticks": "",
            "zerolinecolor": "white"
           }
          },
          "shapedefaults": {
           "line": {
            "color": "#2a3f5f"
           }
          },
          "ternary": {
           "aaxis": {
            "gridcolor": "white",
            "linecolor": "white",
            "ticks": ""
           },
           "baxis": {
            "gridcolor": "white",
            "linecolor": "white",
            "ticks": ""
           },
           "bgcolor": "#E5ECF6",
           "caxis": {
            "gridcolor": "white",
            "linecolor": "white",
            "ticks": ""
           }
          },
          "title": {
           "x": 0.05
          },
          "xaxis": {
           "automargin": true,
           "gridcolor": "white",
           "linecolor": "white",
           "ticks": "",
           "title": {
            "standoff": 15
           },
           "zerolinecolor": "white",
           "zerolinewidth": 2
          },
          "yaxis": {
           "automargin": true,
           "gridcolor": "white",
           "linecolor": "white",
           "ticks": "",
           "title": {
            "standoff": 15
           },
           "zerolinecolor": "white",
           "zerolinewidth": 2
          }
         }
        },
        "title": {
         "text": "Movies by Duration"
        },
        "xaxis": {
         "title": {
          "text": "Duration (in minutes)"
         }
        },
        "yaxis": {
         "title": {
          "text": "Number of Movies"
         }
        }
       }
      },
      "text/html": [
       "<div>                            <div id=\"235e1417-cdb0-4c9f-8c13-5087d01a346b\" class=\"plotly-graph-div\" style=\"height:525px; width:100%;\"></div>            <script type=\"text/javascript\">                require([\"plotly\"], function(Plotly) {                    window.PLOTLYENV=window.PLOTLYENV || {};                                    if (document.getElementById(\"235e1417-cdb0-4c9f-8c13-5087d01a346b\")) {                    Plotly.newPlot(                        \"235e1417-cdb0-4c9f-8c13-5087d01a346b\",                        [{\"histnorm\": \"\", \"marker\": {\"color\": \"green\"}, \"opacity\": 0.9, \"type\": \"histogram\", \"x\": [142, 175, 200, 152, 154, 96, 161, 201, 195, 139, 178, 148, 124, 142, 179, 169, 133, 207, 146, 121, 136, 130, 130, 106, 127, 116, 175, 118, 110, 87, 125, 112, 102, 107, 119, 87, 169, 115, 112, 109, 189, 110, 150, 165, 155, 137, 113, 165, 95, 151, 155, 153, 125, 130, 116, 89, 137, 117, 88, 165, 170, 89, 146, 99, 98, 116, 156, 122, 149, 134, 122, 136, 157, 123, 119, 137, 128, 120, 229, 107, 134, 103, 177, 129, 102, 216, 136, 93, 68, 189, 99, 108, 113, 181, 103, 138, 110, 129, 88, 160, 126, 91, 116, 125, 143, 93, 102, 132, 153, 183, 160, 120, 138, 140, 153, 170, 129, 81, 127, 131, 172, 115, 108, 107, 129, 156, 96, 91, 95, 162, 130, 86, 186, 151, 96, 170, 118, 161, 131, 126, 131, 129, 224, 180, 105, 117, 140, 119, 124, 130, 139, 107, 132, 117, 126, 122, 178, 238, 149, 172, 98, 116, 116, 123, 148, 123, 182, 92, 93, 100, 135, 105, 94, 140, 83, 95, 98, 143, 99, 98, 121, 163, 121, 167, 188, 121, 109, 110, 129, 127, 94, 107, 100, 117, 129, 120, 121, 133, 111, 122, 101, 134, 165, 138, 212, 154, 89, 134, 93, 114, 88, 130, 101, 158, 99, 108, 124, 132, 113, 131, 191, 167, 130, 147, 102, 88, 165, 132, 118, 101, 108, 174, 98, 92, 98, 106, 85, 101, 105, 115, 115, 124, 105, 103, 138, 184, 120, 99, 131, 138, 98, 123, 118, 114, 118, 112, 124, 160, 67, 146, 125, 115, 134, 141, 129, 104, 94, 124, 150, 119, 128, 143, 85, 151, 118, 101, 99, 92, 125, 102, 106, 107, 91, 80, 122, 102, 112, 92, 135, 136, 153, 105, 126, 68, 84, 103, 145, 80, 106, 127, 178, 137, 172, 76, 130, 96, 82, 115, 95, 143, 125, 120, 127, 112, 104, 113, 189, 127, 188, 96, 113, 132, 122, 126, 140, 133, 112, 102, 93, 109, 81, 108, 111, 119, 96, 197, 127, 138, 66, 181, 141, 144, 128, 83, 121, 98, 117, 94, 174, 112, 108, 70, 99, 96, 137, 136, 100, 90, 96, 161, 115, 181, 169, 98, 136, 138, 119, 123, 112, 120, 103, 97, 109, 165, 156, 147, 100, 126, 115, 105, 144, 102, 107, 119, 90, 197, 86, 113, 133, 64, 141, 113, 122, 105, 119, 102, 122, 123, 113, 97, 117, 111, 85, 99, 134, 75, 109, 117, 91, 128, 111, 119, 100, 114, 92, 141, 101, 115, 127, 96, 129, 135, 109, 157, 193, 94, 155, 113, 130, 117, 159, 141, 112, 162, 126, 120, 144, 120, 109, 97, 108, 115, 136, 90, 170, 220, 116, 134, 124, 91, 103, 96, 119, 98, 101, 93, 179, 155, 121, 103, 127, 103, 107, 100, 92, 94, 158, 86, 115, 130, 107, 100, 108, 124, 131, 122, 242, 127, 141, 126, 89, 113, 152, 107, 92, 145, 84, 126, 132, 78, 117, 128, 100, 128, 100, 143, 107, 100, 125, 106, 157, 94, 104, 94, 153, 123, 120, 105, 166, 112, 94, 111, 87, 80, 108, 102, 105, 136, 101, 100, 108, 101, 106, 105, 88, 129, 138, 129, 118, 139, 123, 150, 132, 80, 178, 79, 163, 114, 144, 130, 154, 81, 95, 101, 120, 93, 115, 106, 120, 110, 123, 142, 99, 112, 120, 122, 130, 139, 129, 141, 127, 130, 118, 110, 115, 101, 112, 108, 143, 152, 117, 121, 119, 114, 122, 105, 110, 116, 139, 121, 109, 146, 113, 100, 121, 113, 113, 117, 93, 101, 90, 131, 98, 93, 121, 82, 124, 100, 117, 99, 116, 123, 114, 133, 105, 127, 144, 90, 118, 122, 102, 187, 87, 154, 89, 88, 129, 95, 118, 98, 194, 114, 80, 130, 135, 101, 105, 129, 134, 143, 202, 89, 106, 92, 137, 124, 122, 113, 112, 110, 135, 88, 146, 104, 125, 131, 91, 142, 129, 158, 102, 99, 101, 104, 119, 103, 88, 100, 146, 150, 140, 140, 110, 97, 102, 152, 100, 94, 85, 104, 112, 191, 119, 111, 94, 103, 134, 157, 158, 127, 101, 109, 98, 134, 168, 93, 145, 111, 88, 123, 121, 144, 116, 124, 147, 106, 113, 129, 94, 126, 128, 111, 146, 85, 105, 132, 130, 162, 113, 110, 113, 162, 110, 78, 92, 95, 138, 102, 128, 96, 164, 126, 110, 109, 122, 124, 128, 157, 120, 102, 152, 170, 102, 116, 164, 85, 104, 99, 81, 131, 101, 121, 69, 92, 94, 141, 116, 98, 135, 121, 108, 114, 102, 112, 140, 157, 128, 108, 139, 83, 131, 113, 136, 96, 118, 108, 83, 205, 124, 111, 137, 104, 109, 115, 99, 114, 133, 131, 131, 123, 126, 97, 126, 89, 122, 121, 125, 105, 118, 81, 115, 126, 113, 107, 126, 111, 85, 120, 93, 100, 107, 126, 131, 116, 143, 93, 96, 160, 137, 119, 114, 98, 111, 138, 144, 107, 114, 125, 146, 113, 85, 97, 93, 113, 128, 114, 147, 127, 167, 124, 109, 124, 102, 130, 125, 98, 154, 97, 128, 98, 101, 147, 172, 125, 88, 125, 121, 112, 120, 133, 110, 135, 110, 80, 135, 101, 112, 124, 129, 104, 96, 105, 109, 117, 78, 138, 106, 90, 106, 91, 112, 134, 112, 104, 101, 120, 123, 133, 110, 129, 120, 83, 88, 96, 139, 113, 84, 106, 170, 144, 104, 153, 85, 130, 93, 148, 115, 102, 125, 106, 121, 143, 116, 99, 116, 128, 119, 104, 114, 152, 129, 103, 112, 92, 141, 106, 109, 104, 122, 111, 112, 116, 130, 133, 134, 92, 104, 110, 97, 100, 118, 112, 138, 92, 118, 140, 128, 101, 75, 97, 111, 175, 94, 97, 132, 120, 107, 89, 86, 103, 108, 105, 117, 102, 104, 157, 104, 98, 109, 96, 103, 114, 99, 118, 150, 105, 87, 136, 162, 109, 107, 90, 112, 126, 116, 118, 138, 114, 126], \"xbins\": {\"end\": 250, \"size\": 7, \"start\": 50}}],                        {\"template\": {\"data\": {\"bar\": [{\"error_x\": {\"color\": \"#2a3f5f\"}, \"error_y\": {\"color\": \"#2a3f5f\"}, \"marker\": {\"line\": {\"color\": \"#E5ECF6\", \"width\": 0.5}}, \"type\": \"bar\"}], \"barpolar\": [{\"marker\": {\"line\": {\"color\": \"#E5ECF6\", \"width\": 0.5}}, \"type\": \"barpolar\"}], \"carpet\": [{\"aaxis\": {\"endlinecolor\": \"#2a3f5f\", \"gridcolor\": \"white\", \"linecolor\": \"white\", \"minorgridcolor\": \"white\", \"startlinecolor\": \"#2a3f5f\"}, \"baxis\": {\"endlinecolor\": \"#2a3f5f\", \"gridcolor\": \"white\", \"linecolor\": \"white\", \"minorgridcolor\": \"white\", \"startlinecolor\": \"#2a3f5f\"}, \"type\": \"carpet\"}], \"choropleth\": [{\"colorbar\": {\"outlinewidth\": 0, \"ticks\": \"\"}, \"type\": \"choropleth\"}], \"contour\": [{\"colorbar\": {\"outlinewidth\": 0, \"ticks\": \"\"}, \"colorscale\": [[0.0, \"#0d0887\"], [0.1111111111111111, \"#46039f\"], [0.2222222222222222, \"#7201a8\"], [0.3333333333333333, \"#9c179e\"], [0.4444444444444444, \"#bd3786\"], [0.5555555555555556, \"#d8576b\"], [0.6666666666666666, \"#ed7953\"], [0.7777777777777778, \"#fb9f3a\"], [0.8888888888888888, \"#fdca26\"], [1.0, \"#f0f921\"]], \"type\": \"contour\"}], \"contourcarpet\": [{\"colorbar\": {\"outlinewidth\": 0, \"ticks\": \"\"}, \"type\": \"contourcarpet\"}], \"heatmap\": [{\"colorbar\": {\"outlinewidth\": 0, \"ticks\": \"\"}, \"colorscale\": [[0.0, \"#0d0887\"], [0.1111111111111111, \"#46039f\"], [0.2222222222222222, \"#7201a8\"], [0.3333333333333333, \"#9c179e\"], [0.4444444444444444, \"#bd3786\"], [0.5555555555555556, \"#d8576b\"], [0.6666666666666666, \"#ed7953\"], [0.7777777777777778, \"#fb9f3a\"], [0.8888888888888888, \"#fdca26\"], [1.0, \"#f0f921\"]], \"type\": \"heatmap\"}], \"heatmapgl\": [{\"colorbar\": {\"outlinewidth\": 0, \"ticks\": \"\"}, \"colorscale\": [[0.0, \"#0d0887\"], [0.1111111111111111, \"#46039f\"], [0.2222222222222222, \"#7201a8\"], [0.3333333333333333, \"#9c179e\"], [0.4444444444444444, \"#bd3786\"], [0.5555555555555556, \"#d8576b\"], [0.6666666666666666, \"#ed7953\"], [0.7777777777777778, \"#fb9f3a\"], [0.8888888888888888, \"#fdca26\"], [1.0, \"#f0f921\"]], \"type\": \"heatmapgl\"}], \"histogram\": [{\"marker\": {\"colorbar\": {\"outlinewidth\": 0, \"ticks\": \"\"}}, \"type\": \"histogram\"}], \"histogram2d\": [{\"colorbar\": {\"outlinewidth\": 0, \"ticks\": \"\"}, \"colorscale\": [[0.0, \"#0d0887\"], [0.1111111111111111, \"#46039f\"], [0.2222222222222222, \"#7201a8\"], [0.3333333333333333, \"#9c179e\"], [0.4444444444444444, \"#bd3786\"], [0.5555555555555556, \"#d8576b\"], [0.6666666666666666, \"#ed7953\"], [0.7777777777777778, \"#fb9f3a\"], [0.8888888888888888, \"#fdca26\"], [1.0, \"#f0f921\"]], \"type\": \"histogram2d\"}], \"histogram2dcontour\": [{\"colorbar\": {\"outlinewidth\": 0, \"ticks\": \"\"}, \"colorscale\": [[0.0, \"#0d0887\"], [0.1111111111111111, \"#46039f\"], [0.2222222222222222, \"#7201a8\"], [0.3333333333333333, \"#9c179e\"], [0.4444444444444444, \"#bd3786\"], [0.5555555555555556, \"#d8576b\"], [0.6666666666666666, \"#ed7953\"], [0.7777777777777778, \"#fb9f3a\"], [0.8888888888888888, \"#fdca26\"], [1.0, \"#f0f921\"]], \"type\": \"histogram2dcontour\"}], \"mesh3d\": [{\"colorbar\": {\"outlinewidth\": 0, \"ticks\": \"\"}, \"type\": \"mesh3d\"}], \"parcoords\": [{\"line\": {\"colorbar\": {\"outlinewidth\": 0, \"ticks\": \"\"}}, \"type\": \"parcoords\"}], \"pie\": [{\"automargin\": true, \"type\": \"pie\"}], \"scatter\": [{\"marker\": {\"colorbar\": {\"outlinewidth\": 0, \"ticks\": \"\"}}, \"type\": \"scatter\"}], \"scatter3d\": [{\"line\": {\"colorbar\": {\"outlinewidth\": 0, \"ticks\": \"\"}}, \"marker\": {\"colorbar\": {\"outlinewidth\": 0, \"ticks\": \"\"}}, \"type\": \"scatter3d\"}], \"scattercarpet\": [{\"marker\": {\"colorbar\": {\"outlinewidth\": 0, \"ticks\": \"\"}}, \"type\": \"scattercarpet\"}], \"scattergeo\": [{\"marker\": {\"colorbar\": {\"outlinewidth\": 0, \"ticks\": \"\"}}, \"type\": \"scattergeo\"}], \"scattergl\": [{\"marker\": {\"colorbar\": {\"outlinewidth\": 0, \"ticks\": \"\"}}, \"type\": \"scattergl\"}], \"scattermapbox\": [{\"marker\": {\"colorbar\": {\"outlinewidth\": 0, \"ticks\": \"\"}}, \"type\": \"scattermapbox\"}], \"scatterpolar\": [{\"marker\": {\"colorbar\": {\"outlinewidth\": 0, \"ticks\": \"\"}}, \"type\": \"scatterpolar\"}], \"scatterpolargl\": [{\"marker\": {\"colorbar\": {\"outlinewidth\": 0, \"ticks\": \"\"}}, \"type\": \"scatterpolargl\"}], \"scatterternary\": [{\"marker\": {\"colorbar\": {\"outlinewidth\": 0, \"ticks\": \"\"}}, \"type\": \"scatterternary\"}], \"surface\": [{\"colorbar\": {\"outlinewidth\": 0, \"ticks\": \"\"}, \"colorscale\": [[0.0, \"#0d0887\"], [0.1111111111111111, \"#46039f\"], [0.2222222222222222, \"#7201a8\"], [0.3333333333333333, \"#9c179e\"], [0.4444444444444444, \"#bd3786\"], [0.5555555555555556, \"#d8576b\"], [0.6666666666666666, \"#ed7953\"], [0.7777777777777778, \"#fb9f3a\"], [0.8888888888888888, \"#fdca26\"], [1.0, \"#f0f921\"]], \"type\": \"surface\"}], \"table\": [{\"cells\": {\"fill\": {\"color\": \"#EBF0F8\"}, \"line\": {\"color\": \"white\"}}, \"header\": {\"fill\": {\"color\": \"#C8D4E3\"}, \"line\": {\"color\": \"white\"}}, \"type\": \"table\"}]}, \"layout\": {\"annotationdefaults\": {\"arrowcolor\": \"#2a3f5f\", \"arrowhead\": 0, \"arrowwidth\": 1}, \"coloraxis\": {\"colorbar\": {\"outlinewidth\": 0, \"ticks\": \"\"}}, \"colorscale\": {\"diverging\": [[0, \"#8e0152\"], [0.1, \"#c51b7d\"], [0.2, \"#de77ae\"], [0.3, \"#f1b6da\"], [0.4, \"#fde0ef\"], [0.5, \"#f7f7f7\"], [0.6, \"#e6f5d0\"], [0.7, \"#b8e186\"], [0.8, \"#7fbc41\"], [0.9, \"#4d9221\"], [1, \"#276419\"]], \"sequential\": [[0.0, \"#0d0887\"], [0.1111111111111111, \"#46039f\"], [0.2222222222222222, \"#7201a8\"], [0.3333333333333333, \"#9c179e\"], [0.4444444444444444, \"#bd3786\"], [0.5555555555555556, \"#d8576b\"], [0.6666666666666666, \"#ed7953\"], [0.7777777777777778, \"#fb9f3a\"], [0.8888888888888888, \"#fdca26\"], [1.0, \"#f0f921\"]], \"sequentialminus\": [[0.0, \"#0d0887\"], [0.1111111111111111, \"#46039f\"], [0.2222222222222222, \"#7201a8\"], [0.3333333333333333, \"#9c179e\"], [0.4444444444444444, \"#bd3786\"], [0.5555555555555556, \"#d8576b\"], [0.6666666666666666, \"#ed7953\"], [0.7777777777777778, \"#fb9f3a\"], [0.8888888888888888, \"#fdca26\"], [1.0, \"#f0f921\"]]}, \"colorway\": [\"#636efa\", \"#EF553B\", \"#00cc96\", \"#ab63fa\", \"#FFA15A\", \"#19d3f3\", \"#FF6692\", \"#B6E880\", \"#FF97FF\", \"#FECB52\"], \"font\": {\"color\": \"#2a3f5f\"}, \"geo\": {\"bgcolor\": \"white\", \"lakecolor\": \"white\", \"landcolor\": \"#E5ECF6\", \"showlakes\": true, \"showland\": true, \"subunitcolor\": \"white\"}, \"hoverlabel\": {\"align\": \"left\"}, \"hovermode\": \"closest\", \"mapbox\": {\"style\": \"light\"}, \"paper_bgcolor\": \"white\", \"plot_bgcolor\": \"#E5ECF6\", \"polar\": {\"angularaxis\": {\"gridcolor\": \"white\", \"linecolor\": \"white\", \"ticks\": \"\"}, \"bgcolor\": \"#E5ECF6\", \"radialaxis\": {\"gridcolor\": \"white\", \"linecolor\": \"white\", \"ticks\": \"\"}}, \"scene\": {\"xaxis\": {\"backgroundcolor\": \"#E5ECF6\", \"gridcolor\": \"white\", \"gridwidth\": 2, \"linecolor\": \"white\", \"showbackground\": true, \"ticks\": \"\", \"zerolinecolor\": \"white\"}, \"yaxis\": {\"backgroundcolor\": \"#E5ECF6\", \"gridcolor\": \"white\", \"gridwidth\": 2, \"linecolor\": \"white\", \"showbackground\": true, \"ticks\": \"\", \"zerolinecolor\": \"white\"}, \"zaxis\": {\"backgroundcolor\": \"#E5ECF6\", \"gridcolor\": \"white\", \"gridwidth\": 2, \"linecolor\": \"white\", \"showbackground\": true, \"ticks\": \"\", \"zerolinecolor\": \"white\"}}, \"shapedefaults\": {\"line\": {\"color\": \"#2a3f5f\"}}, \"ternary\": {\"aaxis\": {\"gridcolor\": \"white\", \"linecolor\": \"white\", \"ticks\": \"\"}, \"baxis\": {\"gridcolor\": \"white\", \"linecolor\": \"white\", \"ticks\": \"\"}, \"bgcolor\": \"#E5ECF6\", \"caxis\": {\"gridcolor\": \"white\", \"linecolor\": \"white\", \"ticks\": \"\"}}, \"title\": {\"x\": 0.05}, \"xaxis\": {\"automargin\": true, \"gridcolor\": \"white\", \"linecolor\": \"white\", \"ticks\": \"\", \"title\": {\"standoff\": 15}, \"zerolinecolor\": \"white\", \"zerolinewidth\": 2}, \"yaxis\": {\"automargin\": true, \"gridcolor\": \"white\", \"linecolor\": \"white\", \"ticks\": \"\", \"title\": {\"standoff\": 15}, \"zerolinecolor\": \"white\", \"zerolinewidth\": 2}}}, \"title\": {\"text\": \"Movies by Duration\"}, \"xaxis\": {\"title\": {\"text\": \"Duration (in minutes)\"}}, \"yaxis\": {\"title\": {\"text\": \"Number of Movies\"}}},                        {\"responsive\": true}                    ).then(function(){\n",
       "                            \n",
       "var gd = document.getElementById('235e1417-cdb0-4c9f-8c13-5087d01a346b');\n",
       "var x = new MutationObserver(function (mutations, observer) {{\n",
       "        var display = window.getComputedStyle(gd).display;\n",
       "        if (!display || display === 'none') {{\n",
       "            console.log([gd, 'removed!']);\n",
       "            Plotly.purge(gd);\n",
       "            observer.disconnect();\n",
       "        }}\n",
       "}});\n",
       "\n",
       "// Listen for the removal of the full notebook cells\n",
       "var notebookContainer = gd.closest('#notebook-container');\n",
       "if (notebookContainer) {{\n",
       "    x.observe(notebookContainer, {childList: true});\n",
       "}}\n",
       "\n",
       "// Listen for the clearing of the current output cell\n",
       "var outputEl = gd.closest('.output');\n",
       "if (outputEl) {{\n",
       "    x.observe(outputEl, {childList: true});\n",
       "}}\n",
       "\n",
       "                        })                };                });            </script>        </div>"
      ]
     },
     "metadata": {},
     "output_type": "display_data"
    }
   ],
   "source": [
    "# Answer:\n",
    "fig1 = go.Figure()\n",
    "fig1.add_trace(go.Histogram(\n",
    "    x=movies['duration'],\n",
    "    histnorm='',\n",
    "    xbins=dict(\n",
    "        start=50,\n",
    "        end=250,\n",
    "        size=7\n",
    "    ),\n",
    "    marker_color='green',\n",
    "    opacity=0.9\n",
    "))\n",
    "fig1.update_layout(\n",
    "    title_text='Movies by Duration', # title of plot\n",
    "    xaxis_title_text='Duration (in minutes)', # xaxis label\n",
    "    yaxis_title_text='Number of Movies', # yaxis label\n",
    ")\n",
    "fig1.show()"
   ]
  },
  {
   "cell_type": "markdown",
   "metadata": {},
   "source": [
    "#### Use a box plot to display that same data."
   ]
  },
  {
   "cell_type": "code",
   "execution_count": 288,
   "metadata": {},
   "outputs": [
    {
     "data": {
      "application/vnd.plotly.v1+json": {
       "config": {
        "plotlyServerURL": "https://plot.ly"
       },
       "data": [
        {
         "alignmentgroup": "True",
         "hovertemplate": "Duration=%{y}<extra></extra>",
         "legendgroup": "",
         "marker": {
          "color": "green"
         },
         "name": "",
         "notched": false,
         "offsetgroup": "",
         "orientation": "v",
         "showlegend": false,
         "type": "box",
         "x0": " ",
         "xaxis": "x",
         "y": [
          142,
          175,
          200,
          152,
          154,
          96,
          161,
          201,
          195,
          139,
          178,
          148,
          124,
          142,
          179,
          169,
          133,
          207,
          146,
          121,
          136,
          130,
          130,
          106,
          127,
          116,
          175,
          118,
          110,
          87,
          125,
          112,
          102,
          107,
          119,
          87,
          169,
          115,
          112,
          109,
          189,
          110,
          150,
          165,
          155,
          137,
          113,
          165,
          95,
          151,
          155,
          153,
          125,
          130,
          116,
          89,
          137,
          117,
          88,
          165,
          170,
          89,
          146,
          99,
          98,
          116,
          156,
          122,
          149,
          134,
          122,
          136,
          157,
          123,
          119,
          137,
          128,
          120,
          229,
          107,
          134,
          103,
          177,
          129,
          102,
          216,
          136,
          93,
          68,
          189,
          99,
          108,
          113,
          181,
          103,
          138,
          110,
          129,
          88,
          160,
          126,
          91,
          116,
          125,
          143,
          93,
          102,
          132,
          153,
          183,
          160,
          120,
          138,
          140,
          153,
          170,
          129,
          81,
          127,
          131,
          172,
          115,
          108,
          107,
          129,
          156,
          96,
          91,
          95,
          162,
          130,
          86,
          186,
          151,
          96,
          170,
          118,
          161,
          131,
          126,
          131,
          129,
          224,
          180,
          105,
          117,
          140,
          119,
          124,
          130,
          139,
          107,
          132,
          117,
          126,
          122,
          178,
          238,
          149,
          172,
          98,
          116,
          116,
          123,
          148,
          123,
          182,
          92,
          93,
          100,
          135,
          105,
          94,
          140,
          83,
          95,
          98,
          143,
          99,
          98,
          121,
          163,
          121,
          167,
          188,
          121,
          109,
          110,
          129,
          127,
          94,
          107,
          100,
          117,
          129,
          120,
          121,
          133,
          111,
          122,
          101,
          134,
          165,
          138,
          212,
          154,
          89,
          134,
          93,
          114,
          88,
          130,
          101,
          158,
          99,
          108,
          124,
          132,
          113,
          131,
          191,
          167,
          130,
          147,
          102,
          88,
          165,
          132,
          118,
          101,
          108,
          174,
          98,
          92,
          98,
          106,
          85,
          101,
          105,
          115,
          115,
          124,
          105,
          103,
          138,
          184,
          120,
          99,
          131,
          138,
          98,
          123,
          118,
          114,
          118,
          112,
          124,
          160,
          67,
          146,
          125,
          115,
          134,
          141,
          129,
          104,
          94,
          124,
          150,
          119,
          128,
          143,
          85,
          151,
          118,
          101,
          99,
          92,
          125,
          102,
          106,
          107,
          91,
          80,
          122,
          102,
          112,
          92,
          135,
          136,
          153,
          105,
          126,
          68,
          84,
          103,
          145,
          80,
          106,
          127,
          178,
          137,
          172,
          76,
          130,
          96,
          82,
          115,
          95,
          143,
          125,
          120,
          127,
          112,
          104,
          113,
          189,
          127,
          188,
          96,
          113,
          132,
          122,
          126,
          140,
          133,
          112,
          102,
          93,
          109,
          81,
          108,
          111,
          119,
          96,
          197,
          127,
          138,
          66,
          181,
          141,
          144,
          128,
          83,
          121,
          98,
          117,
          94,
          174,
          112,
          108,
          70,
          99,
          96,
          137,
          136,
          100,
          90,
          96,
          161,
          115,
          181,
          169,
          98,
          136,
          138,
          119,
          123,
          112,
          120,
          103,
          97,
          109,
          165,
          156,
          147,
          100,
          126,
          115,
          105,
          144,
          102,
          107,
          119,
          90,
          197,
          86,
          113,
          133,
          64,
          141,
          113,
          122,
          105,
          119,
          102,
          122,
          123,
          113,
          97,
          117,
          111,
          85,
          99,
          134,
          75,
          109,
          117,
          91,
          128,
          111,
          119,
          100,
          114,
          92,
          141,
          101,
          115,
          127,
          96,
          129,
          135,
          109,
          157,
          193,
          94,
          155,
          113,
          130,
          117,
          159,
          141,
          112,
          162,
          126,
          120,
          144,
          120,
          109,
          97,
          108,
          115,
          136,
          90,
          170,
          220,
          116,
          134,
          124,
          91,
          103,
          96,
          119,
          98,
          101,
          93,
          179,
          155,
          121,
          103,
          127,
          103,
          107,
          100,
          92,
          94,
          158,
          86,
          115,
          130,
          107,
          100,
          108,
          124,
          131,
          122,
          242,
          127,
          141,
          126,
          89,
          113,
          152,
          107,
          92,
          145,
          84,
          126,
          132,
          78,
          117,
          128,
          100,
          128,
          100,
          143,
          107,
          100,
          125,
          106,
          157,
          94,
          104,
          94,
          153,
          123,
          120,
          105,
          166,
          112,
          94,
          111,
          87,
          80,
          108,
          102,
          105,
          136,
          101,
          100,
          108,
          101,
          106,
          105,
          88,
          129,
          138,
          129,
          118,
          139,
          123,
          150,
          132,
          80,
          178,
          79,
          163,
          114,
          144,
          130,
          154,
          81,
          95,
          101,
          120,
          93,
          115,
          106,
          120,
          110,
          123,
          142,
          99,
          112,
          120,
          122,
          130,
          139,
          129,
          141,
          127,
          130,
          118,
          110,
          115,
          101,
          112,
          108,
          143,
          152,
          117,
          121,
          119,
          114,
          122,
          105,
          110,
          116,
          139,
          121,
          109,
          146,
          113,
          100,
          121,
          113,
          113,
          117,
          93,
          101,
          90,
          131,
          98,
          93,
          121,
          82,
          124,
          100,
          117,
          99,
          116,
          123,
          114,
          133,
          105,
          127,
          144,
          90,
          118,
          122,
          102,
          187,
          87,
          154,
          89,
          88,
          129,
          95,
          118,
          98,
          194,
          114,
          80,
          130,
          135,
          101,
          105,
          129,
          134,
          143,
          202,
          89,
          106,
          92,
          137,
          124,
          122,
          113,
          112,
          110,
          135,
          88,
          146,
          104,
          125,
          131,
          91,
          142,
          129,
          158,
          102,
          99,
          101,
          104,
          119,
          103,
          88,
          100,
          146,
          150,
          140,
          140,
          110,
          97,
          102,
          152,
          100,
          94,
          85,
          104,
          112,
          191,
          119,
          111,
          94,
          103,
          134,
          157,
          158,
          127,
          101,
          109,
          98,
          134,
          168,
          93,
          145,
          111,
          88,
          123,
          121,
          144,
          116,
          124,
          147,
          106,
          113,
          129,
          94,
          126,
          128,
          111,
          146,
          85,
          105,
          132,
          130,
          162,
          113,
          110,
          113,
          162,
          110,
          78,
          92,
          95,
          138,
          102,
          128,
          96,
          164,
          126,
          110,
          109,
          122,
          124,
          128,
          157,
          120,
          102,
          152,
          170,
          102,
          116,
          164,
          85,
          104,
          99,
          81,
          131,
          101,
          121,
          69,
          92,
          94,
          141,
          116,
          98,
          135,
          121,
          108,
          114,
          102,
          112,
          140,
          157,
          128,
          108,
          139,
          83,
          131,
          113,
          136,
          96,
          118,
          108,
          83,
          205,
          124,
          111,
          137,
          104,
          109,
          115,
          99,
          114,
          133,
          131,
          131,
          123,
          126,
          97,
          126,
          89,
          122,
          121,
          125,
          105,
          118,
          81,
          115,
          126,
          113,
          107,
          126,
          111,
          85,
          120,
          93,
          100,
          107,
          126,
          131,
          116,
          143,
          93,
          96,
          160,
          137,
          119,
          114,
          98,
          111,
          138,
          144,
          107,
          114,
          125,
          146,
          113,
          85,
          97,
          93,
          113,
          128,
          114,
          147,
          127,
          167,
          124,
          109,
          124,
          102,
          130,
          125,
          98,
          154,
          97,
          128,
          98,
          101,
          147,
          172,
          125,
          88,
          125,
          121,
          112,
          120,
          133,
          110,
          135,
          110,
          80,
          135,
          101,
          112,
          124,
          129,
          104,
          96,
          105,
          109,
          117,
          78,
          138,
          106,
          90,
          106,
          91,
          112,
          134,
          112,
          104,
          101,
          120,
          123,
          133,
          110,
          129,
          120,
          83,
          88,
          96,
          139,
          113,
          84,
          106,
          170,
          144,
          104,
          153,
          85,
          130,
          93,
          148,
          115,
          102,
          125,
          106,
          121,
          143,
          116,
          99,
          116,
          128,
          119,
          104,
          114,
          152,
          129,
          103,
          112,
          92,
          141,
          106,
          109,
          104,
          122,
          111,
          112,
          116,
          130,
          133,
          134,
          92,
          104,
          110,
          97,
          100,
          118,
          112,
          138,
          92,
          118,
          140,
          128,
          101,
          75,
          97,
          111,
          175,
          94,
          97,
          132,
          120,
          107,
          89,
          86,
          103,
          108,
          105,
          117,
          102,
          104,
          157,
          104,
          98,
          109,
          96,
          103,
          114,
          99,
          118,
          150,
          105,
          87,
          136,
          162,
          109,
          107,
          90,
          112,
          126,
          116,
          118,
          138,
          114,
          126
         ],
         "y0": " ",
         "yaxis": "y"
        }
       ],
       "layout": {
        "boxmode": "group",
        "legend": {
         "tracegroupgap": 0
        },
        "template": {
         "data": {
          "bar": [
           {
            "error_x": {
             "color": "#2a3f5f"
            },
            "error_y": {
             "color": "#2a3f5f"
            },
            "marker": {
             "line": {
              "color": "#E5ECF6",
              "width": 0.5
             }
            },
            "type": "bar"
           }
          ],
          "barpolar": [
           {
            "marker": {
             "line": {
              "color": "#E5ECF6",
              "width": 0.5
             }
            },
            "type": "barpolar"
           }
          ],
          "carpet": [
           {
            "aaxis": {
             "endlinecolor": "#2a3f5f",
             "gridcolor": "white",
             "linecolor": "white",
             "minorgridcolor": "white",
             "startlinecolor": "#2a3f5f"
            },
            "baxis": {
             "endlinecolor": "#2a3f5f",
             "gridcolor": "white",
             "linecolor": "white",
             "minorgridcolor": "white",
             "startlinecolor": "#2a3f5f"
            },
            "type": "carpet"
           }
          ],
          "choropleth": [
           {
            "colorbar": {
             "outlinewidth": 0,
             "ticks": ""
            },
            "type": "choropleth"
           }
          ],
          "contour": [
           {
            "colorbar": {
             "outlinewidth": 0,
             "ticks": ""
            },
            "colorscale": [
             [
              0,
              "#0d0887"
             ],
             [
              0.1111111111111111,
              "#46039f"
             ],
             [
              0.2222222222222222,
              "#7201a8"
             ],
             [
              0.3333333333333333,
              "#9c179e"
             ],
             [
              0.4444444444444444,
              "#bd3786"
             ],
             [
              0.5555555555555556,
              "#d8576b"
             ],
             [
              0.6666666666666666,
              "#ed7953"
             ],
             [
              0.7777777777777778,
              "#fb9f3a"
             ],
             [
              0.8888888888888888,
              "#fdca26"
             ],
             [
              1,
              "#f0f921"
             ]
            ],
            "type": "contour"
           }
          ],
          "contourcarpet": [
           {
            "colorbar": {
             "outlinewidth": 0,
             "ticks": ""
            },
            "type": "contourcarpet"
           }
          ],
          "heatmap": [
           {
            "colorbar": {
             "outlinewidth": 0,
             "ticks": ""
            },
            "colorscale": [
             [
              0,
              "#0d0887"
             ],
             [
              0.1111111111111111,
              "#46039f"
             ],
             [
              0.2222222222222222,
              "#7201a8"
             ],
             [
              0.3333333333333333,
              "#9c179e"
             ],
             [
              0.4444444444444444,
              "#bd3786"
             ],
             [
              0.5555555555555556,
              "#d8576b"
             ],
             [
              0.6666666666666666,
              "#ed7953"
             ],
             [
              0.7777777777777778,
              "#fb9f3a"
             ],
             [
              0.8888888888888888,
              "#fdca26"
             ],
             [
              1,
              "#f0f921"
             ]
            ],
            "type": "heatmap"
           }
          ],
          "heatmapgl": [
           {
            "colorbar": {
             "outlinewidth": 0,
             "ticks": ""
            },
            "colorscale": [
             [
              0,
              "#0d0887"
             ],
             [
              0.1111111111111111,
              "#46039f"
             ],
             [
              0.2222222222222222,
              "#7201a8"
             ],
             [
              0.3333333333333333,
              "#9c179e"
             ],
             [
              0.4444444444444444,
              "#bd3786"
             ],
             [
              0.5555555555555556,
              "#d8576b"
             ],
             [
              0.6666666666666666,
              "#ed7953"
             ],
             [
              0.7777777777777778,
              "#fb9f3a"
             ],
             [
              0.8888888888888888,
              "#fdca26"
             ],
             [
              1,
              "#f0f921"
             ]
            ],
            "type": "heatmapgl"
           }
          ],
          "histogram": [
           {
            "marker": {
             "colorbar": {
              "outlinewidth": 0,
              "ticks": ""
             }
            },
            "type": "histogram"
           }
          ],
          "histogram2d": [
           {
            "colorbar": {
             "outlinewidth": 0,
             "ticks": ""
            },
            "colorscale": [
             [
              0,
              "#0d0887"
             ],
             [
              0.1111111111111111,
              "#46039f"
             ],
             [
              0.2222222222222222,
              "#7201a8"
             ],
             [
              0.3333333333333333,
              "#9c179e"
             ],
             [
              0.4444444444444444,
              "#bd3786"
             ],
             [
              0.5555555555555556,
              "#d8576b"
             ],
             [
              0.6666666666666666,
              "#ed7953"
             ],
             [
              0.7777777777777778,
              "#fb9f3a"
             ],
             [
              0.8888888888888888,
              "#fdca26"
             ],
             [
              1,
              "#f0f921"
             ]
            ],
            "type": "histogram2d"
           }
          ],
          "histogram2dcontour": [
           {
            "colorbar": {
             "outlinewidth": 0,
             "ticks": ""
            },
            "colorscale": [
             [
              0,
              "#0d0887"
             ],
             [
              0.1111111111111111,
              "#46039f"
             ],
             [
              0.2222222222222222,
              "#7201a8"
             ],
             [
              0.3333333333333333,
              "#9c179e"
             ],
             [
              0.4444444444444444,
              "#bd3786"
             ],
             [
              0.5555555555555556,
              "#d8576b"
             ],
             [
              0.6666666666666666,
              "#ed7953"
             ],
             [
              0.7777777777777778,
              "#fb9f3a"
             ],
             [
              0.8888888888888888,
              "#fdca26"
             ],
             [
              1,
              "#f0f921"
             ]
            ],
            "type": "histogram2dcontour"
           }
          ],
          "mesh3d": [
           {
            "colorbar": {
             "outlinewidth": 0,
             "ticks": ""
            },
            "type": "mesh3d"
           }
          ],
          "parcoords": [
           {
            "line": {
             "colorbar": {
              "outlinewidth": 0,
              "ticks": ""
             }
            },
            "type": "parcoords"
           }
          ],
          "pie": [
           {
            "automargin": true,
            "type": "pie"
           }
          ],
          "scatter": [
           {
            "marker": {
             "colorbar": {
              "outlinewidth": 0,
              "ticks": ""
             }
            },
            "type": "scatter"
           }
          ],
          "scatter3d": [
           {
            "line": {
             "colorbar": {
              "outlinewidth": 0,
              "ticks": ""
             }
            },
            "marker": {
             "colorbar": {
              "outlinewidth": 0,
              "ticks": ""
             }
            },
            "type": "scatter3d"
           }
          ],
          "scattercarpet": [
           {
            "marker": {
             "colorbar": {
              "outlinewidth": 0,
              "ticks": ""
             }
            },
            "type": "scattercarpet"
           }
          ],
          "scattergeo": [
           {
            "marker": {
             "colorbar": {
              "outlinewidth": 0,
              "ticks": ""
             }
            },
            "type": "scattergeo"
           }
          ],
          "scattergl": [
           {
            "marker": {
             "colorbar": {
              "outlinewidth": 0,
              "ticks": ""
             }
            },
            "type": "scattergl"
           }
          ],
          "scattermapbox": [
           {
            "marker": {
             "colorbar": {
              "outlinewidth": 0,
              "ticks": ""
             }
            },
            "type": "scattermapbox"
           }
          ],
          "scatterpolar": [
           {
            "marker": {
             "colorbar": {
              "outlinewidth": 0,
              "ticks": ""
             }
            },
            "type": "scatterpolar"
           }
          ],
          "scatterpolargl": [
           {
            "marker": {
             "colorbar": {
              "outlinewidth": 0,
              "ticks": ""
             }
            },
            "type": "scatterpolargl"
           }
          ],
          "scatterternary": [
           {
            "marker": {
             "colorbar": {
              "outlinewidth": 0,
              "ticks": ""
             }
            },
            "type": "scatterternary"
           }
          ],
          "surface": [
           {
            "colorbar": {
             "outlinewidth": 0,
             "ticks": ""
            },
            "colorscale": [
             [
              0,
              "#0d0887"
             ],
             [
              0.1111111111111111,
              "#46039f"
             ],
             [
              0.2222222222222222,
              "#7201a8"
             ],
             [
              0.3333333333333333,
              "#9c179e"
             ],
             [
              0.4444444444444444,
              "#bd3786"
             ],
             [
              0.5555555555555556,
              "#d8576b"
             ],
             [
              0.6666666666666666,
              "#ed7953"
             ],
             [
              0.7777777777777778,
              "#fb9f3a"
             ],
             [
              0.8888888888888888,
              "#fdca26"
             ],
             [
              1,
              "#f0f921"
             ]
            ],
            "type": "surface"
           }
          ],
          "table": [
           {
            "cells": {
             "fill": {
              "color": "#EBF0F8"
             },
             "line": {
              "color": "white"
             }
            },
            "header": {
             "fill": {
              "color": "#C8D4E3"
             },
             "line": {
              "color": "white"
             }
            },
            "type": "table"
           }
          ]
         },
         "layout": {
          "annotationdefaults": {
           "arrowcolor": "#2a3f5f",
           "arrowhead": 0,
           "arrowwidth": 1
          },
          "coloraxis": {
           "colorbar": {
            "outlinewidth": 0,
            "ticks": ""
           }
          },
          "colorscale": {
           "diverging": [
            [
             0,
             "#8e0152"
            ],
            [
             0.1,
             "#c51b7d"
            ],
            [
             0.2,
             "#de77ae"
            ],
            [
             0.3,
             "#f1b6da"
            ],
            [
             0.4,
             "#fde0ef"
            ],
            [
             0.5,
             "#f7f7f7"
            ],
            [
             0.6,
             "#e6f5d0"
            ],
            [
             0.7,
             "#b8e186"
            ],
            [
             0.8,
             "#7fbc41"
            ],
            [
             0.9,
             "#4d9221"
            ],
            [
             1,
             "#276419"
            ]
           ],
           "sequential": [
            [
             0,
             "#0d0887"
            ],
            [
             0.1111111111111111,
             "#46039f"
            ],
            [
             0.2222222222222222,
             "#7201a8"
            ],
            [
             0.3333333333333333,
             "#9c179e"
            ],
            [
             0.4444444444444444,
             "#bd3786"
            ],
            [
             0.5555555555555556,
             "#d8576b"
            ],
            [
             0.6666666666666666,
             "#ed7953"
            ],
            [
             0.7777777777777778,
             "#fb9f3a"
            ],
            [
             0.8888888888888888,
             "#fdca26"
            ],
            [
             1,
             "#f0f921"
            ]
           ],
           "sequentialminus": [
            [
             0,
             "#0d0887"
            ],
            [
             0.1111111111111111,
             "#46039f"
            ],
            [
             0.2222222222222222,
             "#7201a8"
            ],
            [
             0.3333333333333333,
             "#9c179e"
            ],
            [
             0.4444444444444444,
             "#bd3786"
            ],
            [
             0.5555555555555556,
             "#d8576b"
            ],
            [
             0.6666666666666666,
             "#ed7953"
            ],
            [
             0.7777777777777778,
             "#fb9f3a"
            ],
            [
             0.8888888888888888,
             "#fdca26"
            ],
            [
             1,
             "#f0f921"
            ]
           ]
          },
          "colorway": [
           "#636efa",
           "#EF553B",
           "#00cc96",
           "#ab63fa",
           "#FFA15A",
           "#19d3f3",
           "#FF6692",
           "#B6E880",
           "#FF97FF",
           "#FECB52"
          ],
          "font": {
           "color": "#2a3f5f"
          },
          "geo": {
           "bgcolor": "white",
           "lakecolor": "white",
           "landcolor": "#E5ECF6",
           "showlakes": true,
           "showland": true,
           "subunitcolor": "white"
          },
          "hoverlabel": {
           "align": "left"
          },
          "hovermode": "closest",
          "mapbox": {
           "style": "light"
          },
          "paper_bgcolor": "white",
          "plot_bgcolor": "#E5ECF6",
          "polar": {
           "angularaxis": {
            "gridcolor": "white",
            "linecolor": "white",
            "ticks": ""
           },
           "bgcolor": "#E5ECF6",
           "radialaxis": {
            "gridcolor": "white",
            "linecolor": "white",
            "ticks": ""
           }
          },
          "scene": {
           "xaxis": {
            "backgroundcolor": "#E5ECF6",
            "gridcolor": "white",
            "gridwidth": 2,
            "linecolor": "white",
            "showbackground": true,
            "ticks": "",
            "zerolinecolor": "white"
           },
           "yaxis": {
            "backgroundcolor": "#E5ECF6",
            "gridcolor": "white",
            "gridwidth": 2,
            "linecolor": "white",
            "showbackground": true,
            "ticks": "",
            "zerolinecolor": "white"
           },
           "zaxis": {
            "backgroundcolor": "#E5ECF6",
            "gridcolor": "white",
            "gridwidth": 2,
            "linecolor": "white",
            "showbackground": true,
            "ticks": "",
            "zerolinecolor": "white"
           }
          },
          "shapedefaults": {
           "line": {
            "color": "#2a3f5f"
           }
          },
          "ternary": {
           "aaxis": {
            "gridcolor": "white",
            "linecolor": "white",
            "ticks": ""
           },
           "baxis": {
            "gridcolor": "white",
            "linecolor": "white",
            "ticks": ""
           },
           "bgcolor": "#E5ECF6",
           "caxis": {
            "gridcolor": "white",
            "linecolor": "white",
            "ticks": ""
           }
          },
          "title": {
           "x": 0.05
          },
          "xaxis": {
           "automargin": true,
           "gridcolor": "white",
           "linecolor": "white",
           "ticks": "",
           "title": {
            "standoff": 15
           },
           "zerolinecolor": "white",
           "zerolinewidth": 2
          },
          "yaxis": {
           "automargin": true,
           "gridcolor": "white",
           "linecolor": "white",
           "ticks": "",
           "title": {
            "standoff": 15
           },
           "zerolinecolor": "white",
           "zerolinewidth": 2
          }
         }
        },
        "title": {
         "text": "Movies by Duration"
        },
        "xaxis": {
         "anchor": "y",
         "domain": [
          0,
          1
         ]
        },
        "yaxis": {
         "anchor": "x",
         "domain": [
          0,
          1
         ],
         "title": {
          "text": "Duration"
         }
        }
       }
      },
      "text/html": [
       "<div>                            <div id=\"1b5069d8-8d66-40dd-9bb7-d795c38f7c11\" class=\"plotly-graph-div\" style=\"height:525px; width:100%;\"></div>            <script type=\"text/javascript\">                require([\"plotly\"], function(Plotly) {                    window.PLOTLYENV=window.PLOTLYENV || {};                                    if (document.getElementById(\"1b5069d8-8d66-40dd-9bb7-d795c38f7c11\")) {                    Plotly.newPlot(                        \"1b5069d8-8d66-40dd-9bb7-d795c38f7c11\",                        [{\"alignmentgroup\": \"True\", \"hovertemplate\": \"Duration=%{y}<extra></extra>\", \"legendgroup\": \"\", \"marker\": {\"color\": \"green\"}, \"name\": \"\", \"notched\": false, \"offsetgroup\": \"\", \"orientation\": \"v\", \"showlegend\": false, \"type\": \"box\", \"x0\": \" \", \"xaxis\": \"x\", \"y\": [142, 175, 200, 152, 154, 96, 161, 201, 195, 139, 178, 148, 124, 142, 179, 169, 133, 207, 146, 121, 136, 130, 130, 106, 127, 116, 175, 118, 110, 87, 125, 112, 102, 107, 119, 87, 169, 115, 112, 109, 189, 110, 150, 165, 155, 137, 113, 165, 95, 151, 155, 153, 125, 130, 116, 89, 137, 117, 88, 165, 170, 89, 146, 99, 98, 116, 156, 122, 149, 134, 122, 136, 157, 123, 119, 137, 128, 120, 229, 107, 134, 103, 177, 129, 102, 216, 136, 93, 68, 189, 99, 108, 113, 181, 103, 138, 110, 129, 88, 160, 126, 91, 116, 125, 143, 93, 102, 132, 153, 183, 160, 120, 138, 140, 153, 170, 129, 81, 127, 131, 172, 115, 108, 107, 129, 156, 96, 91, 95, 162, 130, 86, 186, 151, 96, 170, 118, 161, 131, 126, 131, 129, 224, 180, 105, 117, 140, 119, 124, 130, 139, 107, 132, 117, 126, 122, 178, 238, 149, 172, 98, 116, 116, 123, 148, 123, 182, 92, 93, 100, 135, 105, 94, 140, 83, 95, 98, 143, 99, 98, 121, 163, 121, 167, 188, 121, 109, 110, 129, 127, 94, 107, 100, 117, 129, 120, 121, 133, 111, 122, 101, 134, 165, 138, 212, 154, 89, 134, 93, 114, 88, 130, 101, 158, 99, 108, 124, 132, 113, 131, 191, 167, 130, 147, 102, 88, 165, 132, 118, 101, 108, 174, 98, 92, 98, 106, 85, 101, 105, 115, 115, 124, 105, 103, 138, 184, 120, 99, 131, 138, 98, 123, 118, 114, 118, 112, 124, 160, 67, 146, 125, 115, 134, 141, 129, 104, 94, 124, 150, 119, 128, 143, 85, 151, 118, 101, 99, 92, 125, 102, 106, 107, 91, 80, 122, 102, 112, 92, 135, 136, 153, 105, 126, 68, 84, 103, 145, 80, 106, 127, 178, 137, 172, 76, 130, 96, 82, 115, 95, 143, 125, 120, 127, 112, 104, 113, 189, 127, 188, 96, 113, 132, 122, 126, 140, 133, 112, 102, 93, 109, 81, 108, 111, 119, 96, 197, 127, 138, 66, 181, 141, 144, 128, 83, 121, 98, 117, 94, 174, 112, 108, 70, 99, 96, 137, 136, 100, 90, 96, 161, 115, 181, 169, 98, 136, 138, 119, 123, 112, 120, 103, 97, 109, 165, 156, 147, 100, 126, 115, 105, 144, 102, 107, 119, 90, 197, 86, 113, 133, 64, 141, 113, 122, 105, 119, 102, 122, 123, 113, 97, 117, 111, 85, 99, 134, 75, 109, 117, 91, 128, 111, 119, 100, 114, 92, 141, 101, 115, 127, 96, 129, 135, 109, 157, 193, 94, 155, 113, 130, 117, 159, 141, 112, 162, 126, 120, 144, 120, 109, 97, 108, 115, 136, 90, 170, 220, 116, 134, 124, 91, 103, 96, 119, 98, 101, 93, 179, 155, 121, 103, 127, 103, 107, 100, 92, 94, 158, 86, 115, 130, 107, 100, 108, 124, 131, 122, 242, 127, 141, 126, 89, 113, 152, 107, 92, 145, 84, 126, 132, 78, 117, 128, 100, 128, 100, 143, 107, 100, 125, 106, 157, 94, 104, 94, 153, 123, 120, 105, 166, 112, 94, 111, 87, 80, 108, 102, 105, 136, 101, 100, 108, 101, 106, 105, 88, 129, 138, 129, 118, 139, 123, 150, 132, 80, 178, 79, 163, 114, 144, 130, 154, 81, 95, 101, 120, 93, 115, 106, 120, 110, 123, 142, 99, 112, 120, 122, 130, 139, 129, 141, 127, 130, 118, 110, 115, 101, 112, 108, 143, 152, 117, 121, 119, 114, 122, 105, 110, 116, 139, 121, 109, 146, 113, 100, 121, 113, 113, 117, 93, 101, 90, 131, 98, 93, 121, 82, 124, 100, 117, 99, 116, 123, 114, 133, 105, 127, 144, 90, 118, 122, 102, 187, 87, 154, 89, 88, 129, 95, 118, 98, 194, 114, 80, 130, 135, 101, 105, 129, 134, 143, 202, 89, 106, 92, 137, 124, 122, 113, 112, 110, 135, 88, 146, 104, 125, 131, 91, 142, 129, 158, 102, 99, 101, 104, 119, 103, 88, 100, 146, 150, 140, 140, 110, 97, 102, 152, 100, 94, 85, 104, 112, 191, 119, 111, 94, 103, 134, 157, 158, 127, 101, 109, 98, 134, 168, 93, 145, 111, 88, 123, 121, 144, 116, 124, 147, 106, 113, 129, 94, 126, 128, 111, 146, 85, 105, 132, 130, 162, 113, 110, 113, 162, 110, 78, 92, 95, 138, 102, 128, 96, 164, 126, 110, 109, 122, 124, 128, 157, 120, 102, 152, 170, 102, 116, 164, 85, 104, 99, 81, 131, 101, 121, 69, 92, 94, 141, 116, 98, 135, 121, 108, 114, 102, 112, 140, 157, 128, 108, 139, 83, 131, 113, 136, 96, 118, 108, 83, 205, 124, 111, 137, 104, 109, 115, 99, 114, 133, 131, 131, 123, 126, 97, 126, 89, 122, 121, 125, 105, 118, 81, 115, 126, 113, 107, 126, 111, 85, 120, 93, 100, 107, 126, 131, 116, 143, 93, 96, 160, 137, 119, 114, 98, 111, 138, 144, 107, 114, 125, 146, 113, 85, 97, 93, 113, 128, 114, 147, 127, 167, 124, 109, 124, 102, 130, 125, 98, 154, 97, 128, 98, 101, 147, 172, 125, 88, 125, 121, 112, 120, 133, 110, 135, 110, 80, 135, 101, 112, 124, 129, 104, 96, 105, 109, 117, 78, 138, 106, 90, 106, 91, 112, 134, 112, 104, 101, 120, 123, 133, 110, 129, 120, 83, 88, 96, 139, 113, 84, 106, 170, 144, 104, 153, 85, 130, 93, 148, 115, 102, 125, 106, 121, 143, 116, 99, 116, 128, 119, 104, 114, 152, 129, 103, 112, 92, 141, 106, 109, 104, 122, 111, 112, 116, 130, 133, 134, 92, 104, 110, 97, 100, 118, 112, 138, 92, 118, 140, 128, 101, 75, 97, 111, 175, 94, 97, 132, 120, 107, 89, 86, 103, 108, 105, 117, 102, 104, 157, 104, 98, 109, 96, 103, 114, 99, 118, 150, 105, 87, 136, 162, 109, 107, 90, 112, 126, 116, 118, 138, 114, 126], \"y0\": \" \", \"yaxis\": \"y\"}],                        {\"boxmode\": \"group\", \"legend\": {\"tracegroupgap\": 0}, \"template\": {\"data\": {\"bar\": [{\"error_x\": {\"color\": \"#2a3f5f\"}, \"error_y\": {\"color\": \"#2a3f5f\"}, \"marker\": {\"line\": {\"color\": \"#E5ECF6\", \"width\": 0.5}}, \"type\": \"bar\"}], \"barpolar\": [{\"marker\": {\"line\": {\"color\": \"#E5ECF6\", \"width\": 0.5}}, \"type\": \"barpolar\"}], \"carpet\": [{\"aaxis\": {\"endlinecolor\": \"#2a3f5f\", \"gridcolor\": \"white\", \"linecolor\": \"white\", \"minorgridcolor\": \"white\", \"startlinecolor\": \"#2a3f5f\"}, \"baxis\": {\"endlinecolor\": \"#2a3f5f\", \"gridcolor\": \"white\", \"linecolor\": \"white\", \"minorgridcolor\": \"white\", \"startlinecolor\": \"#2a3f5f\"}, \"type\": \"carpet\"}], \"choropleth\": [{\"colorbar\": {\"outlinewidth\": 0, \"ticks\": \"\"}, \"type\": \"choropleth\"}], \"contour\": [{\"colorbar\": {\"outlinewidth\": 0, \"ticks\": \"\"}, \"colorscale\": [[0.0, \"#0d0887\"], [0.1111111111111111, \"#46039f\"], [0.2222222222222222, \"#7201a8\"], [0.3333333333333333, \"#9c179e\"], [0.4444444444444444, \"#bd3786\"], [0.5555555555555556, \"#d8576b\"], [0.6666666666666666, \"#ed7953\"], [0.7777777777777778, \"#fb9f3a\"], [0.8888888888888888, \"#fdca26\"], [1.0, \"#f0f921\"]], \"type\": \"contour\"}], \"contourcarpet\": [{\"colorbar\": {\"outlinewidth\": 0, \"ticks\": \"\"}, \"type\": \"contourcarpet\"}], \"heatmap\": [{\"colorbar\": {\"outlinewidth\": 0, \"ticks\": \"\"}, \"colorscale\": [[0.0, \"#0d0887\"], [0.1111111111111111, \"#46039f\"], [0.2222222222222222, \"#7201a8\"], [0.3333333333333333, \"#9c179e\"], [0.4444444444444444, \"#bd3786\"], [0.5555555555555556, \"#d8576b\"], [0.6666666666666666, \"#ed7953\"], [0.7777777777777778, \"#fb9f3a\"], [0.8888888888888888, \"#fdca26\"], [1.0, \"#f0f921\"]], \"type\": \"heatmap\"}], \"heatmapgl\": [{\"colorbar\": {\"outlinewidth\": 0, \"ticks\": \"\"}, \"colorscale\": [[0.0, \"#0d0887\"], [0.1111111111111111, \"#46039f\"], [0.2222222222222222, \"#7201a8\"], [0.3333333333333333, \"#9c179e\"], [0.4444444444444444, \"#bd3786\"], [0.5555555555555556, \"#d8576b\"], [0.6666666666666666, \"#ed7953\"], [0.7777777777777778, \"#fb9f3a\"], [0.8888888888888888, \"#fdca26\"], [1.0, \"#f0f921\"]], \"type\": \"heatmapgl\"}], \"histogram\": [{\"marker\": {\"colorbar\": {\"outlinewidth\": 0, \"ticks\": \"\"}}, \"type\": \"histogram\"}], \"histogram2d\": [{\"colorbar\": {\"outlinewidth\": 0, \"ticks\": \"\"}, \"colorscale\": [[0.0, \"#0d0887\"], [0.1111111111111111, \"#46039f\"], [0.2222222222222222, \"#7201a8\"], [0.3333333333333333, \"#9c179e\"], [0.4444444444444444, \"#bd3786\"], [0.5555555555555556, \"#d8576b\"], [0.6666666666666666, \"#ed7953\"], [0.7777777777777778, \"#fb9f3a\"], [0.8888888888888888, \"#fdca26\"], [1.0, \"#f0f921\"]], \"type\": \"histogram2d\"}], \"histogram2dcontour\": [{\"colorbar\": {\"outlinewidth\": 0, \"ticks\": \"\"}, \"colorscale\": [[0.0, \"#0d0887\"], [0.1111111111111111, \"#46039f\"], [0.2222222222222222, \"#7201a8\"], [0.3333333333333333, \"#9c179e\"], [0.4444444444444444, \"#bd3786\"], [0.5555555555555556, \"#d8576b\"], [0.6666666666666666, \"#ed7953\"], [0.7777777777777778, \"#fb9f3a\"], [0.8888888888888888, \"#fdca26\"], [1.0, \"#f0f921\"]], \"type\": \"histogram2dcontour\"}], \"mesh3d\": [{\"colorbar\": {\"outlinewidth\": 0, \"ticks\": \"\"}, \"type\": \"mesh3d\"}], \"parcoords\": [{\"line\": {\"colorbar\": {\"outlinewidth\": 0, \"ticks\": \"\"}}, \"type\": \"parcoords\"}], \"pie\": [{\"automargin\": true, \"type\": \"pie\"}], \"scatter\": [{\"marker\": {\"colorbar\": {\"outlinewidth\": 0, \"ticks\": \"\"}}, \"type\": \"scatter\"}], \"scatter3d\": [{\"line\": {\"colorbar\": {\"outlinewidth\": 0, \"ticks\": \"\"}}, \"marker\": {\"colorbar\": {\"outlinewidth\": 0, \"ticks\": \"\"}}, \"type\": \"scatter3d\"}], \"scattercarpet\": [{\"marker\": {\"colorbar\": {\"outlinewidth\": 0, \"ticks\": \"\"}}, \"type\": \"scattercarpet\"}], \"scattergeo\": [{\"marker\": {\"colorbar\": {\"outlinewidth\": 0, \"ticks\": \"\"}}, \"type\": \"scattergeo\"}], \"scattergl\": [{\"marker\": {\"colorbar\": {\"outlinewidth\": 0, \"ticks\": \"\"}}, \"type\": \"scattergl\"}], \"scattermapbox\": [{\"marker\": {\"colorbar\": {\"outlinewidth\": 0, \"ticks\": \"\"}}, \"type\": \"scattermapbox\"}], \"scatterpolar\": [{\"marker\": {\"colorbar\": {\"outlinewidth\": 0, \"ticks\": \"\"}}, \"type\": \"scatterpolar\"}], \"scatterpolargl\": [{\"marker\": {\"colorbar\": {\"outlinewidth\": 0, \"ticks\": \"\"}}, \"type\": \"scatterpolargl\"}], \"scatterternary\": [{\"marker\": {\"colorbar\": {\"outlinewidth\": 0, \"ticks\": \"\"}}, \"type\": \"scatterternary\"}], \"surface\": [{\"colorbar\": {\"outlinewidth\": 0, \"ticks\": \"\"}, \"colorscale\": [[0.0, \"#0d0887\"], [0.1111111111111111, \"#46039f\"], [0.2222222222222222, \"#7201a8\"], [0.3333333333333333, \"#9c179e\"], [0.4444444444444444, \"#bd3786\"], [0.5555555555555556, \"#d8576b\"], [0.6666666666666666, \"#ed7953\"], [0.7777777777777778, \"#fb9f3a\"], [0.8888888888888888, \"#fdca26\"], [1.0, \"#f0f921\"]], \"type\": \"surface\"}], \"table\": [{\"cells\": {\"fill\": {\"color\": \"#EBF0F8\"}, \"line\": {\"color\": \"white\"}}, \"header\": {\"fill\": {\"color\": \"#C8D4E3\"}, \"line\": {\"color\": \"white\"}}, \"type\": \"table\"}]}, \"layout\": {\"annotationdefaults\": {\"arrowcolor\": \"#2a3f5f\", \"arrowhead\": 0, \"arrowwidth\": 1}, \"coloraxis\": {\"colorbar\": {\"outlinewidth\": 0, \"ticks\": \"\"}}, \"colorscale\": {\"diverging\": [[0, \"#8e0152\"], [0.1, \"#c51b7d\"], [0.2, \"#de77ae\"], [0.3, \"#f1b6da\"], [0.4, \"#fde0ef\"], [0.5, \"#f7f7f7\"], [0.6, \"#e6f5d0\"], [0.7, \"#b8e186\"], [0.8, \"#7fbc41\"], [0.9, \"#4d9221\"], [1, \"#276419\"]], \"sequential\": [[0.0, \"#0d0887\"], [0.1111111111111111, \"#46039f\"], [0.2222222222222222, \"#7201a8\"], [0.3333333333333333, \"#9c179e\"], [0.4444444444444444, \"#bd3786\"], [0.5555555555555556, \"#d8576b\"], [0.6666666666666666, \"#ed7953\"], [0.7777777777777778, \"#fb9f3a\"], [0.8888888888888888, \"#fdca26\"], [1.0, \"#f0f921\"]], \"sequentialminus\": [[0.0, \"#0d0887\"], [0.1111111111111111, \"#46039f\"], [0.2222222222222222, \"#7201a8\"], [0.3333333333333333, \"#9c179e\"], [0.4444444444444444, \"#bd3786\"], [0.5555555555555556, \"#d8576b\"], [0.6666666666666666, \"#ed7953\"], [0.7777777777777778, \"#fb9f3a\"], [0.8888888888888888, \"#fdca26\"], [1.0, \"#f0f921\"]]}, \"colorway\": [\"#636efa\", \"#EF553B\", \"#00cc96\", \"#ab63fa\", \"#FFA15A\", \"#19d3f3\", \"#FF6692\", \"#B6E880\", \"#FF97FF\", \"#FECB52\"], \"font\": {\"color\": \"#2a3f5f\"}, \"geo\": {\"bgcolor\": \"white\", \"lakecolor\": \"white\", \"landcolor\": \"#E5ECF6\", \"showlakes\": true, \"showland\": true, \"subunitcolor\": \"white\"}, \"hoverlabel\": {\"align\": \"left\"}, \"hovermode\": \"closest\", \"mapbox\": {\"style\": \"light\"}, \"paper_bgcolor\": \"white\", \"plot_bgcolor\": \"#E5ECF6\", \"polar\": {\"angularaxis\": {\"gridcolor\": \"white\", \"linecolor\": \"white\", \"ticks\": \"\"}, \"bgcolor\": \"#E5ECF6\", \"radialaxis\": {\"gridcolor\": \"white\", \"linecolor\": \"white\", \"ticks\": \"\"}}, \"scene\": {\"xaxis\": {\"backgroundcolor\": \"#E5ECF6\", \"gridcolor\": \"white\", \"gridwidth\": 2, \"linecolor\": \"white\", \"showbackground\": true, \"ticks\": \"\", \"zerolinecolor\": \"white\"}, \"yaxis\": {\"backgroundcolor\": \"#E5ECF6\", \"gridcolor\": \"white\", \"gridwidth\": 2, \"linecolor\": \"white\", \"showbackground\": true, \"ticks\": \"\", \"zerolinecolor\": \"white\"}, \"zaxis\": {\"backgroundcolor\": \"#E5ECF6\", \"gridcolor\": \"white\", \"gridwidth\": 2, \"linecolor\": \"white\", \"showbackground\": true, \"ticks\": \"\", \"zerolinecolor\": \"white\"}}, \"shapedefaults\": {\"line\": {\"color\": \"#2a3f5f\"}}, \"ternary\": {\"aaxis\": {\"gridcolor\": \"white\", \"linecolor\": \"white\", \"ticks\": \"\"}, \"baxis\": {\"gridcolor\": \"white\", \"linecolor\": \"white\", \"ticks\": \"\"}, \"bgcolor\": \"#E5ECF6\", \"caxis\": {\"gridcolor\": \"white\", \"linecolor\": \"white\", \"ticks\": \"\"}}, \"title\": {\"x\": 0.05}, \"xaxis\": {\"automargin\": true, \"gridcolor\": \"white\", \"linecolor\": \"white\", \"ticks\": \"\", \"title\": {\"standoff\": 15}, \"zerolinecolor\": \"white\", \"zerolinewidth\": 2}, \"yaxis\": {\"automargin\": true, \"gridcolor\": \"white\", \"linecolor\": \"white\", \"ticks\": \"\", \"title\": {\"standoff\": 15}, \"zerolinecolor\": \"white\", \"zerolinewidth\": 2}}}, \"title\": {\"text\": \"Movies by Duration\"}, \"xaxis\": {\"anchor\": \"y\", \"domain\": [0.0, 1.0]}, \"yaxis\": {\"anchor\": \"x\", \"domain\": [0.0, 1.0], \"title\": {\"text\": \"Duration\"}}},                        {\"responsive\": true}                    ).then(function(){\n",
       "                            \n",
       "var gd = document.getElementById('1b5069d8-8d66-40dd-9bb7-d795c38f7c11');\n",
       "var x = new MutationObserver(function (mutations, observer) {{\n",
       "        var display = window.getComputedStyle(gd).display;\n",
       "        if (!display || display === 'none') {{\n",
       "            console.log([gd, 'removed!']);\n",
       "            Plotly.purge(gd);\n",
       "            observer.disconnect();\n",
       "        }}\n",
       "}});\n",
       "\n",
       "// Listen for the removal of the full notebook cells\n",
       "var notebookContainer = gd.closest('#notebook-container');\n",
       "if (notebookContainer) {{\n",
       "    x.observe(notebookContainer, {childList: true});\n",
       "}}\n",
       "\n",
       "// Listen for the clearing of the current output cell\n",
       "var outputEl = gd.closest('.output');\n",
       "if (outputEl) {{\n",
       "    x.observe(outputEl, {childList: true});\n",
       "}}\n",
       "\n",
       "                        })                };                });            </script>        </div>"
      ]
     },
     "metadata": {},
     "output_type": "display_data"
    }
   ],
   "source": [
    "# Answer:\n",
    "fig2 = px.box(movies, y=\"duration\", title=\"Movies by Duration\", labels={'duration':'Duration'})\n",
    "fig2.update_traces(marker_color = 'green')\n",
    "fig2.show()"
   ]
  },
  {
   "cell_type": "markdown",
   "metadata": {},
   "source": [
    "## Intermediate level"
   ]
  },
  {
   "cell_type": "markdown",
   "metadata": {},
   "source": [
    "#### Count how many movies have each of the content ratings."
   ]
  },
  {
   "cell_type": "code",
   "execution_count": 146,
   "metadata": {},
   "outputs": [
    {
     "data": {
      "text/plain": [
       "R            460\n",
       "PG-13        189\n",
       "PG           123\n",
       "NOT RATED     65\n",
       "APPROVED      47\n",
       "UNRATED       38\n",
       "G             32\n",
       "PASSED         7\n",
       "NC-17          7\n",
       "X              4\n",
       "GP             3\n",
       "TV-MA          1\n",
       "Name: content_rating, dtype: int64"
      ]
     },
     "execution_count": 146,
     "metadata": {},
     "output_type": "execute_result"
    }
   ],
   "source": [
    "# Answer:\n",
    "content_ratings = movies['content_rating'].value_counts()\n",
    "content_ratings\n"
   ]
  },
  {
   "cell_type": "markdown",
   "metadata": {},
   "source": [
    "#### Use a visualization to display that same data, including a title and x and y labels."
   ]
  },
  {
   "cell_type": "code",
   "execution_count": 283,
   "metadata": {},
   "outputs": [
    {
     "data": {
      "application/vnd.plotly.v1+json": {
       "config": {
        "plotlyServerURL": "https://plot.ly"
       },
       "data": [
        {
         "alignmentgroup": "True",
         "hovertemplate": "variable=content_rating<br>Content Rating=%{x}<br># of Movies=%{y}<extra></extra>",
         "legendgroup": "content_rating",
         "marker": {
          "color": "green"
         },
         "name": "content_rating",
         "offsetgroup": "content_rating",
         "orientation": "v",
         "showlegend": true,
         "textposition": "auto",
         "type": "bar",
         "x": [
          "R",
          "PG-13",
          "PG",
          "NOT RATED",
          "APPROVED",
          "UNRATED",
          "G",
          "PASSED",
          "NC-17",
          "X",
          "GP",
          "TV-MA"
         ],
         "xaxis": "x",
         "y": [
          460,
          189,
          123,
          65,
          47,
          38,
          32,
          7,
          7,
          4,
          3,
          1
         ],
         "yaxis": "y"
        }
       ],
       "layout": {
        "barmode": "relative",
        "legend": {
         "title": {
          "text": "variable"
         },
         "tracegroupgap": 0
        },
        "showlegend": false,
        "template": {
         "data": {
          "bar": [
           {
            "error_x": {
             "color": "#2a3f5f"
            },
            "error_y": {
             "color": "#2a3f5f"
            },
            "marker": {
             "line": {
              "color": "#E5ECF6",
              "width": 0.5
             }
            },
            "type": "bar"
           }
          ],
          "barpolar": [
           {
            "marker": {
             "line": {
              "color": "#E5ECF6",
              "width": 0.5
             }
            },
            "type": "barpolar"
           }
          ],
          "carpet": [
           {
            "aaxis": {
             "endlinecolor": "#2a3f5f",
             "gridcolor": "white",
             "linecolor": "white",
             "minorgridcolor": "white",
             "startlinecolor": "#2a3f5f"
            },
            "baxis": {
             "endlinecolor": "#2a3f5f",
             "gridcolor": "white",
             "linecolor": "white",
             "minorgridcolor": "white",
             "startlinecolor": "#2a3f5f"
            },
            "type": "carpet"
           }
          ],
          "choropleth": [
           {
            "colorbar": {
             "outlinewidth": 0,
             "ticks": ""
            },
            "type": "choropleth"
           }
          ],
          "contour": [
           {
            "colorbar": {
             "outlinewidth": 0,
             "ticks": ""
            },
            "colorscale": [
             [
              0,
              "#0d0887"
             ],
             [
              0.1111111111111111,
              "#46039f"
             ],
             [
              0.2222222222222222,
              "#7201a8"
             ],
             [
              0.3333333333333333,
              "#9c179e"
             ],
             [
              0.4444444444444444,
              "#bd3786"
             ],
             [
              0.5555555555555556,
              "#d8576b"
             ],
             [
              0.6666666666666666,
              "#ed7953"
             ],
             [
              0.7777777777777778,
              "#fb9f3a"
             ],
             [
              0.8888888888888888,
              "#fdca26"
             ],
             [
              1,
              "#f0f921"
             ]
            ],
            "type": "contour"
           }
          ],
          "contourcarpet": [
           {
            "colorbar": {
             "outlinewidth": 0,
             "ticks": ""
            },
            "type": "contourcarpet"
           }
          ],
          "heatmap": [
           {
            "colorbar": {
             "outlinewidth": 0,
             "ticks": ""
            },
            "colorscale": [
             [
              0,
              "#0d0887"
             ],
             [
              0.1111111111111111,
              "#46039f"
             ],
             [
              0.2222222222222222,
              "#7201a8"
             ],
             [
              0.3333333333333333,
              "#9c179e"
             ],
             [
              0.4444444444444444,
              "#bd3786"
             ],
             [
              0.5555555555555556,
              "#d8576b"
             ],
             [
              0.6666666666666666,
              "#ed7953"
             ],
             [
              0.7777777777777778,
              "#fb9f3a"
             ],
             [
              0.8888888888888888,
              "#fdca26"
             ],
             [
              1,
              "#f0f921"
             ]
            ],
            "type": "heatmap"
           }
          ],
          "heatmapgl": [
           {
            "colorbar": {
             "outlinewidth": 0,
             "ticks": ""
            },
            "colorscale": [
             [
              0,
              "#0d0887"
             ],
             [
              0.1111111111111111,
              "#46039f"
             ],
             [
              0.2222222222222222,
              "#7201a8"
             ],
             [
              0.3333333333333333,
              "#9c179e"
             ],
             [
              0.4444444444444444,
              "#bd3786"
             ],
             [
              0.5555555555555556,
              "#d8576b"
             ],
             [
              0.6666666666666666,
              "#ed7953"
             ],
             [
              0.7777777777777778,
              "#fb9f3a"
             ],
             [
              0.8888888888888888,
              "#fdca26"
             ],
             [
              1,
              "#f0f921"
             ]
            ],
            "type": "heatmapgl"
           }
          ],
          "histogram": [
           {
            "marker": {
             "colorbar": {
              "outlinewidth": 0,
              "ticks": ""
             }
            },
            "type": "histogram"
           }
          ],
          "histogram2d": [
           {
            "colorbar": {
             "outlinewidth": 0,
             "ticks": ""
            },
            "colorscale": [
             [
              0,
              "#0d0887"
             ],
             [
              0.1111111111111111,
              "#46039f"
             ],
             [
              0.2222222222222222,
              "#7201a8"
             ],
             [
              0.3333333333333333,
              "#9c179e"
             ],
             [
              0.4444444444444444,
              "#bd3786"
             ],
             [
              0.5555555555555556,
              "#d8576b"
             ],
             [
              0.6666666666666666,
              "#ed7953"
             ],
             [
              0.7777777777777778,
              "#fb9f3a"
             ],
             [
              0.8888888888888888,
              "#fdca26"
             ],
             [
              1,
              "#f0f921"
             ]
            ],
            "type": "histogram2d"
           }
          ],
          "histogram2dcontour": [
           {
            "colorbar": {
             "outlinewidth": 0,
             "ticks": ""
            },
            "colorscale": [
             [
              0,
              "#0d0887"
             ],
             [
              0.1111111111111111,
              "#46039f"
             ],
             [
              0.2222222222222222,
              "#7201a8"
             ],
             [
              0.3333333333333333,
              "#9c179e"
             ],
             [
              0.4444444444444444,
              "#bd3786"
             ],
             [
              0.5555555555555556,
              "#d8576b"
             ],
             [
              0.6666666666666666,
              "#ed7953"
             ],
             [
              0.7777777777777778,
              "#fb9f3a"
             ],
             [
              0.8888888888888888,
              "#fdca26"
             ],
             [
              1,
              "#f0f921"
             ]
            ],
            "type": "histogram2dcontour"
           }
          ],
          "mesh3d": [
           {
            "colorbar": {
             "outlinewidth": 0,
             "ticks": ""
            },
            "type": "mesh3d"
           }
          ],
          "parcoords": [
           {
            "line": {
             "colorbar": {
              "outlinewidth": 0,
              "ticks": ""
             }
            },
            "type": "parcoords"
           }
          ],
          "pie": [
           {
            "automargin": true,
            "type": "pie"
           }
          ],
          "scatter": [
           {
            "marker": {
             "colorbar": {
              "outlinewidth": 0,
              "ticks": ""
             }
            },
            "type": "scatter"
           }
          ],
          "scatter3d": [
           {
            "line": {
             "colorbar": {
              "outlinewidth": 0,
              "ticks": ""
             }
            },
            "marker": {
             "colorbar": {
              "outlinewidth": 0,
              "ticks": ""
             }
            },
            "type": "scatter3d"
           }
          ],
          "scattercarpet": [
           {
            "marker": {
             "colorbar": {
              "outlinewidth": 0,
              "ticks": ""
             }
            },
            "type": "scattercarpet"
           }
          ],
          "scattergeo": [
           {
            "marker": {
             "colorbar": {
              "outlinewidth": 0,
              "ticks": ""
             }
            },
            "type": "scattergeo"
           }
          ],
          "scattergl": [
           {
            "marker": {
             "colorbar": {
              "outlinewidth": 0,
              "ticks": ""
             }
            },
            "type": "scattergl"
           }
          ],
          "scattermapbox": [
           {
            "marker": {
             "colorbar": {
              "outlinewidth": 0,
              "ticks": ""
             }
            },
            "type": "scattermapbox"
           }
          ],
          "scatterpolar": [
           {
            "marker": {
             "colorbar": {
              "outlinewidth": 0,
              "ticks": ""
             }
            },
            "type": "scatterpolar"
           }
          ],
          "scatterpolargl": [
           {
            "marker": {
             "colorbar": {
              "outlinewidth": 0,
              "ticks": ""
             }
            },
            "type": "scatterpolargl"
           }
          ],
          "scatterternary": [
           {
            "marker": {
             "colorbar": {
              "outlinewidth": 0,
              "ticks": ""
             }
            },
            "type": "scatterternary"
           }
          ],
          "surface": [
           {
            "colorbar": {
             "outlinewidth": 0,
             "ticks": ""
            },
            "colorscale": [
             [
              0,
              "#0d0887"
             ],
             [
              0.1111111111111111,
              "#46039f"
             ],
             [
              0.2222222222222222,
              "#7201a8"
             ],
             [
              0.3333333333333333,
              "#9c179e"
             ],
             [
              0.4444444444444444,
              "#bd3786"
             ],
             [
              0.5555555555555556,
              "#d8576b"
             ],
             [
              0.6666666666666666,
              "#ed7953"
             ],
             [
              0.7777777777777778,
              "#fb9f3a"
             ],
             [
              0.8888888888888888,
              "#fdca26"
             ],
             [
              1,
              "#f0f921"
             ]
            ],
            "type": "surface"
           }
          ],
          "table": [
           {
            "cells": {
             "fill": {
              "color": "#EBF0F8"
             },
             "line": {
              "color": "white"
             }
            },
            "header": {
             "fill": {
              "color": "#C8D4E3"
             },
             "line": {
              "color": "white"
             }
            },
            "type": "table"
           }
          ]
         },
         "layout": {
          "annotationdefaults": {
           "arrowcolor": "#2a3f5f",
           "arrowhead": 0,
           "arrowwidth": 1
          },
          "coloraxis": {
           "colorbar": {
            "outlinewidth": 0,
            "ticks": ""
           }
          },
          "colorscale": {
           "diverging": [
            [
             0,
             "#8e0152"
            ],
            [
             0.1,
             "#c51b7d"
            ],
            [
             0.2,
             "#de77ae"
            ],
            [
             0.3,
             "#f1b6da"
            ],
            [
             0.4,
             "#fde0ef"
            ],
            [
             0.5,
             "#f7f7f7"
            ],
            [
             0.6,
             "#e6f5d0"
            ],
            [
             0.7,
             "#b8e186"
            ],
            [
             0.8,
             "#7fbc41"
            ],
            [
             0.9,
             "#4d9221"
            ],
            [
             1,
             "#276419"
            ]
           ],
           "sequential": [
            [
             0,
             "#0d0887"
            ],
            [
             0.1111111111111111,
             "#46039f"
            ],
            [
             0.2222222222222222,
             "#7201a8"
            ],
            [
             0.3333333333333333,
             "#9c179e"
            ],
            [
             0.4444444444444444,
             "#bd3786"
            ],
            [
             0.5555555555555556,
             "#d8576b"
            ],
            [
             0.6666666666666666,
             "#ed7953"
            ],
            [
             0.7777777777777778,
             "#fb9f3a"
            ],
            [
             0.8888888888888888,
             "#fdca26"
            ],
            [
             1,
             "#f0f921"
            ]
           ],
           "sequentialminus": [
            [
             0,
             "#0d0887"
            ],
            [
             0.1111111111111111,
             "#46039f"
            ],
            [
             0.2222222222222222,
             "#7201a8"
            ],
            [
             0.3333333333333333,
             "#9c179e"
            ],
            [
             0.4444444444444444,
             "#bd3786"
            ],
            [
             0.5555555555555556,
             "#d8576b"
            ],
            [
             0.6666666666666666,
             "#ed7953"
            ],
            [
             0.7777777777777778,
             "#fb9f3a"
            ],
            [
             0.8888888888888888,
             "#fdca26"
            ],
            [
             1,
             "#f0f921"
            ]
           ]
          },
          "colorway": [
           "#636efa",
           "#EF553B",
           "#00cc96",
           "#ab63fa",
           "#FFA15A",
           "#19d3f3",
           "#FF6692",
           "#B6E880",
           "#FF97FF",
           "#FECB52"
          ],
          "font": {
           "color": "#2a3f5f"
          },
          "geo": {
           "bgcolor": "white",
           "lakecolor": "white",
           "landcolor": "#E5ECF6",
           "showlakes": true,
           "showland": true,
           "subunitcolor": "white"
          },
          "hoverlabel": {
           "align": "left"
          },
          "hovermode": "closest",
          "mapbox": {
           "style": "light"
          },
          "paper_bgcolor": "white",
          "plot_bgcolor": "#E5ECF6",
          "polar": {
           "angularaxis": {
            "gridcolor": "white",
            "linecolor": "white",
            "ticks": ""
           },
           "bgcolor": "#E5ECF6",
           "radialaxis": {
            "gridcolor": "white",
            "linecolor": "white",
            "ticks": ""
           }
          },
          "scene": {
           "xaxis": {
            "backgroundcolor": "#E5ECF6",
            "gridcolor": "white",
            "gridwidth": 2,
            "linecolor": "white",
            "showbackground": true,
            "ticks": "",
            "zerolinecolor": "white"
           },
           "yaxis": {
            "backgroundcolor": "#E5ECF6",
            "gridcolor": "white",
            "gridwidth": 2,
            "linecolor": "white",
            "showbackground": true,
            "ticks": "",
            "zerolinecolor": "white"
           },
           "zaxis": {
            "backgroundcolor": "#E5ECF6",
            "gridcolor": "white",
            "gridwidth": 2,
            "linecolor": "white",
            "showbackground": true,
            "ticks": "",
            "zerolinecolor": "white"
           }
          },
          "shapedefaults": {
           "line": {
            "color": "#2a3f5f"
           }
          },
          "ternary": {
           "aaxis": {
            "gridcolor": "white",
            "linecolor": "white",
            "ticks": ""
           },
           "baxis": {
            "gridcolor": "white",
            "linecolor": "white",
            "ticks": ""
           },
           "bgcolor": "#E5ECF6",
           "caxis": {
            "gridcolor": "white",
            "linecolor": "white",
            "ticks": ""
           }
          },
          "title": {
           "x": 0.05
          },
          "xaxis": {
           "automargin": true,
           "gridcolor": "white",
           "linecolor": "white",
           "ticks": "",
           "title": {
            "standoff": 15
           },
           "zerolinecolor": "white",
           "zerolinewidth": 2
          },
          "yaxis": {
           "automargin": true,
           "gridcolor": "white",
           "linecolor": "white",
           "ticks": "",
           "title": {
            "standoff": 15
           },
           "zerolinecolor": "white",
           "zerolinewidth": 2
          }
         }
        },
        "title": {
         "text": "Number of Movies per Content Rating"
        },
        "xaxis": {
         "anchor": "y",
         "domain": [
          0,
          1
         ],
         "title": {
          "text": "Content Rating"
         }
        },
        "yaxis": {
         "anchor": "x",
         "domain": [
          0,
          1
         ],
         "title": {
          "text": "# of Movies"
         }
        }
       }
      },
      "text/html": [
       "<div>                            <div id=\"35c07cd1-bb79-414b-982f-58f8c32a9921\" class=\"plotly-graph-div\" style=\"height:525px; width:100%;\"></div>            <script type=\"text/javascript\">                require([\"plotly\"], function(Plotly) {                    window.PLOTLYENV=window.PLOTLYENV || {};                                    if (document.getElementById(\"35c07cd1-bb79-414b-982f-58f8c32a9921\")) {                    Plotly.newPlot(                        \"35c07cd1-bb79-414b-982f-58f8c32a9921\",                        [{\"alignmentgroup\": \"True\", \"hovertemplate\": \"variable=content_rating<br>Content Rating=%{x}<br># of Movies=%{y}<extra></extra>\", \"legendgroup\": \"content_rating\", \"marker\": {\"color\": \"green\"}, \"name\": \"content_rating\", \"offsetgroup\": \"content_rating\", \"orientation\": \"v\", \"showlegend\": true, \"textposition\": \"auto\", \"type\": \"bar\", \"x\": [\"R\", \"PG-13\", \"PG\", \"NOT RATED\", \"APPROVED\", \"UNRATED\", \"G\", \"PASSED\", \"NC-17\", \"X\", \"GP\", \"TV-MA\"], \"xaxis\": \"x\", \"y\": [460, 189, 123, 65, 47, 38, 32, 7, 7, 4, 3, 1], \"yaxis\": \"y\"}],                        {\"barmode\": \"relative\", \"legend\": {\"title\": {\"text\": \"variable\"}, \"tracegroupgap\": 0}, \"showlegend\": false, \"template\": {\"data\": {\"bar\": [{\"error_x\": {\"color\": \"#2a3f5f\"}, \"error_y\": {\"color\": \"#2a3f5f\"}, \"marker\": {\"line\": {\"color\": \"#E5ECF6\", \"width\": 0.5}}, \"type\": \"bar\"}], \"barpolar\": [{\"marker\": {\"line\": {\"color\": \"#E5ECF6\", \"width\": 0.5}}, \"type\": \"barpolar\"}], \"carpet\": [{\"aaxis\": {\"endlinecolor\": \"#2a3f5f\", \"gridcolor\": \"white\", \"linecolor\": \"white\", \"minorgridcolor\": \"white\", \"startlinecolor\": \"#2a3f5f\"}, \"baxis\": {\"endlinecolor\": \"#2a3f5f\", \"gridcolor\": \"white\", \"linecolor\": \"white\", \"minorgridcolor\": \"white\", \"startlinecolor\": \"#2a3f5f\"}, \"type\": \"carpet\"}], \"choropleth\": [{\"colorbar\": {\"outlinewidth\": 0, \"ticks\": \"\"}, \"type\": \"choropleth\"}], \"contour\": [{\"colorbar\": {\"outlinewidth\": 0, \"ticks\": \"\"}, \"colorscale\": [[0.0, \"#0d0887\"], [0.1111111111111111, \"#46039f\"], [0.2222222222222222, \"#7201a8\"], [0.3333333333333333, \"#9c179e\"], [0.4444444444444444, \"#bd3786\"], [0.5555555555555556, \"#d8576b\"], [0.6666666666666666, \"#ed7953\"], [0.7777777777777778, \"#fb9f3a\"], [0.8888888888888888, \"#fdca26\"], [1.0, \"#f0f921\"]], \"type\": \"contour\"}], \"contourcarpet\": [{\"colorbar\": {\"outlinewidth\": 0, \"ticks\": \"\"}, \"type\": \"contourcarpet\"}], \"heatmap\": [{\"colorbar\": {\"outlinewidth\": 0, \"ticks\": \"\"}, \"colorscale\": [[0.0, \"#0d0887\"], [0.1111111111111111, \"#46039f\"], [0.2222222222222222, \"#7201a8\"], [0.3333333333333333, \"#9c179e\"], [0.4444444444444444, \"#bd3786\"], [0.5555555555555556, \"#d8576b\"], [0.6666666666666666, \"#ed7953\"], [0.7777777777777778, \"#fb9f3a\"], [0.8888888888888888, \"#fdca26\"], [1.0, \"#f0f921\"]], \"type\": \"heatmap\"}], \"heatmapgl\": [{\"colorbar\": {\"outlinewidth\": 0, \"ticks\": \"\"}, \"colorscale\": [[0.0, \"#0d0887\"], [0.1111111111111111, \"#46039f\"], [0.2222222222222222, \"#7201a8\"], [0.3333333333333333, \"#9c179e\"], [0.4444444444444444, \"#bd3786\"], [0.5555555555555556, \"#d8576b\"], [0.6666666666666666, \"#ed7953\"], [0.7777777777777778, \"#fb9f3a\"], [0.8888888888888888, \"#fdca26\"], [1.0, \"#f0f921\"]], \"type\": \"heatmapgl\"}], \"histogram\": [{\"marker\": {\"colorbar\": {\"outlinewidth\": 0, \"ticks\": \"\"}}, \"type\": \"histogram\"}], \"histogram2d\": [{\"colorbar\": {\"outlinewidth\": 0, \"ticks\": \"\"}, \"colorscale\": [[0.0, \"#0d0887\"], [0.1111111111111111, \"#46039f\"], [0.2222222222222222, \"#7201a8\"], [0.3333333333333333, \"#9c179e\"], [0.4444444444444444, \"#bd3786\"], [0.5555555555555556, \"#d8576b\"], [0.6666666666666666, \"#ed7953\"], [0.7777777777777778, \"#fb9f3a\"], [0.8888888888888888, \"#fdca26\"], [1.0, \"#f0f921\"]], \"type\": \"histogram2d\"}], \"histogram2dcontour\": [{\"colorbar\": {\"outlinewidth\": 0, \"ticks\": \"\"}, \"colorscale\": [[0.0, \"#0d0887\"], [0.1111111111111111, \"#46039f\"], [0.2222222222222222, \"#7201a8\"], [0.3333333333333333, \"#9c179e\"], [0.4444444444444444, \"#bd3786\"], [0.5555555555555556, \"#d8576b\"], [0.6666666666666666, \"#ed7953\"], [0.7777777777777778, \"#fb9f3a\"], [0.8888888888888888, \"#fdca26\"], [1.0, \"#f0f921\"]], \"type\": \"histogram2dcontour\"}], \"mesh3d\": [{\"colorbar\": {\"outlinewidth\": 0, \"ticks\": \"\"}, \"type\": \"mesh3d\"}], \"parcoords\": [{\"line\": {\"colorbar\": {\"outlinewidth\": 0, \"ticks\": \"\"}}, \"type\": \"parcoords\"}], \"pie\": [{\"automargin\": true, \"type\": \"pie\"}], \"scatter\": [{\"marker\": {\"colorbar\": {\"outlinewidth\": 0, \"ticks\": \"\"}}, \"type\": \"scatter\"}], \"scatter3d\": [{\"line\": {\"colorbar\": {\"outlinewidth\": 0, \"ticks\": \"\"}}, \"marker\": {\"colorbar\": {\"outlinewidth\": 0, \"ticks\": \"\"}}, \"type\": \"scatter3d\"}], \"scattercarpet\": [{\"marker\": {\"colorbar\": {\"outlinewidth\": 0, \"ticks\": \"\"}}, \"type\": \"scattercarpet\"}], \"scattergeo\": [{\"marker\": {\"colorbar\": {\"outlinewidth\": 0, \"ticks\": \"\"}}, \"type\": \"scattergeo\"}], \"scattergl\": [{\"marker\": {\"colorbar\": {\"outlinewidth\": 0, \"ticks\": \"\"}}, \"type\": \"scattergl\"}], \"scattermapbox\": [{\"marker\": {\"colorbar\": {\"outlinewidth\": 0, \"ticks\": \"\"}}, \"type\": \"scattermapbox\"}], \"scatterpolar\": [{\"marker\": {\"colorbar\": {\"outlinewidth\": 0, \"ticks\": \"\"}}, \"type\": \"scatterpolar\"}], \"scatterpolargl\": [{\"marker\": {\"colorbar\": {\"outlinewidth\": 0, \"ticks\": \"\"}}, \"type\": \"scatterpolargl\"}], \"scatterternary\": [{\"marker\": {\"colorbar\": {\"outlinewidth\": 0, \"ticks\": \"\"}}, \"type\": \"scatterternary\"}], \"surface\": [{\"colorbar\": {\"outlinewidth\": 0, \"ticks\": \"\"}, \"colorscale\": [[0.0, \"#0d0887\"], [0.1111111111111111, \"#46039f\"], [0.2222222222222222, \"#7201a8\"], [0.3333333333333333, \"#9c179e\"], [0.4444444444444444, \"#bd3786\"], [0.5555555555555556, \"#d8576b\"], [0.6666666666666666, \"#ed7953\"], [0.7777777777777778, \"#fb9f3a\"], [0.8888888888888888, \"#fdca26\"], [1.0, \"#f0f921\"]], \"type\": \"surface\"}], \"table\": [{\"cells\": {\"fill\": {\"color\": \"#EBF0F8\"}, \"line\": {\"color\": \"white\"}}, \"header\": {\"fill\": {\"color\": \"#C8D4E3\"}, \"line\": {\"color\": \"white\"}}, \"type\": \"table\"}]}, \"layout\": {\"annotationdefaults\": {\"arrowcolor\": \"#2a3f5f\", \"arrowhead\": 0, \"arrowwidth\": 1}, \"coloraxis\": {\"colorbar\": {\"outlinewidth\": 0, \"ticks\": \"\"}}, \"colorscale\": {\"diverging\": [[0, \"#8e0152\"], [0.1, \"#c51b7d\"], [0.2, \"#de77ae\"], [0.3, \"#f1b6da\"], [0.4, \"#fde0ef\"], [0.5, \"#f7f7f7\"], [0.6, \"#e6f5d0\"], [0.7, \"#b8e186\"], [0.8, \"#7fbc41\"], [0.9, \"#4d9221\"], [1, \"#276419\"]], \"sequential\": [[0.0, \"#0d0887\"], [0.1111111111111111, \"#46039f\"], [0.2222222222222222, \"#7201a8\"], [0.3333333333333333, \"#9c179e\"], [0.4444444444444444, \"#bd3786\"], [0.5555555555555556, \"#d8576b\"], [0.6666666666666666, \"#ed7953\"], [0.7777777777777778, \"#fb9f3a\"], [0.8888888888888888, \"#fdca26\"], [1.0, \"#f0f921\"]], \"sequentialminus\": [[0.0, \"#0d0887\"], [0.1111111111111111, \"#46039f\"], [0.2222222222222222, \"#7201a8\"], [0.3333333333333333, \"#9c179e\"], [0.4444444444444444, \"#bd3786\"], [0.5555555555555556, \"#d8576b\"], [0.6666666666666666, \"#ed7953\"], [0.7777777777777778, \"#fb9f3a\"], [0.8888888888888888, \"#fdca26\"], [1.0, \"#f0f921\"]]}, \"colorway\": [\"#636efa\", \"#EF553B\", \"#00cc96\", \"#ab63fa\", \"#FFA15A\", \"#19d3f3\", \"#FF6692\", \"#B6E880\", \"#FF97FF\", \"#FECB52\"], \"font\": {\"color\": \"#2a3f5f\"}, \"geo\": {\"bgcolor\": \"white\", \"lakecolor\": \"white\", \"landcolor\": \"#E5ECF6\", \"showlakes\": true, \"showland\": true, \"subunitcolor\": \"white\"}, \"hoverlabel\": {\"align\": \"left\"}, \"hovermode\": \"closest\", \"mapbox\": {\"style\": \"light\"}, \"paper_bgcolor\": \"white\", \"plot_bgcolor\": \"#E5ECF6\", \"polar\": {\"angularaxis\": {\"gridcolor\": \"white\", \"linecolor\": \"white\", \"ticks\": \"\"}, \"bgcolor\": \"#E5ECF6\", \"radialaxis\": {\"gridcolor\": \"white\", \"linecolor\": \"white\", \"ticks\": \"\"}}, \"scene\": {\"xaxis\": {\"backgroundcolor\": \"#E5ECF6\", \"gridcolor\": \"white\", \"gridwidth\": 2, \"linecolor\": \"white\", \"showbackground\": true, \"ticks\": \"\", \"zerolinecolor\": \"white\"}, \"yaxis\": {\"backgroundcolor\": \"#E5ECF6\", \"gridcolor\": \"white\", \"gridwidth\": 2, \"linecolor\": \"white\", \"showbackground\": true, \"ticks\": \"\", \"zerolinecolor\": \"white\"}, \"zaxis\": {\"backgroundcolor\": \"#E5ECF6\", \"gridcolor\": \"white\", \"gridwidth\": 2, \"linecolor\": \"white\", \"showbackground\": true, \"ticks\": \"\", \"zerolinecolor\": \"white\"}}, \"shapedefaults\": {\"line\": {\"color\": \"#2a3f5f\"}}, \"ternary\": {\"aaxis\": {\"gridcolor\": \"white\", \"linecolor\": \"white\", \"ticks\": \"\"}, \"baxis\": {\"gridcolor\": \"white\", \"linecolor\": \"white\", \"ticks\": \"\"}, \"bgcolor\": \"#E5ECF6\", \"caxis\": {\"gridcolor\": \"white\", \"linecolor\": \"white\", \"ticks\": \"\"}}, \"title\": {\"x\": 0.05}, \"xaxis\": {\"automargin\": true, \"gridcolor\": \"white\", \"linecolor\": \"white\", \"ticks\": \"\", \"title\": {\"standoff\": 15}, \"zerolinecolor\": \"white\", \"zerolinewidth\": 2}, \"yaxis\": {\"automargin\": true, \"gridcolor\": \"white\", \"linecolor\": \"white\", \"ticks\": \"\", \"title\": {\"standoff\": 15}, \"zerolinecolor\": \"white\", \"zerolinewidth\": 2}}}, \"title\": {\"text\": \"Number of Movies per Content Rating\"}, \"xaxis\": {\"anchor\": \"y\", \"domain\": [0.0, 1.0], \"title\": {\"text\": \"Content Rating\"}}, \"yaxis\": {\"anchor\": \"x\", \"domain\": [0.0, 1.0], \"title\": {\"text\": \"# of Movies\"}}},                        {\"responsive\": true}                    ).then(function(){\n",
       "                            \n",
       "var gd = document.getElementById('35c07cd1-bb79-414b-982f-58f8c32a9921');\n",
       "var x = new MutationObserver(function (mutations, observer) {{\n",
       "        var display = window.getComputedStyle(gd).display;\n",
       "        if (!display || display === 'none') {{\n",
       "            console.log([gd, 'removed!']);\n",
       "            Plotly.purge(gd);\n",
       "            observer.disconnect();\n",
       "        }}\n",
       "}});\n",
       "\n",
       "// Listen for the removal of the full notebook cells\n",
       "var notebookContainer = gd.closest('#notebook-container');\n",
       "if (notebookContainer) {{\n",
       "    x.observe(notebookContainer, {childList: true});\n",
       "}}\n",
       "\n",
       "// Listen for the clearing of the current output cell\n",
       "var outputEl = gd.closest('.output');\n",
       "if (outputEl) {{\n",
       "    x.observe(outputEl, {childList: true});\n",
       "}}\n",
       "\n",
       "                        })                };                });            </script>        </div>"
      ]
     },
     "metadata": {},
     "output_type": "display_data"
    }
   ],
   "source": [
    "# Answer:\n",
    "fig3 = px.bar(movies['content_rating'].value_counts(), title=\"Number of Movies per Content Rating\",  labels={'index': 'Content Rating', 'value':'# of Movies'})\n",
    "fig3.update_layout(showlegend=False)\n",
    "fig3.update_traces(marker_color='green')\n",
    "fig3.show()\n",
    "\n"
   ]
  },
  {
   "cell_type": "markdown",
   "metadata": {},
   "source": [
    "#### Convert the following content ratings to \"UNRATED\": NOT RATED, APPROVED, PASSED, GP."
   ]
  },
  {
   "cell_type": "code",
   "execution_count": 284,
   "metadata": {},
   "outputs": [],
   "source": [
    "# Answer:\n",
    "movies['content_rating'] = np.where((movies.content_rating == 'NOT RATED') | (movies.content_rating == 'APPROVED') |\n",
    "                                    (movies.content_rating == 'PASSED') | (movies.content_rating == 'GP'), 'UNRATED', \n",
    "                                    movies['content_rating'])\n"
   ]
  },
  {
   "cell_type": "code",
   "execution_count": 149,
   "metadata": {},
   "outputs": [
    {
     "data": {
      "text/plain": [
       "R          460\n",
       "PG-13      189\n",
       "UNRATED    160\n",
       "PG         123\n",
       "G           32\n",
       "NC-17        7\n",
       "X            4\n",
       "TV-MA        1\n",
       "Name: content_rating, dtype: int64"
      ]
     },
     "execution_count": 149,
     "metadata": {},
     "output_type": "execute_result"
    }
   ],
   "source": [
    "content_ratings_converted = movies['content_rating'].value_counts()\n",
    "content_ratings_converted"
   ]
  },
  {
   "cell_type": "markdown",
   "metadata": {},
   "source": [
    "#### Convert the following content ratings to \"NC-17\": X, TV-MA."
   ]
  },
  {
   "cell_type": "code",
   "execution_count": 285,
   "metadata": {},
   "outputs": [],
   "source": [
    "# Answer:\n",
    "movies['content_rating'] = np.where((movies.content_rating == 'X') | (movies.content_rating == 'TV-MA'), 'NC-17', \n",
    "                                    movies['content_rating'])"
   ]
  },
  {
   "cell_type": "code",
   "execution_count": 151,
   "metadata": {},
   "outputs": [
    {
     "data": {
      "text/plain": [
       "R          460\n",
       "PG-13      189\n",
       "UNRATED    160\n",
       "PG         123\n",
       "G           32\n",
       "NC-17       12\n",
       "Name: content_rating, dtype: int64"
      ]
     },
     "execution_count": 151,
     "metadata": {},
     "output_type": "execute_result"
    }
   ],
   "source": [
    "content_ratings_converted = movies['content_rating'].value_counts()\n",
    "content_ratings_converted"
   ]
  },
  {
   "cell_type": "markdown",
   "metadata": {},
   "source": [
    "#### Count the number of missing values in each column."
   ]
  },
  {
   "cell_type": "code",
   "execution_count": 179,
   "metadata": {},
   "outputs": [
    {
     "data": {
      "text/html": [
       "<div>\n",
       "<style scoped>\n",
       "    .dataframe tbody tr th:only-of-type {\n",
       "        vertical-align: middle;\n",
       "    }\n",
       "\n",
       "    .dataframe tbody tr th {\n",
       "        vertical-align: top;\n",
       "    }\n",
       "\n",
       "    .dataframe thead th {\n",
       "        text-align: right;\n",
       "    }\n",
       "</style>\n",
       "<table border=\"1\" class=\"dataframe\">\n",
       "  <thead>\n",
       "    <tr style=\"text-align: right;\">\n",
       "      <th></th>\n",
       "      <th>star_rating</th>\n",
       "      <th>title</th>\n",
       "      <th>content_rating</th>\n",
       "      <th>genre</th>\n",
       "      <th>duration</th>\n",
       "      <th>actors_list</th>\n",
       "    </tr>\n",
       "  </thead>\n",
       "  <tbody>\n",
       "    <tr>\n",
       "      <th>187</th>\n",
       "      <td>8.2</td>\n",
       "      <td>Butch Cassidy and the Sundance Kid</td>\n",
       "      <td>NaN</td>\n",
       "      <td>Biography</td>\n",
       "      <td>110</td>\n",
       "      <td>[u'Paul Newman', u'Robert Redford', u'Katharin...</td>\n",
       "    </tr>\n",
       "    <tr>\n",
       "      <th>649</th>\n",
       "      <td>7.7</td>\n",
       "      <td>Where Eagles Dare</td>\n",
       "      <td>NaN</td>\n",
       "      <td>Action</td>\n",
       "      <td>158</td>\n",
       "      <td>[u'Richard Burton', u'Clint Eastwood', u'Mary ...</td>\n",
       "    </tr>\n",
       "    <tr>\n",
       "      <th>936</th>\n",
       "      <td>7.4</td>\n",
       "      <td>True Grit</td>\n",
       "      <td>NaN</td>\n",
       "      <td>Adventure</td>\n",
       "      <td>128</td>\n",
       "      <td>[u'John Wayne', u'Kim Darby', u'Glen Campbell']</td>\n",
       "    </tr>\n",
       "  </tbody>\n",
       "</table>\n",
       "</div>"
      ],
      "text/plain": [
       "     star_rating                               title content_rating  \\\n",
       "187          8.2  Butch Cassidy and the Sundance Kid            NaN   \n",
       "649          7.7                   Where Eagles Dare            NaN   \n",
       "936          7.4                           True Grit            NaN   \n",
       "\n",
       "         genre  duration                                        actors_list  \n",
       "187  Biography       110  [u'Paul Newman', u'Robert Redford', u'Katharin...  \n",
       "649     Action       158  [u'Richard Burton', u'Clint Eastwood', u'Mary ...  \n",
       "936  Adventure       128    [u'John Wayne', u'Kim Darby', u'Glen Campbell']  "
      ]
     },
     "execution_count": 179,
     "metadata": {},
     "output_type": "execute_result"
    }
   ],
   "source": [
    "# Answer:\n",
    "movies[movies.isnull().any(axis=1)]"
   ]
  },
  {
   "cell_type": "markdown",
   "metadata": {},
   "source": [
    "#### If there are missing values: examine them, then fill them in with \"reasonable\" values."
   ]
  },
  {
   "cell_type": "markdown",
   "metadata": {},
   "source": [
    "The only values I'm missing are in the Content Rating column. Similar to an exercise above, I will convert those missing values to 'UNRATED', bringing the unrated total to 163:"
   ]
  },
  {
   "cell_type": "code",
   "execution_count": 424,
   "metadata": {},
   "outputs": [
    {
     "data": {
      "text/plain": [
       "R          460\n",
       "PG-13      189\n",
       "UNRATED    163\n",
       "PG         123\n",
       "G           32\n",
       "NC-17       12\n",
       "Name: content_rating, dtype: int64"
      ]
     },
     "execution_count": 424,
     "metadata": {},
     "output_type": "execute_result"
    }
   ],
   "source": [
    "# Answer:\n",
    "movies.fillna(value='UNRATED', inplace=True)\n",
    "content_ratings_converted = movies['content_rating'].value_counts()\n",
    "content_ratings_converted"
   ]
  },
  {
   "cell_type": "markdown",
   "metadata": {},
   "source": [
    "Updated bar chart with condensed content rating categories:"
   ]
  },
  {
   "cell_type": "code",
   "execution_count": 286,
   "metadata": {},
   "outputs": [
    {
     "data": {
      "application/vnd.plotly.v1+json": {
       "config": {
        "plotlyServerURL": "https://plot.ly"
       },
       "data": [
        {
         "alignmentgroup": "True",
         "hovertemplate": "variable=content_rating<br>Content Rating=%{x}<br># of Movies=%{y}<extra></extra>",
         "legendgroup": "content_rating",
         "marker": {
          "color": "green"
         },
         "name": "content_rating",
         "offsetgroup": "content_rating",
         "orientation": "v",
         "showlegend": true,
         "textposition": "auto",
         "type": "bar",
         "x": [
          "R",
          "PG-13",
          "UNRATED",
          "PG",
          "G",
          "NC-17"
         ],
         "xaxis": "x",
         "y": [
          460,
          189,
          160,
          123,
          32,
          12
         ],
         "yaxis": "y"
        }
       ],
       "layout": {
        "barmode": "relative",
        "legend": {
         "title": {
          "text": "variable"
         },
         "tracegroupgap": 0
        },
        "showlegend": false,
        "template": {
         "data": {
          "bar": [
           {
            "error_x": {
             "color": "#2a3f5f"
            },
            "error_y": {
             "color": "#2a3f5f"
            },
            "marker": {
             "line": {
              "color": "#E5ECF6",
              "width": 0.5
             }
            },
            "type": "bar"
           }
          ],
          "barpolar": [
           {
            "marker": {
             "line": {
              "color": "#E5ECF6",
              "width": 0.5
             }
            },
            "type": "barpolar"
           }
          ],
          "carpet": [
           {
            "aaxis": {
             "endlinecolor": "#2a3f5f",
             "gridcolor": "white",
             "linecolor": "white",
             "minorgridcolor": "white",
             "startlinecolor": "#2a3f5f"
            },
            "baxis": {
             "endlinecolor": "#2a3f5f",
             "gridcolor": "white",
             "linecolor": "white",
             "minorgridcolor": "white",
             "startlinecolor": "#2a3f5f"
            },
            "type": "carpet"
           }
          ],
          "choropleth": [
           {
            "colorbar": {
             "outlinewidth": 0,
             "ticks": ""
            },
            "type": "choropleth"
           }
          ],
          "contour": [
           {
            "colorbar": {
             "outlinewidth": 0,
             "ticks": ""
            },
            "colorscale": [
             [
              0,
              "#0d0887"
             ],
             [
              0.1111111111111111,
              "#46039f"
             ],
             [
              0.2222222222222222,
              "#7201a8"
             ],
             [
              0.3333333333333333,
              "#9c179e"
             ],
             [
              0.4444444444444444,
              "#bd3786"
             ],
             [
              0.5555555555555556,
              "#d8576b"
             ],
             [
              0.6666666666666666,
              "#ed7953"
             ],
             [
              0.7777777777777778,
              "#fb9f3a"
             ],
             [
              0.8888888888888888,
              "#fdca26"
             ],
             [
              1,
              "#f0f921"
             ]
            ],
            "type": "contour"
           }
          ],
          "contourcarpet": [
           {
            "colorbar": {
             "outlinewidth": 0,
             "ticks": ""
            },
            "type": "contourcarpet"
           }
          ],
          "heatmap": [
           {
            "colorbar": {
             "outlinewidth": 0,
             "ticks": ""
            },
            "colorscale": [
             [
              0,
              "#0d0887"
             ],
             [
              0.1111111111111111,
              "#46039f"
             ],
             [
              0.2222222222222222,
              "#7201a8"
             ],
             [
              0.3333333333333333,
              "#9c179e"
             ],
             [
              0.4444444444444444,
              "#bd3786"
             ],
             [
              0.5555555555555556,
              "#d8576b"
             ],
             [
              0.6666666666666666,
              "#ed7953"
             ],
             [
              0.7777777777777778,
              "#fb9f3a"
             ],
             [
              0.8888888888888888,
              "#fdca26"
             ],
             [
              1,
              "#f0f921"
             ]
            ],
            "type": "heatmap"
           }
          ],
          "heatmapgl": [
           {
            "colorbar": {
             "outlinewidth": 0,
             "ticks": ""
            },
            "colorscale": [
             [
              0,
              "#0d0887"
             ],
             [
              0.1111111111111111,
              "#46039f"
             ],
             [
              0.2222222222222222,
              "#7201a8"
             ],
             [
              0.3333333333333333,
              "#9c179e"
             ],
             [
              0.4444444444444444,
              "#bd3786"
             ],
             [
              0.5555555555555556,
              "#d8576b"
             ],
             [
              0.6666666666666666,
              "#ed7953"
             ],
             [
              0.7777777777777778,
              "#fb9f3a"
             ],
             [
              0.8888888888888888,
              "#fdca26"
             ],
             [
              1,
              "#f0f921"
             ]
            ],
            "type": "heatmapgl"
           }
          ],
          "histogram": [
           {
            "marker": {
             "colorbar": {
              "outlinewidth": 0,
              "ticks": ""
             }
            },
            "type": "histogram"
           }
          ],
          "histogram2d": [
           {
            "colorbar": {
             "outlinewidth": 0,
             "ticks": ""
            },
            "colorscale": [
             [
              0,
              "#0d0887"
             ],
             [
              0.1111111111111111,
              "#46039f"
             ],
             [
              0.2222222222222222,
              "#7201a8"
             ],
             [
              0.3333333333333333,
              "#9c179e"
             ],
             [
              0.4444444444444444,
              "#bd3786"
             ],
             [
              0.5555555555555556,
              "#d8576b"
             ],
             [
              0.6666666666666666,
              "#ed7953"
             ],
             [
              0.7777777777777778,
              "#fb9f3a"
             ],
             [
              0.8888888888888888,
              "#fdca26"
             ],
             [
              1,
              "#f0f921"
             ]
            ],
            "type": "histogram2d"
           }
          ],
          "histogram2dcontour": [
           {
            "colorbar": {
             "outlinewidth": 0,
             "ticks": ""
            },
            "colorscale": [
             [
              0,
              "#0d0887"
             ],
             [
              0.1111111111111111,
              "#46039f"
             ],
             [
              0.2222222222222222,
              "#7201a8"
             ],
             [
              0.3333333333333333,
              "#9c179e"
             ],
             [
              0.4444444444444444,
              "#bd3786"
             ],
             [
              0.5555555555555556,
              "#d8576b"
             ],
             [
              0.6666666666666666,
              "#ed7953"
             ],
             [
              0.7777777777777778,
              "#fb9f3a"
             ],
             [
              0.8888888888888888,
              "#fdca26"
             ],
             [
              1,
              "#f0f921"
             ]
            ],
            "type": "histogram2dcontour"
           }
          ],
          "mesh3d": [
           {
            "colorbar": {
             "outlinewidth": 0,
             "ticks": ""
            },
            "type": "mesh3d"
           }
          ],
          "parcoords": [
           {
            "line": {
             "colorbar": {
              "outlinewidth": 0,
              "ticks": ""
             }
            },
            "type": "parcoords"
           }
          ],
          "pie": [
           {
            "automargin": true,
            "type": "pie"
           }
          ],
          "scatter": [
           {
            "marker": {
             "colorbar": {
              "outlinewidth": 0,
              "ticks": ""
             }
            },
            "type": "scatter"
           }
          ],
          "scatter3d": [
           {
            "line": {
             "colorbar": {
              "outlinewidth": 0,
              "ticks": ""
             }
            },
            "marker": {
             "colorbar": {
              "outlinewidth": 0,
              "ticks": ""
             }
            },
            "type": "scatter3d"
           }
          ],
          "scattercarpet": [
           {
            "marker": {
             "colorbar": {
              "outlinewidth": 0,
              "ticks": ""
             }
            },
            "type": "scattercarpet"
           }
          ],
          "scattergeo": [
           {
            "marker": {
             "colorbar": {
              "outlinewidth": 0,
              "ticks": ""
             }
            },
            "type": "scattergeo"
           }
          ],
          "scattergl": [
           {
            "marker": {
             "colorbar": {
              "outlinewidth": 0,
              "ticks": ""
             }
            },
            "type": "scattergl"
           }
          ],
          "scattermapbox": [
           {
            "marker": {
             "colorbar": {
              "outlinewidth": 0,
              "ticks": ""
             }
            },
            "type": "scattermapbox"
           }
          ],
          "scatterpolar": [
           {
            "marker": {
             "colorbar": {
              "outlinewidth": 0,
              "ticks": ""
             }
            },
            "type": "scatterpolar"
           }
          ],
          "scatterpolargl": [
           {
            "marker": {
             "colorbar": {
              "outlinewidth": 0,
              "ticks": ""
             }
            },
            "type": "scatterpolargl"
           }
          ],
          "scatterternary": [
           {
            "marker": {
             "colorbar": {
              "outlinewidth": 0,
              "ticks": ""
             }
            },
            "type": "scatterternary"
           }
          ],
          "surface": [
           {
            "colorbar": {
             "outlinewidth": 0,
             "ticks": ""
            },
            "colorscale": [
             [
              0,
              "#0d0887"
             ],
             [
              0.1111111111111111,
              "#46039f"
             ],
             [
              0.2222222222222222,
              "#7201a8"
             ],
             [
              0.3333333333333333,
              "#9c179e"
             ],
             [
              0.4444444444444444,
              "#bd3786"
             ],
             [
              0.5555555555555556,
              "#d8576b"
             ],
             [
              0.6666666666666666,
              "#ed7953"
             ],
             [
              0.7777777777777778,
              "#fb9f3a"
             ],
             [
              0.8888888888888888,
              "#fdca26"
             ],
             [
              1,
              "#f0f921"
             ]
            ],
            "type": "surface"
           }
          ],
          "table": [
           {
            "cells": {
             "fill": {
              "color": "#EBF0F8"
             },
             "line": {
              "color": "white"
             }
            },
            "header": {
             "fill": {
              "color": "#C8D4E3"
             },
             "line": {
              "color": "white"
             }
            },
            "type": "table"
           }
          ]
         },
         "layout": {
          "annotationdefaults": {
           "arrowcolor": "#2a3f5f",
           "arrowhead": 0,
           "arrowwidth": 1
          },
          "coloraxis": {
           "colorbar": {
            "outlinewidth": 0,
            "ticks": ""
           }
          },
          "colorscale": {
           "diverging": [
            [
             0,
             "#8e0152"
            ],
            [
             0.1,
             "#c51b7d"
            ],
            [
             0.2,
             "#de77ae"
            ],
            [
             0.3,
             "#f1b6da"
            ],
            [
             0.4,
             "#fde0ef"
            ],
            [
             0.5,
             "#f7f7f7"
            ],
            [
             0.6,
             "#e6f5d0"
            ],
            [
             0.7,
             "#b8e186"
            ],
            [
             0.8,
             "#7fbc41"
            ],
            [
             0.9,
             "#4d9221"
            ],
            [
             1,
             "#276419"
            ]
           ],
           "sequential": [
            [
             0,
             "#0d0887"
            ],
            [
             0.1111111111111111,
             "#46039f"
            ],
            [
             0.2222222222222222,
             "#7201a8"
            ],
            [
             0.3333333333333333,
             "#9c179e"
            ],
            [
             0.4444444444444444,
             "#bd3786"
            ],
            [
             0.5555555555555556,
             "#d8576b"
            ],
            [
             0.6666666666666666,
             "#ed7953"
            ],
            [
             0.7777777777777778,
             "#fb9f3a"
            ],
            [
             0.8888888888888888,
             "#fdca26"
            ],
            [
             1,
             "#f0f921"
            ]
           ],
           "sequentialminus": [
            [
             0,
             "#0d0887"
            ],
            [
             0.1111111111111111,
             "#46039f"
            ],
            [
             0.2222222222222222,
             "#7201a8"
            ],
            [
             0.3333333333333333,
             "#9c179e"
            ],
            [
             0.4444444444444444,
             "#bd3786"
            ],
            [
             0.5555555555555556,
             "#d8576b"
            ],
            [
             0.6666666666666666,
             "#ed7953"
            ],
            [
             0.7777777777777778,
             "#fb9f3a"
            ],
            [
             0.8888888888888888,
             "#fdca26"
            ],
            [
             1,
             "#f0f921"
            ]
           ]
          },
          "colorway": [
           "#636efa",
           "#EF553B",
           "#00cc96",
           "#ab63fa",
           "#FFA15A",
           "#19d3f3",
           "#FF6692",
           "#B6E880",
           "#FF97FF",
           "#FECB52"
          ],
          "font": {
           "color": "#2a3f5f"
          },
          "geo": {
           "bgcolor": "white",
           "lakecolor": "white",
           "landcolor": "#E5ECF6",
           "showlakes": true,
           "showland": true,
           "subunitcolor": "white"
          },
          "hoverlabel": {
           "align": "left"
          },
          "hovermode": "closest",
          "mapbox": {
           "style": "light"
          },
          "paper_bgcolor": "white",
          "plot_bgcolor": "#E5ECF6",
          "polar": {
           "angularaxis": {
            "gridcolor": "white",
            "linecolor": "white",
            "ticks": ""
           },
           "bgcolor": "#E5ECF6",
           "radialaxis": {
            "gridcolor": "white",
            "linecolor": "white",
            "ticks": ""
           }
          },
          "scene": {
           "xaxis": {
            "backgroundcolor": "#E5ECF6",
            "gridcolor": "white",
            "gridwidth": 2,
            "linecolor": "white",
            "showbackground": true,
            "ticks": "",
            "zerolinecolor": "white"
           },
           "yaxis": {
            "backgroundcolor": "#E5ECF6",
            "gridcolor": "white",
            "gridwidth": 2,
            "linecolor": "white",
            "showbackground": true,
            "ticks": "",
            "zerolinecolor": "white"
           },
           "zaxis": {
            "backgroundcolor": "#E5ECF6",
            "gridcolor": "white",
            "gridwidth": 2,
            "linecolor": "white",
            "showbackground": true,
            "ticks": "",
            "zerolinecolor": "white"
           }
          },
          "shapedefaults": {
           "line": {
            "color": "#2a3f5f"
           }
          },
          "ternary": {
           "aaxis": {
            "gridcolor": "white",
            "linecolor": "white",
            "ticks": ""
           },
           "baxis": {
            "gridcolor": "white",
            "linecolor": "white",
            "ticks": ""
           },
           "bgcolor": "#E5ECF6",
           "caxis": {
            "gridcolor": "white",
            "linecolor": "white",
            "ticks": ""
           }
          },
          "title": {
           "x": 0.05
          },
          "xaxis": {
           "automargin": true,
           "gridcolor": "white",
           "linecolor": "white",
           "ticks": "",
           "title": {
            "standoff": 15
           },
           "zerolinecolor": "white",
           "zerolinewidth": 2
          },
          "yaxis": {
           "automargin": true,
           "gridcolor": "white",
           "linecolor": "white",
           "ticks": "",
           "title": {
            "standoff": 15
           },
           "zerolinecolor": "white",
           "zerolinewidth": 2
          }
         }
        },
        "title": {
         "text": "Number of Movies per Content Rating"
        },
        "xaxis": {
         "anchor": "y",
         "domain": [
          0,
          1
         ],
         "title": {
          "text": "Content Rating"
         }
        },
        "yaxis": {
         "anchor": "x",
         "domain": [
          0,
          1
         ],
         "title": {
          "text": "# of Movies"
         }
        }
       }
      },
      "text/html": [
       "<div>                            <div id=\"d7b0c1d7-509d-423b-8fcf-06464bf6bfb8\" class=\"plotly-graph-div\" style=\"height:525px; width:100%;\"></div>            <script type=\"text/javascript\">                require([\"plotly\"], function(Plotly) {                    window.PLOTLYENV=window.PLOTLYENV || {};                                    if (document.getElementById(\"d7b0c1d7-509d-423b-8fcf-06464bf6bfb8\")) {                    Plotly.newPlot(                        \"d7b0c1d7-509d-423b-8fcf-06464bf6bfb8\",                        [{\"alignmentgroup\": \"True\", \"hovertemplate\": \"variable=content_rating<br>Content Rating=%{x}<br># of Movies=%{y}<extra></extra>\", \"legendgroup\": \"content_rating\", \"marker\": {\"color\": \"green\"}, \"name\": \"content_rating\", \"offsetgroup\": \"content_rating\", \"orientation\": \"v\", \"showlegend\": true, \"textposition\": \"auto\", \"type\": \"bar\", \"x\": [\"R\", \"PG-13\", \"UNRATED\", \"PG\", \"G\", \"NC-17\"], \"xaxis\": \"x\", \"y\": [460, 189, 160, 123, 32, 12], \"yaxis\": \"y\"}],                        {\"barmode\": \"relative\", \"legend\": {\"title\": {\"text\": \"variable\"}, \"tracegroupgap\": 0}, \"showlegend\": false, \"template\": {\"data\": {\"bar\": [{\"error_x\": {\"color\": \"#2a3f5f\"}, \"error_y\": {\"color\": \"#2a3f5f\"}, \"marker\": {\"line\": {\"color\": \"#E5ECF6\", \"width\": 0.5}}, \"type\": \"bar\"}], \"barpolar\": [{\"marker\": {\"line\": {\"color\": \"#E5ECF6\", \"width\": 0.5}}, \"type\": \"barpolar\"}], \"carpet\": [{\"aaxis\": {\"endlinecolor\": \"#2a3f5f\", \"gridcolor\": \"white\", \"linecolor\": \"white\", \"minorgridcolor\": \"white\", \"startlinecolor\": \"#2a3f5f\"}, \"baxis\": {\"endlinecolor\": \"#2a3f5f\", \"gridcolor\": \"white\", \"linecolor\": \"white\", \"minorgridcolor\": \"white\", \"startlinecolor\": \"#2a3f5f\"}, \"type\": \"carpet\"}], \"choropleth\": [{\"colorbar\": {\"outlinewidth\": 0, \"ticks\": \"\"}, \"type\": \"choropleth\"}], \"contour\": [{\"colorbar\": {\"outlinewidth\": 0, \"ticks\": \"\"}, \"colorscale\": [[0.0, \"#0d0887\"], [0.1111111111111111, \"#46039f\"], [0.2222222222222222, \"#7201a8\"], [0.3333333333333333, \"#9c179e\"], [0.4444444444444444, \"#bd3786\"], [0.5555555555555556, \"#d8576b\"], [0.6666666666666666, \"#ed7953\"], [0.7777777777777778, \"#fb9f3a\"], [0.8888888888888888, \"#fdca26\"], [1.0, \"#f0f921\"]], \"type\": \"contour\"}], \"contourcarpet\": [{\"colorbar\": {\"outlinewidth\": 0, \"ticks\": \"\"}, \"type\": \"contourcarpet\"}], \"heatmap\": [{\"colorbar\": {\"outlinewidth\": 0, \"ticks\": \"\"}, \"colorscale\": [[0.0, \"#0d0887\"], [0.1111111111111111, \"#46039f\"], [0.2222222222222222, \"#7201a8\"], [0.3333333333333333, \"#9c179e\"], [0.4444444444444444, \"#bd3786\"], [0.5555555555555556, \"#d8576b\"], [0.6666666666666666, \"#ed7953\"], [0.7777777777777778, \"#fb9f3a\"], [0.8888888888888888, \"#fdca26\"], [1.0, \"#f0f921\"]], \"type\": \"heatmap\"}], \"heatmapgl\": [{\"colorbar\": {\"outlinewidth\": 0, \"ticks\": \"\"}, \"colorscale\": [[0.0, \"#0d0887\"], [0.1111111111111111, \"#46039f\"], [0.2222222222222222, \"#7201a8\"], [0.3333333333333333, \"#9c179e\"], [0.4444444444444444, \"#bd3786\"], [0.5555555555555556, \"#d8576b\"], [0.6666666666666666, \"#ed7953\"], [0.7777777777777778, \"#fb9f3a\"], [0.8888888888888888, \"#fdca26\"], [1.0, \"#f0f921\"]], \"type\": \"heatmapgl\"}], \"histogram\": [{\"marker\": {\"colorbar\": {\"outlinewidth\": 0, \"ticks\": \"\"}}, \"type\": \"histogram\"}], \"histogram2d\": [{\"colorbar\": {\"outlinewidth\": 0, \"ticks\": \"\"}, \"colorscale\": [[0.0, \"#0d0887\"], [0.1111111111111111, \"#46039f\"], [0.2222222222222222, \"#7201a8\"], [0.3333333333333333, \"#9c179e\"], [0.4444444444444444, \"#bd3786\"], [0.5555555555555556, \"#d8576b\"], [0.6666666666666666, \"#ed7953\"], [0.7777777777777778, \"#fb9f3a\"], [0.8888888888888888, \"#fdca26\"], [1.0, \"#f0f921\"]], \"type\": \"histogram2d\"}], \"histogram2dcontour\": [{\"colorbar\": {\"outlinewidth\": 0, \"ticks\": \"\"}, \"colorscale\": [[0.0, \"#0d0887\"], [0.1111111111111111, \"#46039f\"], [0.2222222222222222, \"#7201a8\"], [0.3333333333333333, \"#9c179e\"], [0.4444444444444444, \"#bd3786\"], [0.5555555555555556, \"#d8576b\"], [0.6666666666666666, \"#ed7953\"], [0.7777777777777778, \"#fb9f3a\"], [0.8888888888888888, \"#fdca26\"], [1.0, \"#f0f921\"]], \"type\": \"histogram2dcontour\"}], \"mesh3d\": [{\"colorbar\": {\"outlinewidth\": 0, \"ticks\": \"\"}, \"type\": \"mesh3d\"}], \"parcoords\": [{\"line\": {\"colorbar\": {\"outlinewidth\": 0, \"ticks\": \"\"}}, \"type\": \"parcoords\"}], \"pie\": [{\"automargin\": true, \"type\": \"pie\"}], \"scatter\": [{\"marker\": {\"colorbar\": {\"outlinewidth\": 0, \"ticks\": \"\"}}, \"type\": \"scatter\"}], \"scatter3d\": [{\"line\": {\"colorbar\": {\"outlinewidth\": 0, \"ticks\": \"\"}}, \"marker\": {\"colorbar\": {\"outlinewidth\": 0, \"ticks\": \"\"}}, \"type\": \"scatter3d\"}], \"scattercarpet\": [{\"marker\": {\"colorbar\": {\"outlinewidth\": 0, \"ticks\": \"\"}}, \"type\": \"scattercarpet\"}], \"scattergeo\": [{\"marker\": {\"colorbar\": {\"outlinewidth\": 0, \"ticks\": \"\"}}, \"type\": \"scattergeo\"}], \"scattergl\": [{\"marker\": {\"colorbar\": {\"outlinewidth\": 0, \"ticks\": \"\"}}, \"type\": \"scattergl\"}], \"scattermapbox\": [{\"marker\": {\"colorbar\": {\"outlinewidth\": 0, \"ticks\": \"\"}}, \"type\": \"scattermapbox\"}], \"scatterpolar\": [{\"marker\": {\"colorbar\": {\"outlinewidth\": 0, \"ticks\": \"\"}}, \"type\": \"scatterpolar\"}], \"scatterpolargl\": [{\"marker\": {\"colorbar\": {\"outlinewidth\": 0, \"ticks\": \"\"}}, \"type\": \"scatterpolargl\"}], \"scatterternary\": [{\"marker\": {\"colorbar\": {\"outlinewidth\": 0, \"ticks\": \"\"}}, \"type\": \"scatterternary\"}], \"surface\": [{\"colorbar\": {\"outlinewidth\": 0, \"ticks\": \"\"}, \"colorscale\": [[0.0, \"#0d0887\"], [0.1111111111111111, \"#46039f\"], [0.2222222222222222, \"#7201a8\"], [0.3333333333333333, \"#9c179e\"], [0.4444444444444444, \"#bd3786\"], [0.5555555555555556, \"#d8576b\"], [0.6666666666666666, \"#ed7953\"], [0.7777777777777778, \"#fb9f3a\"], [0.8888888888888888, \"#fdca26\"], [1.0, \"#f0f921\"]], \"type\": \"surface\"}], \"table\": [{\"cells\": {\"fill\": {\"color\": \"#EBF0F8\"}, \"line\": {\"color\": \"white\"}}, \"header\": {\"fill\": {\"color\": \"#C8D4E3\"}, \"line\": {\"color\": \"white\"}}, \"type\": \"table\"}]}, \"layout\": {\"annotationdefaults\": {\"arrowcolor\": \"#2a3f5f\", \"arrowhead\": 0, \"arrowwidth\": 1}, \"coloraxis\": {\"colorbar\": {\"outlinewidth\": 0, \"ticks\": \"\"}}, \"colorscale\": {\"diverging\": [[0, \"#8e0152\"], [0.1, \"#c51b7d\"], [0.2, \"#de77ae\"], [0.3, \"#f1b6da\"], [0.4, \"#fde0ef\"], [0.5, \"#f7f7f7\"], [0.6, \"#e6f5d0\"], [0.7, \"#b8e186\"], [0.8, \"#7fbc41\"], [0.9, \"#4d9221\"], [1, \"#276419\"]], \"sequential\": [[0.0, \"#0d0887\"], [0.1111111111111111, \"#46039f\"], [0.2222222222222222, \"#7201a8\"], [0.3333333333333333, \"#9c179e\"], [0.4444444444444444, \"#bd3786\"], [0.5555555555555556, \"#d8576b\"], [0.6666666666666666, \"#ed7953\"], [0.7777777777777778, \"#fb9f3a\"], [0.8888888888888888, \"#fdca26\"], [1.0, \"#f0f921\"]], \"sequentialminus\": [[0.0, \"#0d0887\"], [0.1111111111111111, \"#46039f\"], [0.2222222222222222, \"#7201a8\"], [0.3333333333333333, \"#9c179e\"], [0.4444444444444444, \"#bd3786\"], [0.5555555555555556, \"#d8576b\"], [0.6666666666666666, \"#ed7953\"], [0.7777777777777778, \"#fb9f3a\"], [0.8888888888888888, \"#fdca26\"], [1.0, \"#f0f921\"]]}, \"colorway\": [\"#636efa\", \"#EF553B\", \"#00cc96\", \"#ab63fa\", \"#FFA15A\", \"#19d3f3\", \"#FF6692\", \"#B6E880\", \"#FF97FF\", \"#FECB52\"], \"font\": {\"color\": \"#2a3f5f\"}, \"geo\": {\"bgcolor\": \"white\", \"lakecolor\": \"white\", \"landcolor\": \"#E5ECF6\", \"showlakes\": true, \"showland\": true, \"subunitcolor\": \"white\"}, \"hoverlabel\": {\"align\": \"left\"}, \"hovermode\": \"closest\", \"mapbox\": {\"style\": \"light\"}, \"paper_bgcolor\": \"white\", \"plot_bgcolor\": \"#E5ECF6\", \"polar\": {\"angularaxis\": {\"gridcolor\": \"white\", \"linecolor\": \"white\", \"ticks\": \"\"}, \"bgcolor\": \"#E5ECF6\", \"radialaxis\": {\"gridcolor\": \"white\", \"linecolor\": \"white\", \"ticks\": \"\"}}, \"scene\": {\"xaxis\": {\"backgroundcolor\": \"#E5ECF6\", \"gridcolor\": \"white\", \"gridwidth\": 2, \"linecolor\": \"white\", \"showbackground\": true, \"ticks\": \"\", \"zerolinecolor\": \"white\"}, \"yaxis\": {\"backgroundcolor\": \"#E5ECF6\", \"gridcolor\": \"white\", \"gridwidth\": 2, \"linecolor\": \"white\", \"showbackground\": true, \"ticks\": \"\", \"zerolinecolor\": \"white\"}, \"zaxis\": {\"backgroundcolor\": \"#E5ECF6\", \"gridcolor\": \"white\", \"gridwidth\": 2, \"linecolor\": \"white\", \"showbackground\": true, \"ticks\": \"\", \"zerolinecolor\": \"white\"}}, \"shapedefaults\": {\"line\": {\"color\": \"#2a3f5f\"}}, \"ternary\": {\"aaxis\": {\"gridcolor\": \"white\", \"linecolor\": \"white\", \"ticks\": \"\"}, \"baxis\": {\"gridcolor\": \"white\", \"linecolor\": \"white\", \"ticks\": \"\"}, \"bgcolor\": \"#E5ECF6\", \"caxis\": {\"gridcolor\": \"white\", \"linecolor\": \"white\", \"ticks\": \"\"}}, \"title\": {\"x\": 0.05}, \"xaxis\": {\"automargin\": true, \"gridcolor\": \"white\", \"linecolor\": \"white\", \"ticks\": \"\", \"title\": {\"standoff\": 15}, \"zerolinecolor\": \"white\", \"zerolinewidth\": 2}, \"yaxis\": {\"automargin\": true, \"gridcolor\": \"white\", \"linecolor\": \"white\", \"ticks\": \"\", \"title\": {\"standoff\": 15}, \"zerolinecolor\": \"white\", \"zerolinewidth\": 2}}}, \"title\": {\"text\": \"Number of Movies per Content Rating\"}, \"xaxis\": {\"anchor\": \"y\", \"domain\": [0.0, 1.0], \"title\": {\"text\": \"Content Rating\"}}, \"yaxis\": {\"anchor\": \"x\", \"domain\": [0.0, 1.0], \"title\": {\"text\": \"# of Movies\"}}},                        {\"responsive\": true}                    ).then(function(){\n",
       "                            \n",
       "var gd = document.getElementById('d7b0c1d7-509d-423b-8fcf-06464bf6bfb8');\n",
       "var x = new MutationObserver(function (mutations, observer) {{\n",
       "        var display = window.getComputedStyle(gd).display;\n",
       "        if (!display || display === 'none') {{\n",
       "            console.log([gd, 'removed!']);\n",
       "            Plotly.purge(gd);\n",
       "            observer.disconnect();\n",
       "        }}\n",
       "}});\n",
       "\n",
       "// Listen for the removal of the full notebook cells\n",
       "var notebookContainer = gd.closest('#notebook-container');\n",
       "if (notebookContainer) {{\n",
       "    x.observe(notebookContainer, {childList: true});\n",
       "}}\n",
       "\n",
       "// Listen for the clearing of the current output cell\n",
       "var outputEl = gd.closest('.output');\n",
       "if (outputEl) {{\n",
       "    x.observe(outputEl, {childList: true});\n",
       "}}\n",
       "\n",
       "                        })                };                });            </script>        </div>"
      ]
     },
     "metadata": {},
     "output_type": "display_data"
    }
   ],
   "source": [
    "fig4 = px.bar(movies['content_rating'].value_counts(), title=\"Number of Movies per Content Rating\",  labels={'index': 'Content Rating', 'value':'# of Movies'})\n",
    "fig4.update_layout(showlegend=False)\n",
    "fig4.update_traces(marker_color='green')\n",
    "fig4.show()"
   ]
  },
  {
   "cell_type": "markdown",
   "metadata": {},
   "source": [
    "#### Calculate the average star rating for movies 2 hours or longer, and compare that with the average star rating for movies shorter than 2 hours."
   ]
  },
  {
   "cell_type": "markdown",
   "metadata": {},
   "source": [
    "First, I want to confirm that my filtering method works properly. I'll split the data into movies that are greater than or equal to 120 minutes, and movies that are less than 120 minutes. The sum of these two groups should be the total number of movies (979)."
   ]
  },
  {
   "cell_type": "code",
   "execution_count": 202,
   "metadata": {},
   "outputs": [
    {
     "name": "stdout",
     "output_type": "stream",
     "text": [
      "454 movies 120 minutes or longer\n",
      "\n",
      "525 movies shorter than 120 minutes\n"
     ]
    }
   ],
   "source": [
    "print(f\"{movies[movies['duration']>=120].shape[0]} movies 120 minutes or longer\\n\")\n",
    "print(f\"{movies[movies['duration']<120].shape[0]} movies shorter than 120 minutes\")"
   ]
  },
  {
   "cell_type": "code",
   "execution_count": 200,
   "metadata": {},
   "outputs": [
    {
     "name": "stdout",
     "output_type": "stream",
     "text": [
      "Average Rating for movies 120 minutes or longer: 7.95 stars\n",
      "\n",
      "Average Rating for movies shorter than 120 minutes: 7.84 stars\n"
     ]
    }
   ],
   "source": [
    "# Answer:\n",
    "long_movies = movies[movies['duration']>=120]\n",
    "short_movies = movies[movies['duration']<120]\n",
    "\n",
    "print(f\"Average Rating for movies 120 minutes or longer: {round(long_movies['star_rating'].mean(),2)} stars\\n\")\n",
    "print(f\"Average Rating for movies shorter than 120 minutes: {round(short_movies['star_rating'].mean(),2)} stars\")"
   ]
  },
  {
   "cell_type": "markdown",
   "metadata": {},
   "source": [
    "There is a *slight* difference between the two values, but it doesn't appear to be significant. I can do a linear regression analysis to see if there's a statistical relationship between movie duration and star rating:"
   ]
  },
  {
   "cell_type": "markdown",
   "metadata": {},
   "source": [
    "#### Use a visualization to detect whether there is a relationship between duration and star rating."
   ]
  },
  {
   "cell_type": "code",
   "execution_count": 289,
   "metadata": {},
   "outputs": [
    {
     "data": {
      "application/vnd.plotly.v1+json": {
       "config": {
        "plotlyServerURL": "https://plot.ly"
       },
       "data": [
        {
         "hovertemplate": "duration=%{x}<br>star_rating=%{y}<extra></extra>",
         "legendgroup": "",
         "marker": {
          "color": "green",
          "symbol": "circle"
         },
         "mode": "markers",
         "name": "",
         "orientation": "v",
         "showlegend": false,
         "type": "scatter",
         "x": [
          142,
          175,
          200,
          152,
          154,
          96,
          161,
          201,
          195,
          139,
          178,
          148,
          124,
          142,
          179,
          169,
          133,
          207,
          146,
          121,
          136,
          130,
          130,
          106,
          127,
          116,
          175,
          118,
          110,
          87,
          125,
          112,
          102,
          107,
          119,
          87,
          169,
          115,
          112,
          109,
          189,
          110,
          150,
          165,
          155,
          137,
          113,
          165,
          95,
          151,
          155,
          153,
          125,
          130,
          116,
          89,
          137,
          117,
          88,
          165,
          170,
          89,
          146,
          99,
          98,
          116,
          156,
          122,
          149,
          134,
          122,
          136,
          157,
          123,
          119,
          137,
          128,
          120,
          229,
          107,
          134,
          103,
          177,
          129,
          102,
          216,
          136,
          93,
          68,
          189,
          99,
          108,
          113,
          181,
          103,
          138,
          110,
          129,
          88,
          160,
          126,
          91,
          116,
          125,
          143,
          93,
          102,
          132,
          153,
          183,
          160,
          120,
          138,
          140,
          153,
          170,
          129,
          81,
          127,
          131,
          172,
          115,
          108,
          107,
          129,
          156,
          96,
          91,
          95,
          162,
          130,
          86,
          186,
          151,
          96,
          170,
          118,
          161,
          131,
          126,
          131,
          129,
          224,
          180,
          105,
          117,
          140,
          119,
          124,
          130,
          139,
          107,
          132,
          117,
          126,
          122,
          178,
          238,
          149,
          172,
          98,
          116,
          116,
          123,
          148,
          123,
          182,
          92,
          93,
          100,
          135,
          105,
          94,
          140,
          83,
          95,
          98,
          143,
          99,
          98,
          121,
          163,
          121,
          167,
          188,
          121,
          109,
          110,
          129,
          127,
          94,
          107,
          100,
          117,
          129,
          120,
          121,
          133,
          111,
          122,
          101,
          134,
          165,
          138,
          212,
          154,
          89,
          134,
          93,
          114,
          88,
          130,
          101,
          158,
          99,
          108,
          124,
          132,
          113,
          131,
          191,
          167,
          130,
          147,
          102,
          88,
          165,
          132,
          118,
          101,
          108,
          174,
          98,
          92,
          98,
          106,
          85,
          101,
          105,
          115,
          115,
          124,
          105,
          103,
          138,
          184,
          120,
          99,
          131,
          138,
          98,
          123,
          118,
          114,
          118,
          112,
          124,
          160,
          67,
          146,
          125,
          115,
          134,
          141,
          129,
          104,
          94,
          124,
          150,
          119,
          128,
          143,
          85,
          151,
          118,
          101,
          99,
          92,
          125,
          102,
          106,
          107,
          91,
          80,
          122,
          102,
          112,
          92,
          135,
          136,
          153,
          105,
          126,
          68,
          84,
          103,
          145,
          80,
          106,
          127,
          178,
          137,
          172,
          76,
          130,
          96,
          82,
          115,
          95,
          143,
          125,
          120,
          127,
          112,
          104,
          113,
          189,
          127,
          188,
          96,
          113,
          132,
          122,
          126,
          140,
          133,
          112,
          102,
          93,
          109,
          81,
          108,
          111,
          119,
          96,
          197,
          127,
          138,
          66,
          181,
          141,
          144,
          128,
          83,
          121,
          98,
          117,
          94,
          174,
          112,
          108,
          70,
          99,
          96,
          137,
          136,
          100,
          90,
          96,
          161,
          115,
          181,
          169,
          98,
          136,
          138,
          119,
          123,
          112,
          120,
          103,
          97,
          109,
          165,
          156,
          147,
          100,
          126,
          115,
          105,
          144,
          102,
          107,
          119,
          90,
          197,
          86,
          113,
          133,
          64,
          141,
          113,
          122,
          105,
          119,
          102,
          122,
          123,
          113,
          97,
          117,
          111,
          85,
          99,
          134,
          75,
          109,
          117,
          91,
          128,
          111,
          119,
          100,
          114,
          92,
          141,
          101,
          115,
          127,
          96,
          129,
          135,
          109,
          157,
          193,
          94,
          155,
          113,
          130,
          117,
          159,
          141,
          112,
          162,
          126,
          120,
          144,
          120,
          109,
          97,
          108,
          115,
          136,
          90,
          170,
          220,
          116,
          134,
          124,
          91,
          103,
          96,
          119,
          98,
          101,
          93,
          179,
          155,
          121,
          103,
          127,
          103,
          107,
          100,
          92,
          94,
          158,
          86,
          115,
          130,
          107,
          100,
          108,
          124,
          131,
          122,
          242,
          127,
          141,
          126,
          89,
          113,
          152,
          107,
          92,
          145,
          84,
          126,
          132,
          78,
          117,
          128,
          100,
          128,
          100,
          143,
          107,
          100,
          125,
          106,
          157,
          94,
          104,
          94,
          153,
          123,
          120,
          105,
          166,
          112,
          94,
          111,
          87,
          80,
          108,
          102,
          105,
          136,
          101,
          100,
          108,
          101,
          106,
          105,
          88,
          129,
          138,
          129,
          118,
          139,
          123,
          150,
          132,
          80,
          178,
          79,
          163,
          114,
          144,
          130,
          154,
          81,
          95,
          101,
          120,
          93,
          115,
          106,
          120,
          110,
          123,
          142,
          99,
          112,
          120,
          122,
          130,
          139,
          129,
          141,
          127,
          130,
          118,
          110,
          115,
          101,
          112,
          108,
          143,
          152,
          117,
          121,
          119,
          114,
          122,
          105,
          110,
          116,
          139,
          121,
          109,
          146,
          113,
          100,
          121,
          113,
          113,
          117,
          93,
          101,
          90,
          131,
          98,
          93,
          121,
          82,
          124,
          100,
          117,
          99,
          116,
          123,
          114,
          133,
          105,
          127,
          144,
          90,
          118,
          122,
          102,
          187,
          87,
          154,
          89,
          88,
          129,
          95,
          118,
          98,
          194,
          114,
          80,
          130,
          135,
          101,
          105,
          129,
          134,
          143,
          202,
          89,
          106,
          92,
          137,
          124,
          122,
          113,
          112,
          110,
          135,
          88,
          146,
          104,
          125,
          131,
          91,
          142,
          129,
          158,
          102,
          99,
          101,
          104,
          119,
          103,
          88,
          100,
          146,
          150,
          140,
          140,
          110,
          97,
          102,
          152,
          100,
          94,
          85,
          104,
          112,
          191,
          119,
          111,
          94,
          103,
          134,
          157,
          158,
          127,
          101,
          109,
          98,
          134,
          168,
          93,
          145,
          111,
          88,
          123,
          121,
          144,
          116,
          124,
          147,
          106,
          113,
          129,
          94,
          126,
          128,
          111,
          146,
          85,
          105,
          132,
          130,
          162,
          113,
          110,
          113,
          162,
          110,
          78,
          92,
          95,
          138,
          102,
          128,
          96,
          164,
          126,
          110,
          109,
          122,
          124,
          128,
          157,
          120,
          102,
          152,
          170,
          102,
          116,
          164,
          85,
          104,
          99,
          81,
          131,
          101,
          121,
          69,
          92,
          94,
          141,
          116,
          98,
          135,
          121,
          108,
          114,
          102,
          112,
          140,
          157,
          128,
          108,
          139,
          83,
          131,
          113,
          136,
          96,
          118,
          108,
          83,
          205,
          124,
          111,
          137,
          104,
          109,
          115,
          99,
          114,
          133,
          131,
          131,
          123,
          126,
          97,
          126,
          89,
          122,
          121,
          125,
          105,
          118,
          81,
          115,
          126,
          113,
          107,
          126,
          111,
          85,
          120,
          93,
          100,
          107,
          126,
          131,
          116,
          143,
          93,
          96,
          160,
          137,
          119,
          114,
          98,
          111,
          138,
          144,
          107,
          114,
          125,
          146,
          113,
          85,
          97,
          93,
          113,
          128,
          114,
          147,
          127,
          167,
          124,
          109,
          124,
          102,
          130,
          125,
          98,
          154,
          97,
          128,
          98,
          101,
          147,
          172,
          125,
          88,
          125,
          121,
          112,
          120,
          133,
          110,
          135,
          110,
          80,
          135,
          101,
          112,
          124,
          129,
          104,
          96,
          105,
          109,
          117,
          78,
          138,
          106,
          90,
          106,
          91,
          112,
          134,
          112,
          104,
          101,
          120,
          123,
          133,
          110,
          129,
          120,
          83,
          88,
          96,
          139,
          113,
          84,
          106,
          170,
          144,
          104,
          153,
          85,
          130,
          93,
          148,
          115,
          102,
          125,
          106,
          121,
          143,
          116,
          99,
          116,
          128,
          119,
          104,
          114,
          152,
          129,
          103,
          112,
          92,
          141,
          106,
          109,
          104,
          122,
          111,
          112,
          116,
          130,
          133,
          134,
          92,
          104,
          110,
          97,
          100,
          118,
          112,
          138,
          92,
          118,
          140,
          128,
          101,
          75,
          97,
          111,
          175,
          94,
          97,
          132,
          120,
          107,
          89,
          86,
          103,
          108,
          105,
          117,
          102,
          104,
          157,
          104,
          98,
          109,
          96,
          103,
          114,
          99,
          118,
          150,
          105,
          87,
          136,
          162,
          109,
          107,
          90,
          112,
          126,
          116,
          118,
          138,
          114,
          126
         ],
         "xaxis": "x",
         "y": [
          9.3,
          9.2,
          9.1,
          9,
          8.9,
          8.9,
          8.9,
          8.9,
          8.9,
          8.9,
          8.8,
          8.8,
          8.8,
          8.8,
          8.8,
          8.7,
          8.7,
          8.7,
          8.7,
          8.7,
          8.7,
          8.7,
          8.7,
          8.7,
          8.7,
          8.6,
          8.6,
          8.6,
          8.6,
          8.6,
          8.6,
          8.6,
          8.6,
          8.6,
          8.6,
          8.6,
          8.6,
          8.6,
          8.6,
          8.6,
          8.5,
          8.5,
          8.5,
          8.5,
          8.5,
          8.5,
          8.5,
          8.5,
          8.5,
          8.5,
          8.5,
          8.5,
          8.5,
          8.5,
          8.5,
          8.5,
          8.5,
          8.5,
          8.5,
          8.5,
          8.5,
          8.5,
          8.5,
          8.4,
          8.4,
          8.4,
          8.4,
          8.4,
          8.4,
          8.4,
          8.4,
          8.4,
          8.4,
          8.4,
          8.4,
          8.4,
          8.4,
          8.4,
          8.4,
          8.4,
          8.4,
          8.4,
          8.4,
          8.4,
          8.4,
          8.4,
          8.4,
          8.4,
          8.4,
          8.4,
          8.4,
          8.4,
          8.4,
          8.4,
          8.4,
          8.4,
          8.4,
          8.4,
          8.4,
          8.4,
          8.3,
          8.3,
          8.3,
          8.3,
          8.3,
          8.3,
          8.3,
          8.3,
          8.3,
          8.3,
          8.3,
          8.3,
          8.3,
          8.3,
          8.3,
          8.3,
          8.3,
          8.3,
          8.3,
          8.3,
          8.3,
          8.3,
          8.3,
          8.3,
          8.3,
          8.3,
          8.3,
          8.3,
          8.3,
          8.3,
          8.3,
          8.3,
          8.3,
          8.3,
          8.3,
          8.3,
          8.3,
          8.3,
          8.3,
          8.3,
          8.3,
          8.3,
          8.3,
          8.2,
          8.2,
          8.2,
          8.2,
          8.2,
          8.2,
          8.2,
          8.2,
          8.2,
          8.2,
          8.2,
          8.2,
          8.2,
          8.2,
          8.2,
          8.2,
          8.2,
          8.2,
          8.2,
          8.2,
          8.2,
          8.2,
          8.2,
          8.2,
          8.2,
          8.2,
          8.2,
          8.2,
          8.2,
          8.2,
          8.2,
          8.2,
          8.2,
          8.2,
          8.2,
          8.2,
          8.2,
          8.2,
          8.2,
          8.2,
          8.2,
          8.2,
          8.2,
          8.2,
          8.2,
          8.2,
          8.2,
          8.2,
          8.2,
          8.2,
          8.2,
          8.1,
          8.1,
          8.1,
          8.1,
          8.1,
          8.1,
          8.1,
          8.1,
          8.1,
          8.1,
          8.1,
          8.1,
          8.1,
          8.1,
          8.1,
          8.1,
          8.1,
          8.1,
          8.1,
          8.1,
          8.1,
          8.1,
          8.1,
          8.1,
          8.1,
          8.1,
          8.1,
          8.1,
          8.1,
          8.1,
          8.1,
          8.1,
          8.1,
          8.1,
          8.1,
          8.1,
          8.1,
          8.1,
          8.1,
          8.1,
          8.1,
          8.1,
          8.1,
          8.1,
          8.1,
          8.1,
          8.1,
          8.1,
          8.1,
          8.1,
          8.1,
          8.1,
          8.1,
          8.1,
          8.1,
          8.1,
          8.1,
          8.1,
          8.1,
          8.1,
          8.1,
          8.1,
          8.1,
          8.1,
          8.1,
          8.1,
          8.1,
          8.1,
          8.1,
          8.1,
          8.1,
          8.1,
          8.1,
          8.1,
          8.1,
          8.1,
          8.1,
          8.1,
          8.1,
          8.1,
          8.1,
          8.1,
          8.1,
          8.1,
          8.1,
          8.1,
          8.1,
          8.1,
          8.1,
          8.1,
          8.1,
          8.1,
          8.1,
          8.1,
          8.1,
          8.1,
          8.1,
          8.1,
          8.1,
          8.1,
          8.1,
          8.1,
          8.1,
          8,
          8,
          8,
          8,
          8,
          8,
          8,
          8,
          8,
          8,
          8,
          8,
          8,
          8,
          8,
          8,
          8,
          8,
          8,
          8,
          8,
          8,
          8,
          8,
          8,
          8,
          8,
          8,
          8,
          8,
          8,
          8,
          8,
          8,
          8,
          8,
          8,
          8,
          8,
          8,
          8,
          8,
          8,
          8,
          8,
          8,
          8,
          8,
          8,
          8,
          8,
          8,
          8,
          8,
          8,
          8,
          8,
          8,
          8,
          8,
          8,
          8,
          8,
          8,
          8,
          8,
          8,
          8,
          8,
          8,
          8,
          8,
          8,
          8,
          8,
          8,
          8,
          8,
          8,
          8,
          8,
          8,
          8,
          8,
          8,
          8,
          8,
          8,
          8,
          8,
          8,
          8,
          8,
          8,
          8,
          8,
          8,
          7.9,
          7.9,
          7.9,
          7.9,
          7.9,
          7.9,
          7.9,
          7.9,
          7.9,
          7.9,
          7.9,
          7.9,
          7.9,
          7.9,
          7.9,
          7.9,
          7.9,
          7.9,
          7.9,
          7.9,
          7.9,
          7.9,
          7.9,
          7.9,
          7.9,
          7.9,
          7.9,
          7.9,
          7.9,
          7.9,
          7.9,
          7.9,
          7.9,
          7.9,
          7.9,
          7.9,
          7.9,
          7.9,
          7.9,
          7.9,
          7.9,
          7.9,
          7.9,
          7.9,
          7.9,
          7.9,
          7.9,
          7.9,
          7.9,
          7.9,
          7.9,
          7.9,
          7.9,
          7.9,
          7.9,
          7.9,
          7.9,
          7.9,
          7.9,
          7.9,
          7.9,
          7.9,
          7.9,
          7.9,
          7.9,
          7.9,
          7.9,
          7.9,
          7.9,
          7.9,
          7.9,
          7.9,
          7.9,
          7.9,
          7.9,
          7.8,
          7.8,
          7.8,
          7.8,
          7.8,
          7.8,
          7.8,
          7.8,
          7.8,
          7.8,
          7.8,
          7.8,
          7.8,
          7.8,
          7.8,
          7.8,
          7.8,
          7.8,
          7.8,
          7.8,
          7.8,
          7.8,
          7.8,
          7.8,
          7.8,
          7.8,
          7.8,
          7.8,
          7.8,
          7.8,
          7.8,
          7.8,
          7.8,
          7.8,
          7.8,
          7.8,
          7.8,
          7.8,
          7.8,
          7.8,
          7.8,
          7.8,
          7.8,
          7.8,
          7.8,
          7.8,
          7.8,
          7.8,
          7.8,
          7.8,
          7.8,
          7.8,
          7.8,
          7.8,
          7.8,
          7.8,
          7.8,
          7.8,
          7.8,
          7.8,
          7.8,
          7.8,
          7.8,
          7.8,
          7.8,
          7.8,
          7.8,
          7.8,
          7.8,
          7.8,
          7.8,
          7.8,
          7.8,
          7.8,
          7.8,
          7.8,
          7.8,
          7.8,
          7.8,
          7.8,
          7.8,
          7.8,
          7.8,
          7.8,
          7.8,
          7.8,
          7.8,
          7.8,
          7.8,
          7.8,
          7.8,
          7.8,
          7.8,
          7.8,
          7.8,
          7.8,
          7.8,
          7.8,
          7.8,
          7.8,
          7.8,
          7.8,
          7.8,
          7.8,
          7.8,
          7.8,
          7.8,
          7.8,
          7.8,
          7.8,
          7.8,
          7.8,
          7.8,
          7.8,
          7.8,
          7.8,
          7.7,
          7.7,
          7.7,
          7.7,
          7.7,
          7.7,
          7.7,
          7.7,
          7.7,
          7.7,
          7.7,
          7.7,
          7.7,
          7.7,
          7.7,
          7.7,
          7.7,
          7.7,
          7.7,
          7.7,
          7.7,
          7.7,
          7.7,
          7.7,
          7.7,
          7.7,
          7.7,
          7.7,
          7.7,
          7.7,
          7.7,
          7.7,
          7.7,
          7.7,
          7.7,
          7.7,
          7.7,
          7.7,
          7.7,
          7.7,
          7.7,
          7.7,
          7.7,
          7.7,
          7.7,
          7.7,
          7.7,
          7.7,
          7.7,
          7.7,
          7.7,
          7.7,
          7.7,
          7.7,
          7.7,
          7.7,
          7.7,
          7.7,
          7.7,
          7.7,
          7.7,
          7.7,
          7.7,
          7.7,
          7.7,
          7.7,
          7.7,
          7.7,
          7.7,
          7.7,
          7.7,
          7.7,
          7.7,
          7.7,
          7.7,
          7.7,
          7.7,
          7.7,
          7.7,
          7.7,
          7.7,
          7.7,
          7.7,
          7.7,
          7.7,
          7.7,
          7.7,
          7.7,
          7.7,
          7.7,
          7.7,
          7.7,
          7.7,
          7.7,
          7.7,
          7.7,
          7.7,
          7.7,
          7.7,
          7.7,
          7.7,
          7.7,
          7.7,
          7.7,
          7.7,
          7.7,
          7.7,
          7.7,
          7.7,
          7.7,
          7.7,
          7.7,
          7.7,
          7.6,
          7.6,
          7.6,
          7.6,
          7.6,
          7.6,
          7.6,
          7.6,
          7.6,
          7.6,
          7.6,
          7.6,
          7.6,
          7.6,
          7.6,
          7.6,
          7.6,
          7.6,
          7.6,
          7.6,
          7.6,
          7.6,
          7.6,
          7.6,
          7.6,
          7.6,
          7.6,
          7.6,
          7.6,
          7.6,
          7.6,
          7.6,
          7.6,
          7.6,
          7.6,
          7.6,
          7.6,
          7.6,
          7.6,
          7.6,
          7.6,
          7.6,
          7.6,
          7.6,
          7.6,
          7.6,
          7.6,
          7.6,
          7.6,
          7.6,
          7.6,
          7.6,
          7.6,
          7.6,
          7.6,
          7.6,
          7.6,
          7.6,
          7.6,
          7.6,
          7.6,
          7.6,
          7.6,
          7.6,
          7.6,
          7.6,
          7.6,
          7.6,
          7.6,
          7.6,
          7.6,
          7.6,
          7.6,
          7.6,
          7.6,
          7.6,
          7.6,
          7.6,
          7.6,
          7.6,
          7.6,
          7.6,
          7.6,
          7.6,
          7.6,
          7.6,
          7.6,
          7.6,
          7.6,
          7.6,
          7.6,
          7.6,
          7.6,
          7.6,
          7.6,
          7.6,
          7.6,
          7.6,
          7.6,
          7.6,
          7.6,
          7.6,
          7.6,
          7.6,
          7.6,
          7.6,
          7.6,
          7.6,
          7.6,
          7.6,
          7.6,
          7.6,
          7.6,
          7.6,
          7.6,
          7.6,
          7.6,
          7.6,
          7.6,
          7.6,
          7.6,
          7.6,
          7.6,
          7.6,
          7.5,
          7.5,
          7.5,
          7.5,
          7.5,
          7.5,
          7.5,
          7.5,
          7.5,
          7.5,
          7.5,
          7.5,
          7.5,
          7.5,
          7.5,
          7.5,
          7.5,
          7.5,
          7.5,
          7.5,
          7.5,
          7.5,
          7.5,
          7.5,
          7.5,
          7.5,
          7.5,
          7.5,
          7.5,
          7.5,
          7.5,
          7.5,
          7.5,
          7.5,
          7.5,
          7.5,
          7.5,
          7.5,
          7.5,
          7.5,
          7.5,
          7.5,
          7.5,
          7.5,
          7.5,
          7.5,
          7.5,
          7.5,
          7.5,
          7.5,
          7.5,
          7.5,
          7.5,
          7.5,
          7.5,
          7.5,
          7.5,
          7.5,
          7.5,
          7.5,
          7.5,
          7.5,
          7.5,
          7.5,
          7.5,
          7.5,
          7.5,
          7.5,
          7.5,
          7.5,
          7.5,
          7.5,
          7.5,
          7.5,
          7.5,
          7.5,
          7.5,
          7.5,
          7.5,
          7.5,
          7.5,
          7.5,
          7.5,
          7.5,
          7.5,
          7.5,
          7.5,
          7.5,
          7.5,
          7.5,
          7.5,
          7.5,
          7.5,
          7.5,
          7.5,
          7.5,
          7.5,
          7.5,
          7.5,
          7.5,
          7.5,
          7.5,
          7.5,
          7.5,
          7.5,
          7.5,
          7.5,
          7.5,
          7.4,
          7.4,
          7.4,
          7.4,
          7.4,
          7.4,
          7.4,
          7.4,
          7.4,
          7.4,
          7.4,
          7.4,
          7.4,
          7.4,
          7.4,
          7.4,
          7.4,
          7.4,
          7.4,
          7.4,
          7.4,
          7.4,
          7.4,
          7.4,
          7.4,
          7.4,
          7.4,
          7.4,
          7.4,
          7.4,
          7.4,
          7.4,
          7.4,
          7.4,
          7.4,
          7.4,
          7.4,
          7.4,
          7.4,
          7.4,
          7.4,
          7.4,
          7.4,
          7.4,
          7.4,
          7.4,
          7.4,
          7.4,
          7.4
         ],
         "yaxis": "y"
        },
        {
         "hovertemplate": "<b>OLS trendline</b><br>star_rating = 0.00291166 * duration + 7.53753<br>R<sup>2</sup>=0.051597<br><br>duration=%{x}<br>star_rating=%{y} <b>(trend)</b><extra></extra>",
         "legendgroup": "",
         "marker": {
          "color": "green",
          "symbol": "circle"
         },
         "mode": "lines",
         "name": "",
         "showlegend": false,
         "type": "scatter",
         "x": [
          64,
          66,
          67,
          68,
          68,
          69,
          70,
          75,
          75,
          76,
          78,
          78,
          78,
          79,
          80,
          80,
          80,
          80,
          80,
          80,
          81,
          81,
          81,
          81,
          81,
          82,
          82,
          83,
          83,
          83,
          83,
          83,
          84,
          84,
          84,
          85,
          85,
          85,
          85,
          85,
          85,
          85,
          85,
          85,
          86,
          86,
          86,
          86,
          87,
          87,
          87,
          87,
          87,
          88,
          88,
          88,
          88,
          88,
          88,
          88,
          88,
          88,
          88,
          88,
          89,
          89,
          89,
          89,
          89,
          89,
          89,
          89,
          90,
          90,
          90,
          90,
          90,
          90,
          90,
          91,
          91,
          91,
          91,
          91,
          91,
          91,
          92,
          92,
          92,
          92,
          92,
          92,
          92,
          92,
          92,
          92,
          92,
          92,
          92,
          93,
          93,
          93,
          93,
          93,
          93,
          93,
          93,
          93,
          93,
          93,
          93,
          93,
          93,
          94,
          94,
          94,
          94,
          94,
          94,
          94,
          94,
          94,
          94,
          94,
          94,
          94,
          94,
          95,
          95,
          95,
          95,
          95,
          95,
          95,
          96,
          96,
          96,
          96,
          96,
          96,
          96,
          96,
          96,
          96,
          96,
          96,
          96,
          96,
          96,
          96,
          97,
          97,
          97,
          97,
          97,
          97,
          97,
          97,
          97,
          97,
          98,
          98,
          98,
          98,
          98,
          98,
          98,
          98,
          98,
          98,
          98,
          98,
          98,
          98,
          98,
          98,
          98,
          98,
          99,
          99,
          99,
          99,
          99,
          99,
          99,
          99,
          99,
          99,
          99,
          99,
          99,
          99,
          99,
          100,
          100,
          100,
          100,
          100,
          100,
          100,
          100,
          100,
          100,
          100,
          100,
          100,
          100,
          100,
          100,
          100,
          101,
          101,
          101,
          101,
          101,
          101,
          101,
          101,
          101,
          101,
          101,
          101,
          101,
          101,
          101,
          101,
          101,
          101,
          101,
          101,
          102,
          102,
          102,
          102,
          102,
          102,
          102,
          102,
          102,
          102,
          102,
          102,
          102,
          102,
          102,
          102,
          102,
          102,
          102,
          102,
          103,
          103,
          103,
          103,
          103,
          103,
          103,
          103,
          103,
          103,
          103,
          103,
          103,
          104,
          104,
          104,
          104,
          104,
          104,
          104,
          104,
          104,
          104,
          104,
          104,
          104,
          104,
          104,
          104,
          105,
          105,
          105,
          105,
          105,
          105,
          105,
          105,
          105,
          105,
          105,
          105,
          105,
          105,
          105,
          105,
          105,
          105,
          106,
          106,
          106,
          106,
          106,
          106,
          106,
          106,
          106,
          106,
          106,
          106,
          106,
          106,
          107,
          107,
          107,
          107,
          107,
          107,
          107,
          107,
          107,
          107,
          107,
          107,
          107,
          107,
          107,
          107,
          108,
          108,
          108,
          108,
          108,
          108,
          108,
          108,
          108,
          108,
          108,
          108,
          108,
          108,
          108,
          109,
          109,
          109,
          109,
          109,
          109,
          109,
          109,
          109,
          109,
          109,
          109,
          109,
          109,
          109,
          109,
          110,
          110,
          110,
          110,
          110,
          110,
          110,
          110,
          110,
          110,
          110,
          110,
          110,
          110,
          110,
          110,
          111,
          111,
          111,
          111,
          111,
          111,
          111,
          111,
          111,
          111,
          111,
          111,
          111,
          112,
          112,
          112,
          112,
          112,
          112,
          112,
          112,
          112,
          112,
          112,
          112,
          112,
          112,
          112,
          112,
          112,
          112,
          112,
          112,
          112,
          112,
          112,
          113,
          113,
          113,
          113,
          113,
          113,
          113,
          113,
          113,
          113,
          113,
          113,
          113,
          113,
          113,
          113,
          113,
          113,
          113,
          113,
          113,
          113,
          114,
          114,
          114,
          114,
          114,
          114,
          114,
          114,
          114,
          114,
          114,
          114,
          114,
          114,
          114,
          115,
          115,
          115,
          115,
          115,
          115,
          115,
          115,
          115,
          115,
          115,
          115,
          115,
          115,
          115,
          115,
          116,
          116,
          116,
          116,
          116,
          116,
          116,
          116,
          116,
          116,
          116,
          116,
          116,
          116,
          116,
          116,
          116,
          117,
          117,
          117,
          117,
          117,
          117,
          117,
          117,
          117,
          117,
          117,
          117,
          117,
          117,
          118,
          118,
          118,
          118,
          118,
          118,
          118,
          118,
          118,
          118,
          118,
          118,
          118,
          118,
          118,
          118,
          119,
          119,
          119,
          119,
          119,
          119,
          119,
          119,
          119,
          119,
          119,
          119,
          119,
          119,
          119,
          120,
          120,
          120,
          120,
          120,
          120,
          120,
          120,
          120,
          120,
          120,
          120,
          120,
          120,
          120,
          120,
          120,
          120,
          121,
          121,
          121,
          121,
          121,
          121,
          121,
          121,
          121,
          121,
          121,
          121,
          121,
          121,
          121,
          121,
          121,
          122,
          122,
          122,
          122,
          122,
          122,
          122,
          122,
          122,
          122,
          122,
          122,
          122,
          122,
          122,
          122,
          123,
          123,
          123,
          123,
          123,
          123,
          123,
          123,
          123,
          123,
          123,
          123,
          123,
          124,
          124,
          124,
          124,
          124,
          124,
          124,
          124,
          124,
          124,
          124,
          124,
          124,
          124,
          124,
          124,
          125,
          125,
          125,
          125,
          125,
          125,
          125,
          125,
          125,
          125,
          125,
          125,
          125,
          125,
          126,
          126,
          126,
          126,
          126,
          126,
          126,
          126,
          126,
          126,
          126,
          126,
          126,
          126,
          126,
          126,
          126,
          126,
          127,
          127,
          127,
          127,
          127,
          127,
          127,
          127,
          127,
          127,
          127,
          127,
          127,
          127,
          128,
          128,
          128,
          128,
          128,
          128,
          128,
          128,
          128,
          128,
          128,
          128,
          128,
          128,
          129,
          129,
          129,
          129,
          129,
          129,
          129,
          129,
          129,
          129,
          129,
          129,
          129,
          129,
          129,
          129,
          129,
          129,
          129,
          130,
          130,
          130,
          130,
          130,
          130,
          130,
          130,
          130,
          130,
          130,
          130,
          130,
          130,
          130,
          130,
          130,
          130,
          131,
          131,
          131,
          131,
          131,
          131,
          131,
          131,
          131,
          131,
          131,
          131,
          131,
          132,
          132,
          132,
          132,
          132,
          132,
          132,
          132,
          132,
          133,
          133,
          133,
          133,
          133,
          133,
          133,
          133,
          133,
          134,
          134,
          134,
          134,
          134,
          134,
          134,
          134,
          134,
          134,
          134,
          134,
          135,
          135,
          135,
          135,
          135,
          135,
          135,
          135,
          136,
          136,
          136,
          136,
          136,
          136,
          136,
          136,
          136,
          136,
          137,
          137,
          137,
          137,
          137,
          137,
          137,
          137,
          138,
          138,
          138,
          138,
          138,
          138,
          138,
          138,
          138,
          138,
          138,
          138,
          138,
          139,
          139,
          139,
          139,
          139,
          139,
          139,
          140,
          140,
          140,
          140,
          140,
          140,
          140,
          140,
          141,
          141,
          141,
          141,
          141,
          141,
          141,
          141,
          141,
          142,
          142,
          142,
          142,
          143,
          143,
          143,
          143,
          143,
          143,
          143,
          143,
          143,
          144,
          144,
          144,
          144,
          144,
          144,
          144,
          144,
          145,
          145,
          145,
          146,
          146,
          146,
          146,
          146,
          146,
          146,
          146,
          147,
          147,
          147,
          147,
          147,
          148,
          148,
          148,
          149,
          149,
          150,
          150,
          150,
          150,
          150,
          151,
          151,
          151,
          152,
          152,
          152,
          152,
          152,
          152,
          153,
          153,
          153,
          153,
          153,
          153,
          154,
          154,
          154,
          154,
          154,
          155,
          155,
          155,
          155,
          156,
          156,
          156,
          157,
          157,
          157,
          157,
          157,
          157,
          157,
          158,
          158,
          158,
          158,
          159,
          160,
          160,
          160,
          160,
          161,
          161,
          161,
          162,
          162,
          162,
          162,
          162,
          163,
          163,
          164,
          164,
          165,
          165,
          165,
          165,
          165,
          165,
          166,
          167,
          167,
          167,
          168,
          169,
          169,
          169,
          170,
          170,
          170,
          170,
          170,
          170,
          172,
          172,
          172,
          172,
          174,
          174,
          175,
          175,
          175,
          177,
          178,
          178,
          178,
          178,
          179,
          179,
          180,
          181,
          181,
          181,
          182,
          183,
          184,
          186,
          187,
          188,
          188,
          189,
          189,
          189,
          191,
          191,
          193,
          194,
          195,
          197,
          197,
          200,
          201,
          202,
          205,
          207,
          212,
          216,
          220,
          224,
          229,
          238,
          242
         ],
         "xaxis": "x",
         "y": [
          7.723880482781461,
          7.729703798392202,
          7.732615456197572,
          7.7355271140029425,
          7.7355271140029425,
          7.738438771808312,
          7.741350429613682,
          7.7559087186405336,
          7.7559087186405336,
          7.758820376445903,
          7.7646436920566435,
          7.7646436920566435,
          7.7646436920566435,
          7.767555349862014,
          7.770467007667384,
          7.770467007667384,
          7.770467007667384,
          7.770467007667384,
          7.770467007667384,
          7.770467007667384,
          7.773378665472754,
          7.773378665472754,
          7.773378665472754,
          7.773378665472754,
          7.773378665472754,
          7.776290323278124,
          7.776290323278124,
          7.779201981083494,
          7.779201981083494,
          7.779201981083494,
          7.779201981083494,
          7.779201981083494,
          7.782113638888864,
          7.782113638888864,
          7.782113638888864,
          7.785025296694235,
          7.785025296694235,
          7.785025296694235,
          7.785025296694235,
          7.785025296694235,
          7.785025296694235,
          7.785025296694235,
          7.785025296694235,
          7.785025296694235,
          7.787936954499605,
          7.787936954499605,
          7.787936954499605,
          7.787936954499605,
          7.790848612304975,
          7.790848612304975,
          7.790848612304975,
          7.790848612304975,
          7.790848612304975,
          7.7937602701103454,
          7.7937602701103454,
          7.7937602701103454,
          7.7937602701103454,
          7.7937602701103454,
          7.7937602701103454,
          7.7937602701103454,
          7.7937602701103454,
          7.7937602701103454,
          7.7937602701103454,
          7.7937602701103454,
          7.796671927915715,
          7.796671927915715,
          7.796671927915715,
          7.796671927915715,
          7.796671927915715,
          7.796671927915715,
          7.796671927915715,
          7.796671927915715,
          7.799583585721085,
          7.799583585721085,
          7.799583585721085,
          7.799583585721085,
          7.799583585721085,
          7.799583585721085,
          7.799583585721085,
          7.802495243526455,
          7.802495243526455,
          7.802495243526455,
          7.802495243526455,
          7.802495243526455,
          7.802495243526455,
          7.802495243526455,
          7.805406901331826,
          7.805406901331826,
          7.805406901331826,
          7.805406901331826,
          7.805406901331826,
          7.805406901331826,
          7.805406901331826,
          7.805406901331826,
          7.805406901331826,
          7.805406901331826,
          7.805406901331826,
          7.805406901331826,
          7.805406901331826,
          7.808318559137196,
          7.808318559137196,
          7.808318559137196,
          7.808318559137196,
          7.808318559137196,
          7.808318559137196,
          7.808318559137196,
          7.808318559137196,
          7.808318559137196,
          7.808318559137196,
          7.808318559137196,
          7.808318559137196,
          7.808318559137196,
          7.808318559137196,
          7.811230216942566,
          7.811230216942566,
          7.811230216942566,
          7.811230216942566,
          7.811230216942566,
          7.811230216942566,
          7.811230216942566,
          7.811230216942566,
          7.811230216942566,
          7.811230216942566,
          7.811230216942566,
          7.811230216942566,
          7.811230216942566,
          7.811230216942566,
          7.814141874747936,
          7.814141874747936,
          7.814141874747936,
          7.814141874747936,
          7.814141874747936,
          7.814141874747936,
          7.814141874747936,
          7.817053532553306,
          7.817053532553306,
          7.817053532553306,
          7.817053532553306,
          7.817053532553306,
          7.817053532553306,
          7.817053532553306,
          7.817053532553306,
          7.817053532553306,
          7.817053532553306,
          7.817053532553306,
          7.817053532553306,
          7.817053532553306,
          7.817053532553306,
          7.817053532553306,
          7.817053532553306,
          7.819965190358676,
          7.819965190358676,
          7.819965190358676,
          7.819965190358676,
          7.819965190358676,
          7.819965190358676,
          7.819965190358676,
          7.819965190358676,
          7.819965190358676,
          7.819965190358676,
          7.8228768481640465,
          7.8228768481640465,
          7.8228768481640465,
          7.8228768481640465,
          7.8228768481640465,
          7.8228768481640465,
          7.8228768481640465,
          7.8228768481640465,
          7.8228768481640465,
          7.8228768481640465,
          7.8228768481640465,
          7.8228768481640465,
          7.8228768481640465,
          7.8228768481640465,
          7.8228768481640465,
          7.8228768481640465,
          7.8228768481640465,
          7.8228768481640465,
          7.825788505969417,
          7.825788505969417,
          7.825788505969417,
          7.825788505969417,
          7.825788505969417,
          7.825788505969417,
          7.825788505969417,
          7.825788505969417,
          7.825788505969417,
          7.825788505969417,
          7.825788505969417,
          7.825788505969417,
          7.825788505969417,
          7.825788505969417,
          7.825788505969417,
          7.828700163774787,
          7.828700163774787,
          7.828700163774787,
          7.828700163774787,
          7.828700163774787,
          7.828700163774787,
          7.828700163774787,
          7.828700163774787,
          7.828700163774787,
          7.828700163774787,
          7.828700163774787,
          7.828700163774787,
          7.828700163774787,
          7.828700163774787,
          7.828700163774787,
          7.828700163774787,
          7.828700163774787,
          7.831611821580157,
          7.831611821580157,
          7.831611821580157,
          7.831611821580157,
          7.831611821580157,
          7.831611821580157,
          7.831611821580157,
          7.831611821580157,
          7.831611821580157,
          7.831611821580157,
          7.831611821580157,
          7.831611821580157,
          7.831611821580157,
          7.831611821580157,
          7.831611821580157,
          7.831611821580157,
          7.831611821580157,
          7.831611821580157,
          7.831611821580157,
          7.831611821580157,
          7.834523479385527,
          7.834523479385527,
          7.834523479385527,
          7.834523479385527,
          7.834523479385527,
          7.834523479385527,
          7.834523479385527,
          7.834523479385527,
          7.834523479385527,
          7.834523479385527,
          7.834523479385527,
          7.834523479385527,
          7.834523479385527,
          7.834523479385527,
          7.834523479385527,
          7.834523479385527,
          7.834523479385527,
          7.834523479385527,
          7.834523479385527,
          7.834523479385527,
          7.837435137190897,
          7.837435137190897,
          7.837435137190897,
          7.837435137190897,
          7.837435137190897,
          7.837435137190897,
          7.837435137190897,
          7.837435137190897,
          7.837435137190897,
          7.837435137190897,
          7.837435137190897,
          7.837435137190897,
          7.837435137190897,
          7.840346794996267,
          7.840346794996267,
          7.840346794996267,
          7.840346794996267,
          7.840346794996267,
          7.840346794996267,
          7.840346794996267,
          7.840346794996267,
          7.840346794996267,
          7.840346794996267,
          7.840346794996267,
          7.840346794996267,
          7.840346794996267,
          7.840346794996267,
          7.840346794996267,
          7.840346794996267,
          7.843258452801638,
          7.843258452801638,
          7.843258452801638,
          7.843258452801638,
          7.843258452801638,
          7.843258452801638,
          7.843258452801638,
          7.843258452801638,
          7.843258452801638,
          7.843258452801638,
          7.843258452801638,
          7.843258452801638,
          7.843258452801638,
          7.843258452801638,
          7.843258452801638,
          7.843258452801638,
          7.843258452801638,
          7.843258452801638,
          7.846170110607008,
          7.846170110607008,
          7.846170110607008,
          7.846170110607008,
          7.846170110607008,
          7.846170110607008,
          7.846170110607008,
          7.846170110607008,
          7.846170110607008,
          7.846170110607008,
          7.846170110607008,
          7.846170110607008,
          7.846170110607008,
          7.846170110607008,
          7.849081768412378,
          7.849081768412378,
          7.849081768412378,
          7.849081768412378,
          7.849081768412378,
          7.849081768412378,
          7.849081768412378,
          7.849081768412378,
          7.849081768412378,
          7.849081768412378,
          7.849081768412378,
          7.849081768412378,
          7.849081768412378,
          7.849081768412378,
          7.849081768412378,
          7.849081768412378,
          7.851993426217748,
          7.851993426217748,
          7.851993426217748,
          7.851993426217748,
          7.851993426217748,
          7.851993426217748,
          7.851993426217748,
          7.851993426217748,
          7.851993426217748,
          7.851993426217748,
          7.851993426217748,
          7.851993426217748,
          7.851993426217748,
          7.851993426217748,
          7.851993426217748,
          7.854905084023118,
          7.854905084023118,
          7.854905084023118,
          7.854905084023118,
          7.854905084023118,
          7.854905084023118,
          7.854905084023118,
          7.854905084023118,
          7.854905084023118,
          7.854905084023118,
          7.854905084023118,
          7.854905084023118,
          7.854905084023118,
          7.854905084023118,
          7.854905084023118,
          7.854905084023118,
          7.857816741828488,
          7.857816741828488,
          7.857816741828488,
          7.857816741828488,
          7.857816741828488,
          7.857816741828488,
          7.857816741828488,
          7.857816741828488,
          7.857816741828488,
          7.857816741828488,
          7.857816741828488,
          7.857816741828488,
          7.857816741828488,
          7.857816741828488,
          7.857816741828488,
          7.857816741828488,
          7.860728399633858,
          7.860728399633858,
          7.860728399633858,
          7.860728399633858,
          7.860728399633858,
          7.860728399633858,
          7.860728399633858,
          7.860728399633858,
          7.860728399633858,
          7.860728399633858,
          7.860728399633858,
          7.860728399633858,
          7.860728399633858,
          7.863640057439229,
          7.863640057439229,
          7.863640057439229,
          7.863640057439229,
          7.863640057439229,
          7.863640057439229,
          7.863640057439229,
          7.863640057439229,
          7.863640057439229,
          7.863640057439229,
          7.863640057439229,
          7.863640057439229,
          7.863640057439229,
          7.863640057439229,
          7.863640057439229,
          7.863640057439229,
          7.863640057439229,
          7.863640057439229,
          7.863640057439229,
          7.863640057439229,
          7.863640057439229,
          7.863640057439229,
          7.863640057439229,
          7.866551715244599,
          7.866551715244599,
          7.866551715244599,
          7.866551715244599,
          7.866551715244599,
          7.866551715244599,
          7.866551715244599,
          7.866551715244599,
          7.866551715244599,
          7.866551715244599,
          7.866551715244599,
          7.866551715244599,
          7.866551715244599,
          7.866551715244599,
          7.866551715244599,
          7.866551715244599,
          7.866551715244599,
          7.866551715244599,
          7.866551715244599,
          7.866551715244599,
          7.866551715244599,
          7.866551715244599,
          7.869463373049969,
          7.869463373049969,
          7.869463373049969,
          7.869463373049969,
          7.869463373049969,
          7.869463373049969,
          7.869463373049969,
          7.869463373049969,
          7.869463373049969,
          7.869463373049969,
          7.869463373049969,
          7.869463373049969,
          7.869463373049969,
          7.869463373049969,
          7.869463373049969,
          7.8723750308553395,
          7.8723750308553395,
          7.8723750308553395,
          7.8723750308553395,
          7.8723750308553395,
          7.8723750308553395,
          7.8723750308553395,
          7.8723750308553395,
          7.8723750308553395,
          7.8723750308553395,
          7.8723750308553395,
          7.8723750308553395,
          7.8723750308553395,
          7.8723750308553395,
          7.8723750308553395,
          7.8723750308553395,
          7.875286688660709,
          7.875286688660709,
          7.875286688660709,
          7.875286688660709,
          7.875286688660709,
          7.875286688660709,
          7.875286688660709,
          7.875286688660709,
          7.875286688660709,
          7.875286688660709,
          7.875286688660709,
          7.875286688660709,
          7.875286688660709,
          7.875286688660709,
          7.875286688660709,
          7.875286688660709,
          7.875286688660709,
          7.878198346466079,
          7.878198346466079,
          7.878198346466079,
          7.878198346466079,
          7.878198346466079,
          7.878198346466079,
          7.878198346466079,
          7.878198346466079,
          7.878198346466079,
          7.878198346466079,
          7.878198346466079,
          7.878198346466079,
          7.878198346466079,
          7.878198346466079,
          7.8811100042714495,
          7.8811100042714495,
          7.8811100042714495,
          7.8811100042714495,
          7.8811100042714495,
          7.8811100042714495,
          7.8811100042714495,
          7.8811100042714495,
          7.8811100042714495,
          7.8811100042714495,
          7.8811100042714495,
          7.8811100042714495,
          7.8811100042714495,
          7.8811100042714495,
          7.8811100042714495,
          7.8811100042714495,
          7.88402166207682,
          7.88402166207682,
          7.88402166207682,
          7.88402166207682,
          7.88402166207682,
          7.88402166207682,
          7.88402166207682,
          7.88402166207682,
          7.88402166207682,
          7.88402166207682,
          7.88402166207682,
          7.88402166207682,
          7.88402166207682,
          7.88402166207682,
          7.88402166207682,
          7.88693331988219,
          7.88693331988219,
          7.88693331988219,
          7.88693331988219,
          7.88693331988219,
          7.88693331988219,
          7.88693331988219,
          7.88693331988219,
          7.88693331988219,
          7.88693331988219,
          7.88693331988219,
          7.88693331988219,
          7.88693331988219,
          7.88693331988219,
          7.88693331988219,
          7.88693331988219,
          7.88693331988219,
          7.88693331988219,
          7.88984497768756,
          7.88984497768756,
          7.88984497768756,
          7.88984497768756,
          7.88984497768756,
          7.88984497768756,
          7.88984497768756,
          7.88984497768756,
          7.88984497768756,
          7.88984497768756,
          7.88984497768756,
          7.88984497768756,
          7.88984497768756,
          7.88984497768756,
          7.88984497768756,
          7.88984497768756,
          7.88984497768756,
          7.89275663549293,
          7.89275663549293,
          7.89275663549293,
          7.89275663549293,
          7.89275663549293,
          7.89275663549293,
          7.89275663549293,
          7.89275663549293,
          7.89275663549293,
          7.89275663549293,
          7.89275663549293,
          7.89275663549293,
          7.89275663549293,
          7.89275663549293,
          7.89275663549293,
          7.89275663549293,
          7.8956682932983,
          7.8956682932983,
          7.8956682932983,
          7.8956682932983,
          7.8956682932983,
          7.8956682932983,
          7.8956682932983,
          7.8956682932983,
          7.8956682932983,
          7.8956682932983,
          7.8956682932983,
          7.8956682932983,
          7.8956682932983,
          7.89857995110367,
          7.89857995110367,
          7.89857995110367,
          7.89857995110367,
          7.89857995110367,
          7.89857995110367,
          7.89857995110367,
          7.89857995110367,
          7.89857995110367,
          7.89857995110367,
          7.89857995110367,
          7.89857995110367,
          7.89857995110367,
          7.89857995110367,
          7.89857995110367,
          7.89857995110367,
          7.901491608909041,
          7.901491608909041,
          7.901491608909041,
          7.901491608909041,
          7.901491608909041,
          7.901491608909041,
          7.901491608909041,
          7.901491608909041,
          7.901491608909041,
          7.901491608909041,
          7.901491608909041,
          7.901491608909041,
          7.901491608909041,
          7.901491608909041,
          7.904403266714411,
          7.904403266714411,
          7.904403266714411,
          7.904403266714411,
          7.904403266714411,
          7.904403266714411,
          7.904403266714411,
          7.904403266714411,
          7.904403266714411,
          7.904403266714411,
          7.904403266714411,
          7.904403266714411,
          7.904403266714411,
          7.904403266714411,
          7.904403266714411,
          7.904403266714411,
          7.904403266714411,
          7.904403266714411,
          7.907314924519781,
          7.907314924519781,
          7.907314924519781,
          7.907314924519781,
          7.907314924519781,
          7.907314924519781,
          7.907314924519781,
          7.907314924519781,
          7.907314924519781,
          7.907314924519781,
          7.907314924519781,
          7.907314924519781,
          7.907314924519781,
          7.907314924519781,
          7.910226582325151,
          7.910226582325151,
          7.910226582325151,
          7.910226582325151,
          7.910226582325151,
          7.910226582325151,
          7.910226582325151,
          7.910226582325151,
          7.910226582325151,
          7.910226582325151,
          7.910226582325151,
          7.910226582325151,
          7.910226582325151,
          7.910226582325151,
          7.913138240130521,
          7.913138240130521,
          7.913138240130521,
          7.913138240130521,
          7.913138240130521,
          7.913138240130521,
          7.913138240130521,
          7.913138240130521,
          7.913138240130521,
          7.913138240130521,
          7.913138240130521,
          7.913138240130521,
          7.913138240130521,
          7.913138240130521,
          7.913138240130521,
          7.913138240130521,
          7.913138240130521,
          7.913138240130521,
          7.913138240130521,
          7.916049897935891,
          7.916049897935891,
          7.916049897935891,
          7.916049897935891,
          7.916049897935891,
          7.916049897935891,
          7.916049897935891,
          7.916049897935891,
          7.916049897935891,
          7.916049897935891,
          7.916049897935891,
          7.916049897935891,
          7.916049897935891,
          7.916049897935891,
          7.916049897935891,
          7.916049897935891,
          7.916049897935891,
          7.916049897935891,
          7.918961555741261,
          7.918961555741261,
          7.918961555741261,
          7.918961555741261,
          7.918961555741261,
          7.918961555741261,
          7.918961555741261,
          7.918961555741261,
          7.918961555741261,
          7.918961555741261,
          7.918961555741261,
          7.918961555741261,
          7.918961555741261,
          7.921873213546632,
          7.921873213546632,
          7.921873213546632,
          7.921873213546632,
          7.921873213546632,
          7.921873213546632,
          7.921873213546632,
          7.921873213546632,
          7.921873213546632,
          7.924784871352002,
          7.924784871352002,
          7.924784871352002,
          7.924784871352002,
          7.924784871352002,
          7.924784871352002,
          7.924784871352002,
          7.924784871352002,
          7.924784871352002,
          7.927696529157372,
          7.927696529157372,
          7.927696529157372,
          7.927696529157372,
          7.927696529157372,
          7.927696529157372,
          7.927696529157372,
          7.927696529157372,
          7.927696529157372,
          7.927696529157372,
          7.927696529157372,
          7.927696529157372,
          7.930608186962742,
          7.930608186962742,
          7.930608186962742,
          7.930608186962742,
          7.930608186962742,
          7.930608186962742,
          7.930608186962742,
          7.930608186962742,
          7.933519844768112,
          7.933519844768112,
          7.933519844768112,
          7.933519844768112,
          7.933519844768112,
          7.933519844768112,
          7.933519844768112,
          7.933519844768112,
          7.933519844768112,
          7.933519844768112,
          7.936431502573482,
          7.936431502573482,
          7.936431502573482,
          7.936431502573482,
          7.936431502573482,
          7.936431502573482,
          7.936431502573482,
          7.936431502573482,
          7.9393431603788525,
          7.9393431603788525,
          7.9393431603788525,
          7.9393431603788525,
          7.9393431603788525,
          7.9393431603788525,
          7.9393431603788525,
          7.9393431603788525,
          7.9393431603788525,
          7.9393431603788525,
          7.9393431603788525,
          7.9393431603788525,
          7.9393431603788525,
          7.942254818184223,
          7.942254818184223,
          7.942254818184223,
          7.942254818184223,
          7.942254818184223,
          7.942254818184223,
          7.942254818184223,
          7.945166475989593,
          7.945166475989593,
          7.945166475989593,
          7.945166475989593,
          7.945166475989593,
          7.945166475989593,
          7.945166475989593,
          7.945166475989593,
          7.948078133794963,
          7.948078133794963,
          7.948078133794963,
          7.948078133794963,
          7.948078133794963,
          7.948078133794963,
          7.948078133794963,
          7.948078133794963,
          7.948078133794963,
          7.950989791600333,
          7.950989791600333,
          7.950989791600333,
          7.950989791600333,
          7.953901449405703,
          7.953901449405703,
          7.953901449405703,
          7.953901449405703,
          7.953901449405703,
          7.953901449405703,
          7.953901449405703,
          7.953901449405703,
          7.953901449405703,
          7.956813107211073,
          7.956813107211073,
          7.956813107211073,
          7.956813107211073,
          7.956813107211073,
          7.956813107211073,
          7.956813107211073,
          7.956813107211073,
          7.9597247650164435,
          7.9597247650164435,
          7.9597247650164435,
          7.962636422821814,
          7.962636422821814,
          7.962636422821814,
          7.962636422821814,
          7.962636422821814,
          7.962636422821814,
          7.962636422821814,
          7.962636422821814,
          7.965548080627184,
          7.965548080627184,
          7.965548080627184,
          7.965548080627184,
          7.965548080627184,
          7.9684597384325535,
          7.9684597384325535,
          7.9684597384325535,
          7.971371396237924,
          7.971371396237924,
          7.974283054043294,
          7.974283054043294,
          7.974283054043294,
          7.974283054043294,
          7.974283054043294,
          7.977194711848664,
          7.977194711848664,
          7.977194711848664,
          7.980106369654035,
          7.980106369654035,
          7.980106369654035,
          7.980106369654035,
          7.980106369654035,
          7.980106369654035,
          7.983018027459405,
          7.983018027459405,
          7.983018027459405,
          7.983018027459405,
          7.983018027459405,
          7.983018027459405,
          7.985929685264775,
          7.985929685264775,
          7.985929685264775,
          7.985929685264775,
          7.985929685264775,
          7.988841343070145,
          7.988841343070145,
          7.988841343070145,
          7.988841343070145,
          7.991753000875515,
          7.991753000875515,
          7.991753000875515,
          7.994664658680885,
          7.994664658680885,
          7.994664658680885,
          7.994664658680885,
          7.994664658680885,
          7.994664658680885,
          7.994664658680885,
          7.997576316486255,
          7.997576316486255,
          7.997576316486255,
          7.997576316486255,
          8.000487974291625,
          8.003399632096995,
          8.003399632096995,
          8.003399632096995,
          8.003399632096995,
          8.006311289902365,
          8.006311289902365,
          8.006311289902365,
          8.009222947707736,
          8.009222947707736,
          8.009222947707736,
          8.009222947707736,
          8.009222947707736,
          8.012134605513106,
          8.012134605513106,
          8.015046263318476,
          8.015046263318476,
          8.017957921123847,
          8.017957921123847,
          8.017957921123847,
          8.017957921123847,
          8.017957921123847,
          8.017957921123847,
          8.020869578929217,
          8.023781236734587,
          8.023781236734587,
          8.023781236734587,
          8.026692894539957,
          8.029604552345328,
          8.029604552345328,
          8.029604552345328,
          8.032516210150698,
          8.032516210150698,
          8.032516210150698,
          8.032516210150698,
          8.032516210150698,
          8.032516210150698,
          8.038339525761437,
          8.038339525761437,
          8.038339525761437,
          8.038339525761437,
          8.044162841372177,
          8.044162841372177,
          8.047074499177548,
          8.047074499177548,
          8.047074499177548,
          8.052897814788288,
          8.055809472593658,
          8.055809472593658,
          8.055809472593658,
          8.055809472593658,
          8.058721130399029,
          8.058721130399029,
          8.061632788204399,
          8.06454444600977,
          8.06454444600977,
          8.06454444600977,
          8.06745610381514,
          8.07036776162051,
          8.07327941942588,
          8.079102735036619,
          8.08201439284199,
          8.08492605064736,
          8.08492605064736,
          8.08783770845273,
          8.08783770845273,
          8.08783770845273,
          8.09366102406347,
          8.09366102406347,
          8.09948433967421,
          8.102395997479581,
          8.105307655284951,
          8.11113097089569,
          8.11113097089569,
          8.119865944311801,
          8.122777602117171,
          8.125689259922542,
          8.134424233338652,
          8.140247548949393,
          8.154805837976243,
          8.166452469197724,
          8.178099100419205,
          8.189745731640684,
          8.204304020667536,
          8.230508940915866,
          8.242155572137348
         ],
         "yaxis": "y"
        }
       ],
       "layout": {
        "legend": {
         "tracegroupgap": 0
        },
        "margin": {
         "t": 60
        },
        "template": {
         "data": {
          "bar": [
           {
            "error_x": {
             "color": "#2a3f5f"
            },
            "error_y": {
             "color": "#2a3f5f"
            },
            "marker": {
             "line": {
              "color": "#E5ECF6",
              "width": 0.5
             }
            },
            "type": "bar"
           }
          ],
          "barpolar": [
           {
            "marker": {
             "line": {
              "color": "#E5ECF6",
              "width": 0.5
             }
            },
            "type": "barpolar"
           }
          ],
          "carpet": [
           {
            "aaxis": {
             "endlinecolor": "#2a3f5f",
             "gridcolor": "white",
             "linecolor": "white",
             "minorgridcolor": "white",
             "startlinecolor": "#2a3f5f"
            },
            "baxis": {
             "endlinecolor": "#2a3f5f",
             "gridcolor": "white",
             "linecolor": "white",
             "minorgridcolor": "white",
             "startlinecolor": "#2a3f5f"
            },
            "type": "carpet"
           }
          ],
          "choropleth": [
           {
            "colorbar": {
             "outlinewidth": 0,
             "ticks": ""
            },
            "type": "choropleth"
           }
          ],
          "contour": [
           {
            "colorbar": {
             "outlinewidth": 0,
             "ticks": ""
            },
            "colorscale": [
             [
              0,
              "#0d0887"
             ],
             [
              0.1111111111111111,
              "#46039f"
             ],
             [
              0.2222222222222222,
              "#7201a8"
             ],
             [
              0.3333333333333333,
              "#9c179e"
             ],
             [
              0.4444444444444444,
              "#bd3786"
             ],
             [
              0.5555555555555556,
              "#d8576b"
             ],
             [
              0.6666666666666666,
              "#ed7953"
             ],
             [
              0.7777777777777778,
              "#fb9f3a"
             ],
             [
              0.8888888888888888,
              "#fdca26"
             ],
             [
              1,
              "#f0f921"
             ]
            ],
            "type": "contour"
           }
          ],
          "contourcarpet": [
           {
            "colorbar": {
             "outlinewidth": 0,
             "ticks": ""
            },
            "type": "contourcarpet"
           }
          ],
          "heatmap": [
           {
            "colorbar": {
             "outlinewidth": 0,
             "ticks": ""
            },
            "colorscale": [
             [
              0,
              "#0d0887"
             ],
             [
              0.1111111111111111,
              "#46039f"
             ],
             [
              0.2222222222222222,
              "#7201a8"
             ],
             [
              0.3333333333333333,
              "#9c179e"
             ],
             [
              0.4444444444444444,
              "#bd3786"
             ],
             [
              0.5555555555555556,
              "#d8576b"
             ],
             [
              0.6666666666666666,
              "#ed7953"
             ],
             [
              0.7777777777777778,
              "#fb9f3a"
             ],
             [
              0.8888888888888888,
              "#fdca26"
             ],
             [
              1,
              "#f0f921"
             ]
            ],
            "type": "heatmap"
           }
          ],
          "heatmapgl": [
           {
            "colorbar": {
             "outlinewidth": 0,
             "ticks": ""
            },
            "colorscale": [
             [
              0,
              "#0d0887"
             ],
             [
              0.1111111111111111,
              "#46039f"
             ],
             [
              0.2222222222222222,
              "#7201a8"
             ],
             [
              0.3333333333333333,
              "#9c179e"
             ],
             [
              0.4444444444444444,
              "#bd3786"
             ],
             [
              0.5555555555555556,
              "#d8576b"
             ],
             [
              0.6666666666666666,
              "#ed7953"
             ],
             [
              0.7777777777777778,
              "#fb9f3a"
             ],
             [
              0.8888888888888888,
              "#fdca26"
             ],
             [
              1,
              "#f0f921"
             ]
            ],
            "type": "heatmapgl"
           }
          ],
          "histogram": [
           {
            "marker": {
             "colorbar": {
              "outlinewidth": 0,
              "ticks": ""
             }
            },
            "type": "histogram"
           }
          ],
          "histogram2d": [
           {
            "colorbar": {
             "outlinewidth": 0,
             "ticks": ""
            },
            "colorscale": [
             [
              0,
              "#0d0887"
             ],
             [
              0.1111111111111111,
              "#46039f"
             ],
             [
              0.2222222222222222,
              "#7201a8"
             ],
             [
              0.3333333333333333,
              "#9c179e"
             ],
             [
              0.4444444444444444,
              "#bd3786"
             ],
             [
              0.5555555555555556,
              "#d8576b"
             ],
             [
              0.6666666666666666,
              "#ed7953"
             ],
             [
              0.7777777777777778,
              "#fb9f3a"
             ],
             [
              0.8888888888888888,
              "#fdca26"
             ],
             [
              1,
              "#f0f921"
             ]
            ],
            "type": "histogram2d"
           }
          ],
          "histogram2dcontour": [
           {
            "colorbar": {
             "outlinewidth": 0,
             "ticks": ""
            },
            "colorscale": [
             [
              0,
              "#0d0887"
             ],
             [
              0.1111111111111111,
              "#46039f"
             ],
             [
              0.2222222222222222,
              "#7201a8"
             ],
             [
              0.3333333333333333,
              "#9c179e"
             ],
             [
              0.4444444444444444,
              "#bd3786"
             ],
             [
              0.5555555555555556,
              "#d8576b"
             ],
             [
              0.6666666666666666,
              "#ed7953"
             ],
             [
              0.7777777777777778,
              "#fb9f3a"
             ],
             [
              0.8888888888888888,
              "#fdca26"
             ],
             [
              1,
              "#f0f921"
             ]
            ],
            "type": "histogram2dcontour"
           }
          ],
          "mesh3d": [
           {
            "colorbar": {
             "outlinewidth": 0,
             "ticks": ""
            },
            "type": "mesh3d"
           }
          ],
          "parcoords": [
           {
            "line": {
             "colorbar": {
              "outlinewidth": 0,
              "ticks": ""
             }
            },
            "type": "parcoords"
           }
          ],
          "pie": [
           {
            "automargin": true,
            "type": "pie"
           }
          ],
          "scatter": [
           {
            "marker": {
             "colorbar": {
              "outlinewidth": 0,
              "ticks": ""
             }
            },
            "type": "scatter"
           }
          ],
          "scatter3d": [
           {
            "line": {
             "colorbar": {
              "outlinewidth": 0,
              "ticks": ""
             }
            },
            "marker": {
             "colorbar": {
              "outlinewidth": 0,
              "ticks": ""
             }
            },
            "type": "scatter3d"
           }
          ],
          "scattercarpet": [
           {
            "marker": {
             "colorbar": {
              "outlinewidth": 0,
              "ticks": ""
             }
            },
            "type": "scattercarpet"
           }
          ],
          "scattergeo": [
           {
            "marker": {
             "colorbar": {
              "outlinewidth": 0,
              "ticks": ""
             }
            },
            "type": "scattergeo"
           }
          ],
          "scattergl": [
           {
            "marker": {
             "colorbar": {
              "outlinewidth": 0,
              "ticks": ""
             }
            },
            "type": "scattergl"
           }
          ],
          "scattermapbox": [
           {
            "marker": {
             "colorbar": {
              "outlinewidth": 0,
              "ticks": ""
             }
            },
            "type": "scattermapbox"
           }
          ],
          "scatterpolar": [
           {
            "marker": {
             "colorbar": {
              "outlinewidth": 0,
              "ticks": ""
             }
            },
            "type": "scatterpolar"
           }
          ],
          "scatterpolargl": [
           {
            "marker": {
             "colorbar": {
              "outlinewidth": 0,
              "ticks": ""
             }
            },
            "type": "scatterpolargl"
           }
          ],
          "scatterternary": [
           {
            "marker": {
             "colorbar": {
              "outlinewidth": 0,
              "ticks": ""
             }
            },
            "type": "scatterternary"
           }
          ],
          "surface": [
           {
            "colorbar": {
             "outlinewidth": 0,
             "ticks": ""
            },
            "colorscale": [
             [
              0,
              "#0d0887"
             ],
             [
              0.1111111111111111,
              "#46039f"
             ],
             [
              0.2222222222222222,
              "#7201a8"
             ],
             [
              0.3333333333333333,
              "#9c179e"
             ],
             [
              0.4444444444444444,
              "#bd3786"
             ],
             [
              0.5555555555555556,
              "#d8576b"
             ],
             [
              0.6666666666666666,
              "#ed7953"
             ],
             [
              0.7777777777777778,
              "#fb9f3a"
             ],
             [
              0.8888888888888888,
              "#fdca26"
             ],
             [
              1,
              "#f0f921"
             ]
            ],
            "type": "surface"
           }
          ],
          "table": [
           {
            "cells": {
             "fill": {
              "color": "#EBF0F8"
             },
             "line": {
              "color": "white"
             }
            },
            "header": {
             "fill": {
              "color": "#C8D4E3"
             },
             "line": {
              "color": "white"
             }
            },
            "type": "table"
           }
          ]
         },
         "layout": {
          "annotationdefaults": {
           "arrowcolor": "#2a3f5f",
           "arrowhead": 0,
           "arrowwidth": 1
          },
          "coloraxis": {
           "colorbar": {
            "outlinewidth": 0,
            "ticks": ""
           }
          },
          "colorscale": {
           "diverging": [
            [
             0,
             "#8e0152"
            ],
            [
             0.1,
             "#c51b7d"
            ],
            [
             0.2,
             "#de77ae"
            ],
            [
             0.3,
             "#f1b6da"
            ],
            [
             0.4,
             "#fde0ef"
            ],
            [
             0.5,
             "#f7f7f7"
            ],
            [
             0.6,
             "#e6f5d0"
            ],
            [
             0.7,
             "#b8e186"
            ],
            [
             0.8,
             "#7fbc41"
            ],
            [
             0.9,
             "#4d9221"
            ],
            [
             1,
             "#276419"
            ]
           ],
           "sequential": [
            [
             0,
             "#0d0887"
            ],
            [
             0.1111111111111111,
             "#46039f"
            ],
            [
             0.2222222222222222,
             "#7201a8"
            ],
            [
             0.3333333333333333,
             "#9c179e"
            ],
            [
             0.4444444444444444,
             "#bd3786"
            ],
            [
             0.5555555555555556,
             "#d8576b"
            ],
            [
             0.6666666666666666,
             "#ed7953"
            ],
            [
             0.7777777777777778,
             "#fb9f3a"
            ],
            [
             0.8888888888888888,
             "#fdca26"
            ],
            [
             1,
             "#f0f921"
            ]
           ],
           "sequentialminus": [
            [
             0,
             "#0d0887"
            ],
            [
             0.1111111111111111,
             "#46039f"
            ],
            [
             0.2222222222222222,
             "#7201a8"
            ],
            [
             0.3333333333333333,
             "#9c179e"
            ],
            [
             0.4444444444444444,
             "#bd3786"
            ],
            [
             0.5555555555555556,
             "#d8576b"
            ],
            [
             0.6666666666666666,
             "#ed7953"
            ],
            [
             0.7777777777777778,
             "#fb9f3a"
            ],
            [
             0.8888888888888888,
             "#fdca26"
            ],
            [
             1,
             "#f0f921"
            ]
           ]
          },
          "colorway": [
           "#636efa",
           "#EF553B",
           "#00cc96",
           "#ab63fa",
           "#FFA15A",
           "#19d3f3",
           "#FF6692",
           "#B6E880",
           "#FF97FF",
           "#FECB52"
          ],
          "font": {
           "color": "#2a3f5f"
          },
          "geo": {
           "bgcolor": "white",
           "lakecolor": "white",
           "landcolor": "#E5ECF6",
           "showlakes": true,
           "showland": true,
           "subunitcolor": "white"
          },
          "hoverlabel": {
           "align": "left"
          },
          "hovermode": "closest",
          "mapbox": {
           "style": "light"
          },
          "paper_bgcolor": "white",
          "plot_bgcolor": "#E5ECF6",
          "polar": {
           "angularaxis": {
            "gridcolor": "white",
            "linecolor": "white",
            "ticks": ""
           },
           "bgcolor": "#E5ECF6",
           "radialaxis": {
            "gridcolor": "white",
            "linecolor": "white",
            "ticks": ""
           }
          },
          "scene": {
           "xaxis": {
            "backgroundcolor": "#E5ECF6",
            "gridcolor": "white",
            "gridwidth": 2,
            "linecolor": "white",
            "showbackground": true,
            "ticks": "",
            "zerolinecolor": "white"
           },
           "yaxis": {
            "backgroundcolor": "#E5ECF6",
            "gridcolor": "white",
            "gridwidth": 2,
            "linecolor": "white",
            "showbackground": true,
            "ticks": "",
            "zerolinecolor": "white"
           },
           "zaxis": {
            "backgroundcolor": "#E5ECF6",
            "gridcolor": "white",
            "gridwidth": 2,
            "linecolor": "white",
            "showbackground": true,
            "ticks": "",
            "zerolinecolor": "white"
           }
          },
          "shapedefaults": {
           "line": {
            "color": "#2a3f5f"
           }
          },
          "ternary": {
           "aaxis": {
            "gridcolor": "white",
            "linecolor": "white",
            "ticks": ""
           },
           "baxis": {
            "gridcolor": "white",
            "linecolor": "white",
            "ticks": ""
           },
           "bgcolor": "#E5ECF6",
           "caxis": {
            "gridcolor": "white",
            "linecolor": "white",
            "ticks": ""
           }
          },
          "title": {
           "x": 0.05
          },
          "xaxis": {
           "automargin": true,
           "gridcolor": "white",
           "linecolor": "white",
           "ticks": "",
           "title": {
            "standoff": 15
           },
           "zerolinecolor": "white",
           "zerolinewidth": 2
          },
          "yaxis": {
           "automargin": true,
           "gridcolor": "white",
           "linecolor": "white",
           "ticks": "",
           "title": {
            "standoff": 15
           },
           "zerolinecolor": "white",
           "zerolinewidth": 2
          }
         }
        },
        "xaxis": {
         "anchor": "y",
         "domain": [
          0,
          1
         ],
         "title": {
          "text": "duration"
         }
        },
        "yaxis": {
         "anchor": "x",
         "domain": [
          0,
          1
         ],
         "title": {
          "text": "star_rating"
         }
        }
       }
      },
      "text/html": [
       "<div>                            <div id=\"16c9771e-64d5-4796-8eeb-485594b383c1\" class=\"plotly-graph-div\" style=\"height:525px; width:100%;\"></div>            <script type=\"text/javascript\">                require([\"plotly\"], function(Plotly) {                    window.PLOTLYENV=window.PLOTLYENV || {};                                    if (document.getElementById(\"16c9771e-64d5-4796-8eeb-485594b383c1\")) {                    Plotly.newPlot(                        \"16c9771e-64d5-4796-8eeb-485594b383c1\",                        [{\"hovertemplate\": \"duration=%{x}<br>star_rating=%{y}<extra></extra>\", \"legendgroup\": \"\", \"marker\": {\"color\": \"green\", \"symbol\": \"circle\"}, \"mode\": \"markers\", \"name\": \"\", \"orientation\": \"v\", \"showlegend\": false, \"type\": \"scatter\", \"x\": [142, 175, 200, 152, 154, 96, 161, 201, 195, 139, 178, 148, 124, 142, 179, 169, 133, 207, 146, 121, 136, 130, 130, 106, 127, 116, 175, 118, 110, 87, 125, 112, 102, 107, 119, 87, 169, 115, 112, 109, 189, 110, 150, 165, 155, 137, 113, 165, 95, 151, 155, 153, 125, 130, 116, 89, 137, 117, 88, 165, 170, 89, 146, 99, 98, 116, 156, 122, 149, 134, 122, 136, 157, 123, 119, 137, 128, 120, 229, 107, 134, 103, 177, 129, 102, 216, 136, 93, 68, 189, 99, 108, 113, 181, 103, 138, 110, 129, 88, 160, 126, 91, 116, 125, 143, 93, 102, 132, 153, 183, 160, 120, 138, 140, 153, 170, 129, 81, 127, 131, 172, 115, 108, 107, 129, 156, 96, 91, 95, 162, 130, 86, 186, 151, 96, 170, 118, 161, 131, 126, 131, 129, 224, 180, 105, 117, 140, 119, 124, 130, 139, 107, 132, 117, 126, 122, 178, 238, 149, 172, 98, 116, 116, 123, 148, 123, 182, 92, 93, 100, 135, 105, 94, 140, 83, 95, 98, 143, 99, 98, 121, 163, 121, 167, 188, 121, 109, 110, 129, 127, 94, 107, 100, 117, 129, 120, 121, 133, 111, 122, 101, 134, 165, 138, 212, 154, 89, 134, 93, 114, 88, 130, 101, 158, 99, 108, 124, 132, 113, 131, 191, 167, 130, 147, 102, 88, 165, 132, 118, 101, 108, 174, 98, 92, 98, 106, 85, 101, 105, 115, 115, 124, 105, 103, 138, 184, 120, 99, 131, 138, 98, 123, 118, 114, 118, 112, 124, 160, 67, 146, 125, 115, 134, 141, 129, 104, 94, 124, 150, 119, 128, 143, 85, 151, 118, 101, 99, 92, 125, 102, 106, 107, 91, 80, 122, 102, 112, 92, 135, 136, 153, 105, 126, 68, 84, 103, 145, 80, 106, 127, 178, 137, 172, 76, 130, 96, 82, 115, 95, 143, 125, 120, 127, 112, 104, 113, 189, 127, 188, 96, 113, 132, 122, 126, 140, 133, 112, 102, 93, 109, 81, 108, 111, 119, 96, 197, 127, 138, 66, 181, 141, 144, 128, 83, 121, 98, 117, 94, 174, 112, 108, 70, 99, 96, 137, 136, 100, 90, 96, 161, 115, 181, 169, 98, 136, 138, 119, 123, 112, 120, 103, 97, 109, 165, 156, 147, 100, 126, 115, 105, 144, 102, 107, 119, 90, 197, 86, 113, 133, 64, 141, 113, 122, 105, 119, 102, 122, 123, 113, 97, 117, 111, 85, 99, 134, 75, 109, 117, 91, 128, 111, 119, 100, 114, 92, 141, 101, 115, 127, 96, 129, 135, 109, 157, 193, 94, 155, 113, 130, 117, 159, 141, 112, 162, 126, 120, 144, 120, 109, 97, 108, 115, 136, 90, 170, 220, 116, 134, 124, 91, 103, 96, 119, 98, 101, 93, 179, 155, 121, 103, 127, 103, 107, 100, 92, 94, 158, 86, 115, 130, 107, 100, 108, 124, 131, 122, 242, 127, 141, 126, 89, 113, 152, 107, 92, 145, 84, 126, 132, 78, 117, 128, 100, 128, 100, 143, 107, 100, 125, 106, 157, 94, 104, 94, 153, 123, 120, 105, 166, 112, 94, 111, 87, 80, 108, 102, 105, 136, 101, 100, 108, 101, 106, 105, 88, 129, 138, 129, 118, 139, 123, 150, 132, 80, 178, 79, 163, 114, 144, 130, 154, 81, 95, 101, 120, 93, 115, 106, 120, 110, 123, 142, 99, 112, 120, 122, 130, 139, 129, 141, 127, 130, 118, 110, 115, 101, 112, 108, 143, 152, 117, 121, 119, 114, 122, 105, 110, 116, 139, 121, 109, 146, 113, 100, 121, 113, 113, 117, 93, 101, 90, 131, 98, 93, 121, 82, 124, 100, 117, 99, 116, 123, 114, 133, 105, 127, 144, 90, 118, 122, 102, 187, 87, 154, 89, 88, 129, 95, 118, 98, 194, 114, 80, 130, 135, 101, 105, 129, 134, 143, 202, 89, 106, 92, 137, 124, 122, 113, 112, 110, 135, 88, 146, 104, 125, 131, 91, 142, 129, 158, 102, 99, 101, 104, 119, 103, 88, 100, 146, 150, 140, 140, 110, 97, 102, 152, 100, 94, 85, 104, 112, 191, 119, 111, 94, 103, 134, 157, 158, 127, 101, 109, 98, 134, 168, 93, 145, 111, 88, 123, 121, 144, 116, 124, 147, 106, 113, 129, 94, 126, 128, 111, 146, 85, 105, 132, 130, 162, 113, 110, 113, 162, 110, 78, 92, 95, 138, 102, 128, 96, 164, 126, 110, 109, 122, 124, 128, 157, 120, 102, 152, 170, 102, 116, 164, 85, 104, 99, 81, 131, 101, 121, 69, 92, 94, 141, 116, 98, 135, 121, 108, 114, 102, 112, 140, 157, 128, 108, 139, 83, 131, 113, 136, 96, 118, 108, 83, 205, 124, 111, 137, 104, 109, 115, 99, 114, 133, 131, 131, 123, 126, 97, 126, 89, 122, 121, 125, 105, 118, 81, 115, 126, 113, 107, 126, 111, 85, 120, 93, 100, 107, 126, 131, 116, 143, 93, 96, 160, 137, 119, 114, 98, 111, 138, 144, 107, 114, 125, 146, 113, 85, 97, 93, 113, 128, 114, 147, 127, 167, 124, 109, 124, 102, 130, 125, 98, 154, 97, 128, 98, 101, 147, 172, 125, 88, 125, 121, 112, 120, 133, 110, 135, 110, 80, 135, 101, 112, 124, 129, 104, 96, 105, 109, 117, 78, 138, 106, 90, 106, 91, 112, 134, 112, 104, 101, 120, 123, 133, 110, 129, 120, 83, 88, 96, 139, 113, 84, 106, 170, 144, 104, 153, 85, 130, 93, 148, 115, 102, 125, 106, 121, 143, 116, 99, 116, 128, 119, 104, 114, 152, 129, 103, 112, 92, 141, 106, 109, 104, 122, 111, 112, 116, 130, 133, 134, 92, 104, 110, 97, 100, 118, 112, 138, 92, 118, 140, 128, 101, 75, 97, 111, 175, 94, 97, 132, 120, 107, 89, 86, 103, 108, 105, 117, 102, 104, 157, 104, 98, 109, 96, 103, 114, 99, 118, 150, 105, 87, 136, 162, 109, 107, 90, 112, 126, 116, 118, 138, 114, 126], \"xaxis\": \"x\", \"y\": [9.3, 9.2, 9.1, 9.0, 8.9, 8.9, 8.9, 8.9, 8.9, 8.9, 8.8, 8.8, 8.8, 8.8, 8.8, 8.7, 8.7, 8.7, 8.7, 8.7, 8.7, 8.7, 8.7, 8.7, 8.7, 8.6, 8.6, 8.6, 8.6, 8.6, 8.6, 8.6, 8.6, 8.6, 8.6, 8.6, 8.6, 8.6, 8.6, 8.6, 8.5, 8.5, 8.5, 8.5, 8.5, 8.5, 8.5, 8.5, 8.5, 8.5, 8.5, 8.5, 8.5, 8.5, 8.5, 8.5, 8.5, 8.5, 8.5, 8.5, 8.5, 8.5, 8.5, 8.4, 8.4, 8.4, 8.4, 8.4, 8.4, 8.4, 8.4, 8.4, 8.4, 8.4, 8.4, 8.4, 8.4, 8.4, 8.4, 8.4, 8.4, 8.4, 8.4, 8.4, 8.4, 8.4, 8.4, 8.4, 8.4, 8.4, 8.4, 8.4, 8.4, 8.4, 8.4, 8.4, 8.4, 8.4, 8.4, 8.4, 8.3, 8.3, 8.3, 8.3, 8.3, 8.3, 8.3, 8.3, 8.3, 8.3, 8.3, 8.3, 8.3, 8.3, 8.3, 8.3, 8.3, 8.3, 8.3, 8.3, 8.3, 8.3, 8.3, 8.3, 8.3, 8.3, 8.3, 8.3, 8.3, 8.3, 8.3, 8.3, 8.3, 8.3, 8.3, 8.3, 8.3, 8.3, 8.3, 8.3, 8.3, 8.3, 8.3, 8.2, 8.2, 8.2, 8.2, 8.2, 8.2, 8.2, 8.2, 8.2, 8.2, 8.2, 8.2, 8.2, 8.2, 8.2, 8.2, 8.2, 8.2, 8.2, 8.2, 8.2, 8.2, 8.2, 8.2, 8.2, 8.2, 8.2, 8.2, 8.2, 8.2, 8.2, 8.2, 8.2, 8.2, 8.2, 8.2, 8.2, 8.2, 8.2, 8.2, 8.2, 8.2, 8.2, 8.2, 8.2, 8.2, 8.2, 8.2, 8.2, 8.2, 8.2, 8.1, 8.1, 8.1, 8.1, 8.1, 8.1, 8.1, 8.1, 8.1, 8.1, 8.1, 8.1, 8.1, 8.1, 8.1, 8.1, 8.1, 8.1, 8.1, 8.1, 8.1, 8.1, 8.1, 8.1, 8.1, 8.1, 8.1, 8.1, 8.1, 8.1, 8.1, 8.1, 8.1, 8.1, 8.1, 8.1, 8.1, 8.1, 8.1, 8.1, 8.1, 8.1, 8.1, 8.1, 8.1, 8.1, 8.1, 8.1, 8.1, 8.1, 8.1, 8.1, 8.1, 8.1, 8.1, 8.1, 8.1, 8.1, 8.1, 8.1, 8.1, 8.1, 8.1, 8.1, 8.1, 8.1, 8.1, 8.1, 8.1, 8.1, 8.1, 8.1, 8.1, 8.1, 8.1, 8.1, 8.1, 8.1, 8.1, 8.1, 8.1, 8.1, 8.1, 8.1, 8.1, 8.1, 8.1, 8.1, 8.1, 8.1, 8.1, 8.1, 8.1, 8.1, 8.1, 8.1, 8.1, 8.1, 8.1, 8.1, 8.1, 8.1, 8.1, 8.0, 8.0, 8.0, 8.0, 8.0, 8.0, 8.0, 8.0, 8.0, 8.0, 8.0, 8.0, 8.0, 8.0, 8.0, 8.0, 8.0, 8.0, 8.0, 8.0, 8.0, 8.0, 8.0, 8.0, 8.0, 8.0, 8.0, 8.0, 8.0, 8.0, 8.0, 8.0, 8.0, 8.0, 8.0, 8.0, 8.0, 8.0, 8.0, 8.0, 8.0, 8.0, 8.0, 8.0, 8.0, 8.0, 8.0, 8.0, 8.0, 8.0, 8.0, 8.0, 8.0, 8.0, 8.0, 8.0, 8.0, 8.0, 8.0, 8.0, 8.0, 8.0, 8.0, 8.0, 8.0, 8.0, 8.0, 8.0, 8.0, 8.0, 8.0, 8.0, 8.0, 8.0, 8.0, 8.0, 8.0, 8.0, 8.0, 8.0, 8.0, 8.0, 8.0, 8.0, 8.0, 8.0, 8.0, 8.0, 8.0, 8.0, 8.0, 8.0, 8.0, 8.0, 8.0, 8.0, 8.0, 7.9, 7.9, 7.9, 7.9, 7.9, 7.9, 7.9, 7.9, 7.9, 7.9, 7.9, 7.9, 7.9, 7.9, 7.9, 7.9, 7.9, 7.9, 7.9, 7.9, 7.9, 7.9, 7.9, 7.9, 7.9, 7.9, 7.9, 7.9, 7.9, 7.9, 7.9, 7.9, 7.9, 7.9, 7.9, 7.9, 7.9, 7.9, 7.9, 7.9, 7.9, 7.9, 7.9, 7.9, 7.9, 7.9, 7.9, 7.9, 7.9, 7.9, 7.9, 7.9, 7.9, 7.9, 7.9, 7.9, 7.9, 7.9, 7.9, 7.9, 7.9, 7.9, 7.9, 7.9, 7.9, 7.9, 7.9, 7.9, 7.9, 7.9, 7.9, 7.9, 7.9, 7.9, 7.9, 7.8, 7.8, 7.8, 7.8, 7.8, 7.8, 7.8, 7.8, 7.8, 7.8, 7.8, 7.8, 7.8, 7.8, 7.8, 7.8, 7.8, 7.8, 7.8, 7.8, 7.8, 7.8, 7.8, 7.8, 7.8, 7.8, 7.8, 7.8, 7.8, 7.8, 7.8, 7.8, 7.8, 7.8, 7.8, 7.8, 7.8, 7.8, 7.8, 7.8, 7.8, 7.8, 7.8, 7.8, 7.8, 7.8, 7.8, 7.8, 7.8, 7.8, 7.8, 7.8, 7.8, 7.8, 7.8, 7.8, 7.8, 7.8, 7.8, 7.8, 7.8, 7.8, 7.8, 7.8, 7.8, 7.8, 7.8, 7.8, 7.8, 7.8, 7.8, 7.8, 7.8, 7.8, 7.8, 7.8, 7.8, 7.8, 7.8, 7.8, 7.8, 7.8, 7.8, 7.8, 7.8, 7.8, 7.8, 7.8, 7.8, 7.8, 7.8, 7.8, 7.8, 7.8, 7.8, 7.8, 7.8, 7.8, 7.8, 7.8, 7.8, 7.8, 7.8, 7.8, 7.8, 7.8, 7.8, 7.8, 7.8, 7.8, 7.8, 7.8, 7.8, 7.8, 7.8, 7.8, 7.7, 7.7, 7.7, 7.7, 7.7, 7.7, 7.7, 7.7, 7.7, 7.7, 7.7, 7.7, 7.7, 7.7, 7.7, 7.7, 7.7, 7.7, 7.7, 7.7, 7.7, 7.7, 7.7, 7.7, 7.7, 7.7, 7.7, 7.7, 7.7, 7.7, 7.7, 7.7, 7.7, 7.7, 7.7, 7.7, 7.7, 7.7, 7.7, 7.7, 7.7, 7.7, 7.7, 7.7, 7.7, 7.7, 7.7, 7.7, 7.7, 7.7, 7.7, 7.7, 7.7, 7.7, 7.7, 7.7, 7.7, 7.7, 7.7, 7.7, 7.7, 7.7, 7.7, 7.7, 7.7, 7.7, 7.7, 7.7, 7.7, 7.7, 7.7, 7.7, 7.7, 7.7, 7.7, 7.7, 7.7, 7.7, 7.7, 7.7, 7.7, 7.7, 7.7, 7.7, 7.7, 7.7, 7.7, 7.7, 7.7, 7.7, 7.7, 7.7, 7.7, 7.7, 7.7, 7.7, 7.7, 7.7, 7.7, 7.7, 7.7, 7.7, 7.7, 7.7, 7.7, 7.7, 7.7, 7.7, 7.7, 7.7, 7.7, 7.7, 7.7, 7.6, 7.6, 7.6, 7.6, 7.6, 7.6, 7.6, 7.6, 7.6, 7.6, 7.6, 7.6, 7.6, 7.6, 7.6, 7.6, 7.6, 7.6, 7.6, 7.6, 7.6, 7.6, 7.6, 7.6, 7.6, 7.6, 7.6, 7.6, 7.6, 7.6, 7.6, 7.6, 7.6, 7.6, 7.6, 7.6, 7.6, 7.6, 7.6, 7.6, 7.6, 7.6, 7.6, 7.6, 7.6, 7.6, 7.6, 7.6, 7.6, 7.6, 7.6, 7.6, 7.6, 7.6, 7.6, 7.6, 7.6, 7.6, 7.6, 7.6, 7.6, 7.6, 7.6, 7.6, 7.6, 7.6, 7.6, 7.6, 7.6, 7.6, 7.6, 7.6, 7.6, 7.6, 7.6, 7.6, 7.6, 7.6, 7.6, 7.6, 7.6, 7.6, 7.6, 7.6, 7.6, 7.6, 7.6, 7.6, 7.6, 7.6, 7.6, 7.6, 7.6, 7.6, 7.6, 7.6, 7.6, 7.6, 7.6, 7.6, 7.6, 7.6, 7.6, 7.6, 7.6, 7.6, 7.6, 7.6, 7.6, 7.6, 7.6, 7.6, 7.6, 7.6, 7.6, 7.6, 7.6, 7.6, 7.6, 7.6, 7.6, 7.6, 7.6, 7.6, 7.5, 7.5, 7.5, 7.5, 7.5, 7.5, 7.5, 7.5, 7.5, 7.5, 7.5, 7.5, 7.5, 7.5, 7.5, 7.5, 7.5, 7.5, 7.5, 7.5, 7.5, 7.5, 7.5, 7.5, 7.5, 7.5, 7.5, 7.5, 7.5, 7.5, 7.5, 7.5, 7.5, 7.5, 7.5, 7.5, 7.5, 7.5, 7.5, 7.5, 7.5, 7.5, 7.5, 7.5, 7.5, 7.5, 7.5, 7.5, 7.5, 7.5, 7.5, 7.5, 7.5, 7.5, 7.5, 7.5, 7.5, 7.5, 7.5, 7.5, 7.5, 7.5, 7.5, 7.5, 7.5, 7.5, 7.5, 7.5, 7.5, 7.5, 7.5, 7.5, 7.5, 7.5, 7.5, 7.5, 7.5, 7.5, 7.5, 7.5, 7.5, 7.5, 7.5, 7.5, 7.5, 7.5, 7.5, 7.5, 7.5, 7.5, 7.5, 7.5, 7.5, 7.5, 7.5, 7.5, 7.5, 7.5, 7.5, 7.5, 7.5, 7.5, 7.5, 7.5, 7.5, 7.5, 7.5, 7.5, 7.4, 7.4, 7.4, 7.4, 7.4, 7.4, 7.4, 7.4, 7.4, 7.4, 7.4, 7.4, 7.4, 7.4, 7.4, 7.4, 7.4, 7.4, 7.4, 7.4, 7.4, 7.4, 7.4, 7.4, 7.4, 7.4, 7.4, 7.4, 7.4, 7.4, 7.4, 7.4, 7.4, 7.4, 7.4, 7.4, 7.4, 7.4, 7.4, 7.4, 7.4, 7.4, 7.4, 7.4, 7.4, 7.4, 7.4, 7.4, 7.4], \"yaxis\": \"y\"}, {\"hovertemplate\": \"<b>OLS trendline</b><br>star_rating = 0.00291166 * duration + 7.53753<br>R<sup>2</sup>=0.051597<br><br>duration=%{x}<br>star_rating=%{y} <b>(trend)</b><extra></extra>\", \"legendgroup\": \"\", \"marker\": {\"color\": \"green\", \"symbol\": \"circle\"}, \"mode\": \"lines\", \"name\": \"\", \"showlegend\": false, \"type\": \"scatter\", \"x\": [64, 66, 67, 68, 68, 69, 70, 75, 75, 76, 78, 78, 78, 79, 80, 80, 80, 80, 80, 80, 81, 81, 81, 81, 81, 82, 82, 83, 83, 83, 83, 83, 84, 84, 84, 85, 85, 85, 85, 85, 85, 85, 85, 85, 86, 86, 86, 86, 87, 87, 87, 87, 87, 88, 88, 88, 88, 88, 88, 88, 88, 88, 88, 88, 89, 89, 89, 89, 89, 89, 89, 89, 90, 90, 90, 90, 90, 90, 90, 91, 91, 91, 91, 91, 91, 91, 92, 92, 92, 92, 92, 92, 92, 92, 92, 92, 92, 92, 92, 93, 93, 93, 93, 93, 93, 93, 93, 93, 93, 93, 93, 93, 93, 94, 94, 94, 94, 94, 94, 94, 94, 94, 94, 94, 94, 94, 94, 95, 95, 95, 95, 95, 95, 95, 96, 96, 96, 96, 96, 96, 96, 96, 96, 96, 96, 96, 96, 96, 96, 96, 97, 97, 97, 97, 97, 97, 97, 97, 97, 97, 98, 98, 98, 98, 98, 98, 98, 98, 98, 98, 98, 98, 98, 98, 98, 98, 98, 98, 99, 99, 99, 99, 99, 99, 99, 99, 99, 99, 99, 99, 99, 99, 99, 100, 100, 100, 100, 100, 100, 100, 100, 100, 100, 100, 100, 100, 100, 100, 100, 100, 101, 101, 101, 101, 101, 101, 101, 101, 101, 101, 101, 101, 101, 101, 101, 101, 101, 101, 101, 101, 102, 102, 102, 102, 102, 102, 102, 102, 102, 102, 102, 102, 102, 102, 102, 102, 102, 102, 102, 102, 103, 103, 103, 103, 103, 103, 103, 103, 103, 103, 103, 103, 103, 104, 104, 104, 104, 104, 104, 104, 104, 104, 104, 104, 104, 104, 104, 104, 104, 105, 105, 105, 105, 105, 105, 105, 105, 105, 105, 105, 105, 105, 105, 105, 105, 105, 105, 106, 106, 106, 106, 106, 106, 106, 106, 106, 106, 106, 106, 106, 106, 107, 107, 107, 107, 107, 107, 107, 107, 107, 107, 107, 107, 107, 107, 107, 107, 108, 108, 108, 108, 108, 108, 108, 108, 108, 108, 108, 108, 108, 108, 108, 109, 109, 109, 109, 109, 109, 109, 109, 109, 109, 109, 109, 109, 109, 109, 109, 110, 110, 110, 110, 110, 110, 110, 110, 110, 110, 110, 110, 110, 110, 110, 110, 111, 111, 111, 111, 111, 111, 111, 111, 111, 111, 111, 111, 111, 112, 112, 112, 112, 112, 112, 112, 112, 112, 112, 112, 112, 112, 112, 112, 112, 112, 112, 112, 112, 112, 112, 112, 113, 113, 113, 113, 113, 113, 113, 113, 113, 113, 113, 113, 113, 113, 113, 113, 113, 113, 113, 113, 113, 113, 114, 114, 114, 114, 114, 114, 114, 114, 114, 114, 114, 114, 114, 114, 114, 115, 115, 115, 115, 115, 115, 115, 115, 115, 115, 115, 115, 115, 115, 115, 115, 116, 116, 116, 116, 116, 116, 116, 116, 116, 116, 116, 116, 116, 116, 116, 116, 116, 117, 117, 117, 117, 117, 117, 117, 117, 117, 117, 117, 117, 117, 117, 118, 118, 118, 118, 118, 118, 118, 118, 118, 118, 118, 118, 118, 118, 118, 118, 119, 119, 119, 119, 119, 119, 119, 119, 119, 119, 119, 119, 119, 119, 119, 120, 120, 120, 120, 120, 120, 120, 120, 120, 120, 120, 120, 120, 120, 120, 120, 120, 120, 121, 121, 121, 121, 121, 121, 121, 121, 121, 121, 121, 121, 121, 121, 121, 121, 121, 122, 122, 122, 122, 122, 122, 122, 122, 122, 122, 122, 122, 122, 122, 122, 122, 123, 123, 123, 123, 123, 123, 123, 123, 123, 123, 123, 123, 123, 124, 124, 124, 124, 124, 124, 124, 124, 124, 124, 124, 124, 124, 124, 124, 124, 125, 125, 125, 125, 125, 125, 125, 125, 125, 125, 125, 125, 125, 125, 126, 126, 126, 126, 126, 126, 126, 126, 126, 126, 126, 126, 126, 126, 126, 126, 126, 126, 127, 127, 127, 127, 127, 127, 127, 127, 127, 127, 127, 127, 127, 127, 128, 128, 128, 128, 128, 128, 128, 128, 128, 128, 128, 128, 128, 128, 129, 129, 129, 129, 129, 129, 129, 129, 129, 129, 129, 129, 129, 129, 129, 129, 129, 129, 129, 130, 130, 130, 130, 130, 130, 130, 130, 130, 130, 130, 130, 130, 130, 130, 130, 130, 130, 131, 131, 131, 131, 131, 131, 131, 131, 131, 131, 131, 131, 131, 132, 132, 132, 132, 132, 132, 132, 132, 132, 133, 133, 133, 133, 133, 133, 133, 133, 133, 134, 134, 134, 134, 134, 134, 134, 134, 134, 134, 134, 134, 135, 135, 135, 135, 135, 135, 135, 135, 136, 136, 136, 136, 136, 136, 136, 136, 136, 136, 137, 137, 137, 137, 137, 137, 137, 137, 138, 138, 138, 138, 138, 138, 138, 138, 138, 138, 138, 138, 138, 139, 139, 139, 139, 139, 139, 139, 140, 140, 140, 140, 140, 140, 140, 140, 141, 141, 141, 141, 141, 141, 141, 141, 141, 142, 142, 142, 142, 143, 143, 143, 143, 143, 143, 143, 143, 143, 144, 144, 144, 144, 144, 144, 144, 144, 145, 145, 145, 146, 146, 146, 146, 146, 146, 146, 146, 147, 147, 147, 147, 147, 148, 148, 148, 149, 149, 150, 150, 150, 150, 150, 151, 151, 151, 152, 152, 152, 152, 152, 152, 153, 153, 153, 153, 153, 153, 154, 154, 154, 154, 154, 155, 155, 155, 155, 156, 156, 156, 157, 157, 157, 157, 157, 157, 157, 158, 158, 158, 158, 159, 160, 160, 160, 160, 161, 161, 161, 162, 162, 162, 162, 162, 163, 163, 164, 164, 165, 165, 165, 165, 165, 165, 166, 167, 167, 167, 168, 169, 169, 169, 170, 170, 170, 170, 170, 170, 172, 172, 172, 172, 174, 174, 175, 175, 175, 177, 178, 178, 178, 178, 179, 179, 180, 181, 181, 181, 182, 183, 184, 186, 187, 188, 188, 189, 189, 189, 191, 191, 193, 194, 195, 197, 197, 200, 201, 202, 205, 207, 212, 216, 220, 224, 229, 238, 242], \"xaxis\": \"x\", \"y\": [7.723880482781461, 7.729703798392202, 7.732615456197572, 7.7355271140029425, 7.7355271140029425, 7.738438771808312, 7.741350429613682, 7.7559087186405336, 7.7559087186405336, 7.758820376445903, 7.7646436920566435, 7.7646436920566435, 7.7646436920566435, 7.767555349862014, 7.770467007667384, 7.770467007667384, 7.770467007667384, 7.770467007667384, 7.770467007667384, 7.770467007667384, 7.773378665472754, 7.773378665472754, 7.773378665472754, 7.773378665472754, 7.773378665472754, 7.776290323278124, 7.776290323278124, 7.779201981083494, 7.779201981083494, 7.779201981083494, 7.779201981083494, 7.779201981083494, 7.782113638888864, 7.782113638888864, 7.782113638888864, 7.785025296694235, 7.785025296694235, 7.785025296694235, 7.785025296694235, 7.785025296694235, 7.785025296694235, 7.785025296694235, 7.785025296694235, 7.785025296694235, 7.787936954499605, 7.787936954499605, 7.787936954499605, 7.787936954499605, 7.790848612304975, 7.790848612304975, 7.790848612304975, 7.790848612304975, 7.790848612304975, 7.7937602701103454, 7.7937602701103454, 7.7937602701103454, 7.7937602701103454, 7.7937602701103454, 7.7937602701103454, 7.7937602701103454, 7.7937602701103454, 7.7937602701103454, 7.7937602701103454, 7.7937602701103454, 7.796671927915715, 7.796671927915715, 7.796671927915715, 7.796671927915715, 7.796671927915715, 7.796671927915715, 7.796671927915715, 7.796671927915715, 7.799583585721085, 7.799583585721085, 7.799583585721085, 7.799583585721085, 7.799583585721085, 7.799583585721085, 7.799583585721085, 7.802495243526455, 7.802495243526455, 7.802495243526455, 7.802495243526455, 7.802495243526455, 7.802495243526455, 7.802495243526455, 7.805406901331826, 7.805406901331826, 7.805406901331826, 7.805406901331826, 7.805406901331826, 7.805406901331826, 7.805406901331826, 7.805406901331826, 7.805406901331826, 7.805406901331826, 7.805406901331826, 7.805406901331826, 7.805406901331826, 7.808318559137196, 7.808318559137196, 7.808318559137196, 7.808318559137196, 7.808318559137196, 7.808318559137196, 7.808318559137196, 7.808318559137196, 7.808318559137196, 7.808318559137196, 7.808318559137196, 7.808318559137196, 7.808318559137196, 7.808318559137196, 7.811230216942566, 7.811230216942566, 7.811230216942566, 7.811230216942566, 7.811230216942566, 7.811230216942566, 7.811230216942566, 7.811230216942566, 7.811230216942566, 7.811230216942566, 7.811230216942566, 7.811230216942566, 7.811230216942566, 7.811230216942566, 7.814141874747936, 7.814141874747936, 7.814141874747936, 7.814141874747936, 7.814141874747936, 7.814141874747936, 7.814141874747936, 7.817053532553306, 7.817053532553306, 7.817053532553306, 7.817053532553306, 7.817053532553306, 7.817053532553306, 7.817053532553306, 7.817053532553306, 7.817053532553306, 7.817053532553306, 7.817053532553306, 7.817053532553306, 7.817053532553306, 7.817053532553306, 7.817053532553306, 7.817053532553306, 7.819965190358676, 7.819965190358676, 7.819965190358676, 7.819965190358676, 7.819965190358676, 7.819965190358676, 7.819965190358676, 7.819965190358676, 7.819965190358676, 7.819965190358676, 7.8228768481640465, 7.8228768481640465, 7.8228768481640465, 7.8228768481640465, 7.8228768481640465, 7.8228768481640465, 7.8228768481640465, 7.8228768481640465, 7.8228768481640465, 7.8228768481640465, 7.8228768481640465, 7.8228768481640465, 7.8228768481640465, 7.8228768481640465, 7.8228768481640465, 7.8228768481640465, 7.8228768481640465, 7.8228768481640465, 7.825788505969417, 7.825788505969417, 7.825788505969417, 7.825788505969417, 7.825788505969417, 7.825788505969417, 7.825788505969417, 7.825788505969417, 7.825788505969417, 7.825788505969417, 7.825788505969417, 7.825788505969417, 7.825788505969417, 7.825788505969417, 7.825788505969417, 7.828700163774787, 7.828700163774787, 7.828700163774787, 7.828700163774787, 7.828700163774787, 7.828700163774787, 7.828700163774787, 7.828700163774787, 7.828700163774787, 7.828700163774787, 7.828700163774787, 7.828700163774787, 7.828700163774787, 7.828700163774787, 7.828700163774787, 7.828700163774787, 7.828700163774787, 7.831611821580157, 7.831611821580157, 7.831611821580157, 7.831611821580157, 7.831611821580157, 7.831611821580157, 7.831611821580157, 7.831611821580157, 7.831611821580157, 7.831611821580157, 7.831611821580157, 7.831611821580157, 7.831611821580157, 7.831611821580157, 7.831611821580157, 7.831611821580157, 7.831611821580157, 7.831611821580157, 7.831611821580157, 7.831611821580157, 7.834523479385527, 7.834523479385527, 7.834523479385527, 7.834523479385527, 7.834523479385527, 7.834523479385527, 7.834523479385527, 7.834523479385527, 7.834523479385527, 7.834523479385527, 7.834523479385527, 7.834523479385527, 7.834523479385527, 7.834523479385527, 7.834523479385527, 7.834523479385527, 7.834523479385527, 7.834523479385527, 7.834523479385527, 7.834523479385527, 7.837435137190897, 7.837435137190897, 7.837435137190897, 7.837435137190897, 7.837435137190897, 7.837435137190897, 7.837435137190897, 7.837435137190897, 7.837435137190897, 7.837435137190897, 7.837435137190897, 7.837435137190897, 7.837435137190897, 7.840346794996267, 7.840346794996267, 7.840346794996267, 7.840346794996267, 7.840346794996267, 7.840346794996267, 7.840346794996267, 7.840346794996267, 7.840346794996267, 7.840346794996267, 7.840346794996267, 7.840346794996267, 7.840346794996267, 7.840346794996267, 7.840346794996267, 7.840346794996267, 7.843258452801638, 7.843258452801638, 7.843258452801638, 7.843258452801638, 7.843258452801638, 7.843258452801638, 7.843258452801638, 7.843258452801638, 7.843258452801638, 7.843258452801638, 7.843258452801638, 7.843258452801638, 7.843258452801638, 7.843258452801638, 7.843258452801638, 7.843258452801638, 7.843258452801638, 7.843258452801638, 7.846170110607008, 7.846170110607008, 7.846170110607008, 7.846170110607008, 7.846170110607008, 7.846170110607008, 7.846170110607008, 7.846170110607008, 7.846170110607008, 7.846170110607008, 7.846170110607008, 7.846170110607008, 7.846170110607008, 7.846170110607008, 7.849081768412378, 7.849081768412378, 7.849081768412378, 7.849081768412378, 7.849081768412378, 7.849081768412378, 7.849081768412378, 7.849081768412378, 7.849081768412378, 7.849081768412378, 7.849081768412378, 7.849081768412378, 7.849081768412378, 7.849081768412378, 7.849081768412378, 7.849081768412378, 7.851993426217748, 7.851993426217748, 7.851993426217748, 7.851993426217748, 7.851993426217748, 7.851993426217748, 7.851993426217748, 7.851993426217748, 7.851993426217748, 7.851993426217748, 7.851993426217748, 7.851993426217748, 7.851993426217748, 7.851993426217748, 7.851993426217748, 7.854905084023118, 7.854905084023118, 7.854905084023118, 7.854905084023118, 7.854905084023118, 7.854905084023118, 7.854905084023118, 7.854905084023118, 7.854905084023118, 7.854905084023118, 7.854905084023118, 7.854905084023118, 7.854905084023118, 7.854905084023118, 7.854905084023118, 7.854905084023118, 7.857816741828488, 7.857816741828488, 7.857816741828488, 7.857816741828488, 7.857816741828488, 7.857816741828488, 7.857816741828488, 7.857816741828488, 7.857816741828488, 7.857816741828488, 7.857816741828488, 7.857816741828488, 7.857816741828488, 7.857816741828488, 7.857816741828488, 7.857816741828488, 7.860728399633858, 7.860728399633858, 7.860728399633858, 7.860728399633858, 7.860728399633858, 7.860728399633858, 7.860728399633858, 7.860728399633858, 7.860728399633858, 7.860728399633858, 7.860728399633858, 7.860728399633858, 7.860728399633858, 7.863640057439229, 7.863640057439229, 7.863640057439229, 7.863640057439229, 7.863640057439229, 7.863640057439229, 7.863640057439229, 7.863640057439229, 7.863640057439229, 7.863640057439229, 7.863640057439229, 7.863640057439229, 7.863640057439229, 7.863640057439229, 7.863640057439229, 7.863640057439229, 7.863640057439229, 7.863640057439229, 7.863640057439229, 7.863640057439229, 7.863640057439229, 7.863640057439229, 7.863640057439229, 7.866551715244599, 7.866551715244599, 7.866551715244599, 7.866551715244599, 7.866551715244599, 7.866551715244599, 7.866551715244599, 7.866551715244599, 7.866551715244599, 7.866551715244599, 7.866551715244599, 7.866551715244599, 7.866551715244599, 7.866551715244599, 7.866551715244599, 7.866551715244599, 7.866551715244599, 7.866551715244599, 7.866551715244599, 7.866551715244599, 7.866551715244599, 7.866551715244599, 7.869463373049969, 7.869463373049969, 7.869463373049969, 7.869463373049969, 7.869463373049969, 7.869463373049969, 7.869463373049969, 7.869463373049969, 7.869463373049969, 7.869463373049969, 7.869463373049969, 7.869463373049969, 7.869463373049969, 7.869463373049969, 7.869463373049969, 7.8723750308553395, 7.8723750308553395, 7.8723750308553395, 7.8723750308553395, 7.8723750308553395, 7.8723750308553395, 7.8723750308553395, 7.8723750308553395, 7.8723750308553395, 7.8723750308553395, 7.8723750308553395, 7.8723750308553395, 7.8723750308553395, 7.8723750308553395, 7.8723750308553395, 7.8723750308553395, 7.875286688660709, 7.875286688660709, 7.875286688660709, 7.875286688660709, 7.875286688660709, 7.875286688660709, 7.875286688660709, 7.875286688660709, 7.875286688660709, 7.875286688660709, 7.875286688660709, 7.875286688660709, 7.875286688660709, 7.875286688660709, 7.875286688660709, 7.875286688660709, 7.875286688660709, 7.878198346466079, 7.878198346466079, 7.878198346466079, 7.878198346466079, 7.878198346466079, 7.878198346466079, 7.878198346466079, 7.878198346466079, 7.878198346466079, 7.878198346466079, 7.878198346466079, 7.878198346466079, 7.878198346466079, 7.878198346466079, 7.8811100042714495, 7.8811100042714495, 7.8811100042714495, 7.8811100042714495, 7.8811100042714495, 7.8811100042714495, 7.8811100042714495, 7.8811100042714495, 7.8811100042714495, 7.8811100042714495, 7.8811100042714495, 7.8811100042714495, 7.8811100042714495, 7.8811100042714495, 7.8811100042714495, 7.8811100042714495, 7.88402166207682, 7.88402166207682, 7.88402166207682, 7.88402166207682, 7.88402166207682, 7.88402166207682, 7.88402166207682, 7.88402166207682, 7.88402166207682, 7.88402166207682, 7.88402166207682, 7.88402166207682, 7.88402166207682, 7.88402166207682, 7.88402166207682, 7.88693331988219, 7.88693331988219, 7.88693331988219, 7.88693331988219, 7.88693331988219, 7.88693331988219, 7.88693331988219, 7.88693331988219, 7.88693331988219, 7.88693331988219, 7.88693331988219, 7.88693331988219, 7.88693331988219, 7.88693331988219, 7.88693331988219, 7.88693331988219, 7.88693331988219, 7.88693331988219, 7.88984497768756, 7.88984497768756, 7.88984497768756, 7.88984497768756, 7.88984497768756, 7.88984497768756, 7.88984497768756, 7.88984497768756, 7.88984497768756, 7.88984497768756, 7.88984497768756, 7.88984497768756, 7.88984497768756, 7.88984497768756, 7.88984497768756, 7.88984497768756, 7.88984497768756, 7.89275663549293, 7.89275663549293, 7.89275663549293, 7.89275663549293, 7.89275663549293, 7.89275663549293, 7.89275663549293, 7.89275663549293, 7.89275663549293, 7.89275663549293, 7.89275663549293, 7.89275663549293, 7.89275663549293, 7.89275663549293, 7.89275663549293, 7.89275663549293, 7.8956682932983, 7.8956682932983, 7.8956682932983, 7.8956682932983, 7.8956682932983, 7.8956682932983, 7.8956682932983, 7.8956682932983, 7.8956682932983, 7.8956682932983, 7.8956682932983, 7.8956682932983, 7.8956682932983, 7.89857995110367, 7.89857995110367, 7.89857995110367, 7.89857995110367, 7.89857995110367, 7.89857995110367, 7.89857995110367, 7.89857995110367, 7.89857995110367, 7.89857995110367, 7.89857995110367, 7.89857995110367, 7.89857995110367, 7.89857995110367, 7.89857995110367, 7.89857995110367, 7.901491608909041, 7.901491608909041, 7.901491608909041, 7.901491608909041, 7.901491608909041, 7.901491608909041, 7.901491608909041, 7.901491608909041, 7.901491608909041, 7.901491608909041, 7.901491608909041, 7.901491608909041, 7.901491608909041, 7.901491608909041, 7.904403266714411, 7.904403266714411, 7.904403266714411, 7.904403266714411, 7.904403266714411, 7.904403266714411, 7.904403266714411, 7.904403266714411, 7.904403266714411, 7.904403266714411, 7.904403266714411, 7.904403266714411, 7.904403266714411, 7.904403266714411, 7.904403266714411, 7.904403266714411, 7.904403266714411, 7.904403266714411, 7.907314924519781, 7.907314924519781, 7.907314924519781, 7.907314924519781, 7.907314924519781, 7.907314924519781, 7.907314924519781, 7.907314924519781, 7.907314924519781, 7.907314924519781, 7.907314924519781, 7.907314924519781, 7.907314924519781, 7.907314924519781, 7.910226582325151, 7.910226582325151, 7.910226582325151, 7.910226582325151, 7.910226582325151, 7.910226582325151, 7.910226582325151, 7.910226582325151, 7.910226582325151, 7.910226582325151, 7.910226582325151, 7.910226582325151, 7.910226582325151, 7.910226582325151, 7.913138240130521, 7.913138240130521, 7.913138240130521, 7.913138240130521, 7.913138240130521, 7.913138240130521, 7.913138240130521, 7.913138240130521, 7.913138240130521, 7.913138240130521, 7.913138240130521, 7.913138240130521, 7.913138240130521, 7.913138240130521, 7.913138240130521, 7.913138240130521, 7.913138240130521, 7.913138240130521, 7.913138240130521, 7.916049897935891, 7.916049897935891, 7.916049897935891, 7.916049897935891, 7.916049897935891, 7.916049897935891, 7.916049897935891, 7.916049897935891, 7.916049897935891, 7.916049897935891, 7.916049897935891, 7.916049897935891, 7.916049897935891, 7.916049897935891, 7.916049897935891, 7.916049897935891, 7.916049897935891, 7.916049897935891, 7.918961555741261, 7.918961555741261, 7.918961555741261, 7.918961555741261, 7.918961555741261, 7.918961555741261, 7.918961555741261, 7.918961555741261, 7.918961555741261, 7.918961555741261, 7.918961555741261, 7.918961555741261, 7.918961555741261, 7.921873213546632, 7.921873213546632, 7.921873213546632, 7.921873213546632, 7.921873213546632, 7.921873213546632, 7.921873213546632, 7.921873213546632, 7.921873213546632, 7.924784871352002, 7.924784871352002, 7.924784871352002, 7.924784871352002, 7.924784871352002, 7.924784871352002, 7.924784871352002, 7.924784871352002, 7.924784871352002, 7.927696529157372, 7.927696529157372, 7.927696529157372, 7.927696529157372, 7.927696529157372, 7.927696529157372, 7.927696529157372, 7.927696529157372, 7.927696529157372, 7.927696529157372, 7.927696529157372, 7.927696529157372, 7.930608186962742, 7.930608186962742, 7.930608186962742, 7.930608186962742, 7.930608186962742, 7.930608186962742, 7.930608186962742, 7.930608186962742, 7.933519844768112, 7.933519844768112, 7.933519844768112, 7.933519844768112, 7.933519844768112, 7.933519844768112, 7.933519844768112, 7.933519844768112, 7.933519844768112, 7.933519844768112, 7.936431502573482, 7.936431502573482, 7.936431502573482, 7.936431502573482, 7.936431502573482, 7.936431502573482, 7.936431502573482, 7.936431502573482, 7.9393431603788525, 7.9393431603788525, 7.9393431603788525, 7.9393431603788525, 7.9393431603788525, 7.9393431603788525, 7.9393431603788525, 7.9393431603788525, 7.9393431603788525, 7.9393431603788525, 7.9393431603788525, 7.9393431603788525, 7.9393431603788525, 7.942254818184223, 7.942254818184223, 7.942254818184223, 7.942254818184223, 7.942254818184223, 7.942254818184223, 7.942254818184223, 7.945166475989593, 7.945166475989593, 7.945166475989593, 7.945166475989593, 7.945166475989593, 7.945166475989593, 7.945166475989593, 7.945166475989593, 7.948078133794963, 7.948078133794963, 7.948078133794963, 7.948078133794963, 7.948078133794963, 7.948078133794963, 7.948078133794963, 7.948078133794963, 7.948078133794963, 7.950989791600333, 7.950989791600333, 7.950989791600333, 7.950989791600333, 7.953901449405703, 7.953901449405703, 7.953901449405703, 7.953901449405703, 7.953901449405703, 7.953901449405703, 7.953901449405703, 7.953901449405703, 7.953901449405703, 7.956813107211073, 7.956813107211073, 7.956813107211073, 7.956813107211073, 7.956813107211073, 7.956813107211073, 7.956813107211073, 7.956813107211073, 7.9597247650164435, 7.9597247650164435, 7.9597247650164435, 7.962636422821814, 7.962636422821814, 7.962636422821814, 7.962636422821814, 7.962636422821814, 7.962636422821814, 7.962636422821814, 7.962636422821814, 7.965548080627184, 7.965548080627184, 7.965548080627184, 7.965548080627184, 7.965548080627184, 7.9684597384325535, 7.9684597384325535, 7.9684597384325535, 7.971371396237924, 7.971371396237924, 7.974283054043294, 7.974283054043294, 7.974283054043294, 7.974283054043294, 7.974283054043294, 7.977194711848664, 7.977194711848664, 7.977194711848664, 7.980106369654035, 7.980106369654035, 7.980106369654035, 7.980106369654035, 7.980106369654035, 7.980106369654035, 7.983018027459405, 7.983018027459405, 7.983018027459405, 7.983018027459405, 7.983018027459405, 7.983018027459405, 7.985929685264775, 7.985929685264775, 7.985929685264775, 7.985929685264775, 7.985929685264775, 7.988841343070145, 7.988841343070145, 7.988841343070145, 7.988841343070145, 7.991753000875515, 7.991753000875515, 7.991753000875515, 7.994664658680885, 7.994664658680885, 7.994664658680885, 7.994664658680885, 7.994664658680885, 7.994664658680885, 7.994664658680885, 7.997576316486255, 7.997576316486255, 7.997576316486255, 7.997576316486255, 8.000487974291625, 8.003399632096995, 8.003399632096995, 8.003399632096995, 8.003399632096995, 8.006311289902365, 8.006311289902365, 8.006311289902365, 8.009222947707736, 8.009222947707736, 8.009222947707736, 8.009222947707736, 8.009222947707736, 8.012134605513106, 8.012134605513106, 8.015046263318476, 8.015046263318476, 8.017957921123847, 8.017957921123847, 8.017957921123847, 8.017957921123847, 8.017957921123847, 8.017957921123847, 8.020869578929217, 8.023781236734587, 8.023781236734587, 8.023781236734587, 8.026692894539957, 8.029604552345328, 8.029604552345328, 8.029604552345328, 8.032516210150698, 8.032516210150698, 8.032516210150698, 8.032516210150698, 8.032516210150698, 8.032516210150698, 8.038339525761437, 8.038339525761437, 8.038339525761437, 8.038339525761437, 8.044162841372177, 8.044162841372177, 8.047074499177548, 8.047074499177548, 8.047074499177548, 8.052897814788288, 8.055809472593658, 8.055809472593658, 8.055809472593658, 8.055809472593658, 8.058721130399029, 8.058721130399029, 8.061632788204399, 8.06454444600977, 8.06454444600977, 8.06454444600977, 8.06745610381514, 8.07036776162051, 8.07327941942588, 8.079102735036619, 8.08201439284199, 8.08492605064736, 8.08492605064736, 8.08783770845273, 8.08783770845273, 8.08783770845273, 8.09366102406347, 8.09366102406347, 8.09948433967421, 8.102395997479581, 8.105307655284951, 8.11113097089569, 8.11113097089569, 8.119865944311801, 8.122777602117171, 8.125689259922542, 8.134424233338652, 8.140247548949393, 8.154805837976243, 8.166452469197724, 8.178099100419205, 8.189745731640684, 8.204304020667536, 8.230508940915866, 8.242155572137348], \"yaxis\": \"y\"}],                        {\"legend\": {\"tracegroupgap\": 0}, \"margin\": {\"t\": 60}, \"template\": {\"data\": {\"bar\": [{\"error_x\": {\"color\": \"#2a3f5f\"}, \"error_y\": {\"color\": \"#2a3f5f\"}, \"marker\": {\"line\": {\"color\": \"#E5ECF6\", \"width\": 0.5}}, \"type\": \"bar\"}], \"barpolar\": [{\"marker\": {\"line\": {\"color\": \"#E5ECF6\", \"width\": 0.5}}, \"type\": \"barpolar\"}], \"carpet\": [{\"aaxis\": {\"endlinecolor\": \"#2a3f5f\", \"gridcolor\": \"white\", \"linecolor\": \"white\", \"minorgridcolor\": \"white\", \"startlinecolor\": \"#2a3f5f\"}, \"baxis\": {\"endlinecolor\": \"#2a3f5f\", \"gridcolor\": \"white\", \"linecolor\": \"white\", \"minorgridcolor\": \"white\", \"startlinecolor\": \"#2a3f5f\"}, \"type\": \"carpet\"}], \"choropleth\": [{\"colorbar\": {\"outlinewidth\": 0, \"ticks\": \"\"}, \"type\": \"choropleth\"}], \"contour\": [{\"colorbar\": {\"outlinewidth\": 0, \"ticks\": \"\"}, \"colorscale\": [[0.0, \"#0d0887\"], [0.1111111111111111, \"#46039f\"], [0.2222222222222222, \"#7201a8\"], [0.3333333333333333, \"#9c179e\"], [0.4444444444444444, \"#bd3786\"], [0.5555555555555556, \"#d8576b\"], [0.6666666666666666, \"#ed7953\"], [0.7777777777777778, \"#fb9f3a\"], [0.8888888888888888, \"#fdca26\"], [1.0, \"#f0f921\"]], \"type\": \"contour\"}], \"contourcarpet\": [{\"colorbar\": {\"outlinewidth\": 0, \"ticks\": \"\"}, \"type\": \"contourcarpet\"}], \"heatmap\": [{\"colorbar\": {\"outlinewidth\": 0, \"ticks\": \"\"}, \"colorscale\": [[0.0, \"#0d0887\"], [0.1111111111111111, \"#46039f\"], [0.2222222222222222, \"#7201a8\"], [0.3333333333333333, \"#9c179e\"], [0.4444444444444444, \"#bd3786\"], [0.5555555555555556, \"#d8576b\"], [0.6666666666666666, \"#ed7953\"], [0.7777777777777778, \"#fb9f3a\"], [0.8888888888888888, \"#fdca26\"], [1.0, \"#f0f921\"]], \"type\": \"heatmap\"}], \"heatmapgl\": [{\"colorbar\": {\"outlinewidth\": 0, \"ticks\": \"\"}, \"colorscale\": [[0.0, \"#0d0887\"], [0.1111111111111111, \"#46039f\"], [0.2222222222222222, \"#7201a8\"], [0.3333333333333333, \"#9c179e\"], [0.4444444444444444, \"#bd3786\"], [0.5555555555555556, \"#d8576b\"], [0.6666666666666666, \"#ed7953\"], [0.7777777777777778, \"#fb9f3a\"], [0.8888888888888888, \"#fdca26\"], [1.0, \"#f0f921\"]], \"type\": \"heatmapgl\"}], \"histogram\": [{\"marker\": {\"colorbar\": {\"outlinewidth\": 0, \"ticks\": \"\"}}, \"type\": \"histogram\"}], \"histogram2d\": [{\"colorbar\": {\"outlinewidth\": 0, \"ticks\": \"\"}, \"colorscale\": [[0.0, \"#0d0887\"], [0.1111111111111111, \"#46039f\"], [0.2222222222222222, \"#7201a8\"], [0.3333333333333333, \"#9c179e\"], [0.4444444444444444, \"#bd3786\"], [0.5555555555555556, \"#d8576b\"], [0.6666666666666666, \"#ed7953\"], [0.7777777777777778, \"#fb9f3a\"], [0.8888888888888888, \"#fdca26\"], [1.0, \"#f0f921\"]], \"type\": \"histogram2d\"}], \"histogram2dcontour\": [{\"colorbar\": {\"outlinewidth\": 0, \"ticks\": \"\"}, \"colorscale\": [[0.0, \"#0d0887\"], [0.1111111111111111, \"#46039f\"], [0.2222222222222222, \"#7201a8\"], [0.3333333333333333, \"#9c179e\"], [0.4444444444444444, \"#bd3786\"], [0.5555555555555556, \"#d8576b\"], [0.6666666666666666, \"#ed7953\"], [0.7777777777777778, \"#fb9f3a\"], [0.8888888888888888, \"#fdca26\"], [1.0, \"#f0f921\"]], \"type\": \"histogram2dcontour\"}], \"mesh3d\": [{\"colorbar\": {\"outlinewidth\": 0, \"ticks\": \"\"}, \"type\": \"mesh3d\"}], \"parcoords\": [{\"line\": {\"colorbar\": {\"outlinewidth\": 0, \"ticks\": \"\"}}, \"type\": \"parcoords\"}], \"pie\": [{\"automargin\": true, \"type\": \"pie\"}], \"scatter\": [{\"marker\": {\"colorbar\": {\"outlinewidth\": 0, \"ticks\": \"\"}}, \"type\": \"scatter\"}], \"scatter3d\": [{\"line\": {\"colorbar\": {\"outlinewidth\": 0, \"ticks\": \"\"}}, \"marker\": {\"colorbar\": {\"outlinewidth\": 0, \"ticks\": \"\"}}, \"type\": \"scatter3d\"}], \"scattercarpet\": [{\"marker\": {\"colorbar\": {\"outlinewidth\": 0, \"ticks\": \"\"}}, \"type\": \"scattercarpet\"}], \"scattergeo\": [{\"marker\": {\"colorbar\": {\"outlinewidth\": 0, \"ticks\": \"\"}}, \"type\": \"scattergeo\"}], \"scattergl\": [{\"marker\": {\"colorbar\": {\"outlinewidth\": 0, \"ticks\": \"\"}}, \"type\": \"scattergl\"}], \"scattermapbox\": [{\"marker\": {\"colorbar\": {\"outlinewidth\": 0, \"ticks\": \"\"}}, \"type\": \"scattermapbox\"}], \"scatterpolar\": [{\"marker\": {\"colorbar\": {\"outlinewidth\": 0, \"ticks\": \"\"}}, \"type\": \"scatterpolar\"}], \"scatterpolargl\": [{\"marker\": {\"colorbar\": {\"outlinewidth\": 0, \"ticks\": \"\"}}, \"type\": \"scatterpolargl\"}], \"scatterternary\": [{\"marker\": {\"colorbar\": {\"outlinewidth\": 0, \"ticks\": \"\"}}, \"type\": \"scatterternary\"}], \"surface\": [{\"colorbar\": {\"outlinewidth\": 0, \"ticks\": \"\"}, \"colorscale\": [[0.0, \"#0d0887\"], [0.1111111111111111, \"#46039f\"], [0.2222222222222222, \"#7201a8\"], [0.3333333333333333, \"#9c179e\"], [0.4444444444444444, \"#bd3786\"], [0.5555555555555556, \"#d8576b\"], [0.6666666666666666, \"#ed7953\"], [0.7777777777777778, \"#fb9f3a\"], [0.8888888888888888, \"#fdca26\"], [1.0, \"#f0f921\"]], \"type\": \"surface\"}], \"table\": [{\"cells\": {\"fill\": {\"color\": \"#EBF0F8\"}, \"line\": {\"color\": \"white\"}}, \"header\": {\"fill\": {\"color\": \"#C8D4E3\"}, \"line\": {\"color\": \"white\"}}, \"type\": \"table\"}]}, \"layout\": {\"annotationdefaults\": {\"arrowcolor\": \"#2a3f5f\", \"arrowhead\": 0, \"arrowwidth\": 1}, \"coloraxis\": {\"colorbar\": {\"outlinewidth\": 0, \"ticks\": \"\"}}, \"colorscale\": {\"diverging\": [[0, \"#8e0152\"], [0.1, \"#c51b7d\"], [0.2, \"#de77ae\"], [0.3, \"#f1b6da\"], [0.4, \"#fde0ef\"], [0.5, \"#f7f7f7\"], [0.6, \"#e6f5d0\"], [0.7, \"#b8e186\"], [0.8, \"#7fbc41\"], [0.9, \"#4d9221\"], [1, \"#276419\"]], \"sequential\": [[0.0, \"#0d0887\"], [0.1111111111111111, \"#46039f\"], [0.2222222222222222, \"#7201a8\"], [0.3333333333333333, \"#9c179e\"], [0.4444444444444444, \"#bd3786\"], [0.5555555555555556, \"#d8576b\"], [0.6666666666666666, \"#ed7953\"], [0.7777777777777778, \"#fb9f3a\"], [0.8888888888888888, \"#fdca26\"], [1.0, \"#f0f921\"]], \"sequentialminus\": [[0.0, \"#0d0887\"], [0.1111111111111111, \"#46039f\"], [0.2222222222222222, \"#7201a8\"], [0.3333333333333333, \"#9c179e\"], [0.4444444444444444, \"#bd3786\"], [0.5555555555555556, \"#d8576b\"], [0.6666666666666666, \"#ed7953\"], [0.7777777777777778, \"#fb9f3a\"], [0.8888888888888888, \"#fdca26\"], [1.0, \"#f0f921\"]]}, \"colorway\": [\"#636efa\", \"#EF553B\", \"#00cc96\", \"#ab63fa\", \"#FFA15A\", \"#19d3f3\", \"#FF6692\", \"#B6E880\", \"#FF97FF\", \"#FECB52\"], \"font\": {\"color\": \"#2a3f5f\"}, \"geo\": {\"bgcolor\": \"white\", \"lakecolor\": \"white\", \"landcolor\": \"#E5ECF6\", \"showlakes\": true, \"showland\": true, \"subunitcolor\": \"white\"}, \"hoverlabel\": {\"align\": \"left\"}, \"hovermode\": \"closest\", \"mapbox\": {\"style\": \"light\"}, \"paper_bgcolor\": \"white\", \"plot_bgcolor\": \"#E5ECF6\", \"polar\": {\"angularaxis\": {\"gridcolor\": \"white\", \"linecolor\": \"white\", \"ticks\": \"\"}, \"bgcolor\": \"#E5ECF6\", \"radialaxis\": {\"gridcolor\": \"white\", \"linecolor\": \"white\", \"ticks\": \"\"}}, \"scene\": {\"xaxis\": {\"backgroundcolor\": \"#E5ECF6\", \"gridcolor\": \"white\", \"gridwidth\": 2, \"linecolor\": \"white\", \"showbackground\": true, \"ticks\": \"\", \"zerolinecolor\": \"white\"}, \"yaxis\": {\"backgroundcolor\": \"#E5ECF6\", \"gridcolor\": \"white\", \"gridwidth\": 2, \"linecolor\": \"white\", \"showbackground\": true, \"ticks\": \"\", \"zerolinecolor\": \"white\"}, \"zaxis\": {\"backgroundcolor\": \"#E5ECF6\", \"gridcolor\": \"white\", \"gridwidth\": 2, \"linecolor\": \"white\", \"showbackground\": true, \"ticks\": \"\", \"zerolinecolor\": \"white\"}}, \"shapedefaults\": {\"line\": {\"color\": \"#2a3f5f\"}}, \"ternary\": {\"aaxis\": {\"gridcolor\": \"white\", \"linecolor\": \"white\", \"ticks\": \"\"}, \"baxis\": {\"gridcolor\": \"white\", \"linecolor\": \"white\", \"ticks\": \"\"}, \"bgcolor\": \"#E5ECF6\", \"caxis\": {\"gridcolor\": \"white\", \"linecolor\": \"white\", \"ticks\": \"\"}}, \"title\": {\"x\": 0.05}, \"xaxis\": {\"automargin\": true, \"gridcolor\": \"white\", \"linecolor\": \"white\", \"ticks\": \"\", \"title\": {\"standoff\": 15}, \"zerolinecolor\": \"white\", \"zerolinewidth\": 2}, \"yaxis\": {\"automargin\": true, \"gridcolor\": \"white\", \"linecolor\": \"white\", \"ticks\": \"\", \"title\": {\"standoff\": 15}, \"zerolinecolor\": \"white\", \"zerolinewidth\": 2}}}, \"xaxis\": {\"anchor\": \"y\", \"domain\": [0.0, 1.0], \"title\": {\"text\": \"duration\"}}, \"yaxis\": {\"anchor\": \"x\", \"domain\": [0.0, 1.0], \"title\": {\"text\": \"star_rating\"}}},                        {\"responsive\": true}                    ).then(function(){\n",
       "                            \n",
       "var gd = document.getElementById('16c9771e-64d5-4796-8eeb-485594b383c1');\n",
       "var x = new MutationObserver(function (mutations, observer) {{\n",
       "        var display = window.getComputedStyle(gd).display;\n",
       "        if (!display || display === 'none') {{\n",
       "            console.log([gd, 'removed!']);\n",
       "            Plotly.purge(gd);\n",
       "            observer.disconnect();\n",
       "        }}\n",
       "}});\n",
       "\n",
       "// Listen for the removal of the full notebook cells\n",
       "var notebookContainer = gd.closest('#notebook-container');\n",
       "if (notebookContainer) {{\n",
       "    x.observe(notebookContainer, {childList: true});\n",
       "}}\n",
       "\n",
       "// Listen for the clearing of the current output cell\n",
       "var outputEl = gd.closest('.output');\n",
       "if (outputEl) {{\n",
       "    x.observe(outputEl, {childList: true});\n",
       "}}\n",
       "\n",
       "                        })                };                });            </script>        </div>"
      ]
     },
     "metadata": {},
     "output_type": "display_data"
    }
   ],
   "source": [
    "# Answer:\n",
    "\n",
    "fig5 = px.scatter(movies, x='duration', y='star_rating', trendline='ols')\n",
    "fig5.update_traces(marker_color='green')\n",
    "fig5.show()"
   ]
  },
  {
   "cell_type": "markdown",
   "metadata": {},
   "source": [
    "The R-squared value for the line above is about 0.05, suggesting that there is not a strong correlation between a movie's duration and its star rating."
   ]
  },
  {
   "cell_type": "markdown",
   "metadata": {},
   "source": [
    "#### Calculate the average duration for each genre."
   ]
  },
  {
   "cell_type": "code",
   "execution_count": 267,
   "metadata": {},
   "outputs": [
    {
     "data": {
      "text/plain": [
       "genre\n",
       "History       66.00\n",
       "Animation     96.60\n",
       "Film-Noir     97.33\n",
       "Horror       102.52\n",
       "Family       107.50\n",
       "Comedy       107.60\n",
       "Sci-Fi       109.00\n",
       "Fantasy      112.00\n",
       "Thriller     114.20\n",
       "Mystery      115.62\n",
       "Crime        122.30\n",
       "Action       126.49\n",
       "Drama        126.54\n",
       "Biography    131.84\n",
       "Adventure    134.84\n",
       "Western      136.67\n",
       "Name: duration, dtype: float64"
      ]
     },
     "execution_count": 267,
     "metadata": {},
     "output_type": "execute_result"
    }
   ],
   "source": [
    "# Answer:\n",
    "round(movies.groupby('genre')['duration'].mean().sort_values(),2)"
   ]
  },
  {
   "cell_type": "markdown",
   "metadata": {},
   "source": [
    "## Advanced level"
   ]
  },
  {
   "cell_type": "markdown",
   "metadata": {},
   "source": [
    "#### Visualize the relationship between content rating and duration."
   ]
  },
  {
   "cell_type": "code",
   "execution_count": 688,
   "metadata": {},
   "outputs": [
    {
     "data": {
      "application/vnd.plotly.v1+json": {
       "config": {
        "plotlyServerURL": "https://plot.ly"
       },
       "data": [
        {
         "alignmentgroup": "True",
         "hovertemplate": "variable=duration<br>Content Rating=%{x}<br>Average Duration (minutes)=%{y}<extra></extra>",
         "legendgroup": "duration",
         "marker": {
          "color": "green"
         },
         "name": "duration",
         "offsetgroup": "duration",
         "orientation": "v",
         "showlegend": true,
         "textposition": "auto",
         "type": "bar",
         "x": [
          "G",
          "NC-17",
          "PG",
          "PG-13",
          "R",
          "UNRATED"
         ],
         "xaxis": "x",
         "y": [
          112.34,
          116.25,
          115.3,
          127.2,
          122.16,
          116.76
         ],
         "yaxis": "y"
        }
       ],
       "layout": {
        "barmode": "relative",
        "legend": {
         "title": {
          "text": "variable"
         },
         "tracegroupgap": 0
        },
        "showlegend": false,
        "template": {
         "data": {
          "bar": [
           {
            "error_x": {
             "color": "#2a3f5f"
            },
            "error_y": {
             "color": "#2a3f5f"
            },
            "marker": {
             "line": {
              "color": "#E5ECF6",
              "width": 0.5
             }
            },
            "type": "bar"
           }
          ],
          "barpolar": [
           {
            "marker": {
             "line": {
              "color": "#E5ECF6",
              "width": 0.5
             }
            },
            "type": "barpolar"
           }
          ],
          "carpet": [
           {
            "aaxis": {
             "endlinecolor": "#2a3f5f",
             "gridcolor": "white",
             "linecolor": "white",
             "minorgridcolor": "white",
             "startlinecolor": "#2a3f5f"
            },
            "baxis": {
             "endlinecolor": "#2a3f5f",
             "gridcolor": "white",
             "linecolor": "white",
             "minorgridcolor": "white",
             "startlinecolor": "#2a3f5f"
            },
            "type": "carpet"
           }
          ],
          "choropleth": [
           {
            "colorbar": {
             "outlinewidth": 0,
             "ticks": ""
            },
            "type": "choropleth"
           }
          ],
          "contour": [
           {
            "colorbar": {
             "outlinewidth": 0,
             "ticks": ""
            },
            "colorscale": [
             [
              0,
              "#0d0887"
             ],
             [
              0.1111111111111111,
              "#46039f"
             ],
             [
              0.2222222222222222,
              "#7201a8"
             ],
             [
              0.3333333333333333,
              "#9c179e"
             ],
             [
              0.4444444444444444,
              "#bd3786"
             ],
             [
              0.5555555555555556,
              "#d8576b"
             ],
             [
              0.6666666666666666,
              "#ed7953"
             ],
             [
              0.7777777777777778,
              "#fb9f3a"
             ],
             [
              0.8888888888888888,
              "#fdca26"
             ],
             [
              1,
              "#f0f921"
             ]
            ],
            "type": "contour"
           }
          ],
          "contourcarpet": [
           {
            "colorbar": {
             "outlinewidth": 0,
             "ticks": ""
            },
            "type": "contourcarpet"
           }
          ],
          "heatmap": [
           {
            "colorbar": {
             "outlinewidth": 0,
             "ticks": ""
            },
            "colorscale": [
             [
              0,
              "#0d0887"
             ],
             [
              0.1111111111111111,
              "#46039f"
             ],
             [
              0.2222222222222222,
              "#7201a8"
             ],
             [
              0.3333333333333333,
              "#9c179e"
             ],
             [
              0.4444444444444444,
              "#bd3786"
             ],
             [
              0.5555555555555556,
              "#d8576b"
             ],
             [
              0.6666666666666666,
              "#ed7953"
             ],
             [
              0.7777777777777778,
              "#fb9f3a"
             ],
             [
              0.8888888888888888,
              "#fdca26"
             ],
             [
              1,
              "#f0f921"
             ]
            ],
            "type": "heatmap"
           }
          ],
          "heatmapgl": [
           {
            "colorbar": {
             "outlinewidth": 0,
             "ticks": ""
            },
            "colorscale": [
             [
              0,
              "#0d0887"
             ],
             [
              0.1111111111111111,
              "#46039f"
             ],
             [
              0.2222222222222222,
              "#7201a8"
             ],
             [
              0.3333333333333333,
              "#9c179e"
             ],
             [
              0.4444444444444444,
              "#bd3786"
             ],
             [
              0.5555555555555556,
              "#d8576b"
             ],
             [
              0.6666666666666666,
              "#ed7953"
             ],
             [
              0.7777777777777778,
              "#fb9f3a"
             ],
             [
              0.8888888888888888,
              "#fdca26"
             ],
             [
              1,
              "#f0f921"
             ]
            ],
            "type": "heatmapgl"
           }
          ],
          "histogram": [
           {
            "marker": {
             "colorbar": {
              "outlinewidth": 0,
              "ticks": ""
             }
            },
            "type": "histogram"
           }
          ],
          "histogram2d": [
           {
            "colorbar": {
             "outlinewidth": 0,
             "ticks": ""
            },
            "colorscale": [
             [
              0,
              "#0d0887"
             ],
             [
              0.1111111111111111,
              "#46039f"
             ],
             [
              0.2222222222222222,
              "#7201a8"
             ],
             [
              0.3333333333333333,
              "#9c179e"
             ],
             [
              0.4444444444444444,
              "#bd3786"
             ],
             [
              0.5555555555555556,
              "#d8576b"
             ],
             [
              0.6666666666666666,
              "#ed7953"
             ],
             [
              0.7777777777777778,
              "#fb9f3a"
             ],
             [
              0.8888888888888888,
              "#fdca26"
             ],
             [
              1,
              "#f0f921"
             ]
            ],
            "type": "histogram2d"
           }
          ],
          "histogram2dcontour": [
           {
            "colorbar": {
             "outlinewidth": 0,
             "ticks": ""
            },
            "colorscale": [
             [
              0,
              "#0d0887"
             ],
             [
              0.1111111111111111,
              "#46039f"
             ],
             [
              0.2222222222222222,
              "#7201a8"
             ],
             [
              0.3333333333333333,
              "#9c179e"
             ],
             [
              0.4444444444444444,
              "#bd3786"
             ],
             [
              0.5555555555555556,
              "#d8576b"
             ],
             [
              0.6666666666666666,
              "#ed7953"
             ],
             [
              0.7777777777777778,
              "#fb9f3a"
             ],
             [
              0.8888888888888888,
              "#fdca26"
             ],
             [
              1,
              "#f0f921"
             ]
            ],
            "type": "histogram2dcontour"
           }
          ],
          "mesh3d": [
           {
            "colorbar": {
             "outlinewidth": 0,
             "ticks": ""
            },
            "type": "mesh3d"
           }
          ],
          "parcoords": [
           {
            "line": {
             "colorbar": {
              "outlinewidth": 0,
              "ticks": ""
             }
            },
            "type": "parcoords"
           }
          ],
          "pie": [
           {
            "automargin": true,
            "type": "pie"
           }
          ],
          "scatter": [
           {
            "marker": {
             "colorbar": {
              "outlinewidth": 0,
              "ticks": ""
             }
            },
            "type": "scatter"
           }
          ],
          "scatter3d": [
           {
            "line": {
             "colorbar": {
              "outlinewidth": 0,
              "ticks": ""
             }
            },
            "marker": {
             "colorbar": {
              "outlinewidth": 0,
              "ticks": ""
             }
            },
            "type": "scatter3d"
           }
          ],
          "scattercarpet": [
           {
            "marker": {
             "colorbar": {
              "outlinewidth": 0,
              "ticks": ""
             }
            },
            "type": "scattercarpet"
           }
          ],
          "scattergeo": [
           {
            "marker": {
             "colorbar": {
              "outlinewidth": 0,
              "ticks": ""
             }
            },
            "type": "scattergeo"
           }
          ],
          "scattergl": [
           {
            "marker": {
             "colorbar": {
              "outlinewidth": 0,
              "ticks": ""
             }
            },
            "type": "scattergl"
           }
          ],
          "scattermapbox": [
           {
            "marker": {
             "colorbar": {
              "outlinewidth": 0,
              "ticks": ""
             }
            },
            "type": "scattermapbox"
           }
          ],
          "scatterpolar": [
           {
            "marker": {
             "colorbar": {
              "outlinewidth": 0,
              "ticks": ""
             }
            },
            "type": "scatterpolar"
           }
          ],
          "scatterpolargl": [
           {
            "marker": {
             "colorbar": {
              "outlinewidth": 0,
              "ticks": ""
             }
            },
            "type": "scatterpolargl"
           }
          ],
          "scatterternary": [
           {
            "marker": {
             "colorbar": {
              "outlinewidth": 0,
              "ticks": ""
             }
            },
            "type": "scatterternary"
           }
          ],
          "surface": [
           {
            "colorbar": {
             "outlinewidth": 0,
             "ticks": ""
            },
            "colorscale": [
             [
              0,
              "#0d0887"
             ],
             [
              0.1111111111111111,
              "#46039f"
             ],
             [
              0.2222222222222222,
              "#7201a8"
             ],
             [
              0.3333333333333333,
              "#9c179e"
             ],
             [
              0.4444444444444444,
              "#bd3786"
             ],
             [
              0.5555555555555556,
              "#d8576b"
             ],
             [
              0.6666666666666666,
              "#ed7953"
             ],
             [
              0.7777777777777778,
              "#fb9f3a"
             ],
             [
              0.8888888888888888,
              "#fdca26"
             ],
             [
              1,
              "#f0f921"
             ]
            ],
            "type": "surface"
           }
          ],
          "table": [
           {
            "cells": {
             "fill": {
              "color": "#EBF0F8"
             },
             "line": {
              "color": "white"
             }
            },
            "header": {
             "fill": {
              "color": "#C8D4E3"
             },
             "line": {
              "color": "white"
             }
            },
            "type": "table"
           }
          ]
         },
         "layout": {
          "annotationdefaults": {
           "arrowcolor": "#2a3f5f",
           "arrowhead": 0,
           "arrowwidth": 1
          },
          "coloraxis": {
           "colorbar": {
            "outlinewidth": 0,
            "ticks": ""
           }
          },
          "colorscale": {
           "diverging": [
            [
             0,
             "#8e0152"
            ],
            [
             0.1,
             "#c51b7d"
            ],
            [
             0.2,
             "#de77ae"
            ],
            [
             0.3,
             "#f1b6da"
            ],
            [
             0.4,
             "#fde0ef"
            ],
            [
             0.5,
             "#f7f7f7"
            ],
            [
             0.6,
             "#e6f5d0"
            ],
            [
             0.7,
             "#b8e186"
            ],
            [
             0.8,
             "#7fbc41"
            ],
            [
             0.9,
             "#4d9221"
            ],
            [
             1,
             "#276419"
            ]
           ],
           "sequential": [
            [
             0,
             "#0d0887"
            ],
            [
             0.1111111111111111,
             "#46039f"
            ],
            [
             0.2222222222222222,
             "#7201a8"
            ],
            [
             0.3333333333333333,
             "#9c179e"
            ],
            [
             0.4444444444444444,
             "#bd3786"
            ],
            [
             0.5555555555555556,
             "#d8576b"
            ],
            [
             0.6666666666666666,
             "#ed7953"
            ],
            [
             0.7777777777777778,
             "#fb9f3a"
            ],
            [
             0.8888888888888888,
             "#fdca26"
            ],
            [
             1,
             "#f0f921"
            ]
           ],
           "sequentialminus": [
            [
             0,
             "#0d0887"
            ],
            [
             0.1111111111111111,
             "#46039f"
            ],
            [
             0.2222222222222222,
             "#7201a8"
            ],
            [
             0.3333333333333333,
             "#9c179e"
            ],
            [
             0.4444444444444444,
             "#bd3786"
            ],
            [
             0.5555555555555556,
             "#d8576b"
            ],
            [
             0.6666666666666666,
             "#ed7953"
            ],
            [
             0.7777777777777778,
             "#fb9f3a"
            ],
            [
             0.8888888888888888,
             "#fdca26"
            ],
            [
             1,
             "#f0f921"
            ]
           ]
          },
          "colorway": [
           "#636efa",
           "#EF553B",
           "#00cc96",
           "#ab63fa",
           "#FFA15A",
           "#19d3f3",
           "#FF6692",
           "#B6E880",
           "#FF97FF",
           "#FECB52"
          ],
          "font": {
           "color": "#2a3f5f"
          },
          "geo": {
           "bgcolor": "white",
           "lakecolor": "white",
           "landcolor": "#E5ECF6",
           "showlakes": true,
           "showland": true,
           "subunitcolor": "white"
          },
          "hoverlabel": {
           "align": "left"
          },
          "hovermode": "closest",
          "mapbox": {
           "style": "light"
          },
          "paper_bgcolor": "white",
          "plot_bgcolor": "#E5ECF6",
          "polar": {
           "angularaxis": {
            "gridcolor": "white",
            "linecolor": "white",
            "ticks": ""
           },
           "bgcolor": "#E5ECF6",
           "radialaxis": {
            "gridcolor": "white",
            "linecolor": "white",
            "ticks": ""
           }
          },
          "scene": {
           "xaxis": {
            "backgroundcolor": "#E5ECF6",
            "gridcolor": "white",
            "gridwidth": 2,
            "linecolor": "white",
            "showbackground": true,
            "ticks": "",
            "zerolinecolor": "white"
           },
           "yaxis": {
            "backgroundcolor": "#E5ECF6",
            "gridcolor": "white",
            "gridwidth": 2,
            "linecolor": "white",
            "showbackground": true,
            "ticks": "",
            "zerolinecolor": "white"
           },
           "zaxis": {
            "backgroundcolor": "#E5ECF6",
            "gridcolor": "white",
            "gridwidth": 2,
            "linecolor": "white",
            "showbackground": true,
            "ticks": "",
            "zerolinecolor": "white"
           }
          },
          "shapedefaults": {
           "line": {
            "color": "#2a3f5f"
           }
          },
          "ternary": {
           "aaxis": {
            "gridcolor": "white",
            "linecolor": "white",
            "ticks": ""
           },
           "baxis": {
            "gridcolor": "white",
            "linecolor": "white",
            "ticks": ""
           },
           "bgcolor": "#E5ECF6",
           "caxis": {
            "gridcolor": "white",
            "linecolor": "white",
            "ticks": ""
           }
          },
          "title": {
           "x": 0.05
          },
          "xaxis": {
           "automargin": true,
           "gridcolor": "white",
           "linecolor": "white",
           "ticks": "",
           "title": {
            "standoff": 15
           },
           "zerolinecolor": "white",
           "zerolinewidth": 2
          },
          "yaxis": {
           "automargin": true,
           "gridcolor": "white",
           "linecolor": "white",
           "ticks": "",
           "title": {
            "standoff": 15
           },
           "zerolinecolor": "white",
           "zerolinewidth": 2
          }
         }
        },
        "title": {
         "text": "Average Movie Duration by Content Rating"
        },
        "xaxis": {
         "anchor": "y",
         "domain": [
          0,
          1
         ],
         "title": {
          "text": "Content Rating"
         }
        },
        "yaxis": {
         "anchor": "x",
         "domain": [
          0,
          1
         ],
         "title": {
          "text": "Average Duration (minutes)"
         }
        }
       }
      },
      "text/html": [
       "<div>                            <div id=\"99ab1677-4e0d-4ba0-8a98-a229513d2084\" class=\"plotly-graph-div\" style=\"height:525px; width:100%;\"></div>            <script type=\"text/javascript\">                require([\"plotly\"], function(Plotly) {                    window.PLOTLYENV=window.PLOTLYENV || {};                                    if (document.getElementById(\"99ab1677-4e0d-4ba0-8a98-a229513d2084\")) {                    Plotly.newPlot(                        \"99ab1677-4e0d-4ba0-8a98-a229513d2084\",                        [{\"alignmentgroup\": \"True\", \"hovertemplate\": \"variable=duration<br>Content Rating=%{x}<br>Average Duration (minutes)=%{y}<extra></extra>\", \"legendgroup\": \"duration\", \"marker\": {\"color\": \"green\"}, \"name\": \"duration\", \"offsetgroup\": \"duration\", \"orientation\": \"v\", \"showlegend\": true, \"textposition\": \"auto\", \"type\": \"bar\", \"x\": [\"G\", \"NC-17\", \"PG\", \"PG-13\", \"R\", \"UNRATED\"], \"xaxis\": \"x\", \"y\": [112.34, 116.25, 115.3, 127.2, 122.16, 116.76], \"yaxis\": \"y\"}],                        {\"barmode\": \"relative\", \"legend\": {\"title\": {\"text\": \"variable\"}, \"tracegroupgap\": 0}, \"showlegend\": false, \"template\": {\"data\": {\"bar\": [{\"error_x\": {\"color\": \"#2a3f5f\"}, \"error_y\": {\"color\": \"#2a3f5f\"}, \"marker\": {\"line\": {\"color\": \"#E5ECF6\", \"width\": 0.5}}, \"type\": \"bar\"}], \"barpolar\": [{\"marker\": {\"line\": {\"color\": \"#E5ECF6\", \"width\": 0.5}}, \"type\": \"barpolar\"}], \"carpet\": [{\"aaxis\": {\"endlinecolor\": \"#2a3f5f\", \"gridcolor\": \"white\", \"linecolor\": \"white\", \"minorgridcolor\": \"white\", \"startlinecolor\": \"#2a3f5f\"}, \"baxis\": {\"endlinecolor\": \"#2a3f5f\", \"gridcolor\": \"white\", \"linecolor\": \"white\", \"minorgridcolor\": \"white\", \"startlinecolor\": \"#2a3f5f\"}, \"type\": \"carpet\"}], \"choropleth\": [{\"colorbar\": {\"outlinewidth\": 0, \"ticks\": \"\"}, \"type\": \"choropleth\"}], \"contour\": [{\"colorbar\": {\"outlinewidth\": 0, \"ticks\": \"\"}, \"colorscale\": [[0.0, \"#0d0887\"], [0.1111111111111111, \"#46039f\"], [0.2222222222222222, \"#7201a8\"], [0.3333333333333333, \"#9c179e\"], [0.4444444444444444, \"#bd3786\"], [0.5555555555555556, \"#d8576b\"], [0.6666666666666666, \"#ed7953\"], [0.7777777777777778, \"#fb9f3a\"], [0.8888888888888888, \"#fdca26\"], [1.0, \"#f0f921\"]], \"type\": \"contour\"}], \"contourcarpet\": [{\"colorbar\": {\"outlinewidth\": 0, \"ticks\": \"\"}, \"type\": \"contourcarpet\"}], \"heatmap\": [{\"colorbar\": {\"outlinewidth\": 0, \"ticks\": \"\"}, \"colorscale\": [[0.0, \"#0d0887\"], [0.1111111111111111, \"#46039f\"], [0.2222222222222222, \"#7201a8\"], [0.3333333333333333, \"#9c179e\"], [0.4444444444444444, \"#bd3786\"], [0.5555555555555556, \"#d8576b\"], [0.6666666666666666, \"#ed7953\"], [0.7777777777777778, \"#fb9f3a\"], [0.8888888888888888, \"#fdca26\"], [1.0, \"#f0f921\"]], \"type\": \"heatmap\"}], \"heatmapgl\": [{\"colorbar\": {\"outlinewidth\": 0, \"ticks\": \"\"}, \"colorscale\": [[0.0, \"#0d0887\"], [0.1111111111111111, \"#46039f\"], [0.2222222222222222, \"#7201a8\"], [0.3333333333333333, \"#9c179e\"], [0.4444444444444444, \"#bd3786\"], [0.5555555555555556, \"#d8576b\"], [0.6666666666666666, \"#ed7953\"], [0.7777777777777778, \"#fb9f3a\"], [0.8888888888888888, \"#fdca26\"], [1.0, \"#f0f921\"]], \"type\": \"heatmapgl\"}], \"histogram\": [{\"marker\": {\"colorbar\": {\"outlinewidth\": 0, \"ticks\": \"\"}}, \"type\": \"histogram\"}], \"histogram2d\": [{\"colorbar\": {\"outlinewidth\": 0, \"ticks\": \"\"}, \"colorscale\": [[0.0, \"#0d0887\"], [0.1111111111111111, \"#46039f\"], [0.2222222222222222, \"#7201a8\"], [0.3333333333333333, \"#9c179e\"], [0.4444444444444444, \"#bd3786\"], [0.5555555555555556, \"#d8576b\"], [0.6666666666666666, \"#ed7953\"], [0.7777777777777778, \"#fb9f3a\"], [0.8888888888888888, \"#fdca26\"], [1.0, \"#f0f921\"]], \"type\": \"histogram2d\"}], \"histogram2dcontour\": [{\"colorbar\": {\"outlinewidth\": 0, \"ticks\": \"\"}, \"colorscale\": [[0.0, \"#0d0887\"], [0.1111111111111111, \"#46039f\"], [0.2222222222222222, \"#7201a8\"], [0.3333333333333333, \"#9c179e\"], [0.4444444444444444, \"#bd3786\"], [0.5555555555555556, \"#d8576b\"], [0.6666666666666666, \"#ed7953\"], [0.7777777777777778, \"#fb9f3a\"], [0.8888888888888888, \"#fdca26\"], [1.0, \"#f0f921\"]], \"type\": \"histogram2dcontour\"}], \"mesh3d\": [{\"colorbar\": {\"outlinewidth\": 0, \"ticks\": \"\"}, \"type\": \"mesh3d\"}], \"parcoords\": [{\"line\": {\"colorbar\": {\"outlinewidth\": 0, \"ticks\": \"\"}}, \"type\": \"parcoords\"}], \"pie\": [{\"automargin\": true, \"type\": \"pie\"}], \"scatter\": [{\"marker\": {\"colorbar\": {\"outlinewidth\": 0, \"ticks\": \"\"}}, \"type\": \"scatter\"}], \"scatter3d\": [{\"line\": {\"colorbar\": {\"outlinewidth\": 0, \"ticks\": \"\"}}, \"marker\": {\"colorbar\": {\"outlinewidth\": 0, \"ticks\": \"\"}}, \"type\": \"scatter3d\"}], \"scattercarpet\": [{\"marker\": {\"colorbar\": {\"outlinewidth\": 0, \"ticks\": \"\"}}, \"type\": \"scattercarpet\"}], \"scattergeo\": [{\"marker\": {\"colorbar\": {\"outlinewidth\": 0, \"ticks\": \"\"}}, \"type\": \"scattergeo\"}], \"scattergl\": [{\"marker\": {\"colorbar\": {\"outlinewidth\": 0, \"ticks\": \"\"}}, \"type\": \"scattergl\"}], \"scattermapbox\": [{\"marker\": {\"colorbar\": {\"outlinewidth\": 0, \"ticks\": \"\"}}, \"type\": \"scattermapbox\"}], \"scatterpolar\": [{\"marker\": {\"colorbar\": {\"outlinewidth\": 0, \"ticks\": \"\"}}, \"type\": \"scatterpolar\"}], \"scatterpolargl\": [{\"marker\": {\"colorbar\": {\"outlinewidth\": 0, \"ticks\": \"\"}}, \"type\": \"scatterpolargl\"}], \"scatterternary\": [{\"marker\": {\"colorbar\": {\"outlinewidth\": 0, \"ticks\": \"\"}}, \"type\": \"scatterternary\"}], \"surface\": [{\"colorbar\": {\"outlinewidth\": 0, \"ticks\": \"\"}, \"colorscale\": [[0.0, \"#0d0887\"], [0.1111111111111111, \"#46039f\"], [0.2222222222222222, \"#7201a8\"], [0.3333333333333333, \"#9c179e\"], [0.4444444444444444, \"#bd3786\"], [0.5555555555555556, \"#d8576b\"], [0.6666666666666666, \"#ed7953\"], [0.7777777777777778, \"#fb9f3a\"], [0.8888888888888888, \"#fdca26\"], [1.0, \"#f0f921\"]], \"type\": \"surface\"}], \"table\": [{\"cells\": {\"fill\": {\"color\": \"#EBF0F8\"}, \"line\": {\"color\": \"white\"}}, \"header\": {\"fill\": {\"color\": \"#C8D4E3\"}, \"line\": {\"color\": \"white\"}}, \"type\": \"table\"}]}, \"layout\": {\"annotationdefaults\": {\"arrowcolor\": \"#2a3f5f\", \"arrowhead\": 0, \"arrowwidth\": 1}, \"coloraxis\": {\"colorbar\": {\"outlinewidth\": 0, \"ticks\": \"\"}}, \"colorscale\": {\"diverging\": [[0, \"#8e0152\"], [0.1, \"#c51b7d\"], [0.2, \"#de77ae\"], [0.3, \"#f1b6da\"], [0.4, \"#fde0ef\"], [0.5, \"#f7f7f7\"], [0.6, \"#e6f5d0\"], [0.7, \"#b8e186\"], [0.8, \"#7fbc41\"], [0.9, \"#4d9221\"], [1, \"#276419\"]], \"sequential\": [[0.0, \"#0d0887\"], [0.1111111111111111, \"#46039f\"], [0.2222222222222222, \"#7201a8\"], [0.3333333333333333, \"#9c179e\"], [0.4444444444444444, \"#bd3786\"], [0.5555555555555556, \"#d8576b\"], [0.6666666666666666, \"#ed7953\"], [0.7777777777777778, \"#fb9f3a\"], [0.8888888888888888, \"#fdca26\"], [1.0, \"#f0f921\"]], \"sequentialminus\": [[0.0, \"#0d0887\"], [0.1111111111111111, \"#46039f\"], [0.2222222222222222, \"#7201a8\"], [0.3333333333333333, \"#9c179e\"], [0.4444444444444444, \"#bd3786\"], [0.5555555555555556, \"#d8576b\"], [0.6666666666666666, \"#ed7953\"], [0.7777777777777778, \"#fb9f3a\"], [0.8888888888888888, \"#fdca26\"], [1.0, \"#f0f921\"]]}, \"colorway\": [\"#636efa\", \"#EF553B\", \"#00cc96\", \"#ab63fa\", \"#FFA15A\", \"#19d3f3\", \"#FF6692\", \"#B6E880\", \"#FF97FF\", \"#FECB52\"], \"font\": {\"color\": \"#2a3f5f\"}, \"geo\": {\"bgcolor\": \"white\", \"lakecolor\": \"white\", \"landcolor\": \"#E5ECF6\", \"showlakes\": true, \"showland\": true, \"subunitcolor\": \"white\"}, \"hoverlabel\": {\"align\": \"left\"}, \"hovermode\": \"closest\", \"mapbox\": {\"style\": \"light\"}, \"paper_bgcolor\": \"white\", \"plot_bgcolor\": \"#E5ECF6\", \"polar\": {\"angularaxis\": {\"gridcolor\": \"white\", \"linecolor\": \"white\", \"ticks\": \"\"}, \"bgcolor\": \"#E5ECF6\", \"radialaxis\": {\"gridcolor\": \"white\", \"linecolor\": \"white\", \"ticks\": \"\"}}, \"scene\": {\"xaxis\": {\"backgroundcolor\": \"#E5ECF6\", \"gridcolor\": \"white\", \"gridwidth\": 2, \"linecolor\": \"white\", \"showbackground\": true, \"ticks\": \"\", \"zerolinecolor\": \"white\"}, \"yaxis\": {\"backgroundcolor\": \"#E5ECF6\", \"gridcolor\": \"white\", \"gridwidth\": 2, \"linecolor\": \"white\", \"showbackground\": true, \"ticks\": \"\", \"zerolinecolor\": \"white\"}, \"zaxis\": {\"backgroundcolor\": \"#E5ECF6\", \"gridcolor\": \"white\", \"gridwidth\": 2, \"linecolor\": \"white\", \"showbackground\": true, \"ticks\": \"\", \"zerolinecolor\": \"white\"}}, \"shapedefaults\": {\"line\": {\"color\": \"#2a3f5f\"}}, \"ternary\": {\"aaxis\": {\"gridcolor\": \"white\", \"linecolor\": \"white\", \"ticks\": \"\"}, \"baxis\": {\"gridcolor\": \"white\", \"linecolor\": \"white\", \"ticks\": \"\"}, \"bgcolor\": \"#E5ECF6\", \"caxis\": {\"gridcolor\": \"white\", \"linecolor\": \"white\", \"ticks\": \"\"}}, \"title\": {\"x\": 0.05}, \"xaxis\": {\"automargin\": true, \"gridcolor\": \"white\", \"linecolor\": \"white\", \"ticks\": \"\", \"title\": {\"standoff\": 15}, \"zerolinecolor\": \"white\", \"zerolinewidth\": 2}, \"yaxis\": {\"automargin\": true, \"gridcolor\": \"white\", \"linecolor\": \"white\", \"ticks\": \"\", \"title\": {\"standoff\": 15}, \"zerolinecolor\": \"white\", \"zerolinewidth\": 2}}}, \"title\": {\"text\": \"Average Movie Duration by Content Rating\"}, \"xaxis\": {\"anchor\": \"y\", \"domain\": [0.0, 1.0], \"title\": {\"text\": \"Content Rating\"}}, \"yaxis\": {\"anchor\": \"x\", \"domain\": [0.0, 1.0], \"title\": {\"text\": \"Average Duration (minutes)\"}}},                        {\"responsive\": true}                    ).then(function(){\n",
       "                            \n",
       "var gd = document.getElementById('99ab1677-4e0d-4ba0-8a98-a229513d2084');\n",
       "var x = new MutationObserver(function (mutations, observer) {{\n",
       "        var display = window.getComputedStyle(gd).display;\n",
       "        if (!display || display === 'none') {{\n",
       "            console.log([gd, 'removed!']);\n",
       "            Plotly.purge(gd);\n",
       "            observer.disconnect();\n",
       "        }}\n",
       "}});\n",
       "\n",
       "// Listen for the removal of the full notebook cells\n",
       "var notebookContainer = gd.closest('#notebook-container');\n",
       "if (notebookContainer) {{\n",
       "    x.observe(notebookContainer, {childList: true});\n",
       "}}\n",
       "\n",
       "// Listen for the clearing of the current output cell\n",
       "var outputEl = gd.closest('.output');\n",
       "if (outputEl) {{\n",
       "    x.observe(outputEl, {childList: true});\n",
       "}}\n",
       "\n",
       "                        })                };                });            </script>        </div>"
      ]
     },
     "metadata": {},
     "output_type": "display_data"
    }
   ],
   "source": [
    "# Answer:\n",
    "fig6 = px.bar(round(movies.groupby('content_rating')['duration'].mean(),2), title=\"Average Movie Duration by Content Rating\", labels={'content_rating':'Content Rating','value':'Average Duration (minutes)'})\n",
    "fig6.update_traces(marker_color='green')\n",
    "fig6.update_layout(showlegend=False)\n",
    "fig6.show()"
   ]
  },
  {
   "cell_type": "markdown",
   "metadata": {},
   "source": [
    "#### Determine the top rated movie (by star rating) for each genre."
   ]
  },
  {
   "cell_type": "markdown",
   "metadata": {},
   "source": [
    "First, I'll use the aggregate function to determine the max rating for each genre. Then I'll save that result as a new dataframe and use it to do a join with my main movies list. If I join and match based on both genre and rating, I should be able to easily find the top rated movies by genre:"
   ]
  },
  {
   "cell_type": "code",
   "execution_count": 455,
   "metadata": {},
   "outputs": [
    {
     "data": {
      "text/html": [
       "<div>\n",
       "<style scoped>\n",
       "    .dataframe tbody tr th:only-of-type {\n",
       "        vertical-align: middle;\n",
       "    }\n",
       "\n",
       "    .dataframe tbody tr th {\n",
       "        vertical-align: top;\n",
       "    }\n",
       "\n",
       "    .dataframe thead th {\n",
       "        text-align: right;\n",
       "    }\n",
       "</style>\n",
       "<table border=\"1\" class=\"dataframe\">\n",
       "  <thead>\n",
       "    <tr style=\"text-align: right;\">\n",
       "      <th></th>\n",
       "      <th>genre</th>\n",
       "      <th>star_rating</th>\n",
       "    </tr>\n",
       "  </thead>\n",
       "  <tbody>\n",
       "    <tr>\n",
       "      <th>0</th>\n",
       "      <td>Fantasy</td>\n",
       "      <td>7.7</td>\n",
       "    </tr>\n",
       "    <tr>\n",
       "      <th>1</th>\n",
       "      <td>Family</td>\n",
       "      <td>7.9</td>\n",
       "    </tr>\n",
       "    <tr>\n",
       "      <th>2</th>\n",
       "      <td>History</td>\n",
       "      <td>8.0</td>\n",
       "    </tr>\n",
       "    <tr>\n",
       "      <th>3</th>\n",
       "      <td>Thriller</td>\n",
       "      <td>8.0</td>\n",
       "    </tr>\n",
       "    <tr>\n",
       "      <th>4</th>\n",
       "      <td>Sci-Fi</td>\n",
       "      <td>8.2</td>\n",
       "    </tr>\n",
       "    <tr>\n",
       "      <th>5</th>\n",
       "      <td>Film-Noir</td>\n",
       "      <td>8.3</td>\n",
       "    </tr>\n",
       "    <tr>\n",
       "      <th>6</th>\n",
       "      <td>Animation</td>\n",
       "      <td>8.6</td>\n",
       "    </tr>\n",
       "    <tr>\n",
       "      <th>7</th>\n",
       "      <td>Comedy</td>\n",
       "      <td>8.6</td>\n",
       "    </tr>\n",
       "    <tr>\n",
       "      <th>8</th>\n",
       "      <td>Horror</td>\n",
       "      <td>8.6</td>\n",
       "    </tr>\n",
       "    <tr>\n",
       "      <th>9</th>\n",
       "      <td>Mystery</td>\n",
       "      <td>8.6</td>\n",
       "    </tr>\n",
       "    <tr>\n",
       "      <th>10</th>\n",
       "      <td>Adventure</td>\n",
       "      <td>8.9</td>\n",
       "    </tr>\n",
       "    <tr>\n",
       "      <th>11</th>\n",
       "      <td>Biography</td>\n",
       "      <td>8.9</td>\n",
       "    </tr>\n",
       "    <tr>\n",
       "      <th>12</th>\n",
       "      <td>Drama</td>\n",
       "      <td>8.9</td>\n",
       "    </tr>\n",
       "    <tr>\n",
       "      <th>13</th>\n",
       "      <td>Western</td>\n",
       "      <td>8.9</td>\n",
       "    </tr>\n",
       "    <tr>\n",
       "      <th>14</th>\n",
       "      <td>Action</td>\n",
       "      <td>9.0</td>\n",
       "    </tr>\n",
       "    <tr>\n",
       "      <th>15</th>\n",
       "      <td>Crime</td>\n",
       "      <td>9.3</td>\n",
       "    </tr>\n",
       "  </tbody>\n",
       "</table>\n",
       "</div>"
      ],
      "text/plain": [
       "        genre  star_rating\n",
       "0     Fantasy          7.7\n",
       "1      Family          7.9\n",
       "2     History          8.0\n",
       "3    Thriller          8.0\n",
       "4      Sci-Fi          8.2\n",
       "5   Film-Noir          8.3\n",
       "6   Animation          8.6\n",
       "7      Comedy          8.6\n",
       "8      Horror          8.6\n",
       "9     Mystery          8.6\n",
       "10  Adventure          8.9\n",
       "11  Biography          8.9\n",
       "12      Drama          8.9\n",
       "13    Western          8.9\n",
       "14     Action          9.0\n",
       "15      Crime          9.3"
      ]
     },
     "execution_count": 455,
     "metadata": {},
     "output_type": "execute_result"
    }
   ],
   "source": [
    "# Best Ratings by Genre:\n",
    "\n",
    "best_rated = movies.groupby('genre').agg({'star_rating':'max'}).sort_values(by='star_rating').reset_index()\n",
    "best_rated\n"
   ]
  },
  {
   "cell_type": "code",
   "execution_count": 416,
   "metadata": {},
   "outputs": [
    {
     "data": {
      "text/html": [
       "<div>\n",
       "<style scoped>\n",
       "    .dataframe tbody tr th:only-of-type {\n",
       "        vertical-align: middle;\n",
       "    }\n",
       "\n",
       "    .dataframe tbody tr th {\n",
       "        vertical-align: top;\n",
       "    }\n",
       "\n",
       "    .dataframe thead th {\n",
       "        text-align: right;\n",
       "    }\n",
       "</style>\n",
       "<table border=\"1\" class=\"dataframe\">\n",
       "  <thead>\n",
       "    <tr style=\"text-align: right;\">\n",
       "      <th></th>\n",
       "      <th>star_rating</th>\n",
       "      <th>title</th>\n",
       "      <th>content_rating</th>\n",
       "      <th>genre</th>\n",
       "      <th>duration</th>\n",
       "      <th>actors_list</th>\n",
       "    </tr>\n",
       "  </thead>\n",
       "  <tbody>\n",
       "    <tr>\n",
       "      <th>0</th>\n",
       "      <td>9.3</td>\n",
       "      <td>The Shawshank Redemption</td>\n",
       "      <td>R</td>\n",
       "      <td>Crime</td>\n",
       "      <td>142</td>\n",
       "      <td>[u'Tim Robbins', u'Morgan Freeman', u'Bob Gunt...</td>\n",
       "    </tr>\n",
       "    <tr>\n",
       "      <th>1</th>\n",
       "      <td>9.0</td>\n",
       "      <td>The Dark Knight</td>\n",
       "      <td>PG-13</td>\n",
       "      <td>Action</td>\n",
       "      <td>152</td>\n",
       "      <td>[u'Christian Bale', u'Heath Ledger', u'Aaron E...</td>\n",
       "    </tr>\n",
       "    <tr>\n",
       "      <th>2</th>\n",
       "      <td>8.9</td>\n",
       "      <td>12 Angry Men</td>\n",
       "      <td>UNRATED</td>\n",
       "      <td>Drama</td>\n",
       "      <td>96</td>\n",
       "      <td>[u'Henry Fonda', u'Lee J. Cobb', u'Martin Bals...</td>\n",
       "    </tr>\n",
       "    <tr>\n",
       "      <th>3</th>\n",
       "      <td>8.9</td>\n",
       "      <td>Fight Club</td>\n",
       "      <td>R</td>\n",
       "      <td>Drama</td>\n",
       "      <td>139</td>\n",
       "      <td>[u'Brad Pitt', u'Edward Norton', u'Helena Bonh...</td>\n",
       "    </tr>\n",
       "    <tr>\n",
       "      <th>4</th>\n",
       "      <td>8.9</td>\n",
       "      <td>The Good, the Bad and the Ugly</td>\n",
       "      <td>UNRATED</td>\n",
       "      <td>Western</td>\n",
       "      <td>161</td>\n",
       "      <td>[u'Clint Eastwood', u'Eli Wallach', u'Lee Van ...</td>\n",
       "    </tr>\n",
       "    <tr>\n",
       "      <th>5</th>\n",
       "      <td>8.9</td>\n",
       "      <td>The Lord of the Rings: The Return of the King</td>\n",
       "      <td>PG-13</td>\n",
       "      <td>Adventure</td>\n",
       "      <td>201</td>\n",
       "      <td>[u'Elijah Wood', u'Viggo Mortensen', u'Ian McK...</td>\n",
       "    </tr>\n",
       "    <tr>\n",
       "      <th>6</th>\n",
       "      <td>8.9</td>\n",
       "      <td>Schindler's List</td>\n",
       "      <td>R</td>\n",
       "      <td>Biography</td>\n",
       "      <td>195</td>\n",
       "      <td>[u'Liam Neeson', u'Ralph Fiennes', u'Ben Kings...</td>\n",
       "    </tr>\n",
       "    <tr>\n",
       "      <th>7</th>\n",
       "      <td>8.6</td>\n",
       "      <td>Life Is Beautiful</td>\n",
       "      <td>PG-13</td>\n",
       "      <td>Comedy</td>\n",
       "      <td>116</td>\n",
       "      <td>[u'Roberto Benigni', u'Nicoletta Braschi', u'G...</td>\n",
       "    </tr>\n",
       "    <tr>\n",
       "      <th>8</th>\n",
       "      <td>8.6</td>\n",
       "      <td>City Lights</td>\n",
       "      <td>UNRATED</td>\n",
       "      <td>Comedy</td>\n",
       "      <td>87</td>\n",
       "      <td>[u'Charles Chaplin', u'Virginia Cherrill', u'F...</td>\n",
       "    </tr>\n",
       "    <tr>\n",
       "      <th>9</th>\n",
       "      <td>8.6</td>\n",
       "      <td>Modern Times</td>\n",
       "      <td>G</td>\n",
       "      <td>Comedy</td>\n",
       "      <td>87</td>\n",
       "      <td>[u'Charles Chaplin', u'Paulette Goddard', u'He...</td>\n",
       "    </tr>\n",
       "    <tr>\n",
       "      <th>10</th>\n",
       "      <td>8.6</td>\n",
       "      <td>Spirited Away</td>\n",
       "      <td>PG</td>\n",
       "      <td>Animation</td>\n",
       "      <td>125</td>\n",
       "      <td>[u'Daveigh Chase', u'Suzanne Pleshette', u'Miy...</td>\n",
       "    </tr>\n",
       "    <tr>\n",
       "      <th>11</th>\n",
       "      <td>8.6</td>\n",
       "      <td>Rear Window</td>\n",
       "      <td>UNRATED</td>\n",
       "      <td>Mystery</td>\n",
       "      <td>112</td>\n",
       "      <td>[u'James Stewart', u'Grace Kelly', u'Wendell C...</td>\n",
       "    </tr>\n",
       "    <tr>\n",
       "      <th>12</th>\n",
       "      <td>8.6</td>\n",
       "      <td>Psycho</td>\n",
       "      <td>R</td>\n",
       "      <td>Horror</td>\n",
       "      <td>109</td>\n",
       "      <td>[u'Anthony Perkins', u'Janet Leigh', u'Vera Mi...</td>\n",
       "    </tr>\n",
       "    <tr>\n",
       "      <th>13</th>\n",
       "      <td>8.3</td>\n",
       "      <td>The Third Man</td>\n",
       "      <td>UNRATED</td>\n",
       "      <td>Film-Noir</td>\n",
       "      <td>93</td>\n",
       "      <td>[u'Orson Welles', u'Joseph Cotten', u'Alida Va...</td>\n",
       "    </tr>\n",
       "    <tr>\n",
       "      <th>14</th>\n",
       "      <td>8.2</td>\n",
       "      <td>Blade Runner</td>\n",
       "      <td>R</td>\n",
       "      <td>Sci-Fi</td>\n",
       "      <td>117</td>\n",
       "      <td>[u'Harrison Ford', u'Rutger Hauer', u'Sean You...</td>\n",
       "    </tr>\n",
       "    <tr>\n",
       "      <th>15</th>\n",
       "      <td>8.0</td>\n",
       "      <td>Battleship Potemkin</td>\n",
       "      <td>UNRATED</td>\n",
       "      <td>History</td>\n",
       "      <td>66</td>\n",
       "      <td>[u'Aleksandr Antonov', u'Vladimir Barsky', u'G...</td>\n",
       "    </tr>\n",
       "    <tr>\n",
       "      <th>16</th>\n",
       "      <td>8.0</td>\n",
       "      <td>Shadow of a Doubt</td>\n",
       "      <td>UNRATED</td>\n",
       "      <td>Thriller</td>\n",
       "      <td>108</td>\n",
       "      <td>[u'Teresa Wright', u'Joseph Cotten', u'Macdona...</td>\n",
       "    </tr>\n",
       "    <tr>\n",
       "      <th>17</th>\n",
       "      <td>7.9</td>\n",
       "      <td>E.T. the Extra-Terrestrial</td>\n",
       "      <td>PG</td>\n",
       "      <td>Family</td>\n",
       "      <td>115</td>\n",
       "      <td>[u'Henry Thomas', u'Drew Barrymore', u'Peter C...</td>\n",
       "    </tr>\n",
       "    <tr>\n",
       "      <th>18</th>\n",
       "      <td>7.7</td>\n",
       "      <td>The City of Lost Children</td>\n",
       "      <td>R</td>\n",
       "      <td>Fantasy</td>\n",
       "      <td>112</td>\n",
       "      <td>[u'Ron Perlman', u'Daniel Emilfork', u'Judith ...</td>\n",
       "    </tr>\n",
       "  </tbody>\n",
       "</table>\n",
       "</div>"
      ],
      "text/plain": [
       "    star_rating                                          title content_rating  \\\n",
       "0           9.3                       The Shawshank Redemption              R   \n",
       "1           9.0                                The Dark Knight          PG-13   \n",
       "2           8.9                                   12 Angry Men        UNRATED   \n",
       "3           8.9                                     Fight Club              R   \n",
       "4           8.9                 The Good, the Bad and the Ugly        UNRATED   \n",
       "5           8.9  The Lord of the Rings: The Return of the King          PG-13   \n",
       "6           8.9                               Schindler's List              R   \n",
       "7           8.6                              Life Is Beautiful          PG-13   \n",
       "8           8.6                                    City Lights        UNRATED   \n",
       "9           8.6                                   Modern Times              G   \n",
       "10          8.6                                  Spirited Away             PG   \n",
       "11          8.6                                    Rear Window        UNRATED   \n",
       "12          8.6                                         Psycho              R   \n",
       "13          8.3                                  The Third Man        UNRATED   \n",
       "14          8.2                                   Blade Runner              R   \n",
       "15          8.0                            Battleship Potemkin        UNRATED   \n",
       "16          8.0                              Shadow of a Doubt        UNRATED   \n",
       "17          7.9                     E.T. the Extra-Terrestrial             PG   \n",
       "18          7.7                      The City of Lost Children              R   \n",
       "\n",
       "        genre  duration                                        actors_list  \n",
       "0       Crime       142  [u'Tim Robbins', u'Morgan Freeman', u'Bob Gunt...  \n",
       "1      Action       152  [u'Christian Bale', u'Heath Ledger', u'Aaron E...  \n",
       "2       Drama        96  [u'Henry Fonda', u'Lee J. Cobb', u'Martin Bals...  \n",
       "3       Drama       139  [u'Brad Pitt', u'Edward Norton', u'Helena Bonh...  \n",
       "4     Western       161  [u'Clint Eastwood', u'Eli Wallach', u'Lee Van ...  \n",
       "5   Adventure       201  [u'Elijah Wood', u'Viggo Mortensen', u'Ian McK...  \n",
       "6   Biography       195  [u'Liam Neeson', u'Ralph Fiennes', u'Ben Kings...  \n",
       "7      Comedy       116  [u'Roberto Benigni', u'Nicoletta Braschi', u'G...  \n",
       "8      Comedy        87  [u'Charles Chaplin', u'Virginia Cherrill', u'F...  \n",
       "9      Comedy        87  [u'Charles Chaplin', u'Paulette Goddard', u'He...  \n",
       "10  Animation       125  [u'Daveigh Chase', u'Suzanne Pleshette', u'Miy...  \n",
       "11    Mystery       112  [u'James Stewart', u'Grace Kelly', u'Wendell C...  \n",
       "12     Horror       109  [u'Anthony Perkins', u'Janet Leigh', u'Vera Mi...  \n",
       "13  Film-Noir        93  [u'Orson Welles', u'Joseph Cotten', u'Alida Va...  \n",
       "14     Sci-Fi       117  [u'Harrison Ford', u'Rutger Hauer', u'Sean You...  \n",
       "15    History        66  [u'Aleksandr Antonov', u'Vladimir Barsky', u'G...  \n",
       "16   Thriller       108  [u'Teresa Wright', u'Joseph Cotten', u'Macdona...  \n",
       "17     Family       115  [u'Henry Thomas', u'Drew Barrymore', u'Peter C...  \n",
       "18    Fantasy       112  [u'Ron Perlman', u'Daniel Emilfork', u'Judith ...  "
      ]
     },
     "execution_count": 416,
     "metadata": {},
     "output_type": "execute_result"
    }
   ],
   "source": [
    "# Answer:\n",
    "best_movies = movies.merge(best_rated, how='inner', on=['genre', 'star_rating'])\n",
    "best_movies    "
   ]
  },
  {
   "cell_type": "markdown",
   "metadata": {},
   "source": [
    "#### Check if there are multiple movies with the same title, and if so, determine if they are actually duplicates."
   ]
  },
  {
   "cell_type": "code",
   "execution_count": 425,
   "metadata": {},
   "outputs": [
    {
     "data": {
      "text/html": [
       "<div>\n",
       "<style scoped>\n",
       "    .dataframe tbody tr th:only-of-type {\n",
       "        vertical-align: middle;\n",
       "    }\n",
       "\n",
       "    .dataframe tbody tr th {\n",
       "        vertical-align: top;\n",
       "    }\n",
       "\n",
       "    .dataframe thead th {\n",
       "        text-align: right;\n",
       "    }\n",
       "</style>\n",
       "<table border=\"1\" class=\"dataframe\">\n",
       "  <thead>\n",
       "    <tr style=\"text-align: right;\">\n",
       "      <th></th>\n",
       "      <th>star_rating</th>\n",
       "      <th>title</th>\n",
       "      <th>content_rating</th>\n",
       "      <th>genre</th>\n",
       "      <th>duration</th>\n",
       "      <th>actors_list</th>\n",
       "    </tr>\n",
       "  </thead>\n",
       "  <tbody>\n",
       "    <tr>\n",
       "      <th>703</th>\n",
       "      <td>7.6</td>\n",
       "      <td>Dracula</td>\n",
       "      <td>UNRATED</td>\n",
       "      <td>Horror</td>\n",
       "      <td>85</td>\n",
       "      <td>[u'Bela Lugosi', u'Helen Chandler', u'David Ma...</td>\n",
       "    </tr>\n",
       "    <tr>\n",
       "      <th>905</th>\n",
       "      <td>7.5</td>\n",
       "      <td>Dracula</td>\n",
       "      <td>R</td>\n",
       "      <td>Horror</td>\n",
       "      <td>128</td>\n",
       "      <td>[u'Gary Oldman', u'Winona Ryder', u'Anthony Ho...</td>\n",
       "    </tr>\n",
       "    <tr>\n",
       "      <th>678</th>\n",
       "      <td>7.7</td>\n",
       "      <td>Les Miserables</td>\n",
       "      <td>PG-13</td>\n",
       "      <td>Drama</td>\n",
       "      <td>158</td>\n",
       "      <td>[u'Hugh Jackman', u'Russell Crowe', u'Anne Hat...</td>\n",
       "    </tr>\n",
       "    <tr>\n",
       "      <th>924</th>\n",
       "      <td>7.5</td>\n",
       "      <td>Les Miserables</td>\n",
       "      <td>PG-13</td>\n",
       "      <td>Crime</td>\n",
       "      <td>134</td>\n",
       "      <td>[u'Liam Neeson', u'Geoffrey Rush', u'Uma Thurm...</td>\n",
       "    </tr>\n",
       "    <tr>\n",
       "      <th>466</th>\n",
       "      <td>7.9</td>\n",
       "      <td>The Girl with the Dragon Tattoo</td>\n",
       "      <td>R</td>\n",
       "      <td>Crime</td>\n",
       "      <td>158</td>\n",
       "      <td>[u'Daniel Craig', u'Rooney Mara', u'Christophe...</td>\n",
       "    </tr>\n",
       "    <tr>\n",
       "      <th>482</th>\n",
       "      <td>7.8</td>\n",
       "      <td>The Girl with the Dragon Tattoo</td>\n",
       "      <td>R</td>\n",
       "      <td>Crime</td>\n",
       "      <td>152</td>\n",
       "      <td>[u'Michael Nyqvist', u'Noomi Rapace', u'Ewa Fr...</td>\n",
       "    </tr>\n",
       "    <tr>\n",
       "      <th>662</th>\n",
       "      <td>7.7</td>\n",
       "      <td>True Grit</td>\n",
       "      <td>PG-13</td>\n",
       "      <td>Adventure</td>\n",
       "      <td>110</td>\n",
       "      <td>[u'Jeff Bridges', u'Matt Damon', u'Hailee Stei...</td>\n",
       "    </tr>\n",
       "    <tr>\n",
       "      <th>936</th>\n",
       "      <td>7.4</td>\n",
       "      <td>True Grit</td>\n",
       "      <td>UNRATED</td>\n",
       "      <td>Adventure</td>\n",
       "      <td>128</td>\n",
       "      <td>[u'John Wayne', u'Kim Darby', u'Glen Campbell']</td>\n",
       "    </tr>\n",
       "  </tbody>\n",
       "</table>\n",
       "</div>"
      ],
      "text/plain": [
       "     star_rating                            title content_rating      genre  \\\n",
       "703          7.6                          Dracula        UNRATED     Horror   \n",
       "905          7.5                          Dracula              R     Horror   \n",
       "678          7.7                   Les Miserables          PG-13      Drama   \n",
       "924          7.5                   Les Miserables          PG-13      Crime   \n",
       "466          7.9  The Girl with the Dragon Tattoo              R      Crime   \n",
       "482          7.8  The Girl with the Dragon Tattoo              R      Crime   \n",
       "662          7.7                        True Grit          PG-13  Adventure   \n",
       "936          7.4                        True Grit        UNRATED  Adventure   \n",
       "\n",
       "     duration                                        actors_list  \n",
       "703        85  [u'Bela Lugosi', u'Helen Chandler', u'David Ma...  \n",
       "905       128  [u'Gary Oldman', u'Winona Ryder', u'Anthony Ho...  \n",
       "678       158  [u'Hugh Jackman', u'Russell Crowe', u'Anne Hat...  \n",
       "924       134  [u'Liam Neeson', u'Geoffrey Rush', u'Uma Thurm...  \n",
       "466       158  [u'Daniel Craig', u'Rooney Mara', u'Christophe...  \n",
       "482       152  [u'Michael Nyqvist', u'Noomi Rapace', u'Ewa Fr...  \n",
       "662       110  [u'Jeff Bridges', u'Matt Damon', u'Hailee Stei...  \n",
       "936       128    [u'John Wayne', u'Kim Darby', u'Glen Campbell']  "
      ]
     },
     "execution_count": 425,
     "metadata": {},
     "output_type": "execute_result"
    }
   ],
   "source": [
    "# Answer:\n",
    "movies[movies.duplicated(subset='title', keep=False)].sort_values(by='title')\n"
   ]
  },
  {
   "cell_type": "markdown",
   "metadata": {},
   "source": [
    "I used a built-in pandas method called **duplicated** to find duplicates. By setting the keep parameter to False, I was able to list all occurrences of duplicated titles, not just the ones after the first occurrence. Inspecting the list, it's clear that all of these are unique movies. The biggest indication is that the cast members are totally different. Also, the movies have different durations, sometimes significantly so. Finally, two of the pairs have different content ratings. I would expect actual duplicates to have the same cast and very nearly the same, if not identical, runtimes."
   ]
  },
  {
   "cell_type": "markdown",
   "metadata": {
    "collapsed": true
   },
   "source": [
    "#### Calculate the average star rating for each genre, but only include genres with at least 10 movies\n"
   ]
  },
  {
   "cell_type": "markdown",
   "metadata": {},
   "source": [
    "#### Option 1: manually create a list of relevant genres, then filter using that list"
   ]
  },
  {
   "cell_type": "code",
   "execution_count": null,
   "metadata": {
    "collapsed": true
   },
   "outputs": [],
   "source": [
    "# Answer:"
   ]
  },
  {
   "cell_type": "markdown",
   "metadata": {},
   "source": [
    "#### Option 2: automatically create a list of relevant genres by saving the value_counts and then filtering"
   ]
  },
  {
   "cell_type": "code",
   "execution_count": null,
   "metadata": {
    "collapsed": true
   },
   "outputs": [],
   "source": [
    "# Answer:"
   ]
  },
  {
   "cell_type": "markdown",
   "metadata": {},
   "source": [
    "#### Option 3: calculate the average star rating for all genres, then filter using a boolean Series"
   ]
  },
  {
   "cell_type": "code",
   "execution_count": 541,
   "metadata": {},
   "outputs": [],
   "source": [
    "# Answer:"
   ]
  },
  {
   "cell_type": "markdown",
   "metadata": {},
   "source": [
    "#### Option 4: aggregate by count and mean, then filter using the count"
   ]
  },
  {
   "cell_type": "code",
   "execution_count": 540,
   "metadata": {},
   "outputs": [
    {
     "data": {
      "text/html": [
       "<div>\n",
       "<style scoped>\n",
       "    .dataframe tbody tr th:only-of-type {\n",
       "        vertical-align: middle;\n",
       "    }\n",
       "\n",
       "    .dataframe tbody tr th {\n",
       "        vertical-align: top;\n",
       "    }\n",
       "\n",
       "    .dataframe thead th {\n",
       "        text-align: right;\n",
       "    }\n",
       "</style>\n",
       "<table border=\"1\" class=\"dataframe\">\n",
       "  <thead>\n",
       "    <tr style=\"text-align: right;\">\n",
       "      <th></th>\n",
       "      <th>count</th>\n",
       "      <th>mean</th>\n",
       "    </tr>\n",
       "    <tr>\n",
       "      <th>genre</th>\n",
       "      <th></th>\n",
       "      <th></th>\n",
       "    </tr>\n",
       "  </thead>\n",
       "  <tbody>\n",
       "    <tr>\n",
       "      <th>Action</th>\n",
       "      <td>136</td>\n",
       "      <td>7.88</td>\n",
       "    </tr>\n",
       "    <tr>\n",
       "      <th>Adventure</th>\n",
       "      <td>75</td>\n",
       "      <td>7.93</td>\n",
       "    </tr>\n",
       "    <tr>\n",
       "      <th>Animation</th>\n",
       "      <td>62</td>\n",
       "      <td>7.91</td>\n",
       "    </tr>\n",
       "    <tr>\n",
       "      <th>Biography</th>\n",
       "      <td>77</td>\n",
       "      <td>7.86</td>\n",
       "    </tr>\n",
       "    <tr>\n",
       "      <th>Comedy</th>\n",
       "      <td>156</td>\n",
       "      <td>7.82</td>\n",
       "    </tr>\n",
       "    <tr>\n",
       "      <th>Crime</th>\n",
       "      <td>124</td>\n",
       "      <td>7.92</td>\n",
       "    </tr>\n",
       "    <tr>\n",
       "      <th>Drama</th>\n",
       "      <td>278</td>\n",
       "      <td>7.90</td>\n",
       "    </tr>\n",
       "    <tr>\n",
       "      <th>Horror</th>\n",
       "      <td>29</td>\n",
       "      <td>7.81</td>\n",
       "    </tr>\n",
       "    <tr>\n",
       "      <th>Mystery</th>\n",
       "      <td>16</td>\n",
       "      <td>7.98</td>\n",
       "    </tr>\n",
       "  </tbody>\n",
       "</table>\n",
       "</div>"
      ],
      "text/plain": [
       "           count  mean\n",
       "genre                 \n",
       "Action       136  7.88\n",
       "Adventure     75  7.93\n",
       "Animation     62  7.91\n",
       "Biography     77  7.86\n",
       "Comedy       156  7.82\n",
       "Crime        124  7.92\n",
       "Drama        278  7.90\n",
       "Horror        29  7.81\n",
       "Mystery       16  7.98"
      ]
     },
     "execution_count": 540,
     "metadata": {},
     "output_type": "execute_result"
    }
   ],
   "source": [
    "# Answer:\n",
    "genres_ratings = movies.groupby('genre').agg(['count','mean']).star_rating\n",
    "round(genres_ratings[(genres_ratings['count'] >= 10)],2)"
   ]
  },
  {
   "cell_type": "markdown",
   "metadata": {},
   "source": [
    "## Bonus"
   ]
  },
  {
   "cell_type": "markdown",
   "metadata": {
    "collapsed": true
   },
   "source": [
    "#### Figure out something \"interesting\" using the actors data!"
   ]
  },
  {
   "cell_type": "code",
   "execution_count": 659,
   "metadata": {},
   "outputs": [],
   "source": [
    "actors_dict = dict()\n",
    "\n",
    "for index, row in movies.iterrows():\n",
    "    actors = row['actors_list']\n",
    "    actors = actors.strip(\"['']\")\n",
    "    actors = actors.replace('\"','').lstrip().rstrip()\n",
    "    actors = actors.split(\",\")\n",
    "    \n",
    "    for actor in actors:\n",
    "        actor = actor.split(\"'\")[1]\n",
    "        if actor in actors_dict:\n",
    "            actors_dict[actor].append(index)\n",
    "        else:\n",
    "            actors_dict[actor] = [index]\n",
    "    \n"
   ]
  },
  {
   "cell_type": "code",
   "execution_count": 660,
   "metadata": {},
   "outputs": [
    {
     "data": {
      "text/plain": [
       "{'Tim Robbins': [0, 365, 611, 693, 819],\n",
       " 'Morgan Freeman': [0, 24, 119, 227, 549, 621, 943, 962],\n",
       " 'Bob Gunton': [0],\n",
       " 'Marlon Brando': [1, 51, 122, 284],\n",
       " 'Al Pacino': [1, 2, 115, 135, 278, 374, 423, 436, 463, 560, 561, 711, 889],\n",
       " 'James Caan': [1, 496],\n",
       " 'Robert De Niro': [2,\n",
       "  18,\n",
       "  78,\n",
       "  92,\n",
       "  124,\n",
       "  135,\n",
       "  156,\n",
       "  166,\n",
       "  321,\n",
       "  383,\n",
       "  475,\n",
       "  571,\n",
       "  579,\n",
       "  580,\n",
       "  780,\n",
       "  826,\n",
       "  898,\n",
       "  931],\n",
       " 'Robert Duvall': [2, 51, 761, 772, 813, 884, 914],\n",
       " 'Christian Bale': [3, 43, 53, 113, 446, 504, 555, 589, 702, 732, 815],\n",
       " 'Heath Ledger': [3, 628],\n",
       " 'Aaron Eckhart': [3, 714],\n",
       " 'John Travolta': [4],\n",
       " 'Uma Thurman': [4, 198, 354, 499, 924],\n",
       " 'Samuel L. Jackson': [4, 194, 378, 517, 778, 836],\n",
       " 'Henry Fonda': [5, 26, 188],\n",
       " 'Lee J. Cobb': [5, 122],\n",
       " 'Martin Balsam': [5],\n",
       " 'Clint Eastwood': [6,\n",
       "  107,\n",
       "  119,\n",
       "  162,\n",
       "  227,\n",
       "  276,\n",
       "  421,\n",
       "  515,\n",
       "  649,\n",
       "  691,\n",
       "  704,\n",
       "  753,\n",
       "  851,\n",
       "  865],\n",
       " 'Eli Wallach': [6],\n",
       " 'Lee Van Cleef': [6, 107],\n",
       " 'Elijah Wood': [7, 10, 14, 830, 868],\n",
       " 'Viggo Mortensen': [7, 14, 666, 883],\n",
       " 'Ian McKellen': [7, 10, 14, 248, 359, 362, 814, 954],\n",
       " 'Liam Neeson': [8, 455, 625, 640, 924],\n",
       " 'Ralph Fiennes': [8, 214, 768, 820, 849, 879, 968],\n",
       " 'Ben Kingsley': [8, 220, 549, 721],\n",
       " 'Brad Pitt': [9,\n",
       "  24,\n",
       "  106,\n",
       "  114,\n",
       "  264,\n",
       "  508,\n",
       "  577,\n",
       "  683,\n",
       "  776,\n",
       "  779,\n",
       "  807,\n",
       "  826,\n",
       "  877,\n",
       "  901],\n",
       " 'Edward Norton': [9, 34, 394, 624, 648, 709, 845],\n",
       " 'Helena Bonham Carter': [9, 274, 820, 904],\n",
       " 'Orlando Bloom': [10, 271],\n",
       " 'Leonardo DiCaprio': [11, 49, 59, 143, 244, 309, 340, 562, 620, 828, 888],\n",
       " 'Joseph Gordon-Levitt': [11, 542, 597, 604, 906, 927],\n",
       " 'Ellen Page': [11, 806],\n",
       " 'Mark Hamill': [12, 19, 80],\n",
       " 'Harrison Ford': [12, 19, 37, 80, 118, 145, 539, 764, 824, 920],\n",
       " 'Carrie Fisher': [12, 19, 80, 719],\n",
       " 'Tom Hanks': [13,\n",
       "  36,\n",
       "  40,\n",
       "  81,\n",
       "  117,\n",
       "  340,\n",
       "  414,\n",
       "  447,\n",
       "  587,\n",
       "  629,\n",
       "  644,\n",
       "  754,\n",
       "  817,\n",
       "  842],\n",
       " 'Robin Wright': [13, 179, 776],\n",
       " 'Gary Sinise': [13, 790],\n",
       " 'Matthew McConaughey': [15, 346, 650, 922],\n",
       " 'Anne Hathaway': [15, 43, 678],\n",
       " 'Jessica Chastain': [15, 945, 955],\n",
       " 'Jack Nicholson': [16, 49, 62, 130, 578, 716, 801, 943, 944],\n",
       " 'Louise Fletcher': [16],\n",
       " 'Michael Berryman': [16],\n",
       " 'Toshir\\\\xf4 Mifune': [17, 96, 98],\n",
       " 'Takashi Shimura': [17, 104],\n",
       " 'Keiko Tsushima': [17],\n",
       " 'Ray Liotta': [18, 800],\n",
       " 'Joe Pesci': [18, 124, 156, 880, 949],\n",
       " 'Keanu Reeves': [20, 889, 940],\n",
       " 'Laurence Fishburne': [20, 566],\n",
       " 'Carrie-Anne Moss': [20, 46],\n",
       " 'Alexandre Rodrigues': [21],\n",
       " 'Matheus Nachtergaele': [21],\n",
       " 'Leandro Firmino': [21],\n",
       " 'James Stewart': [22, 38, 76, 116, 251, 255, 257, 265, 297, 848],\n",
       " 'Donna Reed': [22],\n",
       " 'Lionel Barrymore': [22],\n",
       " 'Kevin Spacey': [23, 24, 67, 112, 371, 833],\n",
       " 'Gabriel Byrne': [23, 441],\n",
       " 'Chazz Palminteri': [23, 571, 918],\n",
       " 'Roberto Benigni': [25, 462],\n",
       " 'Nicoletta Braschi': [25],\n",
       " 'Giorgio Cantarini': [25],\n",
       " 'Charles Bronson': [26, 491, 531],\n",
       " 'Claudia Cardinale': [26, 203],\n",
       " 'Jodie Foster': [27, 92, 603, 697],\n",
       " 'Anthony Hopkins': [27, 148, 404, 460, 877, 905],\n",
       " 'Lawrence A. Bonney': [27],\n",
       " 'Jean Reno': [28, 684],\n",
       " 'Gary Oldman': [28, 316, 623, 699, 905],\n",
       " 'Natalie Portman': [28, 152, 331, 661, 752],\n",
       " 'Charles Chaplin': [29, 35, 52, 88, 128],\n",
       " 'Virginia Cherrill': [29],\n",
       " 'Florence Lee': [29],\n",
       " 'Daveigh Chase': [30],\n",
       " 'Suzanne Pleshette': [30, 572],\n",
       " 'Miyu Irino': [30],\n",
       " 'Fran\\\\xe7ois Cluzet': [31, 802],\n",
       " 'Omar Sy': [31],\n",
       " 'Anne Le Ny': [31],\n",
       " 'Humphrey Bogart': [32, 100, 169, 253, 393, 412, 582],\n",
       " 'Ingrid Bergman': [32, 237, 687],\n",
       " 'Paul Henreid': [32],\n",
       " 'Miles Teller': [33],\n",
       " 'J.K. Simmons': [33],\n",
       " 'Melissa Benoist': [33],\n",
       " 'Edward Furlong': [34, 45],\n",
       " 'Angelo': [34, 821, 957],\n",
       " 'Paulette Goddard': [35, 52],\n",
       " 'Henry Bergman': [35],\n",
       " 'Matt Damon': [36, 49, 139, 240, 411, 567, 625, 662],\n",
       " 'Tom Sizemore': [36, 606],\n",
       " 'Karen Allen': [37, 723],\n",
       " 'Paul Freeman': [37],\n",
       " 'Grace Kelly': [38, 171, 236, 866],\n",
       " 'Wendell Corey': [38],\n",
       " 'Anthony Perkins': [39],\n",
       " 'Janet Leigh': [39, 175, 292],\n",
       " 'Vera Miles': [39, 251, 333],\n",
       " 'Michael Clarke Duncan': [40],\n",
       " 'David Morse': [40, 324],\n",
       " 'William Holden': [41, 137, 185, 246, 296, 582],\n",
       " 'Gloria Swanson': [41],\n",
       " 'Erich von Stroheim': [41],\n",
       " 'Adrien Brody': [42, 592],\n",
       " 'Thomas Kretschmann': [42],\n",
       " 'Frank Finlay': [42],\n",
       " 'Tom Hardy': [43, 146],\n",
       " 'Russell Crowe': [44, 112, 170, 341, 423, 500, 555, 678, 976],\n",
       " 'Joaquin Phoenix': [44, 180, 323, 442],\n",
       " 'Connie Nielsen': [44],\n",
       " 'Arnold Schwarzenegger': [45, 281, 470, 885],\n",
       " 'Linda Hamilton': [45, 281],\n",
       " 'Guy Pearce': [46, 112, 591, 890, 907],\n",
       " 'Joe Pantoliano': [46, 950],\n",
       " 'Darsheel Safary': [47],\n",
       " 'Aamir Khan': [47, 60, 72, 109, 142],\n",
       " 'Tanay Chheda': [47],\n",
       " 'Peter Sellers': [48, 304, 737],\n",
       " 'George C. Scott': [48, 302],\n",
       " 'Sterling Hayden': [48, 272],\n",
       " 'Philippe Noiret': [50],\n",
       " 'Enzo Cannavale': [50],\n",
       " 'Antonella Attili': [50],\n",
       " 'Martin Sheen': [51, 425],\n",
       " 'Jack Oakie': [52],\n",
       " 'Hugh Jackman': [53, 248, 290, 678, 871, 954],\n",
       " 'Scarlett Johansson': [53, 177, 323, 517, 543, 635, 919],\n",
       " 'Michael J. Fox': [54, 520, 975],\n",
       " 'Christopher Lloyd': [54, 520, 669, 975],\n",
       " 'Lea Thompson': [54, 520],\n",
       " 'Matthew Broderick': [55, 392, 459],\n",
       " 'Jeremy Irons': [55, 778, 898],\n",
       " 'James Earl Jones': [55, 800],\n",
       " 'Ulrich M\\\\xfche': [56, 757],\n",
       " 'Martina Gedeck': [56],\n",
       " 'Sebastian Koch': [56, 485],\n",
       " 'Sigourney Weaver': [57, 75, 433, 516, 870],\n",
       " 'Tom Skerritt': [57, 692],\n",
       " 'John Hurt': [57, 148],\n",
       " 'Kirk Douglas': [58, 385],\n",
       " 'Ralph Meeker': [58],\n",
       " 'Adolphe Menjou': [58],\n",
       " 'Jamie Foxx': [59, 569, 797, 969],\n",
       " 'Christoph Waltz': [59],\n",
       " 'Madhavan': [60],\n",
       " 'Mona Singh': [60],\n",
       " 'Tsutomu Tatsumi': [61],\n",
       " 'Ayano Shiraishi': [61],\n",
       " 'Akemi Yamaguchi': [61],\n",
       " 'Shelley Duvall': [62],\n",
       " 'Danny Lloyd': [62],\n",
       " 'Peter Lorre': [63],\n",
       " 'Ellen Widmann': [63],\n",
       " 'Inge Landgut': [63],\n",
       " 'Ben Burtt': [64],\n",
       " 'Elissa Knight': [64],\n",
       " 'Jeff Garlin': [64],\n",
       " 'Tyrone Power': [65],\n",
       " 'Marlene Dietrich': [65],\n",
       " 'Charles Laughton': [65],\n",
       " 'Sunil Dutt': [66],\n",
       " 'Sanjay Dutt': [66],\n",
       " 'Arshad Warsi': [66],\n",
       " 'Annette Bening': [67],\n",
       " 'Thora Birch': [67, 919],\n",
       " 'J\\\\xfcrgen Prochnow': [68],\n",
       " 'Herbert Gr\\\\xf6nemeyer': [68],\n",
       " 'Klaus Wennemann': [68],\n",
       " 'Y\\\\xf4ji Matsuda': [69],\n",
       " 'Yuriko Ishida': [69],\n",
       " 'Y\\\\xfbko Tanaka': [69],\n",
       " 'Audrey Tautou': [70, 603],\n",
       " 'Mathieu Kassovitz': [70],\n",
       " 'Rufus': [70],\n",
       " 'Cary Grant': [71, 237, 252, 255, 285, 287, 315, 866],\n",
       " 'Eva Marie Saint': [71],\n",
       " 'James Mason': [71, 665],\n",
       " 'Soha Ali Khan': [72],\n",
       " 'Siddharth': [72],\n",
       " 'Peyman Moaadi': [73],\n",
       " 'Leila Hatami': [73],\n",
       " 'Sareh Bayat': [73],\n",
       " 'Orson Welles': [74, 105, 175],\n",
       " 'Joseph Cotten': [74, 105, 350],\n",
       " 'Dorothy Comingore': [74],\n",
       " 'Michael Biehn': [75, 281, 758],\n",
       " 'Carrie Henn': [75],\n",
       " 'Kim Novak': [76],\n",
       " 'Barbara Bel Geddes': [76],\n",
       " 'Min-sik Choi': [77, 478, 670],\n",
       " 'Ji-tae Yu': [77],\n",
       " 'Hye-jeong Kang': [77],\n",
       " 'James Woods': [78],\n",
       " 'Elizabeth McGovern': [78],\n",
       " 'Fred MacMurray': [79, 103],\n",
       " 'Barbara Stanwyck': [79],\n",
       " 'Edward G. Robinson': [79, 412],\n",
       " 'Tim Allen': [81, 117, 414],\n",
       " 'Joan Cusack': [81, 414],\n",
       " 'Mel Gibson': [82, 722, 744, 852],\n",
       " 'Sophie Marceau': [82],\n",
       " 'Patrick McGoohan': [82, 753],\n",
       " 'Gregory Peck': [83, 254, 687, 769],\n",
       " 'John Megna': [83],\n",
       " 'Frank Overton': [83],\n",
       " 'Ellen Burstyn': [84, 322],\n",
       " 'Jared Leto': [84, 346, 431, 724],\n",
       " 'Jennifer Connelly': [84, 170, 309, 583, 721, 762, 937],\n",
       " 'Toole': [85, 536],\n",
       " 'Alec Guinness': [85, 137],\n",
       " 'Anthony Quinn': [85, 215],\n",
       " 'Malcolm McDowell': [86],\n",
       " 'Patrick Magee': [86, 245],\n",
       " 'Michael Bates': [86],\n",
       " 'Lamberto Maggiorani': [87],\n",
       " 'Enzo Staiola': [87],\n",
       " 'Lianella Carell': [87],\n",
       " 'Edna Purviance': [88],\n",
       " 'Jackie Coogan': [88],\n",
       " 'Shah Rukh Khan': [89, 93, 373],\n",
       " 'Gayatri Joshi': [89],\n",
       " 'Kishori Balal': [89],\n",
       " 'Harvey Keitel': [90, 734, 785, 912, 931],\n",
       " 'Tim Roth': [90, 202, 756],\n",
       " 'Michael Madsen': [90, 354, 560],\n",
       " 'Jim Carrey': [91, 295, 930],\n",
       " 'Kate Winslet': [91, 547, 620, 645, 762, 768, 833, 903],\n",
       " 'Tom Wilkinson': [91, 893],\n",
       " 'Cybill Shepherd': [92, 228],\n",
       " 'Kajol': [93, 373],\n",
       " 'Amrish Puri': [93],\n",
       " 'Gene Kelly': [94],\n",
       " 'Connor': [94],\n",
       " 'Debbie Reynolds': [94],\n",
       " 'Bette Davis': [95, 207],\n",
       " 'Anne Baxter': [95, 445],\n",
       " 'George Sanders': [95, 149],\n",
       " 'Eijir\\\\xf4 T\\\\xf4no': [96],\n",
       " 'Tatsuya Nakadai': [96, 129],\n",
       " 'Paul Newman': [97, 154, 187, 230, 262],\n",
       " 'Robert Redford': [97, 187, 337, 813, 863],\n",
       " 'Robert Shaw': [97, 267, 896],\n",
       " 'Machiko Ky\\\\xf4': [98],\n",
       " 'Masayuki Mori': [98],\n",
       " 'F. Murray Abraham': [99, 214],\n",
       " 'Tom Hulce': [99, 723],\n",
       " 'Elizabeth Berridge': [99],\n",
       " 'Walter Huston': [100],\n",
       " 'Tim Holt': [100],\n",
       " 'Graham Chapman': [101, 190],\n",
       " 'John Cleese': [101, 190, 750, 793],\n",
       " 'Eric Idle': [101, 793],\n",
       " 'Matthew Modine': [102],\n",
       " 'R. Lee Ermey': [102],\n",
       " 'Onofrio': [102],\n",
       " 'Jack Lemmon': [103, 111, 316, 463],\n",
       " 'Shirley MacLaine': [103, 304, 944],\n",
       " 'Nobuo Kaneko': [104],\n",
       " 'ichi Himori': [104],\n",
       " 'Alida Valli': [105],\n",
       " 'Jason Statham': [106],\n",
       " 'Benicio Del Toro': [106, 596, 608, 694],\n",
       " 'Gian Maria Volont\\\\xe9': [107, 276],\n",
       " 'Brigitte Helm': [108],\n",
       " 'Alfred Abel': [108],\n",
       " 'Gustav Fr\\\\xf6hlich': [108],\n",
       " 'Saif Ali Khan': [109],\n",
       " 'Akshaye Khanna': [109],\n",
       " 'Keir Dullea': [110],\n",
       " 'Gary Lockwood': [110],\n",
       " 'William Sylvester': [110],\n",
       " 'Marilyn Monroe': [111],\n",
       " 'Tony Curtis': [111],\n",
       " 'Michael Caine': [113, 249, 370, 420, 668, 772, 941, 973],\n",
       " 'Ken Watanabe': [113, 390, 613],\n",
       " 'Diane Kruger': [114, 431],\n",
       " 'Eli Roth': [114],\n",
       " 'Michelle Pfeiffer': [115, 654, 705],\n",
       " 'Steven Bauer': [115],\n",
       " 'Jean Arthur': [116, 618],\n",
       " 'Claude Rains': [116, 237],\n",
       " 'Don Rickles': [117, 691],\n",
       " 'Sean Connery': [118, 383, 420, 556, 563, 748, 896, 941, 967],\n",
       " 'Alison Doody': [118],\n",
       " 'Gene Hackman': [119, 398, 493, 502, 712, 775],\n",
       " 'Steve McQueen': [120, 273, 491, 908],\n",
       " 'James Garner': [120, 397],\n",
       " 'Richard Attenborough': [120],\n",
       " 'Mads Mikkelsen': [121, 465, 770],\n",
       " 'Thomas Bo Larsen': [121, 242],\n",
       " 'Annika Wedderkopp': [121],\n",
       " 'Karl Malden': [122, 302],\n",
       " 'Buster Keaton': [123],\n",
       " 'Marion Mack': [123],\n",
       " 'Glen Cavender': [123],\n",
       " 'Cathy Moriarty': [124],\n",
       " 'Bruno Ganz': [125, 270, 768],\n",
       " 'Alexandra Maria Lara': [125],\n",
       " 'Ulrich Matthes': [125],\n",
       " 'Edward Asner': [126],\n",
       " 'Jordan Nagai': [126],\n",
       " 'John Ratzenberger': [126],\n",
       " 'Victor Sj\\\\xf6str\\\\xf6m': [127],\n",
       " 'Bibi Andersson': [127, 174],\n",
       " 'Ingrid Thulin': [127],\n",
       " 'Mack Swain': [128],\n",
       " 'Tom Murray': [128],\n",
       " 'Akira Terao': [129],\n",
       " 'Jinpachi Nezu': [129],\n",
       " 'Faye Dunaway': [130, 185, 410, 863],\n",
       " 'John Huston': [130],\n",
       " 'Hitoshi Takagi': [131],\n",
       " 'Noriko Hidaka': [131],\n",
       " 'Chika Sakamoto': [131],\n",
       " 'Spencer Tracy': [132, 472, 767],\n",
       " 'Burt Lancaster': [132, 528],\n",
       " 'Richard Widmark': [132],\n",
       " 'Ranbir Kapoor': [133],\n",
       " 'Priyanka Chopra': [133],\n",
       " 'Ileana': [133],\n",
       " 'Max von Sydow': [134, 322],\n",
       " 'Gunnar Bj\\\\xf6rnstrand': [134],\n",
       " 'Bengt Ekerot': [134],\n",
       " 'Val Kilmer': [135, 469, 675],\n",
       " 'Ivana Baquero': [136],\n",
       " 'Ariadna Gil': [136],\n",
       " 'Sergi L\\\\xf3pez': [136],\n",
       " 'Jack Hawkins': [137, 204, 526],\n",
       " 'Bruce Willis': [138, 191, 216, 264, 510, 699, 778, 906],\n",
       " 'Alan Rickman': [138, 841, 904],\n",
       " 'Bonnie Bedelia': [138],\n",
       " 'Robin Williams': [139, 342, 357, 579, 808],\n",
       " 'Ben Affleck': [139, 158, 544, 786],\n",
       " 'Yves Montand': [140],\n",
       " 'Charles Vanel': [140],\n",
       " 'Peter van Eyck': [140],\n",
       " 'Ricardo Dar\\\\xedn': [141, 413],\n",
       " 'Soledad Villamil': [141],\n",
       " 'Pablo Rago': [141],\n",
       " 'Gracy Singh': [142],\n",
       " 'Rachel Shelley': [142],\n",
       " 'Jonah Hill': [143, 710, 776],\n",
       " 'Margot Robbie': [143],\n",
       " 'Clark Gable': [144, 157],\n",
       " 'Claudette Colbert': [144],\n",
       " 'Walter Connolly': [144],\n",
       " 'Rutger Hauer': [145],\n",
       " 'Sean Young': [145],\n",
       " 'Nick Nolte': [146, 731],\n",
       " 'Joel Edgerton': [146, 955],\n",
       " 'Chieko Baish\\\\xf4': [147],\n",
       " 'Takuya Kimura': [147],\n",
       " 'Tatsuya Gash\\\\xfbin': [147],\n",
       " 'Anne Bancroft': [148, 298],\n",
       " 'Laurence Olivier': [149, 249, 385, 843],\n",
       " 'Joan Fontaine': [149],\n",
       " 'Lubna Azabal': [150],\n",
       " 'M\\\\xe9lissa D\\\\xe9sormeaux-Poulin': [150],\n",
       " 'Maxim Gaudette': [150],\n",
       " 'Jason Flemyng': [151],\n",
       " 'Dexter Fletcher': [151],\n",
       " 'Nick Moran': [151],\n",
       " 'Hugo Weaving': [152, 890],\n",
       " 'Rupert Graves': [152],\n",
       " 'Jeff Bridges': [153, 228, 662, 808],\n",
       " 'John Goodman': [153, 277, 356, 544, 600, 926],\n",
       " 'Julianne Moore': [153, 318, 422, 457, 611, 774, 810, 874, 934, 946],\n",
       " 'George Kennedy': [154],\n",
       " 'Strother Martin': [154],\n",
       " 'Dar\\\\xedo Grandinetti': [155, 326],\n",
       " 'Mar\\\\xeda Marull': [155],\n",
       " 'M\\\\xf3nica Villa': [155],\n",
       " 'Sharon Stone': [156, 885],\n",
       " 'Vivien Leigh': [157, 284],\n",
       " 'Thomas Mitchell': [157, 236],\n",
       " 'Rosamund Pike': [158],\n",
       " 'Neil Patrick Harris': [158],\n",
       " 'Fredric March': [159],\n",
       " 'Dana Andrews': [159, 210],\n",
       " 'Myrna Loy': [159],\n",
       " 'Jay Baruchel': [160, 381],\n",
       " 'Gerard Butler': [160, 381, 570, 969],\n",
       " 'Christopher Mintz-Plasse': [160, 710],\n",
       " 'Simone Signoret': [161],\n",
       " 'V\\\\xe9ra Clouzot': [161],\n",
       " 'Paul Meurisse': [161],\n",
       " 'Bee Vang': [162],\n",
       " 'Christopher Carley': [162],\n",
       " 'Daniel Br\\\\xfchl': [163, 584],\n",
       " 'Chris Hemsworth': [163],\n",
       " 'Olivia Wilde': [163],\n",
       " 'Emile Hirsch': [164, 700, 749],\n",
       " 'Vince Vaughn': [164],\n",
       " 'Catherine Keener': [164, 553, 961],\n",
       " 'Tae-hyun Cha': [165],\n",
       " 'Gianna Jun': [165],\n",
       " 'In-mun Kim': [165],\n",
       " 'Christopher Walken': [166, 340, 581],\n",
       " 'John Cazale': [166, 278, 398],\n",
       " 'Toni Collette': [167, 191, 454, 960],\n",
       " 'Philip Seymour Hoffman': [167, 624, 859, 952, 961],\n",
       " 'Eric Bana': [167, 720],\n",
       " 'Richard Gere': [168, 347, 648],\n",
       " 'Joan Allen': [168, 240, 567, 857, 870],\n",
       " 'Cary-Hiroyuki Tagawa': [168],\n",
       " 'Mary Astor': [169],\n",
       " 'Gladys George': [169],\n",
       " 'Ed Harris': [170, 295, 408, 424, 621, 758, 760, 883, 967],\n",
       " 'Ray Milland': [171],\n",
       " 'Robert Cummings': [171],\n",
       " 'Ewan McGregor': [172, 310, 606, 661, 679, 751],\n",
       " 'Ewen Bremner': [172, 971],\n",
       " 'Jonny Lee Miller': [172],\n",
       " 'Dong-gun Jang': [173],\n",
       " 'Bin Won': [173, 452],\n",
       " 'Eun-ju Lee': [173],\n",
       " 'Liv Ullmann': [174],\n",
       " 'Margaretha Krook': [174],\n",
       " 'Charlton Heston': [175, 204, 368, 445],\n",
       " 'William H. Macy': [176],\n",
       " 'Frances McDormand': [176, 493, 651, 746, 970],\n",
       " 'Steve Buscemi': [176, 919],\n",
       " 'Robert Downey Jr.': [177, 434, 675, 677, 726, 804, 858, 914],\n",
       " 'Chris Evans': [177, 517],\n",
       " 'Jean-Pierre L\\\\xe9aud': [178],\n",
       " 'Albert R\\\\xe9my': [178],\n",
       " 'Claire Maurier': [178],\n",
       " 'Cary Elwes': [179, 392, 655],\n",
       " 'Mandy Patinkin': [179],\n",
       " 'Don Cheadle': [180, 432, 831],\n",
       " 'Sophie Okonedo': [180],\n",
       " 'Alisa Freyndlikh': [181],\n",
       " 'Aleksandr Kaydanovskiy': [181],\n",
       " 'Anatoliy Solonitsyn': [181],\n",
       " 'Brahim Hadjadj': [182],\n",
       " 'Jean Martin': [182],\n",
       " 'Yacef Saadi': [182],\n",
       " 'Predrag Manojlovic': [183],\n",
       " 'Lazar Ristovski': [183],\n",
       " 'Mirjana Jokovic': [183],\n",
       " 'Bertil Guve': [184],\n",
       " 'Pernilla Allwin': [184],\n",
       " 'Kristina Adolphson': [184],\n",
       " 'Peter Finch': [185],\n",
       " 'Kurt Russell': [186, 469, 671, 854],\n",
       " 'Wilford Brimley': [186],\n",
       " 'Keith David': [186],\n",
       " 'Katharine Ross': [187, 298],\n",
       " 'Jane Darwell': [188],\n",
       " 'John Carradine': [188],\n",
       " 'Bajram Severdzan': [189],\n",
       " 'Srdjan Todorovic': [189],\n",
       " 'Branka Katic': [189],\n",
       " 'Michael Palin': [190],\n",
       " 'Haley Joel Osment': [191, 772],\n",
       " 'Albert Brooks': [192],\n",
       " 'Ellen DeGeneres': [192],\n",
       " 'Alexander Gould': [192],\n",
       " 'Sumi Shimamoto': [193],\n",
       " 'Mahito Tsujimura': [193],\n",
       " 'Hisako Ky\\\\xf4da': [193],\n",
       " 'Colin Firth': [194, 274, 774],\n",
       " 'Taron Egerton': [194],\n",
       " 'Charlie Sheen': [195, 978],\n",
       " 'Tom Berenger': [195],\n",
       " 'Willem Dafoe': [195, 440, 493, 734, 968],\n",
       " 'Chris Pratt': [196, 494, 955],\n",
       " 'Vin Diesel': [196, 301],\n",
       " 'Bradley Cooper': [196, 475, 519, 965],\n",
       " 'Daniel Day-Lewis': [197, 213, 450, 509, 828, 964],\n",
       " 'Pete Postlethwaite': [197],\n",
       " 'Alison Crosbie': [197],\n",
       " 'David Carradine': [198, 354],\n",
       " 'Daryl Hannah': [198],\n",
       " 'Tommy Lee Jones': [199, 539, 900],\n",
       " 'Javier Bardem': [199, 260, 568, 895],\n",
       " 'Josh Brolin': [199, 537, 700],\n",
       " 'Alain Delon': [200],\n",
       " 'Nathalie Delon': [200],\n",
       " 'Fran\\\\xe7ois P\\\\xe9rier': [200],\n",
       " 'Chiwetel Ejiofor': [201, 366, 422, 500],\n",
       " 'Michael Kenneth Williams': [201],\n",
       " 'Michael Fassbender': [201, 532],\n",
       " 'Pruitt Taylor Vince': [202],\n",
       " 'Bill Nunn': [202],\n",
       " 'Marcello Mastroianni': [203, 231],\n",
       " 'Anouk Aim\\\\xe9e': [203, 231],\n",
       " 'Stephen Boyd': [204],\n",
       " 'Emilio Echevarr\\\\xeda': [205],\n",
       " 'Gael Garc\\\\xeda Bernal': [205, 479, 695, 901, 915],\n",
       " 'Goya Toledo': [205],\n",
       " 'Wil Wheaton': [206],\n",
       " 'River Phoenix': [206],\n",
       " 'Corey Feldman': [206],\n",
       " 'Joan Crawford': [207],\n",
       " 'Victor Buono': [207],\n",
       " 'Woody Allen': [208, 314, 319, 535, 956, 959],\n",
       " 'Diane Keaton': [208, 319, 711, 956],\n",
       " 'Tony Roberts': [208],\n",
       " 'Benedict Cumberbatch': [209],\n",
       " 'Keira Knightley': [209, 525, 530, 917],\n",
       " 'Matthew Goode': [209, 774],\n",
       " 'Gene Tierney': [210],\n",
       " 'Clifton Webb': [210],\n",
       " 'Masahiro Motoki': [211],\n",
       " 'Ry\\\\xf4ko Hirosue': [211],\n",
       " 'Tsutomu Yamazaki': [211],\n",
       " 'Andy Lau': [212, 809],\n",
       " 'Tony Chiu Wai Leung': [212, 232, 250, 403, 409, 755, 910],\n",
       " 'Anthony Chau-Sang Wong': [212],\n",
       " 'Paul Dano': [213],\n",
       " 'Ciar\\\\xe1n Hinds': [213, 382],\n",
       " 'Mathieu Amalric': [214, 286],\n",
       " 'Giulietta Masina': [215],\n",
       " 'Richard Basehart': [215],\n",
       " 'Mickey Rourke': [216, 406],\n",
       " 'Clive Owen': [216, 422, 697],\n",
       " 'Kang-ho Song': [217, 616],\n",
       " 'Sang-kyung Kim': [217],\n",
       " 'Roe-ha Kim': [217],\n",
       " 'Jake Gyllenhaal': [218, 290, 407, 514, 628, 677, 681, 894],\n",
       " 'Jena Malone': [218],\n",
       " 'Mary McDonnell': [218, 339],\n",
       " 'Elizabeth Taylor': [219, 230],\n",
       " 'Richard Burton': [219, 534, 649],\n",
       " 'George Segal': [219],\n",
       " 'John Gielgud': [220],\n",
       " 'Candice Bergen': [220],\n",
       " 'Natalya Bondarchuk': [221],\n",
       " 'Donatas Banionis': [221],\n",
       " 'J\\\\xfcri J\\\\xe4rvet': [221],\n",
       " 'Daniel Radcliffe': [222, 551, 642, 727, 891, 909, 932],\n",
       " 'Emma Watson': [222, 279, 551, 642, 727, 891, 932],\n",
       " 'Rupert Grint': [222, 551, 642, 727, 891, 909, 932],\n",
       " 'Harry Dean Stanton': [223],\n",
       " 'Nastassja Kinski': [223],\n",
       " 'Dean Stockwell': [223],\n",
       " 'Judy Garland': [224],\n",
       " 'Frank Morgan': [224],\n",
       " 'Ray Bolger': [224],\n",
       " 'Seung-yeon Lee': [225],\n",
       " 'Hyun-kyoon Lee': [225],\n",
       " 'Hyuk-ho Kwon': [225],\n",
       " 'Ellar Coltrane': [226],\n",
       " 'Patricia Arquette': [226, 369, 676],\n",
       " 'Ethan Hawke': [226, 238, 283, 342, 372, 499, 636, 724, 939],\n",
       " 'Hilary Swank': [227, 788, 876],\n",
       " 'Timothy Bottoms': [228],\n",
       " 'Farley Granger': [229, 297],\n",
       " 'Robert Walker': [229],\n",
       " 'Ruth Roman': [229],\n",
       " 'Burl Ives': [230],\n",
       " 'Anita Ekberg': [231],\n",
       " 'Brigitte Lin': [232],\n",
       " 'Takeshi Kaneshiro': [232, 809],\n",
       " 'Robert Mitchum': [233],\n",
       " 'Shelley Winters': [233, 665],\n",
       " 'Lillian Gish': [233],\n",
       " 'Vincent Cassel': [234, 331],\n",
       " 'Hubert Kound\\\\xe9': [234, 879],\n",
       " 'Sa\\\\xefd Taghmaoui': [234],\n",
       " 'Donnie Yen': [235, 765],\n",
       " 'Simon Yam': [235],\n",
       " 'Siu-Wong Fan': [235],\n",
       " 'Gary Cooper': [236],\n",
       " 'Julie Delpy': [238, 283, 363, 372, 646],\n",
       " 'Andrea Eckert': [238],\n",
       " 'Wagner Moura': [239, 261],\n",
       " 'Irandhir Santos': [239],\n",
       " 'Andr\\\\xe9 Ramiro': [239, 261],\n",
       " '\\\\xc9dgar Ram\\\\xedrez': [240],\n",
       " 'Anna Paquin': [241],\n",
       " 'James Van Der Beek': [241],\n",
       " 'Cloris Leachman': [241],\n",
       " 'Ulrich Thomsen': [242, 465],\n",
       " 'Henning Moritzen': [242],\n",
       " 'Ki-duk Kim': [243],\n",
       " 'Yeong-su Oh': [243],\n",
       " 'Jong-ho Kim': [243],\n",
       " 'Emily Mortimer': [244, 635],\n",
       " 'Mark Ruffalo': [244, 677, 917],\n",
       " 'Neal': [245, 941],\n",
       " 'Marisa Berenson': [245],\n",
       " 'Don Taylor': [246],\n",
       " 'Otto Preminger': [246],\n",
       " 'Ir\\\\xe8ne Jacob': [247],\n",
       " 'Jean-Louis Trintignant': [247, 477],\n",
       " 'Fr\\\\xe9d\\\\xe9rique Feder': [247],\n",
       " 'Patrick Stewart': [248, 812, 871, 954],\n",
       " 'Alec Cawthorne': [249],\n",
       " 'Maggie Cheung': [250, 403],\n",
       " 'Ping Lam Siu': [250],\n",
       " 'John Wayne': [251, 263, 333, 419, 534, 936],\n",
       " 'Priscilla Lane': [252],\n",
       " 'Raymond Massey': [252, 307],\n",
       " 'Lauren Bacall': [253, 300, 412],\n",
       " 'John Ridgely': [253],\n",
       " 'Audrey Hepburn': [254, 315, 444, 546, 582],\n",
       " 'Eddie Albert': [254],\n",
       " 'Katharine Hepburn': [255, 285, 393, 472],\n",
       " 'Nozomu Sasaki': [256],\n",
       " 'Mami Koyama': [256],\n",
       " 'Mitsuo Iwata': [256],\n",
       " 'Lee Remick': [257, 769],\n",
       " 'Ben Gazzara': [257, 878],\n",
       " 'Werner Krauss': [258],\n",
       " 'Conrad Veidt': [258],\n",
       " 'Friedrich Feher': [258],\n",
       " 'Emma Stone': [259, 615],\n",
       " 'Viola Davis': [259, 290],\n",
       " 'Octavia Spencer': [259, 892],\n",
       " 'Bel\\\\xe9n Rueda': [260, 861],\n",
       " 'Lola Due\\\\xf1as': [260, 741],\n",
       " 'Caio Junqueira': [261],\n",
       " 'Jackie Gleason': [262],\n",
       " 'Piper Laurie': [262],\n",
       " 'Dean Martin': [263],\n",
       " 'Ricky Nelson': [263],\n",
       " 'Madeleine Stowe': [264, 509],\n",
       " 'Josephine Hull': [265],\n",
       " 'Peggy Dow': [265],\n",
       " 'Peter Billingsley': [266],\n",
       " 'Melinda Dillon': [266],\n",
       " 'Darren McGavin': [266],\n",
       " 'Roy Scheider': [267, 502, 843],\n",
       " 'Richard Dreyfuss': [267, 634, 850],\n",
       " 'Iko Uwais': [268, 740],\n",
       " 'Yayan Ruhian': [268],\n",
       " 'Arifin Putra': [268],\n",
       " 'Sylvester Stallone': [269, 685],\n",
       " 'Talia Shire': [269],\n",
       " 'Burt Young': [269],\n",
       " 'Solveig Dommartin': [270],\n",
       " 'Otto Sander': [270],\n",
       " 'Johnny Depp': [271, 379, 418, 547, 560, 562, 594, 608, 725, 869, 904, 951],\n",
       " 'Geoffrey Rush': [271, 274, 474, 626, 777, 829, 924],\n",
       " 'Coleen Gray': [272],\n",
       " 'Vince Edwards': [272],\n",
       " 'Dustin Hoffman': [273, 298, 325, 337, 387, 575, 696, 823, 841, 843, 974],\n",
       " 'Victor Jory': [273],\n",
       " 'Bill Murray': [275, 512, 516, 543, 588],\n",
       " 'Andie MacDowell': [275, 611],\n",
       " 'Chris Elliott': [275],\n",
       " 'Marianne Koch': [276],\n",
       " 'Billy Crystal': [277, 719],\n",
       " 'Mary Gibbs': [277],\n",
       " 'Penelope Allen': [278],\n",
       " 'Logan Lerman': [279, 683],\n",
       " 'Ezra Miller': [279, 872],\n",
       " 'Gene Wilder': [280, 497, 545, 641],\n",
       " 'Madeline Kahn': [280],\n",
       " 'Marty Feldman': [280],\n",
       " 'Ruth Gordon': [282, 364],\n",
       " 'Bud Cort': [282],\n",
       " 'Vivian Pickles': [282],\n",
       " 'Vernon Dobtcheff': [283],\n",
       " 'Kim Hunter': [284, 368],\n",
       " 'Charles Ruggles': [285],\n",
       " 'Emmanuelle Seigner': [286],\n",
       " 'Marie-Jos\\\\xe9e Croze': [286, 720, 802],\n",
       " 'Rosalind Russell': [287],\n",
       " 'Ralph Bellamy': [287, 921],\n",
       " 'Billy Bob Thornton': [288, 746, 846],\n",
       " 'Dwight Yoakam': [288, 900],\n",
       " 'J.T. Walsh': [288],\n",
       " 'Lew Ayres': [289],\n",
       " 'Louis Wolheim': [289],\n",
       " 'John Wray': [289],\n",
       " 'Vladimir Garin': [291],\n",
       " 'Ivan Dobronravov': [291],\n",
       " 'Konstantin Lavronenko': [291],\n",
       " 'Frank Sinatra': [292],\n",
       " 'Laurence Harvey': [292],\n",
       " 'Groucho Marx': [293],\n",
       " 'Harpo Marx': [293],\n",
       " 'Chico Marx': [293],\n",
       " 'Hara': [294, 303, 451, 867],\n",
       " 'Robby Benson': [294],\n",
       " 'Richard White': [294],\n",
       " 'Laura Linney': [295, 648, 833],\n",
       " 'Ernest Borgnine': [296, 531],\n",
       " 'Robert Ryan': [296, 534],\n",
       " 'John Dall': [297],\n",
       " 'Sam Neill': [299, 785],\n",
       " 'Laura Dern': [299, 514, 865],\n",
       " 'Jeff Goldblum': [299, 860],\n",
       " 'Nicole Kidman': [300, 679, 736, 810],\n",
       " 'Paul Bettany': [300, 976],\n",
       " 'Paul Walker': [301, 918],\n",
       " 'Dwayne Johnson': [301],\n",
       " 'Stephen Young': [302],\n",
       " 'Danny Elfman': [303],\n",
       " 'Chris Sarandon': [303],\n",
       " 'Melvyn Douglas': [304],\n",
       " 'Chiara Mastroianni': [305],\n",
       " 'Catherine Deneuve': [305, 324, 521, 523],\n",
       " 'Gena Rowlands': [305, 397, 527],\n",
       " 'Rob Reiner': [306],\n",
       " 'Michael McKean': [306],\n",
       " 'Christopher Guest': [306],\n",
       " 'James Dean': [307, 511],\n",
       " 'Julie Harris': [307],\n",
       " 'Bob Geldof': [308],\n",
       " 'Christine Hargreaves': [308],\n",
       " 'James Laurenson': [308],\n",
       " 'Djimon Hounsou': [309, 507],\n",
       " 'Albert Finney': [310, 441],\n",
       " 'Billy Crudup': [310, 396],\n",
       " 'Dev Patel': [311],\n",
       " 'Freida Pinto': [311, 787],\n",
       " 'Saurabh Shukla': [311],\n",
       " 'Chris Pine': [312, 488],\n",
       " 'Zachary Quinto': [312, 488],\n",
       " 'Simon Pegg': [312, 352, 458],\n",
       " 'Richard Farnsworth': [313, 496],\n",
       " 'Sissy Spacek': [313, 425, 893],\n",
       " 'Jane Galloway Heitz': [313],\n",
       " 'Martin Landau': [314, 418],\n",
       " 'Bill Bernstein': [314],\n",
       " 'Walter Matthau': [315],\n",
       " 'Kevin Costner': [316, 339, 383, 800, 865, 884],\n",
       " 'David Emge': [317],\n",
       " 'Ken Foree': [317],\n",
       " 'Scott H. Reiniger': [317],\n",
       " 'Tom Cruise': [318, 325, 391, 613, 686, 716, 779, 797],\n",
       " 'Jason Robards': [318],\n",
       " 'Mariel Hemingway': [319],\n",
       " 'Fernanda Montenegro': [320],\n",
       " 'Vin\\\\xedcius de Oliveira': [320],\n",
       " 'Mar\\\\xedlia P\\\\xeara': [320],\n",
       " 'Jonathan Pryce': [321],\n",
       " 'Kim Greist': [321],\n",
       " 'Linda Blair': [322],\n",
       " 'Amy Adams': [323, 446, 859],\n",
       " 'Bj\\\\xf6rk': [324],\n",
       " 'Valeria Golino': [325],\n",
       " 'Rosario Flores': [326],\n",
       " 'Javier C\\\\xe1mara': [326, 915],\n",
       " 'Errol Flynn': [327],\n",
       " 'Olivia de Havilland': [327],\n",
       " 'Basil Rathbone': [327],\n",
       " 'Klaus Kinski': [328],\n",
       " 'Ruy Guerra': [328],\n",
       " 'Helena Rojo': [328],\n",
       " 'Sidney Poitier': [329, 472],\n",
       " 'Rod Steiger': [329],\n",
       " 'Warren Oates': [329, 425],\n",
       " 'Max Schreck': [330],\n",
       " 'Greta Schr\\\\xf6der': [330],\n",
       " 'Ruth Landshoff': [330],\n",
       " 'Mila Kunis': [331],\n",
       " 'Brad Garrett': [332],\n",
       " 'Lou Romano': [332],\n",
       " 'Patton Oswalt': [332],\n",
       " 'Jeffrey Hunter': [333],\n",
       " 'Brie Larson': [334],\n",
       " 'Frantz Turner': [334],\n",
       " 'John Gallagher Jr.': [334],\n",
       " 'Omar Sharif': [335],\n",
       " 'Julie Christie': [335, 476, 547],\n",
       " 'Geraldine Chaplin': [335, 804],\n",
       " 'Suraj Sharma': [336],\n",
       " 'Irrfan Khan': [336],\n",
       " 'Adil Hussain': [336],\n",
       " 'Jack Warden': [337],\n",
       " 'Aleksandr Antonov': [338],\n",
       " 'Vladimir Barsky': [338],\n",
       " 'Grigori Aleksandrov': [338],\n",
       " 'Graham Greene': [339],\n",
       " 'Ren\\\\xe9e Zellweger': [341],\n",
       " 'Craig Bierko': [341],\n",
       " 'Robert Sean Leonard': [342],\n",
       " 'Atsuko Tanaka': [343],\n",
       " 'Iemasa Kayumi': [343],\n",
       " 'Akio \\\\xd4tsuka': [343],\n",
       " 'Birol \\\\xdcnel': [344],\n",
       " 'Sibel Kekilli': [344],\n",
       " 'G\\\\xfcven Kira\\\\xe7': [344],\n",
       " 'Branko Djuric': [345],\n",
       " 'Rene Bitorajac': [345],\n",
       " 'Filip Sovagovic': [345],\n",
       " 'Jennifer Garner': [346, 806],\n",
       " 'Brooke Adams': [347],\n",
       " 'Sam Shepard': [347, 424, 807],\n",
       " 'Julie Andrews': [348, 557],\n",
       " 'Christopher Plummer': [348, 420, 423, 466],\n",
       " 'Eleanor Parker': [348],\n",
       " 'Sharlto Copley': [349],\n",
       " 'David James': [349],\n",
       " 'Jason Cope': [349],\n",
       " 'Teresa Wright': [350],\n",
       " 'Macdonald Carey': [350],\n",
       " 'Colin Clive': [351, 405],\n",
       " 'Mae Clarke': [351],\n",
       " 'Boris Karloff': [351, 405],\n",
       " 'Nick Frost': [352, 458, 952],\n",
       " 'Kate Ashfield': [352],\n",
       " 'Duane Jones': [353],\n",
       " 'Dea': [353],\n",
       " 'Karl Hardman': [353],\n",
       " 'Timothy Spall': [355],\n",
       " 'Brenda Blethyn': [355, 525, 530],\n",
       " 'Phyllis Logan': [355],\n",
       " 'Jean Dujardin': [356],\n",
       " 'B\\\\xe9r\\\\xe9nice Bejo': [356, 428],\n",
       " 'Scott Weinger': [357],\n",
       " 'Linda Larkin': [357],\n",
       " 'Margaret Lockwood': [358],\n",
       " 'Michael Redgrave': [358],\n",
       " 'Paul Lukas': [358],\n",
       " 'Martin Freeman': [359, 362, 458, 814],\n",
       " 'Richard Armitage': [359, 362, 814],\n",
       " 'K\\\\xe5re Hedebrant': [360],\n",
       " 'Lina Leandersson': [360],\n",
       " 'Per Ragnar': [360],\n",
       " 'Topol': [361],\n",
       " 'Norma Crane': [361],\n",
       " 'Leonard Frey': [361],\n",
       " 'Juliette Binoche': [363, 968],\n",
       " 'Zbigniew Zamachowski': [363, 646],\n",
       " 'Mia Farrow': [364, 370, 535, 595],\n",
       " 'John Cassavetes': [364],\n",
       " 'Sean Penn': [365, 436, 558, 596, 700, 705, 731, 784],\n",
       " 'Kevin Bacon': [365, 609, 754, 826],\n",
       " 'Nathan Fillion': [366],\n",
       " 'Gina Torres': [366],\n",
       " 'Magali No\\\\xebl': [367],\n",
       " 'Bruno Zanin': [367],\n",
       " 'Pupella Maggio': [367],\n",
       " 'Roddy McDowall': [368],\n",
       " 'Christian Slater': [369, 556],\n",
       " 'Dennis Hopper': [369, 506, 775],\n",
       " 'Dianne Wiest': [370, 379, 839],\n",
       " 'Sam Rockwell': [371],\n",
       " 'Dominique McElligott': [371],\n",
       " 'Seamus Davey-Fitzpatrick': [372],\n",
       " 'Sheetal Menon': [373],\n",
       " 'Donnell': [374],\n",
       " 'James Rebhorn': [374],\n",
       " 'Naomi Watts': [375, 596, 666, 751, 845],\n",
       " 'Laura Harring': [375],\n",
       " 'Justin Theroux': [375, 732],\n",
       " 'Fay Wray': [376],\n",
       " 'Robert Armstrong': [376],\n",
       " 'Bruce Cabot': [376],\n",
       " 'Shailene Woodley': [377],\n",
       " 'Ansel Elgort': [377],\n",
       " 'Nat Wolff': [377],\n",
       " 'Craig T. Nelson': [378, 977],\n",
       " 'Holly Hunter': [378, 785, 942],\n",
       " 'Winona Ryder': [379, 527, 905],\n",
       " 'Daniel Craig': [380, 466, 568, 720],\n",
       " 'Eva Green': [380],\n",
       " 'Judi Dench': [380, 682, 925],\n",
       " 'Cate Blanchett': [381, 508, 625, 829, 888, 901, 925],\n",
       " 'Colin Farrell': [382, 686],\n",
       " 'Brendan Gleeson': [382, 897],\n",
       " 'Jean-Paul Belmondo': [384],\n",
       " 'Jean Seberg': [384],\n",
       " 'Daniel Boulanger': [384],\n",
       " 'Jean Simmons': [385],\n",
       " 'Eli Marienthal': [386],\n",
       " 'Harry Connick Jr.': [386],\n",
       " 'Jennifer Aniston': [386, 480],\n",
       " 'Jon Voight': [387, 576],\n",
       " 'Sylvia Miles': [387],\n",
       " 'John Belushi': [388, 723],\n",
       " 'Dan Aykroyd': [388, 516, 921, 962],\n",
       " 'Cab Calloway': [388],\n",
       " 'Wallace Ford': [389],\n",
       " 'Leila Hyams': [389],\n",
       " 'Olga Baclanova': [389],\n",
       " 'Kazunari Ninomiya': [390],\n",
       " 'Tsuyoshi Ihara': [390],\n",
       " 'Emily Blunt': [391, 906],\n",
       " 'Bill Paxton': [391, 407, 754, 846],\n",
       " 'Denzel Washington': [392, 500, 581, 585, 630, 636, 644, 697, 782, 818],\n",
       " 'Robert Morley': [393],\n",
       " 'Michael Keaton': [394, 801, 933],\n",
       " 'Zach Galifianakis': [394, 519],\n",
       " 'Ryan Potter': [395],\n",
       " 'Scott Adsit': [395],\n",
       " 'Jamie Chung': [395],\n",
       " 'Patrick Fugit': [396],\n",
       " 'Kate Hudson': [396],\n",
       " 'Rachel McAdams': [397, 505, 667, 726],\n",
       " 'Allen Garfield': [398],\n",
       " 'Emilio Estevez': [399],\n",
       " 'Judd Nelson': [399],\n",
       " 'Molly Ringwald': [399],\n",
       " 'Will Smith': [400, 689],\n",
       " 'Thandie Newton': [400, 432],\n",
       " 'Jaden Smith': [400],\n",
       " 'Yun-Fat Chow': [401, 409, 437],\n",
       " 'Danny Lee': [401],\n",
       " 'Sally Yeh': [401],\n",
       " 'Glen Hansard': [402],\n",
       " 'Mark\\\\xe9ta Irglov\\\\xe1': [402],\n",
       " 'Hugh Walsh': [402],\n",
       " 'Jet Li': [403, 653],\n",
       " 'Emma Thompson': [404, 645, 696, 817, 940],\n",
       " 'John Haycraft': [404],\n",
       " 'Elsa Lanchester': [405],\n",
       " 'Marisa Tomei': [406, 880],\n",
       " 'Evan Rachel Wood': [406, 923],\n",
       " 'Rene Russo': [407],\n",
       " 'Sandra Bullock': [408, 432, 627],\n",
       " 'George Clooney': [408, 512, 522, 577, 822, 916],\n",
       " 'Teresa Mo': [409],\n",
       " 'Warren Beatty': [410],\n",
       " 'Michael J. Pollard': [410],\n",
       " 'Franka Potente': [411, 533, 567, 725],\n",
       " 'Chris Cooper': [411, 514, 602],\n",
       " 'Gast\\\\xf3n Pauls': [413],\n",
       " 'Leticia Br\\\\xe9dice': [413],\n",
       " 'Sam Waterston': [415],\n",
       " 'Haing S. Ngor': [415],\n",
       " 'John Malkovich': [415, 504, 654, 790],\n",
       " 'Cecilia Roth': [416],\n",
       " 'Marisa Paredes': [416, 887],\n",
       " 'Candela Pe\\\\xf1a': [416],\n",
       " 'Beau Billingslea': [417],\n",
       " 'Melissa Fahn': [417],\n",
       " 'Nicholas Guest': [417],\n",
       " 'Sarah Jessica Parker': [418],\n",
       " 'Claire Trevor': [419],\n",
       " 'Andy Devine': [419],\n",
       " 'Sondra Locke': [421],\n",
       " 'Chief Dan George': [421],\n",
       " 'Scott Glenn': [424, 636, 748],\n",
       " 'Tahar Rahim': [426, 428],\n",
       " 'Niels Arestrup': [426],\n",
       " 'Adel Bencherif': [426],\n",
       " 'Anamaria Marinca': [427],\n",
       " 'Vlad Ivanov': [427],\n",
       " 'Laura Vasiliu': [427],\n",
       " 'Ali Mosaffa': [428],\n",
       " 'Lee Pace': [429],\n",
       " 'Catinca Untaru': [429],\n",
       " 'Justine Waddell': [429],\n",
       " 'Emily Watson': [430, 777, 815, 907],\n",
       " 'Stellan Skarsg\\\\xe5rd': [430],\n",
       " 'Katrin Cartlidge': [430],\n",
       " 'Sarah Polley': [431],\n",
       " 'Sam Worthington': [433],\n",
       " 'Zoe Saldana': [433, 488],\n",
       " 'Gwyneth Paltrow': [434, 712],\n",
       " 'Terrence Howard': [434],\n",
       " 'Danny Aiello': [435, 595, 819],\n",
       " 'Ossie Davis': [435],\n",
       " 'Ruby Dee': [435],\n",
       " 'Penelope Ann Miller': [436],\n",
       " 'Michelle Yeoh': [437],\n",
       " 'Ziyi Zhang': [437, 809, 910],\n",
       " 'Oksana Akinshina': [438],\n",
       " 'Artyom Bogucharskiy': [438],\n",
       " 'Pavel Ponomaryov': [438],\n",
       " 'G\\\\xe9rard Jugnot': [439],\n",
       " 'Fran\\\\xe7ois Berl\\\\xe9and': [439],\n",
       " 'Jean-Baptiste Maunier': [439],\n",
       " 'Sean Patrick Flanery': [440],\n",
       " 'Norman Reedus': [440],\n",
       " 'John Turturro': [441, 522, 600, 849],\n",
       " 'Reese Witherspoon': [442],\n",
       " 'Ginnifer Goodwin': [442],\n",
       " 'Mike Myers': [443],\n",
       " 'Eddie Murphy': [443, 882, 921],\n",
       " 'Cameron Diaz': [443, 553, 828, 958],\n",
       " 'Rex Harrison': [444],\n",
       " 'Stanley Holloway': [444],\n",
       " 'Yul Brynner': [445, 491],\n",
       " 'Mark Wahlberg': [446, 457, 749],\n",
       " 'Barkhad Abdi': [447],\n",
       " 'Barkhad Abdirahman': [447],\n",
       " 'Liza Minnelli': [448],\n",
       " 'Michael York': [448],\n",
       " 'Helmut Griem': [448],\n",
       " 'Donald Pleasence': [449],\n",
       " 'Jamie Lee Curtis': [449, 750],\n",
       " 'Tony Moran': [449],\n",
       " 'Brenda Fricker': [450],\n",
       " 'Alison Whelan': [450],\n",
       " 'Edmund Gwenn': [451],\n",
       " 'John Payne': [451],\n",
       " 'Sae-ron Kim': [452],\n",
       " 'Tae-hoon Kim': [452],\n",
       " 'Riisa Naka': [453],\n",
       " 'Takuya Ishida': [453],\n",
       " 'Mitsutaka Itakura': [453],\n",
       " 'Steve Carell': [454, 617, 835, 934, 960],\n",
       " 'Greg Kinnear': [454, 578],\n",
       " 'Maggie Grace': [455],\n",
       " 'Famke Janssen': [455],\n",
       " 'L\\\\xe9a Seydoux': [456],\n",
       " 'Ad\\\\xe8le Exarchopoulos': [456],\n",
       " 'Salim Kechiouche': [456],\n",
       " 'Burt Reynolds': [457, 576],\n",
       " ...}"
      ]
     },
     "execution_count": 660,
     "metadata": {},
     "output_type": "execute_result"
    }
   ],
   "source": [
    "actors_dict\n"
   ]
  },
  {
   "cell_type": "code",
   "execution_count": 683,
   "metadata": {},
   "outputs": [],
   "source": [
    "def common_movies(actor1, actor2):\n",
    "    try:\n",
    "        a1_movies = actors_dict[actor1]\n",
    "        a2_movies = actors_dict[actor2]\n",
    "    except:\n",
    "        return(\"Invalid selection\")\n",
    "    \n",
    "    common = set(a1_movies) & set(a2_movies)\n",
    "    \n",
    "    if len(common) == 0:\n",
    "        return(\"No movies in common\")\n",
    "    \n",
    "    else:\n",
    "        common_list = list(common)\n",
    "        return movies[movies.index.isin(common_list)]\n",
    "    "
   ]
  },
  {
   "cell_type": "code",
   "execution_count": 687,
   "metadata": {},
   "outputs": [
    {
     "data": {
      "text/html": [
       "<div>\n",
       "<style scoped>\n",
       "    .dataframe tbody tr th:only-of-type {\n",
       "        vertical-align: middle;\n",
       "    }\n",
       "\n",
       "    .dataframe tbody tr th {\n",
       "        vertical-align: top;\n",
       "    }\n",
       "\n",
       "    .dataframe thead th {\n",
       "        text-align: right;\n",
       "    }\n",
       "</style>\n",
       "<table border=\"1\" class=\"dataframe\">\n",
       "  <thead>\n",
       "    <tr style=\"text-align: right;\">\n",
       "      <th></th>\n",
       "      <th>star_rating</th>\n",
       "      <th>title</th>\n",
       "      <th>content_rating</th>\n",
       "      <th>genre</th>\n",
       "      <th>duration</th>\n",
       "      <th>actors_list</th>\n",
       "    </tr>\n",
       "  </thead>\n",
       "  <tbody>\n",
       "    <tr>\n",
       "      <th>2</th>\n",
       "      <td>9.1</td>\n",
       "      <td>The Godfather: Part II</td>\n",
       "      <td>R</td>\n",
       "      <td>Crime</td>\n",
       "      <td>200</td>\n",
       "      <td>[u'Al Pacino', u'Robert De Niro', u'Robert Duv...</td>\n",
       "    </tr>\n",
       "    <tr>\n",
       "      <th>135</th>\n",
       "      <td>8.3</td>\n",
       "      <td>Heat</td>\n",
       "      <td>R</td>\n",
       "      <td>Action</td>\n",
       "      <td>170</td>\n",
       "      <td>[u'Al Pacino', u'Robert De Niro', u'Val Kilmer']</td>\n",
       "    </tr>\n",
       "  </tbody>\n",
       "</table>\n",
       "</div>"
      ],
      "text/plain": [
       "     star_rating                   title content_rating   genre  duration  \\\n",
       "2            9.1  The Godfather: Part II              R   Crime       200   \n",
       "135          8.3                    Heat              R  Action       170   \n",
       "\n",
       "                                           actors_list  \n",
       "2    [u'Al Pacino', u'Robert De Niro', u'Robert Duv...  \n",
       "135   [u'Al Pacino', u'Robert De Niro', u'Val Kilmer']  "
      ]
     },
     "execution_count": 687,
     "metadata": {},
     "output_type": "execute_result"
    }
   ],
   "source": [
    "common_movies('Al Pacino', 'Robert De Niro')"
   ]
  }
 ],
 "metadata": {
  "kernelspec": {
   "display_name": "Python 3",
   "language": "python",
   "name": "python3"
  },
  "language_info": {
   "codemirror_mode": {
    "name": "ipython",
    "version": 3
   },
   "file_extension": ".py",
   "mimetype": "text/x-python",
   "name": "python",
   "nbconvert_exporter": "python",
   "pygments_lexer": "ipython3",
   "version": "3.8.3"
  }
 },
 "nbformat": 4,
 "nbformat_minor": 1
}
